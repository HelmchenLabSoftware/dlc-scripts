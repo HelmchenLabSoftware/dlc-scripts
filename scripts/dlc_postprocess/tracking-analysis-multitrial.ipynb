{
 "cells": [
  {
   "cell_type": "markdown",
   "metadata": {},
   "source": [
    "# DLC Postprocess Library\n",
    "\n",
    "Run after training has been performed, and at least 1 video has been analyzed"
   ]
  },
  {
   "cell_type": "code",
   "execution_count": null,
   "metadata": {},
   "outputs": [],
   "source": [
    "import os\n",
    "\n",
    "from IPython.display import display, HTML\n",
    "\n",
    "# Append base directory\n",
    "import os,sys,inspect\n",
    "thispath = os.path.dirname(os.path.abspath(inspect.getfile(inspect.currentframe())))\n",
    "parpath = os.path.dirname(thispath)\n",
    "sys.path.append(parpath)\n",
    "print(\"Appended script directory\", parpath)\n",
    "\n",
    "%load_ext autoreload\n",
    "%autoreload 2\n",
    "\n",
    "from lib.qt_wrapper import gui_fname, gui_fnames, gui_fpath\n",
    "from lib.parse_dlc_results import dlc_csv_composite_crawl, dlc_fix_old_h5\n",
    "# from lib.plots import plotStatistics\n",
    "from lib.plots_miltitrial import SessionPostprocess"
   ]
  },
  {
   "cell_type": "markdown",
   "metadata": {},
   "source": [
    "# Merge trial-based DLC results into session-based\n",
    "\n",
    "1. Provide root directory for videos and tracking\n",
    "2. Provide output folder\n",
    "3. Merged files will be written into output folder (with no further subfolder structure)\n",
    "  * Name of an output file will be the folder name the trials are contained in\n",
    "  * Code will throw an exception (crash) if\n",
    "    - number of videos and tracking files does not match\n",
    "    - framerate changes during the session\n",
    "    - tracked nodes do not have exact same names during the session"
   ]
  },
  {
   "cell_type": "code",
   "execution_count": null,
   "metadata": {
    "collapsed": true
   },
   "outputs": [],
   "source": [
    "root_crawl_path = gui_fpath(\"Select path for crawler\", \"./\")\n",
    "output_path = gui_fpath(\"Select output path\", root_crawl_path)"
   ]
  },
  {
   "cell_type": "code",
   "execution_count": null,
   "metadata": {
    "scrolled": true
   },
   "outputs": [],
   "source": [
    "dlc_csv_composite_crawl(root_crawl_path, output_path)"
   ]
  },
  {
   "cell_type": "code",
   "execution_count": null,
   "metadata": {
    "collapsed": true
   },
   "outputs": [],
   "source": [
    "# Old Version of dlc-scripts only: Remove useless directories\n",
    "# fnames_h5 = gui_fnames(\"h5\", \"./\", \"HDF5 (*.h5)\")\n",
    "# dlc_fix_old_h5(fnames_h5)"
   ]
  },
  {
   "cell_type": "markdown",
   "metadata": {},
   "source": [
    "# Analyse a session-based DLC results file"
   ]
  },
  {
   "cell_type": "code",
   "execution_count": null,
   "metadata": {
    "collapsed": true
   },
   "outputs": [],
   "source": [
    "SP = SessionPostprocess()"
   ]
  },
  {
   "cell_type": "markdown",
   "metadata": {},
   "source": [
    "### Some basic data about the data set"
   ]
  },
  {
   "cell_type": "code",
   "execution_count": null,
   "metadata": {},
   "outputs": [],
   "source": [
    "SP.display_trial_properties()"
   ]
  },
  {
   "cell_type": "markdown",
   "metadata": {},
   "source": [
    "### Quality control\n",
    "\n",
    "Plots p-values of each coordinate as projections over time, trial and channel\n",
    "\n",
    "**TODO**:\n",
    "<font color='red' size='3'>\n",
    " <ul>\n",
    "  <li>Integrate velocity and edge length criteria</li>\n",
    "</ul> \n",
    "</font>"
   ]
  },
  {
   "cell_type": "code",
   "execution_count": null,
   "metadata": {
    "scrolled": false
   },
   "outputs": [],
   "source": [
    "SP.display_quality_control(pThr=0.01)"
   ]
  },
  {
   "cell_type": "markdown",
   "metadata": {},
   "source": [
    "## First Touch\n",
    "\n",
    "**TODO**:\n",
    "<font color='red' size='3'>\n",
    " <ul>\n",
    "  <li>Decide if P=0.01 is a good measure of confidence for first touch</li>\n",
    "  <li>Decide if first occurence of confident touch is an adequate measure of the first touch</li>\n",
    "</ul> \n",
    "</font>"
   ]
  },
  {
   "cell_type": "code",
   "execution_count": null,
   "metadata": {},
   "outputs": [],
   "source": [
    "SP.display_first_touch(pThr=0.01)"
   ]
  },
  {
   "cell_type": "markdown",
   "metadata": {},
   "source": [
    "## Stickman"
   ]
  },
  {
   "cell_type": "code",
   "execution_count": null,
   "metadata": {},
   "outputs": [],
   "source": [
    "SP.write_stickman(trialIdx=860)"
   ]
  }
 ],
 "metadata": {
  "kernelspec": {
   "display_name": "Python 3",
   "language": "python",
   "name": "python3"
  },
  "language_info": {
   "codemirror_mode": {
    "name": "ipython",
    "version": 3
   },
   "file_extension": ".py",
   "mimetype": "text/x-python",
   "name": "python",
   "nbconvert_exporter": "python",
   "pygments_lexer": "ipython3",
   "version": "3.7.4"
  }
 },
 "nbformat": 4,
 "nbformat_minor": 2
}
