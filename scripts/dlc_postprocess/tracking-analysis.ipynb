{
 "cells": [
  {
   "cell_type": "markdown",
   "metadata": {},
   "source": [
    "# DLC Postprocess Library\n",
    "\n",
    "Run after training has been performed, and at least 1 video has been analyzed"
   ]
  },
  {
   "cell_type": "code",
   "execution_count": null,
   "metadata": {},
   "outputs": [],
   "source": [
    "import numpy as np\n",
    "import matplotlib.pyplot as plt\n",
    "import pandas as pd\n",
    "import h5py\n",
    "import json\n",
    "import os\n",
    "\n",
    "from PyQt5.QtWidgets import QFileDialog\n",
    "from IPython.display import display, HTML\n",
    "\n",
    "# Append base directory\n",
    "import os,sys,inspect\n",
    "thispath = os.path.dirname(os.path.abspath(inspect.getfile(inspect.currentframe())))\n",
    "parpath = os.path.dirname(thispath)\n",
    "sys.path.append(parpath)\n",
    "print(\"Appended script directory\", parpath)\n",
    "\n",
    "from lib.parse_dlc_results import parse_dlc_csv\n",
    "from lib.constraints import compute_constraints\n",
    "from lib.plots import plotStatistics\n",
    "from lib.stickman import stickman\n",
    "from lib.qt_wrapper import gui_fname, gui_fpath\n",
    "from lib.sampling import selectUniform\n",
    "from lib.hdf5_wrapper import npStrArr2h5"
   ]
  },
  {
   "cell_type": "code",
   "execution_count": null,
   "metadata": {
    "collapsed": true
   },
   "outputs": [],
   "source": [
    "%load_ext autoreload\n",
    "%autoreload 2\n",
    "\n",
    "from lib.constraints import likelihood_constrain, velocity_constrain, edge_constrain"
   ]
  },
  {
   "cell_type": "markdown",
   "metadata": {},
   "source": [
    "### Enter parameters for the analysis of DLC marking\n",
    "\n",
    "1. **Video File** - The raw video that has been tracked by DLC\n",
    "2. **Tracking File** - The .CSV file where DLC has put tracking information (usually in the same folder as the raw video after tracking has been done. **Take care to select matching video and tracking file**)\n",
    "3. **Postprocess Template** - Located in dlc-scripts/scripts/postprocess-templates/. Make one or more templates manually for your individual setup. Template specifies what tracking points will be discarded in the final result, based on: DLC likelihood estimate, velocity of the points (in pixel) and relative edge lengths of edges, defined in the same file.\n",
    "* **Result Path** - Place where stickman video and filtered tracking data will be written."
   ]
  },
  {
   "cell_type": "code",
   "execution_count": null,
   "metadata": {},
   "outputs": [],
   "source": [
    "pwd_remote=\"./\"\n",
    "#pwd_remote = \"/run/user/1000/gvfs/smb-share:server=130.60.51.15,share=neurophysiology-storage2/Sipila/aaaPDDATA/ALLDATA/TRAININGvideos/\"\n",
    "param = {}\n",
    "#param[\"CONF_FNAME\"] = gui_fname(\"Select config file...\", \"./\", \"Config Files (*.yaml)\")\n",
    "param[\"AVI_FNAME\"] = gui_fname(\"Select original video file...\", pwd_remote, \"Video Files (*.avi *.mp4)\")\n",
    "tmp_pwd = os.path.dirname(param[\"AVI_FNAME\"])\n",
    "param[\"CSV_FNAME\"] = gui_fname(\"Select tracking file...\", tmp_pwd, \"CSV Files (*.csv)\")\n",
    "param[\"TMP_FNAME\"] = gui_fname(\"Select Postprocess Template Filename...\", \"./\", \"Template Files (*.json)\")\n",
    "param[\"REZ_FPATH\"] = gui_fpath(\"Select result path\", \"./\")\n",
    "\n",
    "#print(\"Using config file\", param[\"CONF_FNAME\"])\n",
    "print(\"Using original video\", param[\"AVI_FNAME\"])\n",
    "print(\"Using tracking file\", param[\"CSV_FNAME\"])\n",
    "print(\"Using template file\", param[\"TMP_FNAME\"])\n",
    "print(\"Results will be saved in\", param[\"REZ_FPATH\"])"
   ]
  },
  {
   "cell_type": "code",
   "execution_count": null,
   "metadata": {},
   "outputs": [],
   "source": [
    "#########################\n",
    "# Parse CSV file\n",
    "#########################\n",
    "NODE_NAMES_TRACKED, X, Y, P = parse_dlc_csv(param[\"CSV_FNAME\"])\n",
    "nFrames, nNodes = X.shape\n",
    "print(\"Movie has\", nFrames, \"frames and\", nNodes, \"nodes\")\n",
    "\n",
    "#########################\n",
    "# Parse JSON file\n",
    "#########################\n",
    "with open(param[\"TMP_FNAME\"]) as json_file:\n",
    "    param.update(json.load(json_file))\n",
    "    \n",
    "#########################\n",
    "# Test if template node count match the tracked\n",
    "#########################\n",
    "if nNodes != len(param[\"NODE_NAMES\"]):\n",
    "    raise ValueError(\"The tracked nodes\", NODE_NAMES_TRACKED, \"are not consistent with those given in the template file, namely \", param[\"NODE_NAMES\"])\n",
    "else:\n",
    "    print(\"The tracked node names were\", NODE_NAMES_TRACKED)\n",
    "    print(\"The template node names will be used (order matters):\", param[\"NODE_NAMES\"])"
   ]
  },
  {
   "cell_type": "markdown",
   "metadata": {},
   "source": [
    "### Analyse data, compute and plot results\n",
    "\n",
    "Determine frames, that\n",
    "* Have low confidence based on DLC self-reported analysis\n",
    "* Do not fulfill node constraints (e.g. excessive velocity)\n",
    "* Do not fulfill edge constraints (e.g. too large or too small edges)"
   ]
  },
  {
   "cell_type": "code",
   "execution_count": null,
   "metadata": {
    "scrolled": false
   },
   "outputs": [],
   "source": [
    "%matplotlib notebook\n",
    "    \n",
    "# Compute Constraints\n",
    "constr_dict = compute_constraints(X, Y, P, param)\n",
    "display(constr_dict[\"summary\"])\n",
    "\n",
    "# Plot Statistics\n",
    "plotStatistics(param, constr_dict)"
   ]
  },
  {
   "cell_type": "markdown",
   "metadata": {},
   "source": [
    "### Create stickman video and write it to file"
   ]
  },
  {
   "cell_type": "code",
   "execution_count": null,
   "metadata": {},
   "outputs": [],
   "source": [
    "#########################\n",
    "# Make Stickman Video\n",
    "#########################\n",
    "stickman(X, Y, param, constr_dict)"
   ]
  }
 ],
 "metadata": {
  "kernelspec": {
   "display_name": "Python 3",
   "language": "python",
   "name": "python3"
  },
  "language_info": {
   "codemirror_mode": {
    "name": "ipython",
    "version": 3
   },
   "file_extension": ".py",
   "mimetype": "text/x-python",
   "name": "python",
   "nbconvert_exporter": "python",
   "pygments_lexer": "ipython3",
   "version": "3.6.4"
  }
 },
 "nbformat": 4,
 "nbformat_minor": 2
}
