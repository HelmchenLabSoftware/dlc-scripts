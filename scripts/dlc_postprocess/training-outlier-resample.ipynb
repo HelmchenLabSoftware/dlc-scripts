{
 "cells": [
  {
   "cell_type": "markdown",
   "metadata": {},
   "source": [
    "# TODO\n",
    "\n",
    "**Decide on a strategy**\n",
    "1. Pure DLC - use DLC-intrinsic functions to extract outlier frames automatically\n",
    "2. Pure Manual\n",
    "    * use our own constraints for deciding on outliers\n",
    "    * manual clustering\n",
    "    * manually extract images and store\n",
    "    * update config file\n",
    "3. Hybrid DLC/Manual\n",
    "    * use our own constraints to re-define p-value and overwrite DLC csv/h5 files\n",
    "    * use DLC-intrinsic mechanism on modified files"
   ]
  },
  {
   "cell_type": "markdown",
   "metadata": {},
   "source": [
    "# Manual Approach"
   ]
  },
  {
   "cell_type": "markdown",
   "metadata": {},
   "source": [
    "# DLC-Intrinsic Approach\n",
    "\n",
    "**TODO**:\n",
    "* Understand what it does, see if it is sufficient"
   ]
  },
  {
   "cell_type": "code",
   "execution_count": null,
   "metadata": {
    "collapsed": true
   },
   "outputs": [],
   "source": [
    "deeplabcut.extract_outlier_frames(path_config_file, [param[\"AVI_FNAME\"]])\n",
    "deeplabcut.create_training_dataset(path_config_file)"
   ]
  }
 ],
 "metadata": {
  "kernelspec": {
   "display_name": "Python (py36qt5)",
   "language": "python",
   "name": "py36qt5"
  },
  "language_info": {
   "codemirror_mode": {
    "name": "ipython",
    "version": 3
   },
   "file_extension": ".py",
   "mimetype": "text/x-python",
   "name": "python",
   "nbconvert_exporter": "python",
   "pygments_lexer": "ipython3",
   "version": "3.6.4"
  }
 },
 "nbformat": 4,
 "nbformat_minor": 2
}
