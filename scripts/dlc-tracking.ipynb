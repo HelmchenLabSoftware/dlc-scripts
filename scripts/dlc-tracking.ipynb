{
 "cells": [
  {
   "cell_type": "markdown",
   "metadata": {},
   "source": [
    "# DLC Tracking\n",
    "\n",
    "**Plan**:\n",
    "\n",
    "1. Run this on a local machine, when training has already been performed to a satisfactory accuracy\n",
    "2. Load training config file\n",
    "3. Load videos to be tracked\n",
    "4. Label them automatically, plot results\n",
    "5. Proceed to postprocess notebook to evaluate marking quality"
   ]
  },
  {
   "cell_type": "code",
   "execution_count": 2,
   "metadata": {
    "colab": {},
    "colab_type": "code",
    "collapsed": true,
    "id": "jqLZhp7EoEI0"
   },
   "outputs": [],
   "source": [
    "import deeplabcut\n",
    "\n",
    "from lib.qt_wrapper import gui_fname, gui_fnames, gui_fpath"
   ]
  },
  {
   "cell_type": "code",
   "execution_count": 4,
   "metadata": {
    "colab": {},
    "colab_type": "code",
    "id": "c9DjG55FoEI7"
   },
   "outputs": [
    {
     "name": "stdout",
     "output_type": "stream",
     "text": [
      "Created \"/media/aleksejs/DataHDD/work/codes/image-analysis/behavioural/DeepLabCut/examples/superlol/Tracking-Pia-2019-03-18/videos\"\n",
      "Created \"/media/aleksejs/DataHDD/work/codes/image-analysis/behavioural/DeepLabCut/examples/superlol/Tracking-Pia-2019-03-18/labeled-data\"\n",
      "Created \"/media/aleksejs/DataHDD/work/codes/image-analysis/behavioural/DeepLabCut/examples/superlol/Tracking-Pia-2019-03-18/training-datasets\"\n",
      "Created \"/media/aleksejs/DataHDD/work/codes/image-analysis/behavioural/DeepLabCut/examples/superlol/Tracking-Pia-2019-03-18/dlc-models\"\n",
      "Creating the symbolic link of the video\n",
      "Created the symlink of /media/aleksejs/DataHDD/work/codes/image-analysis/behavioural/DeepLabCut/examples/Reaching-Mackenzie-2018-08-30/videos/reachingvideo1.avi to /media/aleksejs/DataHDD/work/codes/image-analysis/behavioural/DeepLabCut/examples/superlol/Tracking-Pia-2019-03-18/videos/reachingvideo1.avi\n",
      "/media/aleksejs/DataHDD/work/codes/image-analysis/behavioural/DeepLabCut/examples/superlol/Tracking-Pia-2019-03-18/videos/reachingvideo1.avi\n",
      "Generated \"/media/aleksejs/DataHDD/work/codes/image-analysis/behavioural/DeepLabCut/examples/superlol/Tracking-Pia-2019-03-18/config.yaml\"\n",
      "\n",
      "A new project with name Tracking-Pia-2019-03-18 is created at /media/aleksejs/DataHDD/work/codes/image-analysis/behavioural/DeepLabCut/examples/superlol and a configurable file (config.yaml) is stored there. Change the parameters in this file to adapt to your project's needs.\n",
      " Once you have changed the configuration file, use the function 'extract_frames' to select frames for labeling.\n",
      ". [OPTIONAL] Use the function 'add_new_videos' to add new videos to your project (at any stage).\n"
     ]
    }
   ],
   "source": [
    "pwd_config  = gui_fname(\"Select config file...\", \"./\", \"Config Files (*.yaml)\")\n",
    "pwd_videos  = gui_fnames(\"Select video files for tracking...\", \"./\", \"Video Files (*.avi)\")\n",
    "\n",
    "print(\"Using config file\", pwd_config)\n",
    "print(\"Using video files\", pwd_videos)\n",
    "\n",
    "deeplabcut.analyze_videos(pwd_config, pwd_videos)"
   ]
  },
  {
   "cell_type": "code",
   "execution_count": 3,
   "metadata": {},
   "outputs": [],
   "source": [
    "deeplabcut.analyze_videos?"
   ]
  },
  {
   "cell_type": "markdown",
   "metadata": {
    "colab_type": "text",
    "id": "pCrUvQIvoEKD"
   },
   "source": [
    "## Create labeled video\n",
    "This funtion is for visualiztion purpose and can be used to create a video in .mp4 format with labels predicted by the network. This video is saved in the same directory where the original video resides. "
   ]
  },
  {
   "cell_type": "code",
   "execution_count": 0,
   "metadata": {
    "colab": {},
    "colab_type": "code",
    "collapsed": true,
    "id": "6aDF7Q7KoEKE"
   },
   "outputs": [],
   "source": [
    "deeplabcut.create_labeled_video(path_config_file, videofile_path)"
   ]
  },
  {
   "cell_type": "markdown",
   "metadata": {
    "colab_type": "text",
    "id": "8GTiuJESoEKH"
   },
   "source": [
    "## Plot the trajectories of the analyzed videos\n",
    "This function plots the trajectories of all the body parts across the entire video. Each body part is identified by a unique color."
   ]
  },
  {
   "cell_type": "code",
   "execution_count": 0,
   "metadata": {
    "colab": {},
    "colab_type": "code",
    "collapsed": true,
    "id": "gX21zZbXoEKJ"
   },
   "outputs": [],
   "source": [
    "%matplotlib notebook #for making interactive plots.\n",
    "deeplabcut.plot_trajectories(path_config_file,videofile_path)"
   ]
  }
 ],
 "metadata": {
  "accelerator": "GPU",
  "colab": {
   "name": "Demo-yourowndata.ipynb",
   "provenance": [],
   "version": "0.3.2"
  },
  "kernelspec": {
   "display_name": "dlc-kernel",
   "language": "python",
   "name": "dlc"
  },
  "language_info": {
   "codemirror_mode": {
    "name": "ipython",
    "version": 3
   },
   "file_extension": ".py",
   "mimetype": "text/x-python",
   "name": "python",
   "nbconvert_exporter": "python",
   "pygments_lexer": "ipython3",
   "version": "3.6.8"
  },
  "varInspector": {
   "cols": {
    "lenName": 16,
    "lenType": 16,
    "lenVar": 40
   },
   "kernels_config": {
    "python": {
     "delete_cmd_postfix": "",
     "delete_cmd_prefix": "del ",
     "library": "var_list.py",
     "varRefreshCmd": "print(var_dic_list())"
    },
    "r": {
     "delete_cmd_postfix": ") ",
     "delete_cmd_prefix": "rm(",
     "library": "var_list.r",
     "varRefreshCmd": "cat(var_dic_list()) "
    }
   },
   "types_to_exclude": [
    "module",
    "function",
    "builtin_function_or_method",
    "instance",
    "_Feature"
   ],
   "window_display": false
  }
 },
 "nbformat": 4,
 "nbformat_minor": 1
}
