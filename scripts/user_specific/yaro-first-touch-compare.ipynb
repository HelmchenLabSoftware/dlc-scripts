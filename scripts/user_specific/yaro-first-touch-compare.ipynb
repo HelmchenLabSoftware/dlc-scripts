{
 "cells": [
  {
   "cell_type": "code",
   "execution_count": 2,
   "metadata": {},
   "outputs": [
    {
     "name": "stdout",
     "output_type": "stream",
     "text": [
      "Appended scripts directory /media/aleksejs/DataHDD/work/codes/comp-neuro/analysis-tracking/dlc-scripts/scripts\n"
     ]
    }
   ],
   "source": [
    "import numpy as np\n",
    "import matplotlib.pyplot as plt\n",
    "import pandas as pd\n",
    "import seaborn\n",
    "import h5py\n",
    "import json\n",
    "import copy\n",
    "from IPython.display import display, HTML\n",
    "\n",
    "# Append base directory\n",
    "import os,sys,inspect\n",
    "currentdir = os.path.dirname(os.path.abspath(inspect.getfile(inspect.currentframe())))\n",
    "parpath = os.path.dirname(currentdir)\n",
    "\n",
    "sys.path.insert(0, parpath) \n",
    "print(\"Appended scripts directory\", parpath)\n",
    "\n",
    "# Local libraries\n",
    "from lib.qt_wrapper import gui_fname, gui_fnames, gui_fpath\n",
    "from lib.matlab_lib import loadmat\n",
    "\n",
    "%load_ext autoreload\n",
    "%autoreload 2"
   ]
  },
  {
   "cell_type": "markdown",
   "metadata": {},
   "source": [
    "# 1. Load DLC-Tracked Data"
   ]
  },
  {
   "cell_type": "code",
   "execution_count": null,
   "metadata": {
    "collapsed": true
   },
   "outputs": [],
   "source": [
    "# DLC Tracked DATA\n",
    "param = {}\n",
    "param[\"H5_FNAMES\"] = gui_fnames(\"Open DLC session results files for same mouse\", \"./\", \"HDF5 files (*.h5)\")"
   ]
  },
  {
   "cell_type": "code",
   "execution_count": null,
   "metadata": {},
   "outputs": [],
   "source": [
    "pValues = {}\n",
    "mouseDLCFrame = []\n",
    "for fname in param[\"H5_FNAMES\"]:\n",
    "    dlc_h5_file = h5py.File(fname, \"r\")\n",
    "    \n",
    "    key = os.path.basename(fname)[:-3]\n",
    "    nodeNames = np.array(dlc_h5_file['NODE_NAMES'])\n",
    "    dictThisDay = {\n",
    "        'nTimesMax' : dlc_h5_file['X'].shape[0],\n",
    "        'nNodes'    : dlc_h5_file['X'].shape[1],\n",
    "        'nTrials'   : dlc_h5_file['X'].shape[2],\n",
    "        'fps'       : float(np.array(dlc_h5_file['FPS'])),\n",
    "        'vidpath'   : np.string_(dlc_h5_file.attrs['VID_PATH']).decode(),\n",
    "    }\n",
    "    \n",
    "    mouseDLCFrame += [pd.DataFrame(dictThisDay, index=(key,))]\n",
    "    pValues[key] = np.array(dlc_h5_file['P'])\n",
    "    \n",
    "mouseDLCFrame = pd.concat(mouseDLCFrame)\n",
    "display(mouseDLCFrame)"
   ]
  },
  {
   "cell_type": "code",
   "execution_count": null,
   "metadata": {
    "collapsed": true
   },
   "outputs": [],
   "source": [
    "# Human Tracked DATA\n",
    "matHumanTrackedFname  = gui_fname(\"Open matlab file\", \"./\", \"Matlab Files (*.mat)\")\n",
    "matHumanTracked = loadmat(matHumanTrackedFname)"
   ]
  },
  {
   "cell_type": "code",
   "execution_count": null,
   "metadata": {},
   "outputs": [],
   "source": [
    "# Sanity Checks\n",
    "def getTouchFromId(mat, targetId):\n",
    "    for iMouse, mouseDays in enumerate(mat['sessions_IDs']):\n",
    "        for iDay, thisId in enumerate(mouseDays):\n",
    "            if thisId == targetId:\n",
    "                return mat['whisk_touch'][iMouse][iDay]\n",
    "    return None\n",
    "    \n",
    "\n",
    "for key, row in mouseDLCFrame.iterrows():\n",
    "    delThis = True\n",
    "    nTrialsDLC = row['nTrials']\n",
    "\n",
    "    touchTimesHuman = getTouchFromId(matHumanTracked, key)\n",
    "    if touchTimesHuman is None:\n",
    "        print(key, \"is not in pool\")\n",
    "    elif touchTimesHuman.shape[0] == 0:\n",
    "        print(key, \"was not human-tracked\")\n",
    "    else:\n",
    "        nTrialHuman = touchTimesHuman.shape[0]\n",
    "        assert nTrialHuman == nTrialsDLC, \"Number of trials for human vs DLC does not match\"\n",
    "        print(key, \"is consistent for nTrials =\", nTrialsDLC)\n",
    "        delThis = False\n",
    "    \n",
    "    if delThis:\n",
    "        mouseDLCFrame.drop(key, inplace=True)"
   ]
  },
  {
   "cell_type": "code",
   "execution_count": null,
   "metadata": {
    "scrolled": false
   },
   "outputs": [],
   "source": [
    "pThr = 0.01\n",
    "idxTouch = np.where(nodeNames==\"Touch\")[0][0]\n",
    "\n",
    "for key, row in mouseDLCFrame.iterrows():\n",
    "    # DLC predicted touch times\n",
    "    pValThis = pValues[key][:, IDX_TOUCH, :].T\n",
    "    # pErrThis = 1 - pValThis\n",
    "    #pErrThis[np.isnan(pErrThis)] = 1\n",
    "    #haveTouch = pErrThis < pThr\n",
    "\n",
    "    # Human predicted first touch times\n",
    "    touchTimesHuman = getTouchFromId(matHumanTracked, key)\n",
    "    \n",
    "    #print(pValThis.shape, touchTimesHuman.shape)\n",
    "\n",
    "    plt.figure(figsize=(10, 10))\n",
    "    plt.title(key)\n",
    "    plt.imshow(pValThis, origin='lower', aspect='auto', extent=[0, row['nTimesMax'] / row['fps'], 0, row['nTrials']])\n",
    "    plt.plot(touchTimesHuman, np.arange(row['nTrials'])+0.5, color='r', alpha=0.3)\n",
    "    plt.xlim(2,3)\n",
    "    plt.show()"
   ]
  },
  {
   "cell_type": "code",
   "execution_count": null,
   "metadata": {},
   "outputs": [],
   "source": [
    "for trialThis in range(2):\n",
    "    #trialThis = 835 #mouseDLCFrame.loc[keyThis]['nTrials']-1\n",
    "    keyThis = mouseDLCFrame.index[0]\n",
    "    touchTimesHumanThis = getTouchFromId(matHumanTracked, keyThis)[trialThis]\n",
    "\n",
    "\n",
    "    pValThis = pValues[keyThis][:, IDX_TOUCH, trialThis]\n",
    "    nTimesThis = len(pValThis)\n",
    "    tValThis = np.arange(nTimesThis) / mouseDLCFrame.loc[keyThis]['fps']\n",
    "\n",
    "    plt.figure()\n",
    "    plt.title(trialThis)\n",
    "    plt.plot(tValThis, pValThis)\n",
    "    plt.axvline(x = touchTimesHumanThis, linestyle='--', color='y')\n",
    "    plt.xlim(2,3)\n",
    "    plt.show()"
   ]
  },
  {
   "cell_type": "markdown",
   "metadata": {},
   "source": [
    "# 2. Load Human-Tracked Data"
   ]
  },
  {
   "cell_type": "code",
   "execution_count": null,
   "metadata": {},
   "outputs": [],
   "source": [
    "def frame2time(frame, fps):\n",
    "    return (frame + 1) / fps\n",
    "\n",
    "\n",
    "    \n",
    "# Get indices for mouse and day\n",
    "mouseDayId = os.path.basename(param[\"H5_FNAME\"])[:-3]\n",
    "mouseIdx, dayIdx = getMouseDayIdxs(matHumanTracked['sessions_IDs'], mouseDayId)\n",
    "\n",
    "# Get associated human-tracked times\n",
    "touchTimesHuman = matHumanTracked['whisk_touch'][mouseIdx][dayIdx]\n",
    "\n",
    "# Estimate first touch from DLC data\n",
    "touchTimesDLC = np.full(N_TRIALS, np.nan)\n",
    "for iTrial in range(N_TRIALS):\n",
    "    candidates = np.where(HAVE_TOUCH[iTrial])[0]\n",
    "    if len(candidates) > 0:\n",
    "        touchTimesDLC[iTrial] = frame2time(np.min(candidates), FPS)\n",
    "    \n",
    "# Convert first touch from bin number to time\n",
    "plt.figure(figsize=(10,10))\n",
    "plt.title(\"Estimated first touch\")\n",
    "plt.plot(touchTimesDLC, label='dlc')\n",
    "plt.plot(touchTimesHuman, label='human')\n",
    "plt.legend()\n",
    "plt.show()"
   ]
  },
  {
   "cell_type": "code",
   "execution_count": null,
   "metadata": {
    "collapsed": true
   },
   "outputs": [],
   "source": [
    "from sklearn import linear_model\n",
    "from sklearn.model_selection import train_test_split"
   ]
  },
  {
   "cell_type": "code",
   "execution_count": null,
   "metadata": {},
   "outputs": [],
   "source": [
    "def time2frame(t, fps):\n",
    "    return int(t * fps)-1\n",
    "\n",
    "def errMuStd(y, ytrue):\n",
    "    err = np.abs(y-ytrue)\n",
    "    return np.mean(err), np.std(err)\n",
    "\n",
    "tDataStart = 2.0 # seconds\n",
    "tDataEnd = 3.5   # seconds\n",
    "idxDataStart = time2frame(tDataStart, FPS)\n",
    "idxDataEnd = time2frame(tDataEnd, FPS)\n",
    "\n",
    "data = HAVE_TOUCH[:, idxDataStart:idxDataEnd]\n",
    "labels = touchTimesHuman\n",
    "\n",
    "X_train, X_test, y_train, y_test = train_test_split(data, labels, test_size = 0.2)\n",
    "\n",
    "methodDict = {\n",
    "    \"Linear Regression\" : linear_model.LinearRegression(),\n",
    "    \"Ridge Regression\"  : linear_model.Ridge(alpha=.9),    # L2 reg\n",
    "    \"Lasso\"             : linear_model.Lasso(alpha=0.5),   # L1 reg\n",
    "    #\"Elastic\"           : linear_model.ElasticNet(alpha=0.3, l1_ratio=0.5),  #L2 and L1 reg\n",
    "    #\"BayesianRidge\"     : linear_model.BayesianRidge(),\n",
    "    \"Logistic Regression\" : linear_model.LogisticRegression(penalty='l1', solver='saga',\n",
    "                                      tol=1e-6, max_iter=int(1e6),\n",
    "                                      warm_start=True)\n",
    "}\n",
    "\n",
    "plt.figure(figsize=(5,5))\n",
    "\n",
    "for modelName, modelClass in methodDict.items():\n",
    "    modelClass.fit(X_train, y_train)\n",
    "    y_train_predict = modelClass.predict(X_train)\n",
    "    y_test_predict = modelClass.predict(X_test)\n",
    "    \n",
    "    errTrainMu, errTrainStd = errMuStd(y_train_predict, y_train)\n",
    "    errTestMu, errTestStd = errMuStd(y_test_predict, y_test)\n",
    "    \n",
    "    plt.errorbar(errTrainMu, errTestMu, capsize=5, yerr=errTestStd, xerr=errTrainStd, label=modelName)\n",
    "\n",
    "plt.xlabel(\"Train Accuracy, seconds\")\n",
    "plt.ylabel(\"Test Accuracy, seconds\")\n",
    "plt.xlim(-0.01, 0.2)\n",
    "plt.ylim(-0.01, 0.2)\n",
    "plt.legend()\n",
    "plt.show()\n",
    "    \n",
    "#     print(\"For\", modelName, \"train errors\", [round(errTrainMu, 3), round(errTrainStd, 3)])\n",
    "#     print(\"For\", modelName, \"test errors\", [round(errTestMu, 3), round(errTestStd, 3)])"
   ]
  },
  {
   "cell_type": "code",
   "execution_count": null,
   "metadata": {},
   "outputs": [],
   "source": [
    "# '''\n",
    "# Algorithm: Create Training Set\n",
    "#   1. For every trial, get touch predictions and true label\n",
    "#   2. Select window, and sweep window around true label. For simplicity, ignore cases when point outside window\n",
    "# '''\n",
    "# def time2frame(t, fps):\n",
    "#     return int(t * FPS)-1\n",
    "\n",
    "# iTrial = 0\n",
    "# tStartSweep = 1.5 # Sec\n",
    "# tStopSweep = 2.5 # Sec\n",
    "# tWindow = 1.0 # Sec\n",
    "\n",
    "# idxStartSweep = time2frame(tStartSweep, FPS)\n",
    "# idxStopSweep  = time2frame(tStopSweep, FPS)\n",
    "# nWindow     = time2frame(tWindow, FPS)\n",
    "\n",
    "# dataLst = []\n",
    "# labelLst = []\n",
    "# for i in range(idxStartSweep, idxStopSweep):\n",
    "#     data = HAVE_TOUCH[iTrial][i:i+nWindow]\n",
    "#     label = touchTimesHuman[iTrial] - frame2time(i, FPS)\n",
    "#     if (label > 0) and (label < tWindow):\n",
    "#         dataLst += [data]\n",
    "#         labelLst += [label]\n",
    "    \n",
    "# labelLstFr = [time2frame(t, FPS) for t in labelLst]\n",
    "    \n",
    "# # plt.figure()\n",
    "# # plt.imshow(np.array(dataLst).T,extent=(0,200,0,200))\n",
    "# # plt.plot(labelLstFr, color='r')\n",
    "# # plt.show()\n",
    "    \n",
    "\n",
    "# plt.figure()\n",
    "# plt.plot(np.arange(N_TIMES_MAX)/FPS, HAVE_TOUCH[iTrial])\n",
    "# plt.axvline(x=touchTimesHuman[iTrial], color='y', linestyle='--')\n",
    "# plt.xlim(1.5, )\n",
    "# plt.show()"
   ]
  },
  {
   "cell_type": "code",
   "execution_count": null,
   "metadata": {},
   "outputs": [],
   "source": []
  }
 ],
 "metadata": {
  "kernelspec": {
   "display_name": "Python (py36qt5)",
   "language": "python",
   "name": "py36qt5"
  },
  "language_info": {
   "codemirror_mode": {
    "name": "ipython",
    "version": 3
   },
   "file_extension": ".py",
   "mimetype": "text/x-python",
   "name": "python",
   "nbconvert_exporter": "python",
   "pygments_lexer": "ipython3",
   "version": "3.6.4"
  }
 },
 "nbformat": 4,
 "nbformat_minor": 1
}
