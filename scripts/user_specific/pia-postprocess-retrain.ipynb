{
 "cells": [
  {
   "cell_type": "markdown",
   "metadata": {},
   "source": [
    "# PLAN\n",
    "\n",
    "**Strategy 1:** Get more frames from already tracked videos\n",
    "\n",
    "**Strategy 2:** Get random frames from all videos\n",
    "\n",
    "1. Get all marked videos - paths to .avi and .csv\n",
    "2. Threshold p-values (and maybe edge lenghts)\n",
    "3. Extract frames manually from .avi\n",
    "4. Save frames to the dlc project\n",
    "5. Re-train"
   ]
  },
  {
   "cell_type": "code",
   "execution_count": 58,
   "metadata": {},
   "outputs": [
    {
     "name": "stdout",
     "output_type": "stream",
     "text": [
      "Appended script directory /home/sipila/work/dlc-scripts/scripts\n",
      "The autoreload extension is already loaded. To reload it, use:\n",
      "  %reload_ext autoreload\n"
     ]
    }
   ],
   "source": [
    "import numpy as np\n",
    "import h5py\n",
    "import deeplabcut\n",
    "import pandas as pd\n",
    "import matplotlib.pyplot as plt\n",
    "\n",
    "# Append base directory\n",
    "import os,sys,inspect\n",
    "thispath = os.path.dirname(os.path.abspath(inspect.getfile(inspect.currentframe())))\n",
    "parpath = os.path.dirname(thispath)\n",
    "sys.path.append(parpath)\n",
    "print(\"Appended script directory\", parpath)\n",
    "\n",
    "%load_ext autoreload\n",
    "%autoreload 2\n",
    "\n",
    "from lib.os_lib import getfiles_walk, get_files\n",
    "from lib.qt_wrapper import gui_fname, gui_fnames, gui_fpath\n",
    "from lib.parse_dlc_results import dlc_csv_composite_crawl, dlc_fix_old_h5\n",
    "from lib.video_convert_lib import save_frames_cv2"
   ]
  },
  {
   "cell_type": "code",
   "execution_count": 2,
   "metadata": {},
   "outputs": [],
   "source": [
    "project_config_path = gui_fname(\"Get project config file\", \"./\", \"*.yaml\")"
   ]
  },
  {
   "cell_type": "code",
   "execution_count": 3,
   "metadata": {},
   "outputs": [],
   "source": [
    "root_crawl_path = gui_fpath(\"Select path for crawler\", \"./\")\n",
    "output_path = gui_fpath(\"Select output path\", root_crawl_path)"
   ]
  },
  {
   "cell_type": "code",
   "execution_count": 4,
   "metadata": {},
   "outputs": [],
   "source": [
    "# 1. Load all h5 files\n",
    "aviList = getfiles_walk(root_crawl_path, [\".avi\"])\n",
    "vidPaths = [os.path.join(path, name) for path, name in aviList]"
   ]
  },
  {
   "cell_type": "code",
   "execution_count": 91,
   "metadata": {
    "scrolled": true
   },
   "outputs": [
    {
     "name": "stderr",
     "output_type": "stream",
     "text": [
      "5it [00:00, 44.67it/s]"
     ]
    },
    {
     "name": "stdout",
     "output_type": "stream",
     "text": [
      "Method  uncertain  found  228  putative outlier frames.\n",
      "Do you want to proceed with extracting  100  of those?\n",
      "If this list is very large, perhaps consider changing the paramters (start, stop, p_bound, comparisonbodyparts) or use a different method.\n",
      "Frames from video 2018.10.22_09_05_45  already extracted (more will be added)!\n",
      "Loading video...\n",
      "Duration of video [s]:  29.12 , recorded @  200.0 fps!\n",
      "Overall # of frames:  5824 with (cropped) frame dimensions: \n",
      "Kmeans-quantization based extracting of frames from 0.0  seconds to 29.12  seconds.\n",
      "Extracting and downsampling... 228  frames from the video.\n"
     ]
    },
    {
     "name": "stderr",
     "output_type": "stream",
     "text": [
      "228it [00:04, 45.95it/s]\n"
     ]
    },
    {
     "name": "stdout",
     "output_type": "stream",
     "text": [
      "Kmeans clustering ... (this might take a while)\n",
      "Let's select frames indices: [3510, 2918, 4770, 2587, 30, 4801, 4556, 4749, 2102, 431, 2943, 3070, 4544, 4739, 2888, 3422, 4787, 2842, 4755, 4571, 2572, 4760, 2986, 4536, 4781, 2930, 2936, 63, 2595, 2105, 2098, 4797, 4567, 4585, 2901, 2835, 4778, 4807, 4547, 4539, 3515, 4789, 3547, 4751, 4765, 4683, 4783, 4732, 2941, 4540, 2946, 4794, 2097, 2922, 4774, 2935, 4758, 3075, 4551, 2914, 2110, 4573, 4535, 36, 2928, 2987, 2112, 4776, 4537, 4565, 4804, 4785, 2578, 4759, 4562, 2584, 4766, 3425, 2592, 4730, 2870, 3507, 3511, 4763, 2834, 4550, 2101, 2939, 4784, 4799, 433, 3505, 2933, 4791, 4541, 2590, 4782, 4734, 4772, 3420]\n",
      "New video was added to the project! Use the function 'extract_frames' to select frames for labeling.\n",
      "The outlier frames are extracted. They are stored in the subdirectory labeled-data\\2018.10.22_09_05_45.\n",
      "Once you extracted frames for all videos, use 'refine_labels' to manually correct the labels.\n"
     ]
    }
   ],
   "source": [
    "deeplabcut.extract_outlier_frames(project_config_path, [vidPaths[5]], outlieralgorithm='uncertain',epsilon=100 , p_bound=0.2, automatic=True)"
   ]
  },
  {
   "cell_type": "code",
   "execution_count": 87,
   "metadata": {},
   "outputs": [],
   "source": [
    "deeplabcut.extract_outlier_frames?"
   ]
  },
  {
   "cell_type": "markdown",
   "metadata": {},
   "source": [
    "# TODO-PIA\n",
    "\n",
    "1. Play with 1-2 videos, figure out good outlier selection mechanism\n",
    "2. Goto Config file, change number of frames to larger number (e.g 100)\n",
    "3. Figure out which videos to use for outliers (maybe based on CSV file)\n"
   ]
  },
  {
   "cell_type": "code",
   "execution_count": null,
   "metadata": {},
   "outputs": [],
   "source": [
    "# 2. Extract traces and video names\n",
    "# 3. Load DLC project folder\n",
    "# 4. Filter bad p-values\n",
    "# 5. Extract bad frames, save as images to DLC project folder"
   ]
  },
  {
   "cell_type": "code",
   "execution_count": null,
   "metadata": {
    "scrolled": true
   },
   "outputs": [
    {
     "name": "stderr",
     "output_type": "stream",
     "text": [
      "\r",
      "0it [00:00, ?it/s]"
     ]
    },
    {
     "name": "stdout",
     "output_type": "stream",
     "text": [
      "Method  uncertain  found  365  putative outlier frames.\n",
      "Do you want to proceed with extracting  100  of those?\n",
      "If this list is very large, perhaps consider changing the paramters (start, stop, p_bound, comparisonbodyparts) or use a different method.\n",
      "Loading video...\n",
      "Duration of video [s]:  29.22 , recorded @  200.0 fps!\n",
      "Overall # of frames:  5844 with (cropped) frame dimensions: \n",
      "Kmeans-quantization based extracting of frames from 0.0  seconds to 29.22  seconds.\n",
      "Extracting and downsampling... 365  frames from the video.\n"
     ]
    },
    {
     "name": "stderr",
     "output_type": "stream",
     "text": [
      "365it [00:07, 46.31it/s]\n"
     ]
    },
    {
     "name": "stdout",
     "output_type": "stream",
     "text": [
      "Kmeans clustering ... (this might take a while)\n",
      "Let's select frames indices: [1886, 5017, 4295, 4571, 5237, 4130, 1931, 3587, 1412, 3662, 3720, 4093, 1941, 4991, 5078, 5284, 4339, 4547, 1401, 4330, 4319, 4564, 4444, 3624, 4526, 4055, 1928, 5229, 4134, 1889, 4350, 4587, 1418, 4998, 5007, 5059, 4111, 5117, 3658, 5052, 1881, 1407, 1935, 4600, 4281, 4323, 4336, 3745, 4993, 4582, 4530, 1698, 3718, 5100, 4440, 5040, 4352, 5291, 1917, 4307, 1933, 4335, 1944, 4327, 4559, 4538, 4343, 4557, 4137, 4535, 3726, 1937, 4567, 4090, 3646, 4442, 5026, 4347, 4348, 1940, 1884, 4283, 3663, 1887, 1410, 4097, 4543, 4987, 3653, 1921, 1396, 1414, 4313, 1403, 4278, 4554, 4578, 1882, 3710, 5032]\n",
      "Creating the symbolic link of the video\n",
      "New video was added to the project! Use the function 'extract_frames' to select frames for labeling.\n",
      "The outlier frames are extracted. They are stored in the subdirectory labeled-data\\2018.10.22_09_06_22.\n",
      "Once you extracted frames for all videos, use 'refine_labels' to manually correct the labels.\n"
     ]
    },
    {
     "name": "stderr",
     "output_type": "stream",
     "text": [
      "\r",
      "0it [00:00, ?it/s]"
     ]
    },
    {
     "name": "stdout",
     "output_type": "stream",
     "text": [
      "Method  uncertain  found  319  putative outlier frames.\n",
      "Do you want to proceed with extracting  100  of those?\n",
      "If this list is very large, perhaps consider changing the paramters (start, stop, p_bound, comparisonbodyparts) or use a different method.\n",
      "Loading video...\n",
      "Duration of video [s]:  29.11 , recorded @  200.0 fps!\n",
      "Overall # of frames:  5822 with (cropped) frame dimensions: \n",
      "Kmeans-quantization based extracting of frames from 0.0  seconds to 29.11  seconds.\n",
      "Extracting and downsampling... 319  frames from the video.\n"
     ]
    },
    {
     "name": "stderr",
     "output_type": "stream",
     "text": [
      "319it [00:07, 45.21it/s]\n"
     ]
    },
    {
     "name": "stdout",
     "output_type": "stream",
     "text": [
      "Kmeans clustering ... (this might take a while)\n",
      "Let's select frames indices: [382, 844, 2486, 1485, 2357, 718, 3041, 394, 1449, 877, 858, 1468, 1427, 1050, 314, 1160, 362, 869, 1504, 2783, 2520, 1492, 2716, 1443, 901, 865, 1754, 414, 1433, 1460, 2501, 384, 1231, 1475, 358, 731, 3649, 372, 3038, 1455, 1464, 309, 416, 887, 1156, 317, 1432, 874, 1498, 2331, 1372, 1422, 1471, 1480, 389, 390, 411, 365, 862, 716, 888, 398, 1438, 850, 906, 302, 386, 863, 2323, 1489, 722, 1811, 2374, 1445, 733, 387, 1502, 393, 1832, 1436, 856, 1462, 2493, 1747, 1466, 2450, 355, 848, 2370, 892, 2518, 1458, 880, 1420, 721, 380, 1439, 1484, 1503, 377]\n",
      "Creating the symbolic link of the video\n",
      "New video was added to the project! Use the function 'extract_frames' to select frames for labeling.\n",
      "The outlier frames are extracted. They are stored in the subdirectory labeled-data\\2018.10.22_09_09_31.\n",
      "Once you extracted frames for all videos, use 'refine_labels' to manually correct the labels.\n"
     ]
    },
    {
     "name": "stderr",
     "output_type": "stream",
     "text": [
      "\r",
      "0it [00:00, ?it/s]"
     ]
    },
    {
     "name": "stdout",
     "output_type": "stream",
     "text": [
      "Method  uncertain  found  249  putative outlier frames.\n",
      "Do you want to proceed with extracting  100  of those?\n",
      "If this list is very large, perhaps consider changing the paramters (start, stop, p_bound, comparisonbodyparts) or use a different method.\n",
      "Loading video...\n",
      "Duration of video [s]:  29.04 , recorded @  200.0 fps!\n",
      "Overall # of frames:  5808 with (cropped) frame dimensions: \n",
      "Kmeans-quantization based extracting of frames from 0.0  seconds to 29.04  seconds.\n",
      "Extracting and downsampling... 249  frames from the video.\n"
     ]
    },
    {
     "name": "stderr",
     "output_type": "stream",
     "text": [
      "249it [00:05, 46.67it/s]\n"
     ]
    },
    {
     "name": "stdout",
     "output_type": "stream",
     "text": [
      "Kmeans clustering ... (this might take a while)\n",
      "Let's select frames indices: [1145, 907, 864, 1200, 1074, 1956, 1176, 407, 1114, 1046, 1124, 1864, 3087, 881, 1188, 1699, 1921, 892, 912, 940, 1959, 1207, 634, 1167, 922, 698, 1857, 1117, 2160, 361, 859, 1152, 1408, 501, 1197, 420, 1953, 1179, 1122, 900, 885, 1160, 1174, 1168, 682, 870, 1164, 1192, 1083, 1966, 1119, 876, 878, 1137, 1068, 857, 1182, 1975, 1113, 927, 942, 1858, 1955, 1862, 1202, 1120, 1923, 1161, 1135, 891, 1138, 933, 896, 701, 1863, 883, 412, 1190, 1185, 1158, 873, 919, 646, 856, 862, 1116, 3085, 1131, 867, 1957, 405, 895, 1954, 1112, 1958, 1170, 1115, 1960, 1140, 880]\n",
      "Creating the symbolic link of the video\n",
      "New video was added to the project! Use the function 'extract_frames' to select frames for labeling.\n",
      "The outlier frames are extracted. They are stored in the subdirectory labeled-data\\2018.10.22_09_17_50.\n",
      "Once you extracted frames for all videos, use 'refine_labels' to manually correct the labels.\n"
     ]
    },
    {
     "name": "stderr",
     "output_type": "stream",
     "text": [
      "\r",
      "0it [00:00, ?it/s]"
     ]
    },
    {
     "name": "stdout",
     "output_type": "stream",
     "text": [
      "Method  uncertain  found  355  putative outlier frames.\n",
      "Do you want to proceed with extracting  100  of those?\n",
      "If this list is very large, perhaps consider changing the paramters (start, stop, p_bound, comparisonbodyparts) or use a different method.\n",
      "Loading video...\n",
      "Duration of video [s]:  29.095 , recorded @  200.0 fps!\n",
      "Overall # of frames:  5819 with (cropped) frame dimensions: \n",
      "Kmeans-quantization based extracting of frames from 0.0  seconds to 29.09  seconds.\n",
      "Extracting and downsampling... 355  frames from the video.\n"
     ]
    },
    {
     "name": "stderr",
     "output_type": "stream",
     "text": [
      "355it [00:08, 43.53it/s]\n"
     ]
    },
    {
     "name": "stdout",
     "output_type": "stream",
     "text": [
      "Kmeans clustering ... (this might take a while)\n",
      "Let's select frames indices: [3097, 1618, 1515, 3056, 538, 3129, 2701, 1530, 1555, 1448, 3141, 1590, 3120, 2631, 3102, 1346, 2577, 1543, 1663, 1660, 3080, 522, 3042, 1578, 1495, 1605, 3114, 3111, 1503, 2660, 1524, 1573, 1630, 526, 3142, 2580, 3104, 1585, 1662, 2677, 3132, 4425, 3089, 2983, 546, 4394, 3065, 4650, 1612, 3370, 1652, 2626, 2571, 1507, 1341, 2581, 1519, 1541, 1553, 415, 3106, 3138, 1580, 1597, 1494, 1532, 1561, 3101, 533, 1440, 3076, 1582, 1574, 3049, 1628, 3094, 3059, 1528, 3112, 3087, 3117, 1451, 1443, 523, 1537, 1511, 3124, 1611, 3133, 1588, 2657, 2575, 1501, 3146, 3113, 3126, 3054, 3110, 3135, 521]\n",
      "Creating the symbolic link of the video\n",
      "New video was added to the project! Use the function 'extract_frames' to select frames for labeling.\n",
      "The outlier frames are extracted. They are stored in the subdirectory labeled-data\\2018.10.22_09_32_48.\n",
      "Once you extracted frames for all videos, use 'refine_labels' to manually correct the labels.\n"
     ]
    },
    {
     "name": "stderr",
     "output_type": "stream",
     "text": [
      "\r",
      "0it [00:00, ?it/s]"
     ]
    },
    {
     "name": "stdout",
     "output_type": "stream",
     "text": [
      "Method  uncertain  found  177  putative outlier frames.\n",
      "Do you want to proceed with extracting  100  of those?\n",
      "If this list is very large, perhaps consider changing the paramters (start, stop, p_bound, comparisonbodyparts) or use a different method.\n",
      "Loading video...\n",
      "Duration of video [s]:  29.005 , recorded @  200.0 fps!\n",
      "Overall # of frames:  5801 with (cropped) frame dimensions: \n",
      "Kmeans-quantization based extracting of frames from 0.0  seconds to 29.0  seconds.\n",
      "Extracting and downsampling... 177  frames from the video.\n"
     ]
    },
    {
     "name": "stderr",
     "output_type": "stream",
     "text": [
      "177it [00:04, 44.24it/s]\n"
     ]
    },
    {
     "name": "stdout",
     "output_type": "stream",
     "text": [
      "Kmeans clustering ... (this might take a while)\n",
      "Let's select frames indices: [589, 412, 3825, 1913, 384, 565, 1872, 492, 163, 930, 601, 614, 396, 939, 510, 502, 1908, 1927, 3818, 389, 554, 947, 379, 619, 5259, 1864, 573, 506, 496, 603, 405, 1916, 597, 511, 932, 3844, 951, 1910, 509, 500, 919, 3840, 599, 595, 393, 583, 3822, 508, 561, 608, 385, 1869, 1907, 606, 3816, 1862, 499, 1911, 1909, 380, 376, 3814, 598, 505, 165, 498, 596, 497, 490, 928, 1928, 399, 5260, 609, 410, 395, 571, 1915, 933, 413, 493, 581, 402, 512, 592, 3819, 1912, 495, 931, 620, 559, 388, 600, 392, 586, 377, 567, 3820, 491, 501]\n",
      "Creating the symbolic link of the video\n",
      "New video was added to the project! Use the function 'extract_frames' to select frames for labeling.\n",
      "The outlier frames are extracted. They are stored in the subdirectory labeled-data\\2018.10.22_09_39_19.\n",
      "Once you extracted frames for all videos, use 'refine_labels' to manually correct the labels.\n"
     ]
    },
    {
     "name": "stderr",
     "output_type": "stream",
     "text": [
      "\r",
      "0it [00:00, ?it/s]"
     ]
    },
    {
     "name": "stdout",
     "output_type": "stream",
     "text": [
      "Method  uncertain  found  364  putative outlier frames.\n",
      "Do you want to proceed with extracting  100  of those?\n",
      "If this list is very large, perhaps consider changing the paramters (start, stop, p_bound, comparisonbodyparts) or use a different method.\n",
      "Loading video...\n",
      "Duration of video [s]:  29.05 , recorded @  200.0 fps!\n",
      "Overall # of frames:  5810 with (cropped) frame dimensions: \n",
      "Kmeans-quantization based extracting of frames from 0.0  seconds to 29.05  seconds.\n",
      "Extracting and downsampling... 364  frames from the video.\n"
     ]
    },
    {
     "name": "stderr",
     "output_type": "stream",
     "text": [
      "364it [00:08, 44.55it/s]\n"
     ]
    },
    {
     "name": "stdout",
     "output_type": "stream",
     "text": [
      "Kmeans clustering ... (this might take a while)\n",
      "Let's select frames indices: [1256, 1070, 717, 487, 778, 1960, 256, 451, 1264, 756, 767, 87, 1051, 502, 1115, 481, 651, 774, 1087, 433, 538, 796, 992, 806, 1951, 697, 1274, 1028, 244, 517, 525, 1640, 2000, 1105, 492, 470, 1261, 748, 2721, 784, 711, 3032, 726, 441, 701, 1079, 430, 1544, 84, 735, 769, 515, 1113, 1999, 1084, 438, 448, 787, 1067, 1253, 1039, 1074, 758, 445, 737, 709, 987, 1059, 1268, 540, 698, 478, 1096, 432, 785, 483, 1936, 495, 781, 489, 1780, 511, 646, 772, 1094, 373, 497, 732, 1045, 1276, 461, 431, 81, 725, 764, 472, 429, 252, 804, 799]\n",
      "Creating the symbolic link of the video\n",
      "New video was added to the project! Use the function 'extract_frames' to select frames for labeling.\n",
      "The outlier frames are extracted. They are stored in the subdirectory labeled-data\\2018.10.22_12_15_14.\n",
      "Once you extracted frames for all videos, use 'refine_labels' to manually correct the labels.\n"
     ]
    },
    {
     "name": "stderr",
     "output_type": "stream",
     "text": [
      "\r",
      "0it [00:00, ?it/s]"
     ]
    },
    {
     "name": "stdout",
     "output_type": "stream",
     "text": [
      "Method  uncertain  found  1017  putative outlier frames.\n",
      "Do you want to proceed with extracting  100  of those?\n",
      "If this list is very large, perhaps consider changing the paramters (start, stop, p_bound, comparisonbodyparts) or use a different method.\n",
      "Loading video...\n",
      "Duration of video [s]:  29.095 , recorded @  200.0 fps!\n",
      "Overall # of frames:  5819 with (cropped) frame dimensions: \n",
      "Kmeans-quantization based extracting of frames from 0.0  seconds to 29.09  seconds.\n",
      "Extracting and downsampling... 1016  frames from the video.\n"
     ]
    },
    {
     "name": "stderr",
     "output_type": "stream",
     "text": [
      "1016it [00:21, 47.83it/s]\n"
     ]
    },
    {
     "name": "stdout",
     "output_type": "stream",
     "text": [
      "Kmeans clustering ... (this might take a while)\n",
      "Let's select frames indices: [5683, 202, 5054, 3221, 5308, 5538, 105, 5226, 4282, 5649, 5210, 5300, 1, 5188, 5766, 5038, 5395, 5091, 5357, 2937, 5491, 245, 810, 3601, 5448, 5082, 3345, 158, 5275, 1364, 5811, 5656, 5573, 4278, 4252, 43, 5469, 5703, 27, 317, 5739, 5248, 5335, 2520, 5594, 5374, 167, 4323, 392, 562, 8, 5503, 5329, 5179, 4341, 5322, 5416, 5286, 5654, 5803, 5196, 5114, 67, 5262, 2946, 5288, 5183, 5603, 5400, 5794, 5483, 5742, 5695, 5230, 5671, 5356, 5540, 133, 248, 5217, 5807, 5759, 5528, 5237, 5627, 5660, 5626, 4261, 5648, 5533, 5304, 232, 5325, 4393, 5274, 5614, 5043, 5774, 5657, 5383]\n",
      "Creating the symbolic link of the video\n",
      "New video was added to the project! Use the function 'extract_frames' to select frames for labeling.\n",
      "The outlier frames are extracted. They are stored in the subdirectory labeled-data\\2018.10.22_12_54_05.\n",
      "Once you extracted frames for all videos, use 'refine_labels' to manually correct the labels.\n"
     ]
    },
    {
     "name": "stderr",
     "output_type": "stream",
     "text": [
      "\r",
      "0it [00:00, ?it/s]"
     ]
    },
    {
     "name": "stdout",
     "output_type": "stream",
     "text": [
      "Method  uncertain  found  1611  putative outlier frames.\n",
      "Do you want to proceed with extracting  100  of those?\n",
      "If this list is very large, perhaps consider changing the paramters (start, stop, p_bound, comparisonbodyparts) or use a different method.\n",
      "Loading video...\n",
      "Duration of video [s]:  29.155 , recorded @  200.0 fps!\n",
      "Overall # of frames:  5831 with (cropped) frame dimensions: \n",
      "Kmeans-quantization based extracting of frames from 0.0  seconds to 29.16  seconds.\n",
      "Extracting and downsampling... 1610  frames from the video.\n"
     ]
    },
    {
     "name": "stderr",
     "output_type": "stream",
     "text": [
      "1610it [00:33, 48.61it/s]\n"
     ]
    },
    {
     "name": "stdout",
     "output_type": "stream",
     "text": [
      "Kmeans clustering ... (this might take a while)\n",
      "Let's select frames indices: [1256, 3487, 787, 55, 747, 1450, 1477, 1416, 181, 81, 681, 412, 1506, 883, 240, 3517, 560, 37, 237, 1029, 3014, 3351, 297, 648, 102, 388, 1077, 50, 1207, 86, 610, 997, 940, 1327, 983, 4934, 1437, 1614, 692, 335, 1395, 75, 558, 586, 4061, 1342, 1187, 1190, 1463, 3561, 247, 1729, 98, 674, 519, 896, 1534, 913, 1497, 1855, 1049, 1115, 1385, 3026, 19, 474, 3582, 582, 504, 1066, 495, 1177, 615, 541, 479, 1101, 1035, 1362, 18, 642, 3345, 964, 828, 1492, 306, 583, 6, 1407, 1429, 702, 521, 1348, 224, 93, 1169, 639, 65, 509, 634, 1086]\n",
      "Creating the symbolic link of the video\n",
      "New video was added to the project! Use the function 'extract_frames' to select frames for labeling.\n",
      "The outlier frames are extracted. They are stored in the subdirectory labeled-data\\2018.10.21_20_03_30.\n",
      "Once you extracted frames for all videos, use 'refine_labels' to manually correct the labels.\n"
     ]
    },
    {
     "name": "stderr",
     "output_type": "stream",
     "text": [
      "\r",
      "0it [00:00, ?it/s]"
     ]
    },
    {
     "name": "stdout",
     "output_type": "stream",
     "text": [
      "Method  uncertain  found  1017  putative outlier frames.\n",
      "Do you want to proceed with extracting  100  of those?\n",
      "If this list is very large, perhaps consider changing the paramters (start, stop, p_bound, comparisonbodyparts) or use a different method.\n",
      "Loading video...\n",
      "Duration of video [s]:  29.405 , recorded @  200.0 fps!\n",
      "Overall # of frames:  5881 with (cropped) frame dimensions: \n",
      "Kmeans-quantization based extracting of frames from 0.0  seconds to 29.41  seconds.\n",
      "Extracting and downsampling... 1017  frames from the video.\n"
     ]
    },
    {
     "name": "stderr",
     "output_type": "stream",
     "text": [
      "1017it [00:21, 48.23it/s]\n"
     ]
    },
    {
     "name": "stdout",
     "output_type": "stream",
     "text": [
      "Kmeans clustering ... (this might take a while)\n",
      "Let's select frames indices: [1631, 2954, 3083, 731, 2862, 378, 2629, 3327, 780, 396, 3137, 326, 3034, 735, 2035, 700, 3261, 2800, 1609, 2554, 1649, 269, 2691, 903, 2616, 3311, 198, 2033, 341, 811, 2729, 356, 2683, 1592, 2755, 3242, 1662, 768, 1645, 1671, 1627, 3071, 2892, 2658, 2591, 2817, 3026, 3190, 359, 2678, 321, 3296, 660, 399, 764, 752, 2046, 1684, 3016, 330, 2981, 3201, 3058, 349, 3320, 746, 2972, 1448, 3332, 2684, 800, 1568, 3219, 789, 3302, 2642, 2970, 2695, 2837, 740, 3324, 2767, 2688, 2675, 774, 2598, 3100, 2987, 2876, 2663, 1619, 3179, 3280, 3098, 2776, 391, 2040, 1599, 383]\n",
      "Creating the symbolic link of the video\n",
      "New video was added to the project! Use the function 'extract_frames' to select frames for labeling.\n",
      "The outlier frames are extracted. They are stored in the subdirectory labeled-data\\2018.10.21_20_15_33.\n",
      "Once you extracted frames for all videos, use 'refine_labels' to manually correct the labels.\n"
     ]
    },
    {
     "name": "stderr",
     "output_type": "stream",
     "text": [
      "\r",
      "0it [00:00, ?it/s]"
     ]
    },
    {
     "name": "stdout",
     "output_type": "stream",
     "text": [
      "Method  uncertain  found  1765  putative outlier frames.\n",
      "Do you want to proceed with extracting  100  of those?\n",
      "If this list is very large, perhaps consider changing the paramters (start, stop, p_bound, comparisonbodyparts) or use a different method.\n",
      "Loading video...\n",
      "Duration of video [s]:  29.33 , recorded @  200.0 fps!\n",
      "Overall # of frames:  5866 with (cropped) frame dimensions: \n",
      "Kmeans-quantization based extracting of frames from 0.0  seconds to 29.33  seconds.\n",
      "Extracting and downsampling... 1765  frames from the video.\n"
     ]
    },
    {
     "name": "stderr",
     "output_type": "stream",
     "text": [
      "1765it [00:36, 48.71it/s]\n"
     ]
    },
    {
     "name": "stdout",
     "output_type": "stream",
     "text": [
      "Kmeans clustering ... (this might take a while)\n",
      "Let's select frames indices: [3191, 4224, 658, 3166, 3535, 2043, 3294, 3597, 3753, 4833, 3394, 1557, 3650, 4418, 3450, 4823, 3491, 4621, 3441, 754, 3528, 3627, 3259, 3476, 3705, 1131, 4089, 3899, 3360, 1190, 3133, 3560, 3546, 3238, 4072, 3112, 3222, 4217, 3331, 3531, 3734, 3382, 3605, 3154, 3436, 3388, 4297, 4802, 3215, 4791, 3235, 3263, 3168, 4540, 3630, 3149, 3963, 3511, 3207, 3461, 3155, 3422, 2039, 3250, 3384, 4817, 3353, 3289, 3622, 3400, 4767, 4849, 3823, 3313, 4814, 1214, 3138, 4382, 3184, 3656, 3521, 3204, 3669, 3432, 3538, 4183, 3321, 4669, 3642, 4025, 3368, 4312, 3831, 4801, 3272, 4133, 4779, 4859, 3346, 3457]\n",
      "Creating the symbolic link of the video\n",
      "New video was added to the project! Use the function 'extract_frames' to select frames for labeling.\n",
      "The outlier frames are extracted. They are stored in the subdirectory labeled-data\\2018.10.21_20_18_09.\n",
      "Once you extracted frames for all videos, use 'refine_labels' to manually correct the labels.\n",
      "Method  uncertain  found  554  putative outlier frames.\n",
      "Do you want to proceed with extracting  100  of those?\n",
      "If this list is very large, perhaps consider changing the paramters (start, stop, p_bound, comparisonbodyparts) or use a different method.\n",
      "Loading video...\n"
     ]
    },
    {
     "name": "stderr",
     "output_type": "stream",
     "text": [
      "2it [00:00, 16.86it/s]"
     ]
    },
    {
     "name": "stdout",
     "output_type": "stream",
     "text": [
      "Duration of video [s]:  54.9 , recorded @  200.0 fps!\n",
      "Overall # of frames:  10980 with (cropped) frame dimensions: \n",
      "Kmeans-quantization based extracting of frames from 0.0  seconds to 54.9  seconds.\n",
      "Extracting and downsampling... 554  frames from the video.\n"
     ]
    },
    {
     "name": "stderr",
     "output_type": "stream",
     "text": [
      "554it [00:13, 40.61it/s]\n"
     ]
    },
    {
     "name": "stdout",
     "output_type": "stream",
     "text": [
      "Kmeans clustering ... (this might take a while)\n",
      "Let's select frames indices: [10373, 6848, 9491, 6520, 2817, 4833, 6879, 2726, 8359, 6946, 4397, 9318, 10384, 8715, 224, 6756, 10437, 5753, 6917, 7089, 299, 9434, 9495, 8550, 8238, 10346, 600, 141, 6558, 6824, 8365, 6777, 5359, 6800, 6192, 4818, 9470, 6888, 9544, 4779, 6222, 8698, 2208, 5224, 1283, 4805, 6909, 9501, 6337, 4850, 10378, 6832, 234, 6872, 134, 10380, 6768, 6778, 6928, 5363, 6815, 8380, 8366, 9517, 8713, 6232, 10348, 9480, 9451, 4391, 9582, 6953, 9505, 8628, 4403, 6943, 6867, 9316, 6852, 327, 6740, 8340, 10389, 8729, 6911, 6541, 6923, 6939, 9320, 10386, 9317, 6751, 6764, 6933, 6908, 9539, 7100, 804, 9486, 6833]\n",
      "Creating the symbolic link of the video\n",
      "New video was added to the project! Use the function 'extract_frames' to select frames for labeling.\n",
      "The outlier frames are extracted. They are stored in the subdirectory labeled-data\\2018.10.21_12_35_31.\n",
      "Once you extracted frames for all videos, use 'refine_labels' to manually correct the labels.\n"
     ]
    },
    {
     "name": "stderr",
     "output_type": "stream",
     "text": [
      "\r",
      "0it [00:00, ?it/s]"
     ]
    },
    {
     "name": "stdout",
     "output_type": "stream",
     "text": [
      "Method  uncertain  found  6748  putative outlier frames.\n",
      "Do you want to proceed with extracting  100  of those?\n",
      "If this list is very large, perhaps consider changing the paramters (start, stop, p_bound, comparisonbodyparts) or use a different method.\n",
      "Loading video...\n",
      "Duration of video [s]:  54.94 , recorded @  200.0 fps!\n",
      "Overall # of frames:  10988 with (cropped) frame dimensions: \n",
      "Kmeans-quantization based extracting of frames from 0.0  seconds to 54.94  seconds.\n",
      "Extracting and downsampling... 6748  frames from the video.\n"
     ]
    },
    {
     "name": "stderr",
     "output_type": "stream",
     "text": [
      "6748it [02:11, 51.15it/s]\n"
     ]
    },
    {
     "name": "stdout",
     "output_type": "stream",
     "text": [
      "Kmeans clustering ... (this might take a while)\n",
      "Let's select frames indices: [6206, 5887, 10459, 7747, 3836, 2121, 466, 5465, 3308, 3976, 9641, 3699, 3515, 8500, 6847, 410, 9007, 2144, 9366, 7818, 3959, 5139, 5020, 4023, 9132, 3756, 5589, 2127, 8388, 3402, 2093, 7955, 4701, 3561, 5066, 7200, 4985, 10776, 7037, 1792, 7358, 3917, 10508, 10627, 3854, 4041, 3871, 6090, 6006, 7756, 7151, 5270, 7229, 5299, 9528, 10940, 9294, 5935, 5758, 9193, 3744, 3264, 4005, 3814, 7261, 5877, 10138, 8853, 1941, 8538, 8089, 5355, 7556, 6972, 5189, 7319, 8654, 10034, 7642, 9246, 8745, 9865, 8322, 10634, 5488, 10869, 6514, 6403, 5542, 8282, 3291, 5982, 9997, 5711, 1489, 6182, 9042, 10683, 9564]\n",
      "Creating the symbolic link of the video\n",
      "New video was added to the project! Use the function 'extract_frames' to select frames for labeling.\n",
      "The outlier frames are extracted. They are stored in the subdirectory labeled-data\\2018.10.21_12_44_56.\n",
      "Once you extracted frames for all videos, use 'refine_labels' to manually correct the labels.\n"
     ]
    },
    {
     "name": "stderr",
     "output_type": "stream",
     "text": [
      "\r",
      "0it [00:00, ?it/s]"
     ]
    },
    {
     "name": "stdout",
     "output_type": "stream",
     "text": [
      "Method  uncertain  found  352  putative outlier frames.\n",
      "Do you want to proceed with extracting  100  of those?\n",
      "If this list is very large, perhaps consider changing the paramters (start, stop, p_bound, comparisonbodyparts) or use a different method.\n",
      "Loading video...\n",
      "Duration of video [s]:  54.905 , recorded @  200.0 fps!\n",
      "Overall # of frames:  10981 with (cropped) frame dimensions: \n",
      "Kmeans-quantization based extracting of frames from 0.0  seconds to 54.91  seconds.\n",
      "Extracting and downsampling... 351  frames from the video.\n"
     ]
    },
    {
     "name": "stderr",
     "output_type": "stream",
     "text": [
      "351it [00:07, 49.40it/s]\n"
     ]
    },
    {
     "name": "stdout",
     "output_type": "stream",
     "text": [
      "Kmeans clustering ... (this might take a while)\n",
      "Let's select frames indices: [98, 14, 235, 3193, 718, 3467, 364, 78, 182, 2603, 216, 264, 652, 241, 1608, 1641, 2889, 213, 1114, 150, 987, 251, 255, 714, 328, 1064, 222, 1599, 3334, 716, 303, 3, 212, 1602, 47, 245, 89, 55, 51, 2653, 257, 214, 1607, 62, 3199, 162, 650, 3510, 117, 237, 279, 141, 226, 37, 301, 3196, 43, 268, 3189, 721, 53, 28, 365, 362, 3498, 247, 246, 205, 210, 243, 262, 231, 223, 67, 48, 218, 151, 2494, 219, 94, 2602, 54, 79, 1600, 130, 3188, 138, 215, 3203, 277, 173, 207, 57, 84, 3451, 110, 108, 3197, 178, 248]\n",
      "Creating the symbolic link of the video\n",
      "New video was added to the project! Use the function 'extract_frames' to select frames for labeling.\n",
      "The outlier frames are extracted. They are stored in the subdirectory labeled-data\\2018.10.21_12_46_02.\n",
      "Once you extracted frames for all videos, use 'refine_labels' to manually correct the labels.\n"
     ]
    },
    {
     "name": "stderr",
     "output_type": "stream",
     "text": [
      "\r",
      "0it [00:00, ?it/s]"
     ]
    },
    {
     "name": "stdout",
     "output_type": "stream",
     "text": [
      "Method  uncertain  found  1973  putative outlier frames.\n",
      "Do you want to proceed with extracting  100  of those?\n",
      "If this list is very large, perhaps consider changing the paramters (start, stop, p_bound, comparisonbodyparts) or use a different method.\n",
      "Loading video...\n",
      "Duration of video [s]:  54.895 , recorded @  200.0 fps!\n",
      "Overall # of frames:  10979 with (cropped) frame dimensions: \n",
      "Kmeans-quantization based extracting of frames from 0.0  seconds to 54.9  seconds.\n",
      "Extracting and downsampling... 1973  frames from the video.\n"
     ]
    },
    {
     "name": "stderr",
     "output_type": "stream",
     "text": [
      "1973it [00:40, 49.16it/s]\n"
     ]
    },
    {
     "name": "stdout",
     "output_type": "stream",
     "text": [
      "Kmeans clustering ... (this might take a while)\n",
      "Let's select frames indices: [2316, 8389, 5319, 2624, 7605, 3738, 10947, 10701, 8048, 7136, 7546, 3078, 3901, 2453, 2134, 8249, 8291, 7773, 3813, 5655, 4916, 3791, 884, 7280, 4184, 7220, 4128, 7223, 4968, 3709, 807, 7730, 2994, 2155, 2359, 2554, 3719, 2179, 4860, 7839, 5469, 4242, 4400, 8240, 3047, 3141, 3498, 7325, 7708, 7253, 8127, 7820, 2345, 3883, 5261, 136, 3868, 8207, 8103, 7264, 8356, 3067, 7405, 4984, 7448, 7178, 8009, 7834, 4161, 7199, 7107, 8284, 3773, 4918, 8183, 7743, 7566, 7796, 2337, 7791, 3751, 10959, 7310, 2592, 5305, 5210, 7392, 8162, 4219, 7395, 7206, 10967, 8254, 6932, 7089, 10814, 8123, 7665, 7756]\n",
      "Creating the symbolic link of the video\n",
      "New video was added to the project! Use the function 'extract_frames' to select frames for labeling.\n",
      "The outlier frames are extracted. They are stored in the subdirectory labeled-data\\2018.10.21_12_52_08.\n",
      "Once you extracted frames for all videos, use 'refine_labels' to manually correct the labels.\n"
     ]
    },
    {
     "name": "stderr",
     "output_type": "stream",
     "text": [
      "\r",
      "0it [00:00, ?it/s]"
     ]
    },
    {
     "name": "stdout",
     "output_type": "stream",
     "text": [
      "Method  uncertain  found  3342  putative outlier frames.\n",
      "Do you want to proceed with extracting  100  of those?\n",
      "If this list is very large, perhaps consider changing the paramters (start, stop, p_bound, comparisonbodyparts) or use a different method.\n",
      "Loading video...\n",
      "Duration of video [s]:  54.755 , recorded @  200.0 fps!\n",
      "Overall # of frames:  10951 with (cropped) frame dimensions: \n",
      "Kmeans-quantization based extracting of frames from 0.0  seconds to 54.76  seconds.\n",
      "Extracting and downsampling... 3342  frames from the video.\n"
     ]
    },
    {
     "name": "stderr",
     "output_type": "stream",
     "text": [
      "3342it [01:09, 48.18it/s]\n"
     ]
    },
    {
     "name": "stdout",
     "output_type": "stream",
     "text": [
      "Kmeans clustering ... (this might take a while)\n",
      "Let's select frames indices: [4633, 10033, 7200, 7030, 9156, 4907, 6828, 5970, 7651, 10859, 5835, 7504, 1165, 9556, 9656, 4480, 3994, 5314, 6344, 6139, 6742, 4212, 7016, 10207, 8978, 9697, 8857, 8313, 9611, 5247, 3678, 5808, 3662, 5793, 9496, 6889, 3319, 6075, 7857, 5134, 7127, 5685, 1054, 935, 5749, 9571, 6684, 4144, 8228, 1004, 5700, 7889, 8565, 9602, 7614, 3719, 6191, 5906, 4077, 9849, 6801, 5989, 10181, 7110, 2685, 5273, 6245, 3685, 10594, 4134, 4691, 4304, 7296, 6383, 6783, 5873, 3911, 9626, 9931, 1029, 2022, 1121, 4560, 5825, 7332, 6972, 4244, 6042, 7812, 5937, 5941, 3761, 10622, 7705, 9897, 7079, 5836, 10155, 4550, 3783]\n",
      "Creating the symbolic link of the video\n",
      "New video was added to the project! Use the function 'extract_frames' to select frames for labeling.\n",
      "The outlier frames are extracted. They are stored in the subdirectory labeled-data\\2018.10.21_15_21_12.\n",
      "Once you extracted frames for all videos, use 'refine_labels' to manually correct the labels.\n"
     ]
    },
    {
     "name": "stderr",
     "output_type": "stream",
     "text": [
      "\r",
      "0it [00:00, ?it/s]"
     ]
    },
    {
     "name": "stdout",
     "output_type": "stream",
     "text": [
      "Method  uncertain  found  1820  putative outlier frames.\n",
      "Do you want to proceed with extracting  100  of those?\n",
      "If this list is very large, perhaps consider changing the paramters (start, stop, p_bound, comparisonbodyparts) or use a different method.\n",
      "Loading video...\n",
      "Duration of video [s]:  54.685 , recorded @  200.0 fps!\n",
      "Overall # of frames:  10937 with (cropped) frame dimensions: \n",
      "Kmeans-quantization based extracting of frames from 0.0  seconds to 54.69  seconds.\n",
      "Extracting and downsampling... 1819  frames from the video.\n"
     ]
    },
    {
     "name": "stderr",
     "output_type": "stream",
     "text": [
      "1819it [00:36, 50.02it/s]\n"
     ]
    },
    {
     "name": "stdout",
     "output_type": "stream",
     "text": [
      "Kmeans clustering ... (this might take a while)\n",
      "Let's select frames indices: [2874, 5439, 10745, 5401, 6903, 7414, 7872, 9090, 3809, 2380, 4983, 1536, 1729, 6691, 10862, 4991, 9215, 7200, 4334, 1805, 4198, 6783, 4438, 7265, 5044, 7292, 7814, 7149, 8193, 7354, 5456, 4960, 4813, 5379, 8, 2521, 4464, 7622, 1294, 7724, 7424, 3994, 10700, 1802, 4124, 7141, 3797, 10801, 3078, 7406, 1675, 6801, 4083, 9122, 1311, 7163, 5019, 4368, 4947, 3, 7780, 7825, 5375, 3856, 1851, 3738, 2301, 1715, 7516, 1685, 10796, 10731, 4969, 6784, 7294, 1741, 3698, 5408, 4246, 1852, 7446, 8346, 6883, 7392, 3771, 7130, 917, 7574, 3090, 6818, 7818, 4374, 2180, 2139, 4045, 7801, 6796, 2515, 3109]\n",
      "Creating the symbolic link of the video\n",
      "New video was added to the project! Use the function 'extract_frames' to select frames for labeling.\n",
      "The outlier frames are extracted. They are stored in the subdirectory labeled-data\\2018.10.21_15_29_04.\n",
      "Once you extracted frames for all videos, use 'refine_labels' to manually correct the labels.\n"
     ]
    },
    {
     "name": "stderr",
     "output_type": "stream",
     "text": [
      "\r",
      "0it [00:00, ?it/s]"
     ]
    },
    {
     "name": "stdout",
     "output_type": "stream",
     "text": [
      "Method  uncertain  found  3238  putative outlier frames.\n",
      "Do you want to proceed with extracting  100  of those?\n",
      "If this list is very large, perhaps consider changing the paramters (start, stop, p_bound, comparisonbodyparts) or use a different method.\n",
      "Loading video...\n",
      "Duration of video [s]:  54.64 , recorded @  200.0 fps!\n",
      "Overall # of frames:  10928 with (cropped) frame dimensions: \n",
      "Kmeans-quantization based extracting of frames from 0.0  seconds to 54.64  seconds.\n",
      "Extracting and downsampling... 3237  frames from the video.\n"
     ]
    },
    {
     "name": "stderr",
     "output_type": "stream",
     "text": [
      "3237it [01:04, 50.24it/s]\n"
     ]
    },
    {
     "name": "stdout",
     "output_type": "stream",
     "text": [
      "Kmeans clustering ... (this might take a while)\n",
      "Let's select frames indices: [8939, 3684, 3949, 608, 5862, 8235, 9509, 5552, 534, 4857, 1681, 2634, 3, 7010, 7244, 5712, 9164, 9284, 1711, 10070, 3138, 9788, 10824, 8876, 7312, 4948, 9890, 1744, 4284, 409, 8479, 8399, 1049, 6070, 9716, 9302, 76, 8232, 5789, 5358, 7406, 9033, 3442, 7102, 696, 3573, 2936, 3522, 2260, 9897, 5609, 10273, 1768, 8354, 7433, 511, 5841, 469, 4794, 1735, 10722, 9765, 5663, 9991, 5655, 724, 5098, 1189, 10826, 9192, 256, 3632, 235, 9311, 5621, 680, 5721, 3059, 750, 5319, 7333, 9088, 8718, 461, 453, 1954, 5123, 5341, 1199, 5369, 8332, 5738, 8622, 1827, 8741, 568, 7132, 4979, 8181, 9746]\n",
      "Creating the symbolic link of the video\n",
      "New video was added to the project! Use the function 'extract_frames' to select frames for labeling.\n",
      "The outlier frames are extracted. They are stored in the subdirectory labeled-data\\2018.10.21_15_51_08.\n",
      "Once you extracted frames for all videos, use 'refine_labels' to manually correct the labels.\n"
     ]
    },
    {
     "name": "stderr",
     "output_type": "stream",
     "text": [
      "\r",
      "0it [00:00, ?it/s]"
     ]
    },
    {
     "name": "stdout",
     "output_type": "stream",
     "text": [
      "Method  uncertain  found  1940  putative outlier frames.\n",
      "Do you want to proceed with extracting  100  of those?\n",
      "If this list is very large, perhaps consider changing the paramters (start, stop, p_bound, comparisonbodyparts) or use a different method.\n",
      "Loading video...\n",
      "Duration of video [s]:  54.695 , recorded @  200.0 fps!\n",
      "Overall # of frames:  10939 with (cropped) frame dimensions: \n",
      "Kmeans-quantization based extracting of frames from 0.0  seconds to 54.7  seconds.\n",
      "Extracting and downsampling... 1940  frames from the video.\n"
     ]
    },
    {
     "name": "stderr",
     "output_type": "stream",
     "text": [
      "1940it [00:40, 47.34it/s]\n"
     ]
    },
    {
     "name": "stdout",
     "output_type": "stream",
     "text": [
      "Kmeans clustering ... (this might take a while)\n",
      "Let's select frames indices: [4690, 9293, 4410, 6862, 6834, 9770, 3597, 1415, 5812, 9130, 2905, 1659, 4478, 1632, 2314, 203, 2325, 3460, 1841, 5917, 4717, 8199, 6890, 8267, 6105, 7449, 1965, 7289, 3199, 5990, 3631, 381, 4481, 1904, 2413, 9880, 1770, 3319, 4521, 5866, 4729, 9478, 1303, 8317, 1619, 2296, 857, 10729, 4368, 7809, 6770, 6160, 6851, 3191, 3406, 7910, 2217, 2888, 6704, 6746, 1978, 1497, 6801, 6488, 3325, 6175, 2861, 7551, 5952, 9304, 7457, 2766, 1765, 8219, 985, 1471, 6802, 6247, 9413, 9846, 4299, 9725, 1793, 8210, 2321, 1853, 4684, 4449, 3617, 4489, 2337, 5515, 3489, 6, 7422, 4293, 1829, 3609, 2585, 4698]\n",
      "Creating the symbolic link of the video\n",
      "New video was added to the project! Use the function 'extract_frames' to select frames for labeling.\n",
      "The outlier frames are extracted. They are stored in the subdirectory labeled-data\\2018.10.21_15_58_41.\n",
      "Once you extracted frames for all videos, use 'refine_labels' to manually correct the labels.\n"
     ]
    },
    {
     "name": "stderr",
     "output_type": "stream",
     "text": [
      "\r",
      "0it [00:00, ?it/s]"
     ]
    },
    {
     "name": "stdout",
     "output_type": "stream",
     "text": [
      "Method  uncertain  found  2178  putative outlier frames.\n",
      "Do you want to proceed with extracting  100  of those?\n",
      "If this list is very large, perhaps consider changing the paramters (start, stop, p_bound, comparisonbodyparts) or use a different method.\n",
      "Loading video...\n",
      "Duration of video [s]:  54.63 , recorded @  200.0 fps!\n",
      "Overall # of frames:  10926 with (cropped) frame dimensions: \n",
      "Kmeans-quantization based extracting of frames from 0.0  seconds to 54.63  seconds.\n",
      "Extracting and downsampling... 2178  frames from the video.\n"
     ]
    },
    {
     "name": "stderr",
     "output_type": "stream",
     "text": [
      "2178it [00:46, 46.95it/s]\n"
     ]
    },
    {
     "name": "stdout",
     "output_type": "stream",
     "text": [
      "Kmeans clustering ... (this might take a while)\n",
      "Let's select frames indices: [5080, 5883, 2306, 5690, 8005, 1785, 2144, 2273, 7125, 6796, 2037, 6111, 7727, 2783, 2388, 2846, 4851, 5193, 692, 9014, 2946, 3085, 6434, 9950, 2968, 7479, 6961, 5766, 8078, 6023, 2543, 5680, 8058, 2066, 5720, 7759, 2746, 2886, 5525, 6844, 6089, 3892, 9918, 4484, 7142, 7956, 1721, 2177, 5485, 7135, 9049, 4842, 7913, 8122, 3071, 6993, 5332, 4920, 9911, 5481, 10736, 2920, 10077, 7085, 2486, 435, 6119, 4753, 3626, 1287, 2998, 2055, 5246, 5117, 6896, 3004, 3113, 5728, 678, 2391, 1821, 10696, 6039, 2355, 5510, 6919, 2290, 6907, 6939, 2004, 2087, 2763, 6057, 7098, 8115, 5215, 2382, 2103, 5881, 6007]\n",
      "Creating the symbolic link of the video\n",
      "New video was added to the project! Use the function 'extract_frames' to select frames for labeling.\n",
      "The outlier frames are extracted. They are stored in the subdirectory labeled-data\\2018.10.21_16_03_45.\n",
      "Once you extracted frames for all videos, use 'refine_labels' to manually correct the labels.\n"
     ]
    },
    {
     "name": "stderr",
     "output_type": "stream",
     "text": [
      "\r",
      "0it [00:00, ?it/s]"
     ]
    },
    {
     "name": "stdout",
     "output_type": "stream",
     "text": [
      "Method  uncertain  found  802  putative outlier frames.\n",
      "Do you want to proceed with extracting  100  of those?\n",
      "If this list is very large, perhaps consider changing the paramters (start, stop, p_bound, comparisonbodyparts) or use a different method.\n",
      "Loading video...\n",
      "Duration of video [s]:  27.01 , recorded @  200.0 fps!\n",
      "Overall # of frames:  5402 with (cropped) frame dimensions: \n",
      "Kmeans-quantization based extracting of frames from 0.0  seconds to 27.01  seconds.\n",
      "Extracting and downsampling... 802  frames from the video.\n"
     ]
    },
    {
     "name": "stderr",
     "output_type": "stream",
     "text": [
      "802it [00:21, 37.73it/s]\n"
     ]
    },
    {
     "name": "stdout",
     "output_type": "stream",
     "text": [
      "Kmeans clustering ... (this might take a while)\n",
      "Let's select frames indices: [1781, 3968, 2945, 700, 1830, 2641, 1566, 2989, 3119, 3918, 4327, 3041, 3706, 2570, 1446, 2340, 3882, 2373, 1872, 788, 3623, 570, 824, 4007, 3701, 3934, 4049, 2595, 1806, 613, 3163, 769, 632, 1544, 3535, 3898, 3866, 332, 4018, 2816, 3073, 3324, 2451, 2639, 1852, 3189, 1434, 2930, 3034, 2895, 3777, 828, 3787, 3201, 3694, 1621, 802, 2529, 1019, 1100, 3006, 3992, 3923, 1240, 578, 3887, 1285, 3873, 3789, 1787, 3782, 1440, 2370, 790, 3775, 2232, 1012, 3615, 3175, 1570, 3149, 3797, 3177, 1843, 3129, 3915, 785, 3959, 3869, 3779, 2596, 3302, 3884, 1561, 3859, 3931, 1797, 3890, 1443, 1549]\n",
      "Creating the symbolic link of the video\n",
      "New video was added to the project! Use the function 'extract_frames' to select frames for labeling.\n",
      "The outlier frames are extracted. They are stored in the subdirectory labeled-data\\2018.10.23_10_03_28.\n",
      "Once you extracted frames for all videos, use 'refine_labels' to manually correct the labels.\n"
     ]
    },
    {
     "name": "stderr",
     "output_type": "stream",
     "text": [
      "\r",
      "0it [00:00, ?it/s]"
     ]
    },
    {
     "name": "stdout",
     "output_type": "stream",
     "text": [
      "Method  uncertain  found  471  putative outlier frames.\n",
      "Do you want to proceed with extracting  100  of those?\n",
      "If this list is very large, perhaps consider changing the paramters (start, stop, p_bound, comparisonbodyparts) or use a different method.\n",
      "Loading video...\n",
      "Duration of video [s]:  26.995 , recorded @  200.0 fps!\n",
      "Overall # of frames:  5399 with (cropped) frame dimensions: \n",
      "Kmeans-quantization based extracting of frames from 0.0  seconds to 27.0  seconds.\n",
      "Extracting and downsampling... 471  frames from the video.\n"
     ]
    },
    {
     "name": "stderr",
     "output_type": "stream",
     "text": [
      "471it [00:12, 38.29it/s]\n"
     ]
    },
    {
     "name": "stdout",
     "output_type": "stream",
     "text": [
      "Kmeans clustering ... (this might take a while)\n",
      "Let's select frames indices: [2067, 2161, 3806, 4788, 4864, 3573, 4712, 1918, 513, 3527, 2213, 3644, 4937, 2087, 2120, 2175, 3923, 3173, 4954, 4636, 2146, 3659, 747, 3519, 4798, 3019, 4858, 2237, 400, 2246, 4722, 531, 2080, 4702, 3377, 3568, 2099, 2083, 4797, 1923, 1829, 3921, 4750, 3646, 4674, 3815, 3255, 4794, 2166, 3180, 5051, 4729, 1901, 3516, 4693, 2090, 401, 4847, 3520, 2225, 3918, 2108, 2154, 2182, 4655, 1933, 2158, 3649, 4791, 4690, 4939, 509, 3648, 2130, 3251, 3915, 3820, 3523, 4620, 2136, 2201, 4666, 2206, 3664, 2168, 2228, 4789, 403, 4860, 4626, 3913, 3561, 3261, 1911, 3639, 2205, 2189, 3187, 535, 3656]\n",
      "Creating the symbolic link of the video\n",
      "New video was added to the project! Use the function 'extract_frames' to select frames for labeling.\n",
      "The outlier frames are extracted. They are stored in the subdirectory labeled-data\\2018.10.23_10_06_58.\n",
      "Once you extracted frames for all videos, use 'refine_labels' to manually correct the labels.\n"
     ]
    },
    {
     "name": "stderr",
     "output_type": "stream",
     "text": [
      "\r",
      "0it [00:00, ?it/s]"
     ]
    },
    {
     "name": "stdout",
     "output_type": "stream",
     "text": [
      "Method  uncertain  found  198  putative outlier frames.\n",
      "Do you want to proceed with extracting  100  of those?\n",
      "If this list is very large, perhaps consider changing the paramters (start, stop, p_bound, comparisonbodyparts) or use a different method.\n",
      "Loading video...\n",
      "Duration of video [s]:  27.255 , recorded @  200.0 fps!\n",
      "Overall # of frames:  5451 with (cropped) frame dimensions: \n",
      "Kmeans-quantization based extracting of frames from 0.0  seconds to 27.25  seconds.\n",
      "Extracting and downsampling... 198  frames from the video.\n"
     ]
    },
    {
     "name": "stderr",
     "output_type": "stream",
     "text": [
      "198it [00:05, 37.81it/s]\n"
     ]
    },
    {
     "name": "stdout",
     "output_type": "stream",
     "text": [
      "Kmeans clustering ... (this might take a while)\n",
      "Let's select frames indices: [238, 803, 3247, 741, 796, 3007, 565, 812, 750, 3427, 732, 4432, 3060, 775, 3413, 241, 3234, 557, 720, 569, 756, 3416, 3045, 5358, 821, 3749, 765, 2930, 746, 3421, 3001, 3042, 308, 239, 237, 807, 4461, 738, 554, 799, 760, 571, 784, 768, 562, 825, 779, 3047, 3237, 242, 240, 575, 3231, 742, 735, 724, 559, 757, 817, 773, 3244, 752, 3012, 789, 761, 3417, 747, 743, 740, 736, 2997, 809, 737, 3426, 3002, 729, 824, 5351, 3414, 797, 744, 2999, 3004, 3419, 567, 3250, 805, 726, 766, 3423, 819, 574, 3238, 791, 823, 739, 553, 3233, 3243, 722]\n",
      "Creating the symbolic link of the video\n",
      "New video was added to the project! Use the function 'extract_frames' to select frames for labeling.\n",
      "The outlier frames are extracted. They are stored in the subdirectory labeled-data\\2018.10.23_12_00_43.\n",
      "Once you extracted frames for all videos, use 'refine_labels' to manually correct the labels.\n"
     ]
    },
    {
     "name": "stderr",
     "output_type": "stream",
     "text": [
      "\r",
      "0it [00:00, ?it/s]"
     ]
    },
    {
     "name": "stdout",
     "output_type": "stream",
     "text": [
      "Method  uncertain  found  382  putative outlier frames.\n",
      "Do you want to proceed with extracting  100  of those?\n",
      "If this list is very large, perhaps consider changing the paramters (start, stop, p_bound, comparisonbodyparts) or use a different method.\n",
      "Loading video...\n",
      "Duration of video [s]:  27.305 , recorded @  200.0 fps!\n",
      "Overall # of frames:  5461 with (cropped) frame dimensions: \n",
      "Kmeans-quantization based extracting of frames from 0.0  seconds to 27.3  seconds.\n",
      "Extracting and downsampling... 382  frames from the video.\n"
     ]
    },
    {
     "name": "stderr",
     "output_type": "stream",
     "text": [
      "382it [00:09, 39.84it/s]\n"
     ]
    },
    {
     "name": "stdout",
     "output_type": "stream",
     "text": [
      "Kmeans clustering ... (this might take a while)\n",
      "Let's select frames indices: [1252, 636, 4160, 2390, 2926, 1735, 1216, 2439, 2886, 1463, 1336, 1593, 4194, 2842, 1939, 3997, 2200, 1239, 2947, 2918, 1613, 2911, 2453, 3663, 4120, 1810, 1213, 1986, 1492, 2909, 1664, 2923, 2218, 1258, 2251, 2895, 2880, 2193, 1440, 2160, 2396, 1247, 2953, 1681, 2445, 2437, 1357, 2837, 1932, 4190, 2411, 1265, 1232, 4089, 4165, 2882, 2455, 1480, 1242, 2900, 2221, 2951, 1208, 2914, 1721, 2399, 2894, 2877, 1429, 1610, 4157, 4003, 2913, 1226, 1738, 1254, 2847, 2938, 1325, 3995, 1243, 1984, 2932, 2441, 1225, 1204, 2380, 2898, 1464, 2404, 2385, 1233, 1582, 2435, 1237, 1456, 4121, 2382, 1261, 1461]\n",
      "Creating the symbolic link of the video\n",
      "New video was added to the project! Use the function 'extract_frames' to select frames for labeling.\n",
      "The outlier frames are extracted. They are stored in the subdirectory labeled-data\\2018.10.23_12_02_11.\n",
      "Once you extracted frames for all videos, use 'refine_labels' to manually correct the labels.\n"
     ]
    },
    {
     "name": "stderr",
     "output_type": "stream",
     "text": [
      "\r",
      "0it [00:00, ?it/s]"
     ]
    },
    {
     "name": "stdout",
     "output_type": "stream",
     "text": [
      "Method  uncertain  found  696  putative outlier frames.\n",
      "Do you want to proceed with extracting  100  of those?\n",
      "If this list is very large, perhaps consider changing the paramters (start, stop, p_bound, comparisonbodyparts) or use a different method.\n",
      "Loading video...\n",
      "Duration of video [s]:  27.28 , recorded @  200.0 fps!\n",
      "Overall # of frames:  5456 with (cropped) frame dimensions: \n",
      "Kmeans-quantization based extracting of frames from 0.0  seconds to 27.28  seconds.\n",
      "Extracting and downsampling... 696  frames from the video.\n"
     ]
    },
    {
     "name": "stderr",
     "output_type": "stream",
     "text": [
      "696it [00:15, 43.97it/s]\n"
     ]
    },
    {
     "name": "stdout",
     "output_type": "stream",
     "text": [
      "Kmeans clustering ... (this might take a while)\n",
      "Let's select frames indices: [4327, 3505, 4203, 3553, 526, 3090, 2282, 2963, 3876, 2723, 3620, 3956, 1694, 3074, 3613, 3457, 3173, 1939, 3589, 1190, 3922, 1892, 2011, 4227, 957, 1338, 4330, 2876, 3517, 599, 4302, 4461, 3414, 4051, 3633, 1629, 4110, 4016, 3977, 3502, 3580, 571, 563, 4251, 3078, 3461, 588, 3686, 3976, 4020, 1272, 3465, 1351, 3085, 4162, 676, 2962, 2718, 3567, 3113, 4357, 2041, 2851, 3152, 3514, 4284, 3926, 3507, 4267, 2287, 2029, 2530, 2727, 3425, 4344, 469, 3456, 3058, 2143, 1344, 2247, 1981, 1489, 3601, 3405, 4046, 3462, 3630, 545, 3142, 3609, 2266, 3884, 3923, 3914, 4026, 3548, 4199, 1912, 2154]\n",
      "Creating the symbolic link of the video\n",
      "New video was added to the project! Use the function 'extract_frames' to select frames for labeling.\n",
      "The outlier frames are extracted. They are stored in the subdirectory labeled-data\\2018.10.22_19_09_59.\n",
      "Once you extracted frames for all videos, use 'refine_labels' to manually correct the labels.\n"
     ]
    },
    {
     "name": "stderr",
     "output_type": "stream",
     "text": [
      "\r",
      "0it [00:00, ?it/s]"
     ]
    },
    {
     "name": "stdout",
     "output_type": "stream",
     "text": [
      "Method  uncertain  found  467  putative outlier frames.\n",
      "Do you want to proceed with extracting  100  of those?\n",
      "If this list is very large, perhaps consider changing the paramters (start, stop, p_bound, comparisonbodyparts) or use a different method.\n",
      "Loading video...\n",
      "Duration of video [s]:  27.51 , recorded @  200.0 fps!\n",
      "Overall # of frames:  5502 with (cropped) frame dimensions: \n",
      "Kmeans-quantization based extracting of frames from 0.0  seconds to 27.51  seconds.\n",
      "Extracting and downsampling... 467  frames from the video.\n"
     ]
    },
    {
     "name": "stderr",
     "output_type": "stream",
     "text": [
      "467it [00:10, 44.87it/s]\n"
     ]
    },
    {
     "name": "stdout",
     "output_type": "stream",
     "text": [
      "Kmeans clustering ... (this might take a while)\n",
      "Let's select frames indices: [3762, 504, 2492, 2845, 2930, 3647, 570, 4617, 2516, 2616, 2558, 2654, 481, 2835, 2300, 1392, 2632, 2759, 509, 537, 4544, 2535, 2682, 1951, 1023, 2664, 1866, 2784, 249, 2495, 2483, 2380, 2562, 3676, 552, 798, 2852, 2502, 547, 3703, 3551, 2621, 2829, 529, 2237, 1619, 2786, 2345, 3685, 2896, 4565, 2667, 274, 1457, 2529, 500, 521, 4590, 524, 2617, 2590, 1397, 2522, 3645, 3659, 565, 4534, 2538, 2507, 486, 1389, 2755, 2657, 2511, 4559, 1299, 2609, 3705, 471, 2588, 2717, 3693, 2923, 2499, 2506, 4531, 2236, 1395, 517, 2936, 557, 567, 2627, 2489, 1463, 1415, 269, 2842, 1952]\n",
      "Creating the symbolic link of the video\n",
      "New video was added to the project! Use the function 'extract_frames' to select frames for labeling.\n",
      "The outlier frames are extracted. They are stored in the subdirectory labeled-data\\2018.10.22_19_17_23.\n",
      "Once you extracted frames for all videos, use 'refine_labels' to manually correct the labels.\n"
     ]
    },
    {
     "name": "stderr",
     "output_type": "stream",
     "text": [
      "\r",
      "0it [00:00, ?it/s]"
     ]
    },
    {
     "name": "stdout",
     "output_type": "stream",
     "text": [
      "Method  uncertain  found  342  putative outlier frames.\n",
      "Do you want to proceed with extracting  100  of those?\n",
      "If this list is very large, perhaps consider changing the paramters (start, stop, p_bound, comparisonbodyparts) or use a different method.\n",
      "Loading video...\n",
      "Duration of video [s]:  26.965 , recorded @  200.0 fps!\n",
      "Overall # of frames:  5393 with (cropped) frame dimensions: \n",
      "Kmeans-quantization based extracting of frames from 0.0  seconds to 26.96  seconds.\n",
      "Extracting and downsampling... 342  frames from the video.\n"
     ]
    },
    {
     "name": "stderr",
     "output_type": "stream",
     "text": [
      "342it [00:07, 44.76it/s]\n"
     ]
    },
    {
     "name": "stdout",
     "output_type": "stream",
     "text": [
      "Kmeans clustering ... (this might take a while)\n",
      "Let's select frames indices: [141, 2066, 457, 2186, 2683, 814, 2323, 2215, 1822, 805, 533, 732, 2138, 1749, 2671, 1306, 957, 1900, 2028, 2202, 2304, 1815, 258, 1136, 158, 49, 2044, 374, 318, 1127, 2225, 1376, 2058, 723, 2703, 2039, 2171, 2675, 362, 2152, 1373, 598, 1767, 1061, 2074, 194, 530, 2222, 1809, 249, 2142, 2657, 2027, 2310, 2200, 1905, 664, 986, 1165, 1311, 2125, 523, 1162, 2219, 608, 2319, 2188, 368, 1384, 1893, 1888, 372, 535, 1052, 2045, 2681, 2071, 1004, 217, 603, 323, 954, 1054, 1375, 600, 2038, 2164, 304, 2051, 468, 999, 2178, 2183, 1299, 2649, 2025, 2324, 256, 524, 2042]\n",
      "Creating the symbolic link of the video\n",
      "New video was added to the project! Use the function 'extract_frames' to select frames for labeling.\n",
      "The outlier frames are extracted. They are stored in the subdirectory labeled-data\\2018.10.22_19_26_30.\n",
      "Once you extracted frames for all videos, use 'refine_labels' to manually correct the labels.\n"
     ]
    },
    {
     "name": "stderr",
     "output_type": "stream",
     "text": [
      "\r",
      "0it [00:00, ?it/s]"
     ]
    },
    {
     "name": "stdout",
     "output_type": "stream",
     "text": [
      "Method  uncertain  found  330  putative outlier frames.\n",
      "Do you want to proceed with extracting  100  of those?\n",
      "If this list is very large, perhaps consider changing the paramters (start, stop, p_bound, comparisonbodyparts) or use a different method.\n",
      "Loading video...\n",
      "Duration of video [s]:  27.03 , recorded @  200.0 fps!\n",
      "Overall # of frames:  5406 with (cropped) frame dimensions: \n",
      "Kmeans-quantization based extracting of frames from 0.0  seconds to 27.03  seconds.\n",
      "Extracting and downsampling... 330  frames from the video.\n"
     ]
    },
    {
     "name": "stderr",
     "output_type": "stream",
     "text": [
      "330it [00:07, 44.30it/s]\n"
     ]
    },
    {
     "name": "stdout",
     "output_type": "stream",
     "text": [
      "Kmeans clustering ... (this might take a while)\n",
      "Let's select frames indices: [712, 3701, 260, 2797, 643, 2266, 2612, 2244, 1718, 695, 2781, 1693, 2542, 660, 726, 3145, 1798, 677, 594, 3819, 2802, 633, 2351, 3860, 764, 1736, 720, 670, 2630, 1726, 682, 3800, 2604, 2777, 2250, 2272, 781, 2787, 636, 3807, 3793, 705, 2338, 2522, 2616, 2539, 2178, 650, 1556, 2619, 1789, 2435, 3781, 3812, 732, 606, 687, 3170, 685, 2622, 774, 641, 2283, 730, 658, 2610, 1452, 2260, 711, 3716, 1729, 666, 675, 2607, 1144, 2805, 2538, 1690, 2621, 3679, 2248, 700, 1739, 652, 3134, 1791, 3801, 2774, 1737, 663, 3808, 2541, 628, 692, 722, 3748, 1802, 3690, 2229]\n",
      "Creating the symbolic link of the video\n",
      "New video was added to the project! Use the function 'extract_frames' to select frames for labeling.\n",
      "The outlier frames are extracted. They are stored in the subdirectory labeled-data\\2018.10.22_19_29_05.\n",
      "Once you extracted frames for all videos, use 'refine_labels' to manually correct the labels.\n"
     ]
    },
    {
     "name": "stderr",
     "output_type": "stream",
     "text": [
      "\r",
      "0it [00:00, ?it/s]"
     ]
    },
    {
     "name": "stdout",
     "output_type": "stream",
     "text": [
      "Method  uncertain  found  614  putative outlier frames.\n",
      "Do you want to proceed with extracting  100  of those?\n",
      "If this list is very large, perhaps consider changing the paramters (start, stop, p_bound, comparisonbodyparts) or use a different method.\n",
      "Loading video...\n",
      "Duration of video [s]:  27.045 , recorded @  200.0 fps!\n",
      "Overall # of frames:  5409 with (cropped) frame dimensions: \n",
      "Kmeans-quantization based extracting of frames from 0.0  seconds to 27.05  seconds.\n",
      "Extracting and downsampling... 614  frames from the video.\n"
     ]
    },
    {
     "name": "stderr",
     "output_type": "stream",
     "text": [
      "614it [00:13, 45.07it/s]\n"
     ]
    },
    {
     "name": "stdout",
     "output_type": "stream",
     "text": [
      "Kmeans clustering ... (this might take a while)\n",
      "Let's select frames indices: [5335, 4986, 1260, 2296, 2955, 5237, 1246, 2411, 5360, 5158, 2542, 4857, 1188, 1533, 4837, 3127, 5274, 5207, 5174, 5114, 1059, 5044, 5303, 2277, 1251, 5105, 5150, 1018, 5090, 5252, 5300, 1179, 5004, 5052, 5197, 1022, 2077, 4940, 1008, 1385, 1197, 2233, 1716, 2313, 1239, 2400, 5400, 4919, 5357, 1063, 5138, 5075, 4967, 2279, 4863, 5364, 4968, 5355, 2295, 5023, 1829, 5145, 2318, 4992, 4905, 5260, 4971, 5249, 5388, 1450, 5003, 1286, 5179, 5323, 5087, 1254, 5123, 5405, 4849, 5328, 4981, 5068, 5057, 4924, 5191, 4946, 5229, 5378, 4824, 3185, 5119, 5183, 5295, 4921, 5031, 1182, 4844, 2985, 5140, 2951]\n",
      "Creating the symbolic link of the video\n",
      "New video was added to the project! Use the function 'extract_frames' to select frames for labeling.\n",
      "The outlier frames are extracted. They are stored in the subdirectory labeled-data\\2018.10.22_19_30_43.\n",
      "Once you extracted frames for all videos, use 'refine_labels' to manually correct the labels.\n"
     ]
    },
    {
     "name": "stderr",
     "output_type": "stream",
     "text": [
      "\r",
      "0it [00:00, ?it/s]"
     ]
    },
    {
     "name": "stdout",
     "output_type": "stream",
     "text": [
      "Method  uncertain  found  587  putative outlier frames.\n",
      "Do you want to proceed with extracting  100  of those?\n",
      "If this list is very large, perhaps consider changing the paramters (start, stop, p_bound, comparisonbodyparts) or use a different method.\n",
      "Loading video...\n",
      "Duration of video [s]:  26.975 , recorded @  200.0 fps!\n",
      "Overall # of frames:  5395 with (cropped) frame dimensions: \n",
      "Kmeans-quantization based extracting of frames from 0.0  seconds to 26.98  seconds.\n",
      "Extracting and downsampling... 587  frames from the video.\n"
     ]
    },
    {
     "name": "stderr",
     "output_type": "stream",
     "text": [
      "587it [00:12, 46.24it/s]\n"
     ]
    },
    {
     "name": "stdout",
     "output_type": "stream",
     "text": [
      "Kmeans clustering ... (this might take a while)\n",
      "Let's select frames indices: [3131, 3454, 2989, 2542, 3280, 3049, 3083, 2965, 3167, 3344, 2943, 419, 3010, 3239, 3076, 4879, 3226, 3480, 3386, 3107, 3434, 2953, 3319, 3196, 3363, 3150, 3043, 3187, 3122, 2978, 3266, 3493, 3018, 3143, 3209, 3160, 3323, 3430, 3036, 3504, 3439, 3272, 3118, 2959, 3060, 3302, 3497, 3308, 3436, 3023, 3123, 3468, 2972, 3135, 3179, 3218, 3104, 2951, 2994, 3093, 3235, 3119, 3248, 3409, 3092, 3422, 3052, 2962, 2981, 3376, 3591, 3461, 3215, 2947, 3350, 3186, 2985, 3120, 3129, 3464, 3028, 3289, 3166, 3379, 3192, 3333, 3322, 3007, 3147, 3343, 3488, 3101, 3000, 3039, 2969, 3003, 3477, 3084, 3171, 3356]\n",
      "Creating the symbolic link of the video\n",
      "New video was added to the project! Use the function 'extract_frames' to select frames for labeling.\n",
      "The outlier frames are extracted. They are stored in the subdirectory labeled-data\\2018.10.22_20_50_15.\n",
      "Once you extracted frames for all videos, use 'refine_labels' to manually correct the labels.\n"
     ]
    },
    {
     "name": "stderr",
     "output_type": "stream",
     "text": [
      "\r",
      "0it [00:00, ?it/s]"
     ]
    },
    {
     "name": "stdout",
     "output_type": "stream",
     "text": [
      "Method  uncertain  found  392  putative outlier frames.\n",
      "Do you want to proceed with extracting  100  of those?\n",
      "If this list is very large, perhaps consider changing the paramters (start, stop, p_bound, comparisonbodyparts) or use a different method.\n",
      "Loading video...\n",
      "Duration of video [s]:  27.2 , recorded @  200.0 fps!\n",
      "Overall # of frames:  5440 with (cropped) frame dimensions: \n",
      "Kmeans-quantization based extracting of frames from 0.0  seconds to 27.2  seconds.\n",
      "Extracting and downsampling... 392  frames from the video.\n"
     ]
    },
    {
     "name": "stderr",
     "output_type": "stream",
     "text": [
      "392it [00:08, 45.30it/s]\n"
     ]
    },
    {
     "name": "stdout",
     "output_type": "stream",
     "text": [
      "Kmeans clustering ... (this might take a while)\n",
      "Let's select frames indices: [2298, 1149, 3706, 1215, 1261, 939, 1234, 1175, 1305, 950, 924, 2002, 3760, 3404, 2971, 4500, 1050, 1201, 1333, 5131, 1251, 1287, 2752, 2505, 2098, 1152, 1239, 1187, 1229, 2096, 2678, 4498, 1362, 1173, 4496, 1311, 997, 896, 2104, 963, 878, 1107, 1278, 3712, 4831, 2368, 2914, 840, 917, 1269, 1225, 2107, 1181, 2233, 1236, 1249, 3805, 1163, 1211, 1230, 1258, 4822, 2100, 1183, 1646, 1302, 938, 2597, 2508, 1168, 1159, 1194, 1213, 2754, 2960, 1998, 1216, 2099, 2370, 1207, 936, 1310, 2510, 1188, 1307, 3703, 4502, 1151, 3719, 3786, 3409, 1243, 3799, 3734, 1274, 2094, 1204, 958, 1291, 1005]\n",
      "Creating the symbolic link of the video\n",
      "New video was added to the project! Use the function 'extract_frames' to select frames for labeling.\n",
      "The outlier frames are extracted. They are stored in the subdirectory labeled-data\\2018.10.22_19_57_26.\n",
      "Once you extracted frames for all videos, use 'refine_labels' to manually correct the labels.\n"
     ]
    },
    {
     "name": "stderr",
     "output_type": "stream",
     "text": [
      "\r",
      "0it [00:00, ?it/s]"
     ]
    },
    {
     "name": "stdout",
     "output_type": "stream",
     "text": [
      "Method  uncertain  found  448  putative outlier frames.\n",
      "Do you want to proceed with extracting  100  of those?\n",
      "If this list is very large, perhaps consider changing the paramters (start, stop, p_bound, comparisonbodyparts) or use a different method.\n",
      "Loading video...\n",
      "Duration of video [s]:  26.98 , recorded @  200.0 fps!\n",
      "Overall # of frames:  5396 with (cropped) frame dimensions: \n",
      "Kmeans-quantization based extracting of frames from 0.0  seconds to 26.98  seconds.\n",
      "Extracting and downsampling... 448  frames from the video.\n"
     ]
    },
    {
     "name": "stderr",
     "output_type": "stream",
     "text": [
      "448it [00:09, 45.36it/s]\n"
     ]
    },
    {
     "name": "stdout",
     "output_type": "stream",
     "text": [
      "Kmeans clustering ... (this might take a while)\n",
      "Let's select frames indices: [565, 2354, 3722, 4472, 4327, 3496, 4686, 4926, 1035, 2392, 4706, 4428, 2373, 4656, 2337, 2301, 2812, 3730, 4291, 4494, 2265, 4453, 2286, 3534, 3693, 2340, 3810, 1425, 2410, 3856, 4646, 3524, 1769, 2049, 4696, 3462, 2378, 1043, 4930, 3748, 1738, 3851, 660, 2694, 3719, 3493, 4320, 2401, 3800, 2290, 2830, 4142, 4370, 3707, 3829, 4466, 3517, 2346, 560, 2272, 570, 2361, 5344, 4435, 4387, 4305, 2294, 4344, 4487, 4458, 4699, 3511, 4688, 3733, 3715, 4921, 4431, 4474, 2334, 3728, 2338, 4439, 4285, 3527, 3522, 1379, 4927, 4652, 2350, 3502, 3528, 4481, 4484, 4654, 568, 4443, 4705, 2382, 4505, 4375]\n",
      "Creating the symbolic link of the video\n",
      "New video was added to the project! Use the function 'extract_frames' to select frames for labeling.\n",
      "The outlier frames are extracted. They are stored in the subdirectory labeled-data\\2018.10.24_09_17_31.\n",
      "Once you extracted frames for all videos, use 'refine_labels' to manually correct the labels.\n"
     ]
    },
    {
     "name": "stderr",
     "output_type": "stream",
     "text": [
      "\r",
      "0it [00:00, ?it/s]"
     ]
    },
    {
     "name": "stdout",
     "output_type": "stream",
     "text": [
      "Method  uncertain  found  624  putative outlier frames.\n",
      "Do you want to proceed with extracting  100  of those?\n",
      "If this list is very large, perhaps consider changing the paramters (start, stop, p_bound, comparisonbodyparts) or use a different method.\n",
      "Loading video...\n",
      "Duration of video [s]:  27.085 , recorded @  200.0 fps!\n",
      "Overall # of frames:  5417 with (cropped) frame dimensions: \n",
      "Kmeans-quantization based extracting of frames from 0.0  seconds to 27.09  seconds.\n",
      "Extracting and downsampling... 623  frames from the video.\n"
     ]
    },
    {
     "name": "stderr",
     "output_type": "stream",
     "text": [
      "623it [00:12, 48.95it/s]\n"
     ]
    },
    {
     "name": "stdout",
     "output_type": "stream",
     "text": [
      "Kmeans clustering ... (this might take a while)\n",
      "Let's select frames indices: [543, 305, 136, 3949, 2421, 288, 1929, 1499, 227, 2467, 347, 1894, 2136, 3690, 4653, 3931, 1908, 2447, 1970, 2597, 2479, 2375, 2455, 3940, 550, 667, 2407, 319, 291, 1915, 46, 1974, 2853, 2594, 1950, 357, 3942, 3651, 1923, 2139, 12, 321, 247, 1170, 2438, 1934, 1489, 2464, 165, 1914, 3944, 3936, 1900, 2476, 2429, 2459, 2406, 1981, 2135, 549, 75, 215, 2381, 31, 246, 1411, 42, 302, 204, 1946, 1496, 235, 1927, 328, 250, 1966, 104, 266, 2463, 335, 351, 243, 2412, 339, 2451, 2457, 1976, 185, 1909, 223, 2378, 3928, 206, 126, 2445, 1891, 1931, 962, 311, 201]\n",
      "Creating the symbolic link of the video\n",
      "New video was added to the project! Use the function 'extract_frames' to select frames for labeling.\n",
      "The outlier frames are extracted. They are stored in the subdirectory labeled-data\\2018.10.24_09_33_53.\n",
      "Once you extracted frames for all videos, use 'refine_labels' to manually correct the labels.\n"
     ]
    },
    {
     "name": "stderr",
     "output_type": "stream",
     "text": [
      "\r",
      "0it [00:00, ?it/s]"
     ]
    },
    {
     "name": "stdout",
     "output_type": "stream",
     "text": [
      "Method  uncertain  found  253  putative outlier frames.\n",
      "Do you want to proceed with extracting  100  of those?\n",
      "If this list is very large, perhaps consider changing the paramters (start, stop, p_bound, comparisonbodyparts) or use a different method.\n",
      "Loading video...\n",
      "Duration of video [s]:  26.965 , recorded @  200.0 fps!\n",
      "Overall # of frames:  5393 with (cropped) frame dimensions: \n",
      "Kmeans-quantization based extracting of frames from 0.0  seconds to 26.96  seconds.\n",
      "Extracting and downsampling... 253  frames from the video.\n"
     ]
    },
    {
     "name": "stderr",
     "output_type": "stream",
     "text": [
      "253it [00:05, 45.67it/s]\n"
     ]
    },
    {
     "name": "stdout",
     "output_type": "stream",
     "text": [
      "Kmeans clustering ... (this might take a while)\n",
      "Let's select frames indices: [3923, 789, 2664, 2799, 144, 2731, 750, 2810, 761, 3438, 3458, 3871, 805, 3941, 3102, 4031, 2671, 3909, 4213, 3342, 4843, 2642, 3444, 2739, 778, 504, 2699, 768, 2723, 142, 3455, 2694, 2638, 2820, 4209, 2662, 3868, 3451, 799, 4034, 2688, 214, 2718, 4242, 771, 2753, 3926, 811, 4035, 3944, 2761, 836, 3414, 3341, 3442, 2644, 127, 2648, 747, 147, 781, 4212, 3939, 3448, 4033, 2666, 2632, 2803, 3443, 800, 507, 2720, 2690, 786, 3911, 2817, 3922, 134, 752, 3940, 3439, 2807, 2640, 3927, 2738, 3460, 2685, 3447, 2659, 4211, 780, 3943, 2696, 3924, 776, 793, 764, 2714, 146, 2719]\n",
      "Creating the symbolic link of the video\n",
      "New video was added to the project! Use the function 'extract_frames' to select frames for labeling.\n",
      "The outlier frames are extracted. They are stored in the subdirectory labeled-data\\2018.10.24_10_38_34.\n",
      "Once you extracted frames for all videos, use 'refine_labels' to manually correct the labels.\n",
      "Skipping [] 2018.10.23_18_48_37\n"
     ]
    },
    {
     "name": "stderr",
     "output_type": "stream",
     "text": [
      "\r",
      "0it [00:00, ?it/s]"
     ]
    },
    {
     "name": "stdout",
     "output_type": "stream",
     "text": [
      "Method  uncertain  found  274  putative outlier frames.\n",
      "Do you want to proceed with extracting  100  of those?\n",
      "If this list is very large, perhaps consider changing the paramters (start, stop, p_bound, comparisonbodyparts) or use a different method.\n",
      "Loading video...\n",
      "Duration of video [s]:  27.005 , recorded @  200.0 fps!\n",
      "Overall # of frames:  5401 with (cropped) frame dimensions: \n",
      "Kmeans-quantization based extracting of frames from 0.0  seconds to 27.0  seconds.\n",
      "Extracting and downsampling... 274  frames from the video.\n"
     ]
    },
    {
     "name": "stderr",
     "output_type": "stream",
     "text": [
      "274it [00:06, 41.41it/s]\n"
     ]
    },
    {
     "name": "stdout",
     "output_type": "stream",
     "text": [
      "Kmeans clustering ... (this might take a while)\n",
      "Let's select frames indices: [5179, 437, 2133, 3184, 1747, 5397, 2173, 2151, 412, 514, 2548, 265, 2396, 1818, 1662, 2326, 5332, 3192, 2144, 456, 1825, 1743, 1947, 5161, 2150, 419, 2170, 1721, 1836, 3187, 2397, 1670, 1690, 1828, 2390, 1949, 2158, 2535, 5291, 3177, 2552, 5163, 2154, 452, 2126, 1738, 297, 449, 1749, 2137, 2331, 3188, 5359, 1794, 424, 3215, 523, 2398, 1791, 1725, 1948, 401, 1829, 2174, 2125, 2169, 2551, 430, 3189, 3194, 351, 1827, 2323, 1822, 1742, 1740, 415, 5162, 5279, 2399, 3162, 2127, 436, 266, 2536, 3191, 1745, 1741, 408, 1835, 2172, 2550, 3181, 2324, 526, 1746, 2140, 2330]\n",
      "Creating the symbolic link of the video\n",
      "New video was added to the project! Use the function 'extract_frames' to select frames for labeling.\n",
      "The outlier frames are extracted. They are stored in the subdirectory labeled-data\\2018.10.23_19_42_44.\n",
      "Once you extracted frames for all videos, use 'refine_labels' to manually correct the labels.\n"
     ]
    },
    {
     "name": "stderr",
     "output_type": "stream",
     "text": [
      "2it [00:00, 18.73it/s]"
     ]
    },
    {
     "name": "stdout",
     "output_type": "stream",
     "text": [
      "Method  uncertain  found  728  putative outlier frames.\n",
      "Do you want to proceed with extracting  100  of those?\n",
      "If this list is very large, perhaps consider changing the paramters (start, stop, p_bound, comparisonbodyparts) or use a different method.\n",
      "Loading video...\n",
      "Duration of video [s]:  26.995 , recorded @  200.0 fps!\n",
      "Overall # of frames:  5399 with (cropped) frame dimensions: \n",
      "Kmeans-quantization based extracting of frames from 0.0  seconds to 27.0  seconds.\n",
      "Extracting and downsampling... 728  frames from the video.\n"
     ]
    },
    {
     "name": "stderr",
     "output_type": "stream",
     "text": [
      "728it [00:17, 41.72it/s]\n"
     ]
    },
    {
     "name": "stdout",
     "output_type": "stream",
     "text": [
      "Kmeans clustering ... (this might take a while)\n",
      "Let's select frames indices: [1464, 5298, 2886, 543, 2911, 2984, 472, 3559, 636, 501, 2573, 1577, 1974, 5242, 449, 824, 2586, 3227, 463, 493, 885, 530, 911, 5377, 670, 753, 456, 5327, 568, 491, 556, 3226, 459, 482, 2722, 576, 5301, 5312, 439, 1178, 854, 1113, 5321, 537, 2583, 703, 5288, 1011, 498, 496, 2899, 3557, 2924, 3020, 716, 637, 558, 1280, 528, 464, 758, 542, 1117, 534, 904, 564, 547, 919, 1970, 499, 2996, 892, 5304, 1069, 453, 992, 2883, 1142, 2904, 868, 1223, 1473, 541, 973, 5315, 5273, 481, 5294, 5310, 2891, 1973, 1636, 819, 1239, 5300, 842, 500, 2569, 1413, 5289]\n",
      "Creating the symbolic link of the video\n",
      "New video was added to the project! Use the function 'extract_frames' to select frames for labeling.\n",
      "The outlier frames are extracted. They are stored in the subdirectory labeled-data\\2018.10.23_19_43_30.\n",
      "Once you extracted frames for all videos, use 'refine_labels' to manually correct the labels.\n"
     ]
    },
    {
     "name": "stderr",
     "output_type": "stream",
     "text": [
      "\r",
      "0it [00:00, ?it/s]"
     ]
    },
    {
     "name": "stdout",
     "output_type": "stream",
     "text": [
      "Method  uncertain  found  524  putative outlier frames.\n",
      "Do you want to proceed with extracting  100  of those?\n",
      "If this list is very large, perhaps consider changing the paramters (start, stop, p_bound, comparisonbodyparts) or use a different method.\n",
      "Loading video...\n",
      "Duration of video [s]:  26.98 , recorded @  200.0 fps!\n",
      "Overall # of frames:  5396 with (cropped) frame dimensions: \n",
      "Kmeans-quantization based extracting of frames from 0.0  seconds to 26.98  seconds.\n",
      "Extracting and downsampling... 524  frames from the video.\n"
     ]
    },
    {
     "name": "stderr",
     "output_type": "stream",
     "text": [
      "524it [00:13, 40.26it/s]\n"
     ]
    },
    {
     "name": "stdout",
     "output_type": "stream",
     "text": [
      "Kmeans clustering ... (this might take a while)\n",
      "Let's select frames indices: [5123, 3039, 2419, 5264, 4447, 740, 2375, 889, 5181, 2389, 5067, 701, 1809, 5365, 894, 3801, 936, 662, 927, 817, 2489, 599, 5036, 5140, 433, 3070, 5087, 426, 3017, 5096, 4435, 657, 5321, 2105, 747, 725, 2395, 5113, 4456, 885, 2613, 5309, 4221, 4466, 908, 926, 5188, 705, 5231, 893, 3814, 2384, 933, 909, 713, 655, 5118, 921, 913, 431, 737, 3034, 901, 650, 660, 5090, 2554, 5127, 709, 3808, 2253, 5210, 5338, 5031, 1802, 906, 652, 4452, 5074, 887, 5144, 745, 929, 5064, 5110, 2429, 2413, 718, 2501, 5104, 815, 918, 714, 3066, 5390, 880, 923, 898, 3810, 891]\n",
      "Creating the symbolic link of the video\n",
      "New video was added to the project! Use the function 'extract_frames' to select frames for labeling.\n",
      "The outlier frames are extracted. They are stored in the subdirectory labeled-data\\2018.10.23_19_44_32.\n",
      "Once you extracted frames for all videos, use 'refine_labels' to manually correct the labels.\n"
     ]
    },
    {
     "name": "stderr",
     "output_type": "stream",
     "text": [
      "\r",
      "0it [00:00, ?it/s]"
     ]
    },
    {
     "name": "stdout",
     "output_type": "stream",
     "text": [
      "Method  uncertain  found  368  putative outlier frames.\n",
      "Do you want to proceed with extracting  100  of those?\n",
      "If this list is very large, perhaps consider changing the paramters (start, stop, p_bound, comparisonbodyparts) or use a different method.\n",
      "Loading video...\n",
      "Duration of video [s]:  27.01 , recorded @  200.0 fps!\n",
      "Overall # of frames:  5402 with (cropped) frame dimensions: \n",
      "Kmeans-quantization based extracting of frames from 0.0  seconds to 27.01  seconds.\n",
      "Extracting and downsampling... 368  frames from the video.\n"
     ]
    },
    {
     "name": "stderr",
     "output_type": "stream",
     "text": [
      "368it [00:08, 42.21it/s]\n"
     ]
    },
    {
     "name": "stdout",
     "output_type": "stream",
     "text": [
      "Kmeans clustering ... (this might take a while)\n",
      "Let's select frames indices: [565, 395, 4634, 1544, 2514, 990, 599, 1516, 416, 4653, 1009, 1482, 630, 380, 2399, 359, 1350, 2052, 594, 2375, 368, 2147, 4612, 1356, 626, 550, 971, 620, 1548, 4630, 1530, 708, 1366, 548, 388, 623, 1014, 1365, 4624, 432, 355, 364, 404, 573, 377, 1545, 1362, 547, 1539, 372, 1511, 628, 4646, 1001, 420, 977, 1004, 439, 631, 1003, 2537, 989, 4639, 618, 400, 393, 1364, 384, 1500, 1352, 2406, 2392, 997, 1010, 1549, 2372, 968, 4643, 1481, 4615, 4622, 357, 2504, 625, 362, 1506, 557, 967, 1000, 1520, 1534, 430, 399, 577, 559, 4611, 2479, 383, 1357, 4649]\n",
      "Creating the symbolic link of the video\n",
      "New video was added to the project! Use the function 'extract_frames' to select frames for labeling.\n",
      "The outlier frames are extracted. They are stored in the subdirectory labeled-data\\2018.10.23_19_45_24.\n",
      "Once you extracted frames for all videos, use 'refine_labels' to manually correct the labels.\n",
      "Method  uncertain  found  643  putative outlier frames.\n",
      "Do you want to proceed with extracting  100  of those?\n",
      "If this list is very large, perhaps consider changing the paramters (start, stop, p_bound, comparisonbodyparts) or use a different method.\n"
     ]
    },
    {
     "name": "stderr",
     "output_type": "stream",
     "text": [
      "3it [00:00, 26.76it/s]"
     ]
    },
    {
     "name": "stdout",
     "output_type": "stream",
     "text": [
      "Loading video...\n",
      "Duration of video [s]:  27.02 , recorded @  200.0 fps!\n",
      "Overall # of frames:  5404 with (cropped) frame dimensions: \n",
      "Kmeans-quantization based extracting of frames from 0.0  seconds to 27.02  seconds.\n",
      "Extracting and downsampling... 643  frames from the video.\n"
     ]
    },
    {
     "name": "stderr",
     "output_type": "stream",
     "text": [
      "643it [00:15, 41.54it/s]\n"
     ]
    },
    {
     "name": "stdout",
     "output_type": "stream",
     "text": [
      "Kmeans clustering ... (this might take a while)\n",
      "Let's select frames indices: [2206, 4024, 3484, 3625, 1359, 2270, 4861, 1871, 1143, 4922, 3424, 1545, 3290, 3917, 424, 1379, 996, 999, 2292, 4925, 4611, 873, 1001, 2316, 986, 3514, 187, 993, 1069, 1605, 3548, 1148, 3976, 4916, 3664, 991, 4738, 4436, 3323, 4974, 4869, 4346, 403, 4092, 983, 1868, 2294, 189, 4644, 4529, 1000, 2285, 4456, 3473, 4923, 4786, 4862, 2317, 1556, 4343, 4917, 4850, 3685, 3295, 1362, 1157, 3291, 3592, 428, 4441, 4008, 4790, 3642, 4767, 3881, 2274, 3434, 4060, 3617, 3492, 1870, 3640, 3930, 4440, 3601, 1144, 4154, 2216, 4043, 4726, 1891, 2306, 4613, 3589, 4735, 3603, 3904, 3301, 3505, 3430]\n",
      "Creating the symbolic link of the video\n",
      "New video was added to the project! Use the function 'extract_frames' to select frames for labeling.\n",
      "The outlier frames are extracted. They are stored in the subdirectory labeled-data\\2018.10.23_19_46_10.\n",
      "Once you extracted frames for all videos, use 'refine_labels' to manually correct the labels.\n"
     ]
    },
    {
     "name": "stderr",
     "output_type": "stream",
     "text": [
      "3it [00:00, 27.01it/s]"
     ]
    },
    {
     "name": "stdout",
     "output_type": "stream",
     "text": [
      "Method  uncertain  found  434  putative outlier frames.\n",
      "Do you want to proceed with extracting  100  of those?\n",
      "If this list is very large, perhaps consider changing the paramters (start, stop, p_bound, comparisonbodyparts) or use a different method.\n",
      "Loading video...\n",
      "Duration of video [s]:  26.965 , recorded @  200.0 fps!\n",
      "Overall # of frames:  5393 with (cropped) frame dimensions: \n",
      "Kmeans-quantization based extracting of frames from 0.0  seconds to 26.96  seconds.\n",
      "Extracting and downsampling... 434  frames from the video.\n"
     ]
    },
    {
     "name": "stderr",
     "output_type": "stream",
     "text": [
      "434it [00:09, 43.47it/s]\n"
     ]
    },
    {
     "name": "stdout",
     "output_type": "stream",
     "text": [
      "Kmeans clustering ... (this might take a while)\n",
      "Let's select frames indices: [3586, 300, 2763, 3687, 1387, 696, 1983, 1923, 2684, 1023, 2421, 1377, 1134, 3519, 2860, 1811, 1386, 1451, 3773, 1192, 1949, 3766, 1383, 2815, 700, 3607, 1148, 3018, 2419, 1388, 2643, 1131, 2674, 693, 2800, 3758, 3442, 2707, 701, 3550, 1145, 1986, 1935, 2682, 3771, 2667, 3656, 213, 197, 2794, 249, 3628, 3547, 3561, 3506, 2791, 3721, 2761, 3580, 2712, 2937, 2774, 699, 1135, 3661, 3536, 2642, 1924, 2668, 3543, 2661, 3641, 3740, 248, 3486, 3530, 1920, 2757, 3569, 3697, 3711, 3488, 3539, 3772, 2771, 3679, 2857, 3761, 3691, 3595, 2882, 3552, 3608, 3768, 2719, 3639, 2665, 3509, 3565, 2806]\n",
      "Creating the symbolic link of the video\n",
      "New video was added to the project! Use the function 'extract_frames' to select frames for labeling.\n",
      "The outlier frames are extracted. They are stored in the subdirectory labeled-data\\2018.10.23_19_46_41.\n",
      "Once you extracted frames for all videos, use 'refine_labels' to manually correct the labels.\n"
     ]
    },
    {
     "name": "stderr",
     "output_type": "stream",
     "text": [
      "\r",
      "0it [00:00, ?it/s]"
     ]
    },
    {
     "name": "stdout",
     "output_type": "stream",
     "text": [
      "Method  uncertain  found  1509  putative outlier frames.\n",
      "Do you want to proceed with extracting  100  of those?\n",
      "If this list is very large, perhaps consider changing the paramters (start, stop, p_bound, comparisonbodyparts) or use a different method.\n",
      "Loading video...\n",
      "Duration of video [s]:  26.97 , recorded @  200.0 fps!\n",
      "Overall # of frames:  5394 with (cropped) frame dimensions: \n",
      "Kmeans-quantization based extracting of frames from 0.0  seconds to 26.97  seconds.\n",
      "Extracting and downsampling... 1509  frames from the video.\n"
     ]
    },
    {
     "name": "stderr",
     "output_type": "stream",
     "text": [
      "1509it [00:33, 45.41it/s]\n"
     ]
    },
    {
     "name": "stdout",
     "output_type": "stream",
     "text": [
      "Kmeans clustering ... (this might take a while)\n",
      "Let's select frames indices: [4904, 1142, 5013, 1469, 3730, 98, 570, 3864, 3508, 1479, 1145, 43, 2152, 591, 1482, 849, 4202, 1165, 3885, 1170, 3648, 4054, 1011, 830, 4560, 827, 1127, 2156, 3979, 117, 3831, 5122, 3642, 4944, 109, 1137, 1484, 5186, 566, 3641, 4104, 470, 3471, 4239, 3412, 3986, 3699, 5146, 5010, 5302, 3688, 3911, 4659, 3597, 3873, 4952, 1154, 4593, 4543, 567, 4790, 3660, 3450, 3668, 105, 5360, 4921, 4090, 3759, 4170, 4157, 4340, 3896, 5084, 4620, 4295, 4361, 3553, 4427, 4710, 3939, 5039, 4319, 3879, 4190, 3778, 5079, 3999, 4009, 4531, 3654, 3951, 3801, 3528, 4129, 4033, 3798, 4764, 4851, 3722]\n",
      "Creating the symbolic link of the video\n",
      "New video was added to the project! Use the function 'extract_frames' to select frames for labeling.\n",
      "The outlier frames are extracted. They are stored in the subdirectory labeled-data\\2018.10.23_19_47_18.\n",
      "Once you extracted frames for all videos, use 'refine_labels' to manually correct the labels.\n"
     ]
    },
    {
     "name": "stderr",
     "output_type": "stream",
     "text": [
      "\r",
      "0it [00:00, ?it/s]"
     ]
    },
    {
     "name": "stdout",
     "output_type": "stream",
     "text": [
      "Method  uncertain  found  869  putative outlier frames.\n",
      "Do you want to proceed with extracting  100  of those?\n",
      "If this list is very large, perhaps consider changing the paramters (start, stop, p_bound, comparisonbodyparts) or use a different method.\n",
      "Loading video...\n",
      "Duration of video [s]:  26.95 , recorded @  200.0 fps!\n",
      "Overall # of frames:  5390 with (cropped) frame dimensions: \n",
      "Kmeans-quantization based extracting of frames from 0.0  seconds to 26.95  seconds.\n",
      "Extracting and downsampling... 869  frames from the video.\n"
     ]
    },
    {
     "name": "stderr",
     "output_type": "stream",
     "text": [
      "869it [00:19, 43.94it/s]\n"
     ]
    },
    {
     "name": "stdout",
     "output_type": "stream",
     "text": [
      "Kmeans clustering ... (this might take a while)\n",
      "Let's select frames indices: [3195, 3648, 3344, 1833, 3926, 3227, 3868, 2121, 2164, 3440, 3558, 2950, 1837, 4103, 520, 3796, 3585, 3209, 3773, 1267, 3949, 1798, 1815, 3728, 3294, 3377, 3900, 3525, 2956, 932, 1806, 3851, 2128, 2946, 3803, 3512, 3945, 3309, 1787, 3217, 3739, 3261, 3638, 1825, 3550, 3910, 3420, 3572, 3778, 1846, 1827, 3811, 2354, 3836, 3897, 3948, 3391, 2133, 3384, 3176, 3200, 3793, 1809, 3492, 3545, 3913, 3674, 2131, 3222, 3205, 3596, 3887, 1834, 3629, 3458, 3276, 3906, 3371, 3657, 2124, 3264, 3416, 3245, 3751, 3211, 3756, 3457, 3853, 3249, 3481, 3317, 1819, 3613, 3606, 3189, 3541, 3841, 3346, 3783, 3576]\n",
      "Creating the symbolic link of the video\n",
      "New video was added to the project! Use the function 'extract_frames' to select frames for labeling.\n",
      "The outlier frames are extracted. They are stored in the subdirectory labeled-data\\2018.10.23_19_48_27.\n",
      "Once you extracted frames for all videos, use 'refine_labels' to manually correct the labels.\n"
     ]
    },
    {
     "name": "stderr",
     "output_type": "stream",
     "text": [
      "\r",
      "0it [00:00, ?it/s]"
     ]
    },
    {
     "name": "stdout",
     "output_type": "stream",
     "text": [
      "Method  uncertain  found  1628  putative outlier frames.\n",
      "Do you want to proceed with extracting  100  of those?\n",
      "If this list is very large, perhaps consider changing the paramters (start, stop, p_bound, comparisonbodyparts) or use a different method.\n",
      "Loading video...\n",
      "Duration of video [s]:  26.975 , recorded @  200.0 fps!\n",
      "Overall # of frames:  5395 with (cropped) frame dimensions: \n",
      "Kmeans-quantization based extracting of frames from 0.0  seconds to 26.98  seconds.\n",
      "Extracting and downsampling... 1628  frames from the video.\n"
     ]
    },
    {
     "name": "stderr",
     "output_type": "stream",
     "text": [
      "1628it [00:36, 44.79it/s]\n"
     ]
    },
    {
     "name": "stdout",
     "output_type": "stream",
     "text": [
      "Kmeans clustering ... (this might take a while)\n",
      "Let's select frames indices: [4938, 1254, 4063, 4014, 1747, 4611, 4636, 1000, 5070, 390, 375, 2027, 152, 4186, 481, 598, 3956, 4697, 4234, 3906, 4528, 5347, 1239, 4441, 4748, 4765, 5199, 4490, 989, 5286, 4858, 4006, 1423, 4674, 59, 3849, 4376, 4150, 5031, 1043, 4815, 4117, 4990, 4293, 4877, 4724, 4230, 4653, 4736, 3896, 5176, 3859, 4600, 4690, 3999, 4684, 4432, 5245, 4319, 5160, 4517, 5049, 5020, 3915, 4046, 4773, 4216, 4357, 5134, 4785, 5388, 5335, 3873, 4649, 4560, 5236, 4480, 4790, 4124, 4831, 4980, 4902, 4095, 4664, 4278, 4606, 4032, 5213, 4159, 4705, 4324, 4196, 4410, 4257, 4733, 4641, 3976, 5074, 3852, 5104]\n",
      "Creating the symbolic link of the video\n",
      "New video was added to the project! Use the function 'extract_frames' to select frames for labeling.\n",
      "The outlier frames are extracted. They are stored in the subdirectory labeled-data\\2018.10.23_19_49_06.\n",
      "Once you extracted frames for all videos, use 'refine_labels' to manually correct the labels.\n"
     ]
    },
    {
     "name": "stderr",
     "output_type": "stream",
     "text": [
      "2it [00:00, 17.92it/s]"
     ]
    },
    {
     "name": "stdout",
     "output_type": "stream",
     "text": [
      "Method  uncertain  found  157  putative outlier frames.\n",
      "Do you want to proceed with extracting  100  of those?\n",
      "If this list is very large, perhaps consider changing the paramters (start, stop, p_bound, comparisonbodyparts) or use a different method.\n",
      "Loading video...\n",
      "Duration of video [s]:  26.965 , recorded @  200.0 fps!\n",
      "Overall # of frames:  5393 with (cropped) frame dimensions: \n",
      "Kmeans-quantization based extracting of frames from 0.0  seconds to 26.96  seconds.\n",
      "Extracting and downsampling... 156  frames from the video.\n"
     ]
    },
    {
     "name": "stderr",
     "output_type": "stream",
     "text": [
      "156it [00:03, 41.00it/s]\n"
     ]
    },
    {
     "name": "stdout",
     "output_type": "stream",
     "text": [
      "Kmeans clustering ... (this might take a while)\n",
      "Let's select frames indices: [1447, 962, 349, 1417, 830, 1462, 551, 1182, 1002, 1303, 1193, 1777, 1467, 818, 300, 1295, 1414, 951, 1433, 1011, 827, 46, 355, 340, 1186, 1472, 1308, 359, 1156, 540, 345, 778, 1456, 1298, 1190, 1428, 1405, 482, 947, 996, 824, 1305, 1301, 1168, 1452, 1775, 1441, 964, 1187, 1439, 828, 1425, 1778, 1407, 1007, 1473, 1451, 1430, 1153, 949, 1416, 1293, 1189, 1192, 1444, 1306, 352, 1181, 1474, 826, 829, 1432, 1468, 348, 1427, 1296, 1776, 1460, 1435, 357, 825, 831, 298, 1184, 1424, 1188, 1445, 966, 346, 1191, 1413, 1449, 1466, 1465, 1194, 1440, 1309, 1412, 1454, 1431]\n",
      "Creating the symbolic link of the video\n",
      "New video was added to the project! Use the function 'extract_frames' to select frames for labeling.\n",
      "The outlier frames are extracted. They are stored in the subdirectory labeled-data\\2018.10.23_19_49_38.\n",
      "Once you extracted frames for all videos, use 'refine_labels' to manually correct the labels.\n",
      "Method  uncertain  found  860  putative outlier frames.\n",
      "Do you want to proceed with extracting  100  of those?\n",
      "If this list is very large, perhaps consider changing the paramters (start, stop, p_bound, comparisonbodyparts) or use a different method.\n",
      "Loading video...\n"
     ]
    },
    {
     "name": "stderr",
     "output_type": "stream",
     "text": [
      "3it [00:00, 26.09it/s]"
     ]
    },
    {
     "name": "stdout",
     "output_type": "stream",
     "text": [
      "Duration of video [s]:  27.335 , recorded @  200.0 fps!\n",
      "Overall # of frames:  5467 with (cropped) frame dimensions: \n",
      "Kmeans-quantization based extracting of frames from 0.0  seconds to 27.34  seconds.\n",
      "Extracting and downsampling... 860  frames from the video.\n"
     ]
    },
    {
     "name": "stderr",
     "output_type": "stream",
     "text": [
      "860it [00:20, 42.11it/s]\n"
     ]
    },
    {
     "name": "stdout",
     "output_type": "stream",
     "text": [
      "Kmeans clustering ... (this might take a while)\n",
      "Let's select frames indices: [826, 3449, 356, 471, 621, 4877, 439, 1884, 2473, 2619, 3482, 2410, 563, 287, 4865, 1913, 978, 2175, 3214, 2308, 3048, 377, 2471, 311, 3198, 4894, 268, 744, 275, 2491, 2195, 3211, 2598, 522, 790, 344, 466, 411, 2379, 1870, 324, 284, 3468, 458, 2065, 572, 4843, 441, 3210, 1906, 2393, 507, 365, 2479, 1911, 403, 3430, 538, 1865, 3471, 382, 4883, 3475, 598, 777, 2617, 4834, 298, 644, 371, 865, 2412, 525, 2403, 528, 678, 2468, 3472, 586, 452, 369, 819, 293, 4892, 462, 321, 687, 421, 3435, 297, 279, 1864, 551, 486, 1882, 386, 1920, 335, 3195, 273]\n",
      "Creating the symbolic link of the video\n",
      "New video was added to the project! Use the function 'extract_frames' to select frames for labeling.\n",
      "The outlier frames are extracted. They are stored in the subdirectory labeled-data\\2018.10.23_19_50_25.\n",
      "Once you extracted frames for all videos, use 'refine_labels' to manually correct the labels.\n"
     ]
    },
    {
     "name": "stderr",
     "output_type": "stream",
     "text": [
      "3it [00:00, 29.78it/s]"
     ]
    },
    {
     "name": "stdout",
     "output_type": "stream",
     "text": [
      "Method  uncertain  found  1770  putative outlier frames.\n",
      "Do you want to proceed with extracting  100  of those?\n",
      "If this list is very large, perhaps consider changing the paramters (start, stop, p_bound, comparisonbodyparts) or use a different method.\n",
      "Loading video...\n",
      "Duration of video [s]:  27.0 , recorded @  200.0 fps!\n",
      "Overall # of frames:  5400 with (cropped) frame dimensions: \n",
      "Kmeans-quantization based extracting of frames from 0.0  seconds to 27.0  seconds.\n",
      "Extracting and downsampling... 1770  frames from the video.\n"
     ]
    },
    {
     "name": "stderr",
     "output_type": "stream",
     "text": [
      "1770it [00:40, 43.56it/s]\n"
     ]
    },
    {
     "name": "stdout",
     "output_type": "stream",
     "text": [
      "Kmeans clustering ... (this might take a while)\n",
      "Let's select frames indices: [236, 4994, 996, 4296, 4586, 5342, 4095, 2393, 722, 4381, 376, 903, 4251, 4658, 4515, 4174, 4884, 787, 1400, 5252, 955, 3458, 3326, 1166, 2645, 3509, 4122, 443, 4928, 3324, 729, 5080, 4328, 462, 4450, 4161, 5074, 5178, 4555, 4541, 4394, 332, 1418, 4748, 4172, 4259, 1234, 4183, 2640, 3492, 2380, 822, 4162, 4614, 968, 4850, 4334, 3470, 4708, 4338, 4438, 2634, 388, 4086, 4632, 4388, 3207, 4397, 3488, 4203, 4366, 4710, 4621, 5115, 4475, 5303, 4192, 4832, 1088, 950, 4797, 975, 4265, 1124, 1007, 4303, 4151, 4422, 5142, 4165, 4426, 4562, 4233, 3473, 718, 4362, 4565, 2653, 4527, 245]\n",
      "Creating the symbolic link of the video\n",
      "New video was added to the project! Use the function 'extract_frames' to select frames for labeling.\n",
      "The outlier frames are extracted. They are stored in the subdirectory labeled-data\\2018.10.23_19_51_00.\n",
      "Once you extracted frames for all videos, use 'refine_labels' to manually correct the labels.\n"
     ]
    },
    {
     "name": "stderr",
     "output_type": "stream",
     "text": [
      "\r",
      "0it [00:00, ?it/s]"
     ]
    },
    {
     "name": "stdout",
     "output_type": "stream",
     "text": [
      "Method  uncertain  found  1680  putative outlier frames.\n",
      "Do you want to proceed with extracting  100  of those?\n",
      "If this list is very large, perhaps consider changing the paramters (start, stop, p_bound, comparisonbodyparts) or use a different method.\n",
      "Loading video...\n",
      "Duration of video [s]:  26.97 , recorded @  200.0 fps!\n",
      "Overall # of frames:  5394 with (cropped) frame dimensions: \n",
      "Kmeans-quantization based extracting of frames from 0.0  seconds to 26.97  seconds.\n",
      "Extracting and downsampling... 1680  frames from the video.\n"
     ]
    },
    {
     "name": "stderr",
     "output_type": "stream",
     "text": [
      "1680it [00:37, 45.37it/s]\n"
     ]
    },
    {
     "name": "stdout",
     "output_type": "stream",
     "text": [
      "Kmeans clustering ... (this might take a while)\n",
      "Let's select frames indices: [4558, 4920, 387, 4122, 2130, 4366, 544, 344, 480, 3968, 4727, 1563, 4276, 4505, 5322, 2597, 4184, 4994, 1466, 374, 4909, 4035, 4928, 2727, 3895, 5055, 5248, 562, 4605, 2420, 4467, 4070, 2881, 5169, 2868, 3150, 349, 3935, 380, 3986, 4311, 362, 4154, 4454, 4613, 4484, 2259, 4050, 4239, 3138, 4747, 3153, 331, 2586, 4514, 4714, 390, 4874, 3900, 4407, 4571, 4244, 4657, 4479, 4682, 533, 5303, 1584, 3937, 4165, 4317, 4793, 4510, 4816, 4095, 5110, 369, 4201, 4396, 4141, 3962, 4435, 4725, 4343, 4006, 4195, 4544, 4291, 4645, 4486, 5039, 4967, 4103, 4432, 584, 4683, 500, 4389, 4419, 4359]\n",
      "Creating the symbolic link of the video\n",
      "New video was added to the project! Use the function 'extract_frames' to select frames for labeling.\n",
      "The outlier frames are extracted. They are stored in the subdirectory labeled-data\\2018.10.23_19_52_42.\n",
      "Once you extracted frames for all videos, use 'refine_labels' to manually correct the labels.\n"
     ]
    },
    {
     "name": "stderr",
     "output_type": "stream",
     "text": [
      "11it [00:00, 99.16it/s]"
     ]
    },
    {
     "name": "stdout",
     "output_type": "stream",
     "text": [
      "Method  uncertain  found  3448  putative outlier frames.\n",
      "Do you want to proceed with extracting  100  of those?\n",
      "If this list is very large, perhaps consider changing the paramters (start, stop, p_bound, comparisonbodyparts) or use a different method.\n",
      "Loading video...\n",
      "Duration of video [s]:  26.985 , recorded @  200.0 fps!\n",
      "Overall # of frames:  5397 with (cropped) frame dimensions: \n",
      "Kmeans-quantization based extracting of frames from 0.0  seconds to 26.98  seconds.\n",
      "Extracting and downsampling... 3447  frames from the video.\n"
     ]
    },
    {
     "name": "stderr",
     "output_type": "stream",
     "text": [
      "3447it [01:14, 46.20it/s]\n"
     ]
    },
    {
     "name": "stdout",
     "output_type": "stream",
     "text": [
      "Kmeans clustering ... (this might take a while)\n",
      "Let's select frames indices: [5308, 2624, 129, 3979, 1470, 5343, 2792, 2950, 2411, 601, 2395, 1119, 3049, 262, 2348, 2553, 1743, 2668, 481, 4681, 886, 3222, 2369, 1510, 3346, 562, 2541, 3110, 2743, 4250, 2674, 2572, 2963, 2441, 251, 3377, 214, 5115, 3434, 1493, 3604, 2926, 2544, 46, 1495, 2384, 4490, 2727, 2805, 1482, 2987, 2407, 3685, 2557, 4037, 3236, 2514, 3656, 2864, 242, 2519, 2390, 171, 2353, 4783, 3630, 3190, 5171, 2756, 2881, 30, 3094, 2701, 195, 2936, 2972, 2914, 5335, 3365, 2869, 4301, 19, 4926, 2646, 3261, 4057, 4754, 3343, 2832, 2589, 2781, 3130, 3090, 3136, 2608, 3481, 2712, 3330, 4882, 3404]\n",
      "Creating the symbolic link of the video\n",
      "New video was added to the project! Use the function 'extract_frames' to select frames for labeling.\n",
      "The outlier frames are extracted. They are stored in the subdirectory labeled-data\\2018.10.23_19_53_36.\n",
      "Once you extracted frames for all videos, use 'refine_labels' to manually correct the labels.\n"
     ]
    },
    {
     "name": "stderr",
     "output_type": "stream",
     "text": [
      "\r",
      "0it [00:00, ?it/s]"
     ]
    },
    {
     "name": "stdout",
     "output_type": "stream",
     "text": [
      "Method  uncertain  found  1362  putative outlier frames.\n",
      "Do you want to proceed with extracting  100  of those?\n",
      "If this list is very large, perhaps consider changing the paramters (start, stop, p_bound, comparisonbodyparts) or use a different method.\n",
      "Loading video...\n",
      "Duration of video [s]:  27.5 , recorded @  200.0 fps!\n",
      "Overall # of frames:  5500 with (cropped) frame dimensions: \n",
      "Kmeans-quantization based extracting of frames from 0.0  seconds to 27.5  seconds.\n",
      "Extracting and downsampling... 1361  frames from the video.\n"
     ]
    },
    {
     "name": "stderr",
     "output_type": "stream",
     "text": [
      "1361it [00:30, 44.04it/s]\n"
     ]
    },
    {
     "name": "stdout",
     "output_type": "stream",
     "text": [
      "Kmeans clustering ... (this might take a while)\n",
      "Let's select frames indices: [3286, 3176, 2520, 3921, 4803, 1706, 2746, 3068, 2683, 897, 5199, 3279, 2468, 4142, 2983, 4126, 2496, 3769, 1734, 2595, 5024, 2224, 4817, 1773, 4199, 4168, 4607, 1566, 3304, 2619, 3903, 2723, 3220, 3047, 5398, 3192, 4187, 4162, 1998, 3930, 4592, 881, 2558, 906, 2811, 1783, 2847, 700, 2672, 4831, 2571, 5429, 2909, 1796, 917, 1399, 4641, 1754, 5038, 4579, 3148, 2233, 2499, 1782, 696, 682, 2687, 2491, 4613, 4793, 2776, 5185, 2632, 2857, 2980, 4819, 1724, 1719, 2540, 1695, 3207, 3119, 1793, 4119, 2602, 1776, 4150, 4625, 4132, 4181, 1762, 2484, 2585, 5055, 3236, 3033, 4204, 2771, 2606, 2507]\n",
      "Creating the symbolic link of the video\n",
      "New video was added to the project! Use the function 'extract_frames' to select frames for labeling.\n",
      "The outlier frames are extracted. They are stored in the subdirectory labeled-data\\2018.10.23_19_54_18.\n",
      "Once you extracted frames for all videos, use 'refine_labels' to manually correct the labels.\n"
     ]
    },
    {
     "name": "stderr",
     "output_type": "stream",
     "text": [
      "\r",
      "0it [00:00, ?it/s]"
     ]
    },
    {
     "name": "stdout",
     "output_type": "stream",
     "text": [
      "Method  uncertain  found  296  putative outlier frames.\n",
      "Do you want to proceed with extracting  100  of those?\n",
      "If this list is very large, perhaps consider changing the paramters (start, stop, p_bound, comparisonbodyparts) or use a different method.\n",
      "Loading video...\n",
      "Duration of video [s]:  27.305 , recorded @  200.0 fps!\n",
      "Overall # of frames:  5461 with (cropped) frame dimensions: \n",
      "Kmeans-quantization based extracting of frames from 0.0  seconds to 27.3  seconds.\n",
      "Extracting and downsampling... 296  frames from the video.\n"
     ]
    },
    {
     "name": "stderr",
     "output_type": "stream",
     "text": [
      "296it [00:07, 40.98it/s]\n"
     ]
    },
    {
     "name": "stdout",
     "output_type": "stream",
     "text": [
      "Kmeans clustering ... (this might take a while)\n",
      "Let's select frames indices: [2614, 3565, 3998, 1921, 3851, 3256, 2734, 1774, 3041, 1104, 2350, 1762, 1901, 107, 3975, 2310, 2749, 2648, 3829, 1084, 1416, 4002, 3939, 1790, 1934, 1574, 2638, 3576, 2327, 3837, 2411, 1788, 3859, 2740, 1907, 1898, 1771, 403, 2625, 3993, 3736, 1099, 2313, 1772, 1892, 2326, 1767, 2643, 2744, 1909, 2413, 2353, 1615, 3004, 1262, 1101, 1100, 1783, 3867, 1420, 3834, 1761, 2672, 3261, 1085, 3573, 3049, 2617, 1789, 2746, 3863, 3941, 1916, 1787, 3016, 1935, 3253, 1569, 2635, 3870, 1417, 1895, 2739, 2747, 1779, 2650, 3587, 2997, 2654, 1102, 3972, 2748, 1904, 3020, 1902, 3568, 1903, 3855, 1905, 3832]\n",
      "Creating the symbolic link of the video\n",
      "New video was added to the project! Use the function 'extract_frames' to select frames for labeling.\n",
      "The outlier frames are extracted. They are stored in the subdirectory labeled-data\\2018.10.23_19_56_37.\n",
      "Once you extracted frames for all videos, use 'refine_labels' to manually correct the labels.\n"
     ]
    },
    {
     "name": "stderr",
     "output_type": "stream",
     "text": [
      "\r",
      "0it [00:00, ?it/s]"
     ]
    },
    {
     "name": "stdout",
     "output_type": "stream",
     "text": [
      "Method  uncertain  found  902  putative outlier frames.\n",
      "Do you want to proceed with extracting  100  of those?\n",
      "If this list is very large, perhaps consider changing the paramters (start, stop, p_bound, comparisonbodyparts) or use a different method.\n",
      "Loading video...\n",
      "Duration of video [s]:  27.28 , recorded @  200.0 fps!\n",
      "Overall # of frames:  5456 with (cropped) frame dimensions: \n",
      "Kmeans-quantization based extracting of frames from 0.0  seconds to 27.28  seconds.\n",
      "Extracting and downsampling... 902  frames from the video.\n"
     ]
    },
    {
     "name": "stderr",
     "output_type": "stream",
     "text": [
      "902it [00:20, 44.33it/s]\n"
     ]
    },
    {
     "name": "stdout",
     "output_type": "stream",
     "text": [
      "Kmeans clustering ... (this might take a while)\n",
      "Let's select frames indices: [4829, 1372, 5110, 605, 5003, 1124, 3174, 4759, 994, 1194, 629, 571, 4295, 977, 612, 4873, 5271, 1398, 1002, 5232, 1572, 1105, 1126, 1374, 4929, 617, 5163, 4906, 978, 1370, 5439, 5327, 4018, 3216, 4623, 5060, 1228, 1108, 599, 609, 4787, 4714, 4269, 4953, 5252, 3140, 997, 4277, 5026, 1004, 3168, 4459, 5371, 4913, 3175, 4740, 4795, 4729, 4862, 5261, 3790, 604, 5203, 5137, 5408, 5235, 5187, 4303, 4321, 4886, 5309, 1197, 5288, 4692, 4933, 5047, 5132, 4750, 5029, 4286, 5358, 4774, 4983, 5423, 3182, 4901, 4814, 5453, 4753, 1383, 4865, 5093, 3283, 4698, 4962, 4333, 4987, 5020, 5248]\n",
      "Creating the symbolic link of the video\n",
      "New video was added to the project! Use the function 'extract_frames' to select frames for labeling.\n",
      "The outlier frames are extracted. They are stored in the subdirectory labeled-data\\2018.10.23_19_57_41.\n",
      "Once you extracted frames for all videos, use 'refine_labels' to manually correct the labels.\n"
     ]
    },
    {
     "name": "stderr",
     "output_type": "stream",
     "text": [
      "\r",
      "0it [00:00, ?it/s]"
     ]
    },
    {
     "name": "stdout",
     "output_type": "stream",
     "text": [
      "Method  uncertain  found  193  putative outlier frames.\n",
      "Do you want to proceed with extracting  100  of those?\n",
      "If this list is very large, perhaps consider changing the paramters (start, stop, p_bound, comparisonbodyparts) or use a different method.\n",
      "Loading video...\n",
      "Duration of video [s]:  27.26 , recorded @  200.0 fps!\n",
      "Overall # of frames:  5452 with (cropped) frame dimensions: \n",
      "Kmeans-quantization based extracting of frames from 0.0  seconds to 27.26  seconds.\n",
      "Extracting and downsampling... 193  frames from the video.\n"
     ]
    },
    {
     "name": "stderr",
     "output_type": "stream",
     "text": [
      "193it [00:04, 41.04it/s]\n"
     ]
    },
    {
     "name": "stdout",
     "output_type": "stream",
     "text": [
      "Kmeans clustering ... (this might take a while)\n",
      "Let's select frames indices: [432, 484, 1717, 521, 410, 503, 1200, 2007, 1915, 421, 1218, 516, 1040, 1584, 524, 454, 52, 493, 224, 1372, 477, 403, 327, 447, 512, 1557, 1730, 1578, 2126, 234, 526, 2124, 231, 1728, 611, 479, 1591, 1913, 1222, 1739, 466, 458, 406, 518, 1713, 491, 452, 1211, 428, 1723, 2125, 417, 1582, 507, 528, 462, 441, 519, 1043, 1580, 408, 1226, 1216, 1712, 1585, 1193, 465, 505, 415, 496, 1916, 517, 468, 1579, 504, 230, 506, 510, 461, 500, 527, 1221, 1731, 1375, 2006, 407, 502, 411, 1729, 1725, 1037, 482, 443, 414, 1719, 233, 474, 1201, 1714, 501]\n",
      "Creating the symbolic link of the video\n",
      "New video was added to the project! Use the function 'extract_frames' to select frames for labeling.\n",
      "The outlier frames are extracted. They are stored in the subdirectory labeled-data\\2018.10.23_19_59_26.\n",
      "Once you extracted frames for all videos, use 'refine_labels' to manually correct the labels.\n"
     ]
    },
    {
     "name": "stderr",
     "output_type": "stream",
     "text": [
      "\r",
      "0it [00:00, ?it/s]"
     ]
    },
    {
     "name": "stdout",
     "output_type": "stream",
     "text": [
      "Method  uncertain  found  2118  putative outlier frames.\n",
      "Do you want to proceed with extracting  100  of those?\n",
      "If this list is very large, perhaps consider changing the paramters (start, stop, p_bound, comparisonbodyparts) or use a different method.\n",
      "Loading video...\n",
      "Duration of video [s]:  27.41 , recorded @  200.0 fps!\n",
      "Overall # of frames:  5482 with (cropped) frame dimensions: \n",
      "Kmeans-quantization based extracting of frames from 0.0  seconds to 27.41  seconds.\n",
      "Extracting and downsampling... 2118  frames from the video.\n"
     ]
    },
    {
     "name": "stderr",
     "output_type": "stream",
     "text": [
      "2118it [00:46, 45.20it/s]\n"
     ]
    },
    {
     "name": "stdout",
     "output_type": "stream",
     "text": [
      "Kmeans clustering ... (this might take a while)\n",
      "Let's select frames indices: [5301, 2904, 2309, 3221, 3683, 1173, 886, 2220, 2258, 334, 2483, 2990, 5203, 1210, 974, 912, 3427, 4946, 2177, 1812, 4647, 2349, 1527, 931, 2203, 2290, 3032, 2494, 4603, 2345, 4561, 5120, 4627, 2185, 732, 3733, 990, 2582, 2242, 1847, 3655, 2979, 1029, 2264, 1189, 3128, 2577, 3106, 4756, 739, 2187, 1817, 1038, 3390, 4887, 2928, 5415, 4977, 3119, 353, 1012, 1835, 2561, 989, 4659, 324, 938, 4582, 3361, 3410, 346, 1682, 2357, 2249, 2239, 2848, 5050, 2510, 3398, 3695, 1696, 2479, 5386, 2192, 3269, 5177, 2947, 3185, 2328, 3470, 2306, 3125, 2213, 3706, 5280, 4705, 5335, 333, 3314, 2982]\n",
      "Creating the symbolic link of the video\n",
      "New video was added to the project! Use the function 'extract_frames' to select frames for labeling.\n",
      "The outlier frames are extracted. They are stored in the subdirectory labeled-data\\2018.10.23_19_59_57.\n",
      "Once you extracted frames for all videos, use 'refine_labels' to manually correct the labels.\n"
     ]
    },
    {
     "name": "stderr",
     "output_type": "stream",
     "text": [
      "\r",
      "0it [00:00, ?it/s]"
     ]
    },
    {
     "name": "stdout",
     "output_type": "stream",
     "text": [
      "Method  uncertain  found  2230  putative outlier frames.\n",
      "Do you want to proceed with extracting  100  of those?\n",
      "If this list is very large, perhaps consider changing the paramters (start, stop, p_bound, comparisonbodyparts) or use a different method.\n",
      "Loading video...\n",
      "Duration of video [s]:  27.1 , recorded @  200.0 fps!\n",
      "Overall # of frames:  5420 with (cropped) frame dimensions: \n",
      "Kmeans-quantization based extracting of frames from 0.0  seconds to 27.1  seconds.\n",
      "Extracting and downsampling... 2230  frames from the video.\n"
     ]
    },
    {
     "name": "stderr",
     "output_type": "stream",
     "text": [
      "2230it [00:48, 45.73it/s]\n"
     ]
    },
    {
     "name": "stdout",
     "output_type": "stream",
     "text": [
      "Kmeans clustering ... (this might take a while)\n",
      "Let's select frames indices: [4022, 5406, 234, 3347, 5064, 3625, 2044, 4708, 4301, 465, 3299, 817, 4074, 4392, 3716, 4125, 2349, 3304, 3147, 3777, 4206, 294, 4474, 4113, 3268, 4588, 3929, 4345, 5347, 1875, 3358, 2532, 217, 4050, 3830, 1911, 3294, 3881, 3322, 3682, 2662, 4200, 3916, 840, 811, 4138, 1777, 3710, 4162, 3332, 3615, 4032, 4847, 4108, 3852, 4772, 4259, 2514, 3984, 3362, 3815, 5256, 4217, 4667, 3336, 4875, 4046, 3874, 4425, 4181, 3698, 5248, 3706, 5166, 4245, 39, 3654, 3965, 3731, 5375, 5270, 4071, 446, 3766, 4334, 3864, 5244, 5419, 3972, 3313, 3280, 184, 2354, 4025, 197, 3810, 22, 225, 4540, 3343]\n",
      "Creating the symbolic link of the video\n",
      "New video was added to the project! Use the function 'extract_frames' to select frames for labeling.\n",
      "The outlier frames are extracted. They are stored in the subdirectory labeled-data\\2018.10.23_20_00_29.\n",
      "Once you extracted frames for all videos, use 'refine_labels' to manually correct the labels.\n"
     ]
    },
    {
     "name": "stderr",
     "output_type": "stream",
     "text": [
      "11it [00:00, 96.01it/s]"
     ]
    },
    {
     "name": "stdout",
     "output_type": "stream",
     "text": [
      "Method  uncertain  found  2756  putative outlier frames.\n",
      "Do you want to proceed with extracting  100  of those?\n",
      "If this list is very large, perhaps consider changing the paramters (start, stop, p_bound, comparisonbodyparts) or use a different method.\n",
      "Loading video...\n",
      "Duration of video [s]:  27.93 , recorded @  200.0 fps!\n",
      "Overall # of frames:  5586 with (cropped) frame dimensions: \n",
      "Kmeans-quantization based extracting of frames from 0.0  seconds to 27.93  seconds.\n",
      "Extracting and downsampling... 2755  frames from the video.\n"
     ]
    },
    {
     "name": "stderr",
     "output_type": "stream",
     "text": [
      "2755it [00:59, 46.34it/s]\n"
     ]
    },
    {
     "name": "stdout",
     "output_type": "stream",
     "text": [
      "Kmeans clustering ... (this might take a while)\n",
      "Let's select frames indices: [5211, 4591, 220, 3980, 3567, 3721, 4138, 3869, 3304, 4210, 2147, 3409, 3111, 348, 36, 4855, 3384, 383, 3538, 3649, 3192, 3488, 192, 3144, 4177, 2328, 3948, 2965, 4987, 110, 2291, 3512, 2149, 1999, 271, 236, 3351, 3691, 3743, 4757, 4154, 5481, 4523, 5416, 2629, 3345, 170, 4288, 3618, 3163, 4627, 1488, 3881, 3526, 4082, 80, 5159, 282, 3747, 3714, 5254, 4390, 3862, 3453, 3468, 13, 4689, 4194, 5058, 3998, 3782, 3335, 3591, 3778, 5188, 292, 4165, 3358, 3507, 3819, 120, 4040, 3664, 3926, 3427, 4102, 101, 4047, 3394, 3371, 4185, 3865, 4445, 3902, 4978, 3472, 229, 3606, 5433, 298]\n",
      "Creating the symbolic link of the video\n",
      "New video was added to the project! Use the function 'extract_frames' to select frames for labeling.\n",
      "The outlier frames are extracted. They are stored in the subdirectory labeled-data\\2018.10.23_20_01_12.\n",
      "Once you extracted frames for all videos, use 'refine_labels' to manually correct the labels.\n"
     ]
    },
    {
     "name": "stderr",
     "output_type": "stream",
     "text": [
      "9it [00:00, 83.40it/s]"
     ]
    },
    {
     "name": "stdout",
     "output_type": "stream",
     "text": [
      "Method  uncertain  found  713  putative outlier frames.\n",
      "Do you want to proceed with extracting  100  of those?\n",
      "If this list is very large, perhaps consider changing the paramters (start, stop, p_bound, comparisonbodyparts) or use a different method.\n",
      "Loading video...\n",
      "Duration of video [s]:  27.445 , recorded @  200.0 fps!\n",
      "Overall # of frames:  5489 with (cropped) frame dimensions: \n",
      "Kmeans-quantization based extracting of frames from 0.0  seconds to 27.45  seconds.\n",
      "Extracting and downsampling... 712  frames from the video.\n"
     ]
    },
    {
     "name": "stderr",
     "output_type": "stream",
     "text": [
      "712it [00:16, 44.41it/s]\n"
     ]
    },
    {
     "name": "stdout",
     "output_type": "stream",
     "text": [
      "Kmeans clustering ... (this might take a while)\n",
      "Let's select frames indices: [2098, 771, 128, 3237, 1524, 3312, 264, 745, 6, 2626, 2126, 1559, 723, 282, 1437, 3380, 1801, 225, 3084, 3053, 751, 3040, 3055, 1996, 560, 2084, 2527, 1528, 185, 3267, 1283, 1982, 1616, 619, 260, 3273, 302, 1567, 3570, 2535, 1548, 3220, 2157, 257, 3080, 294, 2235, 1564, 746, 3332, 2104, 2108, 1522, 2109, 1727, 1729, 293, 1439, 2379, 1542, 3322, 747, 1992, 3214, 174, 1848, 1425, 3218, 1854, 754, 3391, 3344, 2540, 72, 2112, 1539, 1798, 3068, 3293, 1288, 1560, 742, 2121, 763, 3049, 3227, 2147, 1435, 196, 1724, 1274, 2630, 243, 273, 1279, 625, 3221, 3301, 3287]\n",
      "Creating the symbolic link of the video\n",
      "New video was added to the project! Use the function 'extract_frames' to select frames for labeling.\n",
      "The outlier frames are extracted. They are stored in the subdirectory labeled-data\\2018.10.23_20_01_54.\n",
      "Once you extracted frames for all videos, use 'refine_labels' to manually correct the labels.\n"
     ]
    },
    {
     "name": "stderr",
     "output_type": "stream",
     "text": [
      "\r",
      "0it [00:00, ?it/s]"
     ]
    },
    {
     "name": "stdout",
     "output_type": "stream",
     "text": [
      "Method  uncertain  found  478  putative outlier frames.\n",
      "Do you want to proceed with extracting  100  of those?\n",
      "If this list is very large, perhaps consider changing the paramters (start, stop, p_bound, comparisonbodyparts) or use a different method.\n",
      "Loading video...\n",
      "Duration of video [s]:  27.695 , recorded @  200.0 fps!\n",
      "Overall # of frames:  5539 with (cropped) frame dimensions: \n",
      "Kmeans-quantization based extracting of frames from 0.0  seconds to 27.7  seconds.\n",
      "Extracting and downsampling... 478  frames from the video.\n"
     ]
    },
    {
     "name": "stderr",
     "output_type": "stream",
     "text": [
      "478it [00:11, 42.04it/s]\n"
     ]
    },
    {
     "name": "stdout",
     "output_type": "stream",
     "text": [
      "Kmeans clustering ... (this might take a while)\n",
      "Let's select frames indices: [4437, 1651, 4204, 2183, 1568, 1223, 1364, 4355, 1435, 4148, 857, 4456, 4133, 1666, 1552, 1984, 1213, 1835, 1560, 1245, 2212, 1234, 4400, 472, 4138, 1975, 1255, 1710, 1847, 1673, 1617, 1542, 855, 1658, 1684, 4226, 4180, 1352, 1654, 1370, 867, 1555, 873, 4473, 1844, 1211, 4423, 1209, 1638, 4383, 1536, 1829, 1570, 2205, 1977, 853, 4405, 1577, 1220, 878, 754, 1207, 1564, 4127, 1344, 1648, 1350, 2174, 1705, 2204, 1707, 1588, 1700, 2194, 1367, 1632, 4142, 872, 1242, 1838, 4131, 4419, 1561, 1971, 4387, 1681, 1661, 1657, 4444, 1643, 1563, 1240, 4210, 4363, 859, 1053, 1706, 1216, 1538, 1229]\n",
      "Creating the symbolic link of the video\n",
      "New video was added to the project! Use the function 'extract_frames' to select frames for labeling.\n",
      "The outlier frames are extracted. They are stored in the subdirectory labeled-data\\2018.10.23_20_02_25.\n",
      "Once you extracted frames for all videos, use 'refine_labels' to manually correct the labels.\n"
     ]
    },
    {
     "name": "stderr",
     "output_type": "stream",
     "text": [
      "\r",
      "0it [00:00, ?it/s]"
     ]
    },
    {
     "name": "stdout",
     "output_type": "stream",
     "text": [
      "Method  uncertain  found  539  putative outlier frames.\n",
      "Do you want to proceed with extracting  100  of those?\n",
      "If this list is very large, perhaps consider changing the paramters (start, stop, p_bound, comparisonbodyparts) or use a different method.\n",
      "Loading video...\n",
      "Duration of video [s]:  27.19 , recorded @  200.0 fps!\n",
      "Overall # of frames:  5438 with (cropped) frame dimensions: \n",
      "Kmeans-quantization based extracting of frames from 0.0  seconds to 27.19  seconds.\n",
      "Extracting and downsampling... 538  frames from the video.\n"
     ]
    },
    {
     "name": "stderr",
     "output_type": "stream",
     "text": [
      "538it [00:11, 45.27it/s]\n"
     ]
    },
    {
     "name": "stdout",
     "output_type": "stream",
     "text": [
      "Kmeans clustering ... (this might take a while)\n",
      "Let's select frames indices: [427, 304, 1038, 3838, 173, 329, 2233, 2829, 2061, 707, 2983, 878, 243, 3041, 1061, 2002, 876, 2209, 3852, 400, 358, 2054, 723, 1068, 3908, 2221, 1712, 730, 1897, 2077, 2239, 271, 1053, 3017, 882, 3754, 2949, 2040, 1010, 408, 2225, 382, 1958, 439, 3102, 2982, 1920, 308, 1072, 1023, 2246, 3458, 1075, 1957, 2220, 3765, 712, 3843, 235, 254, 2881, 431, 367, 721, 2201, 2007, 394, 423, 1050, 1028, 353, 3853, 355, 2048, 2213, 703, 1719, 871, 283, 404, 317, 2248, 2072, 412, 258, 3867, 3848, 729, 1058, 2067, 1070, 364, 1059, 1035, 3861, 288, 2831, 1063, 6, 324]\n",
      "Creating the symbolic link of the video\n",
      "New video was added to the project! Use the function 'extract_frames' to select frames for labeling.\n",
      "The outlier frames are extracted. They are stored in the subdirectory labeled-data\\2018.10.24_21_14_35.\n",
      "Once you extracted frames for all videos, use 'refine_labels' to manually correct the labels.\n"
     ]
    },
    {
     "name": "stderr",
     "output_type": "stream",
     "text": [
      "\r",
      "0it [00:00, ?it/s]"
     ]
    },
    {
     "name": "stdout",
     "output_type": "stream",
     "text": [
      "Method  uncertain  found  500  putative outlier frames.\n",
      "Do you want to proceed with extracting  100  of those?\n",
      "If this list is very large, perhaps consider changing the paramters (start, stop, p_bound, comparisonbodyparts) or use a different method.\n",
      "Loading video...\n",
      "Duration of video [s]:  27.245 , recorded @  200.0 fps!\n",
      "Overall # of frames:  5449 with (cropped) frame dimensions: \n",
      "Kmeans-quantization based extracting of frames from 0.0  seconds to 27.25  seconds.\n",
      "Extracting and downsampling... 500  frames from the video.\n"
     ]
    },
    {
     "name": "stderr",
     "output_type": "stream",
     "text": [
      "500it [00:11, 45.05it/s]\n"
     ]
    },
    {
     "name": "stdout",
     "output_type": "stream",
     "text": [
      "Kmeans clustering ... (this might take a while)\n",
      "Let's select frames indices: [389, 3542, 317, 4672, 2077, 4230, 5446, 3406, 276, 3507, 411, 769, 3133, 2423, 3075, 2319, 892, 740, 470, 377, 5362, 3152, 327, 5218, 3040, 397, 773, 4399, 811, 263, 883, 310, 3559, 3483, 3400, 759, 4483, 3490, 3426, 3155, 3526, 652, 346, 691, 4752, 3107, 3048, 4064, 2117, 4420, 279, 5372, 3553, 3404, 5434, 5166, 503, 5365, 380, 416, 5112, 3405, 3413, 3480, 4233, 3513, 2068, 298, 880, 3549, 888, 2420, 3504, 333, 399, 265, 256, 372, 404, 730, 5432, 731, 350, 3113, 3139, 780, 3562, 4678, 5374, 3537, 3409, 3527, 765, 3130, 3521, 755, 367, 392, 341, 3143]\n",
      "Creating the symbolic link of the video\n",
      "New video was added to the project! Use the function 'extract_frames' to select frames for labeling.\n",
      "The outlier frames are extracted. They are stored in the subdirectory labeled-data\\2018.10.24_21_25_08.\n",
      "Once you extracted frames for all videos, use 'refine_labels' to manually correct the labels.\n"
     ]
    },
    {
     "name": "stderr",
     "output_type": "stream",
     "text": [
      "\r",
      "0it [00:00, ?it/s]"
     ]
    },
    {
     "name": "stdout",
     "output_type": "stream",
     "text": [
      "Method  uncertain  found  929  putative outlier frames.\n",
      "Do you want to proceed with extracting  100  of those?\n",
      "If this list is very large, perhaps consider changing the paramters (start, stop, p_bound, comparisonbodyparts) or use a different method.\n",
      "Loading video...\n",
      "Duration of video [s]:  27.275 , recorded @  200.0 fps!\n",
      "Overall # of frames:  5455 with (cropped) frame dimensions: \n",
      "Kmeans-quantization based extracting of frames from 0.0  seconds to 27.27  seconds.\n",
      "Extracting and downsampling... 929  frames from the video.\n"
     ]
    },
    {
     "name": "stderr",
     "output_type": "stream",
     "text": [
      "929it [00:19, 48.16it/s]\n"
     ]
    },
    {
     "name": "stdout",
     "output_type": "stream",
     "text": [
      "Kmeans clustering ... (this might take a while)\n",
      "Let's select frames indices: [1989, 3847, 3036, 2311, 2050, 1859, 2688, 2673, 3683, 1837, 3500, 656, 2551, 2180, 1944, 2658, 3531, 1901, 2706, 1961, 1923, 585, 397, 3270, 1808, 900, 2029, 2329, 637, 1856, 2611, 1823, 263, 3633, 3239, 2382, 3541, 1997, 3594, 1840, 3451, 3547, 626, 2321, 2044, 550, 2545, 3892, 1904, 2434, 3828, 3419, 1039, 3605, 326, 3628, 3305, 3223, 1163, 1871, 887, 2568, 2690, 2281, 2941, 3865, 1845, 3519, 433, 1974, 892, 2710, 2033, 2926, 2314, 3479, 1891, 3746, 3298, 920, 2662, 3572, 2686, 1883, 3789, 3449, 660, 2654, 2056, 3659, 2039, 3678, 2681, 642, 2678, 1936, 3512, 652, 382, 1977]\n",
      "Creating the symbolic link of the video\n",
      "New video was added to the project! Use the function 'extract_frames' to select frames for labeling.\n",
      "The outlier frames are extracted. They are stored in the subdirectory labeled-data\\2018.10.24_21_38_20.\n",
      "Once you extracted frames for all videos, use 'refine_labels' to manually correct the labels.\n"
     ]
    },
    {
     "name": "stderr",
     "output_type": "stream",
     "text": [
      "\r",
      "0it [00:00, ?it/s]"
     ]
    },
    {
     "name": "stdout",
     "output_type": "stream",
     "text": [
      "Method  uncertain  found  366  putative outlier frames.\n",
      "Do you want to proceed with extracting  100  of those?\n",
      "If this list is very large, perhaps consider changing the paramters (start, stop, p_bound, comparisonbodyparts) or use a different method.\n",
      "Loading video...\n",
      "Duration of video [s]:  27.245 , recorded @  200.0 fps!\n",
      "Overall # of frames:  5449 with (cropped) frame dimensions: \n",
      "Kmeans-quantization based extracting of frames from 0.0  seconds to 27.25  seconds.\n",
      "Extracting and downsampling... 366  frames from the video.\n"
     ]
    },
    {
     "name": "stderr",
     "output_type": "stream",
     "text": [
      "366it [00:08, 45.06it/s]\n"
     ]
    },
    {
     "name": "stdout",
     "output_type": "stream",
     "text": [
      "Kmeans clustering ... (this might take a while)\n",
      "Let's select frames indices: [662, 1141, 1036, 141, 611, 2307, 1546, 1076, 1187, 812, 2133, 2103, 329, 854, 1096, 1052, 1512, 560, 634, 1214, 443, 872, 3116, 2380, 1171, 1172, 1522, 848, 1397, 647, 1028, 667, 2243, 824, 1570, 1089, 1065, 980, 3222, 148, 656, 756, 851, 606, 1198, 1084, 1129, 714, 876, 1147, 613, 1197, 818, 859, 2239, 1041, 1039, 445, 985, 637, 1515, 665, 844, 1025, 1542, 2098, 533, 649, 1104, 1020, 601, 620, 556, 2120, 618, 1063, 1537, 1034, 821, 1102, 1073, 1070, 856, 1133, 1095, 814, 1180, 1045, 1394, 609, 654, 1518, 847, 330, 1087, 816, 1086, 643, 1033, 1548]\n",
      "Creating the symbolic link of the video\n",
      "New video was added to the project! Use the function 'extract_frames' to select frames for labeling.\n",
      "The outlier frames are extracted. They are stored in the subdirectory labeled-data\\2018.10.24_21_38_55.\n",
      "Once you extracted frames for all videos, use 'refine_labels' to manually correct the labels.\n"
     ]
    },
    {
     "name": "stderr",
     "output_type": "stream",
     "text": [
      "\r",
      "0it [00:00, ?it/s]"
     ]
    },
    {
     "name": "stdout",
     "output_type": "stream",
     "text": [
      "Method  uncertain  found  412  putative outlier frames.\n",
      "Do you want to proceed with extracting  100  of those?\n",
      "If this list is very large, perhaps consider changing the paramters (start, stop, p_bound, comparisonbodyparts) or use a different method.\n",
      "Loading video...\n",
      "Duration of video [s]:  26.955 , recorded @  200.0 fps!\n",
      "Overall # of frames:  5391 with (cropped) frame dimensions: \n",
      "Kmeans-quantization based extracting of frames from 0.0  seconds to 26.95  seconds.\n",
      "Extracting and downsampling... 412  frames from the video.\n"
     ]
    },
    {
     "name": "stderr",
     "output_type": "stream",
     "text": [
      "412it [00:08, 48.87it/s]\n"
     ]
    },
    {
     "name": "stdout",
     "output_type": "stream",
     "text": [
      "Kmeans clustering ... (this might take a while)\n",
      "Let's select frames indices: [3836, 2895, 1525, 1186, 1467, 3009, 4691, 1233, 2971, 2907, 2112, 4217, 1430, 2868, 2987, 1503, 3437, 1339, 2129, 3023, 3989, 1541, 1257, 4159, 2851, 1495, 1208, 1218, 2822, 2941, 2873, 3426, 1508, 2877, 1236, 1514, 1472, 2862, 1476, 3451, 1487, 2719, 2979, 4163, 3026, 1240, 3001, 2082, 3435, 2956, 2963, 1523, 3429, 1450, 2870, 1164, 2885, 2099, 2904, 2927, 3831, 1464, 2850, 1533, 4192, 1207, 2975, 2080, 2890, 1512, 2960, 2954, 1491, 1214, 4811, 2920, 1475, 1224, 1342, 1264, 1451, 1544, 1252, 1438, 1212, 1498, 2857, 1426, 2995, 4223, 2922, 1540, 1263, 2866, 1477, 1518, 1481, 1249, 2951, 1500]\n",
      "Creating the symbolic link of the video\n",
      "New video was added to the project! Use the function 'extract_frames' to select frames for labeling.\n",
      "The outlier frames are extracted. They are stored in the subdirectory labeled-data\\2018.10.24_22_39_08.\n",
      "Once you extracted frames for all videos, use 'refine_labels' to manually correct the labels.\n"
     ]
    },
    {
     "name": "stderr",
     "output_type": "stream",
     "text": [
      "\r",
      "0it [00:00, ?it/s]"
     ]
    },
    {
     "name": "stdout",
     "output_type": "stream",
     "text": [
      "Method  uncertain  found  406  putative outlier frames.\n",
      "Do you want to proceed with extracting  100  of those?\n",
      "If this list is very large, perhaps consider changing the paramters (start, stop, p_bound, comparisonbodyparts) or use a different method.\n",
      "Loading video...\n",
      "Duration of video [s]:  26.98 , recorded @  200.0 fps!\n",
      "Overall # of frames:  5396 with (cropped) frame dimensions: \n",
      "Kmeans-quantization based extracting of frames from 0.0  seconds to 26.98  seconds.\n",
      "Extracting and downsampling... 406  frames from the video.\n"
     ]
    },
    {
     "name": "stderr",
     "output_type": "stream",
     "text": [
      "406it [00:08, 48.47it/s]\n"
     ]
    },
    {
     "name": "stdout",
     "output_type": "stream",
     "text": [
      "Kmeans clustering ... (this might take a while)\n",
      "Let's select frames indices: [776, 1573, 4857, 3118, 3063, 520, 1075, 572, 4910, 3417, 1595, 1437, 1024, 4213, 3301, 1039, 469, 1104, 1617, 3106, 1559, 3044, 3075, 1088, 299, 3425, 4460, 2165, 1574, 3067, 1121, 3085, 466, 1584, 3019, 1542, 4894, 493, 1097, 764, 4844, 1027, 3306, 3442, 3039, 1111, 585, 527, 782, 1041, 1438, 3102, 1037, 4922, 4870, 1556, 1056, 3133, 1085, 3052, 1533, 3130, 1598, 1038, 1621, 3109, 1068, 461, 3116, 1095, 569, 790, 3077, 4852, 1578, 459, 1099, 3081, 4840, 1436, 3060, 3070, 4917, 3073, 580, 1590, 4751, 1603, 1535, 1547, 530, 791, 3420, 1569, 516, 1080, 1565, 495]\n",
      "Creating the symbolic link of the video\n",
      "New video was added to the project! Use the function 'extract_frames' to select frames for labeling.\n",
      "The outlier frames are extracted. They are stored in the subdirectory labeled-data\\2018.10.24_22_39_56.\n",
      "Once you extracted frames for all videos, use 'refine_labels' to manually correct the labels.\n"
     ]
    },
    {
     "name": "stderr",
     "output_type": "stream",
     "text": [
      "\r",
      "0it [00:00, ?it/s]"
     ]
    },
    {
     "name": "stdout",
     "output_type": "stream",
     "text": [
      "Method  uncertain  found  316  putative outlier frames.\n",
      "Do you want to proceed with extracting  100  of those?\n",
      "If this list is very large, perhaps consider changing the paramters (start, stop, p_bound, comparisonbodyparts) or use a different method.\n",
      "Loading video...\n",
      "Duration of video [s]:  27.225 , recorded @  200.0 fps!\n",
      "Overall # of frames:  5445 with (cropped) frame dimensions: \n",
      "Kmeans-quantization based extracting of frames from 0.0  seconds to 27.23  seconds.\n",
      "Extracting and downsampling... 316  frames from the video.\n"
     ]
    },
    {
     "name": "stderr",
     "output_type": "stream",
     "text": [
      "316it [00:06, 47.75it/s]\n"
     ]
    },
    {
     "name": "stdout",
     "output_type": "stream",
     "text": [
      "Kmeans clustering ... (this might take a while)\n",
      "Let's select frames indices: [510, 435, 4213, 307, 758, 372, 5364, 475, 777, 518, 392, 1500, 264, 2808, 488, 448, 4123, 746, 482, 335, 745, 4221, 426, 25, 401, 5444, 2201, 528, 806, 5385, 4286, 501, 346, 3560, 458, 1508, 772, 553, 3471, 480, 314, 438, 387, 421, 483, 481, 356, 507, 469, 377, 414, 4215, 288, 354, 450, 4229, 477, 743, 331, 524, 514, 465, 407, 304, 484, 761, 271, 747, 342, 503, 412, 497, 422, 742, 765, 4236, 1507, 350, 754, 773, 442, 368, 404, 273, 508, 525, 419, 516, 486, 400, 259, 769, 1510, 320, 479, 1502, 364, 267, 493, 473]\n",
      "Creating the symbolic link of the video\n",
      "New video was added to the project! Use the function 'extract_frames' to select frames for labeling.\n",
      "The outlier frames are extracted. They are stored in the subdirectory labeled-data\\2018.10.24_22_44_19.\n",
      "Once you extracted frames for all videos, use 'refine_labels' to manually correct the labels.\n"
     ]
    },
    {
     "name": "stderr",
     "output_type": "stream",
     "text": [
      "\r",
      "0it [00:00, ?it/s]"
     ]
    },
    {
     "name": "stdout",
     "output_type": "stream",
     "text": [
      "Method  uncertain  found  851  putative outlier frames.\n",
      "Do you want to proceed with extracting  100  of those?\n",
      "If this list is very large, perhaps consider changing the paramters (start, stop, p_bound, comparisonbodyparts) or use a different method.\n",
      "Loading video...\n",
      "Duration of video [s]:  27.02 , recorded @  200.0 fps!\n",
      "Overall # of frames:  5404 with (cropped) frame dimensions: \n",
      "Kmeans-quantization based extracting of frames from 0.0  seconds to 27.02  seconds.\n",
      "Extracting and downsampling... 851  frames from the video.\n"
     ]
    },
    {
     "name": "stderr",
     "output_type": "stream",
     "text": [
      "851it [00:17, 47.41it/s]\n"
     ]
    },
    {
     "name": "stdout",
     "output_type": "stream",
     "text": [
      "Kmeans clustering ... (this might take a while)\n",
      "Let's select frames indices: [3503, 1219, 5386, 552, 3969, 759, 1079, 1255, 5234, 1533, 1269, 1230, 1381, 1315, 2772, 1101, 606, 5200, 3587, 4353, 1369, 1175, 2637, 844, 1248, 1144, 4953, 2583, 1122, 3187, 4181, 1329, 5301, 1290, 3611, 572, 1155, 526, 3438, 617, 1092, 829, 1547, 2390, 5216, 1297, 1188, 1281, 4984, 1108, 4694, 244, 5258, 3853, 5332, 3735, 2754, 1225, 397, 1356, 614, 1336, 3501, 1277, 1132, 4782, 562, 5314, 4164, 1318, 5197, 468, 589, 3536, 1350, 1293, 1184, 543, 1138, 555, 1287, 1307, 1166, 1116, 1320, 5209, 1391, 5273, 1348, 769, 3766, 739, 1376, 1133, 1152, 4091, 1213, 1302, 3522, 5375]\n",
      "Creating the symbolic link of the video\n",
      "New video was added to the project! Use the function 'extract_frames' to select frames for labeling.\n",
      "The outlier frames are extracted. They are stored in the subdirectory labeled-data\\2018.10.24_15_01_52.\n",
      "Once you extracted frames for all videos, use 'refine_labels' to manually correct the labels.\n"
     ]
    },
    {
     "name": "stderr",
     "output_type": "stream",
     "text": [
      "\r",
      "0it [00:00, ?it/s]"
     ]
    },
    {
     "name": "stdout",
     "output_type": "stream",
     "text": [
      "Method  uncertain  found  873  putative outlier frames.\n",
      "Do you want to proceed with extracting  100  of those?\n",
      "If this list is very large, perhaps consider changing the paramters (start, stop, p_bound, comparisonbodyparts) or use a different method.\n",
      "Loading video...\n",
      "Duration of video [s]:  26.995 , recorded @  200.0 fps!\n",
      "Overall # of frames:  5399 with (cropped) frame dimensions: \n",
      "Kmeans-quantization based extracting of frames from 0.0  seconds to 27.0  seconds.\n",
      "Extracting and downsampling... 873  frames from the video.\n"
     ]
    },
    {
     "name": "stderr",
     "output_type": "stream",
     "text": [
      "873it [00:18, 48.46it/s]\n"
     ]
    },
    {
     "name": "stdout",
     "output_type": "stream",
     "text": [
      "Kmeans clustering ... (this might take a while)\n",
      "Let's select frames indices: [547, 3312, 1103, 628, 703, 1189, 2360, 574, 914, 2420, 1024, 3261, 850, 806, 523, 667, 592, 2250, 606, 565, 558, 1136, 3380, 685, 2681, 3280, 3339, 2458, 3367, 585, 496, 623, 2821, 2796, 792, 1160, 648, 778, 860, 927, 524, 5066, 595, 2260, 338, 1051, 784, 744, 1222, 2603, 3249, 949, 2769, 535, 814, 994, 2471, 835, 1085, 3348, 3271, 2494, 512, 712, 2247, 1120, 672, 751, 543, 663, 617, 891, 2447, 532, 3281, 1149, 551, 978, 2825, 2356, 2501, 817, 1038, 1009, 571, 576, 729, 3257, 670, 589, 3298, 552, 1170, 642, 868, 597, 611, 3270, 699]\n",
      "Creating the symbolic link of the video\n",
      "New video was added to the project! Use the function 'extract_frames' to select frames for labeling.\n",
      "The outlier frames are extracted. They are stored in the subdirectory labeled-data\\2018.10.24_15_03_20.\n",
      "Once you extracted frames for all videos, use 'refine_labels' to manually correct the labels.\n"
     ]
    },
    {
     "name": "stderr",
     "output_type": "stream",
     "text": [
      "\r",
      "0it [00:00, ?it/s]"
     ]
    },
    {
     "name": "stdout",
     "output_type": "stream",
     "text": [
      "Method  uncertain  found  1535  putative outlier frames.\n",
      "Do you want to proceed with extracting  100  of those?\n",
      "If this list is very large, perhaps consider changing the paramters (start, stop, p_bound, comparisonbodyparts) or use a different method.\n",
      "Loading video...\n",
      "Duration of video [s]:  27.08 , recorded @  200.0 fps!\n",
      "Overall # of frames:  5416 with (cropped) frame dimensions: \n",
      "Kmeans-quantization based extracting of frames from 0.0  seconds to 27.08  seconds.\n",
      "Extracting and downsampling... 1535  frames from the video.\n"
     ]
    },
    {
     "name": "stderr",
     "output_type": "stream",
     "text": [
      "1535it [00:31, 48.41it/s]\n"
     ]
    },
    {
     "name": "stdout",
     "output_type": "stream",
     "text": [
      "Kmeans clustering ... (this might take a while)\n",
      "Let's select frames indices: [1464, 395, 295, 1738, 351, 422, 790, 1324, 1132, 1114, 1148, 656, 2582, 1556, 487, 191, 1046, 1086, 1696, 442, 905, 3462, 1183, 864, 158, 1820, 275, 555, 977, 3009, 1668, 889, 852, 601, 1613, 915, 1713, 479, 517, 307, 1555, 1581, 197, 3388, 1406, 1788, 271, 576, 1058, 1344, 500, 1116, 371, 770, 258, 1239, 1389, 1095, 1143, 142, 448, 1105, 1010, 516, 1163, 1638, 1656, 1607, 863, 1662, 943, 238, 3418, 277, 822, 1595, 639, 741, 1355, 800, 1602, 267, 174, 630, 3433, 616, 826, 1470, 782, 1057, 1848, 1215, 303, 812, 645, 1569, 778, 673, 764, 1351]\n",
      "Creating the symbolic link of the video\n",
      "New video was added to the project! Use the function 'extract_frames' to select frames for labeling.\n",
      "The outlier frames are extracted. They are stored in the subdirectory labeled-data\\2018.10.24_19_16_57.\n",
      "Once you extracted frames for all videos, use 'refine_labels' to manually correct the labels.\n"
     ]
    },
    {
     "name": "stderr",
     "output_type": "stream",
     "text": [
      "\r",
      "0it [00:00, ?it/s]"
     ]
    },
    {
     "name": "stdout",
     "output_type": "stream",
     "text": [
      "Method  uncertain  found  166  putative outlier frames.\n",
      "Do you want to proceed with extracting  100  of those?\n",
      "If this list is very large, perhaps consider changing the paramters (start, stop, p_bound, comparisonbodyparts) or use a different method.\n",
      "Loading video...\n",
      "Duration of video [s]:  26.98 , recorded @  200.0 fps!\n",
      "Overall # of frames:  5396 with (cropped) frame dimensions: \n",
      "Kmeans-quantization based extracting of frames from 0.0  seconds to 26.98  seconds.\n",
      "Extracting and downsampling... 166  frames from the video.\n"
     ]
    },
    {
     "name": "stderr",
     "output_type": "stream",
     "text": [
      "166it [00:03, 49.31it/s]\n"
     ]
    },
    {
     "name": "stdout",
     "output_type": "stream",
     "text": [
      "Kmeans clustering ... (this might take a while)\n",
      "Let's select frames indices: [848, 1595, 727, 815, 1963, 1624, 783, 823, 744, 831, 1645, 734, 1879, 799, 793, 753, 821, 1607, 841, 853, 750, 780, 755, 1970, 836, 1589, 804, 788, 858, 739, 725, 797, 825, 1591, 1621, 1629, 1602, 854, 812, 787, 1969, 1611, 1961, 838, 745, 748, 741, 808, 790, 820, 819, 731, 818, 786, 845, 754, 1605, 724, 1964, 822, 824, 1617, 794, 851, 833, 784, 828, 798, 801, 743, 757, 817, 840, 791, 785, 852, 829, 752, 1625, 834, 803, 1631, 782, 740, 1960, 795, 837, 729, 1620, 1967, 806, 857, 751, 1615, 789, 737, 844, 746, 832, 749]\n",
      "Creating the symbolic link of the video\n",
      "New video was added to the project! Use the function 'extract_frames' to select frames for labeling.\n",
      "The outlier frames are extracted. They are stored in the subdirectory labeled-data\\2018.10.24_13_12_40.\n",
      "Once you extracted frames for all videos, use 'refine_labels' to manually correct the labels.\n"
     ]
    },
    {
     "name": "stderr",
     "output_type": "stream",
     "text": [
      "\r",
      "0it [00:00, ?it/s]"
     ]
    },
    {
     "name": "stdout",
     "output_type": "stream",
     "text": [
      "Method  uncertain  found  1014  putative outlier frames.\n",
      "Do you want to proceed with extracting  100  of those?\n",
      "If this list is very large, perhaps consider changing the paramters (start, stop, p_bound, comparisonbodyparts) or use a different method.\n",
      "Loading video...\n",
      "Duration of video [s]:  27.075 , recorded @  200.0 fps!\n",
      "Overall # of frames:  5415 with (cropped) frame dimensions: \n",
      "Kmeans-quantization based extracting of frames from 0.0  seconds to 27.07  seconds.\n",
      "Extracting and downsampling... 1014  frames from the video.\n"
     ]
    },
    {
     "name": "stderr",
     "output_type": "stream",
     "text": [
      "1014it [00:20, 48.49it/s]\n"
     ]
    },
    {
     "name": "stdout",
     "output_type": "stream",
     "text": [
      "Kmeans clustering ... (this might take a while)\n",
      "Let's select frames indices: [2838, 3143, 1607, 2350, 4503, 3008, 1741, 3424, 5254, 3709, 3298, 3626, 4089, 2862, 3039, 1714, 1759, 4028, 3594, 1807, 1910, 2917, 4126, 2232, 3278, 1652, 3022, 4131, 3094, 4142, 3337, 2880, 1884, 2013, 3172, 1790, 2323, 2701, 1946, 3101, 2053, 4520, 1240, 3084, 4722, 1523, 5017, 5044, 3000, 2981, 2804, 2829, 2109, 4113, 2895, 3134, 4108, 2892, 2890, 3929, 1646, 4098, 1934, 3915, 2969, 1866, 2193, 2266, 4411, 4363, 4041, 2978, 2383, 3611, 1167, 2856, 4091, 1331, 5181, 2760, 4134, 1568, 2494, 3217, 1724, 2085, 3852, 3090, 3099, 3060, 1199, 3029, 1579, 2049, 3188, 1152, 1700, 2019, 4145, 2831]\n",
      "Creating the symbolic link of the video\n",
      "New video was added to the project! Use the function 'extract_frames' to select frames for labeling.\n",
      "The outlier frames are extracted. They are stored in the subdirectory labeled-data\\2018.10.28_17_54_08.\n",
      "Once you extracted frames for all videos, use 'refine_labels' to manually correct the labels.\n"
     ]
    },
    {
     "name": "stderr",
     "output_type": "stream",
     "text": [
      "\r",
      "0it [00:00, ?it/s]"
     ]
    },
    {
     "name": "stdout",
     "output_type": "stream",
     "text": [
      "Method  uncertain  found  1032  putative outlier frames.\n",
      "Do you want to proceed with extracting  100  of those?\n",
      "If this list is very large, perhaps consider changing the paramters (start, stop, p_bound, comparisonbodyparts) or use a different method.\n",
      "Loading video...\n",
      "Duration of video [s]:  27.02 , recorded @  200.0 fps!\n",
      "Overall # of frames:  5404 with (cropped) frame dimensions: \n",
      "Kmeans-quantization based extracting of frames from 0.0  seconds to 27.02  seconds.\n",
      "Extracting and downsampling... 1032  frames from the video.\n"
     ]
    },
    {
     "name": "stderr",
     "output_type": "stream",
     "text": [
      "1032it [00:21, 47.60it/s]\n"
     ]
    },
    {
     "name": "stdout",
     "output_type": "stream",
     "text": [
      "Kmeans clustering ... (this might take a while)\n",
      "Let's select frames indices: [4104, 3982, 659, 3273, 43, 719, 1769, 820, 3879, 3448, 3333, 881, 4157, 435, 4385, 4232, 5252, 3301, 1499, 4952, 300, 580, 3479, 670, 4138, 336, 908, 1756, 1605, 1035, 1720, 703, 732, 3912, 4484, 834, 1559, 770, 4295, 258, 4147, 955, 157, 631, 4067, 3280, 3315, 5398, 3840, 639, 1586, 4153, 741, 4302, 961, 1393, 868, 1324, 1512, 1574, 1778, 4219, 970, 4189, 1278, 4133, 1009, 1666, 767, 1527, 3158, 4243, 4370, 1244, 4164, 1294, 844, 4356, 4635, 417, 452, 4192, 813, 1356, 16, 779, 268, 891, 4439, 4130, 1552, 537, 389, 4122, 463, 958, 440, 967, 691, 3467]\n",
      "Creating the symbolic link of the video\n",
      "New video was added to the project! Use the function 'extract_frames' to select frames for labeling.\n",
      "The outlier frames are extracted. They are stored in the subdirectory labeled-data\\2018.10.28_17_57_14.\n",
      "Once you extracted frames for all videos, use 'refine_labels' to manually correct the labels.\n"
     ]
    },
    {
     "name": "stderr",
     "output_type": "stream",
     "text": [
      "\r",
      "0it [00:00, ?it/s]"
     ]
    },
    {
     "name": "stdout",
     "output_type": "stream",
     "text": [
      "Method  uncertain  found  1391  putative outlier frames.\n",
      "Do you want to proceed with extracting  100  of those?\n",
      "If this list is very large, perhaps consider changing the paramters (start, stop, p_bound, comparisonbodyparts) or use a different method.\n",
      "Loading video...\n",
      "Duration of video [s]:  27.02 , recorded @  200.0 fps!\n",
      "Overall # of frames:  5404 with (cropped) frame dimensions: \n",
      "Kmeans-quantization based extracting of frames from 0.0  seconds to 27.02  seconds.\n",
      "Extracting and downsampling... 1391  frames from the video.\n"
     ]
    },
    {
     "name": "stderr",
     "output_type": "stream",
     "text": [
      "1391it [00:28, 48.86it/s]\n"
     ]
    },
    {
     "name": "stdout",
     "output_type": "stream",
     "text": [
      "Kmeans clustering ... (this might take a while)\n",
      "Let's select frames indices: [2826, 5010, 599, 865, 1301, 5194, 5385, 3084, 4940, 2561, 2745, 3049, 3502, 3169, 4620, 4129, 778, 4693, 534, 4237, 4900, 2936, 2400, 806, 4249, 2965, 2642, 2501, 2588, 936, 5108, 3266, 4448, 4990, 4819, 3951, 3293, 3307, 2284, 2291, 3397, 1371, 703, 591, 4074, 5315, 4462, 2604, 4908, 2240, 3470, 4205, 2733, 4229, 2949, 5056, 5255, 761, 5068, 4503, 2414, 4969, 4521, 3316, 2599, 3140, 2238, 4932, 4215, 3059, 2941, 803, 2536, 2358, 4100, 607, 4298, 14, 4827, 4189, 847, 4025, 539, 3121, 3330, 4193, 2918, 3210, 5031, 955, 4432, 823, 722, 2283, 4985, 4083, 4154, 3195, 2348, 3486]\n",
      "Creating the symbolic link of the video\n",
      "New video was added to the project! Use the function 'extract_frames' to select frames for labeling.\n",
      "The outlier frames are extracted. They are stored in the subdirectory labeled-data\\2018.10.28_17_59_35.\n",
      "Once you extracted frames for all videos, use 'refine_labels' to manually correct the labels.\n"
     ]
    },
    {
     "name": "stderr",
     "output_type": "stream",
     "text": [
      "\r",
      "0it [00:00, ?it/s]"
     ]
    },
    {
     "name": "stdout",
     "output_type": "stream",
     "text": [
      "Method  uncertain  found  1964  putative outlier frames.\n",
      "Do you want to proceed with extracting  100  of those?\n",
      "If this list is very large, perhaps consider changing the paramters (start, stop, p_bound, comparisonbodyparts) or use a different method.\n",
      "Loading video...\n",
      "Duration of video [s]:  26.995 , recorded @  200.0 fps!\n",
      "Overall # of frames:  5399 with (cropped) frame dimensions: \n",
      "Kmeans-quantization based extracting of frames from 0.0  seconds to 27.0  seconds.\n",
      "Extracting and downsampling... 1964  frames from the video.\n"
     ]
    },
    {
     "name": "stderr",
     "output_type": "stream",
     "text": [
      "1964it [00:42, 45.70it/s]\n"
     ]
    },
    {
     "name": "stdout",
     "output_type": "stream",
     "text": [
      "Kmeans clustering ... (this might take a while)\n",
      "Let's select frames indices: [844, 5269, 1573, 1612, 3532, 1685, 417, 716, 3821, 2322, 751, 2267, 1002, 290, 4337, 2365, 4284, 2635, 3766, 4210, 1707, 2482, 808, 1897, 1426, 4108, 5223, 1344, 650, 2285, 1396, 3668, 3371, 1065, 2425, 2235, 1589, 3320, 1408, 1815, 411, 1725, 3594, 1405, 913, 2205, 3712, 4411, 1437, 1554, 710, 3897, 1102, 3943, 689, 2616, 3722, 3797, 242, 833, 997, 4892, 3750, 1419, 295, 1630, 4026, 4267, 702, 2361, 1600, 2222, 3893, 5360, 1689, 3730, 3559, 3343, 4752, 855, 2276, 4148, 1716, 1638, 3829, 4819, 864, 2245, 2238, 221, 4115, 4532, 5382, 3789, 1981, 847, 4165, 3699, 758, 2369]\n",
      "Creating the symbolic link of the video\n",
      "New video was added to the project! Use the function 'extract_frames' to select frames for labeling.\n",
      "The outlier frames are extracted. They are stored in the subdirectory labeled-data\\2018.10.29_17_26_28.\n",
      "Once you extracted frames for all videos, use 'refine_labels' to manually correct the labels.\n"
     ]
    },
    {
     "name": "stderr",
     "output_type": "stream",
     "text": [
      "\r",
      "0it [00:00, ?it/s]"
     ]
    },
    {
     "name": "stdout",
     "output_type": "stream",
     "text": [
      "Method  uncertain  found  1297  putative outlier frames.\n",
      "Do you want to proceed with extracting  100  of those?\n",
      "If this list is very large, perhaps consider changing the paramters (start, stop, p_bound, comparisonbodyparts) or use a different method.\n",
      "Loading video...\n",
      "Duration of video [s]:  26.97 , recorded @  200.0 fps!\n",
      "Overall # of frames:  5394 with (cropped) frame dimensions: \n",
      "Kmeans-quantization based extracting of frames from 0.0  seconds to 26.97  seconds.\n",
      "Extracting and downsampling... 1297  frames from the video.\n"
     ]
    },
    {
     "name": "stderr",
     "output_type": "stream",
     "text": [
      "1297it [00:30, 42.52it/s]\n"
     ]
    },
    {
     "name": "stdout",
     "output_type": "stream",
     "text": [
      "Kmeans clustering ... (this might take a while)\n",
      "Let's select frames indices: [5262, 929, 3579, 649, 784, 618, 1860, 4676, 4164, 152, 1795, 1525, 1851, 4918, 484, 3450, 992, 707, 495, 4715, 835, 2103, 602, 3851, 1785, 1462, 2034, 1864, 743, 2901, 624, 3497, 4885, 1348, 1335, 713, 102, 1059, 4192, 2880, 1782, 5050, 610, 666, 2301, 584, 518, 1821, 4753, 3614, 4963, 955, 5115, 3558, 3589, 127, 616, 1605, 1813, 4803, 4613, 5251, 4996, 5346, 627, 640, 3779, 1857, 911, 5185, 4836, 4595, 1855, 3538, 652, 5094, 1783, 5131, 4216, 2016, 1275, 1217, 949, 906, 4254, 4658, 5294, 4788, 660, 5015, 4862, 4947, 3586, 4744, 4179, 1846, 3840, 5210, 5388, 964]\n",
      "Creating the symbolic link of the video\n",
      "New video was added to the project! Use the function 'extract_frames' to select frames for labeling.\n",
      "The outlier frames are extracted. They are stored in the subdirectory labeled-data\\2018.10.29_17_31_06.\n",
      "Once you extracted frames for all videos, use 'refine_labels' to manually correct the labels.\n"
     ]
    },
    {
     "name": "stderr",
     "output_type": "stream",
     "text": [
      "\r",
      "0it [00:00, ?it/s]"
     ]
    },
    {
     "name": "stdout",
     "output_type": "stream",
     "text": [
      "Method  uncertain  found  1320  putative outlier frames.\n",
      "Do you want to proceed with extracting  100  of those?\n",
      "If this list is very large, perhaps consider changing the paramters (start, stop, p_bound, comparisonbodyparts) or use a different method.\n",
      "Loading video...\n",
      "Duration of video [s]:  26.995 , recorded @  200.0 fps!\n",
      "Overall # of frames:  5399 with (cropped) frame dimensions: \n",
      "Kmeans-quantization based extracting of frames from 0.0  seconds to 27.0  seconds.\n",
      "Extracting and downsampling... 1319  frames from the video.\n"
     ]
    },
    {
     "name": "stderr",
     "output_type": "stream",
     "text": [
      "1319it [00:30, 43.24it/s]\n"
     ]
    },
    {
     "name": "stdout",
     "output_type": "stream",
     "text": [
      "Kmeans clustering ... (this might take a while)\n",
      "Let's select frames indices: [65, 2885, 900, 2373, 352, 1017, 3784, 968, 2641, 2283, 327, 273, 1658, 598, 393, 649, 996, 2015, 2673, 2798, 2732, 1195, 249, 2132, 1294, 4534, 2404, 1266, 2323, 457, 2550, 1070, 1314, 29, 2007, 2446, 1047, 791, 2002, 1444, 2197, 1714, 839, 367, 2836, 2722, 710, 1157, 2100, 2367, 1419, 580, 2162, 3516, 1007, 2416, 958, 2577, 255, 3579, 308, 2660, 1537, 1471, 1436, 381, 2176, 232, 3990, 974, 645, 663, 893, 2096, 1012, 527, 2245, 590, 2601, 1191, 2707, 297, 740, 1333, 3610, 2299, 1039, 2307, 1392, 3134, 84, 2389, 316, 2592, 699, 1009, 1197, 2411, 55, 283]\n",
      "Creating the symbolic link of the video\n",
      "New video was added to the project! Use the function 'extract_frames' to select frames for labeling.\n",
      "The outlier frames are extracted. They are stored in the subdirectory labeled-data\\2018.10.29_17_38_08.\n",
      "Once you extracted frames for all videos, use 'refine_labels' to manually correct the labels.\n"
     ]
    },
    {
     "name": "stderr",
     "output_type": "stream",
     "text": [
      "\r",
      "0it [00:00, ?it/s]"
     ]
    },
    {
     "name": "stdout",
     "output_type": "stream",
     "text": [
      "Method  uncertain  found  1107  putative outlier frames.\n",
      "Do you want to proceed with extracting  100  of those?\n",
      "If this list is very large, perhaps consider changing the paramters (start, stop, p_bound, comparisonbodyparts) or use a different method.\n",
      "Loading video...\n",
      "Duration of video [s]:  27.055 , recorded @  200.0 fps!\n",
      "Overall # of frames:  5411 with (cropped) frame dimensions: \n",
      "Kmeans-quantization based extracting of frames from 0.0  seconds to 27.05  seconds.\n",
      "Extracting and downsampling... 1107  frames from the video.\n"
     ]
    },
    {
     "name": "stderr",
     "output_type": "stream",
     "text": [
      "1107it [00:27, 40.74it/s]\n"
     ]
    },
    {
     "name": "stdout",
     "output_type": "stream",
     "text": [
      "Kmeans clustering ... (this might take a while)\n",
      "Let's select frames indices: [2212, 4665, 1755, 2027, 2768, 2872, 751, 1657, 1511, 615, 1456, 1169, 1817, 3589, 4031, 1539, 2894, 1915, 1476, 2929, 2741, 1859, 2169, 2258, 4651, 1808, 1488, 1749, 3083, 1639, 4567, 1932, 1963, 1550, 4098, 3466, 2834, 1610, 2709, 1462, 668, 1724, 1423, 2836, 840, 1855, 1641, 2730, 3713, 1665, 1541, 1450, 1465, 1419, 3027, 779, 1784, 1634, 2193, 1405, 944, 1469, 1758, 4679, 2754, 1812, 4732, 1984, 1498, 2264, 772, 811, 1798, 2077, 719, 1705, 1414, 1839, 4011, 2205, 1506, 1678, 2890, 777, 4580, 2879, 1886, 598, 2842, 2857, 4756, 1923, 1831, 1662, 1907, 3088, 2735, 4035, 2076, 4003]\n",
      "Creating the symbolic link of the video\n",
      "New video was added to the project! Use the function 'extract_frames' to select frames for labeling.\n",
      "The outlier frames are extracted. They are stored in the subdirectory labeled-data\\2018.10.29_17_43_59.\n",
      "Once you extracted frames for all videos, use 'refine_labels' to manually correct the labels.\n"
     ]
    },
    {
     "name": "stderr",
     "output_type": "stream",
     "text": [
      "\r",
      "0it [00:00, ?it/s]"
     ]
    },
    {
     "name": "stdout",
     "output_type": "stream",
     "text": [
      "Method  uncertain  found  1214  putative outlier frames.\n",
      "Do you want to proceed with extracting  100  of those?\n",
      "If this list is very large, perhaps consider changing the paramters (start, stop, p_bound, comparisonbodyparts) or use a different method.\n",
      "Loading video...\n",
      "Duration of video [s]:  27.0 , recorded @  200.0 fps!\n",
      "Overall # of frames:  5400 with (cropped) frame dimensions: \n",
      "Kmeans-quantization based extracting of frames from 0.0  seconds to 27.0  seconds.\n",
      "Extracting and downsampling... 1214  frames from the video.\n"
     ]
    },
    {
     "name": "stderr",
     "output_type": "stream",
     "text": [
      "1214it [00:28, 42.37it/s]\n"
     ]
    },
    {
     "name": "stdout",
     "output_type": "stream",
     "text": [
      "Kmeans clustering ... (this might take a while)\n",
      "Let's select frames indices: [2380, 3113, 809, 873, 1901, 2865, 568, 217, 1569, 867, 1135, 854, 1350, 1815, 1428, 1000, 445, 2790, 269, 1531, 1221, 1488, 704, 714, 1185, 3154, 672, 1333, 207, 2431, 405, 829, 1624, 1172, 2419, 1468, 1837, 1159, 1793, 2529, 1181, 1574, 2494, 1017, 1824, 718, 1767, 835, 2850, 1323, 1169, 1719, 425, 735, 1208, 1436, 1029, 2742, 974, 2701, 2516, 452, 239, 1139, 722, 728, 2542, 365, 1864, 333, 1234, 788, 412, 2654, 2385, 416, 1214, 226, 274, 259, 1799, 1639, 1153, 1544, 798, 1313, 1365, 427, 663, 885, 1876, 1202, 2518, 1008, 210, 73, 1609, 588, 1018]\n",
      "Creating the symbolic link of the video\n",
      "New video was added to the project! Use the function 'extract_frames' to select frames for labeling.\n",
      "The outlier frames are extracted. They are stored in the subdirectory labeled-data\\2018.10.29_17_57_50.\n",
      "Once you extracted frames for all videos, use 'refine_labels' to manually correct the labels.\n"
     ]
    },
    {
     "name": "stderr",
     "output_type": "stream",
     "text": [
      "\r",
      "0it [00:00, ?it/s]"
     ]
    },
    {
     "name": "stdout",
     "output_type": "stream",
     "text": [
      "Method  uncertain  found  355  putative outlier frames.\n",
      "Do you want to proceed with extracting  100  of those?\n",
      "If this list is very large, perhaps consider changing the paramters (start, stop, p_bound, comparisonbodyparts) or use a different method.\n",
      "Loading video...\n",
      "Duration of video [s]:  26.975 , recorded @  200.0 fps!\n",
      "Overall # of frames:  5395 with (cropped) frame dimensions: \n",
      "Kmeans-quantization based extracting of frames from 0.0  seconds to 26.98  seconds.\n",
      "Extracting and downsampling... 355  frames from the video.\n"
     ]
    },
    {
     "name": "stderr",
     "output_type": "stream",
     "text": [
      "355it [00:08, 43.43it/s]\n"
     ]
    },
    {
     "name": "stdout",
     "output_type": "stream",
     "text": [
      "Kmeans clustering ... (this might take a while)\n",
      "Let's select frames indices: [3407, 2406, 550, 1997, 1424, 2069, 2324, 584, 2256, 2429, 2017, 1302, 3062, 2238, 2033, 2384, 1539, 593, 2367, 2245, 2275, 2866, 2002, 1673, 1991, 2074, 648, 2226, 2029, 570, 1378, 2060, 2422, 1402, 2357, 2261, 2437, 641, 2397, 2123, 349, 1414, 2347, 589, 2247, 3066, 2053, 1996, 2336, 2417, 2012, 871, 2233, 2277, 2426, 1678, 2434, 2042, 2354, 2349, 2043, 1020, 2095, 574, 1989, 2361, 581, 2016, 3389, 590, 2243, 2374, 2409, 579, 2023, 2253, 2034, 1994, 2420, 2220, 2231, 1316, 2081, 2234, 863, 642, 3064, 2320, 2403, 2067, 2027, 2250, 2371, 646, 1423, 3063, 2062, 583, 2241]\n",
      "Creating the symbolic link of the video\n",
      "New video was added to the project! Use the function 'extract_frames' to select frames for labeling.\n",
      "The outlier frames are extracted. They are stored in the subdirectory labeled-data\\2018.10.29_08_25_02.\n",
      "Once you extracted frames for all videos, use 'refine_labels' to manually correct the labels.\n",
      "Method  uncertain  found  148  putative outlier frames.\n",
      "Do you want to proceed with extracting  100  of those?\n",
      "If this list is very large, perhaps consider changing the paramters (start, stop, p_bound, comparisonbodyparts) or use a different method.\n",
      "Loading video...\n"
     ]
    },
    {
     "name": "stderr",
     "output_type": "stream",
     "text": [
      "1it [00:00,  9.42it/s]"
     ]
    },
    {
     "name": "stdout",
     "output_type": "stream",
     "text": [
      "Duration of video [s]:  26.995 , recorded @  200.0 fps!\n",
      "Overall # of frames:  5399 with (cropped) frame dimensions: \n",
      "Kmeans-quantization based extracting of frames from 0.0  seconds to 27.0  seconds.\n",
      "Extracting and downsampling... 148  frames from the video.\n"
     ]
    },
    {
     "name": "stderr",
     "output_type": "stream",
     "text": [
      "148it [00:03, 41.80it/s]\n"
     ]
    },
    {
     "name": "stdout",
     "output_type": "stream",
     "text": [
      "Kmeans clustering ... (this might take a while)\n",
      "Let's select frames indices: [822, 2338, 1922, 2284, 2391, 2357, 2379, 1342, 1034, 2333, 840, 2312, 2259, 651, 1408, 1105, 2279, 2305, 814, 883, 2400, 2385, 818, 949, 2292, 2344, 2355, 2373, 2364, 562, 2321, 2317, 2307, 2258, 2329, 2301, 823, 838, 2360, 2277, 2404, 2324, 2299, 2395, 2350, 2341, 1036, 2387, 2375, 816, 2368, 2309, 2383, 2314, 2326, 2302, 2300, 2275, 2256, 652, 2323, 2328, 1032, 2342, 824, 2287, 2260, 2320, 2331, 2330, 2398, 2340, 2336, 2291, 2318, 2286, 2335, 2276, 2346, 2370, 2303, 2337, 2278, 2280, 2339, 2381, 2285, 2325, 1924, 2311, 2313, 2359, 2257, 2402, 1033, 2310, 2343, 2308, 2322, 2389]\n",
      "Creating the symbolic link of the video\n",
      "New video was added to the project! Use the function 'extract_frames' to select frames for labeling.\n",
      "The outlier frames are extracted. They are stored in the subdirectory labeled-data\\2018.10.29_08_44_31.\n",
      "Once you extracted frames for all videos, use 'refine_labels' to manually correct the labels.\n"
     ]
    },
    {
     "name": "stderr",
     "output_type": "stream",
     "text": [
      "\r",
      "0it [00:00, ?it/s]"
     ]
    },
    {
     "name": "stdout",
     "output_type": "stream",
     "text": [
      "Method  uncertain  found  683  putative outlier frames.\n",
      "Do you want to proceed with extracting  100  of those?\n",
      "If this list is very large, perhaps consider changing the paramters (start, stop, p_bound, comparisonbodyparts) or use a different method.\n",
      "Loading video...\n",
      "Duration of video [s]:  27.16 , recorded @  200.0 fps!\n",
      "Overall # of frames:  5432 with (cropped) frame dimensions: \n",
      "Kmeans-quantization based extracting of frames from 0.0  seconds to 27.16  seconds.\n",
      "Extracting and downsampling... 683  frames from the video.\n"
     ]
    },
    {
     "name": "stderr",
     "output_type": "stream",
     "text": [
      "683it [00:15, 44.91it/s]\n"
     ]
    },
    {
     "name": "stdout",
     "output_type": "stream",
     "text": [
      "Kmeans clustering ... (this might take a while)\n",
      "Let's select frames indices: [2541, 3100, 2431, 2696, 902, 2383, 2478, 2824, 2729, 1617, 1625, 798, 2831, 2843, 2472, 3031, 1240, 2595, 915, 2518, 2650, 2391, 2426, 2456, 2770, 2642, 4410, 2535, 2419, 2445, 2397, 2739, 2421, 2620, 2709, 1199, 2485, 2395, 2612, 2581, 2504, 2380, 2438, 2598, 2384, 3055, 2375, 908, 2449, 2589, 2609, 3746, 2819, 2427, 2534, 3128, 2424, 3058, 2434, 2760, 3258, 2386, 2958, 2653, 2378, 2558, 2744, 2494, 2752, 2733, 2684, 2871, 2465, 2473, 2782, 3006, 2437, 3197, 2416, 2498, 2714, 2804, 2852, 3340, 2382, 2763, 3062, 2454, 2778, 2441, 2618, 2704, 3011, 2794, 2389, 2854, 3191, 2526, 2440, 2491]\n",
      "Creating the symbolic link of the video\n",
      "New video was added to the project! Use the function 'extract_frames' to select frames for labeling.\n",
      "The outlier frames are extracted. They are stored in the subdirectory labeled-data\\2018.10.29_08_54_32.\n",
      "Once you extracted frames for all videos, use 'refine_labels' to manually correct the labels.\n"
     ]
    },
    {
     "name": "stderr",
     "output_type": "stream",
     "text": [
      "\r",
      "0it [00:00, ?it/s]"
     ]
    },
    {
     "name": "stdout",
     "output_type": "stream",
     "text": [
      "Method  uncertain  found  178  putative outlier frames.\n",
      "Do you want to proceed with extracting  100  of those?\n",
      "If this list is very large, perhaps consider changing the paramters (start, stop, p_bound, comparisonbodyparts) or use a different method.\n",
      "Loading video...\n",
      "Duration of video [s]:  27.02 , recorded @  200.0 fps!\n",
      "Overall # of frames:  5404 with (cropped) frame dimensions: \n",
      "Kmeans-quantization based extracting of frames from 0.0  seconds to 27.02  seconds.\n",
      "Extracting and downsampling... 178  frames from the video.\n"
     ]
    },
    {
     "name": "stderr",
     "output_type": "stream",
     "text": [
      "178it [00:04, 42.11it/s]\n"
     ]
    },
    {
     "name": "stdout",
     "output_type": "stream",
     "text": [
      "Kmeans clustering ... (this might take a while)\n",
      "Let's select frames indices: [1557, 2075, 630, 3123, 1577, 318, 3157, 2028, 3192, 457, 619, 2092, 2020, 465, 586, 661, 1122, 2026, 3133, 3244, 228, 1561, 615, 1578, 3187, 549, 3155, 2102, 3243, 1232, 3128, 3186, 3195, 2068, 2086, 622, 571, 407, 3143, 322, 3129, 565, 1573, 2099, 3148, 2081, 392, 3140, 3180, 3159, 3184, 2104, 242, 2066, 3190, 3149, 2024, 3150, 3132, 3188, 3154, 3183, 324, 2073, 3197, 2071, 3178, 3147, 3193, 3189, 3139, 617, 3182, 3175, 455, 456, 2032, 2065, 3246, 458, 3138, 612, 632, 3142, 2089, 3176, 3181, 3152, 3242, 3191, 3151, 3196, 2064, 3135, 321, 463, 625, 1562, 1575, 1580]\n",
      "Creating the symbolic link of the video\n",
      "New video was added to the project! Use the function 'extract_frames' to select frames for labeling.\n",
      "The outlier frames are extracted. They are stored in the subdirectory labeled-data\\2018.10.29_09_14_06.\n",
      "Once you extracted frames for all videos, use 'refine_labels' to manually correct the labels.\n"
     ]
    },
    {
     "name": "stderr",
     "output_type": "stream",
     "text": [
      "\r",
      "0it [00:00, ?it/s]"
     ]
    },
    {
     "name": "stdout",
     "output_type": "stream",
     "text": [
      "Method  uncertain  found  945  putative outlier frames.\n",
      "Do you want to proceed with extracting  100  of those?\n",
      "If this list is very large, perhaps consider changing the paramters (start, stop, p_bound, comparisonbodyparts) or use a different method.\n",
      "Loading video...\n",
      "Duration of video [s]:  26.48 , recorded @  200.0 fps!\n",
      "Overall # of frames:  5296 with (cropped) frame dimensions: \n",
      "Kmeans-quantization based extracting of frames from 0.0  seconds to 26.48  seconds.\n",
      "Extracting and downsampling... 945  frames from the video.\n"
     ]
    },
    {
     "name": "stderr",
     "output_type": "stream",
     "text": [
      "945it [00:23, 40.60it/s]\n"
     ]
    },
    {
     "name": "stdout",
     "output_type": "stream",
     "text": [
      "Kmeans clustering ... (this might take a while)\n",
      "Let's select frames indices: [1821, 3225, 4794, 430, 2746, 3491, 3942, 4102, 4364, 952, 5259, 1707, 3462, 1339, 2144, 1735, 373, 3543, 809, 3260, 3670, 520, 3008, 1687, 3776, 1113, 453, 503, 3700, 3593, 2520, 3902, 4806, 2989, 1307, 3977, 496, 3272, 2897, 4083, 1050, 3730, 441, 1713, 4459, 4196, 4775, 3603, 3276, 1301, 2873, 3893, 3475, 4313, 4376, 466, 1317, 3601, 3506, 3678, 3059, 3584, 4815, 1690, 3752, 3056, 1283, 2178, 437, 3969, 506, 376, 2383, 434, 4109, 3469, 684, 2116, 3279, 3510, 366, 1695, 4799, 2710, 3524, 4003, 4075, 3815, 3669, 2434, 2674, 1485, 4368, 1683, 1213, 3716, 2863, 3596, 4788, 3483]\n",
      "Creating the symbolic link of the video\n",
      "New video was added to the project! Use the function 'extract_frames' to select frames for labeling.\n",
      "The outlier frames are extracted. They are stored in the subdirectory labeled-data\\2018.11.01_20_23_56.\n",
      "Once you extracted frames for all videos, use 'refine_labels' to manually correct the labels.\n"
     ]
    },
    {
     "name": "stderr",
     "output_type": "stream",
     "text": [
      "\r",
      "0it [00:00, ?it/s]"
     ]
    },
    {
     "name": "stdout",
     "output_type": "stream",
     "text": [
      "Method  uncertain  found  2544  putative outlier frames.\n",
      "Do you want to proceed with extracting  100  of those?\n",
      "If this list is very large, perhaps consider changing the paramters (start, stop, p_bound, comparisonbodyparts) or use a different method.\n",
      "Loading video...\n",
      "Duration of video [s]:  26.425 , recorded @  200.0 fps!\n",
      "Overall # of frames:  5285 with (cropped) frame dimensions: \n",
      "Kmeans-quantization based extracting of frames from 0.0  seconds to 26.43  seconds.\n",
      "Extracting and downsampling... 2543  frames from the video.\n"
     ]
    },
    {
     "name": "stderr",
     "output_type": "stream",
     "text": [
      "2543it [01:00, 42.21it/s]\n"
     ]
    },
    {
     "name": "stdout",
     "output_type": "stream",
     "text": [
      "Kmeans clustering ... (this might take a while)\n",
      "Let's select frames indices: [591, 3649, 1542, 3078, 349, 1849, 882, 83, 5219, 2157, 3255, 1461, 1085, 3533, 3926, 2437, 727, 2998, 4609, 3827, 3567, 1949, 829, 1675, 1309, 1019, 243, 2701, 3885, 2247, 390, 5079, 5183, 1687, 783, 1511, 745, 1024, 1712, 1823, 220, 1339, 1197, 1484, 3182, 839, 1890, 2836, 3782, 2068, 700, 922, 3524, 926, 2974, 208, 2495, 5155, 1155, 215, 1454, 5232, 1842, 1498, 902, 1360, 133, 1429, 1438, 1002, 1035, 3166, 1256, 107, 1740, 1932, 1380, 2007, 555, 3815, 993, 462, 268, 50, 3906, 1777, 1626, 1637, 274, 3287, 1732, 685, 3278, 2702, 976, 869, 1589, 1062, 2278, 1612]\n",
      "Creating the symbolic link of the video\n",
      "New video was added to the project! Use the function 'extract_frames' to select frames for labeling.\n",
      "The outlier frames are extracted. They are stored in the subdirectory labeled-data\\2018.11.01_20_33_35.\n",
      "Once you extracted frames for all videos, use 'refine_labels' to manually correct the labels.\n"
     ]
    },
    {
     "name": "stderr",
     "output_type": "stream",
     "text": [
      "\r",
      "0it [00:00, ?it/s]"
     ]
    },
    {
     "name": "stdout",
     "output_type": "stream",
     "text": [
      "Method  uncertain  found  1270  putative outlier frames.\n",
      "Do you want to proceed with extracting  100  of those?\n",
      "If this list is very large, perhaps consider changing the paramters (start, stop, p_bound, comparisonbodyparts) or use a different method.\n",
      "Loading video...\n",
      "Duration of video [s]:  26.405 , recorded @  200.0 fps!\n",
      "Overall # of frames:  5281 with (cropped) frame dimensions: \n",
      "Kmeans-quantization based extracting of frames from 0.0  seconds to 26.41  seconds.\n",
      "Extracting and downsampling... 1270  frames from the video.\n"
     ]
    },
    {
     "name": "stderr",
     "output_type": "stream",
     "text": [
      "1270it [00:28, 45.04it/s]\n"
     ]
    },
    {
     "name": "stdout",
     "output_type": "stream",
     "text": [
      "Kmeans clustering ... (this might take a while)\n",
      "Let's select frames indices: [4872, 2994, 4390, 4116, 2029, 5181, 4174, 3060, 4505, 3771, 1539, 4130, 1498, 4066, 3392, 5059, 4638, 3016, 2970, 2001, 4912, 2046, 1037, 3043, 4158, 4480, 4348, 3748, 2923, 4793, 4650, 3071, 4096, 4329, 3769, 3098, 3022, 4523, 5243, 3067, 4747, 5040, 4450, 4127, 4807, 4135, 4113, 5280, 2985, 4191, 4200, 4075, 4577, 4124, 3020, 3063, 4712, 5131, 3029, 3064, 4967, 5113, 3036, 4121, 4617, 3050, 4138, 4370, 4597, 4340, 1991, 3005, 4146, 4662, 4468, 4728, 4979, 4403, 4847, 4756, 4885, 3042, 4421, 4767, 5232, 4754, 5023, 1537, 5169, 4824, 4409, 3012, 4493, 5064, 4555, 4962, 4615, 5026, 4750, 4657]\n",
      "Creating the symbolic link of the video\n",
      "New video was added to the project! Use the function 'extract_frames' to select frames for labeling.\n",
      "The outlier frames are extracted. They are stored in the subdirectory labeled-data\\2018.11.01_21_01_40.\n",
      "Once you extracted frames for all videos, use 'refine_labels' to manually correct the labels.\n"
     ]
    },
    {
     "name": "stderr",
     "output_type": "stream",
     "text": [
      "\r",
      "0it [00:00, ?it/s]"
     ]
    },
    {
     "name": "stdout",
     "output_type": "stream",
     "text": [
      "Method  uncertain  found  935  putative outlier frames.\n",
      "Do you want to proceed with extracting  100  of those?\n",
      "If this list is very large, perhaps consider changing the paramters (start, stop, p_bound, comparisonbodyparts) or use a different method.\n",
      "Loading video...\n",
      "Duration of video [s]:  26.415 , recorded @  200.0 fps!\n",
      "Overall # of frames:  5283 with (cropped) frame dimensions: \n",
      "Kmeans-quantization based extracting of frames from 0.0  seconds to 26.41  seconds.\n",
      "Extracting and downsampling... 935  frames from the video.\n"
     ]
    },
    {
     "name": "stderr",
     "output_type": "stream",
     "text": [
      "935it [00:21, 42.85it/s]\n"
     ]
    },
    {
     "name": "stdout",
     "output_type": "stream",
     "text": [
      "Kmeans clustering ... (this might take a while)\n",
      "Let's select frames indices: [747, 3356, 4886, 2830, 1307, 3577, 779, 5240, 2907, 2683, 693, 1244, 1068, 4685, 3402, 4991, 1262, 587, 2860, 1194, 4954, 5020, 622, 2801, 3419, 4753, 4699, 756, 1223, 2847, 765, 2994, 743, 3363, 2887, 663, 2783, 5015, 5254, 2668, 1999, 4712, 5211, 801, 5245, 1206, 4977, 1189, 2873, 626, 3615, 4998, 2897, 1309, 1049, 2992, 676, 785, 3260, 1290, 2826, 3398, 1259, 1238, 4891, 4688, 3422, 3541, 2881, 1073, 702, 4707, 728, 1059, 3370, 2680, 5002, 2810, 3537, 4842, 4768, 4935, 2855, 608, 1056, 3409, 4853, 4837, 3690, 761, 3377, 1211, 4733, 3566, 4669, 3344, 4725, 3337, 3324, 2933]\n",
      "Creating the symbolic link of the video\n",
      "New video was added to the project! Use the function 'extract_frames' to select frames for labeling.\n",
      "The outlier frames are extracted. They are stored in the subdirectory labeled-data\\2018.11.01_21_02_55.\n",
      "Once you extracted frames for all videos, use 'refine_labels' to manually correct the labels.\n"
     ]
    },
    {
     "name": "stderr",
     "output_type": "stream",
     "text": [
      "\r",
      "0it [00:00, ?it/s]"
     ]
    },
    {
     "name": "stdout",
     "output_type": "stream",
     "text": [
      "Method  uncertain  found  556  putative outlier frames.\n",
      "Do you want to proceed with extracting  100  of those?\n",
      "If this list is very large, perhaps consider changing the paramters (start, stop, p_bound, comparisonbodyparts) or use a different method.\n",
      "Loading video...\n",
      "Duration of video [s]:  26.41 , recorded @  200.0 fps!\n",
      "Overall # of frames:  5282 with (cropped) frame dimensions: \n",
      "Kmeans-quantization based extracting of frames from 0.0  seconds to 26.41  seconds.\n",
      "Extracting and downsampling... 555  frames from the video.\n"
     ]
    },
    {
     "name": "stderr",
     "output_type": "stream",
     "text": [
      "555it [00:12, 45.04it/s]\n"
     ]
    },
    {
     "name": "stdout",
     "output_type": "stream",
     "text": [
      "Kmeans clustering ... (this might take a while)\n",
      "Let's select frames indices: [1147, 93, 381, 2644, 1646, 126, 240, 715, 428, 1109, 2095, 1153, 2674, 343, 301, 1128, 356, 1140, 1172, 413, 178, 406, 1116, 1669, 15, 329, 1567, 1663, 45, 721, 421, 706, 1096, 2102, 1138, 389, 1166, 1132, 708, 1170, 246, 2572, 695, 216, 1146, 334, 2624, 423, 435, 1157, 387, 349, 1148, 436, 1653, 417, 1643, 2662, 28, 705, 1133, 412, 159, 73, 1142, 1671, 395, 383, 346, 1645, 212, 2106, 243, 367, 1119, 229, 339, 350, 712, 1154, 1152, 430, 222, 2680, 236, 315, 332, 1139, 425, 2638, 718, 24, 2653, 1648, 65, 1144, 100, 1162, 176, 1155]\n",
      "Creating the symbolic link of the video\n",
      "New video was added to the project! Use the function 'extract_frames' to select frames for labeling.\n",
      "The outlier frames are extracted. They are stored in the subdirectory labeled-data\\2018.11.01_21_05_14.\n",
      "Once you extracted frames for all videos, use 'refine_labels' to manually correct the labels.\n"
     ]
    },
    {
     "name": "stderr",
     "output_type": "stream",
     "text": [
      "\r",
      "0it [00:00, ?it/s]"
     ]
    },
    {
     "name": "stdout",
     "output_type": "stream",
     "text": [
      "Method  uncertain  found  925  putative outlier frames.\n",
      "Do you want to proceed with extracting  100  of those?\n",
      "If this list is very large, perhaps consider changing the paramters (start, stop, p_bound, comparisonbodyparts) or use a different method.\n",
      "Loading video...\n",
      "Duration of video [s]:  26.475 , recorded @  200.0 fps!\n",
      "Overall # of frames:  5295 with (cropped) frame dimensions: \n",
      "Kmeans-quantization based extracting of frames from 0.0  seconds to 26.48  seconds.\n",
      "Extracting and downsampling... 925  frames from the video.\n"
     ]
    },
    {
     "name": "stderr",
     "output_type": "stream",
     "text": [
      "925it [00:21, 42.78it/s]\n"
     ]
    },
    {
     "name": "stdout",
     "output_type": "stream",
     "text": [
      "Kmeans clustering ... (this might take a while)\n",
      "Let's select frames indices: [1554, 2231, 3519, 2805, 4536, 4018, 1635, 1282, 3866, 1672, 2849, 2934, 3387, 243, 4058, 3991, 3658, 4684, 1351, 2882, 2551, 842, 264, 3490, 3615, 2782, 1577, 4477, 2834, 2359, 2293, 3421, 1684, 2822, 2923, 4547, 3309, 1741, 1517, 4206, 3402, 3997, 3411, 1534, 2929, 3931, 3365, 2947, 2479, 5069, 3394, 3673, 3951, 3577, 3040, 1620, 182, 3659, 2306, 3513, 1610, 2933, 2751, 2896, 2294, 4656, 1567, 3607, 2541, 2832, 1653, 256, 4997, 4461, 3538, 1667, 3595, 3640, 2801, 2322, 4562, 2901, 3304, 2858, 1489, 1541, 3385, 4473, 1704, 3561, 3515, 3667, 4529, 4540, 5024, 1623, 1644, 1309, 1586, 1558]\n",
      "Creating the symbolic link of the video\n",
      "New video was added to the project! Use the function 'extract_frames' to select frames for labeling.\n",
      "The outlier frames are extracted. They are stored in the subdirectory labeled-data\\2018.11.01_21_06_04.\n",
      "Once you extracted frames for all videos, use 'refine_labels' to manually correct the labels.\n"
     ]
    },
    {
     "name": "stderr",
     "output_type": "stream",
     "text": [
      "3it [00:00, 26.94it/s]"
     ]
    },
    {
     "name": "stdout",
     "output_type": "stream",
     "text": [
      "Method  uncertain  found  2022  putative outlier frames.\n",
      "Do you want to proceed with extracting  100  of those?\n",
      "If this list is very large, perhaps consider changing the paramters (start, stop, p_bound, comparisonbodyparts) or use a different method.\n",
      "Loading video...\n",
      "Duration of video [s]:  26.415 , recorded @  200.0 fps!\n",
      "Overall # of frames:  5283 with (cropped) frame dimensions: \n",
      "Kmeans-quantization based extracting of frames from 0.0  seconds to 26.41  seconds.\n",
      "Extracting and downsampling... 2022  frames from the video.\n"
     ]
    },
    {
     "name": "stderr",
     "output_type": "stream",
     "text": [
      "2022it [00:44, 45.04it/s]\n"
     ]
    },
    {
     "name": "stdout",
     "output_type": "stream",
     "text": [
      "Kmeans clustering ... (this might take a while)\n",
      "Let's select frames indices: [3769, 4908, 2459, 437, 4535, 838, 365, 4514, 4012, 3207, 4412, 1687, 3531, 5015, 2746, 3903, 508, 2049, 2718, 3346, 2279, 2502, 2084, 330, 553, 3182, 3170, 439, 848, 3323, 1559, 4187, 3061, 4614, 4885, 3059, 435, 3191, 4785, 4461, 5216, 2688, 2498, 4043, 2525, 3827, 4367, 812, 3680, 4712, 3063, 2475, 5245, 831, 4343, 438, 3965, 3291, 390, 5105, 3069, 3814, 4817, 5093, 4296, 2456, 1833, 1680, 2721, 4844, 3818, 4369, 4754, 4264, 4151, 3922, 3710, 4955, 351, 4658, 3856, 3786, 4388, 4440, 3175, 322, 824, 4558, 4166, 4682, 530, 4972, 4232, 4487, 5067, 4253, 4124, 1697, 5164, 4432]\n",
      "Creating the symbolic link of the video\n",
      "New video was added to the project! Use the function 'extract_frames' to select frames for labeling.\n",
      "The outlier frames are extracted. They are stored in the subdirectory labeled-data\\2018.11.01_21_06_50.\n",
      "Once you extracted frames for all videos, use 'refine_labels' to manually correct the labels.\n"
     ]
    },
    {
     "name": "stderr",
     "output_type": "stream",
     "text": [
      "\r",
      "0it [00:00, ?it/s]"
     ]
    },
    {
     "name": "stdout",
     "output_type": "stream",
     "text": [
      "Method  uncertain  found  981  putative outlier frames.\n",
      "Do you want to proceed with extracting  100  of those?\n",
      "If this list is very large, perhaps consider changing the paramters (start, stop, p_bound, comparisonbodyparts) or use a different method.\n",
      "Loading video...\n",
      "Duration of video [s]:  26.51 , recorded @  200.0 fps!\n",
      "Overall # of frames:  5302 with (cropped) frame dimensions: \n",
      "Kmeans-quantization based extracting of frames from 0.0  seconds to 26.51  seconds.\n",
      "Extracting and downsampling... 981  frames from the video.\n"
     ]
    },
    {
     "name": "stderr",
     "output_type": "stream",
     "text": [
      "981it [00:23, 42.50it/s]\n"
     ]
    },
    {
     "name": "stdout",
     "output_type": "stream",
     "text": [
      "Kmeans clustering ... (this might take a while)\n",
      "Let's select frames indices: [3628, 4341, 2590, 4017, 4589, 3871, 4070, 4409, 2278, 3129, 3829, 4798, 4208, 3155, 3093, 695, 3684, 3495, 3725, 3534, 3348, 3069, 3139, 2489, 1891, 3843, 4101, 4104, 3651, 4186, 2549, 3603, 4038, 3165, 3550, 3614, 3847, 3405, 3510, 3111, 4481, 3541, 3089, 4012, 3695, 3637, 4660, 3076, 3341, 3147, 5012, 4292, 2558, 4348, 2258, 3808, 4077, 4465, 3491, 4226, 3100, 3547, 3873, 1337, 3675, 3161, 4308, 4116, 2597, 3877, 4416, 3577, 4201, 3091, 3729, 3529, 3151, 4170, 3690, 3868, 3617, 4095, 4390, 3353, 3858, 3864, 4823, 3717, 4288, 4025, 3122, 3071, 4304, 3842, 3144, 3499, 4063, 3489, 3504, 3137]\n",
      "Creating the symbolic link of the video\n",
      "New video was added to the project! Use the function 'extract_frames' to select frames for labeling.\n",
      "The outlier frames are extracted. They are stored in the subdirectory labeled-data\\2018.11.01_21_08_40.\n",
      "Once you extracted frames for all videos, use 'refine_labels' to manually correct the labels.\n"
     ]
    },
    {
     "name": "stderr",
     "output_type": "stream",
     "text": [
      "\r",
      "0it [00:00, ?it/s]"
     ]
    },
    {
     "name": "stdout",
     "output_type": "stream",
     "text": [
      "Method  uncertain  found  1508  putative outlier frames.\n",
      "Do you want to proceed with extracting  100  of those?\n",
      "If this list is very large, perhaps consider changing the paramters (start, stop, p_bound, comparisonbodyparts) or use a different method.\n",
      "Loading video...\n",
      "Duration of video [s]:  26.445 , recorded @  200.0 fps!\n",
      "Overall # of frames:  5289 with (cropped) frame dimensions: \n",
      "Kmeans-quantization based extracting of frames from 0.0  seconds to 26.45  seconds.\n",
      "Extracting and downsampling... 1508  frames from the video.\n"
     ]
    },
    {
     "name": "stderr",
     "output_type": "stream",
     "text": [
      "1508it [00:34, 44.34it/s]\n"
     ]
    },
    {
     "name": "stdout",
     "output_type": "stream",
     "text": [
      "Kmeans clustering ... (this might take a while)\n",
      "Let's select frames indices: [4747, 4168, 3125, 4390, 1614, 4949, 3985, 2589, 4517, 3925, 4258, 1309, 2735, 4661, 3980, 3118, 1778, 5125, 1594, 4539, 4642, 4053, 2617, 4474, 5011, 4873, 3952, 3946, 2605, 2787, 5233, 4909, 4278, 4214, 2630, 2375, 4451, 5276, 4566, 4601, 5263, 5186, 4703, 4587, 4314, 4379, 4543, 5047, 3967, 3932, 963, 5252, 3114, 5269, 4811, 4612, 4564, 4969, 1608, 4209, 4106, 3122, 4370, 2608, 4401, 4494, 4685, 4250, 5095, 5031, 4140, 4781, 4299, 4434, 4593, 5010, 4020, 4046, 3729, 4339, 4527, 5199, 4340, 5075, 4132, 4880, 5042, 4712, 5136, 3929, 2601, 3938, 4833, 4073, 3975, 4582, 4223, 1922, 4722]\n",
      "Creating the symbolic link of the video\n",
      "New video was added to the project! Use the function 'extract_frames' to select frames for labeling.\n",
      "The outlier frames are extracted. They are stored in the subdirectory labeled-data\\2018.11.01_21_09_21.\n",
      "Once you extracted frames for all videos, use 'refine_labels' to manually correct the labels.\n"
     ]
    },
    {
     "name": "stderr",
     "output_type": "stream",
     "text": [
      "\r",
      "0it [00:00, ?it/s]"
     ]
    },
    {
     "name": "stdout",
     "output_type": "stream",
     "text": [
      "Method  uncertain  found  826  putative outlier frames.\n",
      "Do you want to proceed with extracting  100  of those?\n",
      "If this list is very large, perhaps consider changing the paramters (start, stop, p_bound, comparisonbodyparts) or use a different method.\n",
      "Loading video...\n",
      "Duration of video [s]:  26.43 , recorded @  200.0 fps!\n",
      "Overall # of frames:  5286 with (cropped) frame dimensions: \n",
      "Kmeans-quantization based extracting of frames from 0.0  seconds to 26.43  seconds.\n",
      "Extracting and downsampling... 825  frames from the video.\n"
     ]
    },
    {
     "name": "stderr",
     "output_type": "stream",
     "text": [
      "825it [00:19, 43.38it/s]\n"
     ]
    },
    {
     "name": "stdout",
     "output_type": "stream",
     "text": [
      "Kmeans clustering ... (this might take a while)\n",
      "Let's select frames indices: [336, 13, 3754, 403, 3188, 3406, 652, 1521, 279, 2943, 139, 566, 2236, 3711, 2918, 2692, 2625, 2959, 2507, 3696, 321, 627, 3425, 3201, 425, 3192, 3418, 2958, 213, 93, 239, 3723, 3833, 2685, 1498, 363, 689, 315, 1508, 2751, 2946, 3205, 326, 3729, 2936, 2499, 3422, 2205, 3705, 322, 75, 265, 371, 2221, 3216, 3891, 328, 298, 95, 3219, 2949, 3719, 1504, 110, 1535, 604, 211, 215, 69, 353, 1516, 204, 656, 2916, 3752, 632, 2242, 3394, 319, 158, 323, 608, 304, 694, 306, 2941, 390, 3765, 379, 2687, 3224, 3707, 3715, 257, 3732, 106, 129, 305, 3745, 176]\n",
      "Creating the symbolic link of the video\n",
      "New video was added to the project! Use the function 'extract_frames' to select frames for labeling.\n",
      "The outlier frames are extracted. They are stored in the subdirectory labeled-data\\2018.11.01_21_10_00.\n",
      "Once you extracted frames for all videos, use 'refine_labels' to manually correct the labels.\n"
     ]
    },
    {
     "name": "stderr",
     "output_type": "stream",
     "text": [
      "\r",
      "0it [00:00, ?it/s]"
     ]
    },
    {
     "name": "stdout",
     "output_type": "stream",
     "text": [
      "Method  uncertain  found  1121  putative outlier frames.\n",
      "Do you want to proceed with extracting  100  of those?\n",
      "If this list is very large, perhaps consider changing the paramters (start, stop, p_bound, comparisonbodyparts) or use a different method.\n",
      "Loading video...\n",
      "Duration of video [s]:  26.44 , recorded @  200.0 fps!\n",
      "Overall # of frames:  5288 with (cropped) frame dimensions: \n",
      "Kmeans-quantization based extracting of frames from 0.0  seconds to 26.44  seconds.\n",
      "Extracting and downsampling... 1121  frames from the video.\n"
     ]
    },
    {
     "name": "stderr",
     "output_type": "stream",
     "text": [
      "1121it [00:25, 44.28it/s]\n"
     ]
    },
    {
     "name": "stdout",
     "output_type": "stream",
     "text": [
      "Kmeans clustering ... (this might take a while)\n",
      "Let's select frames indices: [398, 4797, 9, 4292, 4146, 4670, 4376, 249, 1020, 770, 4043, 312, 4528, 4789, 269, 716, 756, 4909, 4355, 4062, 4442, 4247, 4025, 3240, 4102, 3222, 220, 4728, 1051, 340, 4828, 4541, 736, 4514, 4109, 362, 4855, 4583, 448, 4088, 3549, 270, 4380, 769, 207, 3205, 1034, 1005, 742, 4476, 327, 4771, 5056, 4117, 4093, 301, 5049, 4707, 4048, 346, 266, 1025, 772, 216, 784, 4069, 4137, 306, 4641, 4410, 4298, 228, 277, 2610, 4874, 4244, 2089, 4125, 253, 4608, 211, 4052, 4384, 287, 388, 3213, 291, 233, 4030, 4750, 4066, 1011, 4396, 4364, 4691, 4010, 333, 5102, 4751]\n",
      "Creating the symbolic link of the video\n",
      "New video was added to the project! Use the function 'extract_frames' to select frames for labeling.\n",
      "The outlier frames are extracted. They are stored in the subdirectory labeled-data\\2018.11.01_21_13_06.\n",
      "Once you extracted frames for all videos, use 'refine_labels' to manually correct the labels.\n"
     ]
    },
    {
     "name": "stderr",
     "output_type": "stream",
     "text": [
      "\r",
      "0it [00:00, ?it/s]"
     ]
    },
    {
     "name": "stdout",
     "output_type": "stream",
     "text": [
      "Method  uncertain  found  1293  putative outlier frames.\n",
      "Do you want to proceed with extracting  100  of those?\n",
      "If this list is very large, perhaps consider changing the paramters (start, stop, p_bound, comparisonbodyparts) or use a different method.\n",
      "Loading video...\n",
      "Duration of video [s]:  26.525 , recorded @  200.0 fps!\n",
      "Overall # of frames:  5305 with (cropped) frame dimensions: \n",
      "Kmeans-quantization based extracting of frames from 0.0  seconds to 26.52  seconds.\n",
      "Extracting and downsampling... 1293  frames from the video.\n"
     ]
    },
    {
     "name": "stderr",
     "output_type": "stream",
     "text": [
      "1293it [00:29, 43.95it/s]\n"
     ]
    },
    {
     "name": "stdout",
     "output_type": "stream",
     "text": [
      "Kmeans clustering ... (this might take a while)\n",
      "Let's select frames indices: [5242, 4232, 4551, 1306, 2956, 4083, 3871, 1416, 2447, 4792, 4947, 4024, 4639, 1547, 4221, 4707, 2214, 4323, 1296, 3472, 5047, 4065, 4587, 4373, 3899, 2527, 1211, 3951, 4763, 3880, 4613, 4733, 2885, 3469, 4520, 1885, 865, 4238, 3498, 1277, 4087, 4516, 2441, 4186, 4667, 1287, 1565, 4473, 3484, 2321, 3108, 4333, 5010, 4205, 4362, 4069, 5136, 4079, 3721, 2974, 2466, 4723, 3987, 4719, 4240, 4687, 4669, 4252, 3835, 3877, 4850, 4528, 4820, 4776, 2900, 4773, 3891, 5169, 4726, 4664, 2430, 4570, 1376, 3499, 3936, 4479, 4058, 4213, 4556, 3494, 5291, 2221, 4501, 1396, 4235, 3481, 1430, 4650, 1553, 4866]\n",
      "Creating the symbolic link of the video\n",
      "New video was added to the project! Use the function 'extract_frames' to select frames for labeling.\n",
      "The outlier frames are extracted. They are stored in the subdirectory labeled-data\\2018.11.01_21_13_56.\n",
      "Once you extracted frames for all videos, use 'refine_labels' to manually correct the labels.\n"
     ]
    },
    {
     "name": "stderr",
     "output_type": "stream",
     "text": [
      "\r",
      "0it [00:00, ?it/s]"
     ]
    },
    {
     "name": "stdout",
     "output_type": "stream",
     "text": [
      "Method  uncertain  found  473  putative outlier frames.\n",
      "Do you want to proceed with extracting  100  of those?\n",
      "If this list is very large, perhaps consider changing the paramters (start, stop, p_bound, comparisonbodyparts) or use a different method.\n",
      "Loading video...\n",
      "Duration of video [s]:  26.405 , recorded @  200.0 fps!\n",
      "Overall # of frames:  5281 with (cropped) frame dimensions: \n",
      "Kmeans-quantization based extracting of frames from 0.0  seconds to 26.41  seconds.\n",
      "Extracting and downsampling... 473  frames from the video.\n"
     ]
    },
    {
     "name": "stderr",
     "output_type": "stream",
     "text": [
      "473it [00:11, 42.03it/s]\n"
     ]
    },
    {
     "name": "stdout",
     "output_type": "stream",
     "text": [
      "Kmeans clustering ... (this might take a while)\n",
      "Let's select frames indices: [411, 2521, 2314, 1617, 2281, 1802, 474, 1001, 2465, 2350, 1202, 2264, 2029, 1626, 1910, 1497, 2258, 2497, 2215, 1815, 2002, 1535, 350, 1465, 2323, 1924, 972, 2014, 1008, 2295, 2527, 2511, 1624, 961, 2033, 502, 445, 626, 2440, 2454, 1934, 2288, 2309, 477, 1314, 2252, 493, 1630, 1166, 835, 2443, 1806, 1634, 257, 382, 483, 437, 1004, 1903, 980, 2433, 2250, 421, 2305, 527, 452, 2321, 1843, 966, 798, 1619, 1929, 434, 2003, 426, 1800, 992, 1540, 2480, 2260, 440, 1927, 2460, 1483, 362, 2276, 2342, 975, 990, 1801, 1805, 1811, 2251, 2502, 2316, 463, 1629, 826, 449, 433]\n",
      "Creating the symbolic link of the video\n",
      "New video was added to the project! Use the function 'extract_frames' to select frames for labeling.\n",
      "The outlier frames are extracted. They are stored in the subdirectory labeled-data\\2018.11.01_21_15_45.\n",
      "Once you extracted frames for all videos, use 'refine_labels' to manually correct the labels.\n"
     ]
    },
    {
     "name": "stderr",
     "output_type": "stream",
     "text": [
      "\r",
      "0it [00:00, ?it/s]"
     ]
    },
    {
     "name": "stdout",
     "output_type": "stream",
     "text": [
      "Method  uncertain  found  2083  putative outlier frames.\n",
      "Do you want to proceed with extracting  100  of those?\n",
      "If this list is very large, perhaps consider changing the paramters (start, stop, p_bound, comparisonbodyparts) or use a different method.\n",
      "Loading video...\n",
      "Duration of video [s]:  26.98 , recorded @  200.0 fps!\n",
      "Overall # of frames:  5396 with (cropped) frame dimensions: \n",
      "Kmeans-quantization based extracting of frames from 0.0  seconds to 26.98  seconds.\n",
      "Extracting and downsampling... 2082  frames from the video.\n"
     ]
    },
    {
     "name": "stderr",
     "output_type": "stream",
     "text": [
      "2082it [00:47, 43.91it/s]\n"
     ]
    },
    {
     "name": "stdout",
     "output_type": "stream",
     "text": [
      "Kmeans clustering ... (this might take a while)\n",
      "Let's select frames indices: [3711, 2931, 92, 4846, 3053, 2673, 2787, 3153, 3503, 2869, 3905, 1185, 1781, 2584, 131, 17, 4480, 2895, 1077, 3063, 2364, 2739, 2538, 3181, 4336, 2598, 36, 2458, 2823, 2722, 2816, 3443, 2769, 3091, 4013, 2518, 3799, 4946, 2498, 2877, 2361, 2611, 2635, 3032, 1369, 114, 2918, 3353, 4601, 3015, 2322, 3142, 2664, 3059, 52, 918, 3580, 4273, 4715, 2491, 3128, 3081, 5, 1068, 26, 2798, 94, 139, 3257, 2850, 3489, 3037, 4439, 3289, 2772, 3108, 1761, 2883, 2578, 3523, 2667, 2808, 2956, 5001, 1483, 4095, 3301, 71, 4546, 2763, 3175, 3027, 2699, 1767, 4360, 3231, 3986, 56, 3390, 3071]\n",
      "Creating the symbolic link of the video\n",
      "New video was added to the project! Use the function 'extract_frames' to select frames for labeling.\n",
      "The outlier frames are extracted. They are stored in the subdirectory labeled-data\\2018.11.01_09_18_05.\n",
      "Once you extracted frames for all videos, use 'refine_labels' to manually correct the labels.\n"
     ]
    },
    {
     "name": "stderr",
     "output_type": "stream",
     "text": [
      "\r",
      "0it [00:00, ?it/s]"
     ]
    },
    {
     "name": "stdout",
     "output_type": "stream",
     "text": [
      "Method  uncertain  found  1791  putative outlier frames.\n",
      "Do you want to proceed with extracting  100  of those?\n",
      "If this list is very large, perhaps consider changing the paramters (start, stop, p_bound, comparisonbodyparts) or use a different method.\n",
      "Loading video...\n",
      "Duration of video [s]:  27.065 , recorded @  200.0 fps!\n",
      "Overall # of frames:  5413 with (cropped) frame dimensions: \n",
      "Kmeans-quantization based extracting of frames from 0.0  seconds to 27.07  seconds.\n",
      "Extracting and downsampling... 1791  frames from the video.\n"
     ]
    },
    {
     "name": "stderr",
     "output_type": "stream",
     "text": [
      "1791it [00:43, 41.41it/s]\n"
     ]
    },
    {
     "name": "stdout",
     "output_type": "stream",
     "text": [
      "Kmeans clustering ... (this might take a while)\n",
      "Let's select frames indices: [4467, 5106, 2316, 4989, 1056, 3591, 4162, 3921, 4669, 5251, 5347, 4779, 1880, 4794, 3197, 4435, 3930, 4733, 5289, 821, 4545, 656, 5039, 5083, 3733, 4558, 4450, 5017, 3542, 2360, 3780, 4863, 1349, 5022, 3813, 4128, 5245, 5149, 4877, 2400, 4472, 5050, 3173, 1026, 4539, 5266, 4143, 3860, 4996, 5110, 3400, 5222, 4169, 2390, 3831, 3763, 3805, 3643, 4204, 4491, 5274, 2535, 4436, 5238, 4443, 4566, 4228, 4846, 3767, 3623, 5088, 4156, 4710, 5214, 3927, 4890, 4089, 4608, 4954, 982, 3729, 3691, 5322, 3811, 5352, 4677, 3532, 5141, 4581, 4974, 5220, 5120, 4809, 3807, 1874, 3682, 2121, 5400, 4121, 4604]\n",
      "Creating the symbolic link of the video\n",
      "New video was added to the project! Use the function 'extract_frames' to select frames for labeling.\n",
      "The outlier frames are extracted. They are stored in the subdirectory labeled-data\\2018.11.01_12_14_42.\n",
      "Once you extracted frames for all videos, use 'refine_labels' to manually correct the labels.\n"
     ]
    },
    {
     "name": "stderr",
     "output_type": "stream",
     "text": [
      "\r",
      "0it [00:00, ?it/s]"
     ]
    },
    {
     "name": "stdout",
     "output_type": "stream",
     "text": [
      "Method  uncertain  found  235  putative outlier frames.\n",
      "Do you want to proceed with extracting  100  of those?\n",
      "If this list is very large, perhaps consider changing the paramters (start, stop, p_bound, comparisonbodyparts) or use a different method.\n",
      "Loading video...\n",
      "Duration of video [s]:  27.0 , recorded @  200.0 fps!\n",
      "Overall # of frames:  5400 with (cropped) frame dimensions: \n",
      "Kmeans-quantization based extracting of frames from 0.0  seconds to 27.0  seconds.\n",
      "Extracting and downsampling... 234  frames from the video.\n"
     ]
    },
    {
     "name": "stderr",
     "output_type": "stream",
     "text": [
      "234it [00:05, 41.47it/s]\n"
     ]
    },
    {
     "name": "stdout",
     "output_type": "stream",
     "text": [
      "Kmeans clustering ... (this might take a while)\n",
      "Let's select frames indices: [137, 499, 66, 1928, 542, 5, 482, 1096, 113, 2366, 470, 955, 344, 1485, 670, 511, 227, 634, 12, 964, 216, 1276, 108, 2129, 2357, 1335, 21, 751, 124, 497, 91, 225, 463, 505, 16, 535, 102, 40, 128, 8, 136, 960, 503, 29, 2689, 956, 2127, 492, 531, 474, 110, 2, 118, 510, 52, 17, 25, 36, 100, 467, 2359, 538, 496, 480, 962, 57, 80, 487, 103, 11, 1484, 14, 539, 97, 19, 469, 132, 965, 493, 1095, 1927, 3, 41, 2128, 636, 507, 68, 7, 28, 472, 9, 10, 217, 13, 6, 34, 1483, 491, 466, 106]\n",
      "Creating the symbolic link of the video\n",
      "New video was added to the project! Use the function 'extract_frames' to select frames for labeling.\n",
      "The outlier frames are extracted. They are stored in the subdirectory labeled-data\\2018.11.01_17_11_52.\n",
      "Once you extracted frames for all videos, use 'refine_labels' to manually correct the labels.\n"
     ]
    },
    {
     "name": "stderr",
     "output_type": "stream",
     "text": [
      "\r",
      "0it [00:00, ?it/s]"
     ]
    },
    {
     "name": "stdout",
     "output_type": "stream",
     "text": [
      "Method  uncertain  found  141  putative outlier frames.\n",
      "Do you want to proceed with extracting  100  of those?\n",
      "If this list is very large, perhaps consider changing the paramters (start, stop, p_bound, comparisonbodyparts) or use a different method.\n",
      "Loading video...\n",
      "Duration of video [s]:  27.04 , recorded @  200.0 fps!\n",
      "Overall # of frames:  5408 with (cropped) frame dimensions: \n",
      "Kmeans-quantization based extracting of frames from 0.0  seconds to 27.04  seconds.\n",
      "Extracting and downsampling... 141  frames from the video.\n"
     ]
    },
    {
     "name": "stderr",
     "output_type": "stream",
     "text": [
      "141it [00:03, 41.13it/s]\n"
     ]
    },
    {
     "name": "stdout",
     "output_type": "stream",
     "text": [
      "Kmeans clustering ... (this might take a while)\n",
      "Let's select frames indices: [1460, 546, 1426, 1452, 1361, 2165, 1496, 1513, 71, 1482, 1507, 1446, 271, 1377, 1365, 1469, 329, 1374, 1493, 1440, 1996, 647, 1348, 1385, 2975, 1354, 863, 1488, 275, 1502, 1516, 1345, 1351, 1486, 1358, 1510, 1457, 1490, 1442, 1445, 1462, 1500, 609, 1498, 1484, 563, 1447, 1509, 1449, 1453, 1363, 1347, 1371, 1470, 1383, 1495, 1464, 269, 1350, 1485, 1489, 1512, 1443, 1487, 1352, 1508, 1375, 1504, 1491, 1514, 1368, 272, 1355, 1362, 1461, 1359, 1494, 1444, 1349, 548, 1450, 1423, 68, 1492, 1511, 1481, 1465, 72, 1387, 1382, 1458, 1515, 1346, 1448, 1353, 2168, 1441, 1501, 1505, 1517]\n",
      "Creating the symbolic link of the video\n",
      "New video was added to the project! Use the function 'extract_frames' to select frames for labeling.\n",
      "The outlier frames are extracted. They are stored in the subdirectory labeled-data\\2018.11.02_17_42_30.\n",
      "Once you extracted frames for all videos, use 'refine_labels' to manually correct the labels.\n"
     ]
    },
    {
     "name": "stderr",
     "output_type": "stream",
     "text": [
      "\r",
      "0it [00:00, ?it/s]"
     ]
    },
    {
     "name": "stdout",
     "output_type": "stream",
     "text": [
      "Method  uncertain  found  391  putative outlier frames.\n",
      "Do you want to proceed with extracting  100  of those?\n",
      "If this list is very large, perhaps consider changing the paramters (start, stop, p_bound, comparisonbodyparts) or use a different method.\n",
      "Loading video...\n",
      "Duration of video [s]:  27.07 , recorded @  200.0 fps!\n",
      "Overall # of frames:  5414 with (cropped) frame dimensions: \n",
      "Kmeans-quantization based extracting of frames from 0.0  seconds to 27.07  seconds.\n",
      "Extracting and downsampling... 391  frames from the video.\n"
     ]
    },
    {
     "name": "stderr",
     "output_type": "stream",
     "text": [
      "391it [00:09, 41.26it/s]\n"
     ]
    },
    {
     "name": "stdout",
     "output_type": "stream",
     "text": [
      "Kmeans clustering ... (this might take a while)\n",
      "Let's select frames indices: [2881, 3019, 1924, 3939, 2721, 4063, 2761, 2919, 2801, 2982, 928, 2809, 2931, 2952, 3895, 3087, 2708, 2748, 1928, 2858, 2766, 2734, 2999, 2925, 2776, 2827, 2702, 1915, 4094, 3018, 2958, 2712, 2842, 3970, 2948, 2909, 2772, 2763, 2818, 2904, 2804, 2868, 2720, 2839, 2041, 3004, 2851, 2892, 2969, 2797, 2802, 2774, 2939, 3953, 1925, 2956, 2737, 4067, 3022, 2725, 2854, 2928, 2936, 3888, 2934, 2923, 2754, 1919, 3015, 2706, 2709, 2830, 2718, 2791, 2862, 2806, 1931, 936, 2979, 4065, 2986, 2856, 2715, 3013, 2875, 2908, 2749, 2944, 2770, 2703, 2735, 2964, 2885, 2743, 3075, 2853, 2729, 2731, 2900, 2843]\n",
      "Creating the symbolic link of the video\n",
      "New video was added to the project! Use the function 'extract_frames' to select frames for labeling.\n",
      "The outlier frames are extracted. They are stored in the subdirectory labeled-data\\2018.11.02_17_51_18.\n",
      "Once you extracted frames for all videos, use 'refine_labels' to manually correct the labels.\n"
     ]
    },
    {
     "name": "stderr",
     "output_type": "stream",
     "text": [
      "\r",
      "0it [00:00, ?it/s]"
     ]
    },
    {
     "name": "stdout",
     "output_type": "stream",
     "text": [
      "Method  uncertain  found  405  putative outlier frames.\n",
      "Do you want to proceed with extracting  100  of those?\n",
      "If this list is very large, perhaps consider changing the paramters (start, stop, p_bound, comparisonbodyparts) or use a different method.\n",
      "Loading video...\n",
      "Duration of video [s]:  27.285 , recorded @  200.0 fps!\n",
      "Overall # of frames:  5457 with (cropped) frame dimensions: \n",
      "Kmeans-quantization based extracting of frames from 0.0  seconds to 27.29  seconds.\n",
      "Extracting and downsampling... 405  frames from the video.\n"
     ]
    },
    {
     "name": "stderr",
     "output_type": "stream",
     "text": [
      "405it [00:09, 40.81it/s]\n"
     ]
    },
    {
     "name": "stdout",
     "output_type": "stream",
     "text": [
      "Kmeans clustering ... (this might take a while)\n",
      "Let's select frames indices: [3990, 4830, 1269, 4727, 5360, 2712, 599, 4741, 4682, 2696, 4700, 2731, 4805, 1059, 4705, 3820, 4693, 1629, 2099, 4779, 4765, 2737, 4818, 4692, 4712, 4686, 1378, 2715, 4679, 2945, 886, 497, 4796, 4730, 827, 4774, 584, 4716, 3535, 4668, 4673, 4815, 2109, 4707, 4735, 2697, 1255, 4699, 4761, 3335, 4781, 2725, 4812, 605, 1404, 2745, 305, 4836, 487, 4717, 864, 1288, 4685, 4785, 4729, 4824, 1331, 4833, 4718, 4766, 4747, 2703, 4681, 1350, 2720, 1453, 1279, 4792, 4752, 1624, 5393, 4697, 4677, 2706, 499, 4803, 3983, 4822, 1244, 4683, 2694, 4721, 4703, 2732, 1338, 881, 4709, 4670, 2739, 4713]\n",
      "Creating the symbolic link of the video\n",
      "New video was added to the project! Use the function 'extract_frames' to select frames for labeling.\n",
      "The outlier frames are extracted. They are stored in the subdirectory labeled-data\\2018.11.02_17_51_53.\n",
      "Once you extracted frames for all videos, use 'refine_labels' to manually correct the labels.\n"
     ]
    },
    {
     "name": "stderr",
     "output_type": "stream",
     "text": [
      "5it [00:00, 46.92it/s]"
     ]
    },
    {
     "name": "stdout",
     "output_type": "stream",
     "text": [
      "Method  uncertain  found  992  putative outlier frames.\n",
      "Do you want to proceed with extracting  100  of those?\n",
      "If this list is very large, perhaps consider changing the paramters (start, stop, p_bound, comparisonbodyparts) or use a different method.\n",
      "Loading video...\n",
      "Duration of video [s]:  26.965 , recorded @  200.0 fps!\n",
      "Overall # of frames:  5393 with (cropped) frame dimensions: \n",
      "Kmeans-quantization based extracting of frames from 0.0  seconds to 26.96  seconds.\n",
      "Extracting and downsampling... 991  frames from the video.\n"
     ]
    },
    {
     "name": "stderr",
     "output_type": "stream",
     "text": [
      "991it [00:23, 42.44it/s]\n"
     ]
    },
    {
     "name": "stdout",
     "output_type": "stream",
     "text": [
      "Kmeans clustering ... (this might take a while)\n",
      "Let's select frames indices: [50, 4553, 3597, 1778, 2991, 3121, 3392, 318, 872, 146, 1821, 3623, 4523, 1088, 4689, 3099, 4453, 268, 3588, 2489, 1937, 3618, 2284, 4507, 4516, 4706, 3162, 3543, 1332, 3662, 3126, 2092, 1793, 4778, 3539, 1807, 4494, 3370, 3107, 3576, 1326, 2825, 754, 2705, 3655, 1856, 904, 3518, 3280, 3525, 1799, 1337, 1784, 3139, 1835, 3630, 1420, 569, 4460, 4540, 3102, 3191, 316, 4481, 302, 1668, 282, 3202, 1764, 3607, 4769, 1352, 3194, 121, 1969, 1329, 863, 3112, 1826, 4532, 1816, 1336, 3374, 4557, 2497, 3118, 3533, 3592, 4556, 4500, 3170, 3090, 3523, 4465, 2076, 1805, 3599, 3181, 4681, 3551]\n",
      "Creating the symbolic link of the video\n",
      "New video was added to the project! Use the function 'extract_frames' to select frames for labeling.\n",
      "The outlier frames are extracted. They are stored in the subdirectory labeled-data\\2018.11.02_17_52_32.\n",
      "Once you extracted frames for all videos, use 'refine_labels' to manually correct the labels.\n"
     ]
    },
    {
     "name": "stderr",
     "output_type": "stream",
     "text": [
      "\r",
      "0it [00:00, ?it/s]"
     ]
    },
    {
     "name": "stdout",
     "output_type": "stream",
     "text": [
      "Method  uncertain  found  982  putative outlier frames.\n",
      "Do you want to proceed with extracting  100  of those?\n",
      "If this list is very large, perhaps consider changing the paramters (start, stop, p_bound, comparisonbodyparts) or use a different method.\n",
      "Loading video...\n",
      "Duration of video [s]:  26.505 , recorded @  200.0 fps!\n",
      "Overall # of frames:  5301 with (cropped) frame dimensions: \n",
      "Kmeans-quantization based extracting of frames from 0.0  seconds to 26.5  seconds.\n",
      "Extracting and downsampling... 982  frames from the video.\n"
     ]
    },
    {
     "name": "stderr",
     "output_type": "stream",
     "text": [
      "982it [00:22, 43.95it/s]\n"
     ]
    },
    {
     "name": "stdout",
     "output_type": "stream",
     "text": [
      "Kmeans clustering ... (this might take a while)\n",
      "Let's select frames indices: [2201, 2649, 1554, 3743, 2841, 625, 2595, 2516, 4600, 4456, 2912, 3252, 5032, 2816, 2493, 2561, 4499, 548, 2708, 684, 4421, 974, 4130, 3617, 696, 2875, 3200, 3321, 5059, 5011, 2598, 3919, 2267, 3303, 593, 4466, 3343, 2578, 1616, 2659, 4869, 3184, 3013, 3773, 2882, 694, 3219, 4233, 2467, 4135, 4439, 3243, 2451, 4271, 864, 2935, 2625, 503, 3761, 842, 2460, 2564, 3160, 873, 4474, 5051, 3722, 4512, 4266, 3440, 2555, 3895, 2748, 5020, 4478, 4590, 2550, 2851, 422, 2831, 2589, 2904, 2572, 2271, 4415, 518, 3620, 4447, 2917, 2899, 3314, 658, 2614, 3203, 2608, 674, 604, 4615, 2499, 685]\n",
      "Creating the symbolic link of the video\n",
      "New video was added to the project! Use the function 'extract_frames' to select frames for labeling.\n",
      "The outlier frames are extracted. They are stored in the subdirectory labeled-data\\2018.11.02_18_08_52.\n",
      "Once you extracted frames for all videos, use 'refine_labels' to manually correct the labels.\n"
     ]
    },
    {
     "name": "stderr",
     "output_type": "stream",
     "text": [
      "\r",
      "0it [00:00, ?it/s]"
     ]
    },
    {
     "name": "stdout",
     "output_type": "stream",
     "text": [
      "Method  uncertain  found  3184  putative outlier frames.\n",
      "Do you want to proceed with extracting  100  of those?\n",
      "If this list is very large, perhaps consider changing the paramters (start, stop, p_bound, comparisonbodyparts) or use a different method.\n",
      "Loading video...\n",
      "Duration of video [s]:  26.485 , recorded @  200.0 fps!\n",
      "Overall # of frames:  5297 with (cropped) frame dimensions: \n",
      "Kmeans-quantization based extracting of frames from 0.0  seconds to 26.48  seconds.\n",
      "Extracting and downsampling... 3183  frames from the video.\n"
     ]
    },
    {
     "name": "stderr",
     "output_type": "stream",
     "text": [
      "3183it [01:06, 47.62it/s]\n"
     ]
    },
    {
     "name": "stdout",
     "output_type": "stream",
     "text": [
      "Kmeans clustering ... (this might take a while)\n",
      "Let's select frames indices: [4102, 184, 2501, 5079, 3185, 474, 2058, 2351, 2746, 210, 947, 3043, 3730, 1582, 2697, 2410, 3570, 31, 4919, 3198, 2544, 227, 2706, 2615, 4945, 1871, 4351, 4493, 2824, 2482, 2894, 2035, 2296, 2660, 76, 1313, 102, 4267, 51, 4553, 2563, 3117, 4788, 2387, 2928, 3672, 3869, 4660, 3501, 2685, 2696, 2630, 205, 5099, 3783, 2455, 5153, 2530, 2795, 4171, 2507, 4821, 2762, 3839, 4557, 3381, 4539, 2, 2734, 4672, 87, 2425, 5120, 5202, 2045, 3711, 17, 1567, 2865, 2316, 5006, 4573, 2523, 3992, 3909, 2461, 2982, 3444, 2731, 61, 3300, 3305, 4036, 3599, 5245, 3405, 4872, 2856, 40]\n",
      "Creating the symbolic link of the video\n",
      "New video was added to the project! Use the function 'extract_frames' to select frames for labeling.\n",
      "The outlier frames are extracted. They are stored in the subdirectory labeled-data\\2018.11.02_18_10_07.\n",
      "Once you extracted frames for all videos, use 'refine_labels' to manually correct the labels.\n"
     ]
    },
    {
     "name": "stderr",
     "output_type": "stream",
     "text": [
      "\r",
      "0it [00:00, ?it/s]"
     ]
    },
    {
     "name": "stdout",
     "output_type": "stream",
     "text": [
      "Method  uncertain  found  740  putative outlier frames.\n",
      "Do you want to proceed with extracting  100  of those?\n",
      "If this list is very large, perhaps consider changing the paramters (start, stop, p_bound, comparisonbodyparts) or use a different method.\n",
      "Loading video...\n",
      "Duration of video [s]:  26.44 , recorded @  200.0 fps!\n",
      "Overall # of frames:  5288 with (cropped) frame dimensions: \n",
      "Kmeans-quantization based extracting of frames from 0.0  seconds to 26.44  seconds.\n",
      "Extracting and downsampling... 740  frames from the video.\n"
     ]
    },
    {
     "name": "stderr",
     "output_type": "stream",
     "text": [
      "740it [00:17, 42.97it/s]\n"
     ]
    },
    {
     "name": "stdout",
     "output_type": "stream",
     "text": [
      "Kmeans clustering ... (this might take a while)\n",
      "Let's select frames indices: [2692, 1672, 4323, 5111, 3200, 2854, 395, 804, 1628, 4977, 4292, 2316, 2301, 2740, 3315, 2977, 3770, 3345, 2772, 770, 2193, 2833, 2917, 2758, 2664, 3323, 1856, 5067, 4864, 4350, 5101, 2257, 1574, 2675, 895, 1697, 3460, 5278, 4273, 3344, 2285, 1602, 3050, 829, 2805, 2749, 3304, 1705, 2868, 4309, 1368, 2793, 3859, 2267, 2765, 2288, 1593, 3361, 2281, 1166, 2313, 2721, 4224, 4445, 2708, 1861, 2895, 2266, 4983, 2783, 780, 5061, 2842, 2679, 2789, 3336, 2762, 4320, 5117, 3869, 1677, 4298, 2658, 2747, 1648, 1616, 2192, 5062, 1377, 1704, 4343, 2668, 5106, 1108, 2818, 3314, 1669, 1847, 5092, 2755]\n",
      "Creating the symbolic link of the video\n",
      "New video was added to the project! Use the function 'extract_frames' to select frames for labeling.\n",
      "The outlier frames are extracted. They are stored in the subdirectory labeled-data\\2018.11.02_18_13_35.\n",
      "Once you extracted frames for all videos, use 'refine_labels' to manually correct the labels.\n"
     ]
    },
    {
     "name": "stderr",
     "output_type": "stream",
     "text": [
      "\r",
      "0it [00:00, ?it/s]"
     ]
    },
    {
     "name": "stdout",
     "output_type": "stream",
     "text": [
      "Method  uncertain  found  2817  putative outlier frames.\n",
      "Do you want to proceed with extracting  100  of those?\n",
      "If this list is very large, perhaps consider changing the paramters (start, stop, p_bound, comparisonbodyparts) or use a different method.\n",
      "Loading video...\n",
      "Duration of video [s]:  26.465 , recorded @  200.0 fps!\n",
      "Overall # of frames:  5293 with (cropped) frame dimensions: \n",
      "Kmeans-quantization based extracting of frames from 0.0  seconds to 26.46  seconds.\n",
      "Extracting and downsampling... 2816  frames from the video.\n"
     ]
    },
    {
     "name": "stderr",
     "output_type": "stream",
     "text": [
      "2816it [01:01, 45.92it/s]\n"
     ]
    },
    {
     "name": "stdout",
     "output_type": "stream",
     "text": [
      "Kmeans clustering ... (this might take a while)\n",
      "Let's select frames indices: [4407, 3183, 3081, 53, 1670, 4770, 1611, 2981, 3260, 2724, 2874, 2444, 1536, 1716, 3580, 1646, 1556, 2937, 2625, 1445, 3923, 2055, 1842, 627, 2734, 2428, 1583, 1359, 3456, 1760, 2652, 3189, 5123, 150, 2639, 1520, 3003, 3128, 1546, 5283, 4362, 1657, 3932, 1679, 3884, 1416, 2720, 1725, 1592, 3753, 3370, 4295, 3649, 2975, 4651, 4454, 2933, 5107, 3547, 1, 1625, 2957, 5025, 3018, 2954, 5000, 1559, 787, 3117, 3145, 2998, 1859, 217, 778, 4870, 4810, 2707, 4205, 2988, 3713, 3397, 5195, 3982, 3087, 4026, 4379, 5212, 3095, 4180, 3325, 3222, 3016, 3860, 5080, 89, 4464, 3559, 3253, 4955]\n",
      "Creating the symbolic link of the video\n",
      "New video was added to the project! Use the function 'extract_frames' to select frames for labeling.\n",
      "The outlier frames are extracted. They are stored in the subdirectory labeled-data\\2018.11.02_18_15_14.\n",
      "Once you extracted frames for all videos, use 'refine_labels' to manually correct the labels.\n"
     ]
    },
    {
     "name": "stderr",
     "output_type": "stream",
     "text": [
      "\r",
      "0it [00:00, ?it/s]"
     ]
    },
    {
     "name": "stdout",
     "output_type": "stream",
     "text": [
      "Method  uncertain  found  1516  putative outlier frames.\n",
      "Do you want to proceed with extracting  100  of those?\n",
      "If this list is very large, perhaps consider changing the paramters (start, stop, p_bound, comparisonbodyparts) or use a different method.\n",
      "Loading video...\n",
      "Duration of video [s]:  26.48 , recorded @  200.0 fps!\n",
      "Overall # of frames:  5296 with (cropped) frame dimensions: \n",
      "Kmeans-quantization based extracting of frames from 0.0  seconds to 26.48  seconds.\n",
      "Extracting and downsampling... 1516  frames from the video.\n"
     ]
    },
    {
     "name": "stderr",
     "output_type": "stream",
     "text": [
      "1516it [00:34, 43.98it/s]\n"
     ]
    },
    {
     "name": "stdout",
     "output_type": "stream",
     "text": [
      "Kmeans clustering ... (this might take a while)\n",
      "Let's select frames indices: [3570, 5046, 4652, 3331, 4101, 3991, 2623, 4806, 1566, 1641, 4301, 1319, 2983, 3826, 2504, 4016, 2690, 4509, 3163, 2358, 932, 4249, 4750, 4865, 3424, 4960, 2769, 4203, 3984, 2792, 2581, 5100, 2884, 2962, 4284, 4053, 4093, 4148, 4272, 1341, 4463, 2341, 4536, 3082, 2809, 2800, 4692, 3367, 1007, 1142, 5001, 4672, 1032, 2880, 3979, 2655, 3436, 2820, 2644, 4786, 2410, 3277, 3853, 4168, 1597, 4069, 3130, 4594, 5062, 4314, 2184, 1015, 4008, 4032, 2973, 954, 4004, 4274, 2662, 2817, 2938, 1552, 4124, 5025, 4027, 4467, 5228, 2612, 4152, 2417, 4481, 4601, 5041, 1374, 4528, 4819, 3191, 4057, 4491, 4455]\n",
      "Creating the symbolic link of the video\n",
      "New video was added to the project! Use the function 'extract_frames' to select frames for labeling.\n",
      "The outlier frames are extracted. They are stored in the subdirectory labeled-data\\2018.11.02_18_16_37.\n",
      "Once you extracted frames for all videos, use 'refine_labels' to manually correct the labels.\n"
     ]
    },
    {
     "name": "stderr",
     "output_type": "stream",
     "text": [
      "\r",
      "0it [00:00, ?it/s]"
     ]
    },
    {
     "name": "stdout",
     "output_type": "stream",
     "text": [
      "Method  uncertain  found  1482  putative outlier frames.\n",
      "Do you want to proceed with extracting  100  of those?\n",
      "If this list is very large, perhaps consider changing the paramters (start, stop, p_bound, comparisonbodyparts) or use a different method.\n",
      "Loading video...\n",
      "Duration of video [s]:  26.465 , recorded @  200.0 fps!\n",
      "Overall # of frames:  5293 with (cropped) frame dimensions: \n",
      "Kmeans-quantization based extracting of frames from 0.0  seconds to 26.46  seconds.\n",
      "Extracting and downsampling... 1482  frames from the video.\n"
     ]
    },
    {
     "name": "stderr",
     "output_type": "stream",
     "text": [
      "1482it [00:33, 43.98it/s]\n"
     ]
    },
    {
     "name": "stdout",
     "output_type": "stream",
     "text": [
      "Kmeans clustering ... (this might take a while)\n",
      "Let's select frames indices: [1658, 5017, 3455, 1703, 973, 2177, 3412, 4395, 4572, 3779, 3631, 1194, 2777, 1454, 3822, 5140, 3307, 1029, 3361, 4795, 2054, 2959, 4462, 4615, 2486, 5153, 1471, 1494, 5264, 5039, 848, 3288, 3569, 1663, 4936, 3400, 1547, 3472, 4586, 3662, 4766, 971, 1606, 4530, 3834, 1137, 993, 1428, 1073, 1013, 878, 4202, 4171, 1482, 961, 2004, 1414, 3650, 1292, 2784, 3443, 1333, 3331, 668, 1784, 1766, 1772, 2101, 1057, 3300, 949, 3315, 4527, 4957, 4476, 885, 1320, 3719, 1668, 2022, 3427, 3639, 1751, 2029, 4194, 4469, 2512, 3319, 4793, 4466, 1006, 1501, 4720, 5219, 5091, 3393, 4824, 3503, 1754, 1673]\n",
      "Creating the symbolic link of the video\n",
      "New video was added to the project! Use the function 'extract_frames' to select frames for labeling.\n",
      "The outlier frames are extracted. They are stored in the subdirectory labeled-data\\2018.11.02_18_17_17.\n",
      "Once you extracted frames for all videos, use 'refine_labels' to manually correct the labels.\n"
     ]
    },
    {
     "name": "stderr",
     "output_type": "stream",
     "text": [
      "\r",
      "0it [00:00, ?it/s]"
     ]
    },
    {
     "name": "stdout",
     "output_type": "stream",
     "text": [
      "Method  uncertain  found  2460  putative outlier frames.\n",
      "Do you want to proceed with extracting  100  of those?\n",
      "If this list is very large, perhaps consider changing the paramters (start, stop, p_bound, comparisonbodyparts) or use a different method.\n",
      "Loading video...\n",
      "Duration of video [s]:  26.44 , recorded @  200.0 fps!\n",
      "Overall # of frames:  5288 with (cropped) frame dimensions: \n",
      "Kmeans-quantization based extracting of frames from 0.0  seconds to 26.44  seconds.\n",
      "Extracting and downsampling... 2460  frames from the video.\n"
     ]
    },
    {
     "name": "stderr",
     "output_type": "stream",
     "text": [
      "2460it [00:55, 44.08it/s]\n"
     ]
    },
    {
     "name": "stdout",
     "output_type": "stream",
     "text": [
      "Kmeans clustering ... (this might take a while)\n",
      "Let's select frames indices: [3553, 2232, 3248, 2483, 1952, 4409, 4650, 4263, 3785, 1708, 3062, 2053, 558, 1114, 3841, 3870, 3695, 4488, 2157, 2536, 2355, 3800, 3125, 1844, 3885, 2568, 830, 3330, 2813, 3474, 4142, 3867, 3809, 3923, 3677, 3411, 5246, 2291, 2843, 3153, 1797, 1135, 496, 4375, 4558, 2981, 4845, 1662, 3670, 1878, 2550, 1933, 3431, 1860, 1904, 3016, 3633, 3006, 4433, 1654, 516, 2749, 3584, 3274, 664, 3914, 1727, 3194, 1055, 2834, 4541, 2032, 4497, 3035, 4158, 3827, 4578, 3710, 2116, 2435, 3963, 3089, 3716, 1802, 4349, 2507, 3041, 2430, 2999, 4362, 4399, 4481, 2224, 2348, 3876, 2052, 1918, 4425, 3100, 1093]\n",
      "Creating the symbolic link of the video\n",
      "New video was added to the project! Use the function 'extract_frames' to select frames for labeling.\n",
      "The outlier frames are extracted. They are stored in the subdirectory labeled-data\\2018.11.02_18_19_53.\n",
      "Once you extracted frames for all videos, use 'refine_labels' to manually correct the labels.\n"
     ]
    },
    {
     "name": "stderr",
     "output_type": "stream",
     "text": [
      "4it [00:00, 37.32it/s]"
     ]
    },
    {
     "name": "stdout",
     "output_type": "stream",
     "text": [
      "Method  uncertain  found  1998  putative outlier frames.\n",
      "Do you want to proceed with extracting  100  of those?\n",
      "If this list is very large, perhaps consider changing the paramters (start, stop, p_bound, comparisonbodyparts) or use a different method.\n",
      "Loading video...\n",
      "Duration of video [s]:  26.455 , recorded @  200.0 fps!\n",
      "Overall # of frames:  5291 with (cropped) frame dimensions: \n",
      "Kmeans-quantization based extracting of frames from 0.0  seconds to 26.45  seconds.\n",
      "Extracting and downsampling... 1998  frames from the video.\n"
     ]
    },
    {
     "name": "stderr",
     "output_type": "stream",
     "text": [
      "1998it [00:43, 45.57it/s]\n"
     ]
    },
    {
     "name": "stdout",
     "output_type": "stream",
     "text": [
      "Kmeans clustering ... (this might take a while)\n",
      "Let's select frames indices: [4556, 1819, 1049, 1447, 2778, 1666, 705, 3225, 192, 1314, 1635, 1768, 873, 2016, 985, 1721, 2908, 2071, 1518, 661, 1282, 915, 1088, 2025, 2002, 1235, 489, 1288, 1947, 4000, 2035, 1741, 959, 1676, 2368, 2315, 1886, 2713, 1584, 2031, 2162, 3868, 2380, 1408, 2387, 1804, 1602, 2707, 512, 2346, 1302, 3333, 3113, 1250, 2185, 1747, 3304, 2047, 1681, 1690, 3017, 2722, 128, 2787, 928, 1648, 1872, 2692, 941, 2569, 1628, 2004, 4701, 1103, 1543, 965, 1581, 1295, 1413, 1057, 1308, 3400, 1285, 2727, 1874, 1420, 2013, 1997, 3062, 2753, 1096, 3261, 1083, 4112, 2739, 2844, 1615, 1931, 685]\n",
      "Creating the symbolic link of the video\n",
      "New video was added to the project! Use the function 'extract_frames' to select frames for labeling.\n",
      "The outlier frames are extracted. They are stored in the subdirectory labeled-data\\2018.11.02_18_20_38.\n",
      "Once you extracted frames for all videos, use 'refine_labels' to manually correct the labels.\n"
     ]
    },
    {
     "name": "stderr",
     "output_type": "stream",
     "text": [
      "\r",
      "0it [00:00, ?it/s]"
     ]
    },
    {
     "name": "stdout",
     "output_type": "stream",
     "text": [
      "Method  uncertain  found  2228  putative outlier frames.\n",
      "Do you want to proceed with extracting  100  of those?\n",
      "If this list is very large, perhaps consider changing the paramters (start, stop, p_bound, comparisonbodyparts) or use a different method.\n",
      "Loading video...\n",
      "Duration of video [s]:  26.265 , recorded @  200.0 fps!\n",
      "Overall # of frames:  5253 with (cropped) frame dimensions: \n",
      "Kmeans-quantization based extracting of frames from 0.0  seconds to 26.27  seconds.\n",
      "Extracting and downsampling... 2228  frames from the video.\n"
     ]
    },
    {
     "name": "stderr",
     "output_type": "stream",
     "text": [
      "2228it [00:49, 44.69it/s]\n"
     ]
    },
    {
     "name": "stdout",
     "output_type": "stream",
     "text": [
      "Kmeans clustering ... (this might take a while)\n",
      "Let's select frames indices: [2991, 4203, 480, 2637, 1745, 2191, 3468, 1803, 3622, 4856, 3334, 379, 2669, 3525, 3058, 792, 3886, 4392, 1856, 800, 3586, 3937, 3029, 3574, 1741, 1934, 2979, 619, 4320, 5221, 1724, 1797, 593, 362, 808, 743, 3668, 3419, 2176, 3336, 1879, 2342, 2958, 2358, 4467, 568, 581, 4823, 1656, 4455, 3049, 2353, 3748, 3118, 3008, 586, 2670, 3636, 1990, 3109, 3486, 5173, 3543, 2284, 1906, 1784, 4035, 3555, 4705, 4561, 1859, 5127, 3591, 3841, 4553, 3565, 3990, 2967, 3043, 5015, 2202, 1759, 4674, 3200, 5052, 3740, 3515, 2154, 2168, 2651, 3020, 3264, 3325, 1821, 2951, 2985, 4422, 2663, 4169, 3056]\n",
      "Creating the symbolic link of the video\n",
      "New video was added to the project! Use the function 'extract_frames' to select frames for labeling.\n",
      "The outlier frames are extracted. They are stored in the subdirectory labeled-data\\2018.11.02_18_27_14.\n",
      "Once you extracted frames for all videos, use 'refine_labels' to manually correct the labels.\n"
     ]
    },
    {
     "name": "stderr",
     "output_type": "stream",
     "text": [
      "\r",
      "0it [00:00, ?it/s]"
     ]
    },
    {
     "name": "stdout",
     "output_type": "stream",
     "text": [
      "Method  uncertain  found  714  putative outlier frames.\n",
      "Do you want to proceed with extracting  100  of those?\n",
      "If this list is very large, perhaps consider changing the paramters (start, stop, p_bound, comparisonbodyparts) or use a different method.\n",
      "Loading video...\n",
      "Duration of video [s]:  26.46 , recorded @  200.0 fps!\n",
      "Overall # of frames:  5292 with (cropped) frame dimensions: \n",
      "Kmeans-quantization based extracting of frames from 0.0  seconds to 26.46  seconds.\n",
      "Extracting and downsampling... 714  frames from the video.\n"
     ]
    },
    {
     "name": "stderr",
     "output_type": "stream",
     "text": [
      "714it [00:16, 44.23it/s]\n"
     ]
    },
    {
     "name": "stdout",
     "output_type": "stream",
     "text": [
      "Kmeans clustering ... (this might take a while)\n",
      "Let's select frames indices: [5221, 2306, 3521, 2122, 5288, 2129, 2626, 4512, 2321, 2214, 3929, 2447, 2574, 2139, 2597, 2706, 3272, 2075, 2163, 2672, 2420, 2511, 2280, 2484, 2167, 4533, 2602, 2457, 4539, 5187, 2061, 2566, 2688, 2591, 2111, 2810, 2107, 2119, 2578, 2098, 2441, 2700, 2459, 2165, 2464, 2110, 5131, 2235, 5202, 5277, 2200, 5217, 2418, 2400, 2349, 2226, 2615, 5222, 4530, 4546, 5212, 5197, 4178, 2192, 2328, 2367, 2385, 4524, 2086, 2392, 2684, 2508, 3531, 2499, 2079, 2073, 2288, 2155, 2710, 4525, 2245, 2376, 2320, 2102, 2406, 2081, 2154, 3369, 3554, 2179, 2606, 2135, 2286, 2301, 4518, 2116, 2360, 2188, 2452, 2128]\n",
      "Creating the symbolic link of the video\n",
      "New video was added to the project! Use the function 'extract_frames' to select frames for labeling.\n",
      "The outlier frames are extracted. They are stored in the subdirectory labeled-data\\2018.11.02_18_40_47.\n",
      "Once you extracted frames for all videos, use 'refine_labels' to manually correct the labels.\n"
     ]
    },
    {
     "name": "stderr",
     "output_type": "stream",
     "text": [
      "\r",
      "0it [00:00, ?it/s]"
     ]
    },
    {
     "name": "stdout",
     "output_type": "stream",
     "text": [
      "Method  uncertain  found  916  putative outlier frames.\n",
      "Do you want to proceed with extracting  100  of those?\n",
      "If this list is very large, perhaps consider changing the paramters (start, stop, p_bound, comparisonbodyparts) or use a different method.\n",
      "Loading video...\n",
      "Duration of video [s]:  26.48 , recorded @  200.0 fps!\n",
      "Overall # of frames:  5296 with (cropped) frame dimensions: \n",
      "Kmeans-quantization based extracting of frames from 0.0  seconds to 26.48  seconds.\n",
      "Extracting and downsampling... 916  frames from the video.\n"
     ]
    },
    {
     "name": "stderr",
     "output_type": "stream",
     "text": [
      "916it [00:20, 44.49it/s]\n"
     ]
    },
    {
     "name": "stdout",
     "output_type": "stream",
     "text": [
      "Kmeans clustering ... (this might take a while)\n",
      "Let's select frames indices: [781, 2193, 896, 1518, 3497, 1101, 1244, 943, 563, 737, 1288, 598, 1197, 1216, 749, 1261, 1275, 901, 926, 559, 1548, 858, 442, 1619, 1296, 1093, 188, 1208, 427, 1139, 1402, 1510, 1997, 3027, 627, 1147, 1377, 682, 2347, 871, 254, 482, 1126, 1557, 605, 968, 435, 940, 1529, 485, 1280, 702, 3508, 1561, 553, 1442, 929, 1193, 1575, 3126, 1253, 18, 993, 1445, 847, 804, 428, 1536, 1348, 958, 964, 805, 1271, 490, 786, 841, 1257, 758, 1659, 418, 2756, 641, 1198, 1495, 1233, 584, 1532, 480, 3048, 2003, 1293, 949, 839, 1537, 1223, 1249, 635, 1268, 1251, 1583]\n",
      "Creating the symbolic link of the video\n",
      "New video was added to the project! Use the function 'extract_frames' to select frames for labeling.\n",
      "The outlier frames are extracted. They are stored in the subdirectory labeled-data\\2018.11.02_18_42_29.\n",
      "Once you extracted frames for all videos, use 'refine_labels' to manually correct the labels.\n"
     ]
    },
    {
     "name": "stderr",
     "output_type": "stream",
     "text": [
      "\r",
      "0it [00:00, ?it/s]"
     ]
    },
    {
     "name": "stdout",
     "output_type": "stream",
     "text": [
      "Method  uncertain  found  3068  putative outlier frames.\n",
      "Do you want to proceed with extracting  100  of those?\n",
      "If this list is very large, perhaps consider changing the paramters (start, stop, p_bound, comparisonbodyparts) or use a different method.\n",
      "Loading video...\n",
      "Duration of video [s]:  26.465 , recorded @  200.0 fps!\n",
      "Overall # of frames:  5293 with (cropped) frame dimensions: \n",
      "Kmeans-quantization based extracting of frames from 0.0  seconds to 26.46  seconds.\n",
      "Extracting and downsampling... 3067  frames from the video.\n"
     ]
    },
    {
     "name": "stderr",
     "output_type": "stream",
     "text": [
      "3067it [01:03, 48.61it/s]\n"
     ]
    },
    {
     "name": "stdout",
     "output_type": "stream",
     "text": [
      "Kmeans clustering ... (this might take a while)\n",
      "Let's select frames indices: [2830, 4803, 1771, 87, 4699, 3417, 331, 3126, 928, 179, 215, 3917, 2558, 5159, 3011, 2569, 2911, 1497, 1115, 4894, 2837, 2515, 140, 776, 1787, 1739, 2481, 489, 3295, 2646, 1149, 248, 1165, 32, 2865, 301, 2440, 3683, 208, 2494, 406, 1779, 2602, 3823, 3397, 1756, 2960, 3118, 2880, 4859, 494, 3232, 4489, 2447, 763, 3508, 170, 1763, 2845, 4516, 445, 3040, 3937, 4276, 205, 1750, 4237, 4656, 3172, 4578, 1995, 3857, 1766, 4932, 4061, 2835, 2541, 5209, 3373, 155, 3411, 116, 3945, 2933, 4461, 3678, 2553, 463, 3589, 2903, 3431, 3360, 3520, 3615, 3748, 1762, 98, 3266, 4607, 4126]\n",
      "Creating the symbolic link of the video\n",
      "New video was added to the project! Use the function 'extract_frames' to select frames for labeling.\n",
      "The outlier frames are extracted. They are stored in the subdirectory labeled-data\\2018.11.02_18_47_23.\n",
      "Once you extracted frames for all videos, use 'refine_labels' to manually correct the labels.\n"
     ]
    },
    {
     "name": "stderr",
     "output_type": "stream",
     "text": [
      "10it [00:00, 93.82it/s]"
     ]
    },
    {
     "name": "stdout",
     "output_type": "stream",
     "text": [
      "Method  uncertain  found  2598  putative outlier frames.\n",
      "Do you want to proceed with extracting  100  of those?\n",
      "If this list is very large, perhaps consider changing the paramters (start, stop, p_bound, comparisonbodyparts) or use a different method.\n",
      "Loading video...\n",
      "Duration of video [s]:  26.475 , recorded @  200.0 fps!\n",
      "Overall # of frames:  5295 with (cropped) frame dimensions: \n",
      "Kmeans-quantization based extracting of frames from 0.0  seconds to 26.48  seconds.\n",
      "Extracting and downsampling... 2597  frames from the video.\n"
     ]
    },
    {
     "name": "stderr",
     "output_type": "stream",
     "text": [
      "2597it [00:53, 48.94it/s]\n"
     ]
    },
    {
     "name": "stdout",
     "output_type": "stream",
     "text": [
      "Kmeans clustering ... (this might take a while)\n",
      "Let's select frames indices: [1961, 4256, 211, 82, 2376, 3339, 226, 2157, 16, 4509, 3648, 1210, 4539, 2318, 368, 2525, 1914, 4609, 1643, 1235, 5189, 2101, 1454, 3743, 2413, 159, 132, 1628, 3850, 2149, 59, 3900, 1476, 282, 249, 3213, 4536, 1933, 4192, 214, 110, 4764, 1442, 4043, 1966, 2430, 271, 3581, 3445, 175, 2373, 4404, 268, 1193, 4828, 125, 218, 4038, 3731, 1462, 1945, 3423, 4849, 3329, 3542, 3261, 3397, 21, 628, 244, 106, 4129, 3886, 230, 3105, 3791, 4576, 4238, 5239, 4957, 4976, 4572, 184, 3853, 4887, 3533, 1225, 3950, 4419, 4079, 4786, 4480, 195, 1487, 4916, 4429, 3632, 3034, 395, 223]\n",
      "Creating the symbolic link of the video\n",
      "New video was added to the project! Use the function 'extract_frames' to select frames for labeling.\n",
      "The outlier frames are extracted. They are stored in the subdirectory labeled-data\\2018.11.02_18_47_57.\n",
      "Once you extracted frames for all videos, use 'refine_labels' to manually correct the labels.\n"
     ]
    },
    {
     "name": "stderr",
     "output_type": "stream",
     "text": [
      "9it [00:00, 87.54it/s]"
     ]
    },
    {
     "name": "stdout",
     "output_type": "stream",
     "text": [
      "Method  uncertain  found  2128  putative outlier frames.\n",
      "Do you want to proceed with extracting  100  of those?\n",
      "If this list is very large, perhaps consider changing the paramters (start, stop, p_bound, comparisonbodyparts) or use a different method.\n",
      "Loading video...\n",
      "Duration of video [s]:  26.49 , recorded @  200.0 fps!\n",
      "Overall # of frames:  5298 with (cropped) frame dimensions: \n",
      "Kmeans-quantization based extracting of frames from 0.0  seconds to 26.49  seconds.\n",
      "Extracting and downsampling... 2127  frames from the video.\n"
     ]
    },
    {
     "name": "stderr",
     "output_type": "stream",
     "text": [
      "2127it [00:46, 45.79it/s]\n"
     ]
    },
    {
     "name": "stdout",
     "output_type": "stream",
     "text": [
      "Kmeans clustering ... (this might take a while)\n",
      "Let's select frames indices: [3576, 52, 2718, 1204, 5139, 2126, 2438, 2581, 1815, 265, 2747, 1602, 1538, 2223, 4303, 272, 2755, 566, 2626, 287, 112, 252, 2643, 2539, 2521, 2647, 419, 2499, 2507, 223, 1587, 2385, 4806, 4945, 2586, 2688, 2612, 583, 4441, 2373, 2377, 576, 1828, 1235, 2784, 212, 3911, 4475, 2518, 2813, 2779, 13, 2425, 2451, 1612, 2682, 2395, 2620, 2720, 4328, 9, 266, 571, 242, 2674, 248, 228, 1227, 2567, 195, 2731, 65, 293, 1533, 2514, 2603, 280, 3691, 2765, 2575, 4753, 4365, 2695, 4054, 2417, 2816, 3411, 255, 2787, 5091, 2387, 3878, 2177, 2185, 2473, 1102, 3830, 5228, 3961, 153]\n",
      "Creating the symbolic link of the video\n",
      "New video was added to the project! Use the function 'extract_frames' to select frames for labeling.\n",
      "The outlier frames are extracted. They are stored in the subdirectory labeled-data\\2018.11.02_18_48_32.\n",
      "Once you extracted frames for all videos, use 'refine_labels' to manually correct the labels.\n"
     ]
    },
    {
     "name": "stderr",
     "output_type": "stream",
     "text": [
      "\r",
      "0it [00:00, ?it/s]"
     ]
    },
    {
     "name": "stdout",
     "output_type": "stream",
     "text": [
      "Method  uncertain  found  4617  putative outlier frames.\n",
      "Do you want to proceed with extracting  100  of those?\n",
      "If this list is very large, perhaps consider changing the paramters (start, stop, p_bound, comparisonbodyparts) or use a different method.\n",
      "Loading video...\n",
      "Duration of video [s]:  26.47 , recorded @  200.0 fps!\n",
      "Overall # of frames:  5294 with (cropped) frame dimensions: \n",
      "Kmeans-quantization based extracting of frames from 0.0  seconds to 26.47  seconds.\n",
      "Extracting and downsampling... 4617  frames from the video.\n"
     ]
    },
    {
     "name": "stderr",
     "output_type": "stream",
     "text": [
      "4617it [01:43, 44.68it/s]\n"
     ]
    },
    {
     "name": "stdout",
     "output_type": "stream",
     "text": [
      "Kmeans clustering ... (this might take a while)\n",
      "Let's select frames indices: [5063, 2600, 997, 703, 1729, 3216, 1420, 1172, 4623, 805, 3786, 1352, 660, 1843, 1097, 1572, 781, 3003, 883, 3850, 906, 3654, 1006, 4975, 768, 1392, 2878, 1954, 4939, 4029, 1666, 2036, 3715, 1245, 856, 1772, 1321, 1525, 1988, 4765, 2985, 1624, 4739, 730, 2799, 1880, 4361, 643, 3418, 3478, 3174, 5167, 1069, 4215, 3158, 3338, 3518, 4248, 4588, 2585, 834, 1293, 2093, 591, 2411, 1081, 938, 3384, 4323, 2711, 4396, 1063, 1914, 4063, 2030, 3572, 1556, 3049, 2481, 1033, 4502, 5207, 3062, 3678, 3810, 4775, 754, 1697, 2516, 4148, 1687, 1495, 5031, 4190, 3459, 2321, 927, 3339, 1582]\n",
      "Creating the symbolic link of the video\n",
      "New video was added to the project! Use the function 'extract_frames' to select frames for labeling.\n",
      "The outlier frames are extracted. They are stored in the subdirectory labeled-data\\2018.11.02_18_49_02.\n",
      "Once you extracted frames for all videos, use 'refine_labels' to manually correct the labels.\n"
     ]
    },
    {
     "name": "stderr",
     "output_type": "stream",
     "text": [
      "\r",
      "0it [00:00, ?it/s]"
     ]
    },
    {
     "name": "stdout",
     "output_type": "stream",
     "text": [
      "Method  uncertain  found  2589  putative outlier frames.\n",
      "Do you want to proceed with extracting  100  of those?\n",
      "If this list is very large, perhaps consider changing the paramters (start, stop, p_bound, comparisonbodyparts) or use a different method.\n",
      "Loading video...\n",
      "Duration of video [s]:  26.96 , recorded @  200.0 fps!\n",
      "Overall # of frames:  5392 with (cropped) frame dimensions: \n",
      "Kmeans-quantization based extracting of frames from 0.0  seconds to 26.96  seconds.\n",
      "Extracting and downsampling... 2589  frames from the video.\n"
     ]
    },
    {
     "name": "stderr",
     "output_type": "stream",
     "text": [
      "2589it [00:57, 45.18it/s]\n"
     ]
    },
    {
     "name": "stdout",
     "output_type": "stream",
     "text": [
      "Kmeans clustering ... (this might take a while)\n",
      "Let's select frames indices: [1370, 4508, 2759, 5343, 1537, 1488, 4389, 2463, 3854, 5260, 5187, 2384, 4848, 1081, 2119, 1565, 2126, 88, 3573, 3499, 1484, 3358, 4554, 2708, 4252, 3284, 5171, 4011, 3674, 2532, 1520, 4072, 1535, 1470, 3254, 1503, 5221, 4699, 5055, 5382, 1550, 4067, 5300, 2520, 1289, 4043, 5327, 3956, 3327, 2970, 1491, 2435, 5091, 2515, 4208, 5231, 5255, 2733, 4194, 5349, 4516, 5244, 4622, 4116, 2490, 3641, 2401, 4178, 2407, 5067, 2541, 5213, 3425, 5118, 5366, 5317, 5018, 3695, 3709, 5353, 5076, 5286, 2820, 4138, 2443, 4909, 3806, 5106, 3418, 2864, 3236, 4722, 5295, 2774, 3559, 5199, 4127, 4141, 2474]\n",
      "Creating the symbolic link of the video\n",
      "New video was added to the project! Use the function 'extract_frames' to select frames for labeling.\n",
      "The outlier frames are extracted. They are stored in the subdirectory labeled-data\\2018.11.02_09_04_24.\n",
      "Once you extracted frames for all videos, use 'refine_labels' to manually correct the labels.\n"
     ]
    },
    {
     "name": "stderr",
     "output_type": "stream",
     "text": [
      "\r",
      "0it [00:00, ?it/s]"
     ]
    },
    {
     "name": "stdout",
     "output_type": "stream",
     "text": [
      "Method  uncertain  found  1712  putative outlier frames.\n",
      "Do you want to proceed with extracting  100  of those?\n",
      "If this list is very large, perhaps consider changing the paramters (start, stop, p_bound, comparisonbodyparts) or use a different method.\n",
      "Loading video...\n",
      "Duration of video [s]:  26.98 , recorded @  200.0 fps!\n",
      "Overall # of frames:  5396 with (cropped) frame dimensions: \n",
      "Kmeans-quantization based extracting of frames from 0.0  seconds to 26.98  seconds.\n",
      "Extracting and downsampling... 1712  frames from the video.\n"
     ]
    },
    {
     "name": "stderr",
     "output_type": "stream",
     "text": [
      "1712it [00:38, 44.47it/s]\n"
     ]
    },
    {
     "name": "stdout",
     "output_type": "stream",
     "text": [
      "Kmeans clustering ... (this might take a while)\n",
      "Let's select frames indices: [3783, 2981, 3599, 2701, 4200, 3652, 2633, 3731, 3247, 2811, 4728, 3593, 2945, 3008, 3513, 3268, 2505, 3883, 3551, 3159, 4131, 3483, 3808, 2571, 4075, 2991, 3751, 1063, 4061, 4117, 3041, 2567, 2646, 2950, 2758, 3927, 2745, 3544, 3873, 2898, 2604, 3259, 3568, 3796, 3578, 3470, 2858, 3081, 3613, 3146, 3690, 3416, 2909, 3074, 2762, 2554, 543, 2916, 1078, 3061, 1046, 3137, 2834, 3754, 2706, 2792, 2861, 2737, 2936, 3957, 3406, 3881, 3966, 3865, 2537, 3156, 2963, 3617, 3580, 3020, 3308, 2750, 3679, 3475, 3495, 3784, 3670, 3937, 3198, 3425, 3340, 2873, 4008, 3210, 3420, 2869, 3088, 3627, 3893, 3443]\n",
      "Creating the symbolic link of the video\n",
      "New video was added to the project! Use the function 'extract_frames' to select frames for labeling.\n",
      "The outlier frames are extracted. They are stored in the subdirectory labeled-data\\2018.11.02_12_00_40.\n",
      "Once you extracted frames for all videos, use 'refine_labels' to manually correct the labels.\n"
     ]
    },
    {
     "name": "stderr",
     "output_type": "stream",
     "text": [
      "\r",
      "0it [00:00, ?it/s]"
     ]
    },
    {
     "name": "stdout",
     "output_type": "stream",
     "text": [
      "Method  uncertain  found  811  putative outlier frames.\n",
      "Do you want to proceed with extracting  100  of those?\n",
      "If this list is very large, perhaps consider changing the paramters (start, stop, p_bound, comparisonbodyparts) or use a different method.\n",
      "Loading video...\n",
      "Duration of video [s]:  27.11 , recorded @  200.0 fps!\n",
      "Overall # of frames:  5422 with (cropped) frame dimensions: \n",
      "Kmeans-quantization based extracting of frames from 0.0  seconds to 27.11  seconds.\n",
      "Extracting and downsampling... 811  frames from the video.\n"
     ]
    },
    {
     "name": "stderr",
     "output_type": "stream",
     "text": [
      "811it [00:18, 43.65it/s]\n"
     ]
    },
    {
     "name": "stdout",
     "output_type": "stream",
     "text": [
      "Kmeans clustering ... (this might take a while)\n",
      "Let's select frames indices: [2490, 3855, 2823, 2032, 2577, 1039, 226, 3051, 2463, 997, 2591, 2599, 3572, 703, 2439, 926, 1585, 2539, 2262, 2048, 2355, 3012, 2595, 1895, 1716, 3759, 3911, 4283, 39, 2692, 2659, 1059, 2584, 3991, 2573, 2670, 3612, 2997, 2627, 2424, 2805, 204, 1900, 2543, 2698, 3007, 472, 4165, 3014, 2559, 3066, 4194, 3460, 3763, 3800, 3523, 3791, 2597, 4067, 2567, 2808, 2603, 2546, 207, 3595, 2465, 3726, 2667, 2817, 3000, 2056, 2444, 2452, 2221, 2828, 3676, 3716, 3684, 3929, 1056, 2588, 4109, 4017, 4079, 1048, 3586, 3446, 2549, 3968, 3865, 3518, 3002, 2589, 4141, 4245, 3499, 2575, 2258, 3742]\n",
      "Creating the symbolic link of the video\n",
      "New video was added to the project! Use the function 'extract_frames' to select frames for labeling.\n",
      "The outlier frames are extracted. They are stored in the subdirectory labeled-data\\2018.11.02_16_16_49.\n",
      "Once you extracted frames for all videos, use 'refine_labels' to manually correct the labels.\n"
     ]
    },
    {
     "name": "stderr",
     "output_type": "stream",
     "text": [
      "\r",
      "0it [00:00, ?it/s]"
     ]
    },
    {
     "name": "stdout",
     "output_type": "stream",
     "text": [
      "Method  uncertain  found  386  putative outlier frames.\n",
      "Do you want to proceed with extracting  100  of those?\n",
      "If this list is very large, perhaps consider changing the paramters (start, stop, p_bound, comparisonbodyparts) or use a different method.\n",
      "Loading video...\n",
      "Duration of video [s]:  26.965 , recorded @  200.0 fps!\n",
      "Overall # of frames:  5393 with (cropped) frame dimensions: \n",
      "Kmeans-quantization based extracting of frames from 0.0  seconds to 26.96  seconds.\n",
      "Extracting and downsampling... 386  frames from the video.\n"
     ]
    },
    {
     "name": "stderr",
     "output_type": "stream",
     "text": [
      "386it [00:09, 41.07it/s]\n"
     ]
    },
    {
     "name": "stdout",
     "output_type": "stream",
     "text": [
      "Kmeans clustering ... (this might take a while)\n",
      "Let's select frames indices: [4725, 1654, 4900, 1137, 1842, 1516, 2268, 5379, 454, 2787, 691, 2709, 941, 558, 2308, 326, 2149, 1205, 1710, 1482, 4807, 375, 2815, 1608, 2823, 2843, 5083, 458, 4440, 1664, 4587, 2706, 1140, 443, 455, 321, 694, 1849, 3615, 507, 1514, 1493, 5322, 2316, 4766, 1845, 1708, 1136, 4555, 4400, 1647, 4518, 687, 4961, 1138, 2820, 4677, 4635, 1843, 4846, 4145, 4315, 2318, 1746, 943, 4589, 2778, 4754, 1648, 4814, 1846, 4358, 4300, 1839, 4849, 1481, 4909, 4355, 4721, 2783, 4877, 1709, 4455, 4924, 4796, 3723, 4210, 2707, 4837, 4614, 4573, 4682, 4446, 1662, 4872, 4779, 2128, 4737, 1652, 4502]\n",
      "Creating the symbolic link of the video\n",
      "New video was added to the project! Use the function 'extract_frames' to select frames for labeling.\n",
      "The outlier frames are extracted. They are stored in the subdirectory labeled-data\\2018.11.02_16_19_14.\n",
      "Once you extracted frames for all videos, use 'refine_labels' to manually correct the labels.\n"
     ]
    },
    {
     "name": "stderr",
     "output_type": "stream",
     "text": [
      "\r",
      "0it [00:00, ?it/s]"
     ]
    },
    {
     "name": "stdout",
     "output_type": "stream",
     "text": [
      "Method  uncertain  found  392  putative outlier frames.\n",
      "Do you want to proceed with extracting  100  of those?\n",
      "If this list is very large, perhaps consider changing the paramters (start, stop, p_bound, comparisonbodyparts) or use a different method.\n",
      "Loading video...\n",
      "Duration of video [s]:  27.015 , recorded @  200.0 fps!\n",
      "Overall # of frames:  5403 with (cropped) frame dimensions: \n",
      "Kmeans-quantization based extracting of frames from 0.0  seconds to 27.02  seconds.\n",
      "Extracting and downsampling... 391  frames from the video.\n"
     ]
    },
    {
     "name": "stderr",
     "output_type": "stream",
     "text": [
      "391it [00:09, 42.64it/s]\n"
     ]
    },
    {
     "name": "stdout",
     "output_type": "stream",
     "text": [
      "Kmeans clustering ... (this might take a while)\n",
      "Let's select frames indices: [81, 725, 1244, 109, 678, 268, 967, 2785, 152, 245, 1675, 231, 650, 766, 257, 712, 208, 1767, 666, 8, 1222, 69, 42, 1038, 125, 2691, 171, 240, 2315, 251, 694, 204, 239, 659, 144, 244, 1181, 686, 674, 200, 1403, 215, 681, 155, 76, 88, 184, 30, 241, 462, 103, 647, 701, 676, 73, 46, 2185, 141, 159, 130, 232, 137, 36, 210, 718, 229, 2789, 27, 256, 213, 95, 58, 139, 128, 263, 181, 668, 691, 235, 85, 720, 212, 201, 2776, 1, 163, 1294, 188, 190, 2690, 113, 150, 248, 23, 710, 671, 1036, 131, 80, 51]\n",
      "Creating the symbolic link of the video\n",
      "New video was added to the project! Use the function 'extract_frames' to select frames for labeling.\n",
      "The outlier frames are extracted. They are stored in the subdirectory labeled-data\\2018.11.02_16_39_31.\n",
      "Once you extracted frames for all videos, use 'refine_labels' to manually correct the labels.\n"
     ]
    },
    {
     "name": "stderr",
     "output_type": "stream",
     "text": [
      "\r",
      "0it [00:00, ?it/s]"
     ]
    },
    {
     "name": "stdout",
     "output_type": "stream",
     "text": [
      "Method  uncertain  found  222  putative outlier frames.\n",
      "Do you want to proceed with extracting  100  of those?\n",
      "If this list is very large, perhaps consider changing the paramters (start, stop, p_bound, comparisonbodyparts) or use a different method.\n",
      "Loading video...\n",
      "Duration of video [s]:  26.97 , recorded @  200.0 fps!\n",
      "Overall # of frames:  5394 with (cropped) frame dimensions: \n",
      "Kmeans-quantization based extracting of frames from 0.0  seconds to 26.97  seconds.\n",
      "Extracting and downsampling... 222  frames from the video.\n"
     ]
    },
    {
     "name": "stderr",
     "output_type": "stream",
     "text": [
      "222it [00:05, 43.52it/s]\n"
     ]
    },
    {
     "name": "stdout",
     "output_type": "stream",
     "text": [
      "Kmeans clustering ... (this might take a while)\n",
      "Let's select frames indices: [1609, 5191, 1937, 5288, 1028, 5178, 5263, 5167, 5345, 5276, 961, 5217, 5245, 541, 5236, 403, 1960, 5228, 5171, 5253, 1815, 1597, 5292, 5283, 5202, 1670, 1867, 1313, 808, 5230, 5281, 5226, 5185, 5258, 1974, 1724, 1252, 5242, 5133, 5177, 813, 5223, 1932, 5235, 5337, 5208, 1545, 5188, 717, 941, 5270, 2001, 5172, 5205, 1613, 5213, 1673, 5274, 5184, 5197, 1030, 5250, 5229, 5279, 546, 1034, 5224, 5211, 963, 5285, 5199, 5319, 1466, 5239, 5186, 5290, 1024, 5227, 5271, 5293, 400, 5260, 5257, 5343, 1985, 806, 5150, 5238, 5273, 5212, 5168, 1813, 1611, 5220, 5240, 966, 1939, 5275, 5206, 5165]\n",
      "Creating the symbolic link of the video\n",
      "New video was added to the project! Use the function 'extract_frames' to select frames for labeling.\n",
      "The outlier frames are extracted. They are stored in the subdirectory labeled-data\\2018.11.02_10_19_06.\n",
      "Once you extracted frames for all videos, use 'refine_labels' to manually correct the labels.\n"
     ]
    },
    {
     "name": "stderr",
     "output_type": "stream",
     "text": [
      "\r",
      "0it [00:00, ?it/s]"
     ]
    },
    {
     "name": "stdout",
     "output_type": "stream",
     "text": [
      "Method  uncertain  found  675  putative outlier frames.\n",
      "Do you want to proceed with extracting  100  of those?\n",
      "If this list is very large, perhaps consider changing the paramters (start, stop, p_bound, comparisonbodyparts) or use a different method.\n",
      "Loading video...\n",
      "Duration of video [s]:  26.965 , recorded @  200.0 fps!\n",
      "Overall # of frames:  5393 with (cropped) frame dimensions: \n",
      "Kmeans-quantization based extracting of frames from 0.0  seconds to 26.96  seconds.\n",
      "Extracting and downsampling... 675  frames from the video.\n"
     ]
    },
    {
     "name": "stderr",
     "output_type": "stream",
     "text": [
      "675it [00:15, 44.63it/s]\n"
     ]
    },
    {
     "name": "stdout",
     "output_type": "stream",
     "text": [
      "Kmeans clustering ... (this might take a while)\n",
      "Let's select frames indices: [4853, 892, 2451, 2027, 4930, 4901, 4817, 772, 1882, 160, 4943, 4846, 2543, 490, 347, 5101, 4911, 2259, 4826, 4947, 4892, 4865, 1888, 694, 4883, 5350, 1969, 2227, 330, 4923, 163, 2100, 2476, 4848, 1863, 2246, 4842, 4, 5010, 4813, 4847, 2533, 4832, 4810, 4869, 5214, 2573, 4906, 4863, 2238, 527, 840, 4937, 410, 170, 920, 1950, 445, 4850, 1692, 2250, 2461, 235, 2266, 4933, 1701, 2096, 4905, 2443, 1004, 2099, 2070, 1866, 851, 1871, 721, 4820, 2550, 716, 674, 4825, 2577, 4859, 1771, 4875, 2571, 4886, 5140, 2243, 2538, 4925, 4920, 4891, 2239, 481, 2478, 4929, 758, 2560, 4945]\n",
      "Creating the symbolic link of the video\n",
      "New video was added to the project! Use the function 'extract_frames' to select frames for labeling.\n",
      "The outlier frames are extracted. They are stored in the subdirectory labeled-data\\2018.11.02_10_27_14.\n",
      "Once you extracted frames for all videos, use 'refine_labels' to manually correct the labels.\n"
     ]
    },
    {
     "name": "stderr",
     "output_type": "stream",
     "text": [
      "\r",
      "0it [00:00, ?it/s]"
     ]
    },
    {
     "name": "stdout",
     "output_type": "stream",
     "text": [
      "Method  uncertain  found  649  putative outlier frames.\n",
      "Do you want to proceed with extracting  100  of those?\n",
      "If this list is very large, perhaps consider changing the paramters (start, stop, p_bound, comparisonbodyparts) or use a different method.\n",
      "Loading video...\n",
      "Duration of video [s]:  27.01 , recorded @  200.0 fps!\n",
      "Overall # of frames:  5402 with (cropped) frame dimensions: \n",
      "Kmeans-quantization based extracting of frames from 0.0  seconds to 27.01  seconds.\n",
      "Extracting and downsampling... 649  frames from the video.\n"
     ]
    },
    {
     "name": "stderr",
     "output_type": "stream",
     "text": [
      "649it [00:14, 44.19it/s]\n"
     ]
    },
    {
     "name": "stdout",
     "output_type": "stream",
     "text": [
      "Kmeans clustering ... (this might take a while)\n",
      "Let's select frames indices: [4448, 1116, 4561, 1442, 187, 241, 1395, 266, 793, 4397, 1344, 4493, 222, 1362, 1458, 1301, 1197, 4547, 1433, 251, 205, 4806, 1392, 4408, 934, 5350, 4503, 4476, 1370, 1451, 229, 4664, 235, 194, 596, 4739, 1267, 1290, 812, 1312, 4424, 4483, 284, 5151, 4386, 209, 1384, 180, 4566, 4498, 757, 4432, 1639, 260, 1324, 1359, 1561, 277, 198, 1376, 566, 5369, 628, 4535, 1410, 256, 181, 291, 5087, 211, 1407, 4614, 1464, 233, 4405, 4456, 1293, 753, 1449, 1139, 798, 1387, 280, 956, 1307, 220, 271, 223, 1321, 1322, 854, 1351, 4375, 804, 1468, 4550, 4485, 200, 4578, 1300]\n",
      "Creating the symbolic link of the video\n",
      "New video was added to the project! Use the function 'extract_frames' to select frames for labeling.\n",
      "The outlier frames are extracted. They are stored in the subdirectory labeled-data\\2018.11.02_10_49_36.\n",
      "Once you extracted frames for all videos, use 'refine_labels' to manually correct the labels.\n"
     ]
    },
    {
     "name": "stderr",
     "output_type": "stream",
     "text": [
      "\r",
      "0it [00:00, ?it/s]"
     ]
    },
    {
     "name": "stdout",
     "output_type": "stream",
     "text": [
      "Method  uncertain  found  353  putative outlier frames.\n",
      "Do you want to proceed with extracting  100  of those?\n",
      "If this list is very large, perhaps consider changing the paramters (start, stop, p_bound, comparisonbodyparts) or use a different method.\n",
      "Loading video...\n",
      "Duration of video [s]:  26.97 , recorded @  200.0 fps!\n",
      "Overall # of frames:  5394 with (cropped) frame dimensions: \n",
      "Kmeans-quantization based extracting of frames from 0.0  seconds to 26.97  seconds.\n",
      "Extracting and downsampling... 353  frames from the video.\n"
     ]
    },
    {
     "name": "stderr",
     "output_type": "stream",
     "text": [
      "353it [00:07, 44.47it/s]\n"
     ]
    },
    {
     "name": "stdout",
     "output_type": "stream",
     "text": [
      "Kmeans clustering ... (this might take a while)\n",
      "Let's select frames indices: [907, 5131, 5251, 5163, 982, 613, 5278, 5062, 5140, 935, 5119, 5107, 5190, 5212, 997, 88, 5221, 975, 5263, 380, 5178, 711, 5153, 970, 5245, 5333, 951, 5201, 5122, 161, 5287, 5198, 5260, 5183, 1041, 5208, 5102, 5266, 675, 5189, 5256, 5105, 556, 1004, 422, 966, 5228, 949, 5126, 922, 5117, 1012, 993, 5192, 5285, 1001, 990, 5113, 5096, 5112, 881, 5110, 5170, 928, 5158, 913, 378, 5204, 5075, 375, 86, 5217, 5288, 939, 707, 5078, 5077, 5258, 924, 978, 918, 5053, 5186, 5211, 5136, 5098, 5159, 5128, 1005, 85, 957, 157, 5209, 5235, 5063, 5214, 5248, 5150, 5281, 5332]\n",
      "Creating the symbolic link of the video\n",
      "New video was added to the project! Use the function 'extract_frames' to select frames for labeling.\n",
      "The outlier frames are extracted. They are stored in the subdirectory labeled-data\\2018.11.02_10_57_36.\n",
      "Once you extracted frames for all videos, use 'refine_labels' to manually correct the labels.\n",
      "Method  uncertain  found  299  putative outlier frames.\n",
      "Do you want to proceed with extracting  100  of those?\n",
      "If this list is very large, perhaps consider changing the paramters (start, stop, p_bound, comparisonbodyparts) or use a different method.\n",
      "Loading video...\n"
     ]
    },
    {
     "name": "stderr",
     "output_type": "stream",
     "text": [
      "5it [00:00, 42.95it/s]"
     ]
    },
    {
     "name": "stdout",
     "output_type": "stream",
     "text": [
      "Duration of video [s]:  26.28 , recorded @  200.0 fps!\n",
      "Overall # of frames:  5256 with (cropped) frame dimensions: \n",
      "Kmeans-quantization based extracting of frames from 0.0  seconds to 26.28  seconds.\n",
      "Extracting and downsampling... 299  frames from the video.\n"
     ]
    },
    {
     "name": "stderr",
     "output_type": "stream",
     "text": [
      "299it [00:07, 39.20it/s]\n"
     ]
    },
    {
     "name": "stdout",
     "output_type": "stream",
     "text": [
      "Kmeans clustering ... (this might take a while)\n",
      "Let's select frames indices: [2678, 5107, 5009, 1752, 2709, 728, 69, 1636, 5204, 2676, 540, 4681, 4672, 2663, 3211, 1547, 5078, 1268, 1780, 5172, 2670, 1717, 2722, 1643, 1235, 1734, 4999, 1924, 4968, 737, 946, 4802, 4427, 1670, 35, 787, 3598, 1689, 4076, 2721, 4396, 3923, 4688, 2651, 5069, 4433, 4399, 526, 4980, 1218, 1758, 4680, 4648, 56, 4354, 4393, 4684, 4175, 718, 1640, 4944, 4180, 2667, 948, 2674, 771, 1744, 2725, 4437, 2715, 542, 4675, 2679, 1757, 2706, 5111, 5231, 1718, 1756, 5071, 4430, 3218, 1727, 784, 2726, 1739, 1781, 4078, 4090, 1922, 2677, 4686, 1632, 4668, 739, 40, 5074, 4996, 735, 1779]\n",
      "Creating the symbolic link of the video\n",
      "New video was added to the project! Use the function 'extract_frames' to select frames for labeling.\n",
      "The outlier frames are extracted. They are stored in the subdirectory labeled-data\\2018.11.06_22_54_34.\n",
      "Once you extracted frames for all videos, use 'refine_labels' to manually correct the labels.\n"
     ]
    },
    {
     "name": "stderr",
     "output_type": "stream",
     "text": [
      "\r",
      "0it [00:00, ?it/s]"
     ]
    },
    {
     "name": "stdout",
     "output_type": "stream",
     "text": [
      "Method  uncertain  found  660  putative outlier frames.\n",
      "Do you want to proceed with extracting  100  of those?\n",
      "If this list is very large, perhaps consider changing the paramters (start, stop, p_bound, comparisonbodyparts) or use a different method.\n",
      "Loading video...\n",
      "Duration of video [s]:  26.285 , recorded @  200.0 fps!\n",
      "Overall # of frames:  5257 with (cropped) frame dimensions: \n",
      "Kmeans-quantization based extracting of frames from 0.0  seconds to 26.29  seconds.\n",
      "Extracting and downsampling... 660  frames from the video.\n"
     ]
    },
    {
     "name": "stderr",
     "output_type": "stream",
     "text": [
      "660it [00:15, 43.12it/s]\n"
     ]
    },
    {
     "name": "stdout",
     "output_type": "stream",
     "text": [
      "Kmeans clustering ... (this might take a while)\n",
      "Let's select frames indices: [4516, 4184, 5085, 897, 4673, 4893, 3981, 698, 5221, 4130, 4267, 4539, 336, 4500, 4049, 4214, 962, 459, 5017, 4475, 4840, 5024, 4162, 4902, 4956, 4525, 4652, 670, 4594, 4148, 4502, 5152, 397, 4089, 5082, 5031, 1084, 4013, 5021, 5205, 4561, 4954, 945, 3331, 813, 4197, 4113, 4515, 4841, 4189, 4653, 5219, 4823, 4822, 4324, 334, 4544, 5015, 4969, 919, 3816, 4838, 4916, 4490, 4261, 891, 5210, 2263, 464, 5022, 3884, 4831, 4017, 4157, 1789, 5212, 3922, 5093, 4543, 3963, 4466, 4858, 4172, 4853, 4692, 5218, 4565, 5041, 4527, 3955, 4027, 4122, 3820, 4006, 4507, 4974, 5146, 4200, 1064, 5019]\n",
      "Creating the symbolic link of the video\n",
      "New video was added to the project! Use the function 'extract_frames' to select frames for labeling.\n",
      "The outlier frames are extracted. They are stored in the subdirectory labeled-data\\2018.11.06_23_00_22.\n",
      "Once you extracted frames for all videos, use 'refine_labels' to manually correct the labels.\n"
     ]
    },
    {
     "name": "stderr",
     "output_type": "stream",
     "text": [
      "\r",
      "0it [00:00, ?it/s]"
     ]
    },
    {
     "name": "stdout",
     "output_type": "stream",
     "text": [
      "Method  uncertain  found  445  putative outlier frames.\n",
      "Do you want to proceed with extracting  100  of those?\n",
      "If this list is very large, perhaps consider changing the paramters (start, stop, p_bound, comparisonbodyparts) or use a different method.\n",
      "Loading video...\n",
      "Duration of video [s]:  26.285 , recorded @  200.0 fps!\n",
      "Overall # of frames:  5257 with (cropped) frame dimensions: \n",
      "Kmeans-quantization based extracting of frames from 0.0  seconds to 26.29  seconds.\n",
      "Extracting and downsampling... 445  frames from the video.\n"
     ]
    },
    {
     "name": "stderr",
     "output_type": "stream",
     "text": [
      "445it [00:10, 41.85it/s]\n"
     ]
    },
    {
     "name": "stdout",
     "output_type": "stream",
     "text": [
      "Kmeans clustering ... (this might take a while)\n",
      "Let's select frames indices: [4471, 2716, 2530, 2581, 4757, 2613, 3182, 2833, 4530, 1555, 2564, 2669, 1852, 3846, 4275, 1936, 2371, 3876, 4508, 1273, 3896, 2840, 2449, 2774, 2859, 2653, 2378, 2823, 3873, 2434, 2515, 4263, 4858, 4542, 4120, 1418, 4513, 2158, 2389, 2488, 4309, 1938, 2012, 2670, 2736, 2687, 2499, 2838, 2596, 2603, 2654, 2700, 4282, 1933, 4748, 2542, 2492, 2767, 4280, 4254, 2828, 3871, 2846, 2432, 2436, 4267, 4525, 2629, 2664, 4510, 2511, 2385, 1480, 2446, 2566, 2710, 2427, 2775, 2438, 2782, 2756, 2626, 4266, 2486, 2502, 2362, 4758, 2374, 2572, 4750, 2727, 2683, 2834, 2527, 4751, 2674, 2455, 2383, 2770, 2462]\n",
      "Creating the symbolic link of the video\n",
      "New video was added to the project! Use the function 'extract_frames' to select frames for labeling.\n",
      "The outlier frames are extracted. They are stored in the subdirectory labeled-data\\2018.11.06_23_22_42.\n",
      "Once you extracted frames for all videos, use 'refine_labels' to manually correct the labels.\n"
     ]
    },
    {
     "name": "stderr",
     "output_type": "stream",
     "text": [
      "\r",
      "0it [00:00, ?it/s]"
     ]
    },
    {
     "name": "stdout",
     "output_type": "stream",
     "text": [
      "Method  uncertain  found  231  putative outlier frames.\n",
      "Do you want to proceed with extracting  100  of those?\n",
      "If this list is very large, perhaps consider changing the paramters (start, stop, p_bound, comparisonbodyparts) or use a different method.\n",
      "Loading video...\n",
      "Duration of video [s]:  26.275 , recorded @  200.0 fps!\n",
      "Overall # of frames:  5255 with (cropped) frame dimensions: \n",
      "Kmeans-quantization based extracting of frames from 0.0  seconds to 26.27  seconds.\n",
      "Extracting and downsampling... 231  frames from the video.\n"
     ]
    },
    {
     "name": "stderr",
     "output_type": "stream",
     "text": [
      "231it [00:05, 42.22it/s]\n"
     ]
    },
    {
     "name": "stdout",
     "output_type": "stream",
     "text": [
      "Kmeans clustering ... (this might take a while)\n",
      "Let's select frames indices: [4248, 4201, 2271, 1680, 2620, 2131, 2966, 4176, 1562, 2249, 3293, 2287, 4262, 2425, 2676, 4231, 4277, 2229, 3187, 3248, 2302, 2429, 1611, 2147, 1674, 557, 4246, 1558, 4181, 2263, 2066, 2896, 3303, 2629, 2300, 2940, 4280, 2930, 4069, 4485, 2427, 2257, 3193, 2139, 1684, 2291, 4253, 2280, 2260, 4165, 2242, 2303, 2254, 4196, 4186, 2426, 1669, 1561, 4265, 2278, 2296, 1677, 2625, 4257, 2126, 2219, 4244, 4157, 1613, 2141, 3299, 4242, 2262, 2284, 4278, 2673, 2274, 2253, 2255, 2267, 4247, 4191, 3249, 2251, 4167, 1678, 2624, 4229, 2243, 4179, 2626, 2238, 4205, 2679, 2264, 2619, 1612, 3184, 2627, 2124]\n",
      "Creating the symbolic link of the video\n",
      "New video was added to the project! Use the function 'extract_frames' to select frames for labeling.\n",
      "The outlier frames are extracted. They are stored in the subdirectory labeled-data\\2018.11.06_23_24_58.\n",
      "Once you extracted frames for all videos, use 'refine_labels' to manually correct the labels.\n"
     ]
    },
    {
     "name": "stderr",
     "output_type": "stream",
     "text": [
      "\r",
      "0it [00:00, ?it/s]"
     ]
    },
    {
     "name": "stdout",
     "output_type": "stream",
     "text": [
      "Method  uncertain  found  1241  putative outlier frames.\n",
      "Do you want to proceed with extracting  100  of those?\n",
      "If this list is very large, perhaps consider changing the paramters (start, stop, p_bound, comparisonbodyparts) or use a different method.\n",
      "Loading video...\n",
      "Duration of video [s]:  26.28 , recorded @  200.0 fps!\n",
      "Overall # of frames:  5256 with (cropped) frame dimensions: \n",
      "Kmeans-quantization based extracting of frames from 0.0  seconds to 26.28  seconds.\n",
      "Extracting and downsampling... 1241  frames from the video.\n"
     ]
    },
    {
     "name": "stderr",
     "output_type": "stream",
     "text": [
      "1241it [00:28, 43.33it/s]\n"
     ]
    },
    {
     "name": "stdout",
     "output_type": "stream",
     "text": [
      "Kmeans clustering ... (this might take a while)\n",
      "Let's select frames indices: [4955, 3298, 4479, 4587, 2429, 5141, 1823, 4943, 4810, 2661, 2031, 2868, 4625, 4434, 3172, 3103, 3038, 4565, 5193, 1859, 3365, 4671, 3338, 3269, 4779, 4699, 3382, 4581, 2624, 4408, 1541, 2386, 3048, 1750, 3114, 4591, 4993, 4682, 4382, 1342, 2094, 4742, 2412, 2818, 1657, 2172, 4614, 4467, 2393, 1831, 4481, 5219, 4635, 3085, 1938, 3243, 4968, 4999, 3274, 3149, 5150, 2859, 4722, 4648, 3990, 4022, 4030, 3374, 2676, 3165, 4405, 4622, 2004, 2620, 4894, 3998, 4768, 3315, 4910, 4532, 5223, 5032, 4707, 4522, 4386, 4605, 3295, 4840, 1825, 3308, 5003, 3146, 4571, 4507, 2068, 4734, 5242, 4601, 4655]\n",
      "Creating the symbolic link of the video\n",
      "New video was added to the project! Use the function 'extract_frames' to select frames for labeling.\n",
      "The outlier frames are extracted. They are stored in the subdirectory labeled-data\\2018.11.06_23_28_38.\n",
      "Once you extracted frames for all videos, use 'refine_labels' to manually correct the labels.\n"
     ]
    },
    {
     "name": "stderr",
     "output_type": "stream",
     "text": [
      "1it [00:00,  9.28it/s]"
     ]
    },
    {
     "name": "stdout",
     "output_type": "stream",
     "text": [
      "Method  uncertain  found  410  putative outlier frames.\n",
      "Do you want to proceed with extracting  100  of those?\n",
      "If this list is very large, perhaps consider changing the paramters (start, stop, p_bound, comparisonbodyparts) or use a different method.\n",
      "Loading video...\n",
      "Duration of video [s]:  26.29 , recorded @  200.0 fps!\n",
      "Overall # of frames:  5258 with (cropped) frame dimensions: \n",
      "Kmeans-quantization based extracting of frames from 0.0  seconds to 26.29  seconds.\n",
      "Extracting and downsampling... 410  frames from the video.\n"
     ]
    },
    {
     "name": "stderr",
     "output_type": "stream",
     "text": [
      "410it [00:10, 40.98it/s]\n"
     ]
    },
    {
     "name": "stdout",
     "output_type": "stream",
     "text": [
      "Kmeans clustering ... (this might take a while)\n",
      "Let's select frames indices: [3663, 1090, 2588, 1792, 4386, 3852, 3890, 4279, 1021, 2025, 4298, 4402, 4365, 2561, 2606, 4322, 825, 2627, 4809, 2229, 577, 4256, 4416, 3828, 2662, 1822, 720, 2659, 1771, 2577, 4288, 792, 2210, 2719, 4160, 525, 4330, 2324, 2625, 1523, 3904, 2190, 4395, 4015, 2109, 3909, 4366, 3861, 2572, 4421, 4381, 642, 3882, 999, 1797, 1520, 3894, 4282, 2207, 4389, 4272, 1777, 3840, 2560, 2624, 4371, 1027, 2027, 4258, 1101, 2600, 1784, 3810, 3900, 1768, 4373, 4360, 2580, 2654, 3700, 3886, 4419, 1794, 2220, 4367, 4285, 4253, 4265, 2593, 1003, 822, 2566, 3859, 4267, 4396, 828, 3881, 4414, 4334]\n",
      "Creating the symbolic link of the video\n",
      "New video was added to the project! Use the function 'extract_frames' to select frames for labeling.\n",
      "The outlier frames are extracted. They are stored in the subdirectory labeled-data\\2018.11.06_23_29_15.\n",
      "Once you extracted frames for all videos, use 'refine_labels' to manually correct the labels.\n"
     ]
    },
    {
     "name": "stderr",
     "output_type": "stream",
     "text": [
      "\r",
      "0it [00:00, ?it/s]"
     ]
    },
    {
     "name": "stdout",
     "output_type": "stream",
     "text": [
      "Method  uncertain  found  273  putative outlier frames.\n",
      "Do you want to proceed with extracting  100  of those?\n",
      "If this list is very large, perhaps consider changing the paramters (start, stop, p_bound, comparisonbodyparts) or use a different method.\n",
      "Loading video...\n",
      "Duration of video [s]:  26.36 , recorded @  200.0 fps!\n",
      "Overall # of frames:  5272 with (cropped) frame dimensions: \n",
      "Kmeans-quantization based extracting of frames from 0.0  seconds to 26.36  seconds.\n",
      "Extracting and downsampling... 273  frames from the video.\n"
     ]
    },
    {
     "name": "stderr",
     "output_type": "stream",
     "text": [
      "273it [00:06, 42.44it/s]\n"
     ]
    },
    {
     "name": "stdout",
     "output_type": "stream",
     "text": [
      "Kmeans clustering ... (this might take a while)\n",
      "Let's select frames indices: [1839, 2081, 3030, 1590, 523, 2493, 1610, 1528, 2967, 1628, 2106, 762, 1854, 1869, 1579, 3124, 1028, 2470, 430, 1401, 1500, 2529, 3027, 2119, 2297, 909, 1859, 965, 1421, 1623, 1044, 2144, 2078, 2989, 3178, 1849, 1814, 1600, 1406, 2474, 1872, 2065, 1864, 2501, 1397, 432, 2511, 2120, 3122, 1621, 2128, 3029, 1619, 3125, 1525, 1602, 1846, 1495, 1090, 2089, 2505, 1398, 1572, 3028, 2479, 2972, 1540, 1402, 1867, 911, 765, 1557, 1832, 1812, 1422, 1613, 1850, 1007, 1631, 1870, 1625, 3026, 2497, 1855, 1408, 1847, 2070, 3123, 1845, 1400, 1533, 1617, 2476, 1606, 1862, 1871, 2083, 1604, 1824, 1598]\n",
      "Creating the symbolic link of the video\n",
      "New video was added to the project! Use the function 'extract_frames' to select frames for labeling.\n",
      "The outlier frames are extracted. They are stored in the subdirectory labeled-data\\2018.11.06_23_29_58.\n",
      "Once you extracted frames for all videos, use 'refine_labels' to manually correct the labels.\n"
     ]
    },
    {
     "name": "stderr",
     "output_type": "stream",
     "text": [
      "\r",
      "0it [00:00, ?it/s]"
     ]
    },
    {
     "name": "stdout",
     "output_type": "stream",
     "text": [
      "Method  uncertain  found  869  putative outlier frames.\n",
      "Do you want to proceed with extracting  100  of those?\n",
      "If this list is very large, perhaps consider changing the paramters (start, stop, p_bound, comparisonbodyparts) or use a different method.\n",
      "Loading video...\n",
      "Duration of video [s]:  27.02 , recorded @  200.0 fps!\n",
      "Overall # of frames:  5404 with (cropped) frame dimensions: \n",
      "Kmeans-quantization based extracting of frames from 0.0  seconds to 27.02  seconds.\n",
      "Extracting and downsampling... 869  frames from the video.\n"
     ]
    },
    {
     "name": "stderr",
     "output_type": "stream",
     "text": [
      "869it [00:20, 41.74it/s]\n"
     ]
    },
    {
     "name": "stdout",
     "output_type": "stream",
     "text": [
      "Kmeans clustering ... (this might take a while)\n",
      "Let's select frames indices: [2983, 4686, 3240, 1537, 3081, 2650, 2951, 3322, 4846, 4801, 2919, 3012, 3180, 3224, 3047, 2784, 1465, 1596, 1897, 1927, 4639, 1872, 4771, 3256, 1585, 2929, 5302, 3134, 3091, 1701, 2962, 526, 1294, 3200, 2156, 3004, 1711, 878, 2059, 2979, 3039, 1474, 2933, 3208, 3051, 3013, 3334, 3162, 2696, 263, 3165, 3114, 1673, 3058, 2823, 754, 4865, 2992, 3169, 2974, 4795, 427, 3301, 4740, 1867, 3184, 1971, 678, 1889, 1598, 2969, 3024, 3101, 2612, 2942, 2689, 3195, 4781, 2796, 2924, 3232, 1297, 3326, 3104, 4832, 1805, 3141, 4624, 3249, 3192, 3297, 2698, 3280, 3130, 3135, 3263, 1901, 3077, 2995]\n",
      "Creating the symbolic link of the video\n",
      "New video was added to the project! Use the function 'extract_frames' to select frames for labeling.\n",
      "The outlier frames are extracted. They are stored in the subdirectory labeled-data\\2018.11.06_14_36_50.\n",
      "Once you extracted frames for all videos, use 'refine_labels' to manually correct the labels.\n"
     ]
    },
    {
     "name": "stderr",
     "output_type": "stream",
     "text": [
      "\r",
      "0it [00:00, ?it/s]"
     ]
    },
    {
     "name": "stdout",
     "output_type": "stream",
     "text": [
      "Method  uncertain  found  2068  putative outlier frames.\n",
      "Do you want to proceed with extracting  100  of those?\n",
      "If this list is very large, perhaps consider changing the paramters (start, stop, p_bound, comparisonbodyparts) or use a different method.\n",
      "Loading video...\n",
      "Duration of video [s]:  27.01 , recorded @  200.0 fps!\n",
      "Overall # of frames:  5402 with (cropped) frame dimensions: \n",
      "Kmeans-quantization based extracting of frames from 0.0  seconds to 27.01  seconds.\n",
      "Extracting and downsampling... 2068  frames from the video.\n"
     ]
    },
    {
     "name": "stderr",
     "output_type": "stream",
     "text": [
      "2068it [00:48, 42.94it/s]\n"
     ]
    },
    {
     "name": "stdout",
     "output_type": "stream",
     "text": [
      "Kmeans clustering ... (this might take a while)\n",
      "Let's select frames indices: [2245, 3318, 2002, 1484, 1384, 5182, 2832, 1271, 2112, 39, 5032, 1420, 724, 1713, 1146, 2458, 5052, 3254, 1547, 1003, 3410, 5260, 2549, 1910, 1222, 5290, 2978, 119, 606, 1274, 1776, 1491, 2644, 1618, 5028, 1289, 3003, 1658, 1252, 728, 1125, 3239, 1350, 1412, 1310, 2262, 1475, 1391, 2974, 2035, 1332, 2372, 764, 2217, 2403, 3308, 5254, 3567, 1999, 2482, 1824, 1432, 2366, 2075, 1348, 3269, 2432, 1596, 2934, 1926, 1732, 2703, 5257, 1973, 1239, 1837, 1129, 1919, 2956, 2046, 2999, 1356, 1940, 1661, 1899, 2566, 2253, 2159, 3465, 2023, 2499, 2086, 1321, 1514, 2029, 696, 5266, 1374, 2288, 3439]\n",
      "Creating the symbolic link of the video\n",
      "New video was added to the project! Use the function 'extract_frames' to select frames for labeling.\n",
      "The outlier frames are extracted. They are stored in the subdirectory labeled-data\\2018.11.06_16_59_37.\n",
      "Once you extracted frames for all videos, use 'refine_labels' to manually correct the labels.\n"
     ]
    },
    {
     "name": "stderr",
     "output_type": "stream",
     "text": [
      "\r",
      "0it [00:00, ?it/s]"
     ]
    },
    {
     "name": "stdout",
     "output_type": "stream",
     "text": [
      "Method  uncertain  found  856  putative outlier frames.\n",
      "Do you want to proceed with extracting  100  of those?\n",
      "If this list is very large, perhaps consider changing the paramters (start, stop, p_bound, comparisonbodyparts) or use a different method.\n",
      "Loading video...\n",
      "Duration of video [s]:  27.0 , recorded @  200.0 fps!\n",
      "Overall # of frames:  5400 with (cropped) frame dimensions: \n",
      "Kmeans-quantization based extracting of frames from 0.0  seconds to 27.0  seconds.\n",
      "Extracting and downsampling... 856  frames from the video.\n"
     ]
    },
    {
     "name": "stderr",
     "output_type": "stream",
     "text": [
      "856it [00:19, 44.17it/s]\n"
     ]
    },
    {
     "name": "stdout",
     "output_type": "stream",
     "text": [
      "Kmeans clustering ... (this might take a while)\n",
      "Let's select frames indices: [166, 4619, 137, 2486, 714, 449, 3868, 1687, 177, 4607, 152, 129, 118, 186, 3428, 379, 399, 4982, 431, 487, 1516, 364, 1899, 2466, 4663, 454, 4855, 1727, 3849, 4918, 422, 3742, 4989, 444, 192, 4740, 1701, 389, 1339, 1676, 473, 74, 3326, 106, 403, 447, 147, 3808, 433, 4864, 101, 3882, 4772, 183, 19, 367, 4958, 373, 412, 4709, 143, 3414, 189, 4910, 4884, 464, 2464, 3981, 3839, 480, 59, 199, 3770, 377, 440, 172, 428, 130, 197, 1726, 1915, 2491, 410, 4968, 3904, 1700, 103, 158, 3800, 4002, 4975, 75, 1682, 471, 445, 393, 123, 3833, 4966, 3648]\n",
      "Creating the symbolic link of the video\n",
      "New video was added to the project! Use the function 'extract_frames' to select frames for labeling.\n",
      "The outlier frames are extracted. They are stored in the subdirectory labeled-data\\2018.11.06_17_02_31.\n",
      "Once you extracted frames for all videos, use 'refine_labels' to manually correct the labels.\n"
     ]
    },
    {
     "name": "stderr",
     "output_type": "stream",
     "text": [
      "\r",
      "0it [00:00, ?it/s]"
     ]
    },
    {
     "name": "stdout",
     "output_type": "stream",
     "text": [
      "Method  uncertain  found  550  putative outlier frames.\n",
      "Do you want to proceed with extracting  100  of those?\n",
      "If this list is very large, perhaps consider changing the paramters (start, stop, p_bound, comparisonbodyparts) or use a different method.\n",
      "Loading video...\n",
      "Duration of video [s]:  27.02 , recorded @  200.0 fps!\n",
      "Overall # of frames:  5404 with (cropped) frame dimensions: \n",
      "Kmeans-quantization based extracting of frames from 0.0  seconds to 27.02  seconds.\n",
      "Extracting and downsampling... 550  frames from the video.\n"
     ]
    },
    {
     "name": "stderr",
     "output_type": "stream",
     "text": [
      "550it [00:12, 42.99it/s]\n"
     ]
    },
    {
     "name": "stdout",
     "output_type": "stream",
     "text": [
      "Kmeans clustering ... (this might take a while)\n",
      "Let's select frames indices: [3732, 3041, 3705, 3762, 3222, 1619, 1311, 5163, 2729, 3398, 3683, 227, 4209, 4746, 3379, 1178, 3729, 4869, 802, 3277, 3332, 1626, 443, 1851, 3737, 1570, 1282, 3116, 2597, 3204, 1476, 4249, 11, 4946, 385, 1467, 3690, 3013, 3719, 359, 5093, 3151, 3682, 3322, 4843, 1631, 2034, 2631, 3746, 3036, 1235, 3319, 3715, 1181, 1218, 3085, 3700, 3679, 1614, 1561, 805, 3701, 3256, 3328, 3279, 2610, 3733, 3699, 4826, 1217, 3267, 1575, 3031, 3235, 3066, 4206, 3687, 3708, 3357, 3720, 4153, 3756, 3307, 238, 3340, 3697, 3296, 3214, 3364, 3744, 3144, 3724, 3017, 3026, 3154, 3753, 3208, 1855, 1577]\n",
      "Creating the symbolic link of the video\n",
      "New video was added to the project! Use the function 'extract_frames' to select frames for labeling.\n",
      "The outlier frames are extracted. They are stored in the subdirectory labeled-data\\2018.11.06_18_43_01.\n",
      "Once you extracted frames for all videos, use 'refine_labels' to manually correct the labels.\n"
     ]
    },
    {
     "name": "stderr",
     "output_type": "stream",
     "text": [
      "\r",
      "0it [00:00, ?it/s]"
     ]
    },
    {
     "name": "stdout",
     "output_type": "stream",
     "text": [
      "Method  uncertain  found  2869  putative outlier frames.\n",
      "Do you want to proceed with extracting  100  of those?\n",
      "If this list is very large, perhaps consider changing the paramters (start, stop, p_bound, comparisonbodyparts) or use a different method.\n",
      "Loading video...\n",
      "Duration of video [s]:  27.015 , recorded @  200.0 fps!\n",
      "Overall # of frames:  5403 with (cropped) frame dimensions: \n",
      "Kmeans-quantization based extracting of frames from 0.0  seconds to 27.02  seconds.\n",
      "Extracting and downsampling... 2869  frames from the video.\n"
     ]
    },
    {
     "name": "stderr",
     "output_type": "stream",
     "text": [
      "2869it [01:09, 41.42it/s]\n"
     ]
    },
    {
     "name": "stdout",
     "output_type": "stream",
     "text": [
      "Kmeans clustering ... (this might take a while)\n",
      "Let's select frames indices: [3082, 3944, 2776, 639, 5142, 2117, 2988, 3148, 1557, 4795, 2523, 1902, 2664, 4326, 579, 2550, 1433, 2467, 1654, 5078, 2922, 4078, 3336, 2896, 3911, 1475, 769, 2604, 4349, 2096, 4151, 5002, 4033, 2528, 3560, 3018, 4912, 3372, 5128, 5183, 4858, 3215, 2505, 3448, 2715, 5167, 5168, 3022, 2583, 3130, 3004, 2910, 3897, 2638, 3277, 2962, 4461, 2936, 2807, 2622, 3109, 2670, 3716, 4358, 2720, 4413, 3355, 2538, 3689, 4207, 2868, 4916, 2572, 3620, 3104, 3558, 2956, 4225, 5252, 3803, 3753, 4341, 4969, 5059, 3490, 4549, 3406, 3540, 4940, 3041, 3994, 3062, 5097, 2898, 3097, 4879, 3441, 4958, 5136, 3155]\n",
      "Creating the symbolic link of the video\n",
      "New video was added to the project! Use the function 'extract_frames' to select frames for labeling.\n",
      "The outlier frames are extracted. They are stored in the subdirectory labeled-data\\2018.11.06_14_54_16.\n",
      "Once you extracted frames for all videos, use 'refine_labels' to manually correct the labels.\n"
     ]
    },
    {
     "name": "stderr",
     "output_type": "stream",
     "text": [
      "\r",
      "0it [00:00, ?it/s]"
     ]
    },
    {
     "name": "stdout",
     "output_type": "stream",
     "text": [
      "Method  uncertain  found  4348  putative outlier frames.\n",
      "Do you want to proceed with extracting  100  of those?\n",
      "If this list is very large, perhaps consider changing the paramters (start, stop, p_bound, comparisonbodyparts) or use a different method.\n",
      "Loading video...\n",
      "Duration of video [s]:  26.47 , recorded @  200.0 fps!\n",
      "Overall # of frames:  5294 with (cropped) frame dimensions: \n",
      "Kmeans-quantization based extracting of frames from 0.0  seconds to 26.47  seconds.\n",
      "Extracting and downsampling... 4347  frames from the video.\n"
     ]
    },
    {
     "name": "stderr",
     "output_type": "stream",
     "text": [
      "4347it [01:46, 40.98it/s]\n"
     ]
    },
    {
     "name": "stdout",
     "output_type": "stream",
     "text": [
      "Kmeans clustering ... (this might take a while)\n",
      "Let's select frames indices: [124, 3744, 606, 2458, 1282, 2106, 3860, 4757, 1475, 1499, 1008, 4008, 4715, 1612, 782, 522, 1088, 1691, 324, 1190, 2845, 3666, 4912, 2483, 1368, 4567, 1582, 678, 3169, 1211, 1552, 2531, 967, 2229, 2182, 1816, 1924, 1956, 1867, 2588, 1737, 892, 4646, 60, 1146, 2543, 4584, 2265, 4614, 1604, 2318, 1668, 5037, 4428, 1028, 552, 2026, 1433, 2687, 163, 1363, 1754, 2385, 3103, 2474, 4141, 3354, 1194, 2189, 1633, 1218, 738, 1971, 1896, 2438, 995, 2224, 1422, 1932, 1588, 4704, 1624, 1168, 1387, 2109, 2868, 4520, 2413, 3417, 3812, 802, 4830, 1851, 1184, 2563, 237, 2372, 423, 856, 2782]\n",
      "Creating the symbolic link of the video\n",
      "New video was added to the project! Use the function 'extract_frames' to select frames for labeling.\n",
      "The outlier frames are extracted. They are stored in the subdirectory labeled-data\\2018.11.07_19_11_48.\n",
      "Once you extracted frames for all videos, use 'refine_labels' to manually correct the labels.\n"
     ]
    },
    {
     "name": "stderr",
     "output_type": "stream",
     "text": [
      "\r",
      "0it [00:00, ?it/s]"
     ]
    },
    {
     "name": "stdout",
     "output_type": "stream",
     "text": [
      "Method  uncertain  found  3244  putative outlier frames.\n",
      "Do you want to proceed with extracting  100  of those?\n",
      "If this list is very large, perhaps consider changing the paramters (start, stop, p_bound, comparisonbodyparts) or use a different method.\n",
      "Loading video...\n",
      "Duration of video [s]:  26.445 , recorded @  200.0 fps!\n",
      "Overall # of frames:  5289 with (cropped) frame dimensions: \n",
      "Kmeans-quantization based extracting of frames from 0.0  seconds to 26.45  seconds.\n",
      "Extracting and downsampling... 3243  frames from the video.\n"
     ]
    },
    {
     "name": "stderr",
     "output_type": "stream",
     "text": [
      "3243it [01:19, 40.55it/s]\n"
     ]
    },
    {
     "name": "stdout",
     "output_type": "stream",
     "text": [
      "Kmeans clustering ... (this might take a while)\n",
      "Let's select frames indices: [920, 1651, 3890, 909, 22, 2805, 646, 3337, 2415, 3197, 1782, 1085, 3644, 2766, 1366, 1296, 592, 1255, 2386, 775, 3168, 3565, 453, 2649, 1288, 4293, 1888, 3602, 2834, 992, 2937, 78, 3033, 2987, 1759, 708, 673, 1476, 3132, 1217, 318, 3008, 1550, 4568, 3481, 3875, 1561, 2888, 3108, 2829, 218, 3246, 523, 2876, 1453, 1309, 1431, 296, 979, 2270, 3544, 2610, 1194, 3231, 4850, 880, 407, 1172, 2931, 4050, 611, 754, 2702, 2709, 3248, 2879, 3378, 1518, 1016, 2190, 742, 1605, 1970, 2442, 1536, 3714, 499, 956, 3853, 804, 3499, 2759, 2843, 4014, 4963, 2295, 1396, 3050, 3763, 3044]\n",
      "Creating the symbolic link of the video\n",
      "New video was added to the project! Use the function 'extract_frames' to select frames for labeling.\n",
      "The outlier frames are extracted. They are stored in the subdirectory labeled-data\\2018.11.07_19_18_52.\n",
      "Once you extracted frames for all videos, use 'refine_labels' to manually correct the labels.\n"
     ]
    },
    {
     "name": "stderr",
     "output_type": "stream",
     "text": [
      "\r",
      "0it [00:00, ?it/s]"
     ]
    },
    {
     "name": "stdout",
     "output_type": "stream",
     "text": [
      "Method  uncertain  found  1166  putative outlier frames.\n",
      "Do you want to proceed with extracting  100  of those?\n",
      "If this list is very large, perhaps consider changing the paramters (start, stop, p_bound, comparisonbodyparts) or use a different method.\n",
      "Loading video...\n",
      "Duration of video [s]:  26.53 , recorded @  200.0 fps!\n",
      "Overall # of frames:  5306 with (cropped) frame dimensions: \n",
      "Kmeans-quantization based extracting of frames from 0.0  seconds to 26.53  seconds.\n",
      "Extracting and downsampling... 1165  frames from the video.\n"
     ]
    },
    {
     "name": "stderr",
     "output_type": "stream",
     "text": [
      "1165it [00:29, 39.90it/s]\n"
     ]
    },
    {
     "name": "stdout",
     "output_type": "stream",
     "text": [
      "Kmeans clustering ... (this might take a while)\n",
      "Let's select frames indices: [160, 4273, 3095, 1953, 3682, 3878, 1331, 2614, 2731, 1669, 4148, 2872, 1890, 90, 1347, 2778, 2039, 1697, 4430, 3748, 1024, 3113, 1359, 2686, 1998, 3333, 4378, 1918, 1841, 2724, 4073, 48, 123, 2773, 2903, 2891, 1942, 1900, 1984, 3933, 19, 4401, 1351, 2920, 1973, 1852, 202, 4403, 1335, 3862, 3968, 3592, 4017, 3799, 4333, 1931, 31, 225, 1964, 2910, 2863, 4131, 4390, 3641, 2727, 3809, 1898, 1884, 2011, 4038, 4238, 4304, 2880, 25, 4375, 1989, 84, 111, 1938, 218, 4099, 3756, 4207, 212, 1993, 11, 3826, 3879, 2721, 4384, 3649, 54, 137, 43, 1328, 3699, 4222, 1979, 4352, 3718]\n",
      "Creating the symbolic link of the video\n",
      "New video was added to the project! Use the function 'extract_frames' to select frames for labeling.\n",
      "The outlier frames are extracted. They are stored in the subdirectory labeled-data\\2018.11.07_19_45_08.\n",
      "Once you extracted frames for all videos, use 'refine_labels' to manually correct the labels.\n"
     ]
    },
    {
     "name": "stderr",
     "output_type": "stream",
     "text": [
      "\r",
      "0it [00:00, ?it/s]"
     ]
    },
    {
     "name": "stdout",
     "output_type": "stream",
     "text": [
      "Method  uncertain  found  1203  putative outlier frames.\n",
      "Do you want to proceed with extracting  100  of those?\n",
      "If this list is very large, perhaps consider changing the paramters (start, stop, p_bound, comparisonbodyparts) or use a different method.\n",
      "Loading video...\n",
      "Duration of video [s]:  26.47 , recorded @  200.0 fps!\n",
      "Overall # of frames:  5294 with (cropped) frame dimensions: \n",
      "Kmeans-quantization based extracting of frames from 0.0  seconds to 26.47  seconds.\n",
      "Extracting and downsampling... 1203  frames from the video.\n"
     ]
    },
    {
     "name": "stderr",
     "output_type": "stream",
     "text": [
      "1203it [00:29, 40.85it/s]\n"
     ]
    },
    {
     "name": "stdout",
     "output_type": "stream",
     "text": [
      "Kmeans clustering ... (this might take a while)\n",
      "Let's select frames indices: [869, 1399, 2604, 1231, 1364, 1566, 1185, 682, 1330, 905, 1603, 4105, 1078, 512, 5053, 1408, 463, 2401, 1499, 1238, 537, 971, 657, 808, 1582, 1303, 488, 1594, 1177, 553, 585, 1116, 1430, 740, 470, 3447, 716, 1322, 1946, 1453, 509, 1126, 596, 1608, 859, 1042, 1493, 925, 1513, 1017, 1410, 492, 577, 1342, 1003, 3276, 485, 1272, 768, 1174, 569, 1442, 702, 1010, 842, 699, 546, 533, 881, 630, 1051, 1292, 542, 755, 3454, 718, 1118, 616, 1309, 622, 1425, 1221, 851, 588, 689, 1089, 880, 574, 1327, 1315, 1294, 1434, 1034, 4131, 846, 1022, 953, 776, 1553, 567]\n",
      "Creating the symbolic link of the video\n",
      "New video was added to the project! Use the function 'extract_frames' to select frames for labeling.\n",
      "The outlier frames are extracted. They are stored in the subdirectory labeled-data\\2018.11.07_19_53_41.\n",
      "Once you extracted frames for all videos, use 'refine_labels' to manually correct the labels.\n"
     ]
    },
    {
     "name": "stderr",
     "output_type": "stream",
     "text": [
      "\r",
      "0it [00:00, ?it/s]"
     ]
    },
    {
     "name": "stdout",
     "output_type": "stream",
     "text": [
      "Method  uncertain  found  2071  putative outlier frames.\n",
      "Do you want to proceed with extracting  100  of those?\n",
      "If this list is very large, perhaps consider changing the paramters (start, stop, p_bound, comparisonbodyparts) or use a different method.\n",
      "Loading video...\n",
      "Duration of video [s]:  26.455 , recorded @  200.0 fps!\n",
      "Overall # of frames:  5291 with (cropped) frame dimensions: \n",
      "Kmeans-quantization based extracting of frames from 0.0  seconds to 26.45  seconds.\n",
      "Extracting and downsampling... 2070  frames from the video.\n"
     ]
    },
    {
     "name": "stderr",
     "output_type": "stream",
     "text": [
      "2070it [00:53, 38.80it/s]\n"
     ]
    },
    {
     "name": "stdout",
     "output_type": "stream",
     "text": [
      "Kmeans clustering ... (this might take a while)\n",
      "Let's select frames indices: [3852, 4653, 73, 2870, 4911, 4169, 5025, 5053, 5173, 4302, 849, 4292, 4679, 3792, 1602, 1914, 3599, 3678, 4474, 3237, 3730, 3553, 2622, 4646, 1298, 165, 2216, 4273, 5043, 4727, 4209, 3894, 5057, 4551, 1645, 1238, 3512, 3655, 4415, 50, 4815, 5209, 5086, 215, 4461, 4212, 362, 3882, 5155, 4139, 1270, 3781, 5251, 3872, 4435, 3537, 1366, 4175, 4019, 4657, 4547, 4849, 4329, 3587, 4368, 1317, 4875, 1873, 2461, 4454, 5, 4920, 4038, 4062, 3682, 5135, 5050, 2575, 4058, 3567, 3614, 4458, 4241, 4181, 5218, 4010, 3643, 737, 5141, 4931, 4976, 3911, 323, 5031, 3697, 4349, 2597, 3898, 4959]\n",
      "Creating the symbolic link of the video\n",
      "New video was added to the project! Use the function 'extract_frames' to select frames for labeling.\n",
      "The outlier frames are extracted. They are stored in the subdirectory labeled-data\\2018.11.07_20_10_17.\n",
      "Once you extracted frames for all videos, use 'refine_labels' to manually correct the labels.\n"
     ]
    },
    {
     "name": "stderr",
     "output_type": "stream",
     "text": [
      "\r",
      "0it [00:00, ?it/s]"
     ]
    },
    {
     "name": "stdout",
     "output_type": "stream",
     "text": [
      "Method  uncertain  found  1534  putative outlier frames.\n",
      "Do you want to proceed with extracting  100  of those?\n",
      "If this list is very large, perhaps consider changing the paramters (start, stop, p_bound, comparisonbodyparts) or use a different method.\n",
      "Loading video...\n",
      "Duration of video [s]:  26.995 , recorded @  200.0 fps!\n",
      "Overall # of frames:  5399 with (cropped) frame dimensions: \n",
      "Kmeans-quantization based extracting of frames from 0.0  seconds to 27.0  seconds.\n",
      "Extracting and downsampling... 1534  frames from the video.\n"
     ]
    },
    {
     "name": "stderr",
     "output_type": "stream",
     "text": [
      "1534it [00:39, 38.41it/s]\n"
     ]
    },
    {
     "name": "stdout",
     "output_type": "stream",
     "text": [
      "Kmeans clustering ... (this might take a while)\n",
      "Let's select frames indices: [4183, 4314, 4740, 2257, 406, 1520, 4550, 4432, 450, 5311, 4266, 1453, 4042, 5274, 2111, 766, 1169, 1774, 4535, 4060, 4973, 4376, 4869, 5277, 4713, 3836, 1337, 4628, 876, 258, 4238, 4811, 4874, 1043, 4028, 5086, 4804, 774, 4849, 1445, 4668, 5075, 4884, 457, 4171, 5325, 4106, 4985, 5395, 5338, 4377, 4356, 4353, 4795, 4217, 5071, 4934, 4385, 443, 4195, 5241, 5375, 5037, 449, 5091, 4501, 4611, 4074, 1529, 4049, 4646, 4903, 4789, 4490, 4256, 5299, 1758, 4328, 5253, 5350, 4090, 4425, 4165, 4405, 5055, 4796, 2193, 5025, 5282, 4532, 2321, 4038, 4928, 4684, 1741, 4333, 4143, 4231, 4281, 5113]\n",
      "Creating the symbolic link of the video\n",
      "New video was added to the project! Use the function 'extract_frames' to select frames for labeling.\n",
      "The outlier frames are extracted. They are stored in the subdirectory labeled-data\\2018.11.07_12_55_17.\n",
      "Once you extracted frames for all videos, use 'refine_labels' to manually correct the labels.\n"
     ]
    },
    {
     "name": "stderr",
     "output_type": "stream",
     "text": [
      "\r",
      "0it [00:00, ?it/s]"
     ]
    },
    {
     "name": "stdout",
     "output_type": "stream",
     "text": [
      "Method  uncertain  found  1335  putative outlier frames.\n",
      "Do you want to proceed with extracting  100  of those?\n",
      "If this list is very large, perhaps consider changing the paramters (start, stop, p_bound, comparisonbodyparts) or use a different method.\n",
      "Loading video...\n",
      "Duration of video [s]:  26.34 , recorded @  200.0 fps!\n",
      "Overall # of frames:  5268 with (cropped) frame dimensions: \n",
      "Kmeans-quantization based extracting of frames from 0.0  seconds to 26.34  seconds.\n",
      "Extracting and downsampling... 1335  frames from the video.\n"
     ]
    },
    {
     "name": "stderr",
     "output_type": "stream",
     "text": [
      "1335it [00:34, 39.23it/s]\n"
     ]
    },
    {
     "name": "stdout",
     "output_type": "stream",
     "text": [
      "Kmeans clustering ... (this might take a while)\n",
      "Let's select frames indices: [3737, 4202, 4470, 2499, 4058, 3407, 3617, 4664, 4020, 4587, 3775, 3624, 4008, 3751, 4075, 4333, 4167, 3454, 3877, 4687, 3326, 4602, 4496, 3547, 4465, 3656, 3505, 4346, 4141, 4390, 1691, 4208, 4520, 3703, 3840, 4579, 4150, 3525, 4088, 4659, 3410, 3538, 4003, 3623, 4066, 4457, 4051, 3759, 3672, 4229, 3747, 3691, 3808, 4532, 3557, 3730, 4213, 3500, 3764, 4335, 3318, 3567, 4025, 4267, 3602, 3884, 3529, 4545, 4338, 3726, 3645, 3785, 3462, 3399, 4448, 3779, 4314, 3465, 4095, 3637, 3907, 3829, 3493, 4001, 3982, 3337, 4278, 3244, 3412, 3551, 4249, 4679, 4527, 3953, 4466, 4624, 4478, 4105, 3803, 3478]\n",
      "Creating the symbolic link of the video\n",
      "New video was added to the project! Use the function 'extract_frames' to select frames for labeling.\n",
      "The outlier frames are extracted. They are stored in the subdirectory labeled-data\\2018.11.07_15_19_43.\n",
      "Once you extracted frames for all videos, use 'refine_labels' to manually correct the labels.\n"
     ]
    },
    {
     "name": "stderr",
     "output_type": "stream",
     "text": [
      "\r",
      "0it [00:00, ?it/s]"
     ]
    },
    {
     "name": "stdout",
     "output_type": "stream",
     "text": [
      "Method  uncertain  found  935  putative outlier frames.\n",
      "Do you want to proceed with extracting  100  of those?\n",
      "If this list is very large, perhaps consider changing the paramters (start, stop, p_bound, comparisonbodyparts) or use a different method.\n",
      "Loading video...\n",
      "Duration of video [s]:  27.205 , recorded @  200.0 fps!\n",
      "Overall # of frames:  5441 with (cropped) frame dimensions: \n",
      "Kmeans-quantization based extracting of frames from 0.0  seconds to 27.2  seconds.\n",
      "Extracting and downsampling... 935  frames from the video.\n"
     ]
    },
    {
     "name": "stderr",
     "output_type": "stream",
     "text": [
      "935it [00:23, 39.81it/s]\n"
     ]
    },
    {
     "name": "stdout",
     "output_type": "stream",
     "text": [
      "Kmeans clustering ... (this might take a while)\n",
      "Let's select frames indices: [3558, 1415, 739, 3161, 4882, 906, 3903, 450, 3698, 2475, 2517, 3661, 2420, 3461, 1937, 1289, 4663, 2057, 405, 3134, 1723, 3590, 869, 3477, 3579, 3541, 3646, 3710, 1628, 2838, 2111, 3863, 2911, 1990, 466, 3675, 5051, 2932, 697, 2613, 605, 2486, 5087, 2098, 3729, 2885, 3493, 3080, 1275, 3948, 4743, 1478, 2400, 3545, 3155, 3019, 2534, 2177, 3929, 2841, 2434, 1521, 2515, 1357, 3490, 3914, 2178, 3052, 865, 3537, 4699, 3889, 2589, 914, 3683, 2723, 3668, 3360, 3542, 2520, 2983, 3102, 1396, 4889, 898, 3700, 3006, 3170, 394, 3497, 2596, 3468, 3892, 3654, 3721, 1244, 893, 1500, 3883, 367]\n",
      "Creating the symbolic link of the video\n",
      "New video was added to the project! Use the function 'extract_frames' to select frames for labeling.\n",
      "The outlier frames are extracted. They are stored in the subdirectory labeled-data\\2018.11.07_16_22_14.\n",
      "Once you extracted frames for all videos, use 'refine_labels' to manually correct the labels.\n"
     ]
    },
    {
     "name": "stderr",
     "output_type": "stream",
     "text": [
      "\r",
      "0it [00:00, ?it/s]"
     ]
    },
    {
     "name": "stdout",
     "output_type": "stream",
     "text": [
      "Method  uncertain  found  1054  putative outlier frames.\n",
      "Do you want to proceed with extracting  100  of those?\n",
      "If this list is very large, perhaps consider changing the paramters (start, stop, p_bound, comparisonbodyparts) or use a different method.\n",
      "Loading video...\n",
      "Duration of video [s]:  27.24 , recorded @  200.0 fps!\n",
      "Overall # of frames:  5448 with (cropped) frame dimensions: \n",
      "Kmeans-quantization based extracting of frames from 0.0  seconds to 27.24  seconds.\n",
      "Extracting and downsampling... 1054  frames from the video.\n"
     ]
    },
    {
     "name": "stderr",
     "output_type": "stream",
     "text": [
      "1054it [00:25, 41.04it/s]\n"
     ]
    },
    {
     "name": "stdout",
     "output_type": "stream",
     "text": [
      "Kmeans clustering ... (this might take a while)\n",
      "Let's select frames indices: [627, 2180, 4724, 1054, 2640, 222, 1269, 3045, 1117, 1566, 398, 2852, 885, 1782, 490, 3319, 247, 1875, 4739, 1536, 938, 1263, 2688, 2625, 538, 2120, 2978, 1664, 794, 1431, 4159, 454, 2088, 3512, 1627, 647, 3064, 1225, 963, 601, 1166, 257, 1266, 2969, 1027, 1286, 3040, 1844, 1076, 914, 2659, 3037, 2396, 1903, 447, 697, 499, 919, 366, 1276, 1112, 2983, 811, 618, 1295, 1253, 630, 4728, 1291, 1203, 220, 1196, 1423, 848, 970, 1152, 2971, 4735, 2669, 1135, 4722, 690, 436, 255, 380, 902, 233, 584, 1016, 653, 419, 997, 1239, 709, 1048, 2637, 825, 1217, 459, 455]\n",
      "Creating the symbolic link of the video\n",
      "New video was added to the project! Use the function 'extract_frames' to select frames for labeling.\n",
      "The outlier frames are extracted. They are stored in the subdirectory labeled-data\\2018.11.07_16_57_24.\n",
      "Once you extracted frames for all videos, use 'refine_labels' to manually correct the labels.\n"
     ]
    },
    {
     "name": "stderr",
     "output_type": "stream",
     "text": [
      "\r",
      "0it [00:00, ?it/s]"
     ]
    },
    {
     "name": "stdout",
     "output_type": "stream",
     "text": [
      "Method  uncertain  found  3405  putative outlier frames.\n",
      "Do you want to proceed with extracting  100  of those?\n",
      "If this list is very large, perhaps consider changing the paramters (start, stop, p_bound, comparisonbodyparts) or use a different method.\n",
      "Loading video...\n",
      "Duration of video [s]:  26.93 , recorded @  200.0 fps!\n",
      "Overall # of frames:  5386 with (cropped) frame dimensions: \n",
      "Kmeans-quantization based extracting of frames from 0.0  seconds to 26.93  seconds.\n",
      "Extracting and downsampling... 3405  frames from the video.\n"
     ]
    },
    {
     "name": "stderr",
     "output_type": "stream",
     "text": [
      "3405it [01:24, 40.18it/s]\n"
     ]
    },
    {
     "name": "stdout",
     "output_type": "stream",
     "text": [
      "Kmeans clustering ... (this might take a while)\n",
      "Let's select frames indices: [3259, 2303, 2467, 4128, 1714, 1057, 2314, 2757, 4761, 2434, 2174, 1632, 2042, 4600, 1923, 5232, 2383, 1890, 4553, 2328, 2285, 3161, 5131, 3349, 1394, 1914, 3821, 1454, 5348, 2611, 2362, 1941, 4437, 2077, 2214, 2103, 2547, 1517, 2412, 4451, 5088, 5017, 2031, 5277, 2919, 5008, 1579, 3517, 3345, 2172, 2251, 4921, 2390, 2689, 2472, 2997, 2258, 3219, 3999, 4151, 5096, 2500, 4097, 5107, 2857, 2308, 5257, 2379, 2766, 2529, 2422, 2782, 3730, 3010, 1726, 5167, 3594, 2218, 3386, 3115, 2457, 3702, 2001, 2795, 2440, 5290, 3869, 4581, 3021, 3320, 3403, 2092, 2487, 4493, 3094, 2571, 2949, 4054, 5052, 3918]\n",
      "Creating the symbolic link of the video\n",
      "New video was added to the project! Use the function 'extract_frames' to select frames for labeling.\n",
      "The outlier frames are extracted. They are stored in the subdirectory labeled-data\\2018.11.07_17_41_34.\n",
      "Once you extracted frames for all videos, use 'refine_labels' to manually correct the labels.\n"
     ]
    },
    {
     "name": "stderr",
     "output_type": "stream",
     "text": [
      "\r",
      "0it [00:00, ?it/s]"
     ]
    },
    {
     "name": "stdout",
     "output_type": "stream",
     "text": [
      "Method  uncertain  found  3345  putative outlier frames.\n",
      "Do you want to proceed with extracting  100  of those?\n",
      "If this list is very large, perhaps consider changing the paramters (start, stop, p_bound, comparisonbodyparts) or use a different method.\n",
      "Loading video...\n",
      "Duration of video [s]:  26.975 , recorded @  200.0 fps!\n",
      "Overall # of frames:  5395 with (cropped) frame dimensions: \n",
      "Kmeans-quantization based extracting of frames from 0.0  seconds to 26.98  seconds.\n",
      "Extracting and downsampling... 3344  frames from the video.\n"
     ]
    },
    {
     "name": "stderr",
     "output_type": "stream",
     "text": [
      "3344it [01:26, 38.78it/s]\n"
     ]
    },
    {
     "name": "stdout",
     "output_type": "stream",
     "text": [
      "Kmeans clustering ... (this might take a while)\n",
      "Let's select frames indices: [2205, 3584, 45, 2489, 234, 3001, 3057, 4666, 2929, 208, 2164, 760, 2339, 284, 1378, 3072, 1153, 2581, 239, 2256, 4292, 4338, 2785, 2972, 2221, 2174, 260, 2847, 198, 3220, 2181, 5290, 3319, 186, 3649, 229, 2285, 212, 2140, 2394, 2909, 2195, 202, 2072, 2828, 3299, 4363, 2157, 2307, 4846, 4143, 3290, 3519, 20, 2386, 2869, 3756, 3256, 5008, 3790, 2626, 3123, 3049, 2426, 2799, 2438, 3822, 2265, 2243, 3337, 2887, 2510, 209, 2170, 3425, 3894, 2407, 2373, 2355, 3140, 1, 3012, 2818, 4582, 107, 2957, 3185, 4042, 4275, 2862, 3006, 2936, 3728, 5371, 4222, 2412, 2466, 3145, 4811]\n",
      "Creating the symbolic link of the video\n",
      "New video was added to the project! Use the function 'extract_frames' to select frames for labeling.\n",
      "The outlier frames are extracted. They are stored in the subdirectory labeled-data\\2018.11.07_17_42_16.\n",
      "Once you extracted frames for all videos, use 'refine_labels' to manually correct the labels.\n"
     ]
    },
    {
     "name": "stderr",
     "output_type": "stream",
     "text": [
      "\r",
      "0it [00:00, ?it/s]"
     ]
    },
    {
     "name": "stdout",
     "output_type": "stream",
     "text": [
      "Method  uncertain  found  369  putative outlier frames.\n",
      "Do you want to proceed with extracting  100  of those?\n",
      "If this list is very large, perhaps consider changing the paramters (start, stop, p_bound, comparisonbodyparts) or use a different method.\n",
      "Loading video...\n",
      "Duration of video [s]:  26.96 , recorded @  200.0 fps!\n",
      "Overall # of frames:  5392 with (cropped) frame dimensions: \n",
      "Kmeans-quantization based extracting of frames from 0.0  seconds to 26.96  seconds.\n",
      "Extracting and downsampling... 369  frames from the video.\n"
     ]
    },
    {
     "name": "stderr",
     "output_type": "stream",
     "text": [
      "369it [00:10, 36.75it/s]\n"
     ]
    },
    {
     "name": "stdout",
     "output_type": "stream",
     "text": [
      "Kmeans clustering ... (this might take a while)\n",
      "Let's select frames indices: [428, 568, 4766, 641, 4682, 1882, 4743, 1742, 4667, 1335, 787, 586, 4714, 2102, 4777, 4726, 2055, 5041, 716, 1532, 4700, 602, 4703, 4655, 1860, 501, 425, 4689, 1122, 5234, 434, 2512, 1127, 1337, 1540, 1118, 2090, 1428, 4779, 2185, 4771, 1868, 5014, 1753, 594, 416, 269, 4590, 2322, 4940, 4760, 430, 4753, 4681, 580, 5072, 4674, 530, 1446, 1880, 4717, 614, 562, 1640, 4711, 4660, 4727, 1737, 782, 713, 1886, 4672, 4696, 2106, 1520, 4668, 4783, 498, 645, 2145, 792, 410, 542, 4691, 1754, 775, 4706, 2098, 605, 1329, 4761, 4702, 1852, 1875, 1537, 598, 4770, 4740, 4675, 574]\n",
      "Creating the symbolic link of the video\n",
      "New video was added to the project! Use the function 'extract_frames' to select frames for labeling.\n",
      "The outlier frames are extracted. They are stored in the subdirectory labeled-data\\2018.11.07_13_46_54.\n",
      "Once you extracted frames for all videos, use 'refine_labels' to manually correct the labels.\n"
     ]
    },
    {
     "name": "stderr",
     "output_type": "stream",
     "text": [
      "\r",
      "0it [00:00, ?it/s]"
     ]
    },
    {
     "name": "stdout",
     "output_type": "stream",
     "text": [
      "Method  uncertain  found  2321  putative outlier frames.\n",
      "Do you want to proceed with extracting  100  of those?\n",
      "If this list is very large, perhaps consider changing the paramters (start, stop, p_bound, comparisonbodyparts) or use a different method.\n",
      "Loading video...\n",
      "Duration of video [s]:  27.01 , recorded @  200.0 fps!\n",
      "Overall # of frames:  5402 with (cropped) frame dimensions: \n",
      "Kmeans-quantization based extracting of frames from 0.0  seconds to 27.01  seconds.\n",
      "Extracting and downsampling... 2321  frames from the video.\n"
     ]
    },
    {
     "name": "stderr",
     "output_type": "stream",
     "text": [
      "2321it [00:59, 39.09it/s]\n"
     ]
    },
    {
     "name": "stdout",
     "output_type": "stream",
     "text": [
      "Kmeans clustering ... (this might take a while)\n",
      "Let's select frames indices: [2806, 2453, 1403, 4207, 1647, 1846, 1784, 1134, 983, 3707, 2666, 4219, 2520, 1887, 822, 2052, 4090, 3612, 2002, 1047, 1938, 4290, 1064, 2192, 1427, 4042, 2292, 493, 831, 1986, 957, 3252, 2260, 4256, 3143, 2706, 1274, 1033, 1123, 3694, 2662, 3788, 3067, 2376, 2019, 2145, 2618, 1730, 3727, 2069, 3129, 2739, 3804, 2117, 1129, 1767, 1630, 1946, 1267, 1920, 498, 1030, 2266, 1143, 1749, 1654, 3349, 2563, 2939, 985, 4228, 2626, 1993, 1136, 2684, 2081, 2628, 2301, 2253, 1413, 3593, 2196, 2319, 2686, 3308, 2338, 2691, 3731, 2213, 4186, 2612, 3232, 1639, 1821, 2258, 2728, 1824]\n",
      "Creating the symbolic link of the video\n",
      "New video was added to the project! Use the function 'extract_frames' to select frames for labeling.\n",
      "The outlier frames are extracted. They are stored in the subdirectory labeled-data\\2018.11.07_13_50_32.\n",
      "Once you extracted frames for all videos, use 'refine_labels' to manually correct the labels.\n"
     ]
    },
    {
     "name": "stderr",
     "output_type": "stream",
     "text": [
      "\r",
      "0it [00:00, ?it/s]"
     ]
    },
    {
     "name": "stdout",
     "output_type": "stream",
     "text": [
      "Method  uncertain  found  3365  putative outlier frames.\n",
      "Do you want to proceed with extracting  100  of those?\n",
      "If this list is very large, perhaps consider changing the paramters (start, stop, p_bound, comparisonbodyparts) or use a different method.\n",
      "Loading video...\n",
      "Duration of video [s]:  26.935 , recorded @  200.0 fps!\n",
      "Overall # of frames:  5387 with (cropped) frame dimensions: \n",
      "Kmeans-quantization based extracting of frames from 0.0  seconds to 26.93  seconds.\n",
      "Extracting and downsampling... 3364  frames from the video.\n"
     ]
    },
    {
     "name": "stderr",
     "output_type": "stream",
     "text": [
      "3364it [01:25, 39.25it/s]\n"
     ]
    },
    {
     "name": "stdout",
     "output_type": "stream",
     "text": [
      "Kmeans clustering ... (this might take a while)\n",
      "Let's select frames indices: [5172, 2921, 2367, 4404, 1928, 1503, 5226, 2249, 3592, 1957, 5140, 4641, 3198, 4679, 527, 3789, 2045, 1555, 1545, 4913, 1596, 4776, 4905, 1649, 2165, 1673, 392, 1756, 2753, 866, 5250, 4717, 2491, 2820, 445, 4636, 1865, 2392, 4711, 3721, 5236, 5046, 3043, 2584, 4014, 2132, 1648, 3077, 4130, 4669, 1494, 2761, 1565, 2035, 3180, 1940, 4747, 4623, 2705, 1839, 2658, 757, 1791, 2260, 3687, 1626, 4266, 1661, 1636, 3146, 1714, 3933, 4757, 2086, 2805, 3126, 2015, 2219, 3300, 2525, 4056, 2785, 2009, 3436, 2851, 3894, 4630, 2324, 4286, 2242, 3195, 3109, 2408, 3105, 2287, 4481, 3317, 3566, 4648, 2443]\n",
      "Creating the symbolic link of the video\n",
      "New video was added to the project! Use the function 'extract_frames' to select frames for labeling.\n",
      "The outlier frames are extracted. They are stored in the subdirectory labeled-data\\2018.11.07_13_54_46.\n",
      "Once you extracted frames for all videos, use 'refine_labels' to manually correct the labels.\n"
     ]
    },
    {
     "name": "stderr",
     "output_type": "stream",
     "text": [
      "\r",
      "0it [00:00, ?it/s]"
     ]
    },
    {
     "name": "stdout",
     "output_type": "stream",
     "text": [
      "Method  uncertain  found  938  putative outlier frames.\n",
      "Do you want to proceed with extracting  100  of those?\n",
      "If this list is very large, perhaps consider changing the paramters (start, stop, p_bound, comparisonbodyparts) or use a different method.\n",
      "Loading video...\n",
      "Duration of video [s]:  27.0 , recorded @  200.0 fps!\n",
      "Overall # of frames:  5400 with (cropped) frame dimensions: \n",
      "Kmeans-quantization based extracting of frames from 0.0  seconds to 27.0  seconds.\n",
      "Extracting and downsampling... 938  frames from the video.\n"
     ]
    },
    {
     "name": "stderr",
     "output_type": "stream",
     "text": [
      "938it [00:24, 38.40it/s]\n"
     ]
    },
    {
     "name": "stdout",
     "output_type": "stream",
     "text": [
      "Kmeans clustering ... (this might take a while)\n",
      "Let's select frames indices: [1221, 3046, 1262, 3361, 5239, 2785, 1235, 1369, 407, 4074, 2670, 715, 3809, 2610, 5029, 3307, 3861, 5228, 4914, 5180, 3113, 506, 1248, 1730, 2594, 4901, 2991, 777, 1225, 327, 4088, 3189, 1816, 3081, 1474, 420, 423, 697, 5206, 5225, 5268, 3109, 2598, 3003, 990, 3154, 3428, 2836, 4906, 2703, 2714, 543, 2725, 1256, 2634, 684, 3094, 1229, 5199, 4072, 5223, 1266, 4909, 2632, 5034, 3180, 3101, 521, 2678, 5237, 5245, 2826, 3084, 3168, 4920, 1253, 537, 3033, 2542, 2616, 3444, 3028, 498, 2739, 2609, 510, 2647, 2603, 5220, 5209, 2651, 3855, 4056, 4083, 4996, 1208, 5240, 3104, 3050, 2922]\n",
      "Creating the symbolic link of the video\n",
      "New video was added to the project! Use the function 'extract_frames' to select frames for labeling.\n",
      "The outlier frames are extracted. They are stored in the subdirectory labeled-data\\2018.11.07_13_57_44.\n",
      "Once you extracted frames for all videos, use 'refine_labels' to manually correct the labels.\n"
     ]
    },
    {
     "name": "stderr",
     "output_type": "stream",
     "text": [
      "\r",
      "0it [00:00, ?it/s]"
     ]
    },
    {
     "name": "stdout",
     "output_type": "stream",
     "text": [
      "Method  uncertain  found  475  putative outlier frames.\n",
      "Do you want to proceed with extracting  100  of those?\n",
      "If this list is very large, perhaps consider changing the paramters (start, stop, p_bound, comparisonbodyparts) or use a different method.\n",
      "Loading video...\n",
      "Duration of video [s]:  26.46 , recorded @  200.0 fps!\n",
      "Overall # of frames:  5292 with (cropped) frame dimensions: \n",
      "Kmeans-quantization based extracting of frames from 0.0  seconds to 26.46  seconds.\n",
      "Extracting and downsampling... 474  frames from the video.\n"
     ]
    },
    {
     "name": "stderr",
     "output_type": "stream",
     "text": [
      "474it [00:11, 39.67it/s]\n"
     ]
    },
    {
     "name": "stdout",
     "output_type": "stream",
     "text": [
      "Kmeans clustering ... (this might take a while)\n",
      "Let's select frames indices: [1853, 116, 314, 2231, 26, 1783, 2096, 1191, 84, 431, 258, 214, 198, 1825, 1859, 2026, 341, 286, 2654, 10, 598, 1673, 2230, 1173, 1208, 1845, 42, 176, 1586, 1773, 439, 96, 2241, 15, 416, 1865, 1186, 234, 217, 2225, 144, 210, 1780, 445, 62, 241, 424, 2239, 270, 2093, 224, 305, 597, 237, 301, 1842, 2, 263, 45, 343, 1194, 1205, 413, 1857, 1211, 175, 73, 32, 20, 342, 202, 187, 333, 1824, 228, 6, 1870, 1848, 14, 1777, 295, 211, 443, 2023, 323, 220, 152, 86, 1850, 2227, 109, 193, 51, 282, 1862, 1878, 1781, 2235]\n",
      "Creating the symbolic link of the video\n",
      "New video was added to the project! Use the function 'extract_frames' to select frames for labeling.\n",
      "The outlier frames are extracted. They are stored in the subdirectory labeled-data\\2010.11.11_18_27_24.\n",
      "Once you extracted frames for all videos, use 'refine_labels' to manually correct the labels.\n"
     ]
    },
    {
     "name": "stderr",
     "output_type": "stream",
     "text": [
      "\r",
      "0it [00:00, ?it/s]"
     ]
    },
    {
     "name": "stdout",
     "output_type": "stream",
     "text": [
      "Method  uncertain  found  2236  putative outlier frames.\n",
      "Do you want to proceed with extracting  100  of those?\n",
      "If this list is very large, perhaps consider changing the paramters (start, stop, p_bound, comparisonbodyparts) or use a different method.\n",
      "Loading video...\n",
      "Duration of video [s]:  26.505 , recorded @  200.0 fps!\n",
      "Overall # of frames:  5301 with (cropped) frame dimensions: \n",
      "Kmeans-quantization based extracting of frames from 0.0  seconds to 26.5  seconds.\n",
      "Extracting and downsampling... 2236  frames from the video.\n"
     ]
    },
    {
     "name": "stderr",
     "output_type": "stream",
     "text": [
      "2236it [00:55, 40.02it/s]\n"
     ]
    },
    {
     "name": "stdout",
     "output_type": "stream",
     "text": [
      "Kmeans clustering ... (this might take a while)\n",
      "Let's select frames indices: [3634, 4528, 3385, 1011, 3174, 4048, 576, 3844, 1247, 3447, 3236, 1722, 4311, 2917, 5177, 4920, 518, 3303, 5007, 3648, 3269, 4258, 3168, 3927, 3567, 3691, 1237, 3768, 3280, 3361, 4375, 3530, 3720, 5196, 3421, 3231, 4134, 3868, 3980, 3440, 5070, 3316, 3375, 3182, 4825, 4774, 4676, 3284, 3888, 4230, 3835, 4424, 3671, 4014, 3700, 3996, 4083, 3858, 3349, 3533, 3622, 4565, 3468, 3764, 3402, 4441, 3211, 4707, 3492, 5028, 3907, 3574, 4861, 3196, 3170, 4172, 3796, 3164, 3329, 3393, 3733, 3436, 3581, 3219, 3308, 3411, 4746, 4509, 4159, 3961, 4725, 4646, 4046, 3453, 3685, 4668, 4693, 4283, 3481]\n",
      "Creating the symbolic link of the video\n",
      "New video was added to the project! Use the function 'extract_frames' to select frames for labeling.\n",
      "The outlier frames are extracted. They are stored in the subdirectory labeled-data\\2010.11.11_18_28_20.\n",
      "Once you extracted frames for all videos, use 'refine_labels' to manually correct the labels.\n"
     ]
    },
    {
     "name": "stderr",
     "output_type": "stream",
     "text": [
      "\r",
      "0it [00:00, ?it/s]"
     ]
    },
    {
     "name": "stdout",
     "output_type": "stream",
     "text": [
      "Method  uncertain  found  294  putative outlier frames.\n",
      "Do you want to proceed with extracting  100  of those?\n",
      "If this list is very large, perhaps consider changing the paramters (start, stop, p_bound, comparisonbodyparts) or use a different method.\n",
      "Loading video...\n",
      "Duration of video [s]:  26.435 , recorded @  200.0 fps!\n",
      "Overall # of frames:  5287 with (cropped) frame dimensions: \n",
      "Kmeans-quantization based extracting of frames from 0.0  seconds to 26.43  seconds.\n",
      "Extracting and downsampling... 294  frames from the video.\n"
     ]
    },
    {
     "name": "stderr",
     "output_type": "stream",
     "text": [
      "294it [00:07, 37.73it/s]\n"
     ]
    },
    {
     "name": "stdout",
     "output_type": "stream",
     "text": [
      "Kmeans clustering ... (this might take a while)\n",
      "Let's select frames indices: [2114, 1402, 1378, 159, 1286, 935, 1334, 1426, 2158, 971, 2254, 1683, 1315, 1373, 1789, 1345, 1265, 1323, 1444, 1338, 1388, 197, 768, 342, 1299, 678, 1350, 1022, 2017, 686, 2155, 115, 1442, 1272, 1415, 2300, 2261, 1361, 1397, 200, 1260, 1120, 1284, 945, 943, 2009, 968, 1437, 1405, 2252, 1248, 194, 2160, 125, 171, 1395, 1336, 1687, 339, 1294, 684, 1331, 975, 1384, 1316, 1423, 1259, 1342, 1408, 1024, 1357, 192, 1414, 1308, 1401, 1270, 2018, 973, 2259, 195, 1282, 1443, 1275, 1374, 1302, 1295, 1348, 1390, 2156, 1258, 2157, 2159, 1128, 1261, 2118, 1325, 1335, 1433, 198, 1421]\n",
      "Creating the symbolic link of the video\n",
      "New video was added to the project! Use the function 'extract_frames' to select frames for labeling.\n",
      "The outlier frames are extracted. They are stored in the subdirectory labeled-data\\2010.11.11_18_32_01.\n",
      "Once you extracted frames for all videos, use 'refine_labels' to manually correct the labels.\n"
     ]
    },
    {
     "name": "stderr",
     "output_type": "stream",
     "text": [
      "\r",
      "0it [00:00, ?it/s]"
     ]
    },
    {
     "name": "stdout",
     "output_type": "stream",
     "text": [
      "Method  uncertain  found  771  putative outlier frames.\n",
      "Do you want to proceed with extracting  100  of those?\n",
      "If this list is very large, perhaps consider changing the paramters (start, stop, p_bound, comparisonbodyparts) or use a different method.\n",
      "Loading video...\n",
      "Duration of video [s]:  26.47 , recorded @  200.0 fps!\n",
      "Overall # of frames:  5294 with (cropped) frame dimensions: \n",
      "Kmeans-quantization based extracting of frames from 0.0  seconds to 26.47  seconds.\n",
      "Extracting and downsampling... 771  frames from the video.\n"
     ]
    },
    {
     "name": "stderr",
     "output_type": "stream",
     "text": [
      "771it [00:19, 38.75it/s]\n"
     ]
    },
    {
     "name": "stdout",
     "output_type": "stream",
     "text": [
      "Kmeans clustering ... (this might take a while)\n",
      "Let's select frames indices: [4319, 3777, 1369, 81, 3543, 3330, 1539, 4271, 574, 3107, 4280, 2895, 4303, 4402, 3389, 4087, 1310, 3753, 749, 4373, 3379, 4535, 3236, 3402, 3060, 1225, 1379, 938, 3610, 1526, 3079, 1016, 3320, 2731, 567, 4253, 1093, 3896, 3573, 1390, 3110, 4243, 3654, 4503, 3513, 1374, 3648, 2899, 3295, 3739, 3315, 3507, 4348, 2384, 3556, 71, 3372, 3631, 4384, 1546, 3524, 4330, 1388, 3687, 3348, 3729, 4315, 4278, 3578, 4519, 4323, 4224, 3820, 3413, 3370, 3694, 4270, 3532, 573, 3606, 3515, 4526, 3518, 70, 3919, 4247, 4486, 4361, 4260, 3590, 3801, 3234, 3865, 1371, 3520, 4284, 3812, 3549, 3174, 3322]\n",
      "Creating the symbolic link of the video\n",
      "New video was added to the project! Use the function 'extract_frames' to select frames for labeling.\n",
      "The outlier frames are extracted. They are stored in the subdirectory labeled-data\\2010.11.11_18_43_06.\n",
      "Once you extracted frames for all videos, use 'refine_labels' to manually correct the labels.\n"
     ]
    },
    {
     "name": "stderr",
     "output_type": "stream",
     "text": [
      "\r",
      "0it [00:00, ?it/s]"
     ]
    },
    {
     "name": "stdout",
     "output_type": "stream",
     "text": [
      "Method  uncertain  found  1093  putative outlier frames.\n",
      "Do you want to proceed with extracting  100  of those?\n",
      "If this list is very large, perhaps consider changing the paramters (start, stop, p_bound, comparisonbodyparts) or use a different method.\n",
      "Loading video...\n",
      "Duration of video [s]:  26.475 , recorded @  200.0 fps!\n",
      "Overall # of frames:  5295 with (cropped) frame dimensions: \n",
      "Kmeans-quantization based extracting of frames from 0.0  seconds to 26.48  seconds.\n",
      "Extracting and downsampling... 1093  frames from the video.\n"
     ]
    },
    {
     "name": "stderr",
     "output_type": "stream",
     "text": [
      "1093it [00:27, 39.80it/s]\n"
     ]
    },
    {
     "name": "stdout",
     "output_type": "stream",
     "text": [
      "Kmeans clustering ... (this might take a while)\n",
      "Let's select frames indices: [4010, 4646, 3542, 1820, 3033, 3882, 4156, 4669, 3209, 3587, 3312, 2417, 4952, 2510, 3107, 3903, 3833, 1420, 4826, 4026, 4382, 1682, 4703, 2547, 3006, 3926, 3472, 590, 4664, 3512, 3969, 4468, 3440, 3041, 4798, 4248, 2877, 3331, 4105, 3167, 3886, 2492, 1196, 3242, 4627, 1916, 4609, 1268, 3189, 3095, 4657, 3821, 5090, 3979, 2895, 3124, 1855, 4367, 3144, 2398, 4687, 2401, 3500, 2459, 3327, 3843, 2494, 4183, 1737, 4130, 1847, 3965, 3035, 4210, 2518, 4079, 3957, 3302, 4174, 2429, 3943, 4605, 4405, 3953, 2996, 3526, 2541, 1706, 1642, 3911, 3851, 5096, 4665, 4624, 3323, 3280, 2484, 2436, 4658, 2532]\n",
      "Creating the symbolic link of the video\n",
      "New video was added to the project! Use the function 'extract_frames' to select frames for labeling.\n",
      "The outlier frames are extracted. They are stored in the subdirectory labeled-data\\2010.11.11_19_00_56.\n",
      "Once you extracted frames for all videos, use 'refine_labels' to manually correct the labels.\n"
     ]
    },
    {
     "name": "stderr",
     "output_type": "stream",
     "text": [
      "\r",
      "0it [00:00, ?it/s]"
     ]
    },
    {
     "name": "stdout",
     "output_type": "stream",
     "text": [
      "Method  uncertain  found  545  putative outlier frames.\n",
      "Do you want to proceed with extracting  100  of those?\n",
      "If this list is very large, perhaps consider changing the paramters (start, stop, p_bound, comparisonbodyparts) or use a different method.\n",
      "Loading video...\n",
      "Duration of video [s]:  26.43 , recorded @  200.0 fps!\n",
      "Overall # of frames:  5286 with (cropped) frame dimensions: \n",
      "Kmeans-quantization based extracting of frames from 0.0  seconds to 26.43  seconds.\n",
      "Extracting and downsampling... 545  frames from the video.\n"
     ]
    },
    {
     "name": "stderr",
     "output_type": "stream",
     "text": [
      "545it [00:14, 37.95it/s]\n"
     ]
    },
    {
     "name": "stdout",
     "output_type": "stream",
     "text": [
      "Kmeans clustering ... (this might take a while)\n",
      "Let's select frames indices: [3164, 2661, 3756, 203, 2921, 129, 3805, 531, 2581, 298, 2602, 1852, 606, 318, 3780, 2615, 416, 521, 116, 3504, 2936, 197, 3858, 4226, 330, 654, 4465, 464, 1784, 144, 2600, 524, 1877, 334, 335, 2639, 331, 281, 329, 2663, 4477, 523, 154, 4195, 2904, 3825, 4347, 426, 3511, 4474, 793, 2626, 3845, 2648, 2437, 381, 3789, 1845, 200, 970, 268, 214, 89, 3835, 516, 2589, 1776, 69, 161, 2651, 2930, 109, 164, 3793, 215, 627, 222, 3856, 2590, 166, 2582, 520, 123, 2636, 2627, 526, 3803, 2678, 2617, 2931, 2668, 511, 233, 151, 2947, 2658, 609, 605, 2927, 2644]\n",
      "Creating the symbolic link of the video\n",
      "New video was added to the project! Use the function 'extract_frames' to select frames for labeling.\n",
      "The outlier frames are extracted. They are stored in the subdirectory labeled-data\\2010.11.11_19_05_57.\n",
      "Once you extracted frames for all videos, use 'refine_labels' to manually correct the labels.\n"
     ]
    },
    {
     "name": "stderr",
     "output_type": "stream",
     "text": [
      "\r",
      "0it [00:00, ?it/s]"
     ]
    },
    {
     "name": "stdout",
     "output_type": "stream",
     "text": [
      "Method  uncertain  found  1445  putative outlier frames.\n",
      "Do you want to proceed with extracting  100  of those?\n",
      "If this list is very large, perhaps consider changing the paramters (start, stop, p_bound, comparisonbodyparts) or use a different method.\n",
      "Loading video...\n",
      "Duration of video [s]:  26.445 , recorded @  200.0 fps!\n",
      "Overall # of frames:  5289 with (cropped) frame dimensions: \n",
      "Kmeans-quantization based extracting of frames from 0.0  seconds to 26.45  seconds.\n",
      "Extracting and downsampling... 1445  frames from the video.\n"
     ]
    },
    {
     "name": "stderr",
     "output_type": "stream",
     "text": [
      "1445it [00:35, 40.37it/s]\n"
     ]
    },
    {
     "name": "stdout",
     "output_type": "stream",
     "text": [
      "Kmeans clustering ... (this might take a while)\n",
      "Let's select frames indices: [2291, 4944, 2932, 3732, 590, 2540, 5200, 1623, 2178, 2985, 3970, 4794, 2904, 5088, 2436, 2811, 3919, 4279, 1268, 613, 3289, 3903, 3817, 3105, 2338, 4982, 5030, 4180, 2095, 2855, 980, 3406, 1775, 2215, 1278, 2966, 1590, 4255, 3193, 2140, 1754, 4345, 5169, 1397, 3958, 2162, 4818, 4743, 2877, 1596, 671, 5138, 609, 2198, 4891, 2570, 1750, 3057, 2371, 2235, 3135, 4790, 2399, 2594, 2319, 2416, 4686, 5217, 2954, 2466, 3977, 2866, 2210, 2928, 2842, 2820, 2500, 658, 2298, 610, 2144, 1272, 3067, 2971, 2797, 5129, 2894, 5106, 2955, 4764, 3041, 2860, 5210, 3036, 646, 5117, 1762, 4914, 1280, 4694]\n",
      "Creating the symbolic link of the video\n",
      "New video was added to the project! Use the function 'extract_frames' to select frames for labeling.\n",
      "The outlier frames are extracted. They are stored in the subdirectory labeled-data\\2010.11.11_19_06_50.\n",
      "Once you extracted frames for all videos, use 'refine_labels' to manually correct the labels.\n"
     ]
    },
    {
     "name": "stderr",
     "output_type": "stream",
     "text": [
      "\r",
      "0it [00:00, ?it/s]"
     ]
    },
    {
     "name": "stdout",
     "output_type": "stream",
     "text": [
      "Method  uncertain  found  1424  putative outlier frames.\n",
      "Do you want to proceed with extracting  100  of those?\n",
      "If this list is very large, perhaps consider changing the paramters (start, stop, p_bound, comparisonbodyparts) or use a different method.\n",
      "Loading video...\n",
      "Duration of video [s]:  26.44 , recorded @  200.0 fps!\n",
      "Overall # of frames:  5288 with (cropped) frame dimensions: \n",
      "Kmeans-quantization based extracting of frames from 0.0  seconds to 26.44  seconds.\n",
      "Extracting and downsampling... 1424  frames from the video.\n"
     ]
    },
    {
     "name": "stderr",
     "output_type": "stream",
     "text": [
      "1424it [00:35, 40.19it/s]\n"
     ]
    },
    {
     "name": "stdout",
     "output_type": "stream",
     "text": [
      "Kmeans clustering ... (this might take a while)\n",
      "Let's select frames indices: [4191, 3655, 4346, 4862, 4747, 4087, 4569, 2571, 3482, 1814, 3232, 4017, 1831, 4997, 4209, 1716, 4620, 3924, 4986, 4533, 3602, 4926, 4340, 4388, 1703, 731, 2548, 4772, 4704, 3996, 1782, 3698, 4848, 4469, 2119, 4143, 4119, 1840, 5036, 3554, 4661, 4056, 4822, 1709, 4158, 4009, 4095, 4221, 4970, 4836, 1778, 1787, 5048, 4013, 4148, 4277, 3627, 4900, 4723, 4187, 4675, 4815, 1936, 4029, 4995, 3937, 818, 2532, 4453, 4203, 3528, 3974, 4134, 5031, 3616, 4549, 3575, 5016, 4169, 4873, 3641, 4065, 4073, 4043, 4891, 4330, 4825, 1811, 5009, 4378, 4641, 4639, 4085, 4172, 3950, 3671, 4689, 4753, 2568, 3236]\n",
      "Creating the symbolic link of the video\n",
      "New video was added to the project! Use the function 'extract_frames' to select frames for labeling.\n",
      "The outlier frames are extracted. They are stored in the subdirectory labeled-data\\2010.11.11_19_08_28.\n",
      "Once you extracted frames for all videos, use 'refine_labels' to manually correct the labels.\n"
     ]
    },
    {
     "name": "stderr",
     "output_type": "stream",
     "text": [
      "\r",
      "0it [00:00, ?it/s]"
     ]
    },
    {
     "name": "stdout",
     "output_type": "stream",
     "text": [
      "Method  uncertain  found  1571  putative outlier frames.\n",
      "Do you want to proceed with extracting  100  of those?\n",
      "If this list is very large, perhaps consider changing the paramters (start, stop, p_bound, comparisonbodyparts) or use a different method.\n",
      "Loading video...\n",
      "Duration of video [s]:  26.46 , recorded @  200.0 fps!\n",
      "Overall # of frames:  5292 with (cropped) frame dimensions: \n",
      "Kmeans-quantization based extracting of frames from 0.0  seconds to 26.46  seconds.\n",
      "Extracting and downsampling... 1571  frames from the video.\n"
     ]
    },
    {
     "name": "stderr",
     "output_type": "stream",
     "text": [
      "1571it [00:38, 40.39it/s]\n"
     ]
    },
    {
     "name": "stdout",
     "output_type": "stream",
     "text": [
      "Kmeans clustering ... (this might take a while)\n",
      "Let's select frames indices: [4850, 3167, 1168, 2715, 1432, 2872, 4459, 374, 1821, 237, 3398, 2197, 3008, 2366, 4245, 610, 328, 1353, 2189, 2089, 932, 2759, 1222, 3316, 2202, 1216, 1019, 3097, 3940, 2639, 3090, 1257, 2125, 4358, 3455, 1581, 1841, 4586, 3350, 3063, 1796, 3958, 3390, 2669, 4600, 4389, 2810, 5269, 1831, 3145, 1152, 4276, 1144, 4402, 4490, 3972, 2815, 4827, 3416, 4709, 4237, 3381, 3228, 4286, 2962, 229, 2737, 1346, 3430, 2848, 3411, 2974, 4339, 4843, 3076, 3344, 4258, 3440, 3107, 3190, 1838, 3281, 1161, 2782, 2700, 3095, 3943, 1957, 2930, 608, 3371, 3447, 3043, 3120, 2895, 1848, 3335, 4624, 4304, 4521]\n",
      "Creating the symbolic link of the video\n",
      "New video was added to the project! Use the function 'extract_frames' to select frames for labeling.\n",
      "The outlier frames are extracted. They are stored in the subdirectory labeled-data\\2010.11.11_19_09_26.\n",
      "Once you extracted frames for all videos, use 'refine_labels' to manually correct the labels.\n"
     ]
    },
    {
     "name": "stderr",
     "output_type": "stream",
     "text": [
      "\r",
      "0it [00:00, ?it/s]"
     ]
    },
    {
     "name": "stdout",
     "output_type": "stream",
     "text": [
      "Method  uncertain  found  1093  putative outlier frames.\n",
      "Do you want to proceed with extracting  100  of those?\n",
      "If this list is very large, perhaps consider changing the paramters (start, stop, p_bound, comparisonbodyparts) or use a different method.\n",
      "Loading video...\n",
      "Duration of video [s]:  26.435 , recorded @  200.0 fps!\n",
      "Overall # of frames:  5287 with (cropped) frame dimensions: \n",
      "Kmeans-quantization based extracting of frames from 0.0  seconds to 26.43  seconds.\n",
      "Extracting and downsampling... 1092  frames from the video.\n"
     ]
    },
    {
     "name": "stderr",
     "output_type": "stream",
     "text": [
      "1092it [00:27, 39.63it/s]\n"
     ]
    },
    {
     "name": "stdout",
     "output_type": "stream",
     "text": [
      "Kmeans clustering ... (this might take a while)\n",
      "Let's select frames indices: [2186, 174, 2847, 278, 2031, 4469, 977, 2286, 683, 2777, 1425, 1281, 576, 2974, 1933, 48, 2100, 2066, 3317, 1016, 2143, 1476, 2872, 236, 626, 2891, 2091, 1005, 646, 8, 1118, 139, 2210, 1996, 1319, 2300, 97, 1428, 2962, 2988, 4486, 1287, 3087, 399, 989, 1486, 3025, 194, 2096, 2080, 701, 944, 4424, 1290, 2154, 596, 253, 1211, 2304, 379, 2142, 388, 2168, 555, 333, 318, 2309, 3009, 735, 993, 1006, 2542, 559, 32, 2, 81, 2053, 19, 1127, 2887, 160, 1465, 2785, 2843, 266, 1407, 5209, 2937, 300, 949, 2724, 2863, 982, 213, 1296, 108, 215, 3113, 2906, 2793]\n",
      "Creating the symbolic link of the video\n",
      "New video was added to the project! Use the function 'extract_frames' to select frames for labeling.\n",
      "The outlier frames are extracted. They are stored in the subdirectory labeled-data\\2010.11.11_19_10_54.\n",
      "Once you extracted frames for all videos, use 'refine_labels' to manually correct the labels.\n"
     ]
    },
    {
     "name": "stderr",
     "output_type": "stream",
     "text": [
      "3it [00:00, 29.00it/s]"
     ]
    },
    {
     "name": "stdout",
     "output_type": "stream",
     "text": [
      "Method  uncertain  found  813  putative outlier frames.\n",
      "Do you want to proceed with extracting  100  of those?\n",
      "If this list is very large, perhaps consider changing the paramters (start, stop, p_bound, comparisonbodyparts) or use a different method.\n",
      "Loading video...\n",
      "Duration of video [s]:  26.495 , recorded @  200.0 fps!\n",
      "Overall # of frames:  5299 with (cropped) frame dimensions: \n",
      "Kmeans-quantization based extracting of frames from 0.0  seconds to 26.5  seconds.\n",
      "Extracting and downsampling... 813  frames from the video.\n"
     ]
    },
    {
     "name": "stderr",
     "output_type": "stream",
     "text": [
      "813it [00:20, 39.65it/s]\n"
     ]
    },
    {
     "name": "stdout",
     "output_type": "stream",
     "text": [
      "Kmeans clustering ... (this might take a while)\n",
      "Let's select frames indices: [3269, 636, 218, 2039, 2866, 1883, 810, 2060, 3364, 3197, 417, 2936, 892, 268, 2257, 1845, 1118, 2250, 2237, 1036, 1176, 720, 141, 3291, 2029, 3344, 1720, 1320, 2053, 1968, 1461, 3335, 335, 3531, 3254, 1180, 2915, 696, 2040, 1851, 233, 3315, 2022, 1914, 3317, 3401, 3206, 3259, 3329, 874, 594, 340, 2767, 3201, 1466, 2247, 764, 274, 2266, 1867, 2037, 1838, 886, 3277, 800, 3359, 754, 2244, 1847, 2049, 3105, 2056, 3527, 1048, 2239, 2067, 3298, 3312, 2940, 862, 868, 613, 663, 2253, 2877, 836, 2780, 3243, 2234, 3265, 428, 103, 902, 3320, 1753, 2256, 2046, 3285, 2886, 589]\n",
      "Creating the symbolic link of the video\n",
      "New video was added to the project! Use the function 'extract_frames' to select frames for labeling.\n",
      "The outlier frames are extracted. They are stored in the subdirectory labeled-data\\2010.11.11_19_11_33.\n",
      "Once you extracted frames for all videos, use 'refine_labels' to manually correct the labels.\n"
     ]
    },
    {
     "name": "stderr",
     "output_type": "stream",
     "text": [
      "\r",
      "0it [00:00, ?it/s]"
     ]
    },
    {
     "name": "stdout",
     "output_type": "stream",
     "text": [
      "Method  uncertain  found  1831  putative outlier frames.\n",
      "Do you want to proceed with extracting  100  of those?\n",
      "If this list is very large, perhaps consider changing the paramters (start, stop, p_bound, comparisonbodyparts) or use a different method.\n",
      "Loading video...\n",
      "Duration of video [s]:  26.425 , recorded @  200.0 fps!\n",
      "Overall # of frames:  5285 with (cropped) frame dimensions: \n",
      "Kmeans-quantization based extracting of frames from 0.0  seconds to 26.43  seconds.\n",
      "Extracting and downsampling... 1830  frames from the video.\n"
     ]
    },
    {
     "name": "stderr",
     "output_type": "stream",
     "text": [
      "1830it [00:44, 40.78it/s]\n"
     ]
    },
    {
     "name": "stdout",
     "output_type": "stream",
     "text": [
      "Kmeans clustering ... (this might take a while)\n",
      "Let's select frames indices: [722, 3035, 3454, 2492, 90, 467, 4044, 1047, 3977, 3176, 2161, 3466, 2138, 881, 3609, 3571, 550, 1807, 1171, 244, 3154, 2177, 2286, 4116, 3625, 282, 1123, 2632, 4270, 331, 1650, 2195, 2817, 3287, 3995, 338, 4089, 4019, 1211, 1180, 3596, 3798, 980, 1222, 3936, 2115, 399, 1560, 1144, 597, 3090, 2499, 1833, 4081, 4053, 230, 4046, 3963, 1132, 201, 222, 264, 3507, 3584, 3201, 4048, 491, 2153, 1040, 3437, 1797, 2505, 4099, 909, 375, 3132, 3464, 4004, 421, 583, 815, 642, 3313, 946, 4024, 2546, 1002, 1201, 4010, 4066, 3109, 208, 769, 65, 253, 570, 2021, 3445, 1289, 510]\n",
      "Creating the symbolic link of the video\n",
      "New video was added to the project! Use the function 'extract_frames' to select frames for labeling.\n",
      "The outlier frames are extracted. They are stored in the subdirectory labeled-data\\2010.11.11_19_12_09.\n",
      "Once you extracted frames for all videos, use 'refine_labels' to manually correct the labels.\n",
      "Method  uncertain  found  1665  putative outlier frames.\n",
      "Do you want to proceed with extracting  100  of those?\n",
      "If this list is very large, perhaps consider changing the paramters (start, stop, p_bound, comparisonbodyparts) or use a different method.\n",
      "Loading video...\n"
     ]
    },
    {
     "name": "stderr",
     "output_type": "stream",
     "text": [
      "1it [00:00,  5.91it/s]"
     ]
    },
    {
     "name": "stdout",
     "output_type": "stream",
     "text": [
      "Duration of video [s]:  26.535 , recorded @  200.0 fps!\n",
      "Overall # of frames:  5307 with (cropped) frame dimensions: \n",
      "Kmeans-quantization based extracting of frames from 0.0  seconds to 26.54  seconds.\n",
      "Extracting and downsampling... 1665  frames from the video.\n"
     ]
    },
    {
     "name": "stderr",
     "output_type": "stream",
     "text": [
      "1665it [00:41, 39.97it/s]\n"
     ]
    },
    {
     "name": "stdout",
     "output_type": "stream",
     "text": [
      "Kmeans clustering ... (this might take a while)\n",
      "Let's select frames indices: [1436, 2929, 2057, 752, 1931, 2180, 1716, 2515, 776, 2742, 491, 865, 4987, 3124, 4160, 839, 4382, 747, 3461, 788, 2047, 534, 1831, 1537, 4439, 4111, 2622, 210, 4433, 2132, 5274, 4908, 952, 3599, 2826, 1638, 762, 3085, 1410, 646, 2205, 3616, 4424, 1770, 5146, 3397, 2505, 2903, 2729, 1973, 590, 1691, 4444, 2152, 2176, 1899, 857, 1868, 1482, 1809, 871, 3046, 2393, 4162, 731, 2508, 4201, 755, 3203, 1943, 2215, 526, 2519, 4383, 4399, 750, 543, 2191, 2090, 2722, 4477, 1501, 2970, 1663, 4410, 3532, 2155, 2198, 2857, 541, 4877, 2008, 2769, 4431, 3595, 3431, 3185, 2836, 2511, 3019]\n",
      "Creating the symbolic link of the video\n",
      "New video was added to the project! Use the function 'extract_frames' to select frames for labeling.\n",
      "The outlier frames are extracted. They are stored in the subdirectory labeled-data\\2010.11.11_19_13_00.\n",
      "Once you extracted frames for all videos, use 'refine_labels' to manually correct the labels.\n"
     ]
    },
    {
     "name": "stderr",
     "output_type": "stream",
     "text": [
      "\r",
      "0it [00:00, ?it/s]"
     ]
    },
    {
     "name": "stdout",
     "output_type": "stream",
     "text": [
      "Method  uncertain  found  2190  putative outlier frames.\n",
      "Do you want to proceed with extracting  100  of those?\n",
      "If this list is very large, perhaps consider changing the paramters (start, stop, p_bound, comparisonbodyparts) or use a different method.\n",
      "Loading video...\n",
      "Duration of video [s]:  26.485 , recorded @  200.0 fps!\n",
      "Overall # of frames:  5297 with (cropped) frame dimensions: \n",
      "Kmeans-quantization based extracting of frames from 0.0  seconds to 26.48  seconds.\n",
      "Extracting and downsampling... 2190  frames from the video.\n"
     ]
    },
    {
     "name": "stderr",
     "output_type": "stream",
     "text": [
      "2190it [00:52, 41.47it/s]\n"
     ]
    },
    {
     "name": "stdout",
     "output_type": "stream",
     "text": [
      "Kmeans clustering ... (this might take a while)\n",
      "Let's select frames indices: [1765, 3854, 471, 311, 797, 5110, 3451, 1498, 1528, 4624, 4465, 4549, 1509, 4970, 2891, 3703, 1888, 1866, 4369, 2804, 3392, 829, 337, 2112, 1924, 1325, 3759, 851, 4320, 371, 3551, 4896, 4657, 4521, 1557, 3508, 2070, 3629, 4588, 4703, 838, 3892, 4948, 4558, 4012, 539, 4090, 2079, 3433, 4515, 479, 5263, 3959, 3590, 4275, 4535, 3461, 3385, 3410, 4761, 4329, 4189, 4664, 4836, 3690, 1547, 4241, 4581, 5141, 4076, 848, 4512, 4642, 5134, 3444, 5050, 4687, 3534, 4872, 3484, 3604, 3401, 3571, 4906, 3881, 3997, 3922, 3872, 4367, 5032, 2086, 4409, 3782, 4545, 5082, 4136, 4617, 4737, 3669]\n",
      "Creating the symbolic link of the video\n",
      "New video was added to the project! Use the function 'extract_frames' to select frames for labeling.\n",
      "The outlier frames are extracted. They are stored in the subdirectory labeled-data\\2010.11.11_19_13_49.\n",
      "Once you extracted frames for all videos, use 'refine_labels' to manually correct the labels.\n"
     ]
    },
    {
     "name": "stderr",
     "output_type": "stream",
     "text": [
      "\r",
      "0it [00:00, ?it/s]"
     ]
    },
    {
     "name": "stdout",
     "output_type": "stream",
     "text": [
      "Method  uncertain  found  1188  putative outlier frames.\n",
      "Do you want to proceed with extracting  100  of those?\n",
      "If this list is very large, perhaps consider changing the paramters (start, stop, p_bound, comparisonbodyparts) or use a different method.\n",
      "Loading video...\n",
      "Duration of video [s]:  26.525 , recorded @  200.0 fps!\n",
      "Overall # of frames:  5305 with (cropped) frame dimensions: \n",
      "Kmeans-quantization based extracting of frames from 0.0  seconds to 26.52  seconds.\n",
      "Extracting and downsampling... 1188  frames from the video.\n"
     ]
    },
    {
     "name": "stderr",
     "output_type": "stream",
     "text": [
      "1188it [00:29, 39.86it/s]\n"
     ]
    },
    {
     "name": "stdout",
     "output_type": "stream",
     "text": [
      "Kmeans clustering ... (this might take a while)\n",
      "Let's select frames indices: [3388, 3823, 5052, 3581, 4279, 3206, 4486, 3890, 4415, 3635, 1667, 3998, 4049, 3776, 1968, 1849, 3291, 1418, 2950, 4538, 4680, 3268, 2464, 3498, 2776, 4337, 1824, 4950, 3112, 2083, 3031, 4006, 2020, 3955, 3703, 4043, 4455, 2789, 1426, 232, 1423, 4211, 5028, 4718, 4030, 2616, 1843, 2187, 3076, 3936, 4018, 4345, 4411, 1761, 1950, 2785, 5020, 3583, 5088, 4333, 4692, 2010, 3878, 3922, 3213, 4051, 1586, 4469, 4662, 1814, 3951, 1961, 1859, 3807, 3971, 3604, 1677, 3196, 3857, 4477, 2737, 3795, 3933, 4026, 3837, 1831, 1837, 4013, 3725, 3868, 4546, 4490, 4231, 5126, 3278, 3876, 5146, 4445, 5006, 2954]\n",
      "Creating the symbolic link of the video\n",
      "New video was added to the project! Use the function 'extract_frames' to select frames for labeling.\n",
      "The outlier frames are extracted. They are stored in the subdirectory labeled-data\\2010.11.11_19_14_32.\n",
      "Once you extracted frames for all videos, use 'refine_labels' to manually correct the labels.\n"
     ]
    },
    {
     "name": "stderr",
     "output_type": "stream",
     "text": [
      "\r",
      "0it [00:00, ?it/s]"
     ]
    },
    {
     "name": "stdout",
     "output_type": "stream",
     "text": [
      "Method  uncertain  found  1796  putative outlier frames.\n",
      "Do you want to proceed with extracting  100  of those?\n",
      "If this list is very large, perhaps consider changing the paramters (start, stop, p_bound, comparisonbodyparts) or use a different method.\n",
      "Loading video...\n",
      "Duration of video [s]:  26.45 , recorded @  200.0 fps!\n",
      "Overall # of frames:  5290 with (cropped) frame dimensions: \n",
      "Kmeans-quantization based extracting of frames from 0.0  seconds to 26.45  seconds.\n",
      "Extracting and downsampling... 1795  frames from the video.\n"
     ]
    },
    {
     "name": "stderr",
     "output_type": "stream",
     "text": [
      "1795it [00:43, 40.85it/s]\n"
     ]
    },
    {
     "name": "stdout",
     "output_type": "stream",
     "text": [
      "Kmeans clustering ... (this might take a while)\n",
      "Let's select frames indices: [1767, 4324, 2173, 107, 1610, 4728, 1409, 4792, 806, 692, 274, 2296, 4992, 195, 4661, 1576, 4628, 2658, 702, 3, 188, 1622, 4242, 2355, 24, 314, 4273, 237, 1866, 1689, 719, 1557, 355, 4946, 4181, 345, 1413, 72, 2242, 170, 2256, 4999, 711, 1699, 159, 4743, 264, 1363, 4845, 2317, 300, 678, 290, 4493, 57, 1881, 2049, 246, 214, 1654, 2120, 40, 1745, 2281, 318, 210, 139, 4561, 205, 1723, 4139, 700, 253, 1825, 683, 4971, 217, 4354, 2307, 4895, 1792, 1665, 1405, 1746, 4985, 4285, 1598, 4122, 45, 4526, 4456, 1681, 1571, 4220, 174, 4772, 31, 1586, 2231, 688]\n",
      "Creating the symbolic link of the video\n",
      "New video was added to the project! Use the function 'extract_frames' to select frames for labeling.\n",
      "The outlier frames are extracted. They are stored in the subdirectory labeled-data\\2010.11.11_19_15_08.\n",
      "Once you extracted frames for all videos, use 'refine_labels' to manually correct the labels.\n"
     ]
    },
    {
     "name": "stderr",
     "output_type": "stream",
     "text": [
      "2it [00:00, 17.83it/s]"
     ]
    },
    {
     "name": "stdout",
     "output_type": "stream",
     "text": [
      "Method  uncertain  found  1725  putative outlier frames.\n",
      "Do you want to proceed with extracting  100  of those?\n",
      "If this list is very large, perhaps consider changing the paramters (start, stop, p_bound, comparisonbodyparts) or use a different method.\n",
      "Loading video...\n",
      "Duration of video [s]:  26.455 , recorded @  200.0 fps!\n",
      "Overall # of frames:  5291 with (cropped) frame dimensions: \n",
      "Kmeans-quantization based extracting of frames from 0.0  seconds to 26.45  seconds.\n",
      "Extracting and downsampling... 1725  frames from the video.\n"
     ]
    },
    {
     "name": "stderr",
     "output_type": "stream",
     "text": [
      "1725it [00:42, 40.74it/s]\n"
     ]
    },
    {
     "name": "stdout",
     "output_type": "stream",
     "text": [
      "Kmeans clustering ... (this might take a while)\n",
      "Let's select frames indices: [4059, 548, 2340, 3396, 3841, 1292, 5200, 5132, 3546, 239, 3186, 3888, 4047, 512, 488, 575, 3157, 727, 1325, 5022, 5086, 5216, 546, 3285, 840, 629, 3303, 3759, 1343, 1283, 3621, 3972, 711, 562, 1300, 5054, 5258, 529, 4108, 4977, 1254, 3330, 2031, 3246, 4946, 3615, 3146, 2029, 606, 5234, 221, 3682, 3159, 3576, 1267, 3592, 3429, 1335, 1307, 3725, 3700, 3940, 3459, 5044, 3226, 3414, 520, 3352, 4992, 2425, 2912, 231, 5143, 3362, 3178, 3663, 4086, 3650, 3704, 557, 723, 1287, 3820, 3418, 3323, 3321, 3737, 3510, 1274, 4971, 5280, 4103, 3152, 3378, 3675, 5102, 2568, 3801, 5269, 3457]\n",
      "Creating the symbolic link of the video\n",
      "New video was added to the project! Use the function 'extract_frames' to select frames for labeling.\n",
      "The outlier frames are extracted. They are stored in the subdirectory labeled-data\\2010.11.11_19_22_14.\n",
      "Once you extracted frames for all videos, use 'refine_labels' to manually correct the labels.\n"
     ]
    },
    {
     "name": "stderr",
     "output_type": "stream",
     "text": [
      "\r",
      "0it [00:00, ?it/s]"
     ]
    },
    {
     "name": "stdout",
     "output_type": "stream",
     "text": [
      "Method  uncertain  found  895  putative outlier frames.\n",
      "Do you want to proceed with extracting  100  of those?\n",
      "If this list is very large, perhaps consider changing the paramters (start, stop, p_bound, comparisonbodyparts) or use a different method.\n",
      "Loading video...\n",
      "Duration of video [s]:  26.495 , recorded @  200.0 fps!\n",
      "Overall # of frames:  5299 with (cropped) frame dimensions: \n",
      "Kmeans-quantization based extracting of frames from 0.0  seconds to 26.5  seconds.\n",
      "Extracting and downsampling... 895  frames from the video.\n"
     ]
    },
    {
     "name": "stderr",
     "output_type": "stream",
     "text": [
      "895it [00:22, 39.97it/s]\n"
     ]
    },
    {
     "name": "stdout",
     "output_type": "stream",
     "text": [
      "Kmeans clustering ... (this might take a while)\n",
      "Let's select frames indices: [2145, 4568, 1538, 1620, 378, 762, 4695, 543, 1784, 3919, 2472, 2390, 339, 181, 1954, 433, 3984, 1216, 1596, 1110, 4784, 1477, 362, 1463, 4741, 407, 1372, 4451, 773, 3812, 4599, 4402, 4680, 686, 1264, 1945, 1628, 470, 2272, 5034, 311, 4865, 4803, 558, 1566, 2461, 1512, 4622, 2393, 4000, 435, 1460, 4763, 178, 3830, 2127, 755, 4437, 4726, 592, 330, 1939, 1630, 2184, 469, 1450, 1652, 765, 182, 430, 607, 1501, 4790, 4757, 4776, 1557, 1640, 715, 3966, 1942, 4546, 4418, 3898, 1947, 775, 4755, 1111, 1542, 3990, 2136, 4338, 4794, 4325, 1371, 4329, 4671, 1402, 4765, 3585]\n",
      "Creating the symbolic link of the video\n",
      "New video was added to the project! Use the function 'extract_frames' to select frames for labeling.\n",
      "The outlier frames are extracted. They are stored in the subdirectory labeled-data\\2010.11.11_19_22_48.\n",
      "Once you extracted frames for all videos, use 'refine_labels' to manually correct the labels.\n"
     ]
    },
    {
     "name": "stderr",
     "output_type": "stream",
     "text": [
      "\r",
      "0it [00:00, ?it/s]"
     ]
    },
    {
     "name": "stdout",
     "output_type": "stream",
     "text": [
      "Method  uncertain  found  1895  putative outlier frames.\n",
      "Do you want to proceed with extracting  100  of those?\n",
      "If this list is very large, perhaps consider changing the paramters (start, stop, p_bound, comparisonbodyparts) or use a different method.\n",
      "Loading video...\n",
      "Duration of video [s]:  26.465 , recorded @  200.0 fps!\n",
      "Overall # of frames:  5293 with (cropped) frame dimensions: \n",
      "Kmeans-quantization based extracting of frames from 0.0  seconds to 26.46  seconds.\n",
      "Extracting and downsampling... 1894  frames from the video.\n"
     ]
    },
    {
     "name": "stderr",
     "output_type": "stream",
     "text": [
      "1894it [00:45, 41.21it/s]\n"
     ]
    },
    {
     "name": "stdout",
     "output_type": "stream",
     "text": [
      "Kmeans clustering ... (this might take a while)\n",
      "Let's select frames indices: [1431, 4688, 2695, 976, 77, 234, 296, 1525, 172, 1050, 1391, 4969, 236, 1441, 207, 1278, 998, 2457, 4299, 276, 1576, 141, 1254, 449, 1485, 1466, 787, 2747, 2342, 240, 520, 1539, 1275, 11, 5117, 1455, 958, 4190, 203, 1231, 1499, 4573, 2691, 2611, 1517, 4850, 4395, 987, 1531, 157, 4828, 4166, 4288, 43, 971, 4540, 1267, 538, 921, 4871, 4945, 13, 1426, 193, 21, 2788, 46, 4898, 286, 1564, 5178, 4247, 2728, 2673, 1481, 5059, 2802, 4963, 1546, 1504, 119, 4809, 1385, 1726, 101, 1521, 1169, 128, 112, 4392, 4373, 300, 4510, 2713, 180, 4741, 5103, 4890, 161, 4827]\n",
      "Creating the symbolic link of the video\n",
      "New video was added to the project! Use the function 'extract_frames' to select frames for labeling.\n",
      "The outlier frames are extracted. They are stored in the subdirectory labeled-data\\2010.11.11_19_23_22.\n",
      "Once you extracted frames for all videos, use 'refine_labels' to manually correct the labels.\n"
     ]
    },
    {
     "name": "stderr",
     "output_type": "stream",
     "text": [
      "\r",
      "0it [00:00, ?it/s]"
     ]
    },
    {
     "name": "stdout",
     "output_type": "stream",
     "text": [
      "Method  uncertain  found  3180  putative outlier frames.\n",
      "Do you want to proceed with extracting  100  of those?\n",
      "If this list is very large, perhaps consider changing the paramters (start, stop, p_bound, comparisonbodyparts) or use a different method.\n",
      "Loading video...\n",
      "Duration of video [s]:  26.45 , recorded @  200.0 fps!\n",
      "Overall # of frames:  5290 with (cropped) frame dimensions: \n",
      "Kmeans-quantization based extracting of frames from 0.0  seconds to 26.45  seconds.\n",
      "Extracting and downsampling... 3179  frames from the video.\n"
     ]
    },
    {
     "name": "stderr",
     "output_type": "stream",
     "text": [
      "3179it [01:16, 41.57it/s]\n"
     ]
    },
    {
     "name": "stdout",
     "output_type": "stream",
     "text": [
      "Kmeans clustering ... (this might take a while)\n",
      "Let's select frames indices: [4076, 4169, 2164, 910, 4013, 3671, 1411, 1929, 2201, 151, 2324, 279, 1218, 2070, 3635, 1362, 1566, 3748, 808, 945, 2529, 1373, 214, 1397, 5239, 3325, 2688, 1098, 920, 4908, 3894, 4564, 2088, 2289, 3318, 4859, 3246, 2116, 4871, 4476, 248, 2704, 505, 24, 2601, 230, 2675, 3355, 10, 3290, 4617, 3408, 1885, 3176, 3967, 4320, 4360, 5125, 1262, 5021, 2303, 2234, 3531, 3629, 184, 2461, 128, 3239, 4118, 4027, 2561, 3712, 2642, 2068, 2079, 3581, 3271, 3992, 3695, 4743, 3880, 3685, 3396, 4084, 2189, 3096, 4832, 5090, 4889, 4422, 3566, 2495, 4038, 3428, 2384, 4067, 1898, 3799, 197, 3776]\n",
      "Creating the symbolic link of the video\n",
      "New video was added to the project! Use the function 'extract_frames' to select frames for labeling.\n",
      "The outlier frames are extracted. They are stored in the subdirectory labeled-data\\2010.11.11_19_23_56.\n",
      "Once you extracted frames for all videos, use 'refine_labels' to manually correct the labels.\n"
     ]
    },
    {
     "name": "stderr",
     "output_type": "stream",
     "text": [
      "9it [00:00, 82.36it/s]"
     ]
    },
    {
     "name": "stdout",
     "output_type": "stream",
     "text": [
      "Method  uncertain  found  2271  putative outlier frames.\n",
      "Do you want to proceed with extracting  100  of those?\n",
      "If this list is very large, perhaps consider changing the paramters (start, stop, p_bound, comparisonbodyparts) or use a different method.\n",
      "Loading video...\n",
      "Duration of video [s]:  26.455 , recorded @  200.0 fps!\n",
      "Overall # of frames:  5291 with (cropped) frame dimensions: \n",
      "Kmeans-quantization based extracting of frames from 0.0  seconds to 26.45  seconds.\n",
      "Extracting and downsampling... 2270  frames from the video.\n"
     ]
    },
    {
     "name": "stderr",
     "output_type": "stream",
     "text": [
      "2270it [00:54, 41.31it/s]\n"
     ]
    },
    {
     "name": "stdout",
     "output_type": "stream",
     "text": [
      "Kmeans clustering ... (this might take a while)\n",
      "Let's select frames indices: [4902, 63, 3130, 494, 3727, 763, 1475, 4639, 544, 249, 1700, 4051, 1025, 344, 3660, 1314, 1730, 1491, 3942, 3329, 162, 4443, 221, 1238, 4554, 5035, 3464, 3219, 5090, 3101, 18, 204, 3469, 3032, 4161, 3634, 4009, 3855, 1326, 3626, 4462, 3685, 4414, 4311, 5289, 3575, 4715, 4632, 4969, 3147, 5159, 211, 3185, 83, 192, 3887, 3107, 3971, 4282, 238, 4097, 4839, 3115, 3770, 25, 3790, 4992, 4021, 4866, 5204, 3041, 4364, 3612, 4068, 106, 3161, 3641, 87, 182, 3087, 3866, 229, 4537, 5081, 3907, 3989, 4086, 3716, 4616, 5075, 4209, 50, 4223, 3795, 4766, 4348, 200, 4596, 38]\n",
      "Creating the symbolic link of the video\n",
      "New video was added to the project! Use the function 'extract_frames' to select frames for labeling.\n",
      "The outlier frames are extracted. They are stored in the subdirectory labeled-data\\2010.11.11_19_24_35.\n",
      "Once you extracted frames for all videos, use 'refine_labels' to manually correct the labels.\n"
     ]
    },
    {
     "name": "stderr",
     "output_type": "stream",
     "text": [
      "10it [00:00, 94.87it/s]"
     ]
    },
    {
     "name": "stdout",
     "output_type": "stream",
     "text": [
      "Method  uncertain  found  1281  putative outlier frames.\n",
      "Do you want to proceed with extracting  100  of those?\n",
      "If this list is very large, perhaps consider changing the paramters (start, stop, p_bound, comparisonbodyparts) or use a different method.\n",
      "Loading video...\n",
      "Duration of video [s]:  26.49 , recorded @  200.0 fps!\n",
      "Overall # of frames:  5298 with (cropped) frame dimensions: \n",
      "Kmeans-quantization based extracting of frames from 0.0  seconds to 26.49  seconds.\n",
      "Extracting and downsampling... 1280  frames from the video.\n"
     ]
    },
    {
     "name": "stderr",
     "output_type": "stream",
     "text": [
      "1280it [00:30, 41.84it/s]\n"
     ]
    },
    {
     "name": "stdout",
     "output_type": "stream",
     "text": [
      "Kmeans clustering ... (this might take a while)\n",
      "Let's select frames indices: [1949, 4427, 155, 298, 652, 4899, 392, 503, 4967, 250, 820, 616, 962, 1357, 619, 275, 4342, 673, 607, 1507, 212, 1338, 1581, 3853, 47, 624, 279, 3785, 5062, 610, 1381, 629, 237, 817, 957, 4652, 387, 11, 613, 4311, 4839, 264, 85, 980, 1950, 4466, 2772, 4575, 286, 4724, 272, 640, 4084, 170, 5134, 4182, 1744, 225, 311, 3990, 4224, 4550, 4987, 646, 4515, 62, 1, 4368, 4762, 3837, 4048, 246, 122, 5035, 4449, 277, 1351, 4873, 222, 4145, 5156, 4398, 4756, 3810, 5275, 76, 4379, 4272, 306, 3955, 4521, 289, 5164, 4775, 31, 3512, 4442, 4289, 4825, 282]\n",
      "Creating the symbolic link of the video\n",
      "New video was added to the project! Use the function 'extract_frames' to select frames for labeling.\n",
      "The outlier frames are extracted. They are stored in the subdirectory labeled-data\\2010.11.11_19_25_32.\n",
      "Once you extracted frames for all videos, use 'refine_labels' to manually correct the labels.\n"
     ]
    },
    {
     "name": "stderr",
     "output_type": "stream",
     "text": [
      "\r",
      "0it [00:00, ?it/s]"
     ]
    },
    {
     "name": "stdout",
     "output_type": "stream",
     "text": [
      "Method  uncertain  found  2823  putative outlier frames.\n",
      "Do you want to proceed with extracting  100  of those?\n",
      "If this list is very large, perhaps consider changing the paramters (start, stop, p_bound, comparisonbodyparts) or use a different method.\n",
      "Loading video...\n",
      "Duration of video [s]:  26.45 , recorded @  200.0 fps!\n",
      "Overall # of frames:  5290 with (cropped) frame dimensions: \n",
      "Kmeans-quantization based extracting of frames from 0.0  seconds to 26.45  seconds.\n",
      "Extracting and downsampling... 2823  frames from the video.\n"
     ]
    },
    {
     "name": "stderr",
     "output_type": "stream",
     "text": [
      "2823it [01:07, 41.56it/s]\n"
     ]
    },
    {
     "name": "stdout",
     "output_type": "stream",
     "text": [
      "Kmeans clustering ... (this might take a while)\n",
      "Let's select frames indices: [1399, 351, 3664, 4056, 4718, 890, 3859, 3515, 2615, 439, 3117, 305, 4796, 821, 4642, 721, 3233, 1730, 4241, 4670, 1931, 394, 2234, 2689, 2963, 3426, 3113, 2753, 1034, 1900, 3963, 4752, 3545, 3901, 5116, 578, 508, 331, 3596, 4265, 1276, 239, 284, 261, 820, 4705, 3820, 3682, 3760, 479, 79, 738, 4779, 1916, 269, 4736, 1113, 4205, 381, 1424, 651, 1834, 2000, 3410, 325, 1009, 3100, 4682, 1852, 4652, 4230, 3606, 4624, 3896, 248, 1785, 1550, 2913, 493, 412, 424, 1978, 3537, 4691, 4038, 3886, 4235, 3584, 2655, 1167, 4286, 3736, 3920, 4731, 454, 1669, 927, 3521, 4604, 1891]\n",
      "Creating the symbolic link of the video\n",
      "New video was added to the project! Use the function 'extract_frames' to select frames for labeling.\n",
      "The outlier frames are extracted. They are stored in the subdirectory labeled-data\\2010.11.11_19_26_03.\n",
      "Once you extracted frames for all videos, use 'refine_labels' to manually correct the labels.\n"
     ]
    },
    {
     "name": "stderr",
     "output_type": "stream",
     "text": [
      "\r",
      "0it [00:00, ?it/s]"
     ]
    },
    {
     "name": "stdout",
     "output_type": "stream",
     "text": [
      "Method  uncertain  found  687  putative outlier frames.\n",
      "Do you want to proceed with extracting  100  of those?\n",
      "If this list is very large, perhaps consider changing the paramters (start, stop, p_bound, comparisonbodyparts) or use a different method.\n",
      "Loading video...\n",
      "Duration of video [s]:  26.455 , recorded @  200.0 fps!\n",
      "Overall # of frames:  5291 with (cropped) frame dimensions: \n",
      "Kmeans-quantization based extracting of frames from 0.0  seconds to 26.45  seconds.\n",
      "Extracting and downsampling... 686  frames from the video.\n"
     ]
    },
    {
     "name": "stderr",
     "output_type": "stream",
     "text": [
      "686it [00:16, 40.42it/s]\n"
     ]
    },
    {
     "name": "stdout",
     "output_type": "stream",
     "text": [
      "Kmeans clustering ... (this might take a while)\n",
      "Let's select frames indices: [78, 2348, 225, 499, 402, 376, 1114, 285, 1629, 460, 678, 613, 2832, 891, 434, 2736, 816, 315, 725, 164, 1497, 2378, 347, 420, 519, 267, 639, 2748, 250, 1170, 529, 979, 349, 8, 302, 216, 1652, 383, 510, 1109, 1116, 244, 615, 820, 722, 457, 2841, 144, 2408, 366, 258, 338, 2441, 452, 824, 487, 329, 401, 424, 346, 297, 416, 727, 234, 393, 427, 976, 715, 1640, 281, 336, 1634, 412, 713, 456, 221, 313, 2203, 293, 394, 272, 300, 343, 431, 65, 364, 437, 2827, 2318, 47, 208, 91, 357, 237, 176, 1111, 2902, 2817, 1108, 2780]\n",
      "Creating the symbolic link of the video\n",
      "New video was added to the project! Use the function 'extract_frames' to select frames for labeling.\n",
      "The outlier frames are extracted. They are stored in the subdirectory labeled-data\\2010.11.11_19_27_08.\n",
      "Once you extracted frames for all videos, use 'refine_labels' to manually correct the labels.\n"
     ]
    },
    {
     "name": "stderr",
     "output_type": "stream",
     "text": [
      "\r",
      "0it [00:00, ?it/s]"
     ]
    },
    {
     "name": "stdout",
     "output_type": "stream",
     "text": [
      "Method  uncertain  found  2824  putative outlier frames.\n",
      "Do you want to proceed with extracting  100  of those?\n",
      "If this list is very large, perhaps consider changing the paramters (start, stop, p_bound, comparisonbodyparts) or use a different method.\n",
      "Loading video...\n",
      "Duration of video [s]:  26.435 , recorded @  200.0 fps!\n",
      "Overall # of frames:  5287 with (cropped) frame dimensions: \n",
      "Kmeans-quantization based extracting of frames from 0.0  seconds to 26.43  seconds.\n",
      "Extracting and downsampling... 2824  frames from the video.\n"
     ]
    },
    {
     "name": "stderr",
     "output_type": "stream",
     "text": [
      "2824it [01:09, 40.85it/s]\n"
     ]
    },
    {
     "name": "stdout",
     "output_type": "stream",
     "text": [
      "Kmeans clustering ... (this might take a while)\n",
      "Let's select frames indices: [4401, 2448, 4856, 3908, 2156, 1070, 3372, 1275, 2658, 2921, 4667, 3533, 5238, 45, 3425, 3674, 720, 1988, 3153, 1488, 2737, 3455, 806, 1145, 3523, 1088, 5059, 1860, 1519, 3820, 4642, 3515, 1302, 3759, 4383, 3483, 4753, 3096, 3170, 2357, 3690, 3505, 3337, 1084, 2681, 2911, 4131, 3882, 3339, 3530, 4065, 3616, 5099, 1501, 2709, 3392, 4264, 2509, 4190, 3992, 2164, 1662, 3849, 3969, 2674, 5285, 1885, 4431, 3792, 2484, 2269, 4737, 1050, 4804, 985, 4614, 3469, 4031, 5031, 4654, 522, 1487, 4248, 3772, 1250, 198, 1289, 4023, 4088, 2262, 3753, 3805, 4710, 3716, 2644, 4106, 1508, 4886, 4185, 3967]\n",
      "Creating the symbolic link of the video\n",
      "New video was added to the project! Use the function 'extract_frames' to select frames for labeling.\n",
      "The outlier frames are extracted. They are stored in the subdirectory labeled-data\\2010.11.11_19_27_51.\n",
      "Once you extracted frames for all videos, use 'refine_labels' to manually correct the labels.\n"
     ]
    },
    {
     "name": "stderr",
     "output_type": "stream",
     "text": [
      "\r",
      "0it [00:00, ?it/s]"
     ]
    },
    {
     "name": "stdout",
     "output_type": "stream",
     "text": [
      "Method  uncertain  found  1226  putative outlier frames.\n",
      "Do you want to proceed with extracting  100  of those?\n",
      "If this list is very large, perhaps consider changing the paramters (start, stop, p_bound, comparisonbodyparts) or use a different method.\n",
      "Loading video...\n",
      "Duration of video [s]:  26.44 , recorded @  200.0 fps!\n",
      "Overall # of frames:  5288 with (cropped) frame dimensions: \n",
      "Kmeans-quantization based extracting of frames from 0.0  seconds to 26.44  seconds.\n",
      "Extracting and downsampling... 1226  frames from the video.\n"
     ]
    },
    {
     "name": "stderr",
     "output_type": "stream",
     "text": [
      "1226it [00:30, 40.04it/s]\n"
     ]
    },
    {
     "name": "stdout",
     "output_type": "stream",
     "text": [
      "Kmeans clustering ... (this might take a while)\n",
      "Let's select frames indices: [2686, 1677, 3714, 1232, 1179, 691, 5124, 173, 4418, 1940, 2366, 3537, 621, 3800, 3286, 1647, 983, 578, 2386, 2529, 3383, 385, 1289, 1883, 1189, 1970, 1634, 833, 530, 4385, 858, 285, 3667, 3818, 704, 5232, 2517, 739, 2598, 3760, 1205, 3131, 3735, 3400, 1293, 1276, 1587, 584, 3837, 3617, 3236, 2620, 616, 3357, 2355, 3508, 3246, 609, 5202, 3626, 3748, 3440, 3611, 3694, 1216, 1641, 1625, 3093, 1196, 984, 3776, 3331, 2589, 3928, 1191, 697, 3810, 5235, 3348, 3703, 1265, 1653, 2635, 1271, 2372, 3411, 3543, 1926, 4410, 2546, 5126, 2392, 3472, 4390, 2371, 2358, 687, 3790, 1643, 3272]\n",
      "Creating the symbolic link of the video\n",
      "New video was added to the project! Use the function 'extract_frames' to select frames for labeling.\n",
      "The outlier frames are extracted. They are stored in the subdirectory labeled-data\\2010.11.11_19_28_35.\n",
      "Once you extracted frames for all videos, use 'refine_labels' to manually correct the labels.\n"
     ]
    },
    {
     "name": "stderr",
     "output_type": "stream",
     "text": [
      "\r",
      "0it [00:00, ?it/s]"
     ]
    },
    {
     "name": "stdout",
     "output_type": "stream",
     "text": [
      "Method  uncertain  found  3280  putative outlier frames.\n",
      "Do you want to proceed with extracting  100  of those?\n",
      "If this list is very large, perhaps consider changing the paramters (start, stop, p_bound, comparisonbodyparts) or use a different method.\n",
      "Loading video...\n",
      "Duration of video [s]:  26.535 , recorded @  200.0 fps!\n",
      "Overall # of frames:  5307 with (cropped) frame dimensions: \n",
      "Kmeans-quantization based extracting of frames from 0.0  seconds to 26.54  seconds.\n",
      "Extracting and downsampling... 3279  frames from the video.\n"
     ]
    },
    {
     "name": "stderr",
     "output_type": "stream",
     "text": [
      "3279it [01:19, 41.42it/s]\n"
     ]
    },
    {
     "name": "stdout",
     "output_type": "stream",
     "text": [
      "Kmeans clustering ... (this might take a while)\n",
      "Let's select frames indices: [4864, 1665, 309, 3580, 131, 5023, 618, 3861, 2519, 2743, 4116, 1475, 2147, 2508, 3783, 3047, 582, 4953, 1047, 1609, 2751, 1754, 3487, 823, 3077, 2142, 2718, 4748, 2057, 281, 1470, 3708, 607, 428, 473, 1070, 2127, 3900, 5152, 2775, 224, 3368, 3421, 1951, 3684, 2005, 3405, 260, 4188, 2182, 39, 378, 3809, 4348, 3840, 4021, 611, 333, 3931, 3155, 3676, 4539, 3478, 1330, 1587, 5073, 4986, 1846, 2163, 3695, 2014, 4323, 1455, 2748, 4548, 3990, 1566, 1516, 3601, 3758, 1698, 5294, 2042, 5017, 1538, 4971, 3830, 4375, 3939, 4945, 4917, 4335, 4089, 3392, 3800, 3738, 1426, 3662, 2071, 359]\n",
      "Creating the symbolic link of the video\n",
      "New video was added to the project! Use the function 'extract_frames' to select frames for labeling.\n",
      "The outlier frames are extracted. They are stored in the subdirectory labeled-data\\2010.11.11_19_29_09.\n",
      "Once you extracted frames for all videos, use 'refine_labels' to manually correct the labels.\n"
     ]
    },
    {
     "name": "stderr",
     "output_type": "stream",
     "text": [
      "10it [00:00, 93.45it/s]"
     ]
    },
    {
     "name": "stdout",
     "output_type": "stream",
     "text": [
      "Method  uncertain  found  693  putative outlier frames.\n",
      "Do you want to proceed with extracting  100  of those?\n",
      "If this list is very large, perhaps consider changing the paramters (start, stop, p_bound, comparisonbodyparts) or use a different method.\n",
      "Loading video...\n",
      "Duration of video [s]:  26.425 , recorded @  200.0 fps!\n",
      "Overall # of frames:  5285 with (cropped) frame dimensions: \n",
      "Kmeans-quantization based extracting of frames from 0.0  seconds to 26.43  seconds.\n",
      "Extracting and downsampling... 692  frames from the video.\n"
     ]
    },
    {
     "name": "stderr",
     "output_type": "stream",
     "text": [
      "692it [00:17, 40.67it/s]\n"
     ]
    },
    {
     "name": "stdout",
     "output_type": "stream",
     "text": [
      "Kmeans clustering ... (this might take a while)\n",
      "Let's select frames indices: [2305, 2301, 138, 67, 416, 331, 815, 394, 606, 2937, 557, 2347, 1717, 221, 313, 837, 1108, 685, 1656, 1038, 2336, 355, 2036, 698, 2119, 1642, 533, 521, 242, 309, 377, 28, 322, 1557, 640, 619, 2953, 538, 836, 426, 559, 328, 1243, 2077, 696, 232, 700, 666, 677, 2354, 349, 405, 1600, 687, 196, 210, 879, 535, 508, 50, 829, 396, 668, 2319, 388, 418, 1037, 2205, 547, 2251, 688, 86, 370, 408, 414, 528, 1048, 345, 2101, 671, 661, 1107, 320, 2362, 398, 542, 507, 341, 411, 65, 2189, 2284, 249, 360, 1060, 554, 2360, 403, 362, 2956]\n",
      "Creating the symbolic link of the video\n",
      "New video was added to the project! Use the function 'extract_frames' to select frames for labeling.\n",
      "The outlier frames are extracted. They are stored in the subdirectory labeled-data\\2010.11.11_19_29_44.\n",
      "Once you extracted frames for all videos, use 'refine_labels' to manually correct the labels.\n"
     ]
    },
    {
     "name": "stderr",
     "output_type": "stream",
     "text": [
      "\r",
      "0it [00:00, ?it/s]"
     ]
    },
    {
     "name": "stdout",
     "output_type": "stream",
     "text": [
      "Method  uncertain  found  1259  putative outlier frames.\n",
      "Do you want to proceed with extracting  100  of those?\n",
      "If this list is very large, perhaps consider changing the paramters (start, stop, p_bound, comparisonbodyparts) or use a different method.\n",
      "Loading video...\n",
      "Duration of video [s]:  26.44 , recorded @  200.0 fps!\n",
      "Overall # of frames:  5288 with (cropped) frame dimensions: \n",
      "Kmeans-quantization based extracting of frames from 0.0  seconds to 26.44  seconds.\n",
      "Extracting and downsampling... 1259  frames from the video.\n"
     ]
    },
    {
     "name": "stderr",
     "output_type": "stream",
     "text": [
      "1259it [00:31, 39.99it/s]\n"
     ]
    },
    {
     "name": "stdout",
     "output_type": "stream",
     "text": [
      "Kmeans clustering ... (this might take a while)\n",
      "Let's select frames indices: [4602, 2854, 419, 4547, 910, 2625, 2014, 4356, 274, 4170, 2665, 2735, 316, 251, 583, 935, 1737, 3207, 1953, 3789, 4452, 383, 948, 2712, 1315, 447, 1521, 309, 898, 4338, 5210, 349, 263, 3049, 2397, 243, 2961, 4305, 2603, 2636, 2681, 4389, 2231, 2794, 3773, 3148, 325, 952, 2720, 4637, 2106, 875, 4492, 4406, 257, 2653, 289, 1949, 2869, 3233, 277, 2696, 3798, 2767, 2648, 261, 947, 698, 4592, 2630, 916, 4480, 4543, 886, 951, 3220, 2670, 2686, 2672, 4318, 4422, 4167, 2709, 4313, 2774, 3096, 1422, 4300, 4596, 4601, 1957, 445, 4533, 2906, 1314, 4734, 1510, 2729, 2598]\n",
      "Creating the symbolic link of the video\n",
      "New video was added to the project! Use the function 'extract_frames' to select frames for labeling.\n",
      "The outlier frames are extracted. They are stored in the subdirectory labeled-data\\2010.11.11_19_31_04.\n",
      "Once you extracted frames for all videos, use 'refine_labels' to manually correct the labels.\n"
     ]
    },
    {
     "name": "stderr",
     "output_type": "stream",
     "text": [
      "\r",
      "0it [00:00, ?it/s]"
     ]
    },
    {
     "name": "stdout",
     "output_type": "stream",
     "text": [
      "Method  uncertain  found  1069  putative outlier frames.\n",
      "Do you want to proceed with extracting  100  of those?\n",
      "If this list is very large, perhaps consider changing the paramters (start, stop, p_bound, comparisonbodyparts) or use a different method.\n",
      "Loading video...\n",
      "Duration of video [s]:  26.46 , recorded @  200.0 fps!\n",
      "Overall # of frames:  5292 with (cropped) frame dimensions: \n",
      "Kmeans-quantization based extracting of frames from 0.0  seconds to 26.46  seconds.\n",
      "Extracting and downsampling... 1069  frames from the video.\n"
     ]
    },
    {
     "name": "stderr",
     "output_type": "stream",
     "text": [
      "1069it [00:26, 39.74it/s]\n"
     ]
    },
    {
     "name": "stdout",
     "output_type": "stream",
     "text": [
      "Kmeans clustering ... (this might take a while)\n",
      "Let's select frames indices: [3162, 2789, 507, 2454, 1716, 849, 1610, 2480, 316, 2574, 2980, 2331, 258, 544, 613, 2409, 518, 1276, 460, 994, 5187, 471, 1163, 736, 2684, 3165, 2703, 3175, 1883, 3101, 487, 458, 3131, 2541, 2357, 2889, 3052, 1658, 1831, 1341, 1390, 3074, 2940, 2708, 2010, 2381, 625, 597, 3112, 514, 522, 2438, 371, 438, 511, 467, 599, 2352, 2366, 2594, 335, 1684, 2430, 2780, 2587, 3048, 559, 3156, 734, 3151, 2423, 1272, 2398, 2299, 2832, 2689, 2469, 1708, 2831, 3108, 2452, 2920, 2348, 2692, 497, 3178, 587, 2443, 3171, 2758, 2418, 2363, 2734, 2646, 2499, 5186, 2549, 2769, 2387, 2841]\n",
      "Creating the symbolic link of the video\n",
      "New video was added to the project! Use the function 'extract_frames' to select frames for labeling.\n",
      "The outlier frames are extracted. They are stored in the subdirectory labeled-data\\2010.11.11_19_33_14.\n",
      "Once you extracted frames for all videos, use 'refine_labels' to manually correct the labels.\n"
     ]
    },
    {
     "name": "stderr",
     "output_type": "stream",
     "text": [
      "3it [00:00, 29.42it/s]"
     ]
    },
    {
     "name": "stdout",
     "output_type": "stream",
     "text": [
      "Method  uncertain  found  2244  putative outlier frames.\n",
      "Do you want to proceed with extracting  100  of those?\n",
      "If this list is very large, perhaps consider changing the paramters (start, stop, p_bound, comparisonbodyparts) or use a different method.\n",
      "Loading video...\n",
      "Duration of video [s]:  26.44 , recorded @  200.0 fps!\n",
      "Overall # of frames:  5288 with (cropped) frame dimensions: \n",
      "Kmeans-quantization based extracting of frames from 0.0  seconds to 26.44  seconds.\n",
      "Extracting and downsampling... 2243  frames from the video.\n"
     ]
    },
    {
     "name": "stderr",
     "output_type": "stream",
     "text": [
      "2243it [00:54, 41.25it/s]\n"
     ]
    },
    {
     "name": "stdout",
     "output_type": "stream",
     "text": [
      "Kmeans clustering ... (this might take a while)\n",
      "Let's select frames indices: [4928, 3130, 1658, 3255, 2441, 939, 4253, 2512, 1873, 4554, 2689, 306, 636, 4658, 2743, 2426, 1986, 1175, 296, 3197, 3938, 284, 2381, 2653, 3408, 1490, 2152, 1737, 3332, 1962, 360, 2885, 4063, 313, 2320, 1594, 4408, 2606, 2519, 3999, 3357, 603, 4160, 4728, 2012, 4416, 3072, 350, 1686, 1745, 2000, 3182, 454, 5208, 1970, 4470, 5275, 3360, 1650, 4014, 2285, 2431, 2395, 1192, 2460, 2167, 2515, 1220, 2755, 4580, 4905, 3124, 4112, 4006, 4040, 4504, 1444, 1707, 4713, 3960, 2664, 3103, 2756, 2880, 3374, 4450, 963, 3044, 4236, 2294, 1528, 1875, 1973, 4830, 2373, 5244, 4347, 3172, 2003, 4290]\n",
      "Creating the symbolic link of the video\n",
      "New video was added to the project! Use the function 'extract_frames' to select frames for labeling.\n",
      "The outlier frames are extracted. They are stored in the subdirectory labeled-data\\2010.11.11_19_34_03.\n",
      "Once you extracted frames for all videos, use 'refine_labels' to manually correct the labels.\n"
     ]
    },
    {
     "name": "stderr",
     "output_type": "stream",
     "text": [
      "\r",
      "0it [00:00, ?it/s]"
     ]
    },
    {
     "name": "stdout",
     "output_type": "stream",
     "text": [
      "Method  uncertain  found  330  putative outlier frames.\n",
      "Do you want to proceed with extracting  100  of those?\n",
      "If this list is very large, perhaps consider changing the paramters (start, stop, p_bound, comparisonbodyparts) or use a different method.\n",
      "Loading video...\n",
      "Duration of video [s]:  27.05 , recorded @  200.0 fps!\n",
      "Overall # of frames:  5410 with (cropped) frame dimensions: \n",
      "Kmeans-quantization based extracting of frames from 0.0  seconds to 27.05  seconds.\n",
      "Extracting and downsampling... 330  frames from the video.\n"
     ]
    },
    {
     "name": "stderr",
     "output_type": "stream",
     "text": [
      "330it [00:08, 40.33it/s]\n"
     ]
    },
    {
     "name": "stdout",
     "output_type": "stream",
     "text": [
      "Kmeans clustering ... (this might take a while)\n",
      "Let's select frames indices: [354, 90, 241, 1458, 723, 151, 698, 548, 7, 104, 54, 135, 684, 200, 113, 229, 2060, 180, 1280, 709, 163, 1081, 249, 55, 555, 732, 120, 130, 219, 677, 1479, 2936, 2220, 188, 948, 737, 77, 207, 155, 88, 108, 212, 968, 550, 687, 2824, 346, 63, 248, 191, 1839, 1466, 179, 137, 81, 672, 79, 361, 72, 707, 74, 234, 183, 198, 98, 148, 1456, 660, 93, 223, 1075, 159, 97, 166, 721, 695, 161, 353, 68, 106, 115, 169, 649, 1698, 95, 64, 111, 557, 730, 237, 164, 102, 132, 1475, 735, 211, 67, 701, 345, 740]\n",
      "Creating the symbolic link of the video\n",
      "New video was added to the project! Use the function 'extract_frames' to select frames for labeling.\n",
      "The outlier frames are extracted. They are stored in the subdirectory labeled-data\\2010.11.11_11_08_01.\n",
      "Once you extracted frames for all videos, use 'refine_labels' to manually correct the labels.\n"
     ]
    },
    {
     "name": "stderr",
     "output_type": "stream",
     "text": [
      "\r",
      "0it [00:00, ?it/s]"
     ]
    },
    {
     "name": "stdout",
     "output_type": "stream",
     "text": [
      "Method  uncertain  found  233  putative outlier frames.\n",
      "Do you want to proceed with extracting  100  of those?\n",
      "If this list is very large, perhaps consider changing the paramters (start, stop, p_bound, comparisonbodyparts) or use a different method.\n",
      "Loading video...\n",
      "Duration of video [s]:  26.985 , recorded @  200.0 fps!\n",
      "Overall # of frames:  5397 with (cropped) frame dimensions: \n",
      "Kmeans-quantization based extracting of frames from 0.0  seconds to 26.98  seconds.\n",
      "Extracting and downsampling... 233  frames from the video.\n"
     ]
    },
    {
     "name": "stderr",
     "output_type": "stream",
     "text": [
      "233it [00:05, 39.24it/s]\n"
     ]
    },
    {
     "name": "stdout",
     "output_type": "stream",
     "text": [
      "Kmeans clustering ... (this might take a while)\n",
      "Let's select frames indices: [1910, 1632, 2327, 2653, 1872, 2268, 509, 2339, 1060, 2261, 816, 2346, 1725, 1951, 1768, 1313, 1326, 1793, 2246, 2322, 1511, 1936, 2438, 1647, 2643, 692, 1893, 1280, 1902, 2285, 1952, 1926, 1065, 2456, 2666, 1637, 1883, 1066, 1056, 2350, 2254, 1727, 1863, 2310, 1941, 2333, 2343, 2090, 1053, 1932, 1959, 1509, 511, 2337, 812, 1906, 2661, 1938, 1899, 2354, 2652, 2321, 1058, 2263, 1325, 2648, 2344, 1061, 2256, 1855, 1918, 818, 2270, 2251, 1057, 1877, 2325, 2342, 1771, 1889, 1895, 1636, 1880, 1956, 1634, 1930, 1937, 2265, 1314, 1942, 1724, 1940, 1059, 1796, 510, 2658, 1630, 2439, 2332, 2257]\n",
      "Creating the symbolic link of the video\n",
      "New video was added to the project! Use the function 'extract_frames' to select frames for labeling.\n",
      "The outlier frames are extracted. They are stored in the subdirectory labeled-data\\2010.11.11_11_11_18.\n",
      "Once you extracted frames for all videos, use 'refine_labels' to manually correct the labels.\n"
     ]
    },
    {
     "name": "stderr",
     "output_type": "stream",
     "text": [
      "\r",
      "0it [00:00, ?it/s]"
     ]
    },
    {
     "name": "stdout",
     "output_type": "stream",
     "text": [
      "Method  uncertain  found  411  putative outlier frames.\n",
      "Do you want to proceed with extracting  100  of those?\n",
      "If this list is very large, perhaps consider changing the paramters (start, stop, p_bound, comparisonbodyparts) or use a different method.\n",
      "Loading video...\n",
      "Duration of video [s]:  26.945 , recorded @  200.0 fps!\n",
      "Overall # of frames:  5389 with (cropped) frame dimensions: \n",
      "Kmeans-quantization based extracting of frames from 0.0  seconds to 26.95  seconds.\n",
      "Extracting and downsampling... 411  frames from the video.\n"
     ]
    },
    {
     "name": "stderr",
     "output_type": "stream",
     "text": [
      "411it [00:10, 38.69it/s]\n"
     ]
    },
    {
     "name": "stdout",
     "output_type": "stream",
     "text": [
      "Kmeans clustering ... (this might take a while)\n",
      "Let's select frames indices: [599, 2653, 2367, 843, 1758, 2511, 1541, 2156, 2418, 4700, 1516, 1949, 492, 2562, 2488, 5219, 566, 4841, 2314, 481, 2756, 5098, 1508, 3210, 828, 944, 1784, 501, 4597, 821, 1777, 2768, 2686, 1552, 2401, 942, 812, 1168, 2403, 267, 2081, 5208, 1705, 2308, 5376, 2146, 1745, 2522, 1538, 2413, 2544, 483, 5213, 2536, 2198, 2153, 2600, 2492, 2150, 292, 1772, 1494, 667, 740, 2643, 2534, 2344, 1764, 2335, 4628, 819, 2159, 5212, 5102, 1753, 2359, 1550, 824, 641, 1143, 553, 2778, 816, 2161, 328, 2115, 841, 1520, 3214, 2313, 2520, 2504, 1147, 1507, 1947, 1782, 834, 2473, 2428]\n",
      "Creating the symbolic link of the video\n",
      "New video was added to the project! Use the function 'extract_frames' to select frames for labeling.\n",
      "The outlier frames are extracted. They are stored in the subdirectory labeled-data\\2010.11.11_11_14_24.\n",
      "Once you extracted frames for all videos, use 'refine_labels' to manually correct the labels.\n"
     ]
    },
    {
     "name": "stderr",
     "output_type": "stream",
     "text": [
      "\r",
      "0it [00:00, ?it/s]"
     ]
    },
    {
     "name": "stdout",
     "output_type": "stream",
     "text": [
      "Method  uncertain  found  391  putative outlier frames.\n",
      "Do you want to proceed with extracting  100  of those?\n",
      "If this list is very large, perhaps consider changing the paramters (start, stop, p_bound, comparisonbodyparts) or use a different method.\n",
      "Loading video...\n",
      "Duration of video [s]:  27.01 , recorded @  200.0 fps!\n",
      "Overall # of frames:  5402 with (cropped) frame dimensions: \n",
      "Kmeans-quantization based extracting of frames from 0.0  seconds to 27.01  seconds.\n",
      "Extracting and downsampling... 390  frames from the video.\n"
     ]
    },
    {
     "name": "stderr",
     "output_type": "stream",
     "text": [
      "390it [00:10, 38.08it/s]\n"
     ]
    },
    {
     "name": "stdout",
     "output_type": "stream",
     "text": [
      "Kmeans clustering ... (this might take a while)\n",
      "Let's select frames indices: [1964, 111, 2590, 1589, 346, 1562, 1507, 2156, 1420, 1812, 727, 2465, 2117, 1619, 1472, 1078, 361, 1521, 1832, 1434, 1464, 1946, 1594, 221, 1578, 259, 672, 2142, 367, 1526, 736, 1951, 978, 1820, 1571, 1494, 2496, 1242, 244, 1082, 1935, 1503, 1160, 1630, 8, 1517, 1488, 1072, 278, 1800, 733, 605, 2153, 2462, 742, 1536, 1616, 1436, 1591, 369, 1538, 2112, 402, 1804, 118, 1807, 1415, 1956, 1834, 1411, 18, 1541, 363, 1475, 1462, 1428, 1555, 2580, 76, 1511, 1830, 1501, 204, 1816, 1947, 261, 1801, 99, 666, 2471, 1480, 2147, 1572, 1568, 344, 371, 2163, 1532, 2589, 1937]\n",
      "Creating the symbolic link of the video\n",
      "New video was added to the project! Use the function 'extract_frames' to select frames for labeling.\n",
      "The outlier frames are extracted. They are stored in the subdirectory labeled-data\\2010.11.11_12_02_44.\n",
      "Once you extracted frames for all videos, use 'refine_labels' to manually correct the labels.\n"
     ]
    },
    {
     "name": "stderr",
     "output_type": "stream",
     "text": [
      "\r",
      "0it [00:00, ?it/s]"
     ]
    },
    {
     "name": "stdout",
     "output_type": "stream",
     "text": [
      "Method  uncertain  found  1421  putative outlier frames.\n",
      "Do you want to proceed with extracting  100  of those?\n",
      "If this list is very large, perhaps consider changing the paramters (start, stop, p_bound, comparisonbodyparts) or use a different method.\n",
      "Loading video...\n",
      "Duration of video [s]:  26.46 , recorded @  200.0 fps!\n",
      "Overall # of frames:  5292 with (cropped) frame dimensions: \n",
      "Kmeans-quantization based extracting of frames from 0.0  seconds to 26.46  seconds.\n",
      "Extracting and downsampling... 1421  frames from the video.\n"
     ]
    },
    {
     "name": "stderr",
     "output_type": "stream",
     "text": [
      "1421it [00:35, 39.84it/s]\n"
     ]
    },
    {
     "name": "stdout",
     "output_type": "stream",
     "text": [
      "Kmeans clustering ... (this might take a while)\n",
      "Let's select frames indices: [1210, 4808, 3502, 2175, 3965, 2888, 4515, 117, 3539, 2106, 4838, 1259, 257, 3329, 5039, 3164, 4657, 3556, 1117, 3763, 165, 2075, 1670, 2790, 1095, 2173, 2657, 1301, 5243, 3314, 2013, 4682, 1220, 813, 2133, 2224, 4638, 2034, 714, 3520, 3184, 4769, 4567, 5142, 4561, 3485, 1247, 3420, 454, 4397, 2255, 1277, 3158, 41, 1194, 2090, 345, 3800, 3309, 2806, 2859, 4888, 3424, 4686, 2197, 2428, 3496, 2097, 1281, 2706, 122, 1562, 2137, 4648, 1653, 3167, 274, 4880, 3509, 3523, 3324, 16, 2121, 4553, 1272, 3546, 96, 3929, 3974, 3143, 3315, 1260, 4474, 3499, 4594, 1328, 876, 3793, 4885, 2229]\n",
      "Creating the symbolic link of the video\n",
      "New video was added to the project! Use the function 'extract_frames' to select frames for labeling.\n",
      "The outlier frames are extracted. They are stored in the subdirectory labeled-data\\2010.11.11_13_34_46.\n",
      "Once you extracted frames for all videos, use 'refine_labels' to manually correct the labels.\n"
     ]
    },
    {
     "name": "stderr",
     "output_type": "stream",
     "text": [
      "\r",
      "0it [00:00, ?it/s]"
     ]
    },
    {
     "name": "stdout",
     "output_type": "stream",
     "text": [
      "Method  uncertain  found  303  putative outlier frames.\n",
      "Do you want to proceed with extracting  100  of those?\n",
      "If this list is very large, perhaps consider changing the paramters (start, stop, p_bound, comparisonbodyparts) or use a different method.\n",
      "Loading video...\n",
      "Duration of video [s]:  27.005 , recorded @  200.0 fps!\n",
      "Overall # of frames:  5401 with (cropped) frame dimensions: \n",
      "Kmeans-quantization based extracting of frames from 0.0  seconds to 27.0  seconds.\n",
      "Extracting and downsampling... 303  frames from the video.\n"
     ]
    },
    {
     "name": "stderr",
     "output_type": "stream",
     "text": [
      "303it [00:07, 38.20it/s]\n"
     ]
    },
    {
     "name": "stdout",
     "output_type": "stream",
     "text": [
      "Kmeans clustering ... (this might take a while)\n",
      "Let's select frames indices: [495, 637, 347, 2071, 979, 1014, 1897, 850, 424, 2351, 995, 2051, 580, 2006, 365, 242, 985, 2700, 517, 644, 1003, 1145, 2305, 596, 1797, 1273, 1402, 328, 1319, 1887, 2088, 1017, 357, 982, 467, 2094, 436, 633, 923, 2005, 1954, 1016, 1010, 976, 2347, 551, 846, 380, 639, 594, 432, 348, 361, 373, 338, 345, 1882, 567, 588, 997, 640, 981, 986, 485, 977, 510, 849, 638, 643, 354, 1139, 993, 998, 635, 533, 1007, 2052, 2349, 442, 565, 595, 375, 983, 337, 980, 592, 1015, 371, 476, 598, 852, 236, 326, 2352, 335, 1005, 364, 434, 488, 439]\n",
      "Creating the symbolic link of the video\n",
      "New video was added to the project! Use the function 'extract_frames' to select frames for labeling.\n",
      "The outlier frames are extracted. They are stored in the subdirectory labeled-data\\2010.11.11_15_54_24.\n",
      "Once you extracted frames for all videos, use 'refine_labels' to manually correct the labels.\n"
     ]
    },
    {
     "name": "stderr",
     "output_type": "stream",
     "text": [
      "\r",
      "0it [00:00, ?it/s]"
     ]
    },
    {
     "name": "stdout",
     "output_type": "stream",
     "text": [
      "Method  uncertain  found  2343  putative outlier frames.\n",
      "Do you want to proceed with extracting  100  of those?\n",
      "If this list is very large, perhaps consider changing the paramters (start, stop, p_bound, comparisonbodyparts) or use a different method.\n",
      "Loading video...\n",
      "Duration of video [s]:  27.05 , recorded @  200.0 fps!\n",
      "Overall # of frames:  5410 with (cropped) frame dimensions: \n",
      "Kmeans-quantization based extracting of frames from 0.0  seconds to 27.05  seconds.\n",
      "Extracting and downsampling... 2343  frames from the video.\n"
     ]
    },
    {
     "name": "stderr",
     "output_type": "stream",
     "text": [
      "2343it [00:55, 42.50it/s]\n"
     ]
    },
    {
     "name": "stdout",
     "output_type": "stream",
     "text": [
      "Kmeans clustering ... (this might take a while)\n",
      "Let's select frames indices: [4205, 3023, 2821, 367, 144, 1907, 2711, 4907, 2557, 247, 1550, 2578, 525, 4498, 3854, 773, 2517, 2785, 874, 4036, 916, 3075, 87, 2846, 3733, 1867, 4369, 2870, 4383, 2778, 4759, 2780, 4543, 2717, 4784, 4322, 4951, 4805, 4147, 225, 3063, 4327, 1794, 2878, 3998, 5375, 3777, 4362, 5251, 1970, 4632, 4376, 4317, 269, 4328, 4518, 4276, 4438, 3822, 4113, 4458, 1977, 1169, 2773, 4666, 3887, 3875, 2859, 3767, 2753, 5038, 4948, 4570, 1883, 4312, 2805, 4706, 4526, 3862, 4135, 159, 4318, 2742, 4969, 4025, 3827, 4827, 4412, 4313, 4335, 4082, 3070, 4121, 3927, 5095, 4006, 3619, 5074, 1887, 4295]\n",
      "Creating the symbolic link of the video\n",
      "New video was added to the project! Use the function 'extract_frames' to select frames for labeling.\n",
      "The outlier frames are extracted. They are stored in the subdirectory labeled-data\\2010.11.11_16_00_49.\n",
      "Once you extracted frames for all videos, use 'refine_labels' to manually correct the labels.\n"
     ]
    },
    {
     "name": "stderr",
     "output_type": "stream",
     "text": [
      "\r",
      "0it [00:00, ?it/s]"
     ]
    },
    {
     "name": "stdout",
     "output_type": "stream",
     "text": [
      "Method  uncertain  found  3738  putative outlier frames.\n",
      "Do you want to proceed with extracting  100  of those?\n",
      "If this list is very large, perhaps consider changing the paramters (start, stop, p_bound, comparisonbodyparts) or use a different method.\n",
      "Loading video...\n",
      "Duration of video [s]:  27.01 , recorded @  200.0 fps!\n",
      "Overall # of frames:  5402 with (cropped) frame dimensions: \n",
      "Kmeans-quantization based extracting of frames from 0.0  seconds to 27.01  seconds.\n",
      "Extracting and downsampling... 3738  frames from the video.\n"
     ]
    },
    {
     "name": "stderr",
     "output_type": "stream",
     "text": [
      "3738it [01:28, 42.06it/s]\n"
     ]
    },
    {
     "name": "stdout",
     "output_type": "stream",
     "text": [
      "Kmeans clustering ... (this might take a while)\n",
      "Let's select frames indices: [4107, 2177, 2662, 672, 328, 1503, 3505, 903, 2269, 512, 939, 1779, 1037, 791, 1230, 4770, 2424, 819, 1736, 2897, 1060, 1595, 1906, 367, 1050, 3220, 2136, 3792, 1008, 5385, 1897, 3599, 1775, 3921, 502, 652, 524, 2153, 4198, 2480, 5322, 2605, 5391, 916, 3575, 3343, 5366, 1130, 2341, 5197, 2218, 2967, 2834, 5244, 5359, 3297, 4337, 2774, 3052, 3679, 2536, 4525, 2116, 1640, 4865, 2067, 3145, 3862, 4456, 2028, 2765, 2400, 3372, 1012, 4846, 3191, 3970, 3657, 2372, 4721, 3740, 3486, 4391, 3628, 2300, 5019, 5315, 1493, 3416, 2714, 3377, 5231, 2472, 2974, 303, 4850, 4273, 2798, 3497, 4681]\n",
      "Creating the symbolic link of the video\n",
      "New video was added to the project! Use the function 'extract_frames' to select frames for labeling.\n",
      "The outlier frames are extracted. They are stored in the subdirectory labeled-data\\2010.11.11_17_39_39.\n",
      "Once you extracted frames for all videos, use 'refine_labels' to manually correct the labels.\n"
     ]
    },
    {
     "name": "stderr",
     "output_type": "stream",
     "text": [
      "\r",
      "0it [00:00, ?it/s]"
     ]
    },
    {
     "name": "stdout",
     "output_type": "stream",
     "text": [
      "Method  uncertain  found  3314  putative outlier frames.\n",
      "Do you want to proceed with extracting  100  of those?\n",
      "If this list is very large, perhaps consider changing the paramters (start, stop, p_bound, comparisonbodyparts) or use a different method.\n",
      "Loading video...\n",
      "Duration of video [s]:  27.0 , recorded @  200.0 fps!\n",
      "Overall # of frames:  5400 with (cropped) frame dimensions: \n",
      "Kmeans-quantization based extracting of frames from 0.0  seconds to 27.0  seconds.\n",
      "Extracting and downsampling... 3314  frames from the video.\n"
     ]
    },
    {
     "name": "stderr",
     "output_type": "stream",
     "text": [
      "3314it [01:18, 42.08it/s]\n"
     ]
    },
    {
     "name": "stdout",
     "output_type": "stream",
     "text": [
      "Kmeans clustering ... (this might take a while)\n",
      "Let's select frames indices: [3858, 3740, 1369, 3160, 1143, 2644, 1761, 1860, 290, 2286, 1425, 806, 4763, 3367, 944, 5181, 2440, 1388, 535, 945, 399, 3013, 1115, 2483, 1715, 1571, 1003, 1073, 684, 1663, 747, 823, 3869, 1253, 1136, 4094, 1113, 2246, 3449, 1997, 2377, 3301, 1746, 373, 4217, 1367, 2895, 4076, 286, 1886, 2416, 3137, 3562, 4966, 1149, 3254, 2531, 1433, 2549, 1858, 4849, 3210, 2177, 2836, 4570, 3661, 365, 1764, 3406, 2789, 4400, 4633, 3189, 3130, 3387, 2268, 3791, 3945, 523, 4369, 3491, 1879, 1731, 3279, 4198, 4269, 3786, 3257, 4155, 3969, 4037, 5392, 2315, 4474, 1804, 4262, 5050, 271, 4734, 3879]\n",
      "Creating the symbolic link of the video\n",
      "New video was added to the project! Use the function 'extract_frames' to select frames for labeling.\n",
      "The outlier frames are extracted. They are stored in the subdirectory labeled-data\\2010.11.11_17_46_00.\n",
      "Once you extracted frames for all videos, use 'refine_labels' to manually correct the labels.\n"
     ]
    },
    {
     "name": "stderr",
     "output_type": "stream",
     "text": [
      "\r",
      "0it [00:00, ?it/s]"
     ]
    },
    {
     "name": "stdout",
     "output_type": "stream",
     "text": [
      "Method  uncertain  found  2566  putative outlier frames.\n",
      "Do you want to proceed with extracting  100  of those?\n",
      "If this list is very large, perhaps consider changing the paramters (start, stop, p_bound, comparisonbodyparts) or use a different method.\n",
      "Loading video...\n",
      "Duration of video [s]:  26.965 , recorded @  200.0 fps!\n",
      "Overall # of frames:  5393 with (cropped) frame dimensions: \n",
      "Kmeans-quantization based extracting of frames from 0.0  seconds to 26.96  seconds.\n",
      "Extracting and downsampling... 2566  frames from the video.\n"
     ]
    },
    {
     "name": "stderr",
     "output_type": "stream",
     "text": [
      "2566it [01:01, 41.44it/s]\n"
     ]
    },
    {
     "name": "stdout",
     "output_type": "stream",
     "text": [
      "Kmeans clustering ... (this might take a while)\n",
      "Let's select frames indices: [4653, 4855, 806, 2351, 3224, 3592, 1145, 3540, 243, 1527, 766, 649, 4221, 4013, 487, 1014, 1785, 914, 3169, 819, 1045, 1386, 3691, 1131, 848, 597, 793, 944, 3385, 4817, 1723, 937, 3903, 813, 1322, 3867, 2986, 3634, 3736, 2352, 4975, 4773, 1546, 4191, 968, 2246, 3343, 804, 241, 3268, 3636, 4118, 3425, 3690, 1534, 3120, 4857, 3582, 4559, 3643, 3525, 5388, 4401, 3249, 3589, 3973, 3303, 4884, 4962, 3190, 4469, 4257, 4066, 5277, 3660, 3983, 3135, 3922, 3459, 3745, 4596, 4496, 3236, 1325, 2392, 4946, 5091, 3576, 3775, 3325, 3674, 4036, 4354, 3723, 5181, 3702, 3668, 4803, 3991]\n",
      "Creating the symbolic link of the video\n",
      "New video was added to the project! Use the function 'extract_frames' to select frames for labeling.\n",
      "The outlier frames are extracted. They are stored in the subdirectory labeled-data\\2010.11.11_17_48_51.\n",
      "Once you extracted frames for all videos, use 'refine_labels' to manually correct the labels.\n"
     ]
    },
    {
     "name": "stderr",
     "output_type": "stream",
     "text": [
      "\r",
      "0it [00:00, ?it/s]"
     ]
    },
    {
     "name": "stdout",
     "output_type": "stream",
     "text": [
      "Method  uncertain  found  590  putative outlier frames.\n",
      "Do you want to proceed with extracting  100  of those?\n",
      "If this list is very large, perhaps consider changing the paramters (start, stop, p_bound, comparisonbodyparts) or use a different method.\n",
      "Loading video...\n",
      "Duration of video [s]:  27.005 , recorded @  200.0 fps!\n",
      "Overall # of frames:  5401 with (cropped) frame dimensions: \n",
      "Kmeans-quantization based extracting of frames from 0.0  seconds to 27.0  seconds.\n",
      "Extracting and downsampling... 590  frames from the video.\n"
     ]
    },
    {
     "name": "stderr",
     "output_type": "stream",
     "text": [
      "590it [00:15, 38.45it/s]\n"
     ]
    },
    {
     "name": "stdout",
     "output_type": "stream",
     "text": [
      "Kmeans clustering ... (this might take a while)\n",
      "Let's select frames indices: [1450, 3220, 457, 777, 3842, 392, 1347, 1947, 3951, 1946, 2444, 2115, 1336, 4010, 1198, 1843, 581, 1505, 3716, 1960, 927, 1692, 730, 2172, 1195, 1741, 3805, 2094, 4061, 3138, 774, 530, 2297, 3344, 952, 2209, 4057, 2201, 421, 1516, 1242, 3173, 726, 664, 955, 1307, 766, 1025, 1122, 838, 2006, 1873, 714, 1861, 2543, 2109, 437, 1530, 1735, 1722, 1333, 598, 2171, 906, 2458, 2803, 3883, 296, 963, 442, 3252, 1614, 1301, 780, 1889, 519, 569, 2199, 3009, 2097, 1369, 762, 3836, 1854, 2516, 2037, 498, 1188, 2509, 1606, 3820, 438, 1237, 1280, 3825, 377, 1732, 563, 773]\n",
      "Creating the symbolic link of the video\n",
      "New video was added to the project! Use the function 'extract_frames' to select frames for labeling.\n",
      "The outlier frames are extracted. They are stored in the subdirectory labeled-data\\2010.11.11_17_50_27.\n",
      "Once you extracted frames for all videos, use 'refine_labels' to manually correct the labels.\n"
     ]
    },
    {
     "name": "stderr",
     "output_type": "stream",
     "text": [
      "\r",
      "0it [00:00, ?it/s]"
     ]
    },
    {
     "name": "stdout",
     "output_type": "stream",
     "text": [
      "Method  uncertain  found  318  putative outlier frames.\n",
      "Do you want to proceed with extracting  100  of those?\n",
      "If this list is very large, perhaps consider changing the paramters (start, stop, p_bound, comparisonbodyparts) or use a different method.\n",
      "Loading video...\n",
      "Duration of video [s]:  27.055 , recorded @  200.0 fps!\n",
      "Overall # of frames:  5411 with (cropped) frame dimensions: \n",
      "Kmeans-quantization based extracting of frames from 0.0  seconds to 27.05  seconds.\n",
      "Extracting and downsampling... 318  frames from the video.\n"
     ]
    },
    {
     "name": "stderr",
     "output_type": "stream",
     "text": [
      "318it [00:08, 37.12it/s]\n"
     ]
    },
    {
     "name": "stdout",
     "output_type": "stream",
     "text": [
      "Kmeans clustering ... (this might take a while)\n",
      "Let's select frames indices: [1276, 2449, 403, 2131, 751, 2363, 1620, 778, 303, 1713, 427, 2192, 1077, 763, 791, 388, 2206, 1916, 2646, 2360, 431, 372, 435, 416, 647, 2204, 2095, 299, 414, 2382, 1079, 2176, 2185, 630, 406, 2643, 1083, 360, 2372, 2184, 783, 793, 2220, 283, 2173, 428, 334, 2140, 988, 396, 2355, 1078, 2120, 652, 680, 2178, 2100, 2153, 3959, 490, 432, 2340, 2388, 2107, 757, 2641, 2384, 2347, 2197, 348, 2366, 1828, 2642, 3957, 2145, 2213, 2171, 1717, 1073, 394, 782, 422, 483, 2345, 2151, 1920, 643, 385, 2645, 400, 2648, 433, 2622, 3968, 2191, 2119, 750, 2149, 2183, 2115]\n",
      "Creating the symbolic link of the video\n",
      "New video was added to the project! Use the function 'extract_frames' to select frames for labeling.\n",
      "The outlier frames are extracted. They are stored in the subdirectory labeled-data\\2010.11.11_12_23_35.\n",
      "Once you extracted frames for all videos, use 'refine_labels' to manually correct the labels.\n"
     ]
    },
    {
     "name": "stderr",
     "output_type": "stream",
     "text": [
      "\r",
      "0it [00:00, ?it/s]"
     ]
    },
    {
     "name": "stdout",
     "output_type": "stream",
     "text": [
      "Method  uncertain  found  464  putative outlier frames.\n",
      "Do you want to proceed with extracting  100  of those?\n",
      "If this list is very large, perhaps consider changing the paramters (start, stop, p_bound, comparisonbodyparts) or use a different method.\n",
      "Loading video...\n",
      "Duration of video [s]:  27.0 , recorded @  200.0 fps!\n",
      "Overall # of frames:  5400 with (cropped) frame dimensions: \n",
      "Kmeans-quantization based extracting of frames from 0.0  seconds to 27.0  seconds.\n",
      "Extracting and downsampling... 464  frames from the video.\n"
     ]
    },
    {
     "name": "stderr",
     "output_type": "stream",
     "text": [
      "464it [00:12, 38.18it/s]\n"
     ]
    },
    {
     "name": "stdout",
     "output_type": "stream",
     "text": [
      "Kmeans clustering ... (this might take a while)\n",
      "Let's select frames indices: [265, 360, 118, 315, 2820, 156, 424, 2506, 3161, 465, 1763, 1979, 1602, 1505, 773, 401, 335, 1005, 201, 894, 1774, 443, 2227, 3146, 300, 130, 1424, 376, 1785, 364, 343, 429, 1220, 1800, 1225, 2272, 127, 307, 467, 380, 2026, 1780, 294, 616, 449, 418, 141, 231, 323, 1803, 767, 2035, 2200, 1770, 166, 1113, 184, 619, 411, 473, 1765, 1762, 1465, 2207, 132, 391, 786, 3155, 1759, 1952, 349, 435, 896, 892, 1773, 2809, 426, 124, 262, 1986, 291, 1603, 238, 178, 309, 303, 196, 1779, 226, 1976, 1784, 396, 438, 2756, 1216, 242, 456, 339, 146, 129]\n",
      "Creating the symbolic link of the video\n",
      "New video was added to the project! Use the function 'extract_frames' to select frames for labeling.\n",
      "The outlier frames are extracted. They are stored in the subdirectory labeled-data\\2010.11.11_12_52_19.\n",
      "Once you extracted frames for all videos, use 'refine_labels' to manually correct the labels.\n"
     ]
    },
    {
     "name": "stderr",
     "output_type": "stream",
     "text": [
      "\r",
      "0it [00:00, ?it/s]"
     ]
    },
    {
     "name": "stdout",
     "output_type": "stream",
     "text": [
      "Method  uncertain  found  185  putative outlier frames.\n",
      "Do you want to proceed with extracting  100  of those?\n",
      "If this list is very large, perhaps consider changing the paramters (start, stop, p_bound, comparisonbodyparts) or use a different method.\n",
      "Loading video...\n",
      "Duration of video [s]:  26.945 , recorded @  200.0 fps!\n",
      "Overall # of frames:  5389 with (cropped) frame dimensions: \n",
      "Kmeans-quantization based extracting of frames from 0.0  seconds to 26.95  seconds.\n",
      "Extracting and downsampling... 184  frames from the video.\n"
     ]
    },
    {
     "name": "stderr",
     "output_type": "stream",
     "text": [
      "184it [00:04, 37.74it/s]\n"
     ]
    },
    {
     "name": "stdout",
     "output_type": "stream",
     "text": [
      "Kmeans clustering ... (this might take a while)\n",
      "Let's select frames indices: [935, 22, 508, 1545, 1910, 755, 534, 490, 1201, 70, 953, 243, 45, 229, 1330, 1531, 1497, 29, 525, 539, 63, 616, 686, 505, 500, 503, 1928, 1196, 1734, 1657, 514, 921, 766, 58, 16, 1548, 8, 851, 233, 68, 542, 504, 34, 1542, 46, 53, 950, 506, 488, 1323, 74, 10, 60, 522, 1905, 1198, 758, 501, 511, 507, 494, 23, 1550, 1, 1328, 40, 231, 1499, 75, 536, 1547, 42, 491, 1907, 66, 1912, 933, 756, 509, 36, 1539, 1530, 18, 1316, 13, 956, 523, 33, 537, 533, 510, 1543, 4, 952, 1324, 535, 65, 5, 27, 56]\n",
      "Creating the symbolic link of the video\n",
      "New video was added to the project! Use the function 'extract_frames' to select frames for labeling.\n",
      "The outlier frames are extracted. They are stored in the subdirectory labeled-data\\2010.11.11_12_59_07.\n",
      "Once you extracted frames for all videos, use 'refine_labels' to manually correct the labels.\n"
     ]
    },
    {
     "name": "stderr",
     "output_type": "stream",
     "text": [
      "\r",
      "0it [00:00, ?it/s]"
     ]
    },
    {
     "name": "stdout",
     "output_type": "stream",
     "text": [
      "Method  uncertain  found  636  putative outlier frames.\n",
      "Do you want to proceed with extracting  100  of those?\n",
      "If this list is very large, perhaps consider changing the paramters (start, stop, p_bound, comparisonbodyparts) or use a different method.\n",
      "Loading video...\n",
      "Duration of video [s]:  26.43 , recorded @  200.0 fps!\n",
      "Overall # of frames:  5286 with (cropped) frame dimensions: \n",
      "Kmeans-quantization based extracting of frames from 0.0  seconds to 26.43  seconds.\n",
      "Extracting and downsampling... 636  frames from the video.\n"
     ]
    },
    {
     "name": "stderr",
     "output_type": "stream",
     "text": [
      "636it [00:18, 34.21it/s]\n"
     ]
    },
    {
     "name": "stdout",
     "output_type": "stream",
     "text": [
      "Kmeans clustering ... (this might take a while)\n",
      "Let's select frames indices: [953, 24, 5028, 2425, 1661, 1224, 2196, 1795, 2345, 2215, 1900, 566, 2560, 1003, 2277, 602, 2441, 2363, 2298, 5168, 1683, 1962, 987, 963, 929, 1650, 2309, 829, 2525, 2576, 2357, 370, 1951, 5065, 1638, 721, 1560, 2195, 933, 1659, 2479, 1942, 960, 1191, 2418, 1745, 1245, 1666, 2399, 1972, 925, 2305, 1557, 2467, 2447, 989, 1217, 2350, 1891, 2379, 2545, 2613, 2187, 2032, 2354, 2430, 2267, 954, 588, 1644, 2331, 2371, 1725, 2325, 2369, 2273, 1676, 2205, 2190, 1658, 958, 1227, 2526, 2512, 2470, 1645, 2490, 2462, 5128, 2395, 2374, 992, 5270, 2464, 2596, 2284, 2360, 2356, 2289, 1668]\n",
      "Creating the symbolic link of the video\n",
      "New video was added to the project! Use the function 'extract_frames' to select frames for labeling.\n",
      "The outlier frames are extracted. They are stored in the subdirectory labeled-data\\2010.11.12_16_16_29.\n",
      "Once you extracted frames for all videos, use 'refine_labels' to manually correct the labels.\n"
     ]
    },
    {
     "name": "stderr",
     "output_type": "stream",
     "text": [
      "\r",
      "0it [00:00, ?it/s]"
     ]
    },
    {
     "name": "stdout",
     "output_type": "stream",
     "text": [
      "Method  uncertain  found  820  putative outlier frames.\n",
      "Do you want to proceed with extracting  100  of those?\n",
      "If this list is very large, perhaps consider changing the paramters (start, stop, p_bound, comparisonbodyparts) or use a different method.\n",
      "Loading video...\n",
      "Duration of video [s]:  26.435 , recorded @  200.0 fps!\n",
      "Overall # of frames:  5287 with (cropped) frame dimensions: \n",
      "Kmeans-quantization based extracting of frames from 0.0  seconds to 26.43  seconds.\n",
      "Extracting and downsampling... 820  frames from the video.\n"
     ]
    },
    {
     "name": "stderr",
     "output_type": "stream",
     "text": [
      "820it [00:23, 34.20it/s]\n"
     ]
    },
    {
     "name": "stdout",
     "output_type": "stream",
     "text": [
      "Kmeans clustering ... (this might take a while)\n",
      "Let's select frames indices: [3079, 4398, 3449, 3942, 5145, 3292, 4991, 3258, 4882, 3926, 3378, 4175, 1126, 3538, 3126, 2601, 3965, 2017, 5126, 4934, 2589, 5008, 2922, 3165, 3961, 4093, 3483, 3937, 4818, 3038, 3558, 5219, 3300, 3101, 3321, 1115, 3397, 3637, 3334, 4348, 375, 3044, 1137, 885, 4737, 4367, 3502, 3439, 4839, 4003, 2923, 3450, 4908, 4173, 3929, 4870, 3915, 4996, 3213, 3027, 3947, 2581, 4885, 3488, 4820, 1925, 4944, 2592, 5140, 4877, 3485, 3034, 3943, 2215, 3315, 4174, 5040, 4409, 5139, 3628, 3957, 4983, 1122, 3117, 3355, 3086, 3481, 3420, 4431, 3940, 3093, 4999, 3990, 4349, 3066, 3279, 5155, 5001, 3228, 3469]\n",
      "Creating the symbolic link of the video\n",
      "New video was added to the project! Use the function 'extract_frames' to select frames for labeling.\n",
      "The outlier frames are extracted. They are stored in the subdirectory labeled-data\\2010.11.12_16_24_30.\n",
      "Once you extracted frames for all videos, use 'refine_labels' to manually correct the labels.\n"
     ]
    },
    {
     "name": "stderr",
     "output_type": "stream",
     "text": [
      "\r",
      "0it [00:00, ?it/s]"
     ]
    },
    {
     "name": "stdout",
     "output_type": "stream",
     "text": [
      "Method  uncertain  found  875  putative outlier frames.\n",
      "Do you want to proceed with extracting  100  of those?\n",
      "If this list is very large, perhaps consider changing the paramters (start, stop, p_bound, comparisonbodyparts) or use a different method.\n",
      "Loading video...\n",
      "Duration of video [s]:  26.425 , recorded @  200.0 fps!\n",
      "Overall # of frames:  5285 with (cropped) frame dimensions: \n",
      "Kmeans-quantization based extracting of frames from 0.0  seconds to 26.43  seconds.\n",
      "Extracting and downsampling... 874  frames from the video.\n"
     ]
    },
    {
     "name": "stderr",
     "output_type": "stream",
     "text": [
      "874it [00:25, 33.65it/s]\n"
     ]
    },
    {
     "name": "stdout",
     "output_type": "stream",
     "text": [
      "Kmeans clustering ... (this might take a while)\n",
      "Let's select frames indices: [3753, 197, 3, 2913, 1477, 2578, 2004, 715, 1212, 332, 2500, 856, 1714, 3557, 2556, 1339, 3435, 1599, 59, 2089, 2478, 2803, 3413, 136, 3589, 689, 272, 3160, 510, 346, 2621, 2020, 2522, 226, 2562, 3272, 698, 266, 825, 2947, 1658, 2724, 553, 1371, 188, 289, 1992, 255, 1488, 2533, 1495, 248, 321, 1674, 1450, 2514, 784, 3406, 1396, 1390, 211, 3420, 99, 720, 2600, 1682, 43, 2015, 328, 3446, 1414, 3421, 168, 3569, 1669, 277, 2955, 529, 2800, 379, 2593, 2532, 695, 1244, 572, 281, 361, 702, 2007, 2378, 2814, 1995, 2518, 2486, 3630, 814, 19, 279, 76, 2549]\n",
      "Creating the symbolic link of the video\n",
      "New video was added to the project! Use the function 'extract_frames' to select frames for labeling.\n",
      "The outlier frames are extracted. They are stored in the subdirectory labeled-data\\2010.11.12_16_24_59.\n",
      "Once you extracted frames for all videos, use 'refine_labels' to manually correct the labels.\n"
     ]
    },
    {
     "name": "stderr",
     "output_type": "stream",
     "text": [
      "\r",
      "0it [00:00, ?it/s]"
     ]
    },
    {
     "name": "stdout",
     "output_type": "stream",
     "text": [
      "Method  uncertain  found  1505  putative outlier frames.\n",
      "Do you want to proceed with extracting  100  of those?\n",
      "If this list is very large, perhaps consider changing the paramters (start, stop, p_bound, comparisonbodyparts) or use a different method.\n",
      "Loading video...\n",
      "Duration of video [s]:  26.42 , recorded @  200.0 fps!\n",
      "Overall # of frames:  5284 with (cropped) frame dimensions: \n",
      "Kmeans-quantization based extracting of frames from 0.0  seconds to 26.42  seconds.\n",
      "Extracting and downsampling... 1505  frames from the video.\n"
     ]
    },
    {
     "name": "stderr",
     "output_type": "stream",
     "text": [
      "1505it [00:42, 35.29it/s]\n"
     ]
    },
    {
     "name": "stdout",
     "output_type": "stream",
     "text": [
      "Kmeans clustering ... (this might take a while)\n",
      "Let's select frames indices: [3411, 4651, 1739, 4177, 2344, 1799, 677, 1385, 18, 1733, 4376, 5000, 824, 464, 4122, 4259, 666, 1755, 4446, 1715, 339, 1425, 1701, 1362, 1609, 2081, 1783, 830, 903, 1734, 1708, 1732, 1776, 1736, 4821, 5175, 2321, 4851, 663, 4512, 4318, 1404, 4768, 1770, 1746, 4222, 4101, 835, 4944, 2308, 1753, 4301, 4148, 4163, 4611, 5191, 4557, 5064, 4129, 1726, 4740, 4692, 1378, 4897, 1352, 2127, 1389, 5182, 654, 4241, 4282, 5231, 3415, 4340, 5025, 4716, 4392, 4938, 1398, 4984, 1405, 5279, 4176, 4140, 4832, 4774, 1413, 4086, 5133, 5097, 4307, 4199, 4425, 1392, 4099, 2320, 4679, 4288, 4501, 5270]\n",
      "Creating the symbolic link of the video\n",
      "New video was added to the project! Use the function 'extract_frames' to select frames for labeling.\n",
      "The outlier frames are extracted. They are stored in the subdirectory labeled-data\\2010.11.12_16_25_34.\n",
      "Once you extracted frames for all videos, use 'refine_labels' to manually correct the labels.\n"
     ]
    },
    {
     "name": "stderr",
     "output_type": "stream",
     "text": [
      "\r",
      "0it [00:00, ?it/s]"
     ]
    },
    {
     "name": "stdout",
     "output_type": "stream",
     "text": [
      "Method  uncertain  found  409  putative outlier frames.\n",
      "Do you want to proceed with extracting  100  of those?\n",
      "If this list is very large, perhaps consider changing the paramters (start, stop, p_bound, comparisonbodyparts) or use a different method.\n",
      "Loading video...\n",
      "Duration of video [s]:  26.475 , recorded @  200.0 fps!\n",
      "Overall # of frames:  5295 with (cropped) frame dimensions: \n",
      "Kmeans-quantization based extracting of frames from 0.0  seconds to 26.48  seconds.\n",
      "Extracting and downsampling... 409  frames from the video.\n"
     ]
    },
    {
     "name": "stderr",
     "output_type": "stream",
     "text": [
      "409it [00:12, 32.47it/s]\n"
     ]
    },
    {
     "name": "stdout",
     "output_type": "stream",
     "text": [
      "Kmeans clustering ... (this might take a while)\n",
      "Let's select frames indices: [2469, 329, 1427, 935, 1329, 673, 2583, 535, 259, 1451, 2920, 2417, 1958, 2233, 1465, 454, 282, 2243, 931, 365, 544, 2465, 2439, 263, 952, 1190, 3532, 2018, 2443, 925, 2177, 1003, 941, 266, 1442, 2570, 529, 2500, 915, 293, 1745, 1885, 534, 1232, 743, 1447, 1569, 2492, 1464, 1458, 468, 276, 543, 1335, 3472, 342, 1459, 1462, 2507, 1955, 2429, 2479, 944, 934, 2446, 1185, 539, 369, 286, 1418, 921, 533, 325, 2577, 670, 352, 2817, 1437, 1423, 2587, 2426, 299, 1956, 2513, 1337, 270, 948, 2505, 2180, 3526, 540, 923, 2433, 930, 1959, 1433, 2240, 917, 2580]\n",
      "Creating the symbolic link of the video\n",
      "New video was added to the project! Use the function 'extract_frames' to select frames for labeling.\n",
      "The outlier frames are extracted. They are stored in the subdirectory labeled-data\\2010.11.12_16_26_08.\n",
      "Once you extracted frames for all videos, use 'refine_labels' to manually correct the labels.\n"
     ]
    },
    {
     "name": "stderr",
     "output_type": "stream",
     "text": [
      "\r",
      "0it [00:00, ?it/s]"
     ]
    },
    {
     "name": "stdout",
     "output_type": "stream",
     "text": [
      "Method  uncertain  found  1616  putative outlier frames.\n",
      "Do you want to proceed with extracting  100  of those?\n",
      "If this list is very large, perhaps consider changing the paramters (start, stop, p_bound, comparisonbodyparts) or use a different method.\n",
      "Loading video...\n",
      "Duration of video [s]:  26.44 , recorded @  200.0 fps!\n",
      "Overall # of frames:  5288 with (cropped) frame dimensions: \n",
      "Kmeans-quantization based extracting of frames from 0.0  seconds to 26.44  seconds.\n",
      "Extracting and downsampling... 1616  frames from the video.\n"
     ]
    },
    {
     "name": "stderr",
     "output_type": "stream",
     "text": [
      "1616it [00:40, 39.93it/s]\n"
     ]
    },
    {
     "name": "stdout",
     "output_type": "stream",
     "text": [
      "Kmeans clustering ... (this might take a while)\n",
      "Let's select frames indices: [90, 3388, 3148, 4268, 1819, 3465, 4959, 992, 2169, 1106, 1363, 4194, 1751, 3500, 1508, 1408, 2402, 1889, 2699, 2240, 2108, 2805, 1604, 1273, 1100, 598, 1528, 2135, 1353, 1356, 1180, 3099, 1901, 1424, 2064, 2187, 1550, 3038, 3315, 4304, 1326, 1703, 4391, 3815, 3778, 3372, 2558, 3431, 3547, 4994, 1443, 2222, 2077, 1632, 1947, 1468, 5259, 1767, 2094, 4972, 1104, 981, 4395, 1081, 4928, 82, 2745, 4874, 1339, 2153, 4854, 2124, 4883, 3616, 3122, 4138, 4967, 1515, 1540, 3135, 1191, 1781, 1478, 1168, 1391, 2421, 2753, 963, 2192, 4241, 1625, 1651, 3173, 1572, 3031, 1317, 4944, 2146, 4222, 3586]\n",
      "Creating the symbolic link of the video\n",
      "New video was added to the project! Use the function 'extract_frames' to select frames for labeling.\n",
      "The outlier frames are extracted. They are stored in the subdirectory labeled-data\\2010.11.12_16_42_58.\n",
      "Once you extracted frames for all videos, use 'refine_labels' to manually correct the labels.\n"
     ]
    },
    {
     "name": "stderr",
     "output_type": "stream",
     "text": [
      "8it [00:00, 78.73it/s]"
     ]
    },
    {
     "name": "stdout",
     "output_type": "stream",
     "text": [
      "Method  uncertain  found  2927  putative outlier frames.\n",
      "Do you want to proceed with extracting  100  of those?\n",
      "If this list is very large, perhaps consider changing the paramters (start, stop, p_bound, comparisonbodyparts) or use a different method.\n",
      "Loading video...\n",
      "Duration of video [s]:  26.5 , recorded @  200.0 fps!\n",
      "Overall # of frames:  5300 with (cropped) frame dimensions: \n",
      "Kmeans-quantization based extracting of frames from 0.0  seconds to 26.5  seconds.\n",
      "Extracting and downsampling... 2926  frames from the video.\n"
     ]
    },
    {
     "name": "stderr",
     "output_type": "stream",
     "text": [
      "2926it [01:11, 40.83it/s]\n"
     ]
    },
    {
     "name": "stdout",
     "output_type": "stream",
     "text": [
      "Kmeans clustering ... (this might take a while)\n",
      "Let's select frames indices: [5065, 343, 3933, 1585, 3547, 46, 3946, 3081, 4331, 3355, 1188, 4836, 3422, 3037, 1960, 1173, 986, 3014, 3862, 1563, 2259, 3092, 266, 2614, 192, 3715, 4919, 1081, 3762, 1388, 3750, 1773, 3314, 1698, 2782, 1942, 598, 4675, 2211, 3517, 2920, 1647, 4238, 1224, 340, 4514, 4707, 390, 1550, 2355, 3740, 1981, 1947, 3804, 1146, 3660, 1608, 3063, 4509, 1958, 850, 4592, 4548, 3324, 976, 896, 476, 246, 3349, 5188, 4764, 4145, 5258, 1567, 4083, 2227, 3044, 2198, 294, 3775, 2214, 4307, 1605, 3507, 3724, 1240, 3381, 4625, 1159, 4438, 4603, 94, 82, 3777, 4585, 2221, 4398, 4066, 3055, 3426]\n",
      "Creating the symbolic link of the video\n",
      "New video was added to the project! Use the function 'extract_frames' to select frames for labeling.\n",
      "The outlier frames are extracted. They are stored in the subdirectory labeled-data\\2010.11.12_16_44_02.\n",
      "Once you extracted frames for all videos, use 'refine_labels' to manually correct the labels.\n"
     ]
    },
    {
     "name": "stderr",
     "output_type": "stream",
     "text": [
      "9it [00:00, 89.92it/s]"
     ]
    },
    {
     "name": "stdout",
     "output_type": "stream",
     "text": [
      "Method  uncertain  found  3724  putative outlier frames.\n",
      "Do you want to proceed with extracting  100  of those?\n",
      "If this list is very large, perhaps consider changing the paramters (start, stop, p_bound, comparisonbodyparts) or use a different method.\n",
      "Loading video...\n",
      "Duration of video [s]:  26.455 , recorded @  200.0 fps!\n",
      "Overall # of frames:  5291 with (cropped) frame dimensions: \n",
      "Kmeans-quantization based extracting of frames from 0.0  seconds to 26.45  seconds.\n",
      "Extracting and downsampling... 3723  frames from the video.\n"
     ]
    },
    {
     "name": "stderr",
     "output_type": "stream",
     "text": [
      "3723it [01:31, 40.87it/s]\n"
     ]
    },
    {
     "name": "stdout",
     "output_type": "stream",
     "text": [
      "Kmeans clustering ... (this might take a while)\n",
      "Let's select frames indices: [2832, 298, 5128, 17, 325, 4209, 1177, 3687, 711, 1628, 2161, 2653, 1423, 3280, 558, 4617, 2612, 1499, 2982, 3117, 706, 1772, 2102, 3615, 358, 1731, 3487, 1339, 232, 939, 1464, 902, 2436, 1834, 2326, 742, 1407, 3932, 3980, 1750, 1737, 1467, 1438, 211, 795, 5276, 60, 2590, 4052, 3313, 2370, 3204, 1649, 727, 244, 1688, 2680, 3441, 3146, 2428, 140, 4601, 5099, 384, 2012, 4050, 956, 3773, 4847, 3964, 2768, 3167, 3376, 3886, 5152, 1483, 1755, 2881, 1776, 2928, 2989, 190, 1451, 3665, 3241, 4436, 4085, 1718, 2243, 3000, 3990, 4774, 4136, 2558, 3410, 2717, 3566, 2604, 2633, 3508]\n",
      "Creating the symbolic link of the video\n",
      "New video was added to the project! Use the function 'extract_frames' to select frames for labeling.\n",
      "The outlier frames are extracted. They are stored in the subdirectory labeled-data\\2010.11.12_16_44_36.\n",
      "Once you extracted frames for all videos, use 'refine_labels' to manually correct the labels.\n"
     ]
    },
    {
     "name": "stderr",
     "output_type": "stream",
     "text": [
      "\r",
      "0it [00:00, ?it/s]"
     ]
    },
    {
     "name": "stdout",
     "output_type": "stream",
     "text": [
      "Method  uncertain  found  3842  putative outlier frames.\n",
      "Do you want to proceed with extracting  100  of those?\n",
      "If this list is very large, perhaps consider changing the paramters (start, stop, p_bound, comparisonbodyparts) or use a different method.\n",
      "Loading video...\n",
      "Duration of video [s]:  26.435 , recorded @  200.0 fps!\n",
      "Overall # of frames:  5287 with (cropped) frame dimensions: \n",
      "Kmeans-quantization based extracting of frames from 0.0  seconds to 26.43  seconds.\n",
      "Extracting and downsampling... 3841  frames from the video.\n"
     ]
    },
    {
     "name": "stderr",
     "output_type": "stream",
     "text": [
      "3841it [01:34, 40.85it/s]\n"
     ]
    },
    {
     "name": "stdout",
     "output_type": "stream",
     "text": [
      "Kmeans clustering ... (this might take a while)\n",
      "Let's select frames indices: [2084, 4173, 1086, 4269, 1400, 3378, 119, 4903, 795, 2642, 1482, 2472, 751, 504, 4755, 688, 3139, 1940, 2221, 524, 1820, 2784, 420, 4047, 2873, 1068, 898, 719, 592, 3067, 1969, 5103, 3298, 2027, 2879, 2502, 670, 4241, 653, 3546, 3188, 535, 1550, 254, 2538, 2830, 1111, 1844, 2861, 2189, 2261, 512, 3971, 1855, 2980, 3943, 1355, 1845, 4570, 2301, 482, 2584, 5163, 1450, 180, 1762, 22, 1425, 1874, 2035, 4825, 1510, 2721, 1453, 779, 1154, 1121, 3722, 1161, 1462, 1503, 1336, 4384, 3127, 3196, 630, 1788, 2805, 805, 4265, 1363, 4182, 4348, 64, 3844, 2133, 1075, 3482, 2605, 4159]\n",
      "Creating the symbolic link of the video\n",
      "New video was added to the project! Use the function 'extract_frames' to select frames for labeling.\n",
      "The outlier frames are extracted. They are stored in the subdirectory labeled-data\\2010.11.12_16_45_23.\n",
      "Once you extracted frames for all videos, use 'refine_labels' to manually correct the labels.\n"
     ]
    },
    {
     "name": "stderr",
     "output_type": "stream",
     "text": [
      "\r",
      "0it [00:00, ?it/s]"
     ]
    },
    {
     "name": "stdout",
     "output_type": "stream",
     "text": [
      "Method  uncertain  found  3402  putative outlier frames.\n",
      "Do you want to proceed with extracting  100  of those?\n",
      "If this list is very large, perhaps consider changing the paramters (start, stop, p_bound, comparisonbodyparts) or use a different method.\n",
      "Loading video...\n",
      "Duration of video [s]:  26.43 , recorded @  200.0 fps!\n",
      "Overall # of frames:  5286 with (cropped) frame dimensions: \n",
      "Kmeans-quantization based extracting of frames from 0.0  seconds to 26.43  seconds.\n",
      "Extracting and downsampling... 3402  frames from the video.\n"
     ]
    },
    {
     "name": "stderr",
     "output_type": "stream",
     "text": [
      "3402it [01:23, 40.79it/s]\n"
     ]
    },
    {
     "name": "stdout",
     "output_type": "stream",
     "text": [
      "Kmeans clustering ... (this might take a while)\n",
      "Let's select frames indices: [5142, 2304, 4261, 1579, 2735, 3262, 1963, 69, 3878, 407, 4709, 2947, 1779, 3160, 2842, 314, 2767, 5066, 1038, 955, 3698, 4849, 1140, 2785, 824, 2425, 2190, 390, 945, 3148, 1627, 1055, 477, 2472, 3445, 1279, 3944, 3546, 1535, 621, 2717, 4999, 2954, 4486, 2119, 1172, 227, 2347, 3336, 3800, 3251, 4266, 1177, 990, 3191, 360, 3213, 4091, 1040, 833, 3751, 1557, 2102, 4629, 2984, 5188, 525, 3488, 3128, 440, 4062, 1872, 4921, 4638, 1657, 2780, 4031, 1522, 1696, 2587, 2934, 1845, 4457, 2343, 4722, 4173, 1728, 125, 3182, 4147, 3917, 2227, 273, 1588, 4156, 3630, 183, 1613, 2138, 4932]\n",
      "Creating the symbolic link of the video\n",
      "New video was added to the project! Use the function 'extract_frames' to select frames for labeling.\n",
      "The outlier frames are extracted. They are stored in the subdirectory labeled-data\\2010.11.12_16_45_52.\n",
      "Once you extracted frames for all videos, use 'refine_labels' to manually correct the labels.\n"
     ]
    },
    {
     "name": "stderr",
     "output_type": "stream",
     "text": [
      "\r",
      "0it [00:00, ?it/s]"
     ]
    },
    {
     "name": "stdout",
     "output_type": "stream",
     "text": [
      "Method  uncertain  found  3020  putative outlier frames.\n",
      "Do you want to proceed with extracting  100  of those?\n",
      "If this list is very large, perhaps consider changing the paramters (start, stop, p_bound, comparisonbodyparts) or use a different method.\n",
      "Loading video...\n",
      "Duration of video [s]:  26.445 , recorded @  200.0 fps!\n",
      "Overall # of frames:  5289 with (cropped) frame dimensions: \n",
      "Kmeans-quantization based extracting of frames from 0.0  seconds to 26.45  seconds.\n",
      "Extracting and downsampling... 3020  frames from the video.\n"
     ]
    },
    {
     "name": "stderr",
     "output_type": "stream",
     "text": [
      "3020it [01:14, 40.76it/s]\n"
     ]
    },
    {
     "name": "stdout",
     "output_type": "stream",
     "text": [
      "Kmeans clustering ... (this might take a while)\n",
      "Let's select frames indices: [1969, 4650, 1781, 1280, 2018, 2433, 2740, 2224, 2203, 1860, 2134, 1070, 2888, 3756, 633, 1908, 511, 1038, 1225, 1585, 637, 4517, 1733, 661, 2125, 496, 899, 846, 397, 2325, 537, 1758, 2106, 2554, 1563, 2260, 3585, 2833, 987, 786, 5214, 3040, 4614, 614, 4720, 2456, 2143, 1945, 5124, 4838, 3545, 2394, 2072, 2672, 1712, 1979, 1900, 1770, 5057, 2769, 3972, 3561, 2039, 4984, 4382, 1792, 2317, 3681, 3770, 2192, 2368, 2245, 2829, 625, 2057, 4909, 4572, 1994, 2168, 2414, 2949, 4261, 1080, 3497, 1740, 1725, 3153, 3541, 3958, 4066, 4019, 4875, 2008, 3388, 2017, 2972, 2567, 4474, 2591, 3646]\n",
      "Creating the symbolic link of the video\n",
      "New video was added to the project! Use the function 'extract_frames' to select frames for labeling.\n",
      "The outlier frames are extracted. They are stored in the subdirectory labeled-data\\2010.11.12_16_46_34.\n",
      "Once you extracted frames for all videos, use 'refine_labels' to manually correct the labels.\n"
     ]
    },
    {
     "name": "stderr",
     "output_type": "stream",
     "text": [
      "\r",
      "0it [00:00, ?it/s]"
     ]
    },
    {
     "name": "stdout",
     "output_type": "stream",
     "text": [
      "Method  uncertain  found  2770  putative outlier frames.\n",
      "Do you want to proceed with extracting  100  of those?\n",
      "If this list is very large, perhaps consider changing the paramters (start, stop, p_bound, comparisonbodyparts) or use a different method.\n",
      "Loading video...\n",
      "Duration of video [s]:  26.505 , recorded @  200.0 fps!\n",
      "Overall # of frames:  5301 with (cropped) frame dimensions: \n",
      "Kmeans-quantization based extracting of frames from 0.0  seconds to 26.5  seconds.\n",
      "Extracting and downsampling... 2770  frames from the video.\n"
     ]
    },
    {
     "name": "stderr",
     "output_type": "stream",
     "text": [
      "2770it [01:07, 40.77it/s]\n"
     ]
    },
    {
     "name": "stdout",
     "output_type": "stream",
     "text": [
      "Kmeans clustering ... (this might take a while)\n",
      "Let's select frames indices: [612, 4752, 3728, 2441, 2634, 181, 5185, 2358, 1852, 3074, 2519, 720, 2056, 2651, 3307, 4654, 1259, 3960, 1394, 490, 2767, 2788, 2222, 1601, 1473, 1747, 4992, 2987, 1488, 1573, 3455, 1383, 2117, 5246, 2188, 3035, 2011, 374, 1898, 773, 4524, 1436, 1034, 2298, 4831, 4516, 2763, 4969, 2614, 2663, 1915, 4092, 1253, 1889, 99, 1192, 235, 2610, 3803, 2462, 1904, 3653, 1321, 4915, 2285, 1258, 1482, 5061, 3414, 4609, 2127, 2067, 3468, 5129, 761, 581, 346, 4469, 2881, 2647, 1633, 519, 1993, 4565, 4714, 2468, 2174, 209, 4791, 4699, 4489, 3596, 1984, 1372, 3874, 5252, 4723, 2013, 2549, 2427]\n",
      "Creating the symbolic link of the video\n",
      "New video was added to the project! Use the function 'extract_frames' to select frames for labeling.\n",
      "The outlier frames are extracted. They are stored in the subdirectory labeled-data\\2010.11.12_16_47_12.\n",
      "Once you extracted frames for all videos, use 'refine_labels' to manually correct the labels.\n"
     ]
    },
    {
     "name": "stderr",
     "output_type": "stream",
     "text": [
      "\r",
      "0it [00:00, ?it/s]"
     ]
    },
    {
     "name": "stdout",
     "output_type": "stream",
     "text": [
      "Method  uncertain  found  3388  putative outlier frames.\n",
      "Do you want to proceed with extracting  100  of those?\n",
      "If this list is very large, perhaps consider changing the paramters (start, stop, p_bound, comparisonbodyparts) or use a different method.\n",
      "Loading video...\n",
      "Duration of video [s]:  26.48 , recorded @  200.0 fps!\n",
      "Overall # of frames:  5296 with (cropped) frame dimensions: \n",
      "Kmeans-quantization based extracting of frames from 0.0  seconds to 26.48  seconds.\n",
      "Extracting and downsampling... 3387  frames from the video.\n"
     ]
    },
    {
     "name": "stderr",
     "output_type": "stream",
     "text": [
      "3387it [01:22, 40.86it/s]\n"
     ]
    },
    {
     "name": "stdout",
     "output_type": "stream",
     "text": [
      "Kmeans clustering ... (this might take a while)\n",
      "Let's select frames indices: [3563, 4163, 2721, 602, 105, 2336, 276, 795, 3102, 4235, 3628, 3377, 400, 1872, 1468, 4807, 1675, 3842, 285, 924, 1521, 2086, 2809, 63, 1360, 3293, 1463, 407, 2000, 3769, 213, 1984, 3448, 1921, 2889, 4671, 294, 783, 3746, 3670, 3251, 3695, 767, 4765, 4069, 3473, 2279, 4265, 4407, 3041, 4775, 1453, 1452, 3413, 3346, 3924, 396, 3422, 3110, 3533, 2377, 1929, 2262, 4337, 4560, 3493, 2087, 2580, 3818, 2537, 3537, 4834, 4895, 796, 1966, 2304, 2216, 4490, 1924, 4326, 682, 4971, 4114, 2750, 3645, 4357, 4001, 3302, 4481, 5092, 2471, 2221, 311, 2159, 4643, 1908, 2606, 2842, 2136, 2685]\n",
      "Creating the symbolic link of the video\n",
      "New video was added to the project! Use the function 'extract_frames' to select frames for labeling.\n",
      "The outlier frames are extracted. They are stored in the subdirectory labeled-data\\2010.11.12_16_47_55.\n",
      "Once you extracted frames for all videos, use 'refine_labels' to manually correct the labels.\n"
     ]
    },
    {
     "name": "stderr",
     "output_type": "stream",
     "text": [
      "10it [00:00, 90.39it/s]"
     ]
    },
    {
     "name": "stdout",
     "output_type": "stream",
     "text": [
      "Method  uncertain  found  2170  putative outlier frames.\n",
      "Do you want to proceed with extracting  100  of those?\n",
      "If this list is very large, perhaps consider changing the paramters (start, stop, p_bound, comparisonbodyparts) or use a different method.\n",
      "Loading video...\n",
      "Duration of video [s]:  26.455 , recorded @  200.0 fps!\n",
      "Overall # of frames:  5291 with (cropped) frame dimensions: \n",
      "Kmeans-quantization based extracting of frames from 0.0  seconds to 26.45  seconds.\n",
      "Extracting and downsampling... 2169  frames from the video.\n"
     ]
    },
    {
     "name": "stderr",
     "output_type": "stream",
     "text": [
      "2169it [00:53, 40.88it/s]\n"
     ]
    },
    {
     "name": "stdout",
     "output_type": "stream",
     "text": [
      "Kmeans clustering ... (this might take a while)\n",
      "Let's select frames indices: [9, 1070, 3408, 667, 2174, 2020, 1309, 2777, 4425, 2587, 451, 2387, 2080, 4283, 2529, 1499, 842, 4575, 4227, 2818, 1387, 2093, 1263, 1333, 2546, 1992, 1464, 2054, 3643, 579, 2482, 1964, 1126, 2862, 1576, 2235, 1286, 364, 5069, 4579, 2032, 1890, 181, 2596, 1354, 4333, 5139, 2595, 1658, 393, 3431, 652, 87, 2061, 5169, 3612, 1014, 2567, 3174, 4514, 3469, 2554, 4250, 4244, 1367, 781, 2794, 309, 1040, 508, 2556, 2191, 3340, 2003, 416, 461, 125, 2534, 286, 3589, 712, 5099, 3603, 3277, 3652, 1230, 4219, 4374, 1727, 2581, 555, 4498, 253, 1979, 480, 2065, 988, 2520, 5127, 211]\n",
      "Creating the symbolic link of the video\n",
      "New video was added to the project! Use the function 'extract_frames' to select frames for labeling.\n",
      "The outlier frames are extracted. They are stored in the subdirectory labeled-data\\2010.11.12_16_57_35.\n",
      "Once you extracted frames for all videos, use 'refine_labels' to manually correct the labels.\n"
     ]
    },
    {
     "name": "stderr",
     "output_type": "stream",
     "text": [
      "2it [00:00, 17.59it/s]"
     ]
    },
    {
     "name": "stdout",
     "output_type": "stream",
     "text": [
      "Method  uncertain  found  1938  putative outlier frames.\n",
      "Do you want to proceed with extracting  100  of those?\n",
      "If this list is very large, perhaps consider changing the paramters (start, stop, p_bound, comparisonbodyparts) or use a different method.\n",
      "Loading video...\n",
      "Duration of video [s]:  26.44 , recorded @  200.0 fps!\n",
      "Overall # of frames:  5288 with (cropped) frame dimensions: \n",
      "Kmeans-quantization based extracting of frames from 0.0  seconds to 26.44  seconds.\n",
      "Extracting and downsampling... 1938  frames from the video.\n"
     ]
    },
    {
     "name": "stderr",
     "output_type": "stream",
     "text": [
      "1938it [00:47, 40.76it/s]\n"
     ]
    },
    {
     "name": "stdout",
     "output_type": "stream",
     "text": [
      "Kmeans clustering ... (this might take a while)\n",
      "Let's select frames indices: [2381, 3527, 1601, 1720, 3888, 3274, 2787, 320, 433, 1218, 502, 1452, 3816, 997, 3349, 3928, 3776, 1339, 2435, 829, 3138, 401, 3981, 661, 451, 357, 1205, 3687, 2547, 3416, 1443, 2717, 1507, 4927, 727, 3280, 3844, 3167, 1879, 1377, 2852, 1638, 521, 2420, 363, 3216, 1609, 283, 862, 1555, 379, 3432, 443, 1495, 414, 3371, 3306, 457, 1419, 270, 346, 3246, 1628, 3103, 3869, 1381, 330, 3648, 324, 390, 3617, 3818, 3347, 1228, 1359, 3768, 3311, 3002, 1054, 2669, 2335, 3452, 2792, 5042, 2881, 3858, 2416, 3786, 2602, 3852, 3296, 4042, 3372, 3404, 2486, 1514, 2498, 3893, 2545, 3808]\n",
      "Creating the symbolic link of the video\n",
      "New video was added to the project! Use the function 'extract_frames' to select frames for labeling.\n",
      "The outlier frames are extracted. They are stored in the subdirectory labeled-data\\2010.11.12_16_58_04.\n",
      "Once you extracted frames for all videos, use 'refine_labels' to manually correct the labels.\n"
     ]
    },
    {
     "name": "stderr",
     "output_type": "stream",
     "text": [
      "\r",
      "0it [00:00, ?it/s]"
     ]
    },
    {
     "name": "stdout",
     "output_type": "stream",
     "text": [
      "Method  uncertain  found  1023  putative outlier frames.\n",
      "Do you want to proceed with extracting  100  of those?\n",
      "If this list is very large, perhaps consider changing the paramters (start, stop, p_bound, comparisonbodyparts) or use a different method.\n",
      "Loading video...\n",
      "Duration of video [s]:  26.445 , recorded @  200.0 fps!\n",
      "Overall # of frames:  5289 with (cropped) frame dimensions: \n",
      "Kmeans-quantization based extracting of frames from 0.0  seconds to 26.45  seconds.\n",
      "Extracting and downsampling... 1023  frames from the video.\n"
     ]
    },
    {
     "name": "stderr",
     "output_type": "stream",
     "text": [
      "1023it [00:25, 39.91it/s]\n"
     ]
    },
    {
     "name": "stdout",
     "output_type": "stream",
     "text": [
      "Kmeans clustering ... (this might take a while)\n",
      "Let's select frames indices: [207, 3048, 1034, 1938, 1524, 2615, 1838, 2541, 3418, 2092, 412, 593, 1405, 2028, 14, 3177, 1066, 1500, 2839, 2001, 433, 1493, 1784, 3499, 39, 1057, 1293, 1964, 3444, 2015, 3433, 1852, 3428, 1279, 365, 1871, 2947, 1023, 3395, 1512, 1532, 1052, 2607, 252, 3352, 3293, 428, 2153, 2826, 1043, 1750, 2555, 2004, 2511, 1496, 1506, 1803, 2631, 2017, 3148, 1912, 1508, 418, 3438, 1857, 2637, 426, 1995, 23, 2996, 2005, 3230, 2635, 2876, 1480, 1972, 53, 3417, 1825, 3400, 1032, 3423, 3441, 2586, 1077, 2809, 1919, 3481, 1789, 1783, 2598, 3003, 1721, 3410, 1946, 3315, 1847, 3270, 3088, 3237]\n",
      "Creating the symbolic link of the video\n",
      "New video was added to the project! Use the function 'extract_frames' to select frames for labeling.\n",
      "The outlier frames are extracted. They are stored in the subdirectory labeled-data\\2010.11.12_16_58_32.\n",
      "Once you extracted frames for all videos, use 'refine_labels' to manually correct the labels.\n"
     ]
    },
    {
     "name": "stderr",
     "output_type": "stream",
     "text": [
      "\r",
      "0it [00:00, ?it/s]"
     ]
    },
    {
     "name": "stdout",
     "output_type": "stream",
     "text": [
      "Method  uncertain  found  2761  putative outlier frames.\n",
      "Do you want to proceed with extracting  100  of those?\n",
      "If this list is very large, perhaps consider changing the paramters (start, stop, p_bound, comparisonbodyparts) or use a different method.\n",
      "Loading video...\n",
      "Duration of video [s]:  26.44 , recorded @  200.0 fps!\n",
      "Overall # of frames:  5288 with (cropped) frame dimensions: \n",
      "Kmeans-quantization based extracting of frames from 0.0  seconds to 26.44  seconds.\n",
      "Extracting and downsampling... 2760  frames from the video.\n"
     ]
    },
    {
     "name": "stderr",
     "output_type": "stream",
     "text": [
      "2760it [01:07, 41.07it/s]\n"
     ]
    },
    {
     "name": "stdout",
     "output_type": "stream",
     "text": [
      "Kmeans clustering ... (this might take a while)\n",
      "Let's select frames indices: [3298, 1, 4422, 766, 2413, 336, 2805, 575, 3752, 2289, 566, 302, 694, 1385, 1967, 2708, 4670, 3705, 396, 701, 2564, 2247, 2363, 3175, 5279, 922, 415, 3562, 2748, 2453, 3552, 469, 2983, 2800, 2194, 403, 2788, 740, 2337, 4325, 790, 3917, 4457, 125, 1465, 2530, 2663, 3838, 814, 3727, 3039, 4666, 565, 255, 2156, 3566, 546, 2235, 249, 5141, 3004, 226, 3817, 1134, 2654, 3520, 3145, 3539, 2847, 2358, 3576, 2431, 2569, 4070, 318, 3740, 4401, 2927, 2477, 3121, 2272, 3075, 4247, 2383, 2827, 3973, 2833, 3708, 2183, 3493, 2734, 3254, 2704, 305, 3276, 3184, 2320, 2350, 2768, 2772]\n",
      "Creating the symbolic link of the video\n",
      "New video was added to the project! Use the function 'extract_frames' to select frames for labeling.\n",
      "The outlier frames are extracted. They are stored in the subdirectory labeled-data\\2010.11.12_16_59_30.\n",
      "Once you extracted frames for all videos, use 'refine_labels' to manually correct the labels.\n"
     ]
    },
    {
     "name": "stderr",
     "output_type": "stream",
     "text": [
      "\r",
      "0it [00:00, ?it/s]"
     ]
    },
    {
     "name": "stdout",
     "output_type": "stream",
     "text": [
      "Method  uncertain  found  2776  putative outlier frames.\n",
      "Do you want to proceed with extracting  100  of those?\n",
      "If this list is very large, perhaps consider changing the paramters (start, stop, p_bound, comparisonbodyparts) or use a different method.\n",
      "Loading video...\n",
      "Duration of video [s]:  26.425 , recorded @  200.0 fps!\n",
      "Overall # of frames:  5285 with (cropped) frame dimensions: \n",
      "Kmeans-quantization based extracting of frames from 0.0  seconds to 26.43  seconds.\n",
      "Extracting and downsampling... 2776  frames from the video.\n"
     ]
    },
    {
     "name": "stderr",
     "output_type": "stream",
     "text": [
      "2776it [01:07, 41.26it/s]\n"
     ]
    },
    {
     "name": "stdout",
     "output_type": "stream",
     "text": [
      "Kmeans clustering ... (this might take a while)\n",
      "Let's select frames indices: [3798, 1034, 4635, 3430, 4907, 2106, 1425, 3188, 5047, 4413, 1682, 2611, 2038, 2155, 1983, 4763, 1770, 478, 4471, 2133, 1421, 1590, 332, 3746, 1987, 1998, 2386, 3465, 1947, 4466, 828, 1636, 2634, 4322, 2081, 1139, 422, 3406, 4972, 4533, 1517, 1807, 3670, 351, 4850, 2048, 2091, 516, 5118, 1552, 1580, 2317, 1461, 3663, 3268, 4283, 1609, 491, 1883, 4658, 237, 2057, 1772, 295, 5224, 1967, 751, 3727, 4469, 1063, 1652, 3776, 386, 4731, 1195, 1801, 2518, 4827, 3225, 1548, 4563, 4948, 2044, 856, 1542, 3703, 4338, 3424, 4510, 3654, 1415, 2225, 5142, 1422, 3831, 3848, 4577, 1502, 672, 2348]\n",
      "Creating the symbolic link of the video\n",
      "New video was added to the project! Use the function 'extract_frames' to select frames for labeling.\n",
      "The outlier frames are extracted. They are stored in the subdirectory labeled-data\\2010.11.12_17_00_11.\n",
      "Once you extracted frames for all videos, use 'refine_labels' to manually correct the labels.\n"
     ]
    },
    {
     "name": "stderr",
     "output_type": "stream",
     "text": [
      "\r",
      "0it [00:00, ?it/s]"
     ]
    },
    {
     "name": "stdout",
     "output_type": "stream",
     "text": [
      "Method  uncertain  found  3768  putative outlier frames.\n",
      "Do you want to proceed with extracting  100  of those?\n",
      "If this list is very large, perhaps consider changing the paramters (start, stop, p_bound, comparisonbodyparts) or use a different method.\n",
      "Loading video...\n",
      "Duration of video [s]:  26.435 , recorded @  200.0 fps!\n",
      "Overall # of frames:  5287 with (cropped) frame dimensions: \n",
      "Kmeans-quantization based extracting of frames from 0.0  seconds to 26.43  seconds.\n",
      "Extracting and downsampling... 3767  frames from the video.\n"
     ]
    },
    {
     "name": "stderr",
     "output_type": "stream",
     "text": [
      "3767it [01:32, 40.69it/s]\n"
     ]
    },
    {
     "name": "stdout",
     "output_type": "stream",
     "text": [
      "Kmeans clustering ... (this might take a while)\n",
      "Let's select frames indices: [117, 3409, 1660, 2160, 415, 2196, 3213, 4704, 2096, 2627, 297, 1633, 4392, 2023, 635, 2040, 1474, 1723, 4642, 188, 1821, 3090, 5130, 1946, 421, 1995, 1091, 669, 4082, 622, 2112, 4698, 2984, 2731, 573, 1164, 879, 203, 215, 783, 1884, 2232, 2317, 2363, 2251, 3903, 3230, 620, 5266, 3045, 1515, 1926, 2135, 184, 4485, 4518, 2929, 2914, 13, 3307, 2834, 3665, 4213, 394, 3527, 1657, 2149, 2571, 2994, 74, 1952, 3370, 2220, 3133, 2381, 434, 584, 2962, 4578, 2689, 2185, 4545, 3826, 4497, 5283, 3982, 2296, 2125, 82, 2058, 2870, 4900, 3089, 4997, 4461, 2931, 3004, 2826]\n",
      "Creating the symbolic link of the video\n",
      "New video was added to the project! Use the function 'extract_frames' to select frames for labeling.\n",
      "The outlier frames are extracted. They are stored in the subdirectory labeled-data\\2010.11.12_17_00_45.\n",
      "Once you extracted frames for all videos, use 'refine_labels' to manually correct the labels.\n"
     ]
    },
    {
     "name": "stderr",
     "output_type": "stream",
     "text": [
      "\r",
      "0it [00:00, ?it/s]"
     ]
    },
    {
     "name": "stdout",
     "output_type": "stream",
     "text": [
      "Method  uncertain  found  2148  putative outlier frames.\n",
      "Do you want to proceed with extracting  100  of those?\n",
      "If this list is very large, perhaps consider changing the paramters (start, stop, p_bound, comparisonbodyparts) or use a different method.\n",
      "Loading video...\n",
      "Duration of video [s]:  26.445 , recorded @  200.0 fps!\n",
      "Overall # of frames:  5289 with (cropped) frame dimensions: \n",
      "Kmeans-quantization based extracting of frames from 0.0  seconds to 26.45  seconds.\n",
      "Extracting and downsampling... 2147  frames from the video.\n"
     ]
    },
    {
     "name": "stderr",
     "output_type": "stream",
     "text": [
      "2147it [00:51, 41.47it/s]\n"
     ]
    },
    {
     "name": "stdout",
     "output_type": "stream",
     "text": [
      "Kmeans clustering ... (this might take a while)\n",
      "Let's select frames indices: [1671, 5277, 2179, 589, 349, 4775, 74, 1864, 2030, 1523, 1283, 2275, 2086, 568, 4014, 4116, 2107, 4670, 1270, 1146, 13, 244, 398, 2151, 1926, 4623, 619, 987, 1943, 2248, 4909, 3914, 2015, 697, 2831, 740, 414, 4863, 248, 2120, 180, 523, 2654, 4568, 2154, 2843, 4059, 4208, 4814, 1908, 2135, 2965, 577, 2269, 4304, 315, 1, 6, 5223, 2087, 3934, 107, 4235, 227, 39, 4828, 1847, 2236, 255, 4881, 5074, 4068, 4476, 4094, 4753, 2558, 4161, 4005, 1658, 1830, 4121, 4874, 2173, 4848, 1275, 5145, 2205, 4752, 131, 4372, 2188, 90, 4884, 261, 2037]\n",
      "Creating the symbolic link of the video\n",
      "New video was added to the project! Use the function 'extract_frames' to select frames for labeling.\n",
      "The outlier frames are extracted. They are stored in the subdirectory labeled-data\\2010.11.12_17_01_19.\n",
      "Once you extracted frames for all videos, use 'refine_labels' to manually correct the labels.\n"
     ]
    },
    {
     "name": "stderr",
     "output_type": "stream",
     "text": [
      "\r",
      "0it [00:00, ?it/s]"
     ]
    },
    {
     "name": "stdout",
     "output_type": "stream",
     "text": [
      "Method  uncertain  found  3399  putative outlier frames.\n",
      "Do you want to proceed with extracting  100  of those?\n",
      "If this list is very large, perhaps consider changing the paramters (start, stop, p_bound, comparisonbodyparts) or use a different method.\n",
      "Loading video...\n",
      "Duration of video [s]:  26.445 , recorded @  200.0 fps!\n",
      "Overall # of frames:  5289 with (cropped) frame dimensions: \n",
      "Kmeans-quantization based extracting of frames from 0.0  seconds to 26.45  seconds.\n",
      "Extracting and downsampling... 3398  frames from the video.\n"
     ]
    },
    {
     "name": "stderr",
     "output_type": "stream",
     "text": [
      "3398it [01:22, 40.96it/s]\n"
     ]
    },
    {
     "name": "stdout",
     "output_type": "stream",
     "text": [
      "Kmeans clustering ... (this might take a while)\n",
      "Let's select frames indices: [4692, 30, 1684, 3165, 4949, 1803, 1081, 2151, 4051, 2284, 1996, 213, 2041, 3096, 2134, 2036, 1775, 1926, 2555, 2061, 4209, 1749, 1232, 250, 2199, 1817, 4980, 2682, 1054, 2630, 2136, 2448, 4130, 3036, 2161, 901, 1724, 3407, 1942, 2978, 525, 2458, 4935, 3337, 2165, 1733, 4045, 1091, 4958, 2571, 2190, 2344, 48, 2141, 3152, 1761, 3513, 3884, 142, 3820, 4824, 4367, 2634, 3071, 2368, 2741, 1677, 2878, 2434, 4528, 2442, 4013, 3835, 3969, 2455, 4711, 2687, 4760, 3269, 3197, 195, 3650, 3673, 783, 4091, 2791, 4925, 2304, 2843, 4879, 2483, 3905, 4858, 2237, 2999, 3354, 2503, 3239, 2909, 1405]\n",
      "Creating the symbolic link of the video\n",
      "New video was added to the project! Use the function 'extract_frames' to select frames for labeling.\n",
      "The outlier frames are extracted. They are stored in the subdirectory labeled-data\\2010.11.12_17_01_53.\n",
      "Once you extracted frames for all videos, use 'refine_labels' to manually correct the labels.\n"
     ]
    },
    {
     "name": "stderr",
     "output_type": "stream",
     "text": [
      "\r",
      "0it [00:00, ?it/s]"
     ]
    },
    {
     "name": "stdout",
     "output_type": "stream",
     "text": [
      "Method  uncertain  found  1453  putative outlier frames.\n",
      "Do you want to proceed with extracting  100  of those?\n",
      "If this list is very large, perhaps consider changing the paramters (start, stop, p_bound, comparisonbodyparts) or use a different method.\n",
      "Loading video...\n",
      "Duration of video [s]:  26.435 , recorded @  200.0 fps!\n",
      "Overall # of frames:  5287 with (cropped) frame dimensions: \n",
      "Kmeans-quantization based extracting of frames from 0.0  seconds to 26.43  seconds.\n",
      "Extracting and downsampling... 1453  frames from the video.\n"
     ]
    },
    {
     "name": "stderr",
     "output_type": "stream",
     "text": [
      "1453it [00:35, 40.50it/s]\n"
     ]
    },
    {
     "name": "stdout",
     "output_type": "stream",
     "text": [
      "Kmeans clustering ... (this might take a while)\n",
      "Let's select frames indices: [368, 2557, 1777, 1952, 948, 3526, 1169, 472, 1122, 1222, 686, 321, 544, 2220, 137, 1799, 2126, 232, 529, 3367, 1877, 499, 1676, 628, 1885, 664, 2148, 1648, 1616, 2517, 1506, 2369, 1208, 1225, 1805, 2721, 2620, 293, 1765, 2467, 1963, 1116, 1058, 1625, 2361, 1421, 953, 1802, 1134, 652, 2825, 3691, 1697, 1151, 1044, 1165, 242, 1233, 675, 3600, 1210, 1196, 667, 337, 1850, 2376, 2600, 389, 2134, 945, 1124, 512, 658, 483, 1903, 1140, 1990, 2021, 1762, 488, 2398, 1894, 1588, 2563, 2682, 2437, 2506, 3678, 2122, 3666, 1794, 1623, 360, 2494, 2806, 1599, 1946, 1630, 2751, 681]\n",
      "Creating the symbolic link of the video\n",
      "New video was added to the project! Use the function 'extract_frames' to select frames for labeling.\n",
      "The outlier frames are extracted. They are stored in the subdirectory labeled-data\\2010.11.12_17_02_36.\n",
      "Once you extracted frames for all videos, use 'refine_labels' to manually correct the labels.\n"
     ]
    },
    {
     "name": "stderr",
     "output_type": "stream",
     "text": [
      "\r",
      "0it [00:00, ?it/s]"
     ]
    },
    {
     "name": "stdout",
     "output_type": "stream",
     "text": [
      "Method  uncertain  found  2819  putative outlier frames.\n",
      "Do you want to proceed with extracting  100  of those?\n",
      "If this list is very large, perhaps consider changing the paramters (start, stop, p_bound, comparisonbodyparts) or use a different method.\n",
      "Loading video...\n",
      "Duration of video [s]:  26.435 , recorded @  200.0 fps!\n",
      "Overall # of frames:  5287 with (cropped) frame dimensions: \n",
      "Kmeans-quantization based extracting of frames from 0.0  seconds to 26.43  seconds.\n",
      "Extracting and downsampling... 2819  frames from the video.\n"
     ]
    },
    {
     "name": "stderr",
     "output_type": "stream",
     "text": [
      "2819it [01:09, 40.69it/s]\n"
     ]
    },
    {
     "name": "stdout",
     "output_type": "stream",
     "text": [
      "Kmeans clustering ... (this might take a while)\n",
      "Let's select frames indices: [4985, 2906, 3347, 1941, 703, 2296, 813, 2128, 4393, 2021, 3395, 1471, 2385, 1622, 3694, 2265, 2030, 3718, 3169, 2254, 3565, 4052, 3680, 984, 2617, 2261, 3001, 2699, 2216, 2069, 2091, 5055, 2865, 2517, 845, 1091, 3749, 1780, 2169, 2456, 2280, 4186, 3522, 919, 3190, 2363, 3130, 4136, 3605, 2050, 3041, 3015, 2658, 2820, 4549, 2096, 571, 4605, 3149, 1523, 1997, 2136, 2035, 792, 3120, 4767, 2314, 5157, 2204, 2242, 2163, 4290, 4699, 3270, 903, 3242, 3459, 3574, 4254, 4070, 3702, 812, 2290, 2229, 2948, 1962, 3187, 4339, 3664, 2410, 3710, 2436, 3078, 4910, 4789, 3733, 2026, 2981, 3582, 4723]\n",
      "Creating the symbolic link of the video\n",
      "New video was added to the project! Use the function 'extract_frames' to select frames for labeling.\n",
      "The outlier frames are extracted. They are stored in the subdirectory labeled-data\\2010.11.12_17_04_03.\n",
      "Once you extracted frames for all videos, use 'refine_labels' to manually correct the labels.\n"
     ]
    },
    {
     "name": "stderr",
     "output_type": "stream",
     "text": [
      "\r",
      "0it [00:00, ?it/s]"
     ]
    },
    {
     "name": "stdout",
     "output_type": "stream",
     "text": [
      "Method  uncertain  found  3926  putative outlier frames.\n",
      "Do you want to proceed with extracting  100  of those?\n",
      "If this list is very large, perhaps consider changing the paramters (start, stop, p_bound, comparisonbodyparts) or use a different method.\n",
      "Loading video...\n",
      "Duration of video [s]:  26.455 , recorded @  200.0 fps!\n",
      "Overall # of frames:  5291 with (cropped) frame dimensions: \n",
      "Kmeans-quantization based extracting of frames from 0.0  seconds to 26.45  seconds.\n",
      "Extracting and downsampling... 3925  frames from the video.\n"
     ]
    },
    {
     "name": "stderr",
     "output_type": "stream",
     "text": [
      "3925it [01:34, 41.68it/s]\n"
     ]
    },
    {
     "name": "stdout",
     "output_type": "stream",
     "text": [
      "Kmeans clustering ... (this might take a while)\n",
      "Let's select frames indices: [2836, 145, 4615, 2092, 1940, 656, 3880, 3083, 1281, 1098, 297, 2736, 4498, 816, 3541, 843, 1996, 364, 3205, 2516, 425, 2165, 507, 3490, 3077, 827, 3826, 163, 1637, 1280, 254, 1920, 194, 1750, 3755, 2860, 212, 5, 2072, 2309, 1559, 3640, 2661, 2724, 160, 3092, 2785, 2243, 4601, 2402, 2324, 3431, 324, 2972, 4205, 2757, 5198, 288, 2955, 3566, 4325, 2193, 2686, 3025, 3101, 2590, 152, 3000, 2120, 3472, 2953, 2023, 4257, 2432, 3147, 3270, 2452, 2398, 831, 3184, 3337, 4367, 2493, 203, 4454, 4883, 4043, 79, 3365, 3715, 2111, 3647, 3538, 3523, 2614, 3260, 4093, 1915, 2271, 5289]\n",
      "Creating the symbolic link of the video\n",
      "New video was added to the project! Use the function 'extract_frames' to select frames for labeling.\n",
      "The outlier frames are extracted. They are stored in the subdirectory labeled-data\\2010.11.12_17_04_41.\n",
      "Once you extracted frames for all videos, use 'refine_labels' to manually correct the labels.\n"
     ]
    },
    {
     "name": "stderr",
     "output_type": "stream",
     "text": [
      "\r",
      "0it [00:00, ?it/s]"
     ]
    },
    {
     "name": "stdout",
     "output_type": "stream",
     "text": [
      "Method  uncertain  found  3379  putative outlier frames.\n",
      "Do you want to proceed with extracting  100  of those?\n",
      "If this list is very large, perhaps consider changing the paramters (start, stop, p_bound, comparisonbodyparts) or use a different method.\n",
      "Loading video...\n",
      "Duration of video [s]:  26.49 , recorded @  200.0 fps!\n",
      "Overall # of frames:  5298 with (cropped) frame dimensions: \n",
      "Kmeans-quantization based extracting of frames from 0.0  seconds to 26.49  seconds.\n",
      "Extracting and downsampling... 3378  frames from the video.\n"
     ]
    },
    {
     "name": "stderr",
     "output_type": "stream",
     "text": [
      "3378it [01:22, 40.91it/s]\n"
     ]
    },
    {
     "name": "stdout",
     "output_type": "stream",
     "text": [
      "Kmeans clustering ... (this might take a while)\n",
      "Let's select frames indices: [4968, 1342, 299, 72, 3076, 5244, 493, 1498, 616, 4348, 3505, 933, 3155, 390, 2026, 5102, 568, 2232, 2734, 4685, 3218, 3918, 1695, 4597, 369, 2672, 1410, 4830, 2938, 3618, 1812, 845, 404, 1666, 3573, 3803, 1989, 1532, 4295, 5226, 1605, 3316, 1647, 1948, 4134, 5080, 211, 637, 236, 3591, 1663, 1571, 3911, 522, 1987, 2527, 1025, 4797, 258, 2002, 4491, 5036, 628, 861, 5122, 5257, 589, 4184, 3816, 1627, 2878, 337, 116, 1982, 5118, 1118, 3104, 1701, 4847, 183, 3231, 5051, 1606, 3511, 1072, 2865, 37, 572, 132, 3396, 3580, 5294, 3025, 2789, 2018, 3372, 4643]\n",
      "Creating the symbolic link of the video\n",
      "New video was added to the project! Use the function 'extract_frames' to select frames for labeling.\n",
      "The outlier frames are extracted. They are stored in the subdirectory labeled-data\\2010.11.12_17_08_15.\n",
      "Once you extracted frames for all videos, use 'refine_labels' to manually correct the labels.\n"
     ]
    },
    {
     "name": "stderr",
     "output_type": "stream",
     "text": [
      "\r",
      "0it [00:00, ?it/s]"
     ]
    },
    {
     "name": "stdout",
     "output_type": "stream",
     "text": [
      "Method  uncertain  found  1891  putative outlier frames.\n",
      "Do you want to proceed with extracting  100  of those?\n",
      "If this list is very large, perhaps consider changing the paramters (start, stop, p_bound, comparisonbodyparts) or use a different method.\n",
      "Loading video...\n",
      "Duration of video [s]:  26.45 , recorded @  200.0 fps!\n",
      "Overall # of frames:  5290 with (cropped) frame dimensions: \n",
      "Kmeans-quantization based extracting of frames from 0.0  seconds to 26.45  seconds.\n",
      "Extracting and downsampling... 1891  frames from the video.\n"
     ]
    },
    {
     "name": "stderr",
     "output_type": "stream",
     "text": [
      "1891it [00:46, 40.44it/s]\n"
     ]
    },
    {
     "name": "stdout",
     "output_type": "stream",
     "text": [
      "Kmeans clustering ... (this might take a while)\n",
      "Let's select frames indices: [2344, 3760, 902, 4432, 1963, 925, 235, 1706, 832, 853, 1511, 181, 3029, 2207, 3875, 4380, 3923, 1035, 1767, 1238, 2421, 1685, 1412, 4302, 2452, 2316, 4409, 1842, 1092, 2407, 2360, 524, 4484, 1206, 580, 599, 481, 910, 4399, 739, 938, 447, 4320, 1519, 465, 1009, 268, 2410, 3533, 3711, 4345, 2105, 3120, 4034, 2030, 584, 2400, 2277, 4429, 609, 843, 473, 4153, 4387, 163, 1701, 2307, 4474, 1805, 455, 2350, 247, 4353, 2348, 3549, 1743, 4201, 2371, 4417, 259, 3001, 1692, 3816, 2335, 2382, 1563, 518, 2435, 4267, 2355, 2425, 2143, 4360, 1890, 4523, 3495, 4188, 3962, 4337]\n",
      "Creating the symbolic link of the video\n",
      "New video was added to the project! Use the function 'extract_frames' to select frames for labeling.\n",
      "The outlier frames are extracted. They are stored in the subdirectory labeled-data\\2010.11.12_17_10_03.\n",
      "Once you extracted frames for all videos, use 'refine_labels' to manually correct the labels.\n"
     ]
    },
    {
     "name": "stderr",
     "output_type": "stream",
     "text": [
      "\r",
      "0it [00:00, ?it/s]"
     ]
    },
    {
     "name": "stdout",
     "output_type": "stream",
     "text": [
      "Method  uncertain  found  1665  putative outlier frames.\n",
      "Do you want to proceed with extracting  100  of those?\n",
      "If this list is very large, perhaps consider changing the paramters (start, stop, p_bound, comparisonbodyparts) or use a different method.\n",
      "Loading video...\n",
      "Duration of video [s]:  26.43 , recorded @  200.0 fps!\n",
      "Overall # of frames:  5286 with (cropped) frame dimensions: \n",
      "Kmeans-quantization based extracting of frames from 0.0  seconds to 26.43  seconds.\n",
      "Extracting and downsampling... 1665  frames from the video.\n"
     ]
    },
    {
     "name": "stderr",
     "output_type": "stream",
     "text": [
      "1665it [00:40, 40.74it/s]\n"
     ]
    },
    {
     "name": "stdout",
     "output_type": "stream",
     "text": [
      "Kmeans clustering ... (this might take a while)\n",
      "Let's select frames indices: [5048, 1805, 3300, 691, 728, 5161, 1623, 488, 1911, 1668, 2006, 476, 1374, 1608, 399, 686, 3086, 2729, 1980, 4458, 2307, 702, 4404, 593, 279, 4672, 1106, 583, 1820, 1929, 2903, 481, 4600, 4723, 485, 1674, 1679, 1955, 3139, 1617, 2138, 2364, 1382, 3266, 1998, 3052, 4914, 2002, 1899, 1845, 3239, 4382, 3061, 4420, 3932, 1619, 1691, 4821, 1441, 5232, 5120, 2801, 1786, 2376, 5014, 4766, 1814, 4916, 3035, 2306, 3029, 1860, 4507, 1952, 4729, 2503, 1944, 4455, 4427, 3481, 3184, 1859, 4966, 4474, 1767, 2946, 4497, 3037, 4897, 1377, 4754, 4625, 1904, 5087, 4681, 2346, 1776, 2853, 5004, 3367]\n",
      "Creating the symbolic link of the video\n",
      "New video was added to the project! Use the function 'extract_frames' to select frames for labeling.\n",
      "The outlier frames are extracted. They are stored in the subdirectory labeled-data\\2010.11.12_17_10_32.\n",
      "Once you extracted frames for all videos, use 'refine_labels' to manually correct the labels.\n"
     ]
    },
    {
     "name": "stderr",
     "output_type": "stream",
     "text": [
      "\r",
      "0it [00:00, ?it/s]"
     ]
    },
    {
     "name": "stdout",
     "output_type": "stream",
     "text": [
      "Method  uncertain  found  1318  putative outlier frames.\n",
      "Do you want to proceed with extracting  100  of those?\n",
      "If this list is very large, perhaps consider changing the paramters (start, stop, p_bound, comparisonbodyparts) or use a different method.\n",
      "Loading video...\n",
      "Duration of video [s]:  26.43 , recorded @  200.0 fps!\n",
      "Overall # of frames:  5286 with (cropped) frame dimensions: \n",
      "Kmeans-quantization based extracting of frames from 0.0  seconds to 26.43  seconds.\n",
      "Extracting and downsampling... 1317  frames from the video.\n"
     ]
    },
    {
     "name": "stderr",
     "output_type": "stream",
     "text": [
      "1317it [00:32, 40.83it/s]\n"
     ]
    },
    {
     "name": "stdout",
     "output_type": "stream",
     "text": [
      "Kmeans clustering ... (this might take a while)\n",
      "Let's select frames indices: [34, 2604, 1259, 1536, 3371, 1768, 190, 2078, 1707, 249, 2566, 1870, 3090, 1730, 1297, 159, 3336, 647, 878, 306, 2083, 3373, 2029, 2417, 2998, 1788, 2063, 1029, 1575, 1278, 875, 764, 2040, 925, 1138, 224, 1696, 1272, 3007, 2371, 2793, 2464, 1176, 2176, 238, 349, 1184, 82, 3048, 1388, 1779, 3076, 1300, 254, 3442, 1706, 2100, 1676, 2036, 213, 1900, 2767, 2842, 2980, 1642, 1764, 1732, 3000, 494, 2408, 881, 3103, 2462, 3011, 1881, 3065, 1546, 1395, 51, 228, 3261, 2596, 1142, 290, 2093, 2969, 2051, 1772, 2994, 2209, 2089, 2484, 181, 1505, 2049, 2126, 3099, 2541, 1712, 2693]\n",
      "Creating the symbolic link of the video\n",
      "New video was added to the project! Use the function 'extract_frames' to select frames for labeling.\n",
      "The outlier frames are extracted. They are stored in the subdirectory labeled-data\\2010.11.12_17_11_07.\n",
      "Once you extracted frames for all videos, use 'refine_labels' to manually correct the labels.\n"
     ]
    },
    {
     "name": "stderr",
     "output_type": "stream",
     "text": [
      "\r",
      "0it [00:00, ?it/s]"
     ]
    },
    {
     "name": "stdout",
     "output_type": "stream",
     "text": [
      "Method  uncertain  found  2647  putative outlier frames.\n",
      "Do you want to proceed with extracting  100  of those?\n",
      "If this list is very large, perhaps consider changing the paramters (start, stop, p_bound, comparisonbodyparts) or use a different method.\n",
      "Loading video...\n",
      "Duration of video [s]:  26.445 , recorded @  200.0 fps!\n",
      "Overall # of frames:  5289 with (cropped) frame dimensions: \n",
      "Kmeans-quantization based extracting of frames from 0.0  seconds to 26.45  seconds.\n",
      "Extracting and downsampling... 2646  frames from the video.\n"
     ]
    },
    {
     "name": "stderr",
     "output_type": "stream",
     "text": [
      "2646it [01:04, 41.33it/s]\n"
     ]
    },
    {
     "name": "stdout",
     "output_type": "stream",
     "text": [
      "Kmeans clustering ... (this might take a while)\n",
      "Let's select frames indices: [3665, 4891, 4036, 132, 3712, 3521, 1039, 3795, 3927, 4558, 1812, 3034, 175, 5271, 44, 3010, 4588, 2525, 634, 2739, 3955, 1189, 2832, 5049, 25, 2401, 2414, 2026, 1281, 254, 4362, 4749, 3871, 117, 2175, 37, 1252, 5154, 1313, 2897, 3390, 2623, 58, 4574, 86, 4090, 14, 2436, 2993, 1860, 3729, 3694, 4237, 4309, 4569, 4785, 3997, 143, 148, 1685, 3896, 821, 3249, 163, 3206, 2986, 3941, 4528, 3770, 3750, 3876, 4982, 3152, 3531, 3851, 152, 3931, 112, 3617, 5033, 2454, 4563, 3041, 3022, 4200, 4297, 110, 1760, 3820, 4863, 2257, 5179, 3707, 3862, 2824, 4970, 5127, 3312, 3453, 4478]\n",
      "Creating the symbolic link of the video\n",
      "New video was added to the project! Use the function 'extract_frames' to select frames for labeling.\n",
      "The outlier frames are extracted. They are stored in the subdirectory labeled-data\\2010.11.12_17_12_19.\n",
      "Once you extracted frames for all videos, use 'refine_labels' to manually correct the labels.\n"
     ]
    },
    {
     "name": "stderr",
     "output_type": "stream",
     "text": [
      "\r",
      "0it [00:00, ?it/s]"
     ]
    },
    {
     "name": "stdout",
     "output_type": "stream",
     "text": [
      "Method  uncertain  found  2751  putative outlier frames.\n",
      "Do you want to proceed with extracting  100  of those?\n",
      "If this list is very large, perhaps consider changing the paramters (start, stop, p_bound, comparisonbodyparts) or use a different method.\n",
      "Loading video...\n",
      "Duration of video [s]:  26.44 , recorded @  200.0 fps!\n",
      "Overall # of frames:  5288 with (cropped) frame dimensions: \n",
      "Kmeans-quantization based extracting of frames from 0.0  seconds to 26.44  seconds.\n",
      "Extracting and downsampling... 2751  frames from the video.\n"
     ]
    },
    {
     "name": "stderr",
     "output_type": "stream",
     "text": [
      "2751it [01:06, 41.30it/s]\n"
     ]
    },
    {
     "name": "stdout",
     "output_type": "stream",
     "text": [
      "Kmeans clustering ... (this might take a while)\n",
      "Let's select frames indices: [3483, 2023, 4131, 873, 2167, 3809, 4795, 391, 2441, 745, 883, 783, 341, 4177, 2642, 3679, 3628, 3962, 3734, 2793, 3603, 3623, 4607, 3332, 4542, 3913, 2037, 612, 4707, 2458, 1403, 603, 2320, 437, 3504, 3474, 1989, 4567, 3830, 727, 4366, 1336, 724, 2065, 4647, 4673, 552, 2887, 2534, 576, 1643, 4645, 4639, 3386, 2736, 3663, 4814, 3324, 3667, 3022, 3410, 3651, 4435, 3042, 3541, 4015, 431, 798, 2115, 790, 2985, 1445, 2511, 2559, 3865, 4420, 2930, 1895, 876, 420, 594, 880, 3683, 3786, 2979, 4803, 2426, 3030, 3540, 3576, 479, 4325, 4742, 2386, 2595, 3673, 1802, 3820, 2428, 4279]\n",
      "Creating the symbolic link of the video\n",
      "New video was added to the project! Use the function 'extract_frames' to select frames for labeling.\n",
      "The outlier frames are extracted. They are stored in the subdirectory labeled-data\\2010.11.12_17_13_06.\n",
      "Once you extracted frames for all videos, use 'refine_labels' to manually correct the labels.\n"
     ]
    },
    {
     "name": "stderr",
     "output_type": "stream",
     "text": [
      "\r",
      "0it [00:00, ?it/s]"
     ]
    },
    {
     "name": "stdout",
     "output_type": "stream",
     "text": [
      "Method  uncertain  found  685  putative outlier frames.\n",
      "Do you want to proceed with extracting  100  of those?\n",
      "If this list is very large, perhaps consider changing the paramters (start, stop, p_bound, comparisonbodyparts) or use a different method.\n",
      "Loading video...\n",
      "Duration of video [s]:  26.495 , recorded @  200.0 fps!\n",
      "Overall # of frames:  5299 with (cropped) frame dimensions: \n",
      "Kmeans-quantization based extracting of frames from 0.0  seconds to 26.5  seconds.\n",
      "Extracting and downsampling... 685  frames from the video.\n"
     ]
    },
    {
     "name": "stderr",
     "output_type": "stream",
     "text": [
      "685it [00:17, 39.75it/s]\n"
     ]
    },
    {
     "name": "stdout",
     "output_type": "stream",
     "text": [
      "Kmeans clustering ... (this might take a while)\n",
      "Let's select frames indices: [4782, 2098, 749, 1584, 2222, 604, 5174, 3537, 2291, 1465, 2362, 913, 2105, 1267, 5269, 3693, 426, 3513, 621, 2157, 1758, 5132, 2648, 3684, 2308, 2071, 3512, 5265, 2338, 2482, 745, 1561, 2088, 2202, 1575, 4958, 384, 4997, 2184, 5241, 2064, 746, 602, 2116, 2335, 2227, 2127, 5100, 2172, 599, 3533, 5207, 2145, 2339, 2280, 2080, 2217, 1576, 5043, 1468, 2091, 4839, 5066, 2273, 4984, 2136, 2163, 2076, 2083, 5294, 2251, 2304, 2069, 2326, 1940, 3523, 4918, 2342, 2188, 5109, 2108, 5224, 5170, 2193, 2189, 2063, 2263, 2210, 2236, 4858, 5280, 2104, 5192, 4940, 2073, 2085, 5256, 2164, 2178, 2277]\n",
      "Creating the symbolic link of the video\n",
      "New video was added to the project! Use the function 'extract_frames' to select frames for labeling.\n",
      "The outlier frames are extracted. They are stored in the subdirectory labeled-data\\2010.11.12_17_13_36.\n",
      "Once you extracted frames for all videos, use 'refine_labels' to manually correct the labels.\n"
     ]
    },
    {
     "name": "stderr",
     "output_type": "stream",
     "text": [
      "8it [00:00, 72.66it/s]"
     ]
    },
    {
     "name": "stdout",
     "output_type": "stream",
     "text": [
      "Method  uncertain  found  3303  putative outlier frames.\n",
      "Do you want to proceed with extracting  100  of those?\n",
      "If this list is very large, perhaps consider changing the paramters (start, stop, p_bound, comparisonbodyparts) or use a different method.\n",
      "Loading video...\n",
      "Duration of video [s]:  26.46 , recorded @  200.0 fps!\n",
      "Overall # of frames:  5292 with (cropped) frame dimensions: \n",
      "Kmeans-quantization based extracting of frames from 0.0  seconds to 26.46  seconds.\n",
      "Extracting and downsampling... 3302  frames from the video.\n"
     ]
    },
    {
     "name": "stderr",
     "output_type": "stream",
     "text": [
      "3302it [01:19, 41.57it/s]\n"
     ]
    },
    {
     "name": "stdout",
     "output_type": "stream",
     "text": [
      "Kmeans clustering ... (this might take a while)\n",
      "Let's select frames indices: [3484, 1459, 1618, 1788, 5121, 3948, 1284, 2351, 1837, 374, 2097, 28, 1928, 1739, 1083, 1692, 2769, 1854, 1956, 4352, 1473, 503, 1804, 1907, 3003, 2373, 1289, 2276, 1888, 4719, 2890, 667, 2539, 2027, 1468, 3287, 3358, 384, 1767, 1778, 3681, 3178, 539, 2698, 1831, 721, 2220, 4592, 4034, 2950, 522, 1981, 3105, 1925, 3154, 3632, 2749, 2234, 1176, 3530, 1811, 3324, 14, 3066, 388, 4391, 5073, 4540, 1698, 2786, 2243, 1456, 4426, 398, 4765, 1712, 5154, 3433, 4398, 4650, 761, 3601, 2845, 2202, 3396, 1747, 3722, 2822, 2649, 3850, 5082, 4585, 1799, 3190, 2757, 3803, 4479, 5218, 3988, 2378]\n",
      "Creating the symbolic link of the video\n",
      "New video was added to the project! Use the function 'extract_frames' to select frames for labeling.\n",
      "The outlier frames are extracted. They are stored in the subdirectory labeled-data\\2010.11.12_17_14_10.\n",
      "Once you extracted frames for all videos, use 'refine_labels' to manually correct the labels.\n",
      "Method  uncertain  found  2044  putative outlier frames.\n",
      "Do you want to proceed with extracting  100  of those?\n",
      "If this list is very large, perhaps consider changing the paramters (start, stop, p_bound, comparisonbodyparts) or use a different method.\n",
      "Loading video...\n"
     ]
    },
    {
     "name": "stderr",
     "output_type": "stream",
     "text": [
      "4it [00:00, 33.80it/s]"
     ]
    },
    {
     "name": "stdout",
     "output_type": "stream",
     "text": [
      "Duration of video [s]:  26.43 , recorded @  200.0 fps!\n",
      "Overall # of frames:  5286 with (cropped) frame dimensions: \n",
      "Kmeans-quantization based extracting of frames from 0.0  seconds to 26.43  seconds.\n",
      "Extracting and downsampling... 2044  frames from the video.\n"
     ]
    },
    {
     "name": "stderr",
     "output_type": "stream",
     "text": [
      "2044it [00:49, 41.04it/s]\n"
     ]
    },
    {
     "name": "stdout",
     "output_type": "stream",
     "text": [
      "Kmeans clustering ... (this might take a while)\n",
      "Let's select frames indices: [5111, 514, 2947, 4528, 777, 300, 1165, 1672, 3691, 747, 1259, 4644, 320, 2091, 2502, 1367, 613, 1260, 4230, 567, 507, 1122, 1430, 3575, 3993, 4108, 999, 1238, 4029, 3424, 5226, 3149, 1178, 4155, 3239, 2967, 1708, 293, 3626, 4083, 512, 3004, 3818, 3760, 3977, 4372, 4712, 3011, 2005, 5077, 4872, 509, 3867, 4707, 3017, 4275, 2959, 2970, 1262, 4132, 4295, 3972, 4161, 1253, 4499, 3964, 3939, 4831, 5257, 4113, 4939, 4096, 3498, 2994, 4205, 5084, 3726, 4253, 4383, 2049, 354, 4747, 4564, 1677, 2976, 4460, 4787, 3804, 3667, 4862, 4411, 4484, 1691, 4590, 4972, 2955, 3603, 5219, 4584, 5157]\n",
      "Creating the symbolic link of the video\n",
      "New video was added to the project! Use the function 'extract_frames' to select frames for labeling.\n",
      "The outlier frames are extracted. They are stored in the subdirectory labeled-data\\2010.11.12_17_14_46.\n",
      "Once you extracted frames for all videos, use 'refine_labels' to manually correct the labels.\n"
     ]
    },
    {
     "name": "stderr",
     "output_type": "stream",
     "text": [
      "\r",
      "0it [00:00, ?it/s]"
     ]
    },
    {
     "name": "stdout",
     "output_type": "stream",
     "text": [
      "Method  uncertain  found  2521  putative outlier frames.\n",
      "Do you want to proceed with extracting  100  of those?\n",
      "If this list is very large, perhaps consider changing the paramters (start, stop, p_bound, comparisonbodyparts) or use a different method.\n",
      "Loading video...\n",
      "Duration of video [s]:  26.435 , recorded @  200.0 fps!\n",
      "Overall # of frames:  5287 with (cropped) frame dimensions: \n",
      "Kmeans-quantization based extracting of frames from 0.0  seconds to 26.43  seconds.\n",
      "Extracting and downsampling... 2520  frames from the video.\n"
     ]
    },
    {
     "name": "stderr",
     "output_type": "stream",
     "text": [
      "2520it [01:01, 40.65it/s]\n"
     ]
    },
    {
     "name": "stdout",
     "output_type": "stream",
     "text": [
      "Kmeans clustering ... (this might take a while)\n",
      "Let's select frames indices: [2184, 3211, 5180, 5231, 3848, 4295, 2469, 2088, 1660, 1319, 395, 1652, 1968, 2861, 1494, 4536, 4350, 1237, 5043, 15, 3173, 2309, 828, 2352, 157, 4505, 2716, 4703, 6, 640, 3534, 2264, 3776, 1111, 3560, 3012, 1608, 4215, 729, 1598, 840, 5175, 1688, 4205, 3637, 2316, 905, 2328, 1903, 2291, 4100, 4831, 2158, 1827, 1670, 5034, 2958, 1949, 4098, 4737, 2050, 3523, 3679, 1925, 2370, 4237, 3107, 1456, 2691, 2036, 1625, 2661, 4328, 2824, 2169, 2011, 2393, 5100, 3008, 2979, 3875, 2175, 2901, 4816, 2645, 2233, 4260, 3544, 2922, 1676, 2734, 3257, 3209, 2391, 3047, 3724, 4872, 2756, 2102, 2614]\n",
      "Creating the symbolic link of the video\n",
      "New video was added to the project! Use the function 'extract_frames' to select frames for labeling.\n",
      "The outlier frames are extracted. They are stored in the subdirectory labeled-data\\2010.11.12_17_15_15.\n",
      "Once you extracted frames for all videos, use 'refine_labels' to manually correct the labels.\n"
     ]
    },
    {
     "name": "stderr",
     "output_type": "stream",
     "text": [
      "\r",
      "0it [00:00, ?it/s]"
     ]
    },
    {
     "name": "stdout",
     "output_type": "stream",
     "text": [
      "Method  uncertain  found  644  putative outlier frames.\n",
      "Do you want to proceed with extracting  100  of those?\n",
      "If this list is very large, perhaps consider changing the paramters (start, stop, p_bound, comparisonbodyparts) or use a different method.\n",
      "Loading video...\n",
      "Duration of video [s]:  27.175 , recorded @  200.0 fps!\n",
      "Overall # of frames:  5435 with (cropped) frame dimensions: \n",
      "Kmeans-quantization based extracting of frames from 0.0  seconds to 27.18  seconds.\n",
      "Extracting and downsampling... 644  frames from the video.\n"
     ]
    },
    {
     "name": "stderr",
     "output_type": "stream",
     "text": [
      "644it [00:20, 31.86it/s]\n"
     ]
    },
    {
     "name": "stdout",
     "output_type": "stream",
     "text": [
      "Kmeans clustering ... (this might take a while)\n",
      "Let's select frames indices: [222, 1964, 2684, 3861, 4132, 3209, 478, 1144, 1700, 4221, 63, 744, 2215, 2648, 3940, 4154, 1905, 4167, 2548, 1263, 3885, 3697, 1154, 896, 2106, 3635, 4095, 2620, 1915, 949, 1881, 986, 4099, 2285, 3597, 3445, 2342, 570, 642, 2042, 2707, 3195, 2499, 2568, 2012, 2089, 3797, 4213, 3682, 3660, 440, 1368, 2527, 3856, 4164, 2362, 1302, 230, 2068, 2553, 1186, 3959, 2219, 2269, 4127, 971, 995, 1887, 3198, 2518, 3718, 421, 3880, 1242, 1576, 4229, 2658, 4204, 3946, 1652, 3640, 217, 1067, 2309, 4111, 867, 4155, 3944, 3221, 2222, 4117, 4188, 114, 3434, 3669, 980, 4134, 3648, 3936, 2690]\n",
      "Creating the symbolic link of the video\n",
      "New video was added to the project! Use the function 'extract_frames' to select frames for labeling.\n",
      "The outlier frames are extracted. They are stored in the subdirectory labeled-data\\2010.11.12_09_41_14.\n",
      "Once you extracted frames for all videos, use 'refine_labels' to manually correct the labels.\n"
     ]
    },
    {
     "name": "stderr",
     "output_type": "stream",
     "text": [
      "\r",
      "0it [00:00, ?it/s]"
     ]
    },
    {
     "name": "stdout",
     "output_type": "stream",
     "text": [
      "Method  uncertain  found  1214  putative outlier frames.\n",
      "Do you want to proceed with extracting  100  of those?\n",
      "If this list is very large, perhaps consider changing the paramters (start, stop, p_bound, comparisonbodyparts) or use a different method.\n",
      "Loading video...\n",
      "Duration of video [s]:  26.99 , recorded @  200.0 fps!\n",
      "Overall # of frames:  5398 with (cropped) frame dimensions: \n",
      "Kmeans-quantization based extracting of frames from 0.0  seconds to 26.99  seconds.\n",
      "Extracting and downsampling... 1214  frames from the video.\n"
     ]
    },
    {
     "name": "stderr",
     "output_type": "stream",
     "text": [
      "1214it [00:34, 34.72it/s]\n"
     ]
    },
    {
     "name": "stdout",
     "output_type": "stream",
     "text": [
      "Kmeans clustering ... (this might take a while)\n",
      "Let's select frames indices: [3872, 82, 910, 519, 4224, 3387, 281, 1345, 470, 842, 453, 605, 531, 3507, 1565, 1053, 4611, 950, 568, 3404, 143, 540, 3557, 931, 1665, 4114, 4390, 468, 3564, 670, 3427, 4291, 368, 4043, 86, 3589, 1824, 924, 3019, 3937, 919, 901, 268, 1657, 112, 4178, 1585, 440, 3468, 1168, 3375, 675, 617, 3420, 509, 4451, 3945, 848, 672, 3517, 3480, 3412, 3802, 502, 3451, 1660, 938, 958, 539, 478, 709, 3536, 4029, 1485, 3715, 461, 4361, 3463, 1578, 508, 3491, 3371, 935, 4253, 3542, 1350, 699, 3448, 3511, 845, 4539, 3534, 525, 514, 1570, 542, 3407, 3617]\n",
      "Creating the symbolic link of the video\n",
      "New video was added to the project! Use the function 'extract_frames' to select frames for labeling.\n",
      "The outlier frames are extracted. They are stored in the subdirectory labeled-data\\2010.11.12_10_21_17.\n",
      "Once you extracted frames for all videos, use 'refine_labels' to manually correct the labels.\n"
     ]
    },
    {
     "name": "stderr",
     "output_type": "stream",
     "text": [
      "\r",
      "0it [00:00, ?it/s]"
     ]
    },
    {
     "name": "stdout",
     "output_type": "stream",
     "text": [
      "Method  uncertain  found  956  putative outlier frames.\n",
      "Do you want to proceed with extracting  100  of those?\n",
      "If this list is very large, perhaps consider changing the paramters (start, stop, p_bound, comparisonbodyparts) or use a different method.\n",
      "Loading video...\n",
      "Duration of video [s]:  26.96 , recorded @  200.0 fps!\n",
      "Overall # of frames:  5392 with (cropped) frame dimensions: \n",
      "Kmeans-quantization based extracting of frames from 0.0  seconds to 26.96  seconds.\n",
      "Extracting and downsampling... 955  frames from the video.\n"
     ]
    },
    {
     "name": "stderr",
     "output_type": "stream",
     "text": [
      "955it [00:27, 34.76it/s]\n"
     ]
    },
    {
     "name": "stdout",
     "output_type": "stream",
     "text": [
      "Kmeans clustering ... (this might take a while)\n",
      "Let's select frames indices: [2386, 967, 2574, 91, 4628, 17, 334, 3397, 1148, 1039, 1897, 586, 1657, 417, 55, 1144, 2683, 3358, 1723, 2591, 1065, 441, 349, 2727, 1459, 782, 47, 4610, 1329, 4600, 4133, 1128, 537, 1054, 521, 1391, 3528, 184, 1371, 2321, 1713, 3272, 2042, 4326, 1455, 503, 4333, 623, 1627, 965, 350, 1221, 3, 698, 563, 2471, 378, 1107, 3362, 928, 839, 343, 742, 1325, 23, 1936, 2717, 1036, 3451, 3039, 3559, 3259, 4278, 1057, 2363, 2403, 1042, 340, 2539, 1407, 1442, 3268, 3495, 2518, 2599, 26, 3051, 1374, 1638, 2325, 3471, 1073, 3383, 3244, 1666, 1445, 2440, 1893, 3250]\n",
      "Creating the symbolic link of the video\n",
      "New video was added to the project! Use the function 'extract_frames' to select frames for labeling.\n",
      "The outlier frames are extracted. They are stored in the subdirectory labeled-data\\2010.11.12_10_23_19.\n",
      "Once you extracted frames for all videos, use 'refine_labels' to manually correct the labels.\n"
     ]
    },
    {
     "name": "stderr",
     "output_type": "stream",
     "text": [
      "\r",
      "0it [00:00, ?it/s]"
     ]
    },
    {
     "name": "stdout",
     "output_type": "stream",
     "text": [
      "Method  uncertain  found  5286  putative outlier frames.\n",
      "Do you want to proceed with extracting  100  of those?\n",
      "If this list is very large, perhaps consider changing the paramters (start, stop, p_bound, comparisonbodyparts) or use a different method.\n",
      "Loading video...\n",
      "Duration of video [s]:  26.43 , recorded @  200.0 fps!\n",
      "Overall # of frames:  5286 with (cropped) frame dimensions: \n",
      "Kmeans-quantization based extracting of frames from 0.0  seconds to 26.43  seconds.\n",
      "Extracting and downsampling... 5285  frames from the video.\n"
     ]
    },
    {
     "name": "stderr",
     "output_type": "stream",
     "text": [
      "5285it [00:14, 362.88it/s]\n"
     ]
    },
    {
     "name": "stdout",
     "output_type": "stream",
     "text": [
      "Kmeans clustering ... (this might take a while)\n",
      "Let's select frames indices: [1346, 5196, 728, 4979, 4694, 5140, 1848, 4370, 2152, 2449, 205, 4629, 3034, 65, 4181, 2372, 4550, 2712, 3811, 2209, 1496, 3509, 3512, 789, 3240, 3022, 584, 1766, 4514, 277, 1468, 3606, 1556, 382, 405, 2070, 2423, 5072, 2518, 1101, 1582, 861, 1380, 2093, 2005, 4332, 3892, 4810, 3440, 1735, 4558, 2673, 1653, 484, 4585, 2034, 2555, 2816, 3064, 303, 3745, 2335, 989, 1178, 4669, 666, 660, 2862, 3354, 1759, 3410, 2604, 1127, 4421, 3162, 4401, 633, 115, 4481, 846, 3685, 3872, 4833, 4120, 2699, 2411, 1953, 1642, 183, 4770, 218, 134, 2358, 3549, 1269, 3911, 1808, 2259, 4519, 525]\n",
      "Creating the symbolic link of the video\n",
      "New video was added to the project! Use the function 'extract_frames' to select frames for labeling.\n",
      "The outlier frames are extracted. They are stored in the subdirectory labeled-data\\2010.11.12_11_18_30.\n",
      "Once you extracted frames for all videos, use 'refine_labels' to manually correct the labels.\n"
     ]
    },
    {
     "name": "stderr",
     "output_type": "stream",
     "text": [
      "\r",
      "0it [00:00, ?it/s]"
     ]
    },
    {
     "name": "stdout",
     "output_type": "stream",
     "text": [
      "Method  uncertain  found  5285  putative outlier frames.\n",
      "Do you want to proceed with extracting  100  of those?\n",
      "If this list is very large, perhaps consider changing the paramters (start, stop, p_bound, comparisonbodyparts) or use a different method.\n",
      "Loading video...\n",
      "Duration of video [s]:  26.425 , recorded @  200.0 fps!\n",
      "Overall # of frames:  5285 with (cropped) frame dimensions: \n",
      "Kmeans-quantization based extracting of frames from 0.0  seconds to 26.43  seconds.\n",
      "Extracting and downsampling... 5284  frames from the video.\n"
     ]
    },
    {
     "name": "stderr",
     "output_type": "stream",
     "text": [
      "5284it [00:14, 357.77it/s]\n"
     ]
    },
    {
     "name": "stdout",
     "output_type": "stream",
     "text": [
      "Kmeans clustering ... (this might take a while)\n",
      "Let's select frames indices: [4042, 4638, 875, 2217, 4220, 2640, 1616, 214, 3375, 1091, 4934, 2816, 1828, 3333, 2051, 3043, 1445, 3119, 4331, 2359, 469, 94, 4012, 1167, 4454, 517, 3649, 2963, 3948, 3309, 3992, 1537, 1016, 3018, 441, 3785, 1352, 1381, 5059, 2459, 1907, 2681, 167, 3682, 3741, 773, 2206, 5200, 2294, 1448, 4997, 1855, 3251, 3667, 1721, 4880, 4489, 289, 3833, 2139, 1950, 2222, 1747, 3572, 2572, 1653, 5268, 1997, 3177, 3700, 4807, 3502, 3068, 2033, 2447, 3035, 747, 1150, 4611, 3528, 1301, 31, 1269, 3822, 3910, 1469, 1692, 836, 2834, 4448, 146, 1584, 569, 4729, 1923, 897, 5172, 3653, 640, 1245]\n",
      "Creating the symbolic link of the video\n",
      "New video was added to the project! Use the function 'extract_frames' to select frames for labeling.\n",
      "The outlier frames are extracted. They are stored in the subdirectory labeled-data\\2010.11.12_11_20_15.\n",
      "Once you extracted frames for all videos, use 'refine_labels' to manually correct the labels.\n"
     ]
    },
    {
     "name": "stderr",
     "output_type": "stream",
     "text": [
      "\r",
      "0it [00:00, ?it/s]"
     ]
    },
    {
     "name": "stdout",
     "output_type": "stream",
     "text": [
      "Method  uncertain  found  5286  putative outlier frames.\n",
      "Do you want to proceed with extracting  100  of those?\n",
      "If this list is very large, perhaps consider changing the paramters (start, stop, p_bound, comparisonbodyparts) or use a different method.\n",
      "Loading video...\n",
      "Duration of video [s]:  26.43 , recorded @  200.0 fps!\n",
      "Overall # of frames:  5286 with (cropped) frame dimensions: \n",
      "Kmeans-quantization based extracting of frames from 0.0  seconds to 26.43  seconds.\n",
      "Extracting and downsampling... 5285  frames from the video.\n"
     ]
    },
    {
     "name": "stderr",
     "output_type": "stream",
     "text": [
      "5285it [00:15, 350.55it/s]\n"
     ]
    },
    {
     "name": "stdout",
     "output_type": "stream",
     "text": [
      "Kmeans clustering ... (this might take a while)\n",
      "Let's select frames indices: [4574, 1137, 455, 2926, 2135, 1768, 2565, 2683, 3804, 808, 3683, 5142, 2273, 965, 3384, 3, 3015, 3711, 3932, 1420, 2385, 4109, 4231, 1967, 1519, 1708, 506, 1268, 4004, 328, 715, 3985, 2043, 2718, 2461, 4412, 3842, 1035, 4362, 2211, 1502, 2099, 1689, 4060, 3531, 871, 2327, 3858, 2492, 4959, 4298, 136, 2966, 2451, 3545, 3258, 2435, 4314, 664, 1549, 1335, 4217, 2181, 1154, 2539, 2986, 897, 4762, 3047, 2606, 1909, 3194, 1931, 4175, 563, 1560, 1209, 3885, 3180, 1090, 1017, 3078, 1535, 842, 732, 3485, 4074, 702, 2156, 1467, 3590, 1620, 3744, 614, 3445, 1053, 3100, 2465, 2030, 687]\n",
      "Creating the symbolic link of the video\n",
      "New video was added to the project! Use the function 'extract_frames' to select frames for labeling.\n",
      "The outlier frames are extracted. They are stored in the subdirectory labeled-data\\2010.11.12_11_21_11.\n",
      "Once you extracted frames for all videos, use 'refine_labels' to manually correct the labels.\n"
     ]
    },
    {
     "name": "stderr",
     "output_type": "stream",
     "text": [
      "\r",
      "0it [00:00, ?it/s]"
     ]
    },
    {
     "name": "stdout",
     "output_type": "stream",
     "text": [
      "Method  uncertain  found  5290  putative outlier frames.\n",
      "Do you want to proceed with extracting  100  of those?\n",
      "If this list is very large, perhaps consider changing the paramters (start, stop, p_bound, comparisonbodyparts) or use a different method.\n",
      "Loading video...\n",
      "Duration of video [s]:  26.45 , recorded @  200.0 fps!\n",
      "Overall # of frames:  5290 with (cropped) frame dimensions: \n",
      "Kmeans-quantization based extracting of frames from 0.0  seconds to 26.45  seconds.\n",
      "Extracting and downsampling... 5289  frames from the video.\n"
     ]
    },
    {
     "name": "stderr",
     "output_type": "stream",
     "text": [
      "5289it [00:15, 350.88it/s]\n"
     ]
    },
    {
     "name": "stdout",
     "output_type": "stream",
     "text": [
      "Kmeans clustering ... (this might take a while)\n",
      "Let's select frames indices: [1300, 3738, 125, 2435, 4392, 2748, 4989, 1018, 2496, 2839, 4701, 4479, 2302, 330, 1050, 4197, 2343, 4338, 2656, 2927, 2016, 2183, 639, 3123, 1919, 4029, 282, 2155, 920, 1495, 2481, 3267, 4601, 1705, 1454, 1651, 3260, 2769, 3014, 1298, 1573, 3520, 1541, 3578, 2143, 556, 2878, 2596, 2651, 4883, 3643, 5228, 1354, 3227, 1828, 737, 217, 2556, 3853, 2392, 2210, 344, 3045, 2713, 3217, 3190, 1743, 3012, 833, 1365, 2760, 4914, 2393, 3680, 1532, 2445, 3395, 1782, 598, 2457, 2289, 402, 4541, 2985, 3453, 398, 2512, 2537, 1711, 3368, 925, 701, 500, 2253, 271, 767, 3077, 4836, 2306, 4255]\n",
      "Creating the symbolic link of the video\n",
      "New video was added to the project! Use the function 'extract_frames' to select frames for labeling.\n",
      "The outlier frames are extracted. They are stored in the subdirectory labeled-data\\2010.11.12_11_24_34.\n",
      "Once you extracted frames for all videos, use 'refine_labels' to manually correct the labels.\n"
     ]
    },
    {
     "name": "stderr",
     "output_type": "stream",
     "text": [
      "\r",
      "0it [00:00, ?it/s]"
     ]
    },
    {
     "name": "stdout",
     "output_type": "stream",
     "text": [
      "Method  uncertain  found  5286  putative outlier frames.\n",
      "Do you want to proceed with extracting  100  of those?\n",
      "If this list is very large, perhaps consider changing the paramters (start, stop, p_bound, comparisonbodyparts) or use a different method.\n",
      "Loading video...\n",
      "Duration of video [s]:  26.43 , recorded @  200.0 fps!\n",
      "Overall # of frames:  5286 with (cropped) frame dimensions: \n",
      "Kmeans-quantization based extracting of frames from 0.0  seconds to 26.43  seconds.\n",
      "Extracting and downsampling... 5285  frames from the video.\n"
     ]
    },
    {
     "name": "stderr",
     "output_type": "stream",
     "text": [
      "5285it [00:15, 345.59it/s]\n"
     ]
    },
    {
     "name": "stdout",
     "output_type": "stream",
     "text": [
      "Kmeans clustering ... (this might take a while)\n",
      "Let's select frames indices: [2906, 736, 1956, 5279, 1459, 2170, 71, 3914, 4440, 1559, 4172, 3493, 1284, 1127, 275, 3831, 852, 1798, 4131, 2289, 418, 4820, 4040, 497, 2757, 1989, 1043, 1103, 4593, 724, 3727, 1879, 3391, 1231, 2147, 1771, 1441, 684, 1699, 1623, 4127, 1408, 380, 2399, 451, 800, 1736, 5242, 1554, 2826, 1866, 3977, 897, 2477, 4218, 1657, 577, 2048, 3087, 2105, 2351, 3258, 3579, 1016, 1936, 1118, 860, 224, 4411, 4770, 109, 2518, 650, 5067, 2194, 2237, 1347, 3792, 4273, 1140, 929, 1162, 2440, 4728, 352, 596, 1389, 2068, 1517, 1241, 2541, 4052, 5023, 5159, 2310, 533, 3168, 471, 1679, 4588]\n",
      "Creating the symbolic link of the video\n",
      "New video was added to the project! Use the function 'extract_frames' to select frames for labeling.\n",
      "The outlier frames are extracted. They are stored in the subdirectory labeled-data\\2010.11.12_11_27_07.\n",
      "Once you extracted frames for all videos, use 'refine_labels' to manually correct the labels.\n"
     ]
    },
    {
     "name": "stderr",
     "output_type": "stream",
     "text": [
      "\r",
      "0it [00:00, ?it/s]"
     ]
    },
    {
     "name": "stdout",
     "output_type": "stream",
     "text": [
      "Method  uncertain  found  5287  putative outlier frames.\n",
      "Do you want to proceed with extracting  100  of those?\n",
      "If this list is very large, perhaps consider changing the paramters (start, stop, p_bound, comparisonbodyparts) or use a different method.\n",
      "Loading video...\n",
      "Duration of video [s]:  26.435 , recorded @  200.0 fps!\n",
      "Overall # of frames:  5287 with (cropped) frame dimensions: \n",
      "Kmeans-quantization based extracting of frames from 0.0  seconds to 26.43  seconds.\n",
      "Extracting and downsampling... 5286  frames from the video.\n"
     ]
    },
    {
     "name": "stderr",
     "output_type": "stream",
     "text": [
      "5286it [00:14, 352.98it/s]\n"
     ]
    },
    {
     "name": "stdout",
     "output_type": "stream",
     "text": [
      "Kmeans clustering ... (this might take a while)\n",
      "Let's select frames indices: [93, 3112, 4745, 739, 2277, 921, 257, 1794, 2380, 1873, 3843, 4252, 1581, 1825, 1762, 4042, 1696, 861, 2012, 688, 1351, 3107, 1197, 104, 269, 4119, 4610, 1455, 2009, 852, 2438, 1473, 2554, 1120, 770, 2811, 1650, 417, 1747, 2421, 1570, 1922, 130, 3285, 4358, 2089, 1618, 1529, 3393, 4028, 1933, 2593, 2648, 1604, 469, 1236, 313, 1160, 5, 1384, 1803, 556, 2965, 1374, 1193, 3201, 1954, 2333, 588, 1321, 797, 1864, 593, 482, 2220, 1034, 2616, 4155, 4095, 173, 1905, 1114, 3881, 2302, 3992, 4175, 1334, 2085, 1889, 2700, 1709, 1506, 2312, 1007, 3313, 4237, 2487, 2037, 980, 1436]\n",
      "Creating the symbolic link of the video\n",
      "New video was added to the project! Use the function 'extract_frames' to select frames for labeling.\n",
      "The outlier frames are extracted. They are stored in the subdirectory labeled-data\\2010.11.12_11_27_42.\n",
      "Once you extracted frames for all videos, use 'refine_labels' to manually correct the labels.\n"
     ]
    },
    {
     "name": "stderr",
     "output_type": "stream",
     "text": [
      "\r",
      "0it [00:00, ?it/s]"
     ]
    },
    {
     "name": "stdout",
     "output_type": "stream",
     "text": [
      "Method  uncertain  found  5286  putative outlier frames.\n",
      "Do you want to proceed with extracting  100  of those?\n",
      "If this list is very large, perhaps consider changing the paramters (start, stop, p_bound, comparisonbodyparts) or use a different method.\n",
      "Loading video...\n",
      "Duration of video [s]:  26.43 , recorded @  200.0 fps!\n",
      "Overall # of frames:  5286 with (cropped) frame dimensions: \n",
      "Kmeans-quantization based extracting of frames from 0.0  seconds to 26.43  seconds.\n",
      "Extracting and downsampling... 5285  frames from the video.\n"
     ]
    },
    {
     "name": "stderr",
     "output_type": "stream",
     "text": [
      "5285it [00:15, 345.77it/s]\n"
     ]
    },
    {
     "name": "stdout",
     "output_type": "stream",
     "text": [
      "Kmeans clustering ... (this might take a while)\n",
      "Let's select frames indices: [3635, 974, 638, 1562, 78, 2013, 1303, 2759, 364, 3807, 921, 1677, 874, 1072, 806, 2483, 611, 1435, 1081, 418, 2708, 292, 937, 18, 527, 3856, 1488, 1596, 1159, 2366, 2498, 91, 1516, 1278, 2469, 4217, 1725, 4773, 1669, 2958, 1318, 166, 684, 1382, 1214, 2890, 1817, 1614, 2445, 1339, 1132, 103, 3340, 198, 885, 126, 4268, 735, 1773, 242, 272, 397, 1849, 5262, 1253, 848, 5208, 714, 2136, 755, 618, 3005, 942, 1136, 1241, 2238, 557, 1396, 1868, 4572, 768, 999, 28, 2835, 2661, 1053, 5130, 4621, 583, 1846, 685, 3099, 67, 2552, 342, 3427, 1462, 903, 1675, 1897]\n",
      "Creating the symbolic link of the video\n",
      "New video was added to the project! Use the function 'extract_frames' to select frames for labeling.\n",
      "The outlier frames are extracted. They are stored in the subdirectory labeled-data\\2010.11.12_11_28_42.\n",
      "Once you extracted frames for all videos, use 'refine_labels' to manually correct the labels.\n"
     ]
    },
    {
     "name": "stderr",
     "output_type": "stream",
     "text": [
      "\r",
      "0it [00:00, ?it/s]"
     ]
    },
    {
     "name": "stdout",
     "output_type": "stream",
     "text": [
      "Method  uncertain  found  5284  putative outlier frames.\n",
      "Do you want to proceed with extracting  100  of those?\n",
      "If this list is very large, perhaps consider changing the paramters (start, stop, p_bound, comparisonbodyparts) or use a different method.\n",
      "Loading video...\n",
      "Duration of video [s]:  26.425 , recorded @  200.0 fps!\n",
      "Overall # of frames:  5285 with (cropped) frame dimensions: \n",
      "Kmeans-quantization based extracting of frames from 0.0  seconds to 26.43  seconds.\n",
      "Extracting and downsampling... 5283  frames from the video.\n"
     ]
    },
    {
     "name": "stderr",
     "output_type": "stream",
     "text": [
      "5283it [02:10, 40.36it/s]\n"
     ]
    },
    {
     "name": "stdout",
     "output_type": "stream",
     "text": [
      "Kmeans clustering ... (this might take a while)\n",
      "Let's select frames indices: [27, 4785, 2102, 1400, 1295, 1586, 2257, 1068, 207, 632, 137, 2055, 1853, 533, 329, 2035, 4144, 1223, 3189, 409, 377, 1644, 763, 285, 183, 1780, 855, 1340, 1140, 4876, 996, 1363, 1423, 1621, 1721, 2366, 388, 1901, 559, 783, 933, 2918, 837, 1169, 4939, 2091, 956, 1568, 1958, 1835, 1374, 613, 3513, 1251, 1348, 2675, 2171, 4014, 1508, 335, 1301, 799, 460, 425, 1378, 1418, 227, 1767, 683, 1603, 1659, 2640, 1331, 1278, 3870, 2850, 816, 3950, 401, 1884, 4673, 1047, 1452, 1081, 80, 313, 2531, 1597, 655, 1521, 1281, 3013, 3431, 161, 2389, 700, 2192, 1829, 2448, 504]\n",
      "Creating the symbolic link of the video\n",
      "New video was added to the project! Use the function 'extract_frames' to select frames for labeling.\n",
      "The outlier frames are extracted. They are stored in the subdirectory labeled-data\\2010.11.12_11_30_40.\n",
      "Once you extracted frames for all videos, use 'refine_labels' to manually correct the labels.\n"
     ]
    },
    {
     "name": "stderr",
     "output_type": "stream",
     "text": [
      "\r",
      "0it [00:00, ?it/s]"
     ]
    },
    {
     "name": "stdout",
     "output_type": "stream",
     "text": [
      "Method  uncertain  found  5286  putative outlier frames.\n",
      "Do you want to proceed with extracting  100  of those?\n",
      "If this list is very large, perhaps consider changing the paramters (start, stop, p_bound, comparisonbodyparts) or use a different method.\n",
      "Loading video...\n",
      "Duration of video [s]:  26.435 , recorded @  200.0 fps!\n",
      "Overall # of frames:  5287 with (cropped) frame dimensions: \n",
      "Kmeans-quantization based extracting of frames from 0.0  seconds to 26.43  seconds.\n",
      "Extracting and downsampling... 5285  frames from the video.\n"
     ]
    },
    {
     "name": "stderr",
     "output_type": "stream",
     "text": [
      "5285it [02:18, 38.20it/s]\n"
     ]
    },
    {
     "name": "stdout",
     "output_type": "stream",
     "text": [
      "Kmeans clustering ... (this might take a while)\n",
      "Let's select frames indices: [18, 4347, 1617, 2313, 4955, 360, 1418, 3068, 3756, 3323, 4047, 2276, 2078, 2980, 5286, 1863, 2407, 3786, 141, 2255, 4104, 1635, 2686, 4453, 4286, 4620, 2188, 2353, 2026, 3292, 3640, 242, 3857, 2435, 2204, 2291, 3446, 3811, 2538, 3472, 1860, 3662, 3300, 1830, 2853, 1925, 3025, 2474, 3462, 3007, 3253, 1737, 2653, 4539, 3721, 4414, 3136, 2607, 1508, 2785, 2849, 2345, 4111, 2039, 733, 3517, 3223, 4721, 3351, 1952, 4228, 3033, 685, 2867, 3936, 2160, 209, 2693, 3128, 2933, 2054, 2069, 1771, 2944, 1682, 2544, 5147, 3114, 2570, 2630, 2550, 2813, 1964, 2765, 3964, 293, 3737, 439, 3171, 3278]\n",
      "Creating the symbolic link of the video\n",
      "New video was added to the project! Use the function 'extract_frames' to select frames for labeling.\n",
      "The outlier frames are extracted. They are stored in the subdirectory labeled-data\\2010.11.12_11_35_39.\n",
      "Once you extracted frames for all videos, use 'refine_labels' to manually correct the labels.\n"
     ]
    },
    {
     "name": "stderr",
     "output_type": "stream",
     "text": [
      "23it [00:00, 224.91it/s]"
     ]
    },
    {
     "name": "stdout",
     "output_type": "stream",
     "text": [
      "Method  uncertain  found  5295  putative outlier frames.\n",
      "Do you want to proceed with extracting  100  of those?\n",
      "If this list is very large, perhaps consider changing the paramters (start, stop, p_bound, comparisonbodyparts) or use a different method.\n",
      "Loading video...\n",
      "Duration of video [s]:  26.475 , recorded @  200.0 fps!\n",
      "Overall # of frames:  5295 with (cropped) frame dimensions: \n",
      "Kmeans-quantization based extracting of frames from 0.0  seconds to 26.48  seconds.\n",
      "Extracting and downsampling... 5294  frames from the video.\n"
     ]
    },
    {
     "name": "stderr",
     "output_type": "stream",
     "text": [
      "5294it [00:15, 346.97it/s]\n"
     ]
    },
    {
     "name": "stdout",
     "output_type": "stream",
     "text": [
      "Kmeans clustering ... (this might take a while)\n",
      "Let's select frames indices: [3263, 1473, 219, 3781, 282, 1622, 1314, 2748, 2362, 5204, 2017, 569, 359, 4610, 2227, 1298, 1245, 1674, 1833, 3419, 1455, 458, 296, 1190, 2562, 558, 2126, 740, 1127, 3599, 3044, 1464, 1667, 950, 3687, 503, 262, 3104, 1438, 1705, 2269, 883, 1344, 102, 2534, 387, 1892, 2174, 1955, 705, 230, 1641, 733, 1053, 690, 1020, 3192, 1551, 2355, 1805, 454, 1227, 3658, 2096, 517, 1141, 1363, 1358, 1176, 766, 2078, 2869, 1405, 2702, 1287, 322, 3397, 588, 2395, 648, 788, 1995, 2488, 1827, 25, 685, 5174, 5277, 2316, 197, 3930, 3324, 2968, 1694, 406, 175, 5031, 3711, 252, 2142]\n",
      "Creating the symbolic link of the video\n",
      "New video was added to the project! Use the function 'extract_frames' to select frames for labeling.\n",
      "The outlier frames are extracted. They are stored in the subdirectory labeled-data\\2010.11.12_11_36_22.\n",
      "Once you extracted frames for all videos, use 'refine_labels' to manually correct the labels.\n"
     ]
    },
    {
     "name": "stderr",
     "output_type": "stream",
     "text": [
      "\r",
      "0it [00:00, ?it/s]"
     ]
    },
    {
     "name": "stdout",
     "output_type": "stream",
     "text": [
      "Method  uncertain  found  5289  putative outlier frames.\n",
      "Do you want to proceed with extracting  100  of those?\n",
      "If this list is very large, perhaps consider changing the paramters (start, stop, p_bound, comparisonbodyparts) or use a different method.\n",
      "Loading video...\n",
      "Duration of video [s]:  26.445 , recorded @  200.0 fps!\n",
      "Overall # of frames:  5289 with (cropped) frame dimensions: \n",
      "Kmeans-quantization based extracting of frames from 0.0  seconds to 26.45  seconds.\n",
      "Extracting and downsampling... 5288  frames from the video.\n"
     ]
    },
    {
     "name": "stderr",
     "output_type": "stream",
     "text": [
      "5288it [00:15, 341.06it/s]\n"
     ]
    },
    {
     "name": "stdout",
     "output_type": "stream",
     "text": [
      "Kmeans clustering ... (this might take a while)\n",
      "Let's select frames indices: [2432, 779, 4797, 2873, 3451, 4072, 3670, 3343, 2283, 1845, 2714, 118, 4097, 2274, 3519, 3055, 5270, 3718, 4286, 2007, 3555, 2948, 1998, 2497, 2218, 3338, 426, 2903, 2286, 2967, 498, 1973, 2515, 2378, 1761, 4845, 3895, 2043, 4214, 2663, 4492, 2417, 2744, 4177, 1150, 46, 3010, 3272, 3601, 2881, 2222, 3813, 3788, 3546, 3154, 3377, 2557, 3199, 3067, 3790, 3394, 3480, 2237, 3768, 3638, 3354, 1675, 3249, 640, 2788, 3464, 2733, 3442, 2425, 2654, 2534, 4019, 1880, 2391, 2262, 2088, 1791, 1895, 3678, 2256, 3539, 240, 2339, 1258, 2990, 2439, 4135, 2106, 3110, 3574, 2414, 3744, 4203, 2578, 4096]\n",
      "Creating the symbolic link of the video\n",
      "New video was added to the project! Use the function 'extract_frames' to select frames for labeling.\n",
      "The outlier frames are extracted. They are stored in the subdirectory labeled-data\\2010.11.12_11_36_54.\n",
      "Once you extracted frames for all videos, use 'refine_labels' to manually correct the labels.\n"
     ]
    },
    {
     "name": "stderr",
     "output_type": "stream",
     "text": [
      "\r",
      "0it [00:00, ?it/s]"
     ]
    },
    {
     "name": "stdout",
     "output_type": "stream",
     "text": [
      "Method  uncertain  found  5288  putative outlier frames.\n",
      "Do you want to proceed with extracting  100  of those?\n",
      "If this list is very large, perhaps consider changing the paramters (start, stop, p_bound, comparisonbodyparts) or use a different method.\n",
      "Loading video...\n",
      "Duration of video [s]:  26.44 , recorded @  200.0 fps!\n",
      "Overall # of frames:  5288 with (cropped) frame dimensions: \n",
      "Kmeans-quantization based extracting of frames from 0.0  seconds to 26.44  seconds.\n",
      "Extracting and downsampling... 5287  frames from the video.\n"
     ]
    },
    {
     "name": "stderr",
     "output_type": "stream",
     "text": [
      "5287it [00:15, 344.24it/s]\n"
     ]
    },
    {
     "name": "stdout",
     "output_type": "stream",
     "text": [
      "Kmeans clustering ... (this might take a while)\n",
      "Let's select frames indices: [5229, 3772, 1334, 312, 680, 444, 912, 2620, 2142, 7, 1356, 1054, 2077, 825, 2791, 1116, 1225, 2491, 1785, 764, 2190, 2563, 1472, 4414, 2103, 585, 2445, 3922, 2310, 1268, 622, 1521, 2181, 1928, 1869, 1713, 1301, 347, 2207, 3045, 877, 1896, 1943, 790, 3262, 3412, 1986, 1683, 266, 3618, 908, 4263, 1376, 4058, 284, 237, 1141, 54, 392, 4373, 1610, 983, 195, 481, 937, 2050, 5060, 1075, 652, 2227, 3103, 1738, 2559, 1651, 1541, 1237, 1823, 1260, 741, 1172, 497, 2021, 1805, 5260, 2034, 710, 5204, 1036, 1003, 3143, 835, 4861, 2875, 1580, 2238, 1240, 2102, 1025, 298, 2393]\n",
      "Creating the symbolic link of the video\n",
      "New video was added to the project! Use the function 'extract_frames' to select frames for labeling.\n",
      "The outlier frames are extracted. They are stored in the subdirectory labeled-data\\2010.11.12_11_48_45.\n",
      "Once you extracted frames for all videos, use 'refine_labels' to manually correct the labels.\n"
     ]
    },
    {
     "name": "stderr",
     "output_type": "stream",
     "text": [
      "\r",
      "0it [00:00, ?it/s]"
     ]
    },
    {
     "name": "stdout",
     "output_type": "stream",
     "text": [
      "Method  uncertain  found  5284  putative outlier frames.\n",
      "Do you want to proceed with extracting  100  of those?\n",
      "If this list is very large, perhaps consider changing the paramters (start, stop, p_bound, comparisonbodyparts) or use a different method.\n",
      "Loading video...\n",
      "Duration of video [s]:  26.435 , recorded @  200.0 fps!\n",
      "Overall # of frames:  5287 with (cropped) frame dimensions: \n",
      "Kmeans-quantization based extracting of frames from 0.0  seconds to 26.43  seconds.\n",
      "Extracting and downsampling... 5283  frames from the video.\n"
     ]
    },
    {
     "name": "stderr",
     "output_type": "stream",
     "text": [
      "5283it [02:14, 39.14it/s]\n"
     ]
    },
    {
     "name": "stdout",
     "output_type": "stream",
     "text": [
      "Kmeans clustering ... (this might take a while)\n",
      "Let's select frames indices: [4760, 645, 2110, 704, 2971, 126, 762, 3202, 2417, 1633, 96, 2766, 2797, 2492, 1855, 4931, 2002, 1456, 1224, 3736, 1663, 2624, 976, 2901, 1753, 1180, 1887, 1513, 2398, 2072, 1953, 436, 4991, 983, 3251, 1089, 211, 3044, 5273, 1705, 564, 3174, 399, 1764, 2674, 2284, 415, 2287, 1905, 1168, 39, 1021, 304, 4570, 4809, 1557, 4650, 4470, 352, 2588, 2948, 2817, 3107, 2336, 2973, 2194, 583, 954, 1466, 855, 2780, 4834, 3643, 3059, 3525, 1691, 2024, 1608, 1045, 1844, 5110, 1038, 2263, 1528, 1712, 1310, 271, 3412, 612, 4105, 905, 509, 732, 1397, 1674, 3937, 3134, 877, 1656, 62]\n",
      "Creating the symbolic link of the video\n",
      "New video was added to the project! Use the function 'extract_frames' to select frames for labeling.\n",
      "The outlier frames are extracted. They are stored in the subdirectory labeled-data\\2010.11.12_11_49_35.\n",
      "Once you extracted frames for all videos, use 'refine_labels' to manually correct the labels.\n"
     ]
    },
    {
     "name": "stderr",
     "output_type": "stream",
     "text": [
      "\r",
      "0it [00:00, ?it/s]"
     ]
    },
    {
     "name": "stdout",
     "output_type": "stream",
     "text": [
      "Method  uncertain  found  5287  putative outlier frames.\n",
      "Do you want to proceed with extracting  100  of those?\n",
      "If this list is very large, perhaps consider changing the paramters (start, stop, p_bound, comparisonbodyparts) or use a different method.\n",
      "Loading video...\n",
      "Duration of video [s]:  26.45 , recorded @  200.0 fps!\n",
      "Overall # of frames:  5290 with (cropped) frame dimensions: \n",
      "Kmeans-quantization based extracting of frames from 0.0  seconds to 26.45  seconds.\n",
      "Extracting and downsampling... 5286  frames from the video.\n"
     ]
    },
    {
     "name": "stderr",
     "output_type": "stream",
     "text": [
      "5286it [02:11, 40.19it/s]\n"
     ]
    },
    {
     "name": "stdout",
     "output_type": "stream",
     "text": [
      "Kmeans clustering ... (this might take a while)\n",
      "Let's select frames indices: [2381, 1171, 5004, 616, 794, 1670, 392, 2536, 1927, 584, 4017, 1714, 992, 1555, 2118, 943, 1825, 174, 816, 1415, 1198, 1888, 442, 1476, 726, 3307, 523, 4368, 1806, 1229, 1043, 646, 3900, 2109, 4970, 2024, 2239, 5212, 977, 2188, 1872, 1489, 368, 2260, 3568, 1097, 1073, 1706, 1941, 483, 1544, 609, 1782, 5269, 858, 1286, 4072, 886, 2777, 2969, 1519, 3116, 430, 1637, 34, 705, 2002, 1020, 558, 2164, 1135, 346, 1331, 713, 932, 555, 504, 758, 3126, 4676, 1656, 1578, 5136, 230, 590, 3037, 3740, 271, 670, 1120, 1177, 694, 470, 361, 1500, 1685, 62, 1615, 1383, 627]\n",
      "Creating the symbolic link of the video\n",
      "New video was added to the project! Use the function 'extract_frames' to select frames for labeling.\n",
      "The outlier frames are extracted. They are stored in the subdirectory labeled-data\\2010.11.12_11_51_03.\n",
      "Once you extracted frames for all videos, use 'refine_labels' to manually correct the labels.\n"
     ]
    },
    {
     "name": "stderr",
     "output_type": "stream",
     "text": [
      "\r",
      "0it [00:00, ?it/s]"
     ]
    },
    {
     "name": "stdout",
     "output_type": "stream",
     "text": [
      "Method  uncertain  found  5296  putative outlier frames.\n",
      "Do you want to proceed with extracting  100  of those?\n",
      "If this list is very large, perhaps consider changing the paramters (start, stop, p_bound, comparisonbodyparts) or use a different method.\n",
      "Loading video...\n",
      "Duration of video [s]:  26.49 , recorded @  200.0 fps!\n",
      "Overall # of frames:  5298 with (cropped) frame dimensions: \n",
      "Kmeans-quantization based extracting of frames from 0.0  seconds to 26.49  seconds.\n",
      "Extracting and downsampling... 5295  frames from the video.\n"
     ]
    },
    {
     "name": "stderr",
     "output_type": "stream",
     "text": [
      "5295it [02:18, 38.28it/s]\n"
     ]
    },
    {
     "name": "stdout",
     "output_type": "stream",
     "text": [
      "Kmeans clustering ... (this might take a while)\n",
      "Let's select frames indices: [2573, 5006, 713, 3349, 1360, 1212, 2452, 4376, 118, 3753, 1489, 3901, 2551, 340, 2794, 1920, 3854, 1536, 2514, 1738, 2147, 2737, 2369, 1980, 2416, 4849, 1771, 1651, 3651, 2834, 3700, 4502, 1944, 1607, 1236, 1148, 2215, 1456, 2048, 3940, 3835, 1296, 2008, 1809, 2590, 210, 2172, 1194, 1729, 1324, 1836, 1379, 3012, 1169, 1849, 1691, 1556, 2538, 1943, 2123, 1347, 1959, 1634, 2631, 4088, 2653, 1668, 786, 4068, 1994, 3949, 1966, 1608, 2080, 2712, 1402, 2762, 3996, 2464, 2285, 267, 2327, 2246, 2235, 3957, 4517, 2392, 3417, 4441, 4293, 1616, 1886, 464, 2318, 1578, 1924, 1009, 3678, 1230, 2688]\n",
      "Creating the symbolic link of the video\n",
      "New video was added to the project! Use the function 'extract_frames' to select frames for labeling.\n",
      "The outlier frames are extracted. They are stored in the subdirectory labeled-data\\2010.11.12_11_55_06.\n",
      "Once you extracted frames for all videos, use 'refine_labels' to manually correct the labels.\n"
     ]
    },
    {
     "name": "stderr",
     "output_type": "stream",
     "text": [
      "\r",
      "0it [00:00, ?it/s]"
     ]
    },
    {
     "name": "stdout",
     "output_type": "stream",
     "text": [
      "Method  uncertain  found  5268  putative outlier frames.\n",
      "Do you want to proceed with extracting  100  of those?\n",
      "If this list is very large, perhaps consider changing the paramters (start, stop, p_bound, comparisonbodyparts) or use a different method.\n",
      "Loading video...\n",
      "Duration of video [s]:  26.43 , recorded @  200.0 fps!\n",
      "Overall # of frames:  5286 with (cropped) frame dimensions: \n",
      "Kmeans-quantization based extracting of frames from 0.0  seconds to 26.43  seconds.\n",
      "Extracting and downsampling... 5267  frames from the video.\n"
     ]
    },
    {
     "name": "stderr",
     "output_type": "stream",
     "text": [
      "5267it [02:13, 39.57it/s]\n"
     ]
    },
    {
     "name": "stdout",
     "output_type": "stream",
     "text": [
      "Kmeans clustering ... (this might take a while)\n",
      "Let's select frames indices: [2605, 1887, 4001, 1212, 252, 54, 290, 2488, 2234, 1678, 1423, 966, 701, 1989, 1821, 1484, 1356, 1742, 502, 108, 3220, 1036, 1572, 1499, 1794, 1201, 207, 429, 1586, 462, 1032, 2161, 1047, 585, 1344, 911, 3383, 2891, 1784, 1839, 523, 656, 2558, 4096, 556, 1404, 1652, 1615, 409, 2330, 1298, 3497, 170, 641, 988, 2036, 575, 1008, 446, 1092, 2092, 2404, 4395, 1980, 1559, 1936, 815, 3169, 570, 2306, 1243, 1997, 1452, 1332, 2070, 1853, 4111, 183, 306, 752, 1518, 3217, 399, 158, 1079, 1904, 4884, 1755, 246, 1813, 820, 2356, 716, 678, 343, 1352, 2119, 3035]\n",
      "Creating the symbolic link of the video\n",
      "New video was added to the project! Use the function 'extract_frames' to select frames for labeling.\n",
      "The outlier frames are extracted. They are stored in the subdirectory labeled-data\\2010.11.12_11_55_56.\n",
      "Once you extracted frames for all videos, use 'refine_labels' to manually correct the labels.\n"
     ]
    },
    {
     "name": "stderr",
     "output_type": "stream",
     "text": [
      "\r",
      "0it [00:00, ?it/s]"
     ]
    },
    {
     "name": "stdout",
     "output_type": "stream",
     "text": [
      "Method  uncertain  found  5291  putative outlier frames.\n",
      "Do you want to proceed with extracting  100  of those?\n",
      "If this list is very large, perhaps consider changing the paramters (start, stop, p_bound, comparisonbodyparts) or use a different method.\n",
      "Loading video...\n",
      "Duration of video [s]:  26.455 , recorded @  200.0 fps!\n",
      "Overall # of frames:  5291 with (cropped) frame dimensions: \n",
      "Kmeans-quantization based extracting of frames from 0.0  seconds to 26.45  seconds.\n",
      "Extracting and downsampling... 5290  frames from the video.\n"
     ]
    },
    {
     "name": "stderr",
     "output_type": "stream",
     "text": [
      "5290it [00:15, 351.30it/s]\n"
     ]
    },
    {
     "name": "stdout",
     "output_type": "stream",
     "text": [
      "Kmeans clustering ... (this might take a while)\n",
      "Let's select frames indices: [2377, 4988, 1073, 64, 3072, 1209, 3640, 1424, 3308, 913, 3591, 1230, 2725, 1691, 655, 1640, 2587, 4248, 1326, 707, 2292, 2454, 845, 469, 3502, 754, 1534, 1895, 2323, 1344, 2091, 2109, 2391, 3857, 4039, 1042, 888, 5127, 1415, 1557, 2494, 1126, 3263, 323, 1285, 2811, 2299, 3939, 1879, 1543, 2508, 2616, 799, 1658, 1986, 4516, 1358, 1592, 1760, 2530, 3580, 3428, 1175, 3798, 1202, 2897, 971, 1941, 3712, 2006, 1455, 1138, 1973, 788, 898, 3276, 860, 5248, 767, 1009, 2330, 1834, 1408, 2244, 220, 1967, 1298, 5280, 1027, 2233, 1689, 3924, 1776, 1803, 1099, 1955, 5211, 570, 1622, 3772]\n",
      "Creating the symbolic link of the video\n",
      "New video was added to the project! Use the function 'extract_frames' to select frames for labeling.\n",
      "The outlier frames are extracted. They are stored in the subdirectory labeled-data\\2010.11.12_11_57_10.\n",
      "Once you extracted frames for all videos, use 'refine_labels' to manually correct the labels.\n"
     ]
    },
    {
     "name": "stderr",
     "output_type": "stream",
     "text": [
      "\r",
      "0it [00:00, ?it/s]"
     ]
    },
    {
     "name": "stdout",
     "output_type": "stream",
     "text": [
      "Method  uncertain  found  5289  putative outlier frames.\n",
      "Do you want to proceed with extracting  100  of those?\n",
      "If this list is very large, perhaps consider changing the paramters (start, stop, p_bound, comparisonbodyparts) or use a different method.\n",
      "Loading video...\n",
      "Duration of video [s]:  26.455 , recorded @  200.0 fps!\n",
      "Overall # of frames:  5291 with (cropped) frame dimensions: \n",
      "Kmeans-quantization based extracting of frames from 0.0  seconds to 26.45  seconds.\n",
      "Extracting and downsampling... 5288  frames from the video.\n"
     ]
    },
    {
     "name": "stderr",
     "output_type": "stream",
     "text": [
      "5288it [02:14, 39.30it/s]\n"
     ]
    },
    {
     "name": "stdout",
     "output_type": "stream",
     "text": [
      "Kmeans clustering ... (this might take a while)\n",
      "Let's select frames indices: [2393, 870, 2727, 5212, 1956, 1024, 1653, 2246, 4046, 112, 1103, 1312, 1735, 5106, 1269, 319, 4754, 1788, 438, 5120, 1134, 278, 950, 1626, 2077, 1474, 1164, 3533, 4956, 208, 1074, 2978, 1202, 718, 2637, 381, 909, 356, 620, 600, 1042, 2586, 1547, 776, 1714, 2335, 4911, 473, 5179, 1925, 663, 465, 2644, 1844, 553, 526, 1406, 22, 1294, 4998, 328, 2689, 848, 520, 2858, 1341, 480, 257, 232, 1754, 922, 352, 2673, 2152, 4934, 1580, 3636, 994, 1329, 194, 5284, 1415, 709, 160, 1507, 2004, 5230, 1498, 1941, 649, 3116, 4350, 1377, 1694, 2027, 1535, 563, 3242, 493, 5049]\n",
      "Creating the symbolic link of the video\n",
      "New video was added to the project! Use the function 'extract_frames' to select frames for labeling.\n",
      "The outlier frames are extracted. They are stored in the subdirectory labeled-data\\2010.11.12_11_59_26.\n",
      "Once you extracted frames for all videos, use 'refine_labels' to manually correct the labels.\n"
     ]
    },
    {
     "name": "stderr",
     "output_type": "stream",
     "text": [
      "\r",
      "0it [00:00, ?it/s]"
     ]
    },
    {
     "name": "stdout",
     "output_type": "stream",
     "text": [
      "Method  uncertain  found  5293  putative outlier frames.\n",
      "Do you want to proceed with extracting  100  of those?\n",
      "If this list is very large, perhaps consider changing the paramters (start, stop, p_bound, comparisonbodyparts) or use a different method.\n",
      "Loading video...\n",
      "Duration of video [s]:  26.47 , recorded @  200.0 fps!\n",
      "Overall # of frames:  5294 with (cropped) frame dimensions: \n",
      "Kmeans-quantization based extracting of frames from 0.0  seconds to 26.47  seconds.\n",
      "Extracting and downsampling... 5292  frames from the video.\n"
     ]
    },
    {
     "name": "stderr",
     "output_type": "stream",
     "text": [
      "5292it [02:17, 38.56it/s]\n"
     ]
    },
    {
     "name": "stdout",
     "output_type": "stream",
     "text": [
      "Kmeans clustering ... (this might take a while)\n",
      "Let's select frames indices: [336, 4978, 2429, 1053, 1975, 1171, 516, 164, 1552, 3975, 2720, 1740, 313, 841, 2976, 863, 1228, 2500, 1707, 809, 1160, 447, 23, 2850, 1044, 3211, 935, 1897, 3265, 1402, 3090, 2527, 1257, 2341, 4652, 1802, 1584, 5003, 229, 1932, 1325, 391, 830, 3698, 2676, 422, 1345, 1666, 1140, 511, 1112, 1208, 5274, 1608, 717, 1291, 1495, 686, 678, 1273, 554, 1254, 1113, 1487, 462, 1617, 2941, 575, 2649, 3617, 1600, 999, 1871, 631, 1100, 2826, 2866, 3411, 2064, 4590, 423, 2451, 1224, 2197, 1085, 2603, 1840, 3167, 4095, 31, 1950, 1433, 2909, 990, 4250, 1752, 1543, 274, 5040, 2842]\n",
      "Creating the symbolic link of the video\n",
      "New video was added to the project! Use the function 'extract_frames' to select frames for labeling.\n",
      "The outlier frames are extracted. They are stored in the subdirectory labeled-data\\2010.11.12_12_00_19.\n",
      "Once you extracted frames for all videos, use 'refine_labels' to manually correct the labels.\n"
     ]
    },
    {
     "name": "stderr",
     "output_type": "stream",
     "text": [
      "\r",
      "0it [00:00, ?it/s]"
     ]
    },
    {
     "name": "stdout",
     "output_type": "stream",
     "text": [
      "Method  uncertain  found  5283  putative outlier frames.\n",
      "Do you want to proceed with extracting  100  of those?\n",
      "If this list is very large, perhaps consider changing the paramters (start, stop, p_bound, comparisonbodyparts) or use a different method.\n",
      "Loading video...\n",
      "Duration of video [s]:  26.43 , recorded @  200.0 fps!\n",
      "Overall # of frames:  5286 with (cropped) frame dimensions: \n",
      "Kmeans-quantization based extracting of frames from 0.0  seconds to 26.43  seconds.\n",
      "Extracting and downsampling... 5282  frames from the video.\n"
     ]
    },
    {
     "name": "stderr",
     "output_type": "stream",
     "text": [
      "5282it [02:12, 39.98it/s]\n"
     ]
    },
    {
     "name": "stdout",
     "output_type": "stream",
     "text": [
      "Kmeans clustering ... (this might take a while)\n",
      "Let's select frames indices: [2469, 831, 5202, 1345, 3660, 2075, 4798, 4919, 17, 4857, 4791, 613, 1635, 4539, 4588, 734, 4012, 701, 899, 2770, 311, 430, 5002, 4651, 660, 4895, 2633, 1141, 4481, 1556, 1577, 1013, 669, 104, 860, 3047, 539, 5131, 3345, 273, 213, 1276, 1115, 1212, 3918, 1841, 357, 1443, 775, 1317, 4557, 4526, 798, 825, 4641, 2888, 1592, 1017, 3139, 1173, 5041, 2270, 374, 1080, 224, 5111, 593, 1313, 1887, 5084, 185, 4722, 1369, 52, 549, 941, 1718, 4922, 1665, 45, 5054, 848, 533, 1244, 4816, 459, 1423, 4962, 1698, 439, 501, 4344, 466, 1392, 1544, 237, 4139, 3201, 4849, 5280]\n",
      "Creating the symbolic link of the video\n",
      "New video was added to the project! Use the function 'extract_frames' to select frames for labeling.\n",
      "The outlier frames are extracted. They are stored in the subdirectory labeled-data\\2010.11.12_12_02_08.\n",
      "Once you extracted frames for all videos, use 'refine_labels' to manually correct the labels.\n"
     ]
    },
    {
     "name": "stderr",
     "output_type": "stream",
     "text": [
      "\r",
      "0it [00:00, ?it/s]"
     ]
    },
    {
     "name": "stdout",
     "output_type": "stream",
     "text": [
      "Method  uncertain  found  1496  putative outlier frames.\n",
      "Do you want to proceed with extracting  100  of those?\n",
      "If this list is very large, perhaps consider changing the paramters (start, stop, p_bound, comparisonbodyparts) or use a different method.\n",
      "Loading video...\n",
      "Duration of video [s]:  26.98 , recorded @  200.0 fps!\n",
      "Overall # of frames:  5396 with (cropped) frame dimensions: \n",
      "Kmeans-quantization based extracting of frames from 0.0  seconds to 26.98  seconds.\n",
      "Extracting and downsampling... 1496  frames from the video.\n"
     ]
    },
    {
     "name": "stderr",
     "output_type": "stream",
     "text": [
      "1496it [00:38, 38.67it/s]\n"
     ]
    },
    {
     "name": "stdout",
     "output_type": "stream",
     "text": [
      "Kmeans clustering ... (this might take a while)\n",
      "Let's select frames indices: [5248, 4388, 3944, 156, 3687, 1888, 3568, 5190, 5348, 4018, 4310, 5105, 512, 3749, 3120, 1232, 2608, 5083, 5033, 910, 4721, 5210, 1960, 4623, 3653, 44, 570, 1927, 5281, 2973, 3167, 141, 2014, 2338, 1470, 4147, 5360, 1906, 3964, 171, 4078, 2596, 5091, 4841, 1582, 1887, 5228, 5016, 1936, 5334, 1705, 2943, 4184, 3590, 3554, 3149, 5246, 2320, 4780, 4817, 5124, 192, 4053, 1199, 528, 3661, 4803, 3992, 4003, 388, 1416, 4244, 4036, 532, 186, 1863, 2018, 1996, 4112, 5328, 89, 4172, 4458, 3572, 788, 4329, 5355, 1921, 4636, 4831, 5201, 4128, 4133, 5118, 1859, 4630, 953, 5323, 4541, 4837]\n",
      "Creating the symbolic link of the video\n",
      "New video was added to the project! Use the function 'extract_frames' to select frames for labeling.\n",
      "The outlier frames are extracted. They are stored in the subdirectory labeled-data\\2010.11.12_12_39_19.\n",
      "Once you extracted frames for all videos, use 'refine_labels' to manually correct the labels.\n"
     ]
    },
    {
     "name": "stderr",
     "output_type": "stream",
     "text": [
      "\r",
      "0it [00:00, ?it/s]"
     ]
    },
    {
     "name": "stdout",
     "output_type": "stream",
     "text": [
      "Method  uncertain  found  1604  putative outlier frames.\n",
      "Do you want to proceed with extracting  100  of those?\n",
      "If this list is very large, perhaps consider changing the paramters (start, stop, p_bound, comparisonbodyparts) or use a different method.\n",
      "Loading video...\n",
      "Duration of video [s]:  27.005 , recorded @  200.0 fps!\n",
      "Overall # of frames:  5401 with (cropped) frame dimensions: \n",
      "Kmeans-quantization based extracting of frames from 0.0  seconds to 27.0  seconds.\n",
      "Extracting and downsampling... 1604  frames from the video.\n"
     ]
    },
    {
     "name": "stderr",
     "output_type": "stream",
     "text": [
      "1604it [00:41, 38.57it/s]\n"
     ]
    },
    {
     "name": "stdout",
     "output_type": "stream",
     "text": [
      "Kmeans clustering ... (this might take a while)\n",
      "Let's select frames indices: [2926, 5201, 469, 1876, 4319, 289, 4553, 2405, 2122, 907, 4495, 2529, 5268, 1771, 400, 1311, 2987, 535, 3911, 4454, 2242, 4752, 2746, 2039, 5110, 2812, 808, 4852, 4374, 2963, 2085, 1725, 2154, 1992, 1829, 3073, 4855, 4809, 2184, 310, 1412, 2608, 256, 454, 2325, 2160, 1981, 5393, 1175, 1487, 5146, 503, 3051, 1933, 2514, 2132, 1558, 745, 4513, 5101, 1736, 200, 2175, 262, 374, 3143, 387, 1409, 2527, 2211, 4713, 952, 2275, 1325, 5354, 5119, 4313, 4597, 4704, 2932, 5160, 3025, 4667, 3904, 380, 3062, 463, 5245, 419, 703, 2865, 2315, 2288, 2830, 1754, 2903, 2774, 350, 2316, 4594]\n",
      "Creating the symbolic link of the video\n",
      "New video was added to the project! Use the function 'extract_frames' to select frames for labeling.\n",
      "The outlier frames are extracted. They are stored in the subdirectory labeled-data\\2010.11.12_12_44_47.\n",
      "Once you extracted frames for all videos, use 'refine_labels' to manually correct the labels.\n"
     ]
    },
    {
     "name": "stderr",
     "output_type": "stream",
     "text": [
      "\r",
      "0it [00:00, ?it/s]"
     ]
    },
    {
     "name": "stdout",
     "output_type": "stream",
     "text": [
      "Method  uncertain  found  1739  putative outlier frames.\n",
      "Do you want to proceed with extracting  100  of those?\n",
      "If this list is very large, perhaps consider changing the paramters (start, stop, p_bound, comparisonbodyparts) or use a different method.\n",
      "Loading video...\n",
      "Duration of video [s]:  26.98 , recorded @  200.0 fps!\n",
      "Overall # of frames:  5396 with (cropped) frame dimensions: \n",
      "Kmeans-quantization based extracting of frames from 0.0  seconds to 26.98  seconds.\n",
      "Extracting and downsampling... 1738  frames from the video.\n"
     ]
    },
    {
     "name": "stderr",
     "output_type": "stream",
     "text": [
      "1738it [00:43, 40.13it/s]\n"
     ]
    },
    {
     "name": "stdout",
     "output_type": "stream",
     "text": [
      "Kmeans clustering ... (this might take a while)\n",
      "Let's select frames indices: [4486, 5161, 1591, 93, 4984, 2470, 4356, 4137, 4762, 2124, 4016, 4597, 3186, 1883, 952, 4713, 5019, 2130, 1822, 523, 204, 4303, 4947, 4391, 5265, 1107, 2963, 215, 3238, 4042, 4723, 1853, 1434, 799, 4257, 4817, 4205, 4314, 2290, 4836, 4395, 224, 4508, 3476, 1230, 4686, 552, 4853, 617, 4229, 166, 4462, 4149, 5063, 5355, 3394, 4378, 4915, 4306, 6, 4093, 1325, 5333, 176, 4878, 5156, 3389, 3613, 1215, 3628, 4615, 1642, 2091, 1272, 4641, 3689, 5134, 132, 4536, 4793, 4287, 4347, 1888, 5222, 4246, 4754, 4219, 4748, 4171, 4672, 5387, 2134, 207, 4609, 4445, 4696, 1893, 5000, 4343, 4620]\n",
      "Creating the symbolic link of the video\n",
      "New video was added to the project! Use the function 'extract_frames' to select frames for labeling.\n",
      "The outlier frames are extracted. They are stored in the subdirectory labeled-data\\2010.11.12_12_47_33.\n",
      "Once you extracted frames for all videos, use 'refine_labels' to manually correct the labels.\n"
     ]
    },
    {
     "name": "stderr",
     "output_type": "stream",
     "text": [
      "\r",
      "0it [00:00, ?it/s]"
     ]
    },
    {
     "name": "stdout",
     "output_type": "stream",
     "text": [
      "Method  uncertain  found  2141  putative outlier frames.\n",
      "Do you want to proceed with extracting  100  of those?\n",
      "If this list is very large, perhaps consider changing the paramters (start, stop, p_bound, comparisonbodyparts) or use a different method.\n",
      "Loading video...\n",
      "Duration of video [s]:  26.98 , recorded @  200.0 fps!\n",
      "Overall # of frames:  5396 with (cropped) frame dimensions: \n",
      "Kmeans-quantization based extracting of frames from 0.0  seconds to 26.98  seconds.\n",
      "Extracting and downsampling... 2141  frames from the video.\n"
     ]
    },
    {
     "name": "stderr",
     "output_type": "stream",
     "text": [
      "2141it [00:54, 39.12it/s]\n"
     ]
    },
    {
     "name": "stdout",
     "output_type": "stream",
     "text": [
      "Kmeans clustering ... (this might take a while)\n",
      "Let's select frames indices: [353, 1308, 5163, 3415, 2611, 4004, 3108, 4487, 2059, 729, 3625, 4762, 130, 1400, 4971, 3069, 4714, 5215, 525, 2804, 2727, 3551, 159, 3161, 1509, 5065, 3662, 1176, 223, 4072, 852, 1707, 3884, 620, 4626, 2155, 3284, 3369, 3218, 3143, 2765, 5364, 3128, 3202, 2657, 2424, 3806, 280, 3427, 3067, 2685, 2884, 4702, 3330, 2635, 4805, 1281, 3925, 296, 3694, 1520, 481, 4982, 3093, 4757, 586, 5022, 5369, 5074, 2116, 3116, 4411, 4752, 4424, 3660, 1233, 2754, 3407, 2582, 1424, 1080, 1364, 3149, 5306, 1587, 66, 2517, 1265, 4050, 5191, 3564, 399, 2548, 2092, 619, 3979, 1344, 263, 2785, 5204]\n",
      "Creating the symbolic link of the video\n",
      "New video was added to the project! Use the function 'extract_frames' to select frames for labeling.\n",
      "The outlier frames are extracted. They are stored in the subdirectory labeled-data\\2010.11.12_12_50_07.\n",
      "Once you extracted frames for all videos, use 'refine_labels' to manually correct the labels.\n"
     ]
    },
    {
     "name": "stderr",
     "output_type": "stream",
     "text": [
      "\r",
      "0it [00:00, ?it/s]"
     ]
    },
    {
     "name": "stdout",
     "output_type": "stream",
     "text": [
      "Method  uncertain  found  1817  putative outlier frames.\n",
      "Do you want to proceed with extracting  100  of those?\n",
      "If this list is very large, perhaps consider changing the paramters (start, stop, p_bound, comparisonbodyparts) or use a different method.\n",
      "Loading video...\n",
      "Duration of video [s]:  27.285 , recorded @  200.0 fps!\n",
      "Overall # of frames:  5457 with (cropped) frame dimensions: \n",
      "Kmeans-quantization based extracting of frames from 0.0  seconds to 27.29  seconds.\n",
      "Extracting and downsampling... 1817  frames from the video.\n"
     ]
    },
    {
     "name": "stderr",
     "output_type": "stream",
     "text": [
      "1817it [00:46, 38.81it/s]\n"
     ]
    },
    {
     "name": "stdout",
     "output_type": "stream",
     "text": [
      "Kmeans clustering ... (this might take a while)\n",
      "Let's select frames indices: [348, 1820, 780, 1391, 3111, 915, 1362, 4204, 1620, 855, 3301, 619, 4432, 5412, 5338, 1772, 2319, 5432, 1458, 3216, 4377, 5176, 3054, 3938, 3769, 5189, 4319, 2429, 3197, 3987, 4872, 1291, 5050, 4740, 3691, 4129, 3221, 1115, 4718, 4029, 3360, 3773, 1546, 3695, 1213, 5278, 1701, 1277, 1323, 835, 3815, 2364, 639, 4167, 4458, 3687, 5124, 4398, 1434, 5384, 3320, 5420, 3506, 2377, 4603, 2385, 4574, 2294, 1858, 1333, 1741, 4414, 3804, 4106, 3127, 5423, 5193, 1505, 1308, 4333, 5366, 1349, 5318, 727, 4199, 4269, 174, 3066, 4349, 847, 1653, 889, 1633, 1533, 2349, 871, 822, 4139, 1501, 3156]\n",
      "Creating the symbolic link of the video\n",
      "New video was added to the project! Use the function 'extract_frames' to select frames for labeling.\n",
      "The outlier frames are extracted. They are stored in the subdirectory labeled-data\\2010.11.12_12_56_14.\n",
      "Once you extracted frames for all videos, use 'refine_labels' to manually correct the labels.\n"
     ]
    },
    {
     "name": "stderr",
     "output_type": "stream",
     "text": [
      "\r",
      "0it [00:00, ?it/s]"
     ]
    },
    {
     "name": "stdout",
     "output_type": "stream",
     "text": [
      "Method  uncertain  found  1400  putative outlier frames.\n",
      "Do you want to proceed with extracting  100  of those?\n",
      "If this list is very large, perhaps consider changing the paramters (start, stop, p_bound, comparisonbodyparts) or use a different method.\n",
      "Loading video...\n",
      "Duration of video [s]:  27.22 , recorded @  200.0 fps!\n",
      "Overall # of frames:  5444 with (cropped) frame dimensions: \n",
      "Kmeans-quantization based extracting of frames from 0.0  seconds to 27.22  seconds.\n",
      "Extracting and downsampling... 1400  frames from the video.\n"
     ]
    },
    {
     "name": "stderr",
     "output_type": "stream",
     "text": [
      "1400it [00:35, 39.01it/s]\n"
     ]
    },
    {
     "name": "stdout",
     "output_type": "stream",
     "text": [
      "Kmeans clustering ... (this might take a while)\n",
      "Let's select frames indices: [1656, 5156, 1823, 4741, 1437, 5304, 2370, 3565, 5047, 1560, 4810, 414, 848, 1669, 2935, 907, 4943, 2632, 605, 2351, 1399, 4825, 4776, 2401, 4213, 5130, 5359, 2025, 2698, 4713, 2856, 2340, 2059, 902, 591, 4406, 1341, 1287, 1960, 706, 1573, 1223, 3680, 1251, 1765, 1517, 5239, 4374, 1754, 1219, 561, 1793, 1843, 5077, 736, 2987, 1196, 5033, 1305, 5352, 201, 4938, 4365, 1384, 2948, 1127, 4799, 1062, 5092, 579, 3019, 4844, 4931, 1620, 5073, 1419, 5138, 2343, 2039, 1804, 2506, 2468, 4753, 1474, 1537, 5061, 593, 1462, 806, 1700, 1087, 5409, 5178, 4397, 1408, 5426, 4221, 5081]\n",
      "Creating the symbolic link of the video\n",
      "New video was added to the project! Use the function 'extract_frames' to select frames for labeling.\n",
      "The outlier frames are extracted. They are stored in the subdirectory labeled-data\\2010.11.12_12_57_36.\n",
      "Once you extracted frames for all videos, use 'refine_labels' to manually correct the labels.\n"
     ]
    },
    {
     "name": "stderr",
     "output_type": "stream",
     "text": [
      "\r",
      "0it [00:00, ?it/s]"
     ]
    },
    {
     "name": "stdout",
     "output_type": "stream",
     "text": [
      "Method  uncertain  found  1464  putative outlier frames.\n",
      "Do you want to proceed with extracting  100  of those?\n",
      "If this list is very large, perhaps consider changing the paramters (start, stop, p_bound, comparisonbodyparts) or use a different method.\n",
      "Loading video...\n",
      "Duration of video [s]:  26.975 , recorded @  200.0 fps!\n",
      "Overall # of frames:  5395 with (cropped) frame dimensions: \n",
      "Kmeans-quantization based extracting of frames from 0.0  seconds to 26.98  seconds.\n",
      "Extracting and downsampling... 1463  frames from the video.\n"
     ]
    },
    {
     "name": "stderr",
     "output_type": "stream",
     "text": [
      "1463it [00:37, 38.84it/s]\n"
     ]
    },
    {
     "name": "stdout",
     "output_type": "stream",
     "text": [
      "Kmeans clustering ... (this might take a while)\n",
      "Let's select frames indices: [1243, 4115, 23, 1601, 2665, 2065, 2782, 1938, 1531, 1333, 3711, 1650, 124, 995, 4476, 1777, 2652, 2102, 1989, 1066, 1886, 2998, 3739, 466, 1616, 3932, 1038, 3687, 2023, 2714, 1041, 3528, 4043, 2620, 4483, 1642, 2833, 4155, 912, 1952, 1001, 4449, 2088, 2430, 4443, 2223, 1814, 1282, 4020, 2055, 1077, 3636, 988, 2057, 3754, 1603, 265, 4481, 54, 1386, 2530, 3664, 2112, 975, 4465, 1594, 2042, 1200, 1628, 2748, 2006, 2071, 3730, 2273, 512, 3717, 1869, 3531, 4179, 2063, 1251, 4378, 1410, 2592, 1017, 1960, 4487, 2927, 74, 4632, 4460, 1547, 5326, 3683, 1880, 2018, 52, 4073, 1010, 4462]\n",
      "Creating the symbolic link of the video\n",
      "New video was added to the project! Use the function 'extract_frames' to select frames for labeling.\n",
      "The outlier frames are extracted. They are stored in the subdirectory labeled-data\\2010.11.12_13_18_21.\n",
      "Once you extracted frames for all videos, use 'refine_labels' to manually correct the labels.\n"
     ]
    },
    {
     "name": "stderr",
     "output_type": "stream",
     "text": [
      "\r",
      "0it [00:00, ?it/s]"
     ]
    },
    {
     "name": "stdout",
     "output_type": "stream",
     "text": [
      "Method  uncertain  found  2541  putative outlier frames.\n",
      "Do you want to proceed with extracting  100  of those?\n",
      "If this list is very large, perhaps consider changing the paramters (start, stop, p_bound, comparisonbodyparts) or use a different method.\n",
      "Loading video...\n",
      "Duration of video [s]:  27.05 , recorded @  200.0 fps!\n",
      "Overall # of frames:  5410 with (cropped) frame dimensions: \n",
      "Kmeans-quantization based extracting of frames from 0.0  seconds to 27.05  seconds.\n",
      "Extracting and downsampling... 2541  frames from the video.\n"
     ]
    },
    {
     "name": "stderr",
     "output_type": "stream",
     "text": [
      "2541it [01:05, 38.84it/s]\n"
     ]
    },
    {
     "name": "stdout",
     "output_type": "stream",
     "text": [
      "Kmeans clustering ... (this might take a while)\n",
      "Let's select frames indices: [4007, 1509, 3209, 3077, 2264, 123, 4534, 1129, 5207, 3687, 3520, 233, 935, 1193, 1723, 2614, 2552, 3507, 3257, 4393, 4236, 3453, 4943, 5250, 1755, 1115, 4147, 3983, 2653, 2120, 995, 3125, 547, 4481, 4411, 1018, 3796, 446, 3380, 5125, 4586, 3821, 3646, 748, 1454, 4462, 2515, 5103, 4218, 5312, 3859, 3750, 4069, 3736, 4083, 1038, 291, 4384, 4064, 4310, 3443, 4160, 3179, 3589, 1657, 4602, 3790, 2579, 5163, 1118, 1781, 4470, 4507, 2621, 1171, 1077, 3900, 1555, 3851, 3296, 408, 3108, 2780, 4421, 4285, 2344, 2452, 2372, 3913, 1149, 2967, 3935, 2167, 4276, 4372, 5090, 4349, 1094, 3628, 4401]\n",
      "Creating the symbolic link of the video\n",
      "New video was added to the project! Use the function 'extract_frames' to select frames for labeling.\n",
      "The outlier frames are extracted. They are stored in the subdirectory labeled-data\\2010.11.12_13_25_01.\n",
      "Once you extracted frames for all videos, use 'refine_labels' to manually correct the labels.\n"
     ]
    },
    {
     "name": "stderr",
     "output_type": "stream",
     "text": [
      "\r",
      "0it [00:00, ?it/s]"
     ]
    },
    {
     "name": "stdout",
     "output_type": "stream",
     "text": [
      "Method  uncertain  found  1567  putative outlier frames.\n",
      "Do you want to proceed with extracting  100  of those?\n",
      "If this list is very large, perhaps consider changing the paramters (start, stop, p_bound, comparisonbodyparts) or use a different method.\n",
      "Loading video...\n",
      "Duration of video [s]:  26.93 , recorded @  200.0 fps!\n",
      "Overall # of frames:  5386 with (cropped) frame dimensions: \n",
      "Kmeans-quantization based extracting of frames from 0.0  seconds to 26.93  seconds.\n",
      "Extracting and downsampling... 1566  frames from the video.\n"
     ]
    },
    {
     "name": "stderr",
     "output_type": "stream",
     "text": [
      "1566it [00:40, 38.39it/s]\n"
     ]
    },
    {
     "name": "stdout",
     "output_type": "stream",
     "text": [
      "Kmeans clustering ... (this might take a while)\n",
      "Let's select frames indices: [1396, 92, 4319, 3361, 241, 3167, 614, 1654, 5322, 2399, 1372, 3697, 711, 3139, 1728, 2630, 4705, 3351, 2539, 545, 3329, 1356, 638, 2149, 2013, 3391, 1973, 4577, 2518, 1291, 2930, 3623, 3433, 265, 2945, 3510, 2863, 2428, 4929, 228, 2482, 562, 2474, 1692, 1925, 2021, 2902, 1405, 2782, 4498, 1510, 1279, 1307, 1239, 575, 653, 1338, 1750, 708, 3650, 1292, 1385, 526, 1340, 3112, 816, 3279, 3460, 3195, 3423, 3318, 552, 674, 2441, 521, 3519, 4227, 1320, 4408, 1669, 2611, 3424, 3695, 1442, 3323, 5309, 689, 1369, 3406, 2924, 2385, 9, 2548, 2038, 2158, 630, 2413, 5236, 1725, 48]\n",
      "Creating the symbolic link of the video\n",
      "New video was added to the project! Use the function 'extract_frames' to select frames for labeling.\n",
      "The outlier frames are extracted. They are stored in the subdirectory labeled-data\\2010.11.12_13_34_56.\n",
      "Once you extracted frames for all videos, use 'refine_labels' to manually correct the labels.\n"
     ]
    },
    {
     "name": "stderr",
     "output_type": "stream",
     "text": [
      "\r",
      "0it [00:00, ?it/s]"
     ]
    },
    {
     "name": "stdout",
     "output_type": "stream",
     "text": [
      "Method  uncertain  found  1475  putative outlier frames.\n",
      "Do you want to proceed with extracting  100  of those?\n",
      "If this list is very large, perhaps consider changing the paramters (start, stop, p_bound, comparisonbodyparts) or use a different method.\n",
      "Loading video...\n",
      "Duration of video [s]:  26.95 , recorded @  200.0 fps!\n",
      "Overall # of frames:  5390 with (cropped) frame dimensions: \n",
      "Kmeans-quantization based extracting of frames from 0.0  seconds to 26.95  seconds.\n",
      "Extracting and downsampling... 1474  frames from the video.\n"
     ]
    },
    {
     "name": "stderr",
     "output_type": "stream",
     "text": [
      "1474it [00:38, 37.87it/s]\n"
     ]
    },
    {
     "name": "stdout",
     "output_type": "stream",
     "text": [
      "Kmeans clustering ... (this might take a while)\n",
      "Let's select frames indices: [3520, 431, 5005, 3399, 4892, 4535, 3790, 3745, 4796, 2180, 1394, 4087, 3172, 3478, 4088, 2752, 34, 5077, 2306, 4859, 1310, 4709, 2918, 5343, 2787, 4570, 3433, 3846, 4811, 4678, 355, 2663, 3533, 526, 4234, 132, 4432, 3265, 486, 4494, 4971, 224, 2014, 1514, 3292, 3862, 5020, 2890, 5052, 3626, 1316, 1483, 3359, 1227, 4416, 2689, 4397, 1660, 4837, 3077, 3512, 3517, 3899, 1320, 4551, 5367, 5300, 465, 373, 563, 3738, 2943, 4242, 450, 3331, 651, 1066, 3500, 3182, 2990, 4467, 4714, 4498, 3766, 4706, 5387, 20, 3695, 3145, 3381, 3466, 3823, 2687, 4998, 3239, 4820, 43, 4131, 2647, 399]\n",
      "Creating the symbolic link of the video\n",
      "New video was added to the project! Use the function 'extract_frames' to select frames for labeling.\n",
      "The outlier frames are extracted. They are stored in the subdirectory labeled-data\\2010.11.12_13_45_28.\n",
      "Once you extracted frames for all videos, use 'refine_labels' to manually correct the labels.\n"
     ]
    },
    {
     "name": "stderr",
     "output_type": "stream",
     "text": [
      "\r",
      "0it [00:00, ?it/s]"
     ]
    },
    {
     "name": "stdout",
     "output_type": "stream",
     "text": [
      "Method  uncertain  found  3302  putative outlier frames.\n",
      "Do you want to proceed with extracting  100  of those?\n",
      "If this list is very large, perhaps consider changing the paramters (start, stop, p_bound, comparisonbodyparts) or use a different method.\n",
      "Loading video...\n",
      "Duration of video [s]:  26.97 , recorded @  200.0 fps!\n",
      "Overall # of frames:  5394 with (cropped) frame dimensions: \n",
      "Kmeans-quantization based extracting of frames from 0.0  seconds to 26.97  seconds.\n",
      "Extracting and downsampling... 3301  frames from the video.\n"
     ]
    },
    {
     "name": "stderr",
     "output_type": "stream",
     "text": [
      "3301it [01:22, 39.91it/s]\n"
     ]
    },
    {
     "name": "stdout",
     "output_type": "stream",
     "text": [
      "Kmeans clustering ... (this might take a while)\n",
      "Let's select frames indices: [4358, 3449, 582, 4815, 2733, 1281, 57, 5359, 4179, 787, 4762, 851, 3081, 1193, 1669, 2512, 3270, 4560, 150, 4902, 1805, 1773, 2909, 387, 5211, 3029, 4377, 2244, 2857, 2808, 1019, 1113, 2163, 789, 894, 5060, 4628, 743, 1298, 3894, 2213, 2747, 2119, 3334, 1272, 2920, 5131, 2268, 2094, 714, 419, 601, 524, 4044, 4415, 1656, 817, 4597, 2841, 4853, 2593, 2774, 2728, 3129, 2880, 2198, 2937, 1906, 1210, 4276, 119, 4701, 4747, 4513, 3191, 1404, 5290, 5367, 4604, 1817, 3274, 2904, 2959, 5203, 1270, 4339, 3101, 3566, 1556, 3518, 1141, 664, 2788, 3023, 2881, 3686, 3222, 3563, 4531, 3043]\n",
      "Creating the symbolic link of the video\n",
      "New video was added to the project! Use the function 'extract_frames' to select frames for labeling.\n",
      "The outlier frames are extracted. They are stored in the subdirectory labeled-data\\2010.11.12_13_48_29.\n",
      "Once you extracted frames for all videos, use 'refine_labels' to manually correct the labels.\n"
     ]
    },
    {
     "name": "stderr",
     "output_type": "stream",
     "text": [
      "\r",
      "0it [00:00, ?it/s]"
     ]
    },
    {
     "name": "stdout",
     "output_type": "stream",
     "text": [
      "Method  uncertain  found  5320  putative outlier frames.\n",
      "Do you want to proceed with extracting  100  of those?\n",
      "If this list is very large, perhaps consider changing the paramters (start, stop, p_bound, comparisonbodyparts) or use a different method.\n",
      "Loading video...\n",
      "Duration of video [s]:  26.985 , recorded @  200.0 fps!\n",
      "Overall # of frames:  5397 with (cropped) frame dimensions: \n",
      "Kmeans-quantization based extracting of frames from 0.0  seconds to 26.98  seconds.\n",
      "Extracting and downsampling... 5319  frames from the video.\n"
     ]
    },
    {
     "name": "stderr",
     "output_type": "stream",
     "text": [
      "5319it [02:12, 40.25it/s]\n"
     ]
    },
    {
     "name": "stdout",
     "output_type": "stream",
     "text": [
      "Kmeans clustering ... (this might take a while)\n",
      "Let's select frames indices: [2058, 18, 1222, 1803, 903, 4437, 478, 844, 4916, 3444, 994, 2669, 614, 1360, 1272, 1203, 5394, 970, 1786, 554, 2399, 5122, 1521, 2874, 3975, 4622, 3036, 5360, 1767, 257, 164, 1096, 394, 1058, 433, 4054, 3509, 824, 136, 768, 1138, 1476, 548, 5296, 941, 3862, 1288, 1012, 2973, 855, 5382, 1732, 5322, 2772, 1715, 225, 1907, 1054, 4129, 1283, 462, 697, 56, 2974, 1836, 241, 673, 1950, 251, 210, 1085, 723, 2557, 1694, 3842, 2925, 4244, 4755, 3062, 3703, 359, 5337, 1586, 157, 5306, 2234, 272, 1527, 1811, 931, 450, 4004, 4790, 3293, 1616, 3001, 5277, 228, 329, 812]\n",
      "Creating the symbolic link of the video\n",
      "New video was added to the project! Use the function 'extract_frames' to select frames for labeling.\n",
      "The outlier frames are extracted. They are stored in the subdirectory labeled-data\\2010.11.12_14_49_53.\n",
      "Once you extracted frames for all videos, use 'refine_labels' to manually correct the labels.\n"
     ]
    },
    {
     "name": "stderr",
     "output_type": "stream",
     "text": [
      "\r",
      "0it [00:00, ?it/s]"
     ]
    },
    {
     "name": "stdout",
     "output_type": "stream",
     "text": [
      "Method  uncertain  found  5388  putative outlier frames.\n",
      "Do you want to proceed with extracting  100  of those?\n",
      "If this list is very large, perhaps consider changing the paramters (start, stop, p_bound, comparisonbodyparts) or use a different method.\n",
      "Loading video...\n",
      "Duration of video [s]:  26.98 , recorded @  200.0 fps!\n",
      "Overall # of frames:  5396 with (cropped) frame dimensions: \n",
      "Kmeans-quantization based extracting of frames from 0.0  seconds to 26.98  seconds.\n",
      "Extracting and downsampling... 5387  frames from the video.\n"
     ]
    },
    {
     "name": "stderr",
     "output_type": "stream",
     "text": [
      "5387it [02:13, 40.44it/s]\n"
     ]
    },
    {
     "name": "stdout",
     "output_type": "stream",
     "text": [
      "Kmeans clustering ... (this might take a while)\n",
      "Let's select frames indices: [5069, 848, 182, 1914, 2927, 531, 1057, 985, 46, 1738, 2107, 5107, 3858, 1447, 1326, 1029, 797, 1866, 2598, 3739, 5243, 1297, 2704, 325, 3002, 2269, 3329, 939, 1059, 739, 360, 1103, 2629, 1514, 1637, 342, 2791, 1489, 2400, 1356, 568, 702, 2058, 1607, 653, 382, 4939, 1495, 901, 3221, 681, 4078, 1679, 198, 2622, 232, 3841, 1955, 610, 3663, 923, 1460, 4693, 3791, 1854, 1038, 705, 832, 538, 642, 2293, 1621, 1128, 494, 2566, 378, 3543, 2499, 2443, 1504, 837, 1838, 2817, 3476, 2378, 880, 1238, 5202, 4562, 1952, 1112, 1720, 1906, 2739, 1300, 1992, 1179, 1275, 2152, 5350]\n",
      "Creating the symbolic link of the video\n",
      "New video was added to the project! Use the function 'extract_frames' to select frames for labeling.\n",
      "The outlier frames are extracted. They are stored in the subdirectory labeled-data\\2010.11.12_14_51_05.\n",
      "Once you extracted frames for all videos, use 'refine_labels' to manually correct the labels.\n"
     ]
    },
    {
     "name": "stderr",
     "output_type": "stream",
     "text": [
      "\r",
      "0it [00:00, ?it/s]"
     ]
    },
    {
     "name": "stdout",
     "output_type": "stream",
     "text": [
      "Method  uncertain  found  5396  putative outlier frames.\n",
      "Do you want to proceed with extracting  100  of those?\n",
      "If this list is very large, perhaps consider changing the paramters (start, stop, p_bound, comparisonbodyparts) or use a different method.\n",
      "Loading video...\n",
      "Duration of video [s]:  26.985 , recorded @  200.0 fps!\n",
      "Overall # of frames:  5397 with (cropped) frame dimensions: \n",
      "Kmeans-quantization based extracting of frames from 0.0  seconds to 26.98  seconds.\n",
      "Extracting and downsampling... 5395  frames from the video.\n"
     ]
    },
    {
     "name": "stderr",
     "output_type": "stream",
     "text": [
      "5395it [02:12, 40.71it/s]\n"
     ]
    },
    {
     "name": "stdout",
     "output_type": "stream",
     "text": [
      "Kmeans clustering ... (this might take a while)\n",
      "Let's select frames indices: [130, 4063, 1628, 1965, 1221, 3447, 1063, 5250, 2735, 4617, 2640, 3062, 315, 883, 4686, 857, 2083, 399, 2512, 4376, 3273, 1601, 1394, 2460, 1921, 659, 436, 1910, 356, 1173, 5113, 1471, 1495, 1313, 4464, 4091, 264, 2195, 1506, 4305, 4809, 3946, 1115, 596, 3220, 2258, 3736, 2420, 5356, 4405, 4898, 954, 3021, 346, 1858, 3574, 936, 5009, 1613, 567, 3244, 688, 3991, 3162, 340, 1254, 1521, 27, 4926, 2565, 1732, 643, 1689, 1812, 799, 1206, 5094, 1424, 852, 2917, 1827, 1615, 4642, 3694, 694, 716, 3411, 4240, 673, 5227, 4454, 2333, 1837, 1001, 2125, 1136, 1711, 2812, 3278, 2006]\n",
      "Creating the symbolic link of the video\n",
      "New video was added to the project! Use the function 'extract_frames' to select frames for labeling.\n",
      "The outlier frames are extracted. They are stored in the subdirectory labeled-data\\2010.11.12_14_52_57.\n",
      "Once you extracted frames for all videos, use 'refine_labels' to manually correct the labels.\n"
     ]
    },
    {
     "name": "stderr",
     "output_type": "stream",
     "text": [
      "\r",
      "0it [00:00, ?it/s]"
     ]
    },
    {
     "name": "stdout",
     "output_type": "stream",
     "text": [
      "Method  uncertain  found  5394  putative outlier frames.\n",
      "Do you want to proceed with extracting  100  of those?\n",
      "If this list is very large, perhaps consider changing the paramters (start, stop, p_bound, comparisonbodyparts) or use a different method.\n",
      "Loading video...\n",
      "Duration of video [s]:  26.99 , recorded @  200.0 fps!\n",
      "Overall # of frames:  5398 with (cropped) frame dimensions: \n",
      "Kmeans-quantization based extracting of frames from 0.0  seconds to 26.99  seconds.\n",
      "Extracting and downsampling... 5393  frames from the video.\n"
     ]
    },
    {
     "name": "stderr",
     "output_type": "stream",
     "text": [
      "5393it [02:15, 39.69it/s]\n"
     ]
    },
    {
     "name": "stdout",
     "output_type": "stream",
     "text": [
      "Kmeans clustering ... (this might take a while)\n",
      "Let's select frames indices: [5118, 589, 1909, 1181, 2834, 5251, 3356, 2160, 1318, 993, 3671, 87, 378, 1484, 2499, 2062, 1080, 1438, 270, 939, 1468, 2427, 4594, 1569, 2312, 3053, 1194, 719, 2989, 2118, 1399, 1703, 1621, 1136, 1102, 3014, 3523, 4020, 1952, 3452, 1895, 4925, 1526, 770, 4702, 1036, 1655, 2368, 13, 229, 2241, 488, 999, 3098, 449, 1561, 1737, 874, 401, 314, 2021, 812, 475, 746, 1974, 1816, 1215, 2753, 2016, 686, 618, 1773, 1464, 1598, 532, 660, 921, 942, 4546, 1727, 1403, 904, 259, 2453, 795, 1444, 1257, 2204, 2974, 251, 825, 4525, 1938, 2407, 3923, 1027, 2618, 1149, 142, 1185]\n",
      "Creating the symbolic link of the video\n",
      "New video was added to the project! Use the function 'extract_frames' to select frames for labeling.\n",
      "The outlier frames are extracted. They are stored in the subdirectory labeled-data\\2010.11.12_14_54_08.\n",
      "Once you extracted frames for all videos, use 'refine_labels' to manually correct the labels.\n"
     ]
    },
    {
     "name": "stderr",
     "output_type": "stream",
     "text": [
      "\r",
      "0it [00:00, ?it/s]"
     ]
    },
    {
     "name": "stdout",
     "output_type": "stream",
     "text": [
      "Method  uncertain  found  5384  putative outlier frames.\n",
      "Do you want to proceed with extracting  100  of those?\n",
      "If this list is very large, perhaps consider changing the paramters (start, stop, p_bound, comparisonbodyparts) or use a different method.\n",
      "Loading video...\n",
      "Duration of video [s]:  26.975 , recorded @  200.0 fps!\n",
      "Overall # of frames:  5395 with (cropped) frame dimensions: \n",
      "Kmeans-quantization based extracting of frames from 0.0  seconds to 26.98  seconds.\n",
      "Extracting and downsampling... 5383  frames from the video.\n"
     ]
    },
    {
     "name": "stderr",
     "output_type": "stream",
     "text": [
      "5383it [02:16, 39.50it/s]\n"
     ]
    },
    {
     "name": "stdout",
     "output_type": "stream",
     "text": [
      "Kmeans clustering ... (this might take a while)\n",
      "Let's select frames indices: [732, 4619, 1391, 384, 5258, 1655, 2357, 148, 345, 2739, 1789, 1513, 199, 271, 2186, 1856, 1257, 1091, 806, 598, 2249, 773, 1481, 3701, 1738, 566, 2079, 1579, 3392, 1351, 674, 2300, 33, 1225, 4960, 1016, 164, 3591, 1628, 1970, 5010, 2242, 857, 2442, 1309, 4060, 491, 1043, 1986, 1144, 2113, 2578, 301, 893, 84, 238, 246, 1583, 927, 5080, 612, 2028, 867, 2103, 453, 833, 2044, 994, 1929, 1826, 1430, 507, 663, 1600, 1701, 949, 921, 2343, 2217, 5300, 1727, 816, 1326, 3881, 2152, 518, 1436, 909, 1270, 15, 1178, 398, 2322, 1874, 65, 5325, 644, 720, 441, 3280]\n",
      "Creating the symbolic link of the video\n",
      "New video was added to the project! Use the function 'extract_frames' to select frames for labeling.\n",
      "The outlier frames are extracted. They are stored in the subdirectory labeled-data\\2010.11.12_14_54_48.\n",
      "Once you extracted frames for all videos, use 'refine_labels' to manually correct the labels.\n"
     ]
    },
    {
     "name": "stderr",
     "output_type": "stream",
     "text": [
      "\r",
      "0it [00:00, ?it/s]"
     ]
    },
    {
     "name": "stdout",
     "output_type": "stream",
     "text": [
      "Method  uncertain  found  5396  putative outlier frames.\n",
      "Do you want to proceed with extracting  100  of those?\n",
      "If this list is very large, perhaps consider changing the paramters (start, stop, p_bound, comparisonbodyparts) or use a different method.\n",
      "Loading video...\n",
      "Duration of video [s]:  26.98 , recorded @  200.0 fps!\n",
      "Overall # of frames:  5396 with (cropped) frame dimensions: \n",
      "Kmeans-quantization based extracting of frames from 0.0  seconds to 26.98  seconds.\n",
      "Extracting and downsampling... 5395  frames from the video.\n"
     ]
    },
    {
     "name": "stderr",
     "output_type": "stream",
     "text": [
      "5395it [00:15, 345.83it/s]\n"
     ]
    },
    {
     "name": "stdout",
     "output_type": "stream",
     "text": [
      "Kmeans clustering ... (this might take a while)\n",
      "Let's select frames indices: [3818, 1873, 4844, 4289, 1589, 1257, 3467, 26, 2768, 5222, 4609, 2462, 4102, 3349, 1012, 918, 191, 3164, 3584, 224, 4427, 3376, 3189, 3306, 4709, 3026, 3879, 439, 286, 697, 3933, 4021, 4086, 3570, 309, 627, 3122, 769, 1766, 727, 2830, 118, 1085, 1550, 3745, 3807, 2798, 238, 644, 1387, 4160, 4203, 4800, 493, 4341, 3249, 4250, 1456, 3663, 1134, 3981, 486, 344, 2669, 4492, 401, 3430, 2996, 1724, 1333, 3411, 4525, 866, 476, 3279, 1080, 2642, 713, 4319, 4386, 945, 1227, 937, 4148, 3211, 1668, 1121, 3100, 3683, 3660, 3257, 1223, 2912, 3896, 3657, 205, 3096, 526, 2930, 4957]\n",
      "Creating the symbolic link of the video\n",
      "New video was added to the project! Use the function 'extract_frames' to select frames for labeling.\n",
      "The outlier frames are extracted. They are stored in the subdirectory labeled-data\\2010.11.12_14_55_18.\n",
      "Once you extracted frames for all videos, use 'refine_labels' to manually correct the labels.\n"
     ]
    },
    {
     "name": "stderr",
     "output_type": "stream",
     "text": [
      "\r",
      "0it [00:00, ?it/s]"
     ]
    },
    {
     "name": "stdout",
     "output_type": "stream",
     "text": [
      "Method  uncertain  found  5447  putative outlier frames.\n",
      "Do you want to proceed with extracting  100  of those?\n",
      "If this list is very large, perhaps consider changing the paramters (start, stop, p_bound, comparisonbodyparts) or use a different method.\n",
      "Loading video...\n",
      "Duration of video [s]:  27.25 , recorded @  200.0 fps!\n",
      "Overall # of frames:  5450 with (cropped) frame dimensions: \n",
      "Kmeans-quantization based extracting of frames from 0.0  seconds to 27.25  seconds.\n",
      "Extracting and downsampling... 5446  frames from the video.\n"
     ]
    },
    {
     "name": "stderr",
     "output_type": "stream",
     "text": [
      "5446it [02:19, 39.00it/s]\n"
     ]
    },
    {
     "name": "stdout",
     "output_type": "stream",
     "text": [
      "Kmeans clustering ... (this might take a while)\n",
      "Let's select frames indices: [2429, 4919, 858, 424, 907, 3543, 154, 3145, 295, 598, 2116, 1426, 4107, 3359, 5075, 2474, 1002, 889, 1111, 1633, 824, 19, 700, 1356, 808, 1542, 2097, 1912, 1513, 1589, 1145, 37, 3835, 4013, 132, 1949, 335, 1654, 744, 4036, 3792, 4092, 1194, 488, 1392, 3053, 639, 362, 1698, 618, 5238, 1256, 912, 1047, 4289, 462, 1446, 2172, 1261, 1060, 1769, 2027, 3733, 1465, 1529, 4208, 2880, 575, 2940, 196, 1130, 940, 676, 3194, 2537, 3095, 3959, 2343, 2685, 3976, 367, 2177, 3985, 1296, 2809, 497, 2066, 1203, 4761, 1889, 959, 2754, 3247, 1665, 3902, 4060, 4469, 1346, 650, 419]\n",
      "Creating the symbolic link of the video\n",
      "New video was added to the project! Use the function 'extract_frames' to select frames for labeling.\n",
      "The outlier frames are extracted. They are stored in the subdirectory labeled-data\\2010.11.12_15_07_54.\n",
      "Once you extracted frames for all videos, use 'refine_labels' to manually correct the labels.\n"
     ]
    },
    {
     "name": "stderr",
     "output_type": "stream",
     "text": [
      "\r",
      "0it [00:00, ?it/s]"
     ]
    },
    {
     "name": "stdout",
     "output_type": "stream",
     "text": [
      "Method  uncertain  found  5447  putative outlier frames.\n",
      "Do you want to proceed with extracting  100  of those?\n",
      "If this list is very large, perhaps consider changing the paramters (start, stop, p_bound, comparisonbodyparts) or use a different method.\n",
      "Loading video...\n",
      "Duration of video [s]:  27.235 , recorded @  200.0 fps!\n",
      "Overall # of frames:  5447 with (cropped) frame dimensions: \n",
      "Kmeans-quantization based extracting of frames from 0.0  seconds to 27.23  seconds.\n",
      "Extracting and downsampling... 5446  frames from the video.\n"
     ]
    },
    {
     "name": "stderr",
     "output_type": "stream",
     "text": [
      "5446it [00:15, 346.73it/s]\n"
     ]
    },
    {
     "name": "stdout",
     "output_type": "stream",
     "text": [
      "Kmeans clustering ... (this might take a while)\n",
      "Let's select frames indices: [3819, 937, 2278, 2154, 1751, 5147, 2240, 2669, 4766, 2559, 3391, 1320, 4554, 2199, 5422, 3131, 2399, 2063, 1430, 24, 5184, 3237, 3445, 1673, 1560, 1697, 2333, 2915, 2876, 3716, 1790, 5157, 2408, 2688, 2364, 2718, 3543, 2853, 5406, 1256, 4980, 5079, 2458, 5298, 2377, 762, 1197, 2792, 3604, 1506, 2489, 1935, 1919, 4658, 3040, 1735, 2947, 1529, 2040, 1960, 2274, 5238, 2308, 1471, 1871, 2223, 2586, 4418, 1765, 3094, 4968, 3169, 3650, 2703, 1576, 2828, 81, 2771, 4912, 3051, 1351, 1669, 2520, 3288, 4490, 1822, 4129, 2262, 4601, 3065, 2992, 4529, 3153, 2635, 3003, 5028, 4826, 1905, 4734, 3303]\n",
      "Creating the symbolic link of the video\n",
      "New video was added to the project! Use the function 'extract_frames' to select frames for labeling.\n",
      "The outlier frames are extracted. They are stored in the subdirectory labeled-data\\2010.11.12_15_09_44.\n",
      "Once you extracted frames for all videos, use 'refine_labels' to manually correct the labels.\n"
     ]
    },
    {
     "name": "stderr",
     "output_type": "stream",
     "text": [
      "\r",
      "0it [00:00, ?it/s]"
     ]
    },
    {
     "name": "stdout",
     "output_type": "stream",
     "text": [
      "Method  uncertain  found  5398  putative outlier frames.\n",
      "Do you want to proceed with extracting  100  of those?\n",
      "If this list is very large, perhaps consider changing the paramters (start, stop, p_bound, comparisonbodyparts) or use a different method.\n",
      "Loading video...\n",
      "Duration of video [s]:  27.01 , recorded @  200.0 fps!\n",
      "Overall # of frames:  5402 with (cropped) frame dimensions: \n",
      "Kmeans-quantization based extracting of frames from 0.0  seconds to 27.01  seconds.\n",
      "Extracting and downsampling... 5397  frames from the video.\n"
     ]
    },
    {
     "name": "stderr",
     "output_type": "stream",
     "text": [
      "5397it [02:14, 40.00it/s]\n"
     ]
    },
    {
     "name": "stdout",
     "output_type": "stream",
     "text": [
      "Kmeans clustering ... (this might take a while)\n",
      "Let's select frames indices: [5344, 359, 3381, 4300, 1090, 2727, 14, 1665, 2145, 3981, 1260, 1560, 961, 2373, 2067, 2608, 3092, 3320, 361, 3487, 95, 1535, 1419, 4925, 3852, 2539, 4439, 3189, 2635, 621, 995, 501, 1648, 182, 1874, 553, 601, 3427, 3505, 699, 1113, 2526, 3952, 3229, 1673, 4574, 4063, 1575, 1894, 2567, 1327, 3121, 2130, 3592, 1939, 1808, 625, 1707, 1170, 587, 2696, 1949, 3279, 591, 785, 2031, 877, 815, 2933, 883, 4686, 3171, 1631, 3452, 2601, 1733, 2997, 1047, 3684, 534, 1584, 4186, 2362, 5192, 4704, 3354, 2181, 2677, 406, 1520, 659, 1219, 1194, 1954, 245, 2789, 2944, 2478, 3033, 297]\n",
      "Creating the symbolic link of the video\n",
      "New video was added to the project! Use the function 'extract_frames' to select frames for labeling.\n",
      "The outlier frames are extracted. They are stored in the subdirectory labeled-data\\2010.11.12_15_11_10.\n",
      "Once you extracted frames for all videos, use 'refine_labels' to manually correct the labels.\n"
     ]
    },
    {
     "name": "stderr",
     "output_type": "stream",
     "text": [
      "\r",
      "0it [00:00, ?it/s]"
     ]
    },
    {
     "name": "stdout",
     "output_type": "stream",
     "text": [
      "Method  uncertain  found  5391  putative outlier frames.\n",
      "Do you want to proceed with extracting  100  of those?\n",
      "If this list is very large, perhaps consider changing the paramters (start, stop, p_bound, comparisonbodyparts) or use a different method.\n",
      "Loading video...\n",
      "Duration of video [s]:  26.955 , recorded @  200.0 fps!\n",
      "Overall # of frames:  5391 with (cropped) frame dimensions: \n",
      "Kmeans-quantization based extracting of frames from 0.0  seconds to 26.95  seconds.\n",
      "Extracting and downsampling... 5390  frames from the video.\n"
     ]
    },
    {
     "name": "stderr",
     "output_type": "stream",
     "text": [
      "5390it [00:15, 344.27it/s]\n"
     ]
    },
    {
     "name": "stdout",
     "output_type": "stream",
     "text": [
      "Kmeans clustering ... (this might take a while)\n",
      "Let's select frames indices: [2749, 1170, 5084, 2722, 3318, 4561, 2382, 4480, 2323, 2279, 69, 3778, 3039, 1925, 285, 3438, 2499, 4504, 2844, 4382, 1332, 2313, 4025, 1796, 3933, 4948, 4734, 3834, 2032, 2425, 4269, 3560, 2516, 3687, 2793, 1951, 4855, 2144, 4416, 3408, 4610, 1776, 4535, 3502, 3907, 2759, 3728, 4448, 4126, 340, 4239, 139, 4423, 5000, 2977, 470, 4157, 4866, 1869, 4354, 4056, 3004, 2633, 2199, 1983, 5318, 3625, 3815, 3631, 4001, 3919, 3858, 502, 979, 2531, 3426, 3365, 3591, 2615, 2006, 2695, 251, 2264, 2047, 4617, 396, 3661, 2564, 5196, 5364, 2293, 4103, 2708, 4783, 3841, 238, 4758, 2410, 2774, 3972]\n",
      "Creating the symbolic link of the video\n",
      "New video was added to the project! Use the function 'extract_frames' to select frames for labeling.\n",
      "The outlier frames are extracted. They are stored in the subdirectory labeled-data\\2010.11.12_15_11_54.\n",
      "Once you extracted frames for all videos, use 'refine_labels' to manually correct the labels.\n"
     ]
    },
    {
     "name": "stderr",
     "output_type": "stream",
     "text": [
      "\r",
      "0it [00:00, ?it/s]"
     ]
    },
    {
     "name": "stdout",
     "output_type": "stream",
     "text": [
      "Method  uncertain  found  5391  putative outlier frames.\n",
      "Do you want to proceed with extracting  100  of those?\n",
      "If this list is very large, perhaps consider changing the paramters (start, stop, p_bound, comparisonbodyparts) or use a different method.\n",
      "Loading video...\n",
      "Duration of video [s]:  26.96 , recorded @  200.0 fps!\n",
      "Overall # of frames:  5392 with (cropped) frame dimensions: \n",
      "Kmeans-quantization based extracting of frames from 0.0  seconds to 26.96  seconds.\n",
      "Extracting and downsampling... 5390  frames from the video.\n"
     ]
    },
    {
     "name": "stderr",
     "output_type": "stream",
     "text": [
      "5390it [02:13, 40.49it/s]\n"
     ]
    },
    {
     "name": "stdout",
     "output_type": "stream",
     "text": [
      "Kmeans clustering ... (this might take a while)\n",
      "Let's select frames indices: [2403, 5109, 875, 3354, 7, 1776, 1680, 4492, 316, 4945, 2046, 1206, 2006, 2144, 233, 820, 2406, 3545, 141, 3699, 1012, 1438, 4195, 1905, 342, 2017, 1171, 121, 1947, 792, 5122, 2098, 2608, 1835, 749, 3645, 3109, 583, 3385, 846, 5313, 1746, 277, 739, 2781, 558, 252, 3231, 505, 2273, 395, 718, 570, 532, 2353, 4831, 1657, 3894, 1251, 29, 1127, 2645, 685, 1319, 3814, 2512, 1796, 1173, 180, 3597, 912, 1733, 66, 1407, 1336, 1450, 322, 1160, 1880, 3075, 1653, 1540, 1386, 634, 1633, 2655, 2474, 3905, 1519, 627, 1241, 2541, 1812, 1267, 1085, 2507, 1026, 1627, 2917, 2583]\n",
      "Creating the symbolic link of the video\n",
      "New video was added to the project! Use the function 'extract_frames' to select frames for labeling.\n",
      "The outlier frames are extracted. They are stored in the subdirectory labeled-data\\2010.11.12_15_14_08.\n",
      "Once you extracted frames for all videos, use 'refine_labels' to manually correct the labels.\n"
     ]
    },
    {
     "name": "stderr",
     "output_type": "stream",
     "text": [
      "\r",
      "0it [00:00, ?it/s]"
     ]
    },
    {
     "name": "stdout",
     "output_type": "stream",
     "text": [
      "Method  uncertain  found  5391  putative outlier frames.\n",
      "Do you want to proceed with extracting  100  of those?\n",
      "If this list is very large, perhaps consider changing the paramters (start, stop, p_bound, comparisonbodyparts) or use a different method.\n",
      "Loading video...\n",
      "Duration of video [s]:  27.005 , recorded @  200.0 fps!\n",
      "Overall # of frames:  5401 with (cropped) frame dimensions: \n",
      "Kmeans-quantization based extracting of frames from 0.0  seconds to 27.0  seconds.\n",
      "Extracting and downsampling... 5390  frames from the video.\n"
     ]
    },
    {
     "name": "stderr",
     "output_type": "stream",
     "text": [
      "5390it [02:14, 39.94it/s]\n"
     ]
    },
    {
     "name": "stdout",
     "output_type": "stream",
     "text": [
      "Kmeans clustering ... (this might take a while)\n",
      "Let's select frames indices: [1032, 3980, 2902, 4219, 4979, 2263, 1456, 3549, 127, 3849, 2532, 2108, 1323, 4921, 2417, 4515, 1933, 2390, 1570, 2146, 3778, 4076, 1136, 4605, 4501, 3344, 3634, 274, 5332, 2439, 3110, 1970, 4681, 4110, 1688, 3029, 3130, 3034, 2165, 1769, 2818, 699, 2073, 2319, 4177, 4287, 2553, 4827, 4037, 5104, 4957, 2220, 223, 1854, 5253, 2769, 3381, 2280, 3427, 2693, 2979, 3672, 3395, 3264, 4394, 1732, 1646, 63, 4773, 2863, 2200, 3941, 2075, 3101, 2046, 381, 1960, 2542, 520, 4521, 3483, 1563, 2301, 2216, 2807, 463, 5291, 4068, 2367, 2959, 4571, 4247, 311, 1546, 4140, 3589, 1752, 3948, 2478, 4050]\n",
      "Creating the symbolic link of the video\n",
      "New video was added to the project! Use the function 'extract_frames' to select frames for labeling.\n",
      "The outlier frames are extracted. They are stored in the subdirectory labeled-data\\2010.11.12_15_14_55.\n",
      "Once you extracted frames for all videos, use 'refine_labels' to manually correct the labels.\n"
     ]
    },
    {
     "name": "stderr",
     "output_type": "stream",
     "text": [
      "\r",
      "0it [00:00, ?it/s]"
     ]
    },
    {
     "name": "stdout",
     "output_type": "stream",
     "text": [
      "Method  uncertain  found  5409  putative outlier frames.\n",
      "Do you want to proceed with extracting  100  of those?\n",
      "If this list is very large, perhaps consider changing the paramters (start, stop, p_bound, comparisonbodyparts) or use a different method.\n",
      "Loading video...\n",
      "Duration of video [s]:  27.045 , recorded @  200.0 fps!\n",
      "Overall # of frames:  5409 with (cropped) frame dimensions: \n",
      "Kmeans-quantization based extracting of frames from 0.0  seconds to 27.05  seconds.\n",
      "Extracting and downsampling... 5408  frames from the video.\n"
     ]
    },
    {
     "name": "stderr",
     "output_type": "stream",
     "text": [
      "5408it [00:15, 349.99it/s]\n"
     ]
    },
    {
     "name": "stdout",
     "output_type": "stream",
     "text": [
      "Kmeans clustering ... (this might take a while)\n",
      "Let's select frames indices: [2106, 4343, 3158, 416, 1176, 3634, 1656, 2458, 654, 34, 1997, 3995, 1266, 5125, 887, 2677, 2242, 914, 3780, 1444, 1028, 321, 1752, 933, 658, 5049, 2163, 1186, 4817, 4124, 1327, 1534, 999, 818, 1149, 4078, 4508, 2032, 379, 1041, 232, 3220, 1410, 939, 3951, 2423, 3880, 3504, 1388, 1211, 733, 3552, 213, 1943, 1015, 3739, 844, 2317, 5382, 583, 5288, 4598, 917, 1874, 115, 2962, 2156, 2401, 295, 4152, 3686, 1562, 465, 1671, 708, 2597, 4257, 756, 869, 1926, 2855, 1476, 4056, 609, 1308, 1782, 2561, 1086, 5238, 1323, 2213, 532, 437, 1063, 1240, 358, 958, 538, 3898, 277]\n",
      "Creating the symbolic link of the video\n",
      "New video was added to the project! Use the function 'extract_frames' to select frames for labeling.\n",
      "The outlier frames are extracted. They are stored in the subdirectory labeled-data\\2010.11.12_15_17_03.\n",
      "Once you extracted frames for all videos, use 'refine_labels' to manually correct the labels.\n"
     ]
    },
    {
     "name": "stderr",
     "output_type": "stream",
     "text": [
      "\r",
      "0it [00:00, ?it/s]"
     ]
    },
    {
     "name": "stdout",
     "output_type": "stream",
     "text": [
      "Method  uncertain  found  5459  putative outlier frames.\n",
      "Do you want to proceed with extracting  100  of those?\n",
      "If this list is very large, perhaps consider changing the paramters (start, stop, p_bound, comparisonbodyparts) or use a different method.\n",
      "Loading video...\n",
      "Duration of video [s]:  27.3 , recorded @  200.0 fps!\n",
      "Overall # of frames:  5460 with (cropped) frame dimensions: \n",
      "Kmeans-quantization based extracting of frames from 0.0  seconds to 27.3  seconds.\n",
      "Extracting and downsampling... 5458  frames from the video.\n"
     ]
    },
    {
     "name": "stderr",
     "output_type": "stream",
     "text": [
      "5458it [02:19, 39.18it/s]\n"
     ]
    },
    {
     "name": "stdout",
     "output_type": "stream",
     "text": [
      "Kmeans clustering ... (this might take a while)\n",
      "Let's select frames indices: [2, 4477, 696, 2262, 4561, 3143, 5426, 1205, 1543, 1566, 2642, 1806, 224, 2331, 2198, 1065, 2587, 377, 1465, 511, 3884, 2804, 888, 4653, 1841, 4764, 2033, 1277, 307, 1938, 1401, 1376, 1692, 4097, 4987, 2595, 1878, 255, 1646, 3442, 2448, 2557, 971, 2004, 1921, 220, 5024, 2499, 2287, 1745, 648, 2562, 1763, 272, 1889, 2707, 1605, 466, 2167, 3404, 2178, 2373, 3227, 1989, 350, 2301, 1443, 1301, 2232, 2150, 418, 4731, 2036, 4865, 4280, 1129, 3247, 2923, 324, 1479, 1713, 4045, 1499, 1363, 355, 1797, 1967, 1578, 1903, 1182, 2625, 1260, 4469, 5151, 3569, 2215, 2659, 5270, 442]\n",
      "Creating the symbolic link of the video\n",
      "New video was added to the project! Use the function 'extract_frames' to select frames for labeling.\n",
      "The outlier frames are extracted. They are stored in the subdirectory labeled-data\\2010.11.12_15_18_01.\n",
      "Once you extracted frames for all videos, use 'refine_labels' to manually correct the labels.\n"
     ]
    },
    {
     "name": "stderr",
     "output_type": "stream",
     "text": [
      "\r",
      "0it [00:00, ?it/s]"
     ]
    },
    {
     "name": "stdout",
     "output_type": "stream",
     "text": [
      "Method  uncertain  found  5397  putative outlier frames.\n",
      "Do you want to proceed with extracting  100  of those?\n",
      "If this list is very large, perhaps consider changing the paramters (start, stop, p_bound, comparisonbodyparts) or use a different method.\n",
      "Loading video...\n",
      "Duration of video [s]:  26.995 , recorded @  200.0 fps!\n",
      "Overall # of frames:  5399 with (cropped) frame dimensions: \n",
      "Kmeans-quantization based extracting of frames from 0.0  seconds to 27.0  seconds.\n",
      "Extracting and downsampling... 5396  frames from the video.\n"
     ]
    },
    {
     "name": "stderr",
     "output_type": "stream",
     "text": [
      "5396it [02:17, 39.28it/s]\n"
     ]
    },
    {
     "name": "stdout",
     "output_type": "stream",
     "text": [
      "Kmeans clustering ... (this might take a while)\n",
      "Let's select frames indices: [203, 2328, 3987, 813, 2481, 905, 843, 535, 2245, 998, 3538, 1312, 304, 512, 1159, 108, 254, 2143, 1376, 2727, 1986, 4150, 422, 1844, 5007, 3390, 1860, 3698, 505, 2457, 364, 57, 567, 156, 390, 2092, 1760, 1963, 746, 829, 3795, 1033, 1829, 1433, 1690, 3085, 713, 2299, 448, 1558, 608, 655, 1254, 2943, 1398, 859, 1893, 191, 313, 1267, 1021, 524, 963, 1047, 1278, 2128, 1172, 619, 1662, 4225, 984, 1934, 343, 722, 2187, 1510, 1355, 1086, 3946, 122, 67, 1224, 1603, 1812, 1219, 3318, 1118, 874, 1161, 2696, 1418, 233, 2311, 1329, 1650, 1081, 1195, 2042, 3601, 779]\n",
      "Creating the symbolic link of the video\n",
      "New video was added to the project! Use the function 'extract_frames' to select frames for labeling.\n",
      "The outlier frames are extracted. They are stored in the subdirectory labeled-data\\2010.11.12_15_19_24.\n",
      "Once you extracted frames for all videos, use 'refine_labels' to manually correct the labels.\n",
      "Method  uncertain  found  5439  putative outlier frames.\n",
      "Do you want to proceed with extracting  100  of those?\n",
      "If this list is very large, perhaps consider changing the paramters (start, stop, p_bound, comparisonbodyparts) or use a different method.\n",
      "Loading video...\n"
     ]
    },
    {
     "name": "stderr",
     "output_type": "stream",
     "text": [
      "34it [00:00, 331.46it/s]"
     ]
    },
    {
     "name": "stdout",
     "output_type": "stream",
     "text": [
      "Duration of video [s]:  27.195 , recorded @  200.0 fps!\n",
      "Overall # of frames:  5439 with (cropped) frame dimensions: \n",
      "Kmeans-quantization based extracting of frames from 0.0  seconds to 27.2  seconds.\n",
      "Extracting and downsampling... 5438  frames from the video.\n"
     ]
    },
    {
     "name": "stderr",
     "output_type": "stream",
     "text": [
      "5438it [00:15, 345.74it/s]\n"
     ]
    },
    {
     "name": "stdout",
     "output_type": "stream",
     "text": [
      "Kmeans clustering ... (this might take a while)\n",
      "Let's select frames indices: [1547, 3949, 1063, 4881, 5376, 119, 2034, 5067, 621, 4627, 467, 3520, 2673, 1436, 1963, 1712, 2113, 851, 316, 4235, 890, 472, 1068, 789, 739, 1574, 3792, 3271, 3653, 3147, 2168, 1629, 1103, 1108, 1597, 219, 1881, 678, 872, 3341, 1362, 4323, 1757, 595, 4966, 5046, 4117, 1657, 503, 1956, 2919, 1512, 3027, 3208, 668, 5317, 2206, 3678, 2071, 1686, 1315, 276, 1332, 662, 831, 301, 776, 1482, 1237, 3456, 1591, 982, 1248, 4436, 1666, 2321, 2775, 542, 940, 359, 1923, 2799, 1266, 1819, 5144, 3584, 1198, 243, 1273, 1934, 2704, 4527, 1038, 3745, 760, 3181, 1095, 2907, 3359, 1180]\n",
      "Creating the symbolic link of the video\n",
      "New video was added to the project! Use the function 'extract_frames' to select frames for labeling.\n",
      "The outlier frames are extracted. They are stored in the subdirectory labeled-data\\2010.11.12_15_20_03.\n",
      "Once you extracted frames for all videos, use 'refine_labels' to manually correct the labels.\n"
     ]
    },
    {
     "name": "stderr",
     "output_type": "stream",
     "text": [
      "\r",
      "0it [00:00, ?it/s]"
     ]
    },
    {
     "name": "stdout",
     "output_type": "stream",
     "text": [
      "Method  uncertain  found  5386  putative outlier frames.\n",
      "Do you want to proceed with extracting  100  of those?\n",
      "If this list is very large, perhaps consider changing the paramters (start, stop, p_bound, comparisonbodyparts) or use a different method.\n",
      "Loading video...\n",
      "Duration of video [s]:  26.945 , recorded @  200.0 fps!\n",
      "Overall # of frames:  5389 with (cropped) frame dimensions: \n",
      "Kmeans-quantization based extracting of frames from 0.0  seconds to 26.95  seconds.\n",
      "Extracting and downsampling... 5385  frames from the video.\n"
     ]
    },
    {
     "name": "stderr",
     "output_type": "stream",
     "text": [
      "5385it [02:17, 39.12it/s]\n"
     ]
    },
    {
     "name": "stdout",
     "output_type": "stream",
     "text": [
      "Kmeans clustering ... (this might take a while)\n",
      "Let's select frames indices: [2603, 1367, 3960, 969, 38, 1692, 2912, 1491, 1238, 2121, 1142, 306, 757, 1514, 1935, 2251, 1963, 1730, 3553, 997, 329, 2441, 1347, 657, 3418, 2078, 375, 5348, 4516, 840, 294, 1383, 475, 1800, 2182, 2685, 3373, 583, 2160, 344, 390, 226, 3053, 2302, 1857, 1116, 869, 1746, 1151, 685, 1620, 1075, 893, 655, 4115, 4399, 508, 4645, 1223, 688, 1640, 626, 1305, 4465, 464, 2708, 3699, 1106, 550, 2660, 1157, 3173, 1763, 264, 4627, 3546, 1756, 1329, 3436, 1428, 1015, 1847, 320, 4988, 144, 629, 2227, 1036, 1598, 2608, 2036, 2177, 715, 2362, 1380, 1462, 575, 2699, 1677, 1067]\n",
      "Creating the symbolic link of the video\n",
      "New video was added to the project! Use the function 'extract_frames' to select frames for labeling.\n",
      "The outlier frames are extracted. They are stored in the subdirectory labeled-data\\2010.11.12_15_21_02.\n",
      "Once you extracted frames for all videos, use 'refine_labels' to manually correct the labels.\n"
     ]
    },
    {
     "name": "stderr",
     "output_type": "stream",
     "text": [
      "27it [00:00, 268.17it/s]"
     ]
    },
    {
     "name": "stdout",
     "output_type": "stream",
     "text": [
      "Method  uncertain  found  5395  putative outlier frames.\n",
      "Do you want to proceed with extracting  100  of those?\n",
      "If this list is very large, perhaps consider changing the paramters (start, stop, p_bound, comparisonbodyparts) or use a different method.\n",
      "Loading video...\n",
      "Duration of video [s]:  26.975 , recorded @  200.0 fps!\n",
      "Overall # of frames:  5395 with (cropped) frame dimensions: \n",
      "Kmeans-quantization based extracting of frames from 0.0  seconds to 26.98  seconds.\n",
      "Extracting and downsampling... 5394  frames from the video.\n"
     ]
    },
    {
     "name": "stderr",
     "output_type": "stream",
     "text": [
      "5394it [00:15, 341.82it/s]\n"
     ]
    },
    {
     "name": "stdout",
     "output_type": "stream",
     "text": [
      "Kmeans clustering ... (this might take a while)\n",
      "Let's select frames indices: [22, 1888, 4877, 4795, 3635, 3553, 4189, 2051, 424, 2341, 4012, 1599, 2375, 4955, 744, 2174, 2692, 2456, 3220, 3484, 413, 3280, 5102, 3701, 2537, 2674, 4625, 5290, 2470, 2952, 4584, 444, 3380, 3758, 5297, 305, 2900, 2582, 2280, 2705, 290, 3648, 492, 4526, 3472, 1072, 3259, 2993, 211, 2435, 571, 3162, 2822, 2888, 332, 2746, 2922, 2573, 2972, 3609, 3305, 3042, 2776, 2466, 3350, 3809, 1355, 3491, 4093, 3574, 4239, 3102, 626, 3397, 3075, 2440, 5228, 3228, 2258, 349, 2785, 3150, 2354, 681, 5287, 3796, 3191, 3656, 1984, 2838, 2517, 3715, 2849, 3916, 3874, 4416, 386, 643, 2502, 3063]\n",
      "Creating the symbolic link of the video\n",
      "New video was added to the project! Use the function 'extract_frames' to select frames for labeling.\n",
      "The outlier frames are extracted. They are stored in the subdirectory labeled-data\\2010.11.12_15_21_40.\n",
      "Once you extracted frames for all videos, use 'refine_labels' to manually correct the labels.\n"
     ]
    },
    {
     "name": "stderr",
     "output_type": "stream",
     "text": [
      "\r",
      "0it [00:00, ?it/s]"
     ]
    },
    {
     "name": "stdout",
     "output_type": "stream",
     "text": [
      "Method  uncertain  found  5402  putative outlier frames.\n",
      "Do you want to proceed with extracting  100  of those?\n",
      "If this list is very large, perhaps consider changing the paramters (start, stop, p_bound, comparisonbodyparts) or use a different method.\n",
      "Loading video...\n",
      "Duration of video [s]:  27.01 , recorded @  200.0 fps!\n",
      "Overall # of frames:  5402 with (cropped) frame dimensions: \n",
      "Kmeans-quantization based extracting of frames from 0.0  seconds to 27.01  seconds.\n",
      "Extracting and downsampling... 5401  frames from the video.\n"
     ]
    },
    {
     "name": "stderr",
     "output_type": "stream",
     "text": [
      "5401it [00:15, 348.28it/s]\n"
     ]
    },
    {
     "name": "stdout",
     "output_type": "stream",
     "text": [
      "Kmeans clustering ... (this might take a while)\n",
      "Let's select frames indices: [2442, 2119, 4262, 711, 1275, 486, 186, 1457, 122, 5322, 1241, 2041, 1591, 3169, 1228, 386, 902, 250, 411, 2353, 466, 554, 5146, 1081, 1708, 35, 429, 854, 798, 1773, 670, 815, 706, 1177, 2471, 259, 971, 3567, 1287, 1396, 1044, 1026, 1645, 2802, 2291, 347, 1150, 1348, 268, 2261, 733, 937, 214, 837, 998, 380, 2989, 2365, 868, 1171, 457, 406, 1926, 1869, 147, 2377, 527, 100, 1061, 904, 2156, 716, 650, 421, 5238, 1972, 564, 504, 1606, 295, 662, 2196, 1526, 1466, 1725, 4575, 3839, 2633, 2409, 1123, 1209, 4056, 2315, 1493, 4858, 600, 2232, 2211, 1415, 3390]\n",
      "Creating the symbolic link of the video\n",
      "New video was added to the project! Use the function 'extract_frames' to select frames for labeling.\n",
      "The outlier frames are extracted. They are stored in the subdirectory labeled-data\\2010.11.12_15_22_48.\n",
      "Once you extracted frames for all videos, use 'refine_labels' to manually correct the labels.\n"
     ]
    },
    {
     "name": "stderr",
     "output_type": "stream",
     "text": [
      "\r",
      "0it [00:00, ?it/s]"
     ]
    },
    {
     "name": "stdout",
     "output_type": "stream",
     "text": [
      "Method  uncertain  found  5389  putative outlier frames.\n",
      "Do you want to proceed with extracting  100  of those?\n",
      "If this list is very large, perhaps consider changing the paramters (start, stop, p_bound, comparisonbodyparts) or use a different method.\n",
      "Loading video...\n",
      "Duration of video [s]:  26.945 , recorded @  200.0 fps!\n",
      "Overall # of frames:  5389 with (cropped) frame dimensions: \n",
      "Kmeans-quantization based extracting of frames from 0.0  seconds to 26.95  seconds.\n",
      "Extracting and downsampling... 5388  frames from the video.\n"
     ]
    },
    {
     "name": "stderr",
     "output_type": "stream",
     "text": [
      "5388it [00:15, 344.69it/s]\n"
     ]
    },
    {
     "name": "stdout",
     "output_type": "stream",
     "text": [
      "Kmeans clustering ... (this might take a while)\n",
      "Let's select frames indices: [1990, 4715, 2646, 930, 1606, 412, 265, 21, 2973, 3445, 1670, 595, 4405, 1095, 3627, 2350, 1944, 698, 254, 846, 395, 1382, 566, 1734, 1259, 5175, 964, 224, 3031, 885, 188, 1151, 924, 4499, 756, 1438, 1306, 2012, 1779, 109, 1349, 2184, 3329, 446, 610, 168, 5355, 3657, 2504, 1194, 2395, 1816, 3793, 673, 1467, 3100, 2128, 1093, 4178, 533, 1281, 1230, 1581, 1268, 1850, 1552, 5192, 2094, 1470, 138, 266, 815, 491, 3141, 4787, 3177, 4606, 1709, 400, 2681, 2029, 1156, 2762, 1182, 3516, 797, 2479, 1041, 1875, 910, 723, 601, 5370, 4351, 786, 131, 1012, 4837, 428, 3979]\n",
      "Creating the symbolic link of the video\n",
      "New video was added to the project! Use the function 'extract_frames' to select frames for labeling.\n",
      "The outlier frames are extracted. They are stored in the subdirectory labeled-data\\2010.11.12_15_24_55.\n",
      "Once you extracted frames for all videos, use 'refine_labels' to manually correct the labels.\n"
     ]
    },
    {
     "name": "stderr",
     "output_type": "stream",
     "text": [
      "\r",
      "0it [00:00, ?it/s]"
     ]
    },
    {
     "name": "stdout",
     "output_type": "stream",
     "text": [
      "Method  uncertain  found  5394  putative outlier frames.\n",
      "Do you want to proceed with extracting  100  of those?\n",
      "If this list is very large, perhaps consider changing the paramters (start, stop, p_bound, comparisonbodyparts) or use a different method.\n",
      "Loading video...\n",
      "Duration of video [s]:  26.975 , recorded @  200.0 fps!\n",
      "Overall # of frames:  5395 with (cropped) frame dimensions: \n",
      "Kmeans-quantization based extracting of frames from 0.0  seconds to 26.98  seconds.\n",
      "Extracting and downsampling... 5393  frames from the video.\n"
     ]
    },
    {
     "name": "stderr",
     "output_type": "stream",
     "text": [
      "5393it [02:17, 39.14it/s]\n"
     ]
    },
    {
     "name": "stdout",
     "output_type": "stream",
     "text": [
      "Kmeans clustering ... (this might take a while)\n",
      "Let's select frames indices: [5267, 1091, 1757, 2310, 1400, 957, 619, 584, 218, 3449, 1888, 91, 1534, 2619, 401, 4156, 4047, 1134, 878, 365, 1450, 3514, 1571, 1879, 409, 1348, 846, 1811, 2159, 1630, 2368, 4181, 1180, 3830, 1056, 1339, 1433, 1606, 981, 5095, 499, 3053, 1478, 653, 904, 2064, 2002, 835, 850, 3425, 1202, 3671, 2463, 632, 1162, 669, 4105, 901, 620, 363, 762, 4935, 4635, 3475, 2719, 1519, 1010, 1358, 478, 3542, 729, 2240, 2514, 727, 4804, 327, 2125, 795, 933, 1742, 3009, 529, 3797, 1019, 1989, 2137, 1849, 2073, 644, 1531, 547, 66, 3128, 207, 2100, 1053, 3507, 2006, 3622, 153]\n",
      "Creating the symbolic link of the video\n",
      "New video was added to the project! Use the function 'extract_frames' to select frames for labeling.\n",
      "The outlier frames are extracted. They are stored in the subdirectory labeled-data\\2010.11.12_15_26_00.\n",
      "Once you extracted frames for all videos, use 'refine_labels' to manually correct the labels.\n"
     ]
    },
    {
     "name": "stderr",
     "output_type": "stream",
     "text": [
      "\r",
      "0it [00:00, ?it/s]"
     ]
    },
    {
     "name": "stdout",
     "output_type": "stream",
     "text": [
      "Method  uncertain  found  5462  putative outlier frames.\n",
      "Do you want to proceed with extracting  100  of those?\n",
      "If this list is very large, perhaps consider changing the paramters (start, stop, p_bound, comparisonbodyparts) or use a different method.\n",
      "Loading video...\n",
      "Duration of video [s]:  27.315 , recorded @  200.0 fps!\n",
      "Overall # of frames:  5463 with (cropped) frame dimensions: \n",
      "Kmeans-quantization based extracting of frames from 0.0  seconds to 27.32  seconds.\n",
      "Extracting and downsampling... 5461  frames from the video.\n"
     ]
    },
    {
     "name": "stderr",
     "output_type": "stream",
     "text": [
      "5461it [02:18, 39.55it/s]\n"
     ]
    },
    {
     "name": "stdout",
     "output_type": "stream",
     "text": [
      "Kmeans clustering ... (this might take a while)\n",
      "Let's select frames indices: [1532, 5201, 716, 3052, 3762, 2775, 1727, 2050, 383, 195, 730, 1109, 2811, 2260, 4316, 3420, 2099, 3665, 1515, 1921, 724, 4584, 1173, 1386, 1085, 2242, 1071, 622, 1628, 1572, 1383, 2920, 864, 763, 1360, 1423, 817, 883, 1427, 3488, 1753, 1793, 1338, 592, 3472, 1499, 4744, 489, 4679, 1190, 2001, 4172, 4875, 929, 2172, 1907, 1545, 1306, 3314, 3227, 1149, 109, 2452, 857, 3637, 1238, 1467, 2907, 1662, 3971, 2186, 2857, 3273, 45, 837, 3194, 3734, 4279, 1330, 1099, 542, 2134, 3943, 1030, 1122, 1550, 3708, 891, 668, 3602, 2037, 4652, 901, 1605, 313, 5288, 501, 528, 1778, 1006]\n",
      "Creating the symbolic link of the video\n",
      "New video was added to the project! Use the function 'extract_frames' to select frames for labeling.\n",
      "The outlier frames are extracted. They are stored in the subdirectory labeled-data\\2010.11.12_15_26_37.\n",
      "Once you extracted frames for all videos, use 'refine_labels' to manually correct the labels.\n"
     ]
    },
    {
     "name": "stderr",
     "output_type": "stream",
     "text": [
      "\r",
      "0it [00:00, ?it/s]"
     ]
    },
    {
     "name": "stdout",
     "output_type": "stream",
     "text": [
      "Method  uncertain  found  5389  putative outlier frames.\n",
      "Do you want to proceed with extracting  100  of those?\n",
      "If this list is very large, perhaps consider changing the paramters (start, stop, p_bound, comparisonbodyparts) or use a different method.\n",
      "Loading video...\n",
      "Duration of video [s]:  26.995 , recorded @  200.0 fps!\n",
      "Overall # of frames:  5399 with (cropped) frame dimensions: \n",
      "Kmeans-quantization based extracting of frames from 0.0  seconds to 27.0  seconds.\n",
      "Extracting and downsampling... 5388  frames from the video.\n"
     ]
    },
    {
     "name": "stderr",
     "output_type": "stream",
     "text": [
      "5388it [02:14, 40.07it/s]\n"
     ]
    },
    {
     "name": "stdout",
     "output_type": "stream",
     "text": [
      "Kmeans clustering ... (this might take a while)\n",
      "Let's select frames indices: [4116, 5099, 132, 2405, 372, 1907, 1483, 716, 3273, 1311, 1432, 2060, 3749, 4207, 299, 2182, 5172, 411, 850, 607, 238, 4523, 223, 1961, 4256, 675, 2652, 1227, 559, 547, 1100, 4402, 459, 1695, 273, 4755, 267, 397, 1857, 4424, 1114, 890, 2991, 1125, 1354, 351, 3116, 3660, 3826, 995, 739, 1742, 1344, 2079, 251, 1826, 1048, 1980, 2270, 985, 1253, 467, 763, 1839, 4138, 1265, 280, 400, 5377, 4054, 493, 1880, 576, 2841, 825, 4654, 4332, 309, 4361, 1862, 336, 2536, 4775, 2028, 2007, 4345, 1506, 3421, 4841, 203, 2262, 866, 3872, 2425, 2050, 807, 1448, 1931, 1909, 2754]\n",
      "Creating the symbolic link of the video\n",
      "New video was added to the project! Use the function 'extract_frames' to select frames for labeling.\n",
      "The outlier frames are extracted. They are stored in the subdirectory labeled-data\\2010.11.12_15_27_18.\n",
      "Once you extracted frames for all videos, use 'refine_labels' to manually correct the labels.\n"
     ]
    },
    {
     "name": "stderr",
     "output_type": "stream",
     "text": [
      "\r",
      "0it [00:00, ?it/s]"
     ]
    },
    {
     "name": "stdout",
     "output_type": "stream",
     "text": [
      "Method  uncertain  found  5394  putative outlier frames.\n",
      "Do you want to proceed with extracting  100  of those?\n",
      "If this list is very large, perhaps consider changing the paramters (start, stop, p_bound, comparisonbodyparts) or use a different method.\n",
      "Loading video...\n",
      "Duration of video [s]:  26.97 , recorded @  200.0 fps!\n",
      "Overall # of frames:  5394 with (cropped) frame dimensions: \n",
      "Kmeans-quantization based extracting of frames from 0.0  seconds to 26.97  seconds.\n",
      "Extracting and downsampling... 5393  frames from the video.\n"
     ]
    },
    {
     "name": "stderr",
     "output_type": "stream",
     "text": [
      "5393it [00:15, 353.01it/s]\n"
     ]
    },
    {
     "name": "stdout",
     "output_type": "stream",
     "text": [
      "Kmeans clustering ... (this might take a while)\n",
      "Let's select frames indices: [1390, 5217, 1118, 2144, 1031, 1692, 3459, 203, 714, 1995, 870, 2214, 1098, 1522, 1827, 2499, 472, 2251, 2598, 1246, 1565, 4209, 2348, 2097, 492, 1013, 1721, 610, 558, 1478, 47, 1321, 696, 1656, 1731, 3287, 725, 2532, 1430, 1028, 1001, 1563, 1085, 3260, 1216, 2195, 3433, 828, 1782, 1676, 1288, 270, 677, 1467, 1410, 2069, 2412, 1499, 818, 378, 1951, 532, 2994, 282, 3033, 2031, 5284, 2292, 3696, 3580, 1887, 1983, 742, 2634, 1666, 1932, 1257, 1847, 4602, 1386, 423, 2701, 3689, 1968, 901, 1716, 336, 580, 2164, 733, 545, 3163, 507, 2260, 769, 2306, 658, 1633, 1610]\n",
      "Creating the symbolic link of the video\n",
      "New video was added to the project! Use the function 'extract_frames' to select frames for labeling.\n",
      "The outlier frames are extracted. They are stored in the subdirectory labeled-data\\2010.11.12_15_28_47.\n",
      "Once you extracted frames for all videos, use 'refine_labels' to manually correct the labels.\n"
     ]
    },
    {
     "name": "stderr",
     "output_type": "stream",
     "text": [
      "27it [00:00, 262.52it/s]"
     ]
    },
    {
     "name": "stdout",
     "output_type": "stream",
     "text": [
      "Method  uncertain  found  5389  putative outlier frames.\n",
      "Do you want to proceed with extracting  100  of those?\n",
      "If this list is very large, perhaps consider changing the paramters (start, stop, p_bound, comparisonbodyparts) or use a different method.\n",
      "Loading video...\n",
      "Duration of video [s]:  26.945 , recorded @  200.0 fps!\n",
      "Overall # of frames:  5389 with (cropped) frame dimensions: \n",
      "Kmeans-quantization based extracting of frames from 0.0  seconds to 26.95  seconds.\n",
      "Extracting and downsampling... 5388  frames from the video.\n"
     ]
    },
    {
     "name": "stderr",
     "output_type": "stream",
     "text": [
      "5388it [00:15, 350.06it/s]\n"
     ]
    },
    {
     "name": "stdout",
     "output_type": "stream",
     "text": [
      "Kmeans clustering ... (this might take a while)\n",
      "Let's select frames indices: [5155, 550, 42, 495, 1992, 5035, 1493, 1554, 1822, 5283, 1586, 455, 2532, 1131, 779, 1401, 2112, 1317, 651, 1476, 3437, 1694, 1288, 504, 1624, 749, 1380, 3619, 1246, 450, 2310, 569, 1512, 1415, 2191, 620, 250, 1027, 2635, 4691, 929, 1349, 2019, 1858, 1460, 1273, 885, 211, 1149, 5235, 1377, 1683, 1597, 879, 556, 398, 1893, 2207, 961, 1495, 1778, 4987, 5180, 1066, 731, 1940, 598, 3982, 2245, 1989, 1045, 2484, 3797, 351, 1584, 1235, 231, 1759, 2934, 644, 5326, 3689, 940, 2405, 477, 697, 809, 677, 2837, 170, 5352, 1538, 3846, 1100, 1627, 2056, 2031, 1828, 5114, 977]\n",
      "Creating the symbolic link of the video\n",
      "New video was added to the project! Use the function 'extract_frames' to select frames for labeling.\n",
      "The outlier frames are extracted. They are stored in the subdirectory labeled-data\\2010.11.12_15_29_27.\n",
      "Once you extracted frames for all videos, use 'refine_labels' to manually correct the labels.\n"
     ]
    },
    {
     "name": "stderr",
     "output_type": "stream",
     "text": [
      "\r",
      "0it [00:00, ?it/s]"
     ]
    },
    {
     "name": "stdout",
     "output_type": "stream",
     "text": [
      "Method  uncertain  found  5415  putative outlier frames.\n",
      "Do you want to proceed with extracting  100  of those?\n",
      "If this list is very large, perhaps consider changing the paramters (start, stop, p_bound, comparisonbodyparts) or use a different method.\n",
      "Loading video...\n",
      "Duration of video [s]:  27.075 , recorded @  200.0 fps!\n",
      "Overall # of frames:  5415 with (cropped) frame dimensions: \n",
      "Kmeans-quantization based extracting of frames from 0.0  seconds to 27.07  seconds.\n",
      "Extracting and downsampling... 5414  frames from the video.\n"
     ]
    },
    {
     "name": "stderr",
     "output_type": "stream",
     "text": [
      "5414it [00:15, 350.66it/s]\n"
     ]
    },
    {
     "name": "stdout",
     "output_type": "stream",
     "text": [
      "Kmeans clustering ... (this might take a while)\n",
      "Let's select frames indices: [3208, 3905, 660, 1129, 5044, 2484, 1665, 1960, 4164, 2213, 2393, 516, 956, 1378, 3301, 2582, 97, 850, 994, 1646, 3490, 714, 290, 1224, 829, 423, 2159, 645, 3702, 1163, 4816, 1498, 1250, 2292, 210, 2126, 905, 697, 3157, 937, 1526, 2988, 2889, 1299, 815, 1889, 326, 340, 1769, 737, 5365, 609, 1466, 266, 3614, 1849, 1203, 1611, 3749, 777, 1113, 4474, 445, 3984, 1742, 1489, 965, 1510, 1102, 2091, 1291, 1338, 3028, 744, 908, 1707, 2042, 841, 487, 323, 1364, 978, 727, 213, 1563, 563, 11, 620, 1218, 1881, 3087, 4960, 3780, 1993, 3132, 4615, 359, 3142, 2011, 3853]\n",
      "Creating the symbolic link of the video\n",
      "New video was added to the project! Use the function 'extract_frames' to select frames for labeling.\n",
      "The outlier frames are extracted. They are stored in the subdirectory labeled-data\\2010.11.12_15_30_40.\n",
      "Once you extracted frames for all videos, use 'refine_labels' to manually correct the labels.\n"
     ]
    },
    {
     "name": "stderr",
     "output_type": "stream",
     "text": [
      "\r",
      "0it [00:00, ?it/s]"
     ]
    },
    {
     "name": "stdout",
     "output_type": "stream",
     "text": [
      "Method  uncertain  found  5434  putative outlier frames.\n",
      "Do you want to proceed with extracting  100  of those?\n",
      "If this list is very large, perhaps consider changing the paramters (start, stop, p_bound, comparisonbodyparts) or use a different method.\n",
      "Loading video...\n",
      "Duration of video [s]:  27.205 , recorded @  200.0 fps!\n",
      "Overall # of frames:  5441 with (cropped) frame dimensions: \n",
      "Kmeans-quantization based extracting of frames from 0.0  seconds to 27.2  seconds.\n",
      "Extracting and downsampling... 5433  frames from the video.\n"
     ]
    },
    {
     "name": "stderr",
     "output_type": "stream",
     "text": [
      "5433it [02:16, 39.82it/s]\n"
     ]
    },
    {
     "name": "stdout",
     "output_type": "stream",
     "text": [
      "Kmeans clustering ... (this might take a while)\n",
      "Let's select frames indices: [3434, 4585, 1063, 2434, 710, 1954, 4017, 2188, 97, 1191, 767, 855, 2123, 1487, 2933, 449, 385, 1843, 1909, 4242, 3835, 1461, 696, 1360, 1126, 814, 756, 1861, 1564, 1156, 1782, 3744, 2148, 4641, 5072, 846, 1018, 2003, 1922, 4573, 1660, 330, 647, 900, 751, 3045, 1287, 1180, 2012, 1591, 4837, 1457, 1136, 2330, 2526, 1633, 4485, 2372, 1335, 1640, 234, 1747, 2352, 2131, 4152, 3116, 3598, 2990, 1704, 222, 3304, 515, 571, 4122, 1512, 2279, 1437, 1895, 2233, 927, 3951, 3557, 1101, 3191, 1754, 629, 831, 1505, 1558, 1217, 588, 720, 1731, 5133, 5244, 1409, 1972, 2085, 2024, 4142]\n",
      "Creating the symbolic link of the video\n",
      "New video was added to the project! Use the function 'extract_frames' to select frames for labeling.\n",
      "The outlier frames are extracted. They are stored in the subdirectory labeled-data\\2010.11.12_15_31_19.\n",
      "Once you extracted frames for all videos, use 'refine_labels' to manually correct the labels.\n"
     ]
    },
    {
     "name": "stderr",
     "output_type": "stream",
     "text": [
      "\r",
      "0it [00:00, ?it/s]"
     ]
    },
    {
     "name": "stdout",
     "output_type": "stream",
     "text": [
      "Method  uncertain  found  5389  putative outlier frames.\n",
      "Do you want to proceed with extracting  100  of those?\n",
      "If this list is very large, perhaps consider changing the paramters (start, stop, p_bound, comparisonbodyparts) or use a different method.\n",
      "Loading video...\n",
      "Duration of video [s]:  26.97 , recorded @  200.0 fps!\n",
      "Overall # of frames:  5394 with (cropped) frame dimensions: \n",
      "Kmeans-quantization based extracting of frames from 0.0  seconds to 26.97  seconds.\n",
      "Extracting and downsampling... 5388  frames from the video.\n"
     ]
    },
    {
     "name": "stderr",
     "output_type": "stream",
     "text": [
      "5388it [02:16, 39.55it/s]\n"
     ]
    },
    {
     "name": "stdout",
     "output_type": "stream",
     "text": [
      "Kmeans clustering ... (this might take a while)\n",
      "Let's select frames indices: [2686, 264, 4772, 1328, 1734, 820, 1120, 3027, 894, 1488, 200, 5248, 4291, 345, 48, 1925, 988, 134, 3156, 964, 2147, 79, 650, 1799, 253, 1861, 5318, 1496, 3538, 591, 2817, 2502, 2191, 2108, 663, 3350, 5042, 1076, 3216, 829, 94, 2233, 2239, 1980, 1594, 3340, 1606, 934, 2929, 196, 2026, 940, 808, 312, 2251, 369, 447, 4544, 701, 1285, 3182, 1542, 1707, 2413, 3697, 1678, 5005, 3143, 3362, 5103, 5197, 2053, 1159, 615, 1834, 1423, 1992, 3961, 2520, 462, 2851, 1059, 4989, 291, 2460, 1381, 600, 1203, 547, 4481, 3881, 1961, 7, 1746, 5307, 5280, 146, 5374, 5184, 435]\n",
      "Creating the symbolic link of the video\n",
      "New video was added to the project! Use the function 'extract_frames' to select frames for labeling.\n",
      "The outlier frames are extracted. They are stored in the subdirectory labeled-data\\2010.11.12_15_32_59.\n",
      "Once you extracted frames for all videos, use 'refine_labels' to manually correct the labels.\n"
     ]
    },
    {
     "name": "stderr",
     "output_type": "stream",
     "text": [
      "\r",
      "0it [00:00, ?it/s]"
     ]
    },
    {
     "name": "stdout",
     "output_type": "stream",
     "text": [
      "Method  uncertain  found  5404  putative outlier frames.\n",
      "Do you want to proceed with extracting  100  of those?\n",
      "If this list is very large, perhaps consider changing the paramters (start, stop, p_bound, comparisonbodyparts) or use a different method.\n",
      "Loading video...\n",
      "Duration of video [s]:  27.025 , recorded @  200.0 fps!\n",
      "Overall # of frames:  5405 with (cropped) frame dimensions: \n",
      "Kmeans-quantization based extracting of frames from 0.0  seconds to 27.02  seconds.\n",
      "Extracting and downsampling... 5403  frames from the video.\n"
     ]
    },
    {
     "name": "stderr",
     "output_type": "stream",
     "text": [
      "5403it [02:12, 40.69it/s]\n"
     ]
    },
    {
     "name": "stdout",
     "output_type": "stream",
     "text": [
      "Kmeans clustering ... (this might take a while)\n",
      "Let's select frames indices: [1882, 3675, 107, 996, 1554, 3900, 5376, 2328, 1941, 414, 1123, 249, 1376, 565, 1694, 2540, 4446, 376, 4809, 1798, 1530, 1405, 941, 1644, 979, 513, 2901, 717, 4075, 623, 2035, 1259, 683, 1421, 1030, 1066, 271, 1197, 1612, 4908, 4370, 2444, 1620, 881, 1226, 1362, 2687, 2267, 1774, 841, 749, 1233, 15, 762, 568, 2886, 2069, 3024, 897, 1431, 4518, 231, 1020, 5094, 3525, 4619, 4256, 464, 1045, 217, 1086, 755, 1316, 1286, 1467, 595, 453, 2800, 2830, 3213, 933, 1243, 4426, 54, 486, 2117, 536, 796, 1215, 3537, 1382, 4831, 866, 1680, 2491, 633, 5174, 2250, 5055, 1585]\n",
      "Creating the symbolic link of the video\n",
      "New video was added to the project! Use the function 'extract_frames' to select frames for labeling.\n",
      "The outlier frames are extracted. They are stored in the subdirectory labeled-data\\2010.11.12_15_33_52.\n",
      "Once you extracted frames for all videos, use 'refine_labels' to manually correct the labels.\n"
     ]
    },
    {
     "name": "stderr",
     "output_type": "stream",
     "text": [
      "\r",
      "0it [00:00, ?it/s]"
     ]
    },
    {
     "name": "stdout",
     "output_type": "stream",
     "text": [
      "Method  uncertain  found  5458  putative outlier frames.\n",
      "Do you want to proceed with extracting  100  of those?\n",
      "If this list is very large, perhaps consider changing the paramters (start, stop, p_bound, comparisonbodyparts) or use a different method.\n",
      "Loading video...\n",
      "Duration of video [s]:  27.29 , recorded @  200.0 fps!\n",
      "Overall # of frames:  5458 with (cropped) frame dimensions: \n",
      "Kmeans-quantization based extracting of frames from 0.0  seconds to 27.29  seconds.\n",
      "Extracting and downsampling... 5457  frames from the video.\n"
     ]
    },
    {
     "name": "stderr",
     "output_type": "stream",
     "text": [
      "5457it [00:15, 357.55it/s]\n"
     ]
    },
    {
     "name": "stdout",
     "output_type": "stream",
     "text": [
      "Kmeans clustering ... (this might take a while)\n",
      "Let's select frames indices: [5438, 652, 3249, 1614, 2904, 230, 1221, 896, 2507, 1996, 978, 1397, 138, 4845, 777, 1441, 425, 3482, 846, 3813, 1777, 974, 603, 323, 755, 2681, 4048, 5236, 1328, 1099, 2122, 534, 4682, 4709, 1381, 1291, 720, 1039, 4331, 998, 589, 1656, 3415, 937, 731, 508, 1821, 465, 809, 1175, 1323, 440, 712, 4927, 854, 918, 872, 2377, 675, 2586, 2413, 2933, 624, 2161, 461, 1279, 1885, 776, 332, 4801, 3629, 1053, 277, 4167, 4405, 1238, 1358, 2200, 4961, 1097, 4864, 1934, 4300, 3870, 5098, 1555, 1524, 2434, 2097, 3767, 4227, 1597, 1798, 1709, 3957, 3049, 2557, 2491, 1258]\n",
      "Creating the symbolic link of the video\n",
      "New video was added to the project! Use the function 'extract_frames' to select frames for labeling.\n",
      "The outlier frames are extracted. They are stored in the subdirectory labeled-data\\2010.11.12_15_34_27.\n",
      "Once you extracted frames for all videos, use 'refine_labels' to manually correct the labels.\n"
     ]
    },
    {
     "name": "stderr",
     "output_type": "stream",
     "text": [
      "\r",
      "0it [00:00, ?it/s]"
     ]
    },
    {
     "name": "stdout",
     "output_type": "stream",
     "text": [
      "Method  uncertain  found  5392  putative outlier frames.\n",
      "Do you want to proceed with extracting  100  of those?\n",
      "If this list is very large, perhaps consider changing the paramters (start, stop, p_bound, comparisonbodyparts) or use a different method.\n",
      "Loading video...\n",
      "Duration of video [s]:  26.96 , recorded @  200.0 fps!\n",
      "Overall # of frames:  5392 with (cropped) frame dimensions: \n",
      "Kmeans-quantization based extracting of frames from 0.0  seconds to 26.96  seconds.\n",
      "Extracting and downsampling... 5391  frames from the video.\n"
     ]
    },
    {
     "name": "stderr",
     "output_type": "stream",
     "text": [
      "5391it [00:15, 352.31it/s]\n"
     ]
    },
    {
     "name": "stdout",
     "output_type": "stream",
     "text": [
      "Kmeans clustering ... (this might take a while)\n",
      "Let's select frames indices: [1663, 3789, 5017, 646, 2510, 1145, 6, 1093, 583, 1569, 1395, 3542, 3046, 536, 2239, 1012, 1343, 839, 549, 4438, 4191, 4107, 1784, 265, 1491, 1879, 3671, 774, 4159, 3077, 1713, 2858, 282, 1308, 2343, 1510, 1356, 3329, 1559, 352, 485, 391, 2264, 765, 4044, 1583, 3374, 659, 923, 609, 1037, 1638, 539, 1974, 2800, 435, 3616, 243, 400, 3943, 235, 1367, 1415, 1956, 3517, 724, 335, 1265, 588, 773, 4858, 830, 1217, 295, 1625, 1336, 1798, 211, 752, 1426, 1729, 1607, 4392, 934, 2393, 1190, 5161, 472, 3576, 2674, 4094, 1830, 4593, 960, 4322, 271, 2447, 1930, 858, 1806]\n",
      "Creating the symbolic link of the video\n",
      "New video was added to the project! Use the function 'extract_frames' to select frames for labeling.\n",
      "The outlier frames are extracted. They are stored in the subdirectory labeled-data\\2010.11.12_15_35_06.\n",
      "Once you extracted frames for all videos, use 'refine_labels' to manually correct the labels.\n"
     ]
    },
    {
     "name": "stderr",
     "output_type": "stream",
     "text": [
      "\r",
      "0it [00:00, ?it/s]"
     ]
    },
    {
     "name": "stdout",
     "output_type": "stream",
     "text": [
      "Method  uncertain  found  5387  putative outlier frames.\n",
      "Do you want to proceed with extracting  100  of those?\n",
      "If this list is very large, perhaps consider changing the paramters (start, stop, p_bound, comparisonbodyparts) or use a different method.\n",
      "Loading video...\n",
      "Duration of video [s]:  26.955 , recorded @  200.0 fps!\n",
      "Overall # of frames:  5391 with (cropped) frame dimensions: \n",
      "Kmeans-quantization based extracting of frames from 0.0  seconds to 26.95  seconds.\n",
      "Extracting and downsampling... 5386  frames from the video.\n"
     ]
    },
    {
     "name": "stderr",
     "output_type": "stream",
     "text": [
      "5386it [02:14, 39.90it/s]\n"
     ]
    },
    {
     "name": "stdout",
     "output_type": "stream",
     "text": [
      "Kmeans clustering ... (this might take a while)\n",
      "Let's select frames indices: [2740, 1582, 4148, 2301, 40, 4483, 1074, 1961, 364, 1204, 732, 420, 1828, 292, 2903, 1319, 3681, 504, 1425, 1458, 601, 2064, 1064, 2616, 702, 3241, 677, 256, 1525, 3782, 4737, 3371, 2532, 2473, 1214, 913, 5378, 959, 739, 1438, 948, 1349, 1238, 2685, 233, 969, 2123, 1177, 336, 855, 710, 452, 1703, 496, 1326, 306, 1253, 5216, 1475, 795, 3073, 1568, 1674, 1392, 1732, 1374, 2720, 2782, 643, 4587, 1434, 534, 554, 4098, 5339, 1416, 399, 1851, 147, 2859, 1885, 3254, 3546, 433, 4215, 1125, 2654, 3849, 1228, 3474, 320, 2597, 2215, 980, 2005, 640, 3276, 1068, 371, 5138]\n",
      "Creating the symbolic link of the video\n",
      "New video was added to the project! Use the function 'extract_frames' to select frames for labeling.\n",
      "The outlier frames are extracted. They are stored in the subdirectory labeled-data\\2010.11.12_15_36_25.\n",
      "Once you extracted frames for all videos, use 'refine_labels' to manually correct the labels.\n"
     ]
    },
    {
     "name": "stderr",
     "output_type": "stream",
     "text": [
      "\r",
      "0it [00:00, ?it/s]"
     ]
    },
    {
     "name": "stdout",
     "output_type": "stream",
     "text": [
      "Method  uncertain  found  5394  putative outlier frames.\n",
      "Do you want to proceed with extracting  100  of those?\n",
      "If this list is very large, perhaps consider changing the paramters (start, stop, p_bound, comparisonbodyparts) or use a different method.\n",
      "Loading video...\n",
      "Duration of video [s]:  26.975 , recorded @  200.0 fps!\n",
      "Overall # of frames:  5395 with (cropped) frame dimensions: \n",
      "Kmeans-quantization based extracting of frames from 0.0  seconds to 26.98  seconds.\n",
      "Extracting and downsampling... 5393  frames from the video.\n"
     ]
    },
    {
     "name": "stderr",
     "output_type": "stream",
     "text": [
      "5393it [02:13, 40.35it/s]\n"
     ]
    },
    {
     "name": "stdout",
     "output_type": "stream",
     "text": [
      "Kmeans clustering ... (this might take a while)\n",
      "Let's select frames indices: [2172, 3291, 232, 2217, 1180, 1595, 38, 3771, 2848, 5073, 1128, 3897, 811, 772, 1013, 682, 1285, 1191, 1904, 2395, 534, 4749, 725, 227, 2482, 4109, 395, 212, 1256, 1001, 1908, 1436, 1358, 1161, 927, 1472, 979, 2936, 1788, 2282, 1773, 475, 581, 836, 946, 84, 5177, 320, 1386, 1264, 293, 1227, 2247, 3887, 3181, 4866, 1976, 711, 2728, 2135, 425, 3580, 1801, 2441, 869, 330, 1727, 741, 4447, 296, 2563, 1177, 2178, 1046, 4278, 553, 4372, 789, 826, 2104, 3211, 2393, 704, 2068, 198, 2117, 4505, 1117, 2267, 2985, 1714, 1375, 2323, 3329, 345, 2158, 5307, 3651, 902, 1584]\n",
      "Creating the symbolic link of the video\n",
      "New video was added to the project! Use the function 'extract_frames' to select frames for labeling.\n",
      "The outlier frames are extracted. They are stored in the subdirectory labeled-data\\2010.11.12_15_37_04.\n",
      "Once you extracted frames for all videos, use 'refine_labels' to manually correct the labels.\n"
     ]
    },
    {
     "name": "stderr",
     "output_type": "stream",
     "text": [
      "\r",
      "0it [00:00, ?it/s]"
     ]
    },
    {
     "name": "stdout",
     "output_type": "stream",
     "text": [
      "Method  uncertain  found  433  putative outlier frames.\n",
      "Do you want to proceed with extracting  100  of those?\n",
      "If this list is very large, perhaps consider changing the paramters (start, stop, p_bound, comparisonbodyparts) or use a different method.\n",
      "Loading video...\n",
      "Duration of video [s]:  26.995 , recorded @  200.0 fps!\n",
      "Overall # of frames:  5399 with (cropped) frame dimensions: \n",
      "Kmeans-quantization based extracting of frames from 0.0  seconds to 27.0  seconds.\n",
      "Extracting and downsampling... 433  frames from the video.\n"
     ]
    },
    {
     "name": "stderr",
     "output_type": "stream",
     "text": [
      "433it [00:12, 33.57it/s]\n"
     ]
    },
    {
     "name": "stdout",
     "output_type": "stream",
     "text": [
      "Kmeans clustering ... (this might take a while)\n",
      "Let's select frames indices: [3991, 3774, 3000, 1214, 2739, 3725, 3939, 3113, 3966, 2909, 3101, 1074, 4123, 157, 3012, 182, 3242, 718, 3895, 148, 3452, 347, 3926, 3093, 4025, 1224, 3104, 3788, 3794, 4152, 2882, 3769, 2777, 510, 1194, 2917, 2907, 822, 3987, 4015, 3464, 3661, 3919, 2796, 3107, 1078, 4051, 3817, 138, 3120, 2994, 2736, 3941, 832, 3733, 1237, 3932, 1203, 4001, 3975, 3014, 4171, 135, 2899, 3007, 3442, 3780, 3110, 3910, 1140, 3019, 3457, 1278, 3116, 3903, 3839, 3100, 1219, 4030, 2915, 3990, 1190, 3717, 3922, 1075, 2744, 1233, 3934, 3996, 3004, 3979, 151, 184, 2999, 2953, 1207, 3105, 3111, 139, 3731]\n",
      "Creating the symbolic link of the video\n",
      "New video was added to the project! Use the function 'extract_frames' to select frames for labeling.\n",
      "The outlier frames are extracted. They are stored in the subdirectory labeled-data\\2010.11.12_10_36_38.\n",
      "Once you extracted frames for all videos, use 'refine_labels' to manually correct the labels.\n"
     ]
    },
    {
     "name": "stderr",
     "output_type": "stream",
     "text": [
      "\r",
      "0it [00:00, ?it/s]"
     ]
    },
    {
     "name": "stdout",
     "output_type": "stream",
     "text": [
      "Method  uncertain  found  745  putative outlier frames.\n",
      "Do you want to proceed with extracting  100  of those?\n",
      "If this list is very large, perhaps consider changing the paramters (start, stop, p_bound, comparisonbodyparts) or use a different method.\n",
      "Loading video...\n",
      "Duration of video [s]:  26.975 , recorded @  200.0 fps!\n",
      "Overall # of frames:  5395 with (cropped) frame dimensions: \n",
      "Kmeans-quantization based extracting of frames from 0.0  seconds to 26.98  seconds.\n",
      "Extracting and downsampling... 745  frames from the video.\n"
     ]
    },
    {
     "name": "stderr",
     "output_type": "stream",
     "text": [
      "745it [00:21, 34.56it/s]\n"
     ]
    },
    {
     "name": "stdout",
     "output_type": "stream",
     "text": [
      "Kmeans clustering ... (this might take a while)\n",
      "Let's select frames indices: [2275, 972, 1712, 2313, 948, 683, 1053, 2363, 759, 2454, 810, 1467, 3240, 1015, 5215, 5255, 2209, 863, 2435, 3122, 1906, 835, 1478, 995, 2335, 939, 801, 2781, 1079, 659, 981, 704, 1037, 1797, 3102, 2494, 816, 856, 3137, 2796, 3006, 867, 5232, 2247, 909, 2323, 2450, 3077, 5143, 3020, 2850, 782, 2562, 2282, 1512, 697, 1068, 853, 2593, 2445, 5251, 1030, 1006, 1462, 964, 748, 1950, 2295, 2124, 5385, 2922, 3241, 2055, 2901, 828, 1023, 795, 5099, 947, 2329, 937, 789, 847, 2425, 840, 2213, 2502, 1043, 2468, 5352, 2742, 960, 1983, 2307, 766, 2524, 813, 1889, 2779, 1632]\n",
      "Creating the symbolic link of the video\n",
      "New video was added to the project! Use the function 'extract_frames' to select frames for labeling.\n",
      "The outlier frames are extracted. They are stored in the subdirectory labeled-data\\2010.11.12_10_45_55.\n",
      "Once you extracted frames for all videos, use 'refine_labels' to manually correct the labels.\n"
     ]
    },
    {
     "name": "stderr",
     "output_type": "stream",
     "text": [
      "\r",
      "0it [00:00, ?it/s]"
     ]
    },
    {
     "name": "stdout",
     "output_type": "stream",
     "text": [
      "Method  uncertain  found  413  putative outlier frames.\n",
      "Do you want to proceed with extracting  100  of those?\n",
      "If this list is very large, perhaps consider changing the paramters (start, stop, p_bound, comparisonbodyparts) or use a different method.\n",
      "Loading video...\n",
      "Duration of video [s]:  26.985 , recorded @  200.0 fps!\n",
      "Overall # of frames:  5397 with (cropped) frame dimensions: \n",
      "Kmeans-quantization based extracting of frames from 0.0  seconds to 26.98  seconds.\n",
      "Extracting and downsampling... 413  frames from the video.\n"
     ]
    },
    {
     "name": "stderr",
     "output_type": "stream",
     "text": [
      "413it [00:12, 33.24it/s]\n"
     ]
    },
    {
     "name": "stdout",
     "output_type": "stream",
     "text": [
      "Kmeans clustering ... (this might take a while)\n",
      "Let's select frames indices: [2780, 3462, 4004, 3043, 2726, 2183, 3625, 84, 2487, 2995, 1882, 171, 2071, 2794, 3326, 2002, 2787, 3982, 3071, 112, 2742, 2087, 2845, 3979, 2529, 1969, 3661, 2190, 2768, 2212, 2871, 1888, 2988, 4009, 2775, 3500, 3395, 2694, 2479, 3217, 386, 2799, 2171, 3169, 2055, 2624, 2685, 2177, 3035, 3642, 2632, 166, 3998, 3004, 1878, 3544, 3645, 2354, 2784, 2795, 1777, 3657, 3654, 2208, 2185, 3971, 4028, 101, 164, 2776, 71, 1881, 3030, 3644, 3997, 1965, 3990, 3988, 3649, 3631, 3045, 3985, 1892, 2782, 4010, 3419, 2480, 2689, 2990, 3519, 3989, 3635, 3659, 2734, 3643, 4026, 98, 1884, 2778, 2773]\n",
      "Creating the symbolic link of the video\n",
      "New video was added to the project! Use the function 'extract_frames' to select frames for labeling.\n",
      "The outlier frames are extracted. They are stored in the subdirectory labeled-data\\2010.11.12_10_56_15.\n",
      "Once you extracted frames for all videos, use 'refine_labels' to manually correct the labels.\n"
     ]
    },
    {
     "name": "stderr",
     "output_type": "stream",
     "text": [
      "\r",
      "0it [00:00, ?it/s]"
     ]
    },
    {
     "name": "stdout",
     "output_type": "stream",
     "text": [
      "Method  uncertain  found  464  putative outlier frames.\n",
      "Do you want to proceed with extracting  100  of those?\n",
      "If this list is very large, perhaps consider changing the paramters (start, stop, p_bound, comparisonbodyparts) or use a different method.\n",
      "Loading video...\n",
      "Duration of video [s]:  26.275 , recorded @  200.0 fps!\n",
      "Overall # of frames:  5255 with (cropped) frame dimensions: \n",
      "Kmeans-quantization based extracting of frames from 0.0  seconds to 26.27  seconds.\n",
      "Extracting and downsampling... 464  frames from the video.\n"
     ]
    },
    {
     "name": "stderr",
     "output_type": "stream",
     "text": [
      "464it [00:11, 39.68it/s]\n"
     ]
    },
    {
     "name": "stdout",
     "output_type": "stream",
     "text": [
      "Kmeans clustering ... (this might take a while)\n",
      "Let's select frames indices: [1384, 141, 738, 2828, 831, 919, 1046, 654, 321, 1080, 800, 214, 804, 122, 982, 188, 1001, 477, 749, 491, 1117, 462, 4049, 821, 295, 1328, 634, 1112, 474, 1041, 1099, 1322, 205, 702, 782, 344, 1390, 1068, 746, 785, 710, 755, 990, 967, 1023, 794, 770, 672, 756, 488, 715, 824, 995, 3106, 1392, 718, 1047, 1302, 640, 460, 931, 1122, 471, 1386, 711, 752, 482, 176, 751, 133, 1033, 1092, 516, 1161, 467, 1115, 1158, 337, 778, 692, 475, 826, 1383, 743, 790, 1298, 473, 636, 1377, 1010, 662, 1090, 2752, 665, 651, 761, 1050, 683, 1109]\n",
      "Creating the symbolic link of the video\n",
      "New video was added to the project! Use the function 'extract_frames' to select frames for labeling.\n",
      "The outlier frames are extracted. They are stored in the subdirectory labeled-data\\2005.01.02_00_20_32.\n",
      "Once you extracted frames for all videos, use 'refine_labels' to manually correct the labels.\n"
     ]
    },
    {
     "name": "stderr",
     "output_type": "stream",
     "text": [
      "\r",
      "0it [00:00, ?it/s]"
     ]
    },
    {
     "name": "stdout",
     "output_type": "stream",
     "text": [
      "Method  uncertain  found  491  putative outlier frames.\n",
      "Do you want to proceed with extracting  100  of those?\n",
      "If this list is very large, perhaps consider changing the paramters (start, stop, p_bound, comparisonbodyparts) or use a different method.\n",
      "Loading video...\n",
      "Duration of video [s]:  27.155 , recorded @  200.0 fps!\n",
      "Overall # of frames:  5431 with (cropped) frame dimensions: \n",
      "Kmeans-quantization based extracting of frames from 0.0  seconds to 27.16  seconds.\n",
      "Extracting and downsampling... 491  frames from the video.\n"
     ]
    },
    {
     "name": "stderr",
     "output_type": "stream",
     "text": [
      "491it [00:13, 35.28it/s]\n"
     ]
    },
    {
     "name": "stdout",
     "output_type": "stream",
     "text": [
      "Kmeans clustering ... (this might take a while)\n",
      "Let's select frames indices: [3912, 387, 3995, 1748, 341, 1050, 4139, 4016, 3862, 908, 4103, 3930, 946, 5421, 3960, 4066, 1316, 4370, 344, 1713, 2446, 4932, 3907, 3895, 4082, 1962, 4039, 4007, 4003, 522, 1276, 4145, 3884, 3920, 1057, 4951, 1188, 414, 3896, 3954, 915, 748, 4089, 1757, 744, 939, 4021, 4093, 3936, 4098, 4122, 5284, 4045, 369, 4075, 3982, 3966, 401, 3867, 4002, 4742, 4013, 720, 3809, 3893, 3881, 1310, 5275, 927, 3988, 4903, 1195, 1728, 221, 4921, 373, 3947, 4146, 3940, 3926, 4587, 1039, 913, 4104, 721, 1706, 3970, 4043, 4006, 392, 898, 4085, 4100, 4055, 4128, 3915, 889, 3898, 4030, 4018]\n",
      "Creating the symbolic link of the video\n",
      "New video was added to the project! Use the function 'extract_frames' to select frames for labeling.\n",
      "The outlier frames are extracted. They are stored in the subdirectory labeled-data\\2005.01.01_20_10_08.\n",
      "Once you extracted frames for all videos, use 'refine_labels' to manually correct the labels.\n"
     ]
    },
    {
     "name": "stderr",
     "output_type": "stream",
     "text": [
      "\r",
      "0it [00:00, ?it/s]"
     ]
    },
    {
     "name": "stdout",
     "output_type": "stream",
     "text": [
      "Method  uncertain  found  512  putative outlier frames.\n",
      "Do you want to proceed with extracting  100  of those?\n",
      "If this list is very large, perhaps consider changing the paramters (start, stop, p_bound, comparisonbodyparts) or use a different method.\n",
      "Loading video...\n",
      "Duration of video [s]:  27.07 , recorded @  200.0 fps!\n",
      "Overall # of frames:  5414 with (cropped) frame dimensions: \n",
      "Kmeans-quantization based extracting of frames from 0.0  seconds to 27.07  seconds.\n",
      "Extracting and downsampling... 512  frames from the video.\n"
     ]
    },
    {
     "name": "stderr",
     "output_type": "stream",
     "text": [
      "512it [00:14, 35.73it/s]\n"
     ]
    },
    {
     "name": "stdout",
     "output_type": "stream",
     "text": [
      "Kmeans clustering ... (this might take a while)\n",
      "Let's select frames indices: [589, 995, 365, 712, 574, 560, 612, 2239, 1793, 642, 524, 1760, 1907, 672, 385, 1884, 322, 597, 2293, 475, 447, 2532, 559, 461, 691, 569, 342, 724, 1175, 1029, 579, 436, 1914, 377, 358, 587, 348, 452, 402, 686, 382, 1005, 335, 699, 1769, 619, 603, 2254, 2235, 403, 468, 737, 721, 1904, 917, 1167, 499, 627, 481, 992, 2535, 583, 339, 653, 487, 2367, 2364, 2525, 898, 325, 2607, 464, 315, 1031, 353, 478, 578, 549, 508, 1050, 679, 630, 1199, 1834, 1091, 1778, 553, 1557, 593, 498, 470, 572, 393, 519, 913, 988, 491, 994, 660, 708]\n",
      "Creating the symbolic link of the video\n",
      "New video was added to the project! Use the function 'extract_frames' to select frames for labeling.\n",
      "The outlier frames are extracted. They are stored in the subdirectory labeled-data\\2005.01.01_20_10_40.\n",
      "Once you extracted frames for all videos, use 'refine_labels' to manually correct the labels.\n"
     ]
    },
    {
     "name": "stderr",
     "output_type": "stream",
     "text": [
      "\r",
      "0it [00:00, ?it/s]"
     ]
    },
    {
     "name": "stdout",
     "output_type": "stream",
     "text": [
      "Method  uncertain  found  347  putative outlier frames.\n",
      "Do you want to proceed with extracting  100  of those?\n",
      "If this list is very large, perhaps consider changing the paramters (start, stop, p_bound, comparisonbodyparts) or use a different method.\n",
      "Loading video...\n",
      "Duration of video [s]:  26.915 , recorded @  200.0 fps!\n",
      "Overall # of frames:  5383 with (cropped) frame dimensions: \n",
      "Kmeans-quantization based extracting of frames from 0.0  seconds to 26.91  seconds.\n",
      "Extracting and downsampling... 347  frames from the video.\n"
     ]
    },
    {
     "name": "stderr",
     "output_type": "stream",
     "text": [
      "347it [00:09, 35.50it/s]\n"
     ]
    },
    {
     "name": "stdout",
     "output_type": "stream",
     "text": [
      "Kmeans clustering ... (this might take a while)\n",
      "Let's select frames indices: [9, 540, 352, 779, 1563, 576, 555, 1597, 52, 791, 337, 943, 656, 76, 934, 1118, 1828, 249, 1326, 302, 1035, 591, 767, 23, 1569, 331, 477, 1553, 254, 703, 345, 81, 1305, 784, 1825, 796, 318, 238, 535, 63, 293, 1399, 1115, 1604, 1199, 1, 579, 572, 308, 42, 762, 1591, 748, 1197, 334, 28, 480, 326, 251, 236, 349, 1600, 87, 667, 342, 593, 1223, 298, 346, 18, 351, 24, 252, 1559, 936, 525, 598, 239, 654, 659, 47, 12, 773, 340, 315, 1102, 55, 72, 1568, 1117, 1404, 90, 4, 781, 595, 568, 785, 37, 778, 1824]\n",
      "Creating the symbolic link of the video\n",
      "New video was added to the project! Use the function 'extract_frames' to select frames for labeling.\n",
      "The outlier frames are extracted. They are stored in the subdirectory labeled-data\\2005.01.01_20_12_15.\n",
      "Once you extracted frames for all videos, use 'refine_labels' to manually correct the labels.\n"
     ]
    },
    {
     "name": "stderr",
     "output_type": "stream",
     "text": [
      "\r",
      "0it [00:00, ?it/s]"
     ]
    },
    {
     "name": "stdout",
     "output_type": "stream",
     "text": [
      "Method  uncertain  found  1984  putative outlier frames.\n",
      "Do you want to proceed with extracting  100  of those?\n",
      "If this list is very large, perhaps consider changing the paramters (start, stop, p_bound, comparisonbodyparts) or use a different method.\n",
      "Loading video...\n",
      "Duration of video [s]:  27.0 , recorded @  200.0 fps!\n",
      "Overall # of frames:  5400 with (cropped) frame dimensions: \n",
      "Kmeans-quantization based extracting of frames from 0.0  seconds to 27.0  seconds.\n",
      "Extracting and downsampling... 1984  frames from the video.\n"
     ]
    },
    {
     "name": "stderr",
     "output_type": "stream",
     "text": [
      "1984it [00:53, 37.04it/s]\n"
     ]
    },
    {
     "name": "stdout",
     "output_type": "stream",
     "text": [
      "Kmeans clustering ... (this might take a while)\n",
      "Let's select frames indices: [4786, 4388, 4695, 2794, 4343, 2508, 4604, 4670, 5245, 4750, 2599, 4509, 4175, 4102, 5073, 2739, 4498, 5187, 5312, 2572, 2684, 4648, 4168, 4193, 2564, 3753, 4071, 2726, 3839, 4006, 4797, 3723, 2713, 5261, 3901, 5194, 5035, 3835, 3875, 4156, 3848, 2648, 3800, 3852, 3717, 4642, 3951, 2559, 3913, 4836, 3762, 4400, 5270, 146, 5340, 4985, 2619, 4053, 3815, 4081, 4000, 5280, 2545, 4089, 4761, 4354, 4746, 4140, 4217, 4940, 4066, 4760, 4647, 2748, 2670, 4808, 4815, 3858, 4968, 2623, 2652, 4917, 4725, 3982, 2792, 3882, 4307, 3866, 3879, 5008, 4953, 4427, 4474, 4516, 2768, 2526, 4591, 4869, 2640, 5393]\n",
      "Creating the symbolic link of the video\n",
      "New video was added to the project! Use the function 'extract_frames' to select frames for labeling.\n",
      "The outlier frames are extracted. They are stored in the subdirectory labeled-data\\2005.01.01_20_12_48.\n",
      "Once you extracted frames for all videos, use 'refine_labels' to manually correct the labels.\n"
     ]
    },
    {
     "name": "stderr",
     "output_type": "stream",
     "text": [
      "\r",
      "0it [00:00, ?it/s]"
     ]
    },
    {
     "name": "stdout",
     "output_type": "stream",
     "text": [
      "Method  uncertain  found  312  putative outlier frames.\n",
      "Do you want to proceed with extracting  100  of those?\n",
      "If this list is very large, perhaps consider changing the paramters (start, stop, p_bound, comparisonbodyparts) or use a different method.\n",
      "Loading video...\n",
      "Duration of video [s]:  26.97 , recorded @  200.0 fps!\n",
      "Overall # of frames:  5394 with (cropped) frame dimensions: \n",
      "Kmeans-quantization based extracting of frames from 0.0  seconds to 26.97  seconds.\n",
      "Extracting and downsampling... 312  frames from the video.\n"
     ]
    },
    {
     "name": "stderr",
     "output_type": "stream",
     "text": [
      "312it [00:09, 34.36it/s]\n"
     ]
    },
    {
     "name": "stdout",
     "output_type": "stream",
     "text": [
      "Kmeans clustering ... (this might take a while)\n",
      "Let's select frames indices: [532, 1027, 1589, 1160, 862, 1924, 2314, 2182, 1391, 1178, 1139, 1454, 1099, 2096, 873, 1566, 742, 1932, 153, 1477, 2197, 578, 2397, 298, 877, 1055, 1928, 2110, 1128, 573, 1144, 1605, 1635, 881, 1615, 856, 908, 2092, 1449, 552, 1753, 1600, 1174, 1401, 1757, 1585, 642, 1741, 2099, 1167, 1806, 1599, 2196, 582, 1108, 875, 397, 1388, 2310, 537, 528, 1581, 2199, 2187, 1625, 1097, 867, 304, 1176, 1408, 778, 296, 865, 544, 576, 1563, 1451, 1090, 1165, 1124, 1930, 1168, 1173, 1592, 1584, 302, 1110, 1152, 1164, 1181, 1149, 878, 1040, 2315, 1927, 1406, 2091, 1755, 869, 1925]\n",
      "Creating the symbolic link of the video\n",
      "New video was added to the project! Use the function 'extract_frames' to select frames for labeling.\n",
      "The outlier frames are extracted. They are stored in the subdirectory labeled-data\\2005.01.01_20_15_19.\n",
      "Once you extracted frames for all videos, use 'refine_labels' to manually correct the labels.\n"
     ]
    },
    {
     "name": "stderr",
     "output_type": "stream",
     "text": [
      "\r",
      "0it [00:00, ?it/s]"
     ]
    },
    {
     "name": "stdout",
     "output_type": "stream",
     "text": [
      "Method  uncertain  found  805  putative outlier frames.\n",
      "Do you want to proceed with extracting  100  of those?\n",
      "If this list is very large, perhaps consider changing the paramters (start, stop, p_bound, comparisonbodyparts) or use a different method.\n",
      "Loading video...\n",
      "Duration of video [s]:  26.44 , recorded @  200.0 fps!\n",
      "Overall # of frames:  5288 with (cropped) frame dimensions: \n",
      "Kmeans-quantization based extracting of frames from 0.0  seconds to 26.44  seconds.\n",
      "Extracting and downsampling... 805  frames from the video.\n"
     ]
    },
    {
     "name": "stderr",
     "output_type": "stream",
     "text": [
      "805it [00:19, 41.03it/s]\n"
     ]
    },
    {
     "name": "stdout",
     "output_type": "stream",
     "text": [
      "Kmeans clustering ... (this might take a while)\n",
      "Let's select frames indices: [3174, 1563, 5208, 3670, 4275, 875, 1497, 3628, 1785, 554, 4225, 664, 5247, 3477, 904, 458, 1035, 3664, 3177, 2864, 1520, 1224, 5155, 5074, 1530, 4232, 3743, 4190, 1858, 4315, 4588, 5109, 3522, 367, 573, 1091, 1794, 1816, 771, 3783, 5281, 1779, 923, 536, 5273, 1171, 3165, 309, 2861, 4291, 5177, 5114, 991, 4257, 5143, 2836, 601, 1206, 2857, 1229, 880, 1555, 5269, 333, 5259, 932, 4196, 4519, 5123, 3644, 505, 497, 5084, 676, 346, 1552, 938, 2879, 537, 5245, 5029, 1482, 360, 848, 4340, 694, 5284, 603, 3487, 1533, 4513, 5194, 5173, 4203, 5239, 3656, 783, 1180, 5220, 3636]\n",
      "Creating the symbolic link of the video\n",
      "New video was added to the project! Use the function 'extract_frames' to select frames for labeling.\n",
      "The outlier frames are extracted. They are stored in the subdirectory labeled-data\\2005.01.01_21_12_28.\n",
      "Once you extracted frames for all videos, use 'refine_labels' to manually correct the labels.\n"
     ]
    },
    {
     "name": "stderr",
     "output_type": "stream",
     "text": [
      "\r",
      "0it [00:00, ?it/s]"
     ]
    },
    {
     "name": "stdout",
     "output_type": "stream",
     "text": [
      "Method  uncertain  found  1029  putative outlier frames.\n",
      "Do you want to proceed with extracting  100  of those?\n",
      "If this list is very large, perhaps consider changing the paramters (start, stop, p_bound, comparisonbodyparts) or use a different method.\n",
      "Loading video...\n",
      "Duration of video [s]:  26.46 , recorded @  200.0 fps!\n",
      "Overall # of frames:  5292 with (cropped) frame dimensions: \n",
      "Kmeans-quantization based extracting of frames from 0.0  seconds to 26.46  seconds.\n",
      "Extracting and downsampling... 1029  frames from the video.\n"
     ]
    },
    {
     "name": "stderr",
     "output_type": "stream",
     "text": [
      "1029it [00:24, 42.20it/s]\n"
     ]
    },
    {
     "name": "stdout",
     "output_type": "stream",
     "text": [
      "Kmeans clustering ... (this might take a while)\n",
      "Let's select frames indices: [998, 3986, 1495, 3739, 3903, 3672, 4146, 2835, 3595, 3847, 3216, 5171, 1881, 4237, 1619, 3025, 2964, 1723, 969, 1023, 1598, 3541, 2896, 3633, 4461, 4242, 2625, 1168, 3678, 1774, 3925, 1034, 1172, 1594, 4031, 1242, 1634, 1704, 1070, 4311, 1487, 2817, 2906, 3803, 3640, 1606, 4100, 3694, 3627, 3665, 3427, 3068, 3958, 4760, 3654, 3892, 1626, 985, 4163, 3464, 3697, 4522, 2373, 2877, 2786, 3544, 3756, 3770, 1767, 961, 2984, 4506, 3681, 3383, 4053, 2829, 5185, 1085, 2967, 1062, 1459, 4397, 4193, 3817, 2899, 3625, 1589, 1616, 3870, 3557, 2928, 1007, 3597, 2890, 3709, 1499, 3941, 1030, 4039, 1699]\n",
      "Creating the symbolic link of the video\n",
      "New video was added to the project! Use the function 'extract_frames' to select frames for labeling.\n",
      "The outlier frames are extracted. They are stored in the subdirectory labeled-data\\2005.01.01_21_16_48.\n",
      "Once you extracted frames for all videos, use 'refine_labels' to manually correct the labels.\n"
     ]
    },
    {
     "name": "stderr",
     "output_type": "stream",
     "text": [
      "2it [00:00, 17.97it/s]"
     ]
    },
    {
     "name": "stdout",
     "output_type": "stream",
     "text": [
      "Method  uncertain  found  289  putative outlier frames.\n",
      "Do you want to proceed with extracting  100  of those?\n",
      "If this list is very large, perhaps consider changing the paramters (start, stop, p_bound, comparisonbodyparts) or use a different method.\n",
      "Loading video...\n",
      "Duration of video [s]:  26.46 , recorded @  200.0 fps!\n",
      "Overall # of frames:  5292 with (cropped) frame dimensions: \n",
      "Kmeans-quantization based extracting of frames from 0.0  seconds to 26.46  seconds.\n",
      "Extracting and downsampling... 289  frames from the video.\n"
     ]
    },
    {
     "name": "stderr",
     "output_type": "stream",
     "text": [
      "289it [00:07, 38.22it/s]\n"
     ]
    },
    {
     "name": "stdout",
     "output_type": "stream",
     "text": [
      "Kmeans clustering ... (this might take a while)\n",
      "Let's select frames indices: [1010, 5208, 1473, 3656, 4942, 753, 1152, 3118, 1993, 5241, 1295, 333, 1270, 1144, 5191, 5094, 1127, 623, 597, 992, 4603, 1498, 1679, 1032, 1415, 1492, 459, 1964, 5233, 1134, 1052, 1280, 4981, 2301, 1672, 5158, 1991, 1454, 5245, 1511, 577, 1308, 868, 1122, 1482, 1979, 828, 1269, 1018, 3755, 1133, 5154, 1119, 1504, 1047, 1462, 457, 4936, 1106, 1493, 5210, 1390, 1281, 5186, 1135, 1139, 1337, 1149, 1474, 1485, 630, 1129, 5199, 774, 4950, 5215, 1020, 1036, 1138, 1463, 1013, 1497, 4979, 5194, 729, 966, 595, 1147, 1130, 5232, 1294, 1155, 5089, 1675, 337, 5224, 1132, 4946, 1131, 1141]\n",
      "Creating the symbolic link of the video\n",
      "New video was added to the project! Use the function 'extract_frames' to select frames for labeling.\n",
      "The outlier frames are extracted. They are stored in the subdirectory labeled-data\\2005.01.01_21_17_29.\n",
      "Once you extracted frames for all videos, use 'refine_labels' to manually correct the labels.\n"
     ]
    },
    {
     "name": "stderr",
     "output_type": "stream",
     "text": [
      "\r",
      "0it [00:00, ?it/s]"
     ]
    },
    {
     "name": "stdout",
     "output_type": "stream",
     "text": [
      "Method  uncertain  found  371  putative outlier frames.\n",
      "Do you want to proceed with extracting  100  of those?\n",
      "If this list is very large, perhaps consider changing the paramters (start, stop, p_bound, comparisonbodyparts) or use a different method.\n",
      "Loading video...\n",
      "Duration of video [s]:  26.44 , recorded @  200.0 fps!\n",
      "Overall # of frames:  5288 with (cropped) frame dimensions: \n",
      "Kmeans-quantization based extracting of frames from 0.0  seconds to 26.44  seconds.\n",
      "Extracting and downsampling... 371  frames from the video.\n"
     ]
    },
    {
     "name": "stderr",
     "output_type": "stream",
     "text": [
      "371it [00:09, 39.36it/s]\n"
     ]
    },
    {
     "name": "stdout",
     "output_type": "stream",
     "text": [
      "Kmeans clustering ... (this might take a while)\n",
      "Let's select frames indices: [5229, 5028, 5054, 3669, 5246, 1830, 989, 3359, 460, 564, 1583, 5197, 5124, 5114, 3662, 2599, 2615, 613, 2272, 2403, 1876, 5131, 5282, 2797, 996, 5215, 1118, 5046, 5071, 609, 5052, 2982, 5010, 454, 581, 5136, 2800, 2470, 2913, 3163, 1839, 5187, 2218, 5122, 606, 1662, 3652, 5267, 990, 3391, 5059, 2577, 1084, 5236, 5043, 470, 1872, 5287, 5050, 2682, 5253, 5120, 5275, 2604, 5056, 480, 2565, 1571, 451, 5096, 5244, 1588, 5047, 3675, 992, 5202, 463, 3393, 5123, 5003, 457, 5075, 3663, 5128, 608, 3360, 5030, 5191, 1829, 2596, 5063, 455, 5021, 1835, 5101, 3655, 571, 5044, 5061, 596]\n",
      "Creating the symbolic link of the video\n",
      "New video was added to the project! Use the function 'extract_frames' to select frames for labeling.\n",
      "The outlier frames are extracted. They are stored in the subdirectory labeled-data\\2005.01.01_21_21_12.\n",
      "Once you extracted frames for all videos, use 'refine_labels' to manually correct the labels.\n",
      "Method  uncertain  found  215  putative outlier frames.\n",
      "Do you want to proceed with extracting  100  of those?\n",
      "If this list is very large, perhaps consider changing the paramters (start, stop, p_bound, comparisonbodyparts) or use a different method.\n",
      "Loading video...\n"
     ]
    },
    {
     "name": "stderr",
     "output_type": "stream",
     "text": [
      "1it [00:00,  8.93it/s]"
     ]
    },
    {
     "name": "stdout",
     "output_type": "stream",
     "text": [
      "Duration of video [s]:  26.43 , recorded @  200.0 fps!\n",
      "Overall # of frames:  5286 with (cropped) frame dimensions: \n",
      "Kmeans-quantization based extracting of frames from 0.0  seconds to 26.43  seconds.\n",
      "Extracting and downsampling... 215  frames from the video.\n"
     ]
    },
    {
     "name": "stderr",
     "output_type": "stream",
     "text": [
      "215it [00:06, 34.60it/s]\n"
     ]
    },
    {
     "name": "stdout",
     "output_type": "stream",
     "text": [
      "Kmeans clustering ... (this might take a while)\n",
      "Let's select frames indices: [959, 3972, 741, 3143, 4263, 1467, 622, 3284, 1033, 2159, 3602, 976, 942, 992, 2280, 3389, 2550, 3135, 616, 737, 385, 4037, 3878, 2615, 2990, 1893, 746, 629, 3963, 706, 3147, 447, 937, 4267, 1773, 4049, 984, 759, 634, 973, 712, 1024, 3132, 4259, 2617, 2115, 703, 967, 2621, 1028, 990, 725, 4237, 3882, 3146, 3136, 613, 3595, 949, 691, 2614, 632, 3120, 3975, 3279, 998, 718, 1007, 618, 734, 4266, 753, 931, 635, 3954, 630, 2616, 972, 971, 619, 979, 1025, 1031, 3129, 1026, 1022, 974, 3144, 1035, 957, 981, 941, 3134, 3603, 944, 615, 719, 4262, 743]\n",
      "Creating the symbolic link of the video\n",
      "New video was added to the project! Use the function 'extract_frames' to select frames for labeling.\n",
      "The outlier frames are extracted. They are stored in the subdirectory labeled-data\\2005.01.01_21_23_02.\n",
      "Once you extracted frames for all videos, use 'refine_labels' to manually correct the labels.\n"
     ]
    },
    {
     "name": "stderr",
     "output_type": "stream",
     "text": [
      "\r",
      "0it [00:00, ?it/s]"
     ]
    },
    {
     "name": "stdout",
     "output_type": "stream",
     "text": [
      "Method  uncertain  found  278  putative outlier frames.\n",
      "Do you want to proceed with extracting  100  of those?\n",
      "If this list is very large, perhaps consider changing the paramters (start, stop, p_bound, comparisonbodyparts) or use a different method.\n",
      "Loading video...\n",
      "Duration of video [s]:  26.44 , recorded @  200.0 fps!\n",
      "Overall # of frames:  5288 with (cropped) frame dimensions: \n",
      "Kmeans-quantization based extracting of frames from 0.0  seconds to 26.44  seconds.\n",
      "Extracting and downsampling... 278  frames from the video.\n"
     ]
    },
    {
     "name": "stderr",
     "output_type": "stream",
     "text": [
      "278it [00:07, 39.17it/s]\n"
     ]
    },
    {
     "name": "stdout",
     "output_type": "stream",
     "text": [
      "Kmeans clustering ... (this might take a while)\n",
      "Let's select frames indices: [1239, 706, 2434, 1368, 3256, 2522, 1307, 2774, 238, 2308, 487, 669, 725, 1447, 2317, 3461, 4054, 387, 676, 2400, 3292, 2539, 3250, 1555, 1537, 434, 732, 3277, 2553, 2912, 538, 2372, 3272, 3235, 2770, 686, 3286, 3081, 505, 719, 709, 1163, 2541, 3227, 2429, 2194, 231, 714, 2325, 1439, 2054, 2550, 560, 2785, 663, 2552, 1451, 695, 443, 1630, 672, 1369, 2968, 2192, 4045, 3264, 3276, 392, 2104, 1529, 445, 235, 3232, 3290, 2295, 603, 2322, 1570, 2403, 713, 3274, 518, 2310, 3231, 1305, 678, 3234, 2535, 675, 2537, 1515, 2316, 723, 2544, 3293, 3288, 702, 1308, 561, 3291]\n",
      "Creating the symbolic link of the video\n",
      "New video was added to the project! Use the function 'extract_frames' to select frames for labeling.\n",
      "The outlier frames are extracted. They are stored in the subdirectory labeled-data\\2005.01.01_21_23_48.\n",
      "Once you extracted frames for all videos, use 'refine_labels' to manually correct the labels.\n"
     ]
    },
    {
     "name": "stderr",
     "output_type": "stream",
     "text": [
      "\r",
      "0it [00:00, ?it/s]"
     ]
    },
    {
     "name": "stdout",
     "output_type": "stream",
     "text": [
      "Method  uncertain  found  455  putative outlier frames.\n",
      "Do you want to proceed with extracting  100  of those?\n",
      "If this list is very large, perhaps consider changing the paramters (start, stop, p_bound, comparisonbodyparts) or use a different method.\n",
      "Loading video...\n",
      "Duration of video [s]:  26.47 , recorded @  200.0 fps!\n",
      "Overall # of frames:  5294 with (cropped) frame dimensions: \n",
      "Kmeans-quantization based extracting of frames from 0.0  seconds to 26.47  seconds.\n",
      "Extracting and downsampling... 455  frames from the video.\n"
     ]
    },
    {
     "name": "stderr",
     "output_type": "stream",
     "text": [
      "455it [00:11, 39.43it/s]\n"
     ]
    },
    {
     "name": "stdout",
     "output_type": "stream",
     "text": [
      "Kmeans clustering ... (this might take a while)\n",
      "Let's select frames indices: [4419, 5239, 3549, 4140, 1569, 1027, 4430, 5212, 4530, 2437, 5155, 2919, 1484, 3533, 4190, 2991, 5250, 5146, 5256, 360, 4122, 4397, 5254, 427, 485, 4105, 4448, 2783, 449, 310, 2612, 1041, 5253, 4151, 4467, 667, 2864, 5209, 301, 4176, 5192, 4108, 2912, 3509, 5178, 4134, 476, 4402, 256, 3515, 5243, 1468, 3537, 4116, 315, 999, 505, 4536, 1690, 5176, 4557, 4400, 4417, 305, 4208, 4165, 5224, 2785, 936, 4107, 425, 4126, 2921, 5246, 308, 4456, 429, 3503, 4171, 4168, 5139, 4111, 4420, 4103, 4142, 5181, 4124, 1573, 5252, 2792, 4161, 2915, 3505, 1036, 4183, 5186, 5255, 4544, 5242, 5197]\n",
      "Creating the symbolic link of the video\n",
      "New video was added to the project! Use the function 'extract_frames' to select frames for labeling.\n",
      "The outlier frames are extracted. They are stored in the subdirectory labeled-data\\2005.01.01_21_37_36.\n",
      "Once you extracted frames for all videos, use 'refine_labels' to manually correct the labels.\n"
     ]
    },
    {
     "name": "stderr",
     "output_type": "stream",
     "text": [
      "\r",
      "0it [00:00, ?it/s]"
     ]
    },
    {
     "name": "stdout",
     "output_type": "stream",
     "text": [
      "Method  uncertain  found  334  putative outlier frames.\n",
      "Do you want to proceed with extracting  100  of those?\n",
      "If this list is very large, perhaps consider changing the paramters (start, stop, p_bound, comparisonbodyparts) or use a different method.\n",
      "Loading video...\n",
      "Duration of video [s]:  26.425 , recorded @  200.0 fps!\n",
      "Overall # of frames:  5285 with (cropped) frame dimensions: \n",
      "Kmeans-quantization based extracting of frames from 0.0  seconds to 26.43  seconds.\n",
      "Extracting and downsampling... 334  frames from the video.\n"
     ]
    },
    {
     "name": "stderr",
     "output_type": "stream",
     "text": [
      "334it [00:08, 40.82it/s]\n"
     ]
    },
    {
     "name": "stdout",
     "output_type": "stream",
     "text": [
      "Kmeans clustering ... (this might take a while)\n",
      "Let's select frames indices: [1044, 861, 3136, 227, 913, 842, 977, 2557, 3124, 1600, 938, 1307, 953, 894, 1136, 1161, 599, 824, 3296, 924, 3114, 418, 1000, 3055, 3243, 3098, 2571, 957, 591, 1083, 2921, 1047, 186, 931, 1178, 603, 3290, 875, 3317, 831, 594, 646, 3133, 1010, 605, 1175, 3106, 968, 849, 876, 228, 1031, 934, 3089, 919, 939, 850, 834, 884, 3125, 926, 1502, 593, 910, 995, 3129, 991, 2586, 3299, 427, 896, 854, 2563, 863, 3103, 972, 907, 3135, 917, 828, 2569, 871, 899, 600, 878, 946, 1021, 838, 846, 3094, 882, 3056, 3113, 966, 1007, 916, 1163, 1022, 3121, 3117]\n",
      "Creating the symbolic link of the video\n",
      "New video was added to the project! Use the function 'extract_frames' to select frames for labeling.\n",
      "The outlier frames are extracted. They are stored in the subdirectory labeled-data\\2005.01.01_21_39_13.\n",
      "Once you extracted frames for all videos, use 'refine_labels' to manually correct the labels.\n"
     ]
    },
    {
     "name": "stderr",
     "output_type": "stream",
     "text": [
      "\r",
      "0it [00:00, ?it/s]"
     ]
    },
    {
     "name": "stdout",
     "output_type": "stream",
     "text": [
      "Method  uncertain  found  321  putative outlier frames.\n",
      "Do you want to proceed with extracting  100  of those?\n",
      "If this list is very large, perhaps consider changing the paramters (start, stop, p_bound, comparisonbodyparts) or use a different method.\n",
      "Loading video...\n",
      "Duration of video [s]:  26.445 , recorded @  200.0 fps!\n",
      "Overall # of frames:  5289 with (cropped) frame dimensions: \n",
      "Kmeans-quantization based extracting of frames from 0.0  seconds to 26.45  seconds.\n",
      "Extracting and downsampling... 321  frames from the video.\n"
     ]
    },
    {
     "name": "stderr",
     "output_type": "stream",
     "text": [
      "321it [00:08, 39.22it/s]\n"
     ]
    },
    {
     "name": "stdout",
     "output_type": "stream",
     "text": [
      "Kmeans clustering ... (this might take a while)\n",
      "Let's select frames indices: [2286, 4181, 752, 4099, 1009, 2261, 1908, 3430, 4050, 847, 734, 999, 4138, 4026, 4223, 4068, 4123, 2232, 812, 1497, 4162, 779, 1185, 2318, 1536, 3152, 4082, 746, 2270, 4147, 1195, 4109, 3439, 729, 4191, 2310, 3769, 4167, 3639, 4047, 2241, 2226, 2334, 4063, 4057, 994, 4151, 4168, 828, 372, 2716, 4084, 743, 4119, 3422, 4185, 2251, 2321, 730, 1013, 736, 781, 4079, 2335, 2311, 4083, 4112, 987, 807, 2320, 2228, 732, 2265, 4166, 2271, 2237, 995, 1498, 2301, 3434, 832, 4164, 4125, 1004, 731, 2322, 4072, 747, 4154, 2242, 2343, 4102, 4069, 2316, 823, 4174, 4065, 4080, 733, 854]\n",
      "Creating the symbolic link of the video\n",
      "New video was added to the project! Use the function 'extract_frames' to select frames for labeling.\n",
      "The outlier frames are extracted. They are stored in the subdirectory labeled-data\\2005.01.01_21_41_56.\n",
      "Once you extracted frames for all videos, use 'refine_labels' to manually correct the labels.\n"
     ]
    },
    {
     "name": "stderr",
     "output_type": "stream",
     "text": [
      "\r",
      "0it [00:00, ?it/s]"
     ]
    },
    {
     "name": "stdout",
     "output_type": "stream",
     "text": [
      "Method  uncertain  found  661  putative outlier frames.\n",
      "Do you want to proceed with extracting  100  of those?\n",
      "If this list is very large, perhaps consider changing the paramters (start, stop, p_bound, comparisonbodyparts) or use a different method.\n",
      "Loading video...\n",
      "Duration of video [s]:  26.445 , recorded @  200.0 fps!\n",
      "Overall # of frames:  5289 with (cropped) frame dimensions: \n",
      "Kmeans-quantization based extracting of frames from 0.0  seconds to 26.45  seconds.\n",
      "Extracting and downsampling... 661  frames from the video.\n"
     ]
    },
    {
     "name": "stderr",
     "output_type": "stream",
     "text": [
      "661it [00:16, 39.52it/s]\n"
     ]
    },
    {
     "name": "stdout",
     "output_type": "stream",
     "text": [
      "Kmeans clustering ... (this might take a while)\n",
      "Let's select frames indices: [3650, 736, 4618, 3588, 3469, 467, 870, 3693, 3545, 774, 3623, 1458, 1923, 1594, 489, 2227, 566, 1526, 693, 723, 3496, 64, 1909, 1281, 1537, 3564, 1552, 745, 587, 4311, 3653, 3676, 1575, 1605, 4742, 357, 3633, 3675, 3529, 343, 1446, 4879, 2238, 1474, 1388, 1916, 469, 1298, 3699, 3589, 527, 2241, 1543, 3461, 1601, 3561, 3702, 1440, 1920, 1588, 761, 3671, 4810, 1913, 3479, 557, 3700, 1485, 5052, 1910, 4689, 718, 778, 698, 1451, 3679, 1470, 768, 1544, 1562, 3701, 1919, 3606, 3550, 3460, 1578, 781, 731, 1596, 3684, 3673, 1567, 755, 3608, 4661, 1464, 3668, 704, 738, 688]\n",
      "Creating the symbolic link of the video\n",
      "New video was added to the project! Use the function 'extract_frames' to select frames for labeling.\n",
      "The outlier frames are extracted. They are stored in the subdirectory labeled-data\\2005.01.01_21_43_35.\n",
      "Once you extracted frames for all videos, use 'refine_labels' to manually correct the labels.\n"
     ]
    },
    {
     "name": "stderr",
     "output_type": "stream",
     "text": [
      "\r",
      "0it [00:00, ?it/s]"
     ]
    },
    {
     "name": "stdout",
     "output_type": "stream",
     "text": [
      "Method  uncertain  found  321  putative outlier frames.\n",
      "Do you want to proceed with extracting  100  of those?\n",
      "If this list is very large, perhaps consider changing the paramters (start, stop, p_bound, comparisonbodyparts) or use a different method.\n",
      "Loading video...\n",
      "Duration of video [s]:  26.445 , recorded @  200.0 fps!\n",
      "Overall # of frames:  5289 with (cropped) frame dimensions: \n",
      "Kmeans-quantization based extracting of frames from 0.0  seconds to 26.45  seconds.\n",
      "Extracting and downsampling... 321  frames from the video.\n"
     ]
    },
    {
     "name": "stderr",
     "output_type": "stream",
     "text": [
      "321it [00:08, 39.33it/s]\n"
     ]
    },
    {
     "name": "stdout",
     "output_type": "stream",
     "text": [
      "Kmeans clustering ... (this might take a while)\n",
      "Let's select frames indices: [528, 3201, 3826, 2405, 3108, 2992, 512, 3843, 3065, 4040, 2922, 3015, 2189, 3118, 3994, 3026, 3130, 3978, 2970, 517, 2681, 463, 2201, 3173, 1137, 3005, 1996, 3018, 3618, 2963, 698, 3034, 3966, 904, 485, 3147, 2839, 1247, 2926, 3101, 543, 3161, 2396, 3072, 491, 2637, 537, 693, 3112, 2954, 2969, 2394, 520, 524, 2972, 3214, 503, 3167, 3099, 4002, 4035, 519, 3141, 2409, 3962, 3009, 3022, 3829, 3217, 518, 2413, 3064, 2920, 2398, 3030, 4030, 2196, 2838, 3069, 3013, 3096, 2966, 3181, 499, 516, 714, 2192, 2924, 514, 3016, 3177, 3972, 695, 3103, 2971, 3021, 529, 3135, 509]\n",
      "Creating the symbolic link of the video\n",
      "New video was added to the project! Use the function 'extract_frames' to select frames for labeling.\n",
      "The outlier frames are extracted. They are stored in the subdirectory labeled-data\\2005.01.01_21_48_30.\n",
      "Once you extracted frames for all videos, use 'refine_labels' to manually correct the labels.\n"
     ]
    },
    {
     "name": "stderr",
     "output_type": "stream",
     "text": [
      "\r",
      "0it [00:00, ?it/s]"
     ]
    },
    {
     "name": "stdout",
     "output_type": "stream",
     "text": [
      "Method  uncertain  found  1193  putative outlier frames.\n",
      "Do you want to proceed with extracting  100  of those?\n",
      "If this list is very large, perhaps consider changing the paramters (start, stop, p_bound, comparisonbodyparts) or use a different method.\n",
      "Loading video...\n",
      "Duration of video [s]:  27.02 , recorded @  200.0 fps!\n",
      "Overall # of frames:  5404 with (cropped) frame dimensions: \n",
      "Kmeans-quantization based extracting of frames from 0.0  seconds to 27.02  seconds.\n",
      "Extracting and downsampling... 1193  frames from the video.\n"
     ]
    },
    {
     "name": "stderr",
     "output_type": "stream",
     "text": [
      "1193it [00:34, 34.96it/s]\n"
     ]
    },
    {
     "name": "stdout",
     "output_type": "stream",
     "text": [
      "Kmeans clustering ... (this might take a while)\n",
      "Let's select frames indices: [4623, 1568, 4841, 4762, 2353, 1163, 852, 5101, 4478, 3390, 255, 4203, 1129, 1201, 963, 4431, 4952, 3603, 5202, 2323, 3078, 1610, 5218, 1066, 2877, 4703, 4550, 4956, 2077, 1644, 5402, 4147, 3396, 2055, 2155, 1213, 5014, 4511, 4290, 875, 3202, 5357, 3224, 4417, 234, 2396, 3365, 4696, 2363, 5301, 1713, 2064, 2893, 4741, 5210, 2157, 2845, 5243, 1607, 2122, 3375, 491, 1576, 2357, 1148, 4555, 1159, 5042, 4728, 3629, 4440, 4810, 2084, 2327, 4483, 5250, 4893, 679, 5118, 4604, 3118, 4188, 4771, 2911, 5215, 4305, 4906, 1106, 211, 2376, 4460, 5224, 3385, 1045, 3063, 4449, 2070, 200, 2119, 4790]\n",
      "Creating the symbolic link of the video\n",
      "New video was added to the project! Use the function 'extract_frames' to select frames for labeling.\n",
      "The outlier frames are extracted. They are stored in the subdirectory labeled-data\\2005.01.01_22_20_45.\n",
      "Once you extracted frames for all videos, use 'refine_labels' to manually correct the labels.\n"
     ]
    },
    {
     "name": "stderr",
     "output_type": "stream",
     "text": [
      "\r",
      "0it [00:00, ?it/s]"
     ]
    },
    {
     "name": "stdout",
     "output_type": "stream",
     "text": [
      "Method  uncertain  found  733  putative outlier frames.\n",
      "Do you want to proceed with extracting  100  of those?\n",
      "If this list is very large, perhaps consider changing the paramters (start, stop, p_bound, comparisonbodyparts) or use a different method.\n",
      "Loading video...\n",
      "Duration of video [s]:  27.265 , recorded @  200.0 fps!\n",
      "Overall # of frames:  5453 with (cropped) frame dimensions: \n",
      "Kmeans-quantization based extracting of frames from 0.0  seconds to 27.27  seconds.\n",
      "Extracting and downsampling... 733  frames from the video.\n"
     ]
    },
    {
     "name": "stderr",
     "output_type": "stream",
     "text": [
      "733it [00:18, 38.76it/s]\n"
     ]
    },
    {
     "name": "stdout",
     "output_type": "stream",
     "text": [
      "Kmeans clustering ... (this might take a while)\n",
      "Let's select frames indices: [3175, 3912, 1552, 5224, 2331, 2245, 341, 2196, 1658, 3576, 231, 5140, 3997, 180, 3880, 1655, 1640, 3635, 3973, 2187, 2055, 642, 4834, 4007, 3146, 245, 3798, 704, 4979, 1708, 2386, 4048, 1803, 5262, 3770, 1609, 3402, 758, 3937, 3696, 401, 4047, 5266, 2247, 5156, 3634, 2432, 3812, 1504, 5161, 3411, 2308, 3783, 1692, 3201, 3775, 4785, 5305, 3071, 3992, 13, 5165, 1529, 3396, 5151, 2249, 640, 2887, 2322, 340, 5171, 195, 1674, 5239, 3926, 4070, 3392, 1645, 3111, 5215, 3929, 4835, 3999, 3091, 3791, 2063, 339, 5229, 3162, 221, 2200, 5166, 3962, 3988, 2176, 2232, 3196, 5259, 3399]\n",
      "Creating the symbolic link of the video\n",
      "New video was added to the project! Use the function 'extract_frames' to select frames for labeling.\n",
      "The outlier frames are extracted. They are stored in the subdirectory labeled-data\\2005.01.01_22_44_42.\n",
      "Once you extracted frames for all videos, use 'refine_labels' to manually correct the labels.\n"
     ]
    },
    {
     "name": "stderr",
     "output_type": "stream",
     "text": [
      "\r",
      "0it [00:00, ?it/s]"
     ]
    },
    {
     "name": "stdout",
     "output_type": "stream",
     "text": [
      "Method  uncertain  found  442  putative outlier frames.\n",
      "Do you want to proceed with extracting  100  of those?\n",
      "If this list is very large, perhaps consider changing the paramters (start, stop, p_bound, comparisonbodyparts) or use a different method.\n",
      "Loading video...\n",
      "Duration of video [s]:  26.975 , recorded @  200.0 fps!\n",
      "Overall # of frames:  5395 with (cropped) frame dimensions: \n",
      "Kmeans-quantization based extracting of frames from 0.0  seconds to 26.98  seconds.\n",
      "Extracting and downsampling... 441  frames from the video.\n"
     ]
    },
    {
     "name": "stderr",
     "output_type": "stream",
     "text": [
      "441it [00:11, 38.08it/s]\n"
     ]
    },
    {
     "name": "stdout",
     "output_type": "stream",
     "text": [
      "Kmeans clustering ... (this might take a while)\n",
      "Let's select frames indices: [2110, 236, 1281, 119, 829, 2025, 921, 737, 1603, 316, 2065, 1313, 1910, 246, 1698, 1678, 15, 1564, 31, 186, 1991, 1957, 685, 1974, 1407, 255, 738, 2240, 1709, 1316, 2058, 77, 1548, 904, 210, 1894, 221, 906, 1527, 739, 151, 324, 2150, 318, 253, 748, 832, 741, 41, 1588, 2123, 235, 2017, 2145, 1930, 320, 223, 1484, 238, 835, 2069, 22, 2142, 1535, 1584, 1911, 214, 1990, 1410, 1425, 40, 1682, 173, 100, 1955, 256, 2156, 249, 243, 2161, 2120, 204, 1315, 1579, 2131, 1525, 105, 58, 2020, 196, 2022, 241, 1318, 91, 2125, 2143, 1896, 63, 833]\n",
      "Creating the symbolic link of the video\n",
      "New video was added to the project! Use the function 'extract_frames' to select frames for labeling.\n",
      "The outlier frames are extracted. They are stored in the subdirectory labeled-data\\2005.01.01_22_54_26.\n",
      "Once you extracted frames for all videos, use 'refine_labels' to manually correct the labels.\n"
     ]
    },
    {
     "name": "stderr",
     "output_type": "stream",
     "text": [
      "\r",
      "0it [00:00, ?it/s]"
     ]
    },
    {
     "name": "stdout",
     "output_type": "stream",
     "text": [
      "Method  uncertain  found  883  putative outlier frames.\n",
      "Do you want to proceed with extracting  100  of those?\n",
      "If this list is very large, perhaps consider changing the paramters (start, stop, p_bound, comparisonbodyparts) or use a different method.\n",
      "Loading video...\n",
      "Duration of video [s]:  27.32 , recorded @  200.0 fps!\n",
      "Overall # of frames:  5464 with (cropped) frame dimensions: \n",
      "Kmeans-quantization based extracting of frames from 0.0  seconds to 27.32  seconds.\n",
      "Extracting and downsampling... 882  frames from the video.\n"
     ]
    },
    {
     "name": "stderr",
     "output_type": "stream",
     "text": [
      "882it [00:23, 37.16it/s]\n"
     ]
    },
    {
     "name": "stdout",
     "output_type": "stream",
     "text": [
      "Kmeans clustering ... (this might take a while)\n",
      "Let's select frames indices: [152, 1484, 711, 357, 1374, 1321, 2647, 2761, 3412, 1092, 221, 725, 422, 2307, 1254, 890, 2825, 662, 254, 2959, 1421, 1543, 1774, 204, 2496, 36, 677, 1513, 3207, 334, 1076, 1913, 375, 2783, 1451, 2162, 1779, 2136, 211, 1351, 1311, 509, 425, 2758, 1330, 1102, 314, 162, 1164, 186, 1476, 1453, 1291, 2785, 1521, 694, 1086, 1393, 386, 668, 2771, 441, 415, 216, 1433, 258, 2641, 2313, 1467, 690, 247, 1937, 2830, 3192, 2768, 1441, 1314, 1411, 689, 3385, 352, 1362, 1106, 4, 407, 2786, 1094, 2948, 1170, 237, 1458, 228, 344, 2723, 1472, 197, 713, 1503, 672, 854]\n",
      "Creating the symbolic link of the video\n",
      "New video was added to the project! Use the function 'extract_frames' to select frames for labeling.\n",
      "The outlier frames are extracted. They are stored in the subdirectory labeled-data\\2005.01.01_22_55_00.\n",
      "Once you extracted frames for all videos, use 'refine_labels' to manually correct the labels.\n"
     ]
    },
    {
     "name": "stderr",
     "output_type": "stream",
     "text": [
      "\r",
      "0it [00:00, ?it/s]"
     ]
    },
    {
     "name": "stdout",
     "output_type": "stream",
     "text": [
      "Method  uncertain  found  1188  putative outlier frames.\n",
      "Do you want to proceed with extracting  100  of those?\n",
      "If this list is very large, perhaps consider changing the paramters (start, stop, p_bound, comparisonbodyparts) or use a different method.\n",
      "Loading video...\n",
      "Duration of video [s]:  26.97 , recorded @  200.0 fps!\n",
      "Overall # of frames:  5394 with (cropped) frame dimensions: \n",
      "Kmeans-quantization based extracting of frames from 0.0  seconds to 26.97  seconds.\n",
      "Extracting and downsampling... 1188  frames from the video.\n"
     ]
    },
    {
     "name": "stderr",
     "output_type": "stream",
     "text": [
      "1188it [00:30, 38.36it/s]\n"
     ]
    },
    {
     "name": "stdout",
     "output_type": "stream",
     "text": [
      "Kmeans clustering ... (this might take a while)\n",
      "Let's select frames indices: [2932, 3368, 1984, 847, 1779, 1065, 1118, 3693, 3110, 2003, 3874, 696, 3212, 3504, 1977, 3835, 1334, 4070, 1089, 277, 2850, 1191, 2820, 1775, 2952, 852, 3039, 1048, 3644, 3328, 3501, 1973, 1991, 3270, 2908, 3144, 845, 3004, 3032, 3252, 3756, 519, 3021, 2879, 1042, 3207, 2812, 3235, 3295, 1978, 3281, 3317, 3593, 3538, 2953, 3234, 3246, 3089, 2788, 3565, 3163, 2840, 3857, 3278, 3700, 3377, 3760, 3658, 3892, 3668, 3734, 3123, 2929, 2796, 3436, 3581, 3339, 2899, 3901, 2876, 3237, 2890, 3256, 3067, 2773, 2969, 3352, 2986, 3138, 3265, 3405, 3030, 2883, 3575, 3792, 3623, 2855, 3456, 3292, 3023]\n",
      "Creating the symbolic link of the video\n",
      "New video was added to the project! Use the function 'extract_frames' to select frames for labeling.\n",
      "The outlier frames are extracted. They are stored in the subdirectory labeled-data\\2005.01.01_23_37_51.\n",
      "Once you extracted frames for all videos, use 'refine_labels' to manually correct the labels.\n"
     ]
    },
    {
     "name": "stderr",
     "output_type": "stream",
     "text": [
      "\r",
      "0it [00:00, ?it/s]"
     ]
    },
    {
     "name": "stdout",
     "output_type": "stream",
     "text": [
      "Method  uncertain  found  568  putative outlier frames.\n",
      "Do you want to proceed with extracting  100  of those?\n",
      "If this list is very large, perhaps consider changing the paramters (start, stop, p_bound, comparisonbodyparts) or use a different method.\n",
      "Loading video...\n",
      "Duration of video [s]:  26.99 , recorded @  200.0 fps!\n",
      "Overall # of frames:  5398 with (cropped) frame dimensions: \n",
      "Kmeans-quantization based extracting of frames from 0.0  seconds to 26.99  seconds.\n",
      "Extracting and downsampling... 568  frames from the video.\n"
     ]
    },
    {
     "name": "stderr",
     "output_type": "stream",
     "text": [
      "568it [00:15, 36.84it/s]\n"
     ]
    },
    {
     "name": "stdout",
     "output_type": "stream",
     "text": [
      "Kmeans clustering ... (this might take a while)\n",
      "Let's select frames indices: [629, 4327, 1974, 618, 1624, 168, 1944, 4478, 672, 2020, 430, 1494, 204, 633, 1685, 1645, 4137, 1930, 1972, 1367, 4587, 1984, 4278, 1662, 2029, 751, 4423, 1992, 1958, 1532, 207, 2532, 2088, 635, 4546, 627, 1631, 1370, 2001, 1671, 1660, 427, 164, 1496, 214, 2023, 1966, 1951, 425, 1619, 1959, 4591, 4332, 205, 1566, 4583, 2037, 1707, 616, 135, 4522, 1938, 4302, 4248, 1369, 4472, 4357, 1637, 1689, 4531, 4581, 926, 150, 1616, 1702, 1988, 1629, 1978, 1693, 630, 4265, 631, 1971, 1940, 4373, 4491, 1980, 4507, 4286, 1996, 1936, 139, 4540, 1658, 2025, 431, 1636, 2034]\n",
      "Creating the symbolic link of the video\n",
      "New video was added to the project! Use the function 'extract_frames' to select frames for labeling.\n",
      "The outlier frames are extracted. They are stored in the subdirectory labeled-data\\2005.01.01_23_52_49.\n",
      "Once you extracted frames for all videos, use 'refine_labels' to manually correct the labels.\n"
     ]
    },
    {
     "name": "stderr",
     "output_type": "stream",
     "text": [
      "\r",
      "0it [00:00, ?it/s]"
     ]
    },
    {
     "name": "stdout",
     "output_type": "stream",
     "text": [
      "Method  uncertain  found  331  putative outlier frames.\n",
      "Do you want to proceed with extracting  100  of those?\n",
      "If this list is very large, perhaps consider changing the paramters (start, stop, p_bound, comparisonbodyparts) or use a different method.\n",
      "Loading video...\n",
      "Duration of video [s]:  26.985 , recorded @  200.0 fps!\n",
      "Overall # of frames:  5397 with (cropped) frame dimensions: \n",
      "Kmeans-quantization based extracting of frames from 0.0  seconds to 26.98  seconds.\n",
      "Extracting and downsampling... 331  frames from the video.\n"
     ]
    },
    {
     "name": "stderr",
     "output_type": "stream",
     "text": [
      "331it [00:09, 36.76it/s]\n"
     ]
    },
    {
     "name": "stdout",
     "output_type": "stream",
     "text": [
      "Kmeans clustering ... (this might take a while)\n",
      "Let's select frames indices: [1946, 1475, 1098, 403, 848, 1937, 1537, 1525, 1901, 874, 1732, 1112, 506, 615, 1893, 1878, 1546, 355, 701, 1503, 667, 1924, 1511, 1567, 880, 72, 1148, 1869, 604, 436, 1943, 1907, 867, 850, 1936, 2069, 1093, 1510, 860, 1875, 1530, 990, 612, 1106, 1767, 641, 1481, 1942, 561, 1708, 1294, 864, 1884, 321, 1947, 1923, 1115, 1903, 757, 1726, 1473, 1880, 624, 609, 1505, 1915, 1896, 1927, 1522, 670, 853, 377, 862, 1737, 1517, 497, 614, 415, 878, 869, 1533, 363, 871, 1886, 1534, 1111, 1479, 1760, 396, 845, 1541, 618, 1740, 1952, 1102, 1941, 851, 861, 369, 503]\n",
      "Creating the symbolic link of the video\n",
      "New video was added to the project! Use the function 'extract_frames' to select frames for labeling.\n",
      "The outlier frames are extracted. They are stored in the subdirectory labeled-data\\2005.01.01_23_54_20.\n",
      "Once you extracted frames for all videos, use 'refine_labels' to manually correct the labels.\n"
     ]
    },
    {
     "name": "stderr",
     "output_type": "stream",
     "text": [
      "\r",
      "0it [00:00, ?it/s]"
     ]
    },
    {
     "name": "stdout",
     "output_type": "stream",
     "text": [
      "Method  uncertain  found  225  putative outlier frames.\n",
      "Do you want to proceed with extracting  100  of those?\n",
      "If this list is very large, perhaps consider changing the paramters (start, stop, p_bound, comparisonbodyparts) or use a different method.\n",
      "Loading video...\n",
      "Duration of video [s]:  26.925 , recorded @  200.0 fps!\n",
      "Overall # of frames:  5385 with (cropped) frame dimensions: \n",
      "Kmeans-quantization based extracting of frames from 0.0  seconds to 26.93  seconds.\n",
      "Extracting and downsampling... 225  frames from the video.\n"
     ]
    },
    {
     "name": "stderr",
     "output_type": "stream",
     "text": [
      "225it [00:06, 36.91it/s]\n"
     ]
    },
    {
     "name": "stdout",
     "output_type": "stream",
     "text": [
      "Kmeans clustering ... (this might take a while)\n",
      "Let's select frames indices: [298, 544, 1250, 1333, 1995, 482, 1281, 437, 1213, 1439, 335, 830, 567, 1262, 787, 970, 356, 1326, 1344, 1135, 1271, 1237, 744, 320, 1683, 1498, 1284, 340, 1274, 552, 1707, 1258, 735, 558, 1261, 511, 1996, 532, 572, 1277, 1255, 1436, 578, 358, 488, 476, 1245, 1265, 440, 348, 1322, 1268, 1993, 1337, 1133, 546, 1257, 313, 1266, 513, 1234, 2006, 1259, 324, 538, 1340, 1682, 1442, 1329, 524, 564, 337, 1285, 333, 832, 829, 1137, 1330, 273, 1283, 1267, 1214, 1437, 332, 1242, 560, 486, 554, 1239, 1272, 548, 1270, 1991, 329, 1275, 1342, 1324, 439, 535, 566]\n",
      "Creating the symbolic link of the video\n",
      "New video was added to the project! Use the function 'extract_frames' to select frames for labeling.\n",
      "The outlier frames are extracted. They are stored in the subdirectory labeled-data\\2005.01.01_23_54_51.\n",
      "Once you extracted frames for all videos, use 'refine_labels' to manually correct the labels.\n"
     ]
    },
    {
     "name": "stderr",
     "output_type": "stream",
     "text": [
      "\r",
      "0it [00:00, ?it/s]"
     ]
    },
    {
     "name": "stdout",
     "output_type": "stream",
     "text": [
      "Method  uncertain  found  563  putative outlier frames.\n",
      "Do you want to proceed with extracting  100  of those?\n",
      "If this list is very large, perhaps consider changing the paramters (start, stop, p_bound, comparisonbodyparts) or use a different method.\n",
      "Loading video...\n",
      "Duration of video [s]:  27.02 , recorded @  200.0 fps!\n",
      "Overall # of frames:  5404 with (cropped) frame dimensions: \n",
      "Kmeans-quantization based extracting of frames from 0.0  seconds to 27.02  seconds.\n",
      "Extracting and downsampling... 562  frames from the video.\n"
     ]
    },
    {
     "name": "stderr",
     "output_type": "stream",
     "text": [
      "562it [00:16, 33.71it/s]\n"
     ]
    },
    {
     "name": "stdout",
     "output_type": "stream",
     "text": [
      "Kmeans clustering ... (this might take a while)\n",
      "Let's select frames indices: [1142, 185, 303, 2263, 679, 642, 2410, 944, 705, 842, 40, 242, 710, 333, 2454, 286, 2449, 1366, 1246, 1535, 2279, 2427, 2150, 825, 1226, 36, 2664, 631, 1370, 1355, 465, 2526, 730, 2405, 1132, 2438, 703, 256, 2680, 268, 2206, 1352, 2165, 2270, 650, 2304, 621, 2265, 119, 314, 239, 2574, 337, 207, 2435, 716, 1243, 718, 692, 2580, 2445, 634, 328, 296, 2672, 2275, 2414, 2287, 2209, 214, 685, 1367, 712, 2159, 2295, 643, 3, 94, 2407, 260, 707, 681, 2292, 1220, 318, 321, 2577, 307, 2668, 2269, 74, 682, 647, 638, 2422, 2401, 161, 2239]\n",
      "Creating the symbolic link of the video\n",
      "New video was added to the project! Use the function 'extract_frames' to select frames for labeling.\n",
      "The outlier frames are extracted. They are stored in the subdirectory labeled-data\\2005.01.01_20_28_03.\n",
      "Once you extracted frames for all videos, use 'refine_labels' to manually correct the labels.\n"
     ]
    },
    {
     "name": "stderr",
     "output_type": "stream",
     "text": [
      "\r",
      "0it [00:00, ?it/s]"
     ]
    },
    {
     "name": "stdout",
     "output_type": "stream",
     "text": [
      "Method  uncertain  found  426  putative outlier frames.\n",
      "Do you want to proceed with extracting  100  of those?\n",
      "If this list is very large, perhaps consider changing the paramters (start, stop, p_bound, comparisonbodyparts) or use a different method.\n",
      "Loading video...\n",
      "Duration of video [s]:  27.075 , recorded @  200.0 fps!\n",
      "Overall # of frames:  5415 with (cropped) frame dimensions: \n",
      "Kmeans-quantization based extracting of frames from 0.0  seconds to 27.07  seconds.\n",
      "Extracting and downsampling... 426  frames from the video.\n"
     ]
    },
    {
     "name": "stderr",
     "output_type": "stream",
     "text": [
      "426it [00:13, 32.23it/s]\n"
     ]
    },
    {
     "name": "stdout",
     "output_type": "stream",
     "text": [
      "Kmeans clustering ... (this might take a while)\n",
      "Let's select frames indices: [2948, 1812, 4513, 2098, 4410, 534, 2382, 4887, 4221, 2166, 2549, 686, 409, 1081, 4392, 282, 747, 1799, 2188, 1801, 605, 4977, 794, 2371, 4372, 323, 2103, 1132, 4330, 504, 641, 2079, 2349, 4416, 2120, 781, 4502, 415, 4381, 2158, 4288, 4403, 311, 4196, 2642, 2179, 230, 4861, 4277, 2976, 4446, 2110, 4516, 930, 2359, 2092, 385, 751, 893, 283, 400, 4421, 4385, 2232, 325, 2111, 1794, 4242, 511, 231, 322, 2165, 418, 2124, 682, 608, 2156, 1053, 2112, 2615, 685, 540, 4523, 502, 1805, 2113, 4377, 2160, 2652, 2182, 416, 2171, 2623, 1867, 2176, 4368, 406, 4503, 2377]\n",
      "Creating the symbolic link of the video\n",
      "New video was added to the project! Use the function 'extract_frames' to select frames for labeling.\n",
      "The outlier frames are extracted. They are stored in the subdirectory labeled-data\\2005.01.01_20_31_28.\n",
      "Once you extracted frames for all videos, use 'refine_labels' to manually correct the labels.\n"
     ]
    },
    {
     "name": "stderr",
     "output_type": "stream",
     "text": [
      "\r",
      "0it [00:00, ?it/s]"
     ]
    },
    {
     "name": "stdout",
     "output_type": "stream",
     "text": [
      "Method  uncertain  found  302  putative outlier frames.\n",
      "Do you want to proceed with extracting  100  of those?\n",
      "If this list is very large, perhaps consider changing the paramters (start, stop, p_bound, comparisonbodyparts) or use a different method.\n",
      "Loading video...\n",
      "Duration of video [s]:  27.185 , recorded @  200.0 fps!\n",
      "Overall # of frames:  5437 with (cropped) frame dimensions: \n",
      "Kmeans-quantization based extracting of frames from 0.0  seconds to 27.18  seconds.\n",
      "Extracting and downsampling... 302  frames from the video.\n"
     ]
    },
    {
     "name": "stderr",
     "output_type": "stream",
     "text": [
      "302it [00:09, 31.00it/s]\n"
     ]
    },
    {
     "name": "stdout",
     "output_type": "stream",
     "text": [
      "Kmeans clustering ... (this might take a while)\n",
      "Let's select frames indices: [4118, 3979, 4478, 4041, 1878, 4765, 3953, 4452, 1225, 1765, 1197, 1387, 1164, 4008, 4129, 2499, 4171, 2701, 1893, 4002, 4055, 4769, 1546, 4175, 4142, 1886, 4109, 4760, 1217, 4481, 3970, 4245, 3889, 4370, 4145, 1888, 1173, 1872, 1204, 4091, 4048, 4277, 4466, 4167, 1210, 4428, 1339, 4018, 3964, 3932, 3989, 4070, 4035, 1778, 1500, 4434, 4476, 4458, 1194, 4127, 3938, 1220, 4113, 3985, 1889, 4758, 3993, 1877, 1768, 1763, 1895, 4052, 1887, 4454, 4445, 2059, 4003, 4050, 1879, 4474, 2497, 4169, 1880, 4170, 4448, 4121, 4045, 4775, 4032, 1876, 3972, 4473, 4144, 4757, 3873, 4108, 1891, 3947, 3958, 4125]\n",
      "Creating the symbolic link of the video\n",
      "New video was added to the project! Use the function 'extract_frames' to select frames for labeling.\n",
      "The outlier frames are extracted. They are stored in the subdirectory labeled-data\\2005.01.01_20_33_54.\n",
      "Once you extracted frames for all videos, use 'refine_labels' to manually correct the labels.\n"
     ]
    },
    {
     "name": "stderr",
     "output_type": "stream",
     "text": [
      "\r",
      "0it [00:00, ?it/s]"
     ]
    },
    {
     "name": "stdout",
     "output_type": "stream",
     "text": [
      "Method  uncertain  found  1779  putative outlier frames.\n",
      "Do you want to proceed with extracting  100  of those?\n",
      "If this list is very large, perhaps consider changing the paramters (start, stop, p_bound, comparisonbodyparts) or use a different method.\n",
      "Loading video...\n",
      "Duration of video [s]:  26.995 , recorded @  200.0 fps!\n",
      "Overall # of frames:  5399 with (cropped) frame dimensions: \n",
      "Kmeans-quantization based extracting of frames from 0.0  seconds to 27.0  seconds.\n",
      "Extracting and downsampling... 1779  frames from the video.\n"
     ]
    },
    {
     "name": "stderr",
     "output_type": "stream",
     "text": [
      "1779it [00:50, 35.22it/s]\n"
     ]
    },
    {
     "name": "stdout",
     "output_type": "stream",
     "text": [
      "Kmeans clustering ... (this might take a while)\n",
      "Let's select frames indices: [4676, 2825, 663, 1634, 4212, 2563, 4330, 411, 1763, 312, 4077, 5362, 1726, 1722, 4257, 2951, 5294, 2089, 2649, 4462, 4799, 4341, 2627, 4850, 1185, 2530, 1619, 5040, 2664, 1645, 1849, 321, 233, 325, 2794, 4228, 4149, 4107, 2588, 4995, 5160, 222, 4562, 2738, 2532, 4661, 4262, 2764, 5163, 4294, 5386, 2074, 4196, 2898, 4132, 2885, 2732, 4308, 5070, 5035, 4353, 4710, 4893, 2611, 2489, 5100, 5029, 4238, 4394, 5133, 2873, 4549, 4579, 4089, 4480, 4275, 5056, 5232, 2619, 4946, 2579, 4207, 4097, 4819, 4415, 5118, 4371, 2636, 4246, 5211, 2753, 4749, 2785, 4761, 808, 2922, 4234, 4127, 4527, 5315]\n",
      "Creating the symbolic link of the video\n",
      "New video was added to the project! Use the function 'extract_frames' to select frames for labeling.\n",
      "The outlier frames are extracted. They are stored in the subdirectory labeled-data\\2005.01.01_20_38_02.\n",
      "Once you extracted frames for all videos, use 'refine_labels' to manually correct the labels.\n"
     ]
    },
    {
     "name": "stderr",
     "output_type": "stream",
     "text": [
      "\r",
      "0it [00:00, ?it/s]"
     ]
    },
    {
     "name": "stdout",
     "output_type": "stream",
     "text": [
      "Method  uncertain  found  2930  putative outlier frames.\n",
      "Do you want to proceed with extracting  100  of those?\n",
      "If this list is very large, perhaps consider changing the paramters (start, stop, p_bound, comparisonbodyparts) or use a different method.\n",
      "Loading video...\n",
      "Duration of video [s]:  26.965 , recorded @  200.0 fps!\n",
      "Overall # of frames:  5393 with (cropped) frame dimensions: \n",
      "Kmeans-quantization based extracting of frames from 0.0  seconds to 26.96  seconds.\n",
      "Extracting and downsampling... 2930  frames from the video.\n"
     ]
    },
    {
     "name": "stderr",
     "output_type": "stream",
     "text": [
      "2930it [01:23, 34.94it/s]\n"
     ]
    },
    {
     "name": "stdout",
     "output_type": "stream",
     "text": [
      "Kmeans clustering ... (this might take a while)\n",
      "Let's select frames indices: [4076, 2891, 705, 2753, 5297, 3052, 3563, 2522, 4192, 2166, 1294, 4826, 2737, 2643, 3384, 2782, 1514, 3183, 1909, 1137, 2614, 1602, 1314, 3696, 3878, 572, 3488, 1901, 1527, 2270, 4738, 3725, 2794, 2639, 4096, 1482, 2845, 2745, 3300, 3293, 1325, 2662, 1279, 2514, 3512, 2766, 1507, 3400, 2655, 2701, 3132, 3933, 2839, 3413, 2716, 4501, 2908, 3631, 2827, 4389, 5176, 4539, 3439, 4349, 721, 3448, 5125, 4896, 2735, 3686, 4175, 3345, 2870, 3530, 5342, 2888, 3372, 3765, 4876, 4035, 3808, 3013, 4444, 3072, 4635, 2537, 4045, 3228, 713, 3571, 3862, 3473, 4796, 2729, 3329, 3776, 5035, 5392, 3356]\n",
      "Creating the symbolic link of the video\n",
      "New video was added to the project! Use the function 'extract_frames' to select frames for labeling.\n",
      "The outlier frames are extracted. They are stored in the subdirectory labeled-data\\2005.01.01_20_39_53.\n",
      "Once you extracted frames for all videos, use 'refine_labels' to manually correct the labels.\n"
     ]
    },
    {
     "name": "stderr",
     "output_type": "stream",
     "text": [
      "\r",
      "0it [00:00, ?it/s]"
     ]
    },
    {
     "name": "stdout",
     "output_type": "stream",
     "text": [
      "Method  uncertain  found  339  putative outlier frames.\n",
      "Do you want to proceed with extracting  100  of those?\n",
      "If this list is very large, perhaps consider changing the paramters (start, stop, p_bound, comparisonbodyparts) or use a different method.\n",
      "Loading video...\n",
      "Duration of video [s]:  27.0 , recorded @  200.0 fps!\n",
      "Overall # of frames:  5400 with (cropped) frame dimensions: \n",
      "Kmeans-quantization based extracting of frames from 0.0  seconds to 27.0  seconds.\n",
      "Extracting and downsampling... 339  frames from the video.\n"
     ]
    },
    {
     "name": "stderr",
     "output_type": "stream",
     "text": [
      "339it [00:10, 33.18it/s]\n"
     ]
    },
    {
     "name": "stdout",
     "output_type": "stream",
     "text": [
      "Kmeans clustering ... (this might take a while)\n",
      "Let's select frames indices: [1175, 936, 365, 2555, 1492, 331, 519, 909, 674, 376, 1528, 396, 289, 2125, 1680, 1091, 1064, 801, 1797, 1419, 2113, 1701, 2227, 314, 504, 1686, 542, 1505, 711, 347, 383, 1619, 535, 517, 1801, 800, 2134, 280, 1132, 554, 1075, 1523, 1057, 2114, 816, 1449, 1489, 403, 2569, 2305, 935, 850, 821, 659, 1793, 299, 1499, 512, 1086, 2565, 327, 952, 1184, 2109, 1487, 1603, 284, 916, 523, 747, 2119, 1511, 389, 339, 2586, 815, 352, 313, 1697, 929, 2117, 381, 805, 392, 287, 506, 1421, 368, 319, 539, 308, 1181, 399, 353, 2124, 1054, 1062, 1507, 387, 1182]\n",
      "Creating the symbolic link of the video\n",
      "New video was added to the project! Use the function 'extract_frames' to select frames for labeling.\n",
      "The outlier frames are extracted. They are stored in the subdirectory labeled-data\\2005.01.01_20_43_05.\n",
      "Once you extracted frames for all videos, use 'refine_labels' to manually correct the labels.\n"
     ]
    },
    {
     "name": "stderr",
     "output_type": "stream",
     "text": [
      "\r",
      "0it [00:00, ?it/s]"
     ]
    },
    {
     "name": "stdout",
     "output_type": "stream",
     "text": [
      "Method  uncertain  found  3005  putative outlier frames.\n",
      "Do you want to proceed with extracting  100  of those?\n",
      "If this list is very large, perhaps consider changing the paramters (start, stop, p_bound, comparisonbodyparts) or use a different method.\n",
      "Loading video...\n",
      "Duration of video [s]:  26.94 , recorded @  200.0 fps!\n",
      "Overall # of frames:  5388 with (cropped) frame dimensions: \n",
      "Kmeans-quantization based extracting of frames from 0.0  seconds to 26.94  seconds.\n",
      "Extracting and downsampling... 3005  frames from the video.\n"
     ]
    },
    {
     "name": "stderr",
     "output_type": "stream",
     "text": [
      "3005it [01:21, 37.07it/s]\n"
     ]
    },
    {
     "name": "stdout",
     "output_type": "stream",
     "text": [
      "Kmeans clustering ... (this might take a while)\n",
      "Let's select frames indices: [5253, 1335, 4591, 3123, 2499, 2689, 2801, 2601, 2644, 2748, 2706, 2613, 750, 1501, 391, 3975, 488, 2398, 330, 2675, 2454, 5111, 348, 2878, 5248, 890, 3211, 2712, 2563, 3522, 2557, 2589, 3256, 2622, 2782, 2633, 2913, 4397, 2485, 4313, 2772, 3620, 3757, 2610, 4190, 3406, 2661, 3446, 2979, 2696, 5365, 2683, 4750, 4953, 4808, 3884, 4281, 2833, 3838, 3717, 4620, 3560, 5151, 3569, 3138, 4697, 3540, 2900, 4878, 3387, 3552, 3583, 3239, 2861, 3154, 4926, 3292, 3687, 4305, 3534, 4789, 3055, 2655, 3059, 4221, 5006, 3283, 2952, 4442, 3591, 3140, 4290, 3129, 3490, 4716, 4818, 3362, 5285, 3898, 5373]\n",
      "Creating the symbolic link of the video\n",
      "New video was added to the project! Use the function 'extract_frames' to select frames for labeling.\n",
      "The outlier frames are extracted. They are stored in the subdirectory labeled-data\\2005.01.01_20_44_01.\n",
      "Once you extracted frames for all videos, use 'refine_labels' to manually correct the labels.\n"
     ]
    },
    {
     "name": "stderr",
     "output_type": "stream",
     "text": [
      "\r",
      "0it [00:00, ?it/s]"
     ]
    },
    {
     "name": "stdout",
     "output_type": "stream",
     "text": [
      "Method  uncertain  found  1044  putative outlier frames.\n",
      "Do you want to proceed with extracting  100  of those?\n",
      "If this list is very large, perhaps consider changing the paramters (start, stop, p_bound, comparisonbodyparts) or use a different method.\n",
      "Loading video...\n",
      "Duration of video [s]:  26.98 , recorded @  200.0 fps!\n",
      "Overall # of frames:  5396 with (cropped) frame dimensions: \n",
      "Kmeans-quantization based extracting of frames from 0.0  seconds to 26.98  seconds.\n",
      "Extracting and downsampling... 1043  frames from the video.\n"
     ]
    },
    {
     "name": "stderr",
     "output_type": "stream",
     "text": [
      "1043it [00:29, 35.39it/s]\n"
     ]
    },
    {
     "name": "stdout",
     "output_type": "stream",
     "text": [
      "Kmeans clustering ... (this might take a while)\n",
      "Let's select frames indices: [4906, 170, 2827, 302, 2648, 2475, 1809, 1628, 2744, 227, 316, 2880, 2589, 2681, 248, 2573, 214, 2878, 4691, 5033, 1268, 1801, 273, 573, 2542, 267, 296, 2612, 4482, 1439, 1623, 237, 1517, 1003, 1806, 2574, 2724, 2631, 225, 1631, 2586, 4554, 2571, 992, 2666, 1812, 2791, 2695, 277, 2502, 2548, 2886, 220, 324, 4798, 137, 4758, 2872, 2498, 2577, 2685, 232, 318, 2671, 2765, 2854, 236, 16, 2523, 149, 4967, 2608, 209, 2656, 4699, 2564, 1356, 2487, 2835, 1805, 2775, 2635, 2630, 284, 204, 33, 2808, 5059, 241, 288, 4874, 2505, 2708, 2849, 2490, 206, 250]\n",
      "Creating the symbolic link of the video\n",
      "New video was added to the project! Use the function 'extract_frames' to select frames for labeling.\n",
      "The outlier frames are extracted. They are stored in the subdirectory labeled-data\\2005.01.01_20_44_53.\n",
      "Once you extracted frames for all videos, use 'refine_labels' to manually correct the labels.\n",
      "Method  uncertain  found  1633  putative outlier frames.\n",
      "Do you want to proceed with extracting  100  of those?\n",
      "If this list is very large, perhaps consider changing the paramters (start, stop, p_bound, comparisonbodyparts) or use a different method.\n",
      "Loading video...\n"
     ]
    },
    {
     "name": "stderr",
     "output_type": "stream",
     "text": [
      "1it [00:00,  8.04it/s]"
     ]
    },
    {
     "name": "stdout",
     "output_type": "stream",
     "text": [
      "Duration of video [s]:  27.005 , recorded @  200.0 fps!\n",
      "Overall # of frames:  5401 with (cropped) frame dimensions: \n",
      "Kmeans-quantization based extracting of frames from 0.0  seconds to 27.0  seconds.\n",
      "Extracting and downsampling... 1633  frames from the video.\n"
     ]
    },
    {
     "name": "stderr",
     "output_type": "stream",
     "text": [
      "656it [00:19, 33.15it/s]"
     ]
    }
   ],
   "source": [
    "q = 0.16002344069833624\n",
    "\n",
    "rezTable = []\n",
    "\n",
    "for vidPath in vidPaths:\n",
    "    if \"norun\" not in vidPath:\n",
    "        vidKey = os.path.splitext(os.path.basename(vidPath))[0]\n",
    "        dlcKey = \"DeepCut_resnet50\"\n",
    "        \n",
    "        # 1. Get CSV filename from video name\n",
    "        csvNames = get_files(os.path.dirname(vidPath), '.csv')\n",
    "        csvNames = [csv for csv in csvNames if (vidKey in csv) and (dlcKey in csv)]\n",
    "        \n",
    "        if len(csvNames) != 1:\n",
    "            print(\"Skipping\", csvNames, vidKey)\n",
    "        else:\n",
    "            # 2. Load CSV file, get histogram of p-values for wrist\n",
    "            csvPathName = os.path.join(os.path.dirname(vidPath), csvNames[0])\n",
    "            df = pd.read_csv(csvPathName)\n",
    "            \n",
    "            # Renaming columns of the dataset\n",
    "            bodyparts = list(df.iloc[0])\n",
    "            valueKeys = list(df.iloc[1])\n",
    "            newCols = [b + ',' + v for b,v in zip(bodyparts, valueKeys)]\n",
    "            df.columns = newCols\n",
    "            \n",
    "            wristLikelihoods = np.array(list(df['Wrist,likelihood'][2:])).astype(float)\n",
    "            \n",
    "            avgWristPValPower = np.mean(np.log(wristLikelihoods))\n",
    "            \n",
    "            rezTable += [[vidKey, avgWristPValPower]]\n",
    "            \n",
    "            # 3. If hist is shitty, pick this video: \n",
    "            if np.abs(avgWristPValPower) > q:\n",
    "                deeplabcut.extract_outlier_frames(project_config_path, [vidPath], outlieralgorithm='uncertain',epsilon=100 , p_bound=0.2, automatic=True)"
   ]
  },
  {
   "cell_type": "code",
   "execution_count": 95,
   "metadata": {},
   "outputs": [
    {
     "name": "stdout",
     "output_type": "stream",
     "text": [
      "0.16002344069833624\n"
     ]
    }
   ],
   "source": [
    "rezDF = pd.DataFrame(rezTable, columns=[\"VidName\", \"PValPow\"])\n",
    "absPow = np.abs(rezDF[\"PValPow\"])\n",
    "\n",
    "nVidWant = 350\n",
    "nVidHave = len(absPow)\n",
    "q = np.quantile(absPow, 1 - nVidWant / nVidHave)\n",
    "\n",
    "plt.figure(figsize=(10,10))\n",
    "plt.hist(absPow, bins='auto')\n",
    "plt.axvline(x = q, color='r')\n",
    "plt.xscale('log')\n",
    "plt.yscale('log')\n",
    "plt.show()\n",
    "\n",
    "print(q)"
   ]
  },
  {
   "cell_type": "code",
   "execution_count": null,
   "metadata": {},
   "outputs": [],
   "source": []
  }
 ],
 "metadata": {
  "kernelspec": {
   "display_name": "DLC Env",
   "language": "python",
   "name": "dlc-windowscpu"
  },
  "language_info": {
   "codemirror_mode": {
    "name": "ipython",
    "version": 3
   },
   "file_extension": ".py",
   "mimetype": "text/x-python",
   "name": "python",
   "nbconvert_exporter": "python",
   "pygments_lexer": "ipython3",
   "version": "3.6.10"
  }
 },
 "nbformat": 4,
 "nbformat_minor": 2
}
