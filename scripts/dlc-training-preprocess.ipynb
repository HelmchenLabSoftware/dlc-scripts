{
 "cells": [
  {
   "cell_type": "markdown",
   "metadata": {},
   "source": [
    "# DLC Training Preprocess\n",
    "\n",
    "**Plan:**\n",
    "1. Select videos for training\n",
    "2. Automatically extract some frames\n",
    "3. Manually label frames\n",
    "4. Check manual labeling (and correct it, if necessary)\n",
    "5. Create training set\n",
    "\n",
    "**After this notebook finishes:**\n",
    "1. Copy new project directory to server\n",
    "2. Run training and evaluation on the server\n",
    "3. Copy new project directory back from server, replacing current\n",
    "4. Proceed to postprocess notebook"
   ]
  },
  {
   "cell_type": "code",
   "execution_count": 1,
   "metadata": {
    "colab": {},
    "colab_type": "code",
    "collapsed": true,
    "id": "jqLZhp7EoEI0"
   },
   "outputs": [],
   "source": [
    "%matplotlib inline\n",
    "\n",
    "import deeplabcut\n",
    "\n",
    "from lib.qt_wrapper import gui_fname, gui_fnames, gui_fpath"
   ]
  },
  {
   "cell_type": "code",
   "execution_count": 2,
   "metadata": {
    "colab": {},
    "colab_type": "code",
    "id": "c9DjG55FoEI7"
   },
   "outputs": [
    {
     "name": "stdout",
     "output_type": "stream",
     "text": [
      "Adding more videos\n",
      "Currently using videos: ['/media/aleksejs/DataHDD/work/data/Pia/Tracking20181022_compressed/2018.10.22_18_01_56.avi']\n",
      "Add more videos? (y/n) :n\n",
      "Created \"/media/aleksejs/DataHDD/work/codes/image-analysis/behavioural/dlc-scripts/results/test1/Tracking-Pia-2019-03-19/videos\"\n",
      "Created \"/media/aleksejs/DataHDD/work/codes/image-analysis/behavioural/dlc-scripts/results/test1/Tracking-Pia-2019-03-19/labeled-data\"\n",
      "Created \"/media/aleksejs/DataHDD/work/codes/image-analysis/behavioural/dlc-scripts/results/test1/Tracking-Pia-2019-03-19/training-datasets\"\n",
      "Created \"/media/aleksejs/DataHDD/work/codes/image-analysis/behavioural/dlc-scripts/results/test1/Tracking-Pia-2019-03-19/dlc-models\"\n",
      "Creating the symbolic link of the video\n",
      "Created the symlink of /media/aleksejs/DataHDD/work/data/Pia/Tracking20181022_compressed/2018.10.22_18_01_56.avi to /media/aleksejs/DataHDD/work/codes/image-analysis/behavioural/dlc-scripts/results/test1/Tracking-Pia-2019-03-19/videos/2018.10.22_18_01_56.avi\n",
      "/media/aleksejs/DataHDD/work/codes/image-analysis/behavioural/dlc-scripts/results/test1/Tracking-Pia-2019-03-19/videos/2018.10.22_18_01_56.avi\n",
      "Generated \"/media/aleksejs/DataHDD/work/codes/image-analysis/behavioural/dlc-scripts/results/test1/Tracking-Pia-2019-03-19/config.yaml\"\n",
      "\n",
      "A new project with name Tracking-Pia-2019-03-19 is created at /media/aleksejs/DataHDD/work/codes/image-analysis/behavioural/dlc-scripts/results/test1 and a configurable file (config.yaml) is stored there. Change the parameters in this file to adapt to your project's needs.\n",
      " Once you have changed the configuration file, use the function 'extract_frames' to select frames for labeling.\n",
      ". [OPTIONAL] Use the function 'add_new_videos' to add new videos to your project (at any stage).\n"
     ]
    }
   ],
   "source": [
    "# USER: Enter task parameters\n",
    "task='Tracking'     # Enter the name of your experiment Task\n",
    "experimenter='Pia'  # Enter the name of the experimenter\n",
    "\n",
    "# GUI: Select working directory\n",
    "pwd_workdir = gui_fpath(\"Select new project directory...\", \"./\")\n",
    "\n",
    "# GUI: Select videos for training\n",
    "pwd_videos = []\n",
    "add_videos_done = False\n",
    "while not add_videos_done:\n",
    "    print(\"Adding more videos\")\n",
    "    pwd_videos += gui_fnames(\"Select original video files...\", \"./\", \"Video Files (*.avi)\")\n",
    "    print(\"Currently using videos:\", pwd_videos)\n",
    "    add_videos_done = input(\"Add more videos? (y/n) :\") != \"y\"\n",
    "\n",
    "# DEEPLABCUT: Create new project\n",
    "path_config_file = deeplabcut.create_new_project(task,experimenter,pwd_videos, working_directory=pwd_workdir, copy_videos=False)"
   ]
  },
  {
   "cell_type": "markdown",
   "metadata": {},
   "source": [
    "## Extract Frames from video"
   ]
  },
  {
   "cell_type": "code",
   "execution_count": 3,
   "metadata": {},
   "outputs": [
    {
     "name": "stderr",
     "output_type": "stream",
     "text": [
      "/opt/anaconda3/envs/dlc/lib/python3.6/site-packages/deeplabcut/generate_training_dataset/frame_extraction.py:100: YAMLLoadWarning: calling yaml.load() without Loader=... is deprecated, as the default Loader is unsafe. Please read https://msg.pyyaml.org/load for full details.\n",
      "  cfg = yaml.load(ymlfile)\n"
     ]
    },
    {
     "name": "stdout",
     "output_type": "stream",
     "text": [
      "Config file read successfully.\n",
      "Do you want to extract (perhaps additional) frames for video: /media/aleksejs/DataHDD/work/data/Pia/Tracking20181022_compressed/2018.10.22_18_01_56.avi ?\n",
      "yes/noyes\n"
     ]
    },
    {
     "name": "stderr",
     "output_type": "stream",
     "text": [
      "39it [00:00, 383.64it/s]"
     ]
    },
    {
     "name": "stdout",
     "output_type": "stream",
     "text": [
      "Extracting frames based on kmeans ...\n",
      "Kmeans-quantization based extracting of frames from 0.0  seconds to 27.0  seconds.\n",
      "Extracting and downsampling... 5400  frames from the video.\n"
     ]
    },
    {
     "name": "stderr",
     "output_type": "stream",
     "text": [
      "5400it [00:11, 463.02it/s]\n"
     ]
    },
    {
     "name": "stdout",
     "output_type": "stream",
     "text": [
      "Kmeans clustering ... (this might take a while)\n",
      "\n",
      "Frames were selected.\n",
      "You can now label the frames using the function 'label_frames' (if you extracted enough frames for all videos).\n"
     ]
    }
   ],
   "source": [
    "deeplabcut.extract_frames(path_config_file, 'automatic', 'kmeans', crop=False)"
   ]
  },
  {
   "cell_type": "markdown",
   "metadata": {
    "colab_type": "text",
    "id": "Gjn6ZDonoEJH"
   },
   "source": [
    "## Label the extracted frames"
   ]
  },
  {
   "cell_type": "code",
   "execution_count": 4,
   "metadata": {
    "colab": {},
    "colab_type": "code",
    "id": "iyROSOiEoEJI"
   },
   "outputs": [
    {
     "name": "stdout",
     "output_type": "stream",
     "text": [
      "You can now check the labels, using 'check_labels' before proceeding. Then, you can use the function 'create_training_dataset' to create the training dataset.\n"
     ]
    }
   ],
   "source": [
    "%gui wx\n",
    "deeplabcut.label_frames(path_config_file)"
   ]
  },
  {
   "cell_type": "markdown",
   "metadata": {
    "colab_type": "text",
    "id": "vim95ZvkPSeN"
   },
   "source": [
    "## Check the labels"
   ]
  },
  {
   "cell_type": "code",
   "execution_count": 5,
   "metadata": {
    "colab": {},
    "colab_type": "code",
    "id": "NwvgPJouPP2O"
   },
   "outputs": [
    {
     "name": "stdout",
     "output_type": "stream",
     "text": [
      "Creating images with labels by Pia.\n",
      "They are stored in the following folder: /media/aleksejs/DataHDD/work/codes/image-analysis/behavioural/dlc-scripts/results/test1/Tracking-Pia-2019-03-19/labeled-data/2018.10.22_18_01_56_labeled.\n",
      "If all the labels are ok, then use the function 'create_training_dataset' to create the training dataset!\n"
     ]
    }
   ],
   "source": [
    "deeplabcut.check_labels(path_config_file) #this creates a subdirectory with the frames + your labels"
   ]
  },
  {
   "cell_type": "markdown",
   "metadata": {
    "colab_type": "text",
    "id": "8ib0uvhaoEJx"
   },
   "source": [
    "## Refine Labels [only if original labels are wrong]"
   ]
  },
  {
   "cell_type": "code",
   "execution_count": 0,
   "metadata": {
    "colab": {},
    "colab_type": "code",
    "collapsed": true,
    "id": "n_FpEXtyoEJy"
   },
   "outputs": [],
   "source": [
    "%gui wx\n",
    "deeplabcut.refine_labels(path_config_file)\n",
    "\n",
    "#Once all folders are relabeled, check them and advance. See how to check labels, above!\n",
    "deeplabcut.merge_datasets(path_config_file)"
   ]
  }
 ],
 "metadata": {
  "accelerator": "GPU",
  "colab": {
   "name": "Demo-yourowndata.ipynb",
   "provenance": [],
   "version": "0.3.2"
  },
  "kernelspec": {
   "display_name": "dlc-kernel",
   "language": "python",
   "name": "dlc"
  },
  "language_info": {
   "codemirror_mode": {
    "name": "ipython",
    "version": 3
   },
   "file_extension": ".py",
   "mimetype": "text/x-python",
   "name": "python",
   "nbconvert_exporter": "python",
   "pygments_lexer": "ipython3",
   "version": "3.6.8"
  },
  "varInspector": {
   "cols": {
    "lenName": 16,
    "lenType": 16,
    "lenVar": 40
   },
   "kernels_config": {
    "python": {
     "delete_cmd_postfix": "",
     "delete_cmd_prefix": "del ",
     "library": "var_list.py",
     "varRefreshCmd": "print(var_dic_list())"
    },
    "r": {
     "delete_cmd_postfix": ") ",
     "delete_cmd_prefix": "rm(",
     "library": "var_list.r",
     "varRefreshCmd": "cat(var_dic_list()) "
    }
   },
   "types_to_exclude": [
    "module",
    "function",
    "builtin_function_or_method",
    "instance",
    "_Feature"
   ],
   "window_display": false
  }
 },
 "nbformat": 4,
 "nbformat_minor": 1
}
