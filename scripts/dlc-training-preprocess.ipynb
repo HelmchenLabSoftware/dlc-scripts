{
 "cells": [
  {
   "cell_type": "markdown",
   "metadata": {},
   "source": [
    "# DLC Training Preprocess\n",
    "\n",
    "**Plan:**\n",
    "1. Select videos for training\n",
    "2. Automatically extract some frames\n",
    "3. Manually label frames\n",
    "4. Check manual labeling (and correct it, if necessary)\n",
    "5. Create training set\n",
    "\n",
    "**After this notebook finishes:**\n",
    "1. Copy new project directory to server\n",
    "2. Run training and evaluation on the server\n",
    "3. Copy new project directory back from server, replacing current\n",
    "4. Proceed to postprocess notebook"
   ]
  },
  {
   "cell_type": "code",
   "execution_count": 1,
   "metadata": {
    "colab": {},
    "colab_type": "code",
    "collapsed": true,
    "id": "jqLZhp7EoEI0"
   },
   "outputs": [],
   "source": [
    "%matplotlib inline\n",
    "\n",
    "import deeplabcut\n",
    "\n",
    "from lib.qt_wrapper import gui_fname, gui_fnames, gui_fpath"
   ]
  },
  {
   "cell_type": "code",
   "execution_count": 4,
   "metadata": {
    "colab": {},
    "colab_type": "code",
    "id": "c9DjG55FoEI7"
   },
   "outputs": [
    {
     "name": "stdout",
     "output_type": "stream",
     "text": [
      "Created \"/media/aleksejs/DataHDD/work/codes/image-analysis/behavioural/DeepLabCut/examples/superlol/Tracking-Pia-2019-03-18/videos\"\n",
      "Created \"/media/aleksejs/DataHDD/work/codes/image-analysis/behavioural/DeepLabCut/examples/superlol/Tracking-Pia-2019-03-18/labeled-data\"\n",
      "Created \"/media/aleksejs/DataHDD/work/codes/image-analysis/behavioural/DeepLabCut/examples/superlol/Tracking-Pia-2019-03-18/training-datasets\"\n",
      "Created \"/media/aleksejs/DataHDD/work/codes/image-analysis/behavioural/DeepLabCut/examples/superlol/Tracking-Pia-2019-03-18/dlc-models\"\n",
      "Creating the symbolic link of the video\n",
      "Created the symlink of /media/aleksejs/DataHDD/work/codes/image-analysis/behavioural/DeepLabCut/examples/Reaching-Mackenzie-2018-08-30/videos/reachingvideo1.avi to /media/aleksejs/DataHDD/work/codes/image-analysis/behavioural/DeepLabCut/examples/superlol/Tracking-Pia-2019-03-18/videos/reachingvideo1.avi\n",
      "/media/aleksejs/DataHDD/work/codes/image-analysis/behavioural/DeepLabCut/examples/superlol/Tracking-Pia-2019-03-18/videos/reachingvideo1.avi\n",
      "Generated \"/media/aleksejs/DataHDD/work/codes/image-analysis/behavioural/DeepLabCut/examples/superlol/Tracking-Pia-2019-03-18/config.yaml\"\n",
      "\n",
      "A new project with name Tracking-Pia-2019-03-18 is created at /media/aleksejs/DataHDD/work/codes/image-analysis/behavioural/DeepLabCut/examples/superlol and a configurable file (config.yaml) is stored there. Change the parameters in this file to adapt to your project's needs.\n",
      " Once you have changed the configuration file, use the function 'extract_frames' to select frames for labeling.\n",
      ". [OPTIONAL] Use the function 'add_new_videos' to add new videos to your project (at any stage).\n"
     ]
    }
   ],
   "source": [
    "task='Tracking' # Enter the name of your experiment Task\n",
    "experimenter='Pia' # Enter the name of the experimenter\n",
    "pwd_workdir = gui_fpath(\"Select new project directory...\", \"./\")\n",
    "pwd_videos  = gui_fnames(\"Select original video files...\", \"./\", \"Video Files (*.avi)\")\n",
    "\n",
    "path_config_file = deeplabcut.create_new_project(task,experimenter,pwd_videos, working_directory=pwd_workdir, copy_videos=False)"
   ]
  },
  {
   "cell_type": "markdown",
   "metadata": {},
   "source": [
    "## Extract Frames from video"
   ]
  },
  {
   "cell_type": "code",
   "execution_count": null,
   "metadata": {
    "collapsed": true
   },
   "outputs": [],
   "source": [
    "deeplabcut.extract_frames(path_config_file, 'automatic', 'kmeans', crop=False)"
   ]
  },
  {
   "cell_type": "markdown",
   "metadata": {
    "colab_type": "text",
    "id": "Gjn6ZDonoEJH"
   },
   "source": [
    "## Label the extracted frames"
   ]
  },
  {
   "cell_type": "code",
   "execution_count": 7,
   "metadata": {
    "colab": {},
    "colab_type": "code",
    "id": "iyROSOiEoEJI"
   },
   "outputs": [
    {
     "name": "stdout",
     "output_type": "stream",
     "text": [
      "You can now check the labels, using 'check_labels' before proceeding. Then, you can use the function 'create_training_dataset' to create the training dataset.\n"
     ]
    }
   ],
   "source": [
    "%gui wx\n",
    "deeplabcut.label_frames(path_config_file)"
   ]
  },
  {
   "cell_type": "markdown",
   "metadata": {
    "colab_type": "text",
    "id": "vim95ZvkPSeN"
   },
   "source": [
    "## Check the labels"
   ]
  },
  {
   "cell_type": "code",
   "execution_count": 8,
   "metadata": {
    "colab": {},
    "colab_type": "code",
    "id": "NwvgPJouPP2O"
   },
   "outputs": [
    {
     "name": "stdout",
     "output_type": "stream",
     "text": [
      "Creating images with labels by Mackenzie.\n",
      "They are stored in the following folder: /media/aleksejs/DataHDD/work/codes/image-analysis/behavioural/DeepLabCut/examples/mylol/Reaching-Mackenzie-2019-03-18/labeled-data/reachingvideo1_labeled.\n",
      "If all the labels are ok, then use the function 'create_training_dataset' to create the training dataset!\n"
     ]
    }
   ],
   "source": [
    "deeplabcut.check_labels(path_config_file) #this creates a subdirectory with the frames + your labels"
   ]
  },
  {
   "cell_type": "markdown",
   "metadata": {
    "colab_type": "text",
    "id": "8ib0uvhaoEJx"
   },
   "source": [
    "## Refine Labels [only if original labels are wrong]"
   ]
  },
  {
   "cell_type": "code",
   "execution_count": 0,
   "metadata": {
    "colab": {},
    "colab_type": "code",
    "collapsed": true,
    "id": "n_FpEXtyoEJy"
   },
   "outputs": [],
   "source": [
    "%gui wx\n",
    "deeplabcut.refine_labels(path_config_file)\n",
    "\n",
    "#Once all folders are relabeled, check them and advance. See how to check labels, above!\n",
    "deeplabcut.merge_datasets(path_config_file)"
   ]
  },
  {
   "cell_type": "markdown",
   "metadata": {
    "colab_type": "text",
    "id": "xNi9s1dboEJN"
   },
   "source": [
    "## Create a training dataset"
   ]
  },
  {
   "cell_type": "code",
   "execution_count": 0,
   "metadata": {
    "colab": {},
    "colab_type": "code",
    "collapsed": true,
    "id": "eMeUwgxPoEJP",
    "scrolled": true
   },
   "outputs": [],
   "source": [
    "deeplabcut.create_training_dataset(path_config_file)"
   ]
  }
 ],
 "metadata": {
  "accelerator": "GPU",
  "colab": {
   "name": "Demo-yourowndata.ipynb",
   "provenance": [],
   "version": "0.3.2"
  },
  "kernelspec": {
   "display_name": "dlc-kernel",
   "language": "python",
   "name": "dlc"
  },
  "language_info": {
   "codemirror_mode": {
    "name": "ipython",
    "version": 3
   },
   "file_extension": ".py",
   "mimetype": "text/x-python",
   "name": "python",
   "nbconvert_exporter": "python",
   "pygments_lexer": "ipython3",
   "version": "3.6.8"
  },
  "varInspector": {
   "cols": {
    "lenName": 16,
    "lenType": 16,
    "lenVar": 40
   },
   "kernels_config": {
    "python": {
     "delete_cmd_postfix": "",
     "delete_cmd_prefix": "del ",
     "library": "var_list.py",
     "varRefreshCmd": "print(var_dic_list())"
    },
    "r": {
     "delete_cmd_postfix": ") ",
     "delete_cmd_prefix": "rm(",
     "library": "var_list.r",
     "varRefreshCmd": "cat(var_dic_list()) "
    }
   },
   "types_to_exclude": [
    "module",
    "function",
    "builtin_function_or_method",
    "instance",
    "_Feature"
   ],
   "window_display": false
  }
 },
 "nbformat": 4,
 "nbformat_minor": 1
}
