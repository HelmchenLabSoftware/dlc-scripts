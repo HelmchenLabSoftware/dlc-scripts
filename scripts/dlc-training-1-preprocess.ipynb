{
 "cells": [
  {
   "cell_type": "markdown",
   "metadata": {},
   "source": [
    "# DLC Training Preprocess\n",
    "\n",
    "**Plan:**\n",
    "1. Select videos for training\n",
    "2. Automatically extract some frames\n",
    "3. Manually label frames\n",
    "4. Check manual labeling (and correct it, if necessary)\n",
    "5. Create training set\n",
    "\n",
    "**After this notebook finishes:**\n",
    "1. Copy new project directory to server\n",
    "2. Run training and evaluation on the server\n",
    "3. Copy new project directory back from server, replacing current\n",
    "4. Proceed to postprocess notebook"
   ]
  },
  {
   "cell_type": "code",
   "execution_count": 1,
   "metadata": {
    "colab": {},
    "colab_type": "code",
    "id": "jqLZhp7EoEI0"
   },
   "outputs": [],
   "source": [
    "%matplotlib inline\n",
    "\n",
    "import deeplabcut\n",
    "\n",
    "from lib.qt_wrapper import gui_fname, gui_fnames, gui_fpath"
   ]
  },
  {
   "cell_type": "code",
   "execution_count": 2,
   "metadata": {
    "colab": {},
    "colab_type": "code",
    "id": "c9DjG55FoEI7"
   },
   "outputs": [
    {
     "name": "stdout",
     "output_type": "stream",
     "text": [
      "Adding more videos\n",
      "Currently using videos: ['//hifosrdc09/Workspace/Neurophysiology-Storage2/Sipila/aaaPDDATA/ALLDATA/TRAININGvideos/2ndTrainingVideoSet/Mouse1Day2Irre_2018.10.23_08_58_51.avi', '//hifosrdc09/Workspace/Neurophysiology-Storage2/Sipila/aaaPDDATA/ALLDATA/TRAININGvideos/2ndTrainingVideoSet/Mouse1DayPost7Reg_2010.11.11_18_25_23.avi', '//hifosrdc09/Workspace/Neurophysiology-Storage2/Sipila/aaaPDDATA/ALLDATA/TRAININGvideos/2ndTrainingVideoSet/Mouse2Day1Irre_2018.10.22_10_49_16.avi', '//hifosrdc09/Workspace/Neurophysiology-Storage2/Sipila/aaaPDDATA/ALLDATA/TRAININGvideos/2ndTrainingVideoSet/Mouse2Day4Reg_2018.10.24_21_40_24.avi', '//hifosrdc09/Workspace/Neurophysiology-Storage2/Sipila/aaaPDDATA/ALLDATA/TRAININGvideos/2ndTrainingVideoSet/Mouse3Day4Reg_2018.10.24_22_41_37.avi', '//hifosrdc09/Workspace/Neurophysiology-Storage2/Sipila/aaaPDDATA/ALLDATA/TRAININGvideos/2ndTrainingVideoSet/Mouse3DayPost6Reg_2018.11.07_19_48_13.avi', '//hifosrdc09/Workspace/Neurophysiology-Storage2/Sipila/aaaPDDATA/ALLDATA/TRAININGvideos/2ndTrainingVideoSet/Mouse4Day2Reg_2018.10.22_19_25_04.avi', '//hifosrdc09/Workspace/Neurophysiology-Storage2/Sipila/aaaPDDATA/ALLDATA/TRAININGvideos/2ndTrainingVideoSet/Mouse4DayPost8Reg_2010.11.12_10_17_56.avi', '//hifosrdc09/Workspace/Neurophysiology-Storage2/Sipila/aaaPDDATA/ALLDATA/TRAININGvideos/2ndTrainingVideoSet/Mouse5Day1Irre_2018.10.21_19_57_02.avi', '//hifosrdc09/Workspace/Neurophysiology-Storage2/Sipila/aaaPDDATA/ALLDATA/TRAININGvideos/2ndTrainingVideoSet/Mouse5DayPost9Irre_2005.01.01_21_44_10.avi', '//hifosrdc09/Workspace/Neurophysiology-Storage2/Sipila/aaaPDDATA/ALLDATA/TRAININGvideos/2ndTrainingVideoSet/Mouse6Day1Reg_2018.10.21_21_37_17.avi', '//hifosrdc09/Workspace/Neurophysiology-Storage2/Sipila/aaaPDDATA/ALLDATA/TRAININGvideos/2ndTrainingVideoSet/Mouse6Day4Irre_2018.10.24_19_40_46.avi', '//hifosrdc09/Workspace/Neurophysiology-Storage2/Sipila/aaaPDDATA/ALLDATA/TRAININGvideos/2ndTrainingVideoSet/Mouse7Day3Reg_2018.10.23_13_21_45.avi', '//hifosrdc09/Workspace/Neurophysiology-Storage2/Sipila/aaaPDDATA/ALLDATA/TRAININGvideos/2ndTrainingVideoSet/Mouse7DayPost5Reg_2018.11.06_18_41_21.avi', '//hifosrdc09/Workspace/Neurophysiology-Storage2/Sipila/aaaPDDATA/ALLDATA/TRAININGvideos/2ndTrainingVideoSet/Mouse8Day3Reg_2018.10.23_14_56_14.avi', '//hifosrdc09/Workspace/Neurophysiology-Storage2/Sipila/aaaPDDATA/ALLDATA/TRAININGvideos/2ndTrainingVideoSet/Mouse8DayPost9Reg_2005.01.01_23_57_42.avi']\n",
      "Add more videos? (y/n) :n\n",
      "Created \"C:\\Users\\sipila\\work\\projects\\Tracking3rdRound-Pia-2019-06-11\\videos\"\n",
      "Created \"C:\\Users\\sipila\\work\\projects\\Tracking3rdRound-Pia-2019-06-11\\labeled-data\"\n",
      "Created \"C:\\Users\\sipila\\work\\projects\\Tracking3rdRound-Pia-2019-06-11\\training-datasets\"\n",
      "Created \"C:\\Users\\sipila\\work\\projects\\Tracking3rdRound-Pia-2019-06-11\\dlc-models\"\n",
      "Creating the symbolic link of the video\n",
      "Created the symlink of \\\\hifosrdc09\\Workspace\\Neurophysiology-Storage2\\Sipila\\aaaPDDATA\\ALLDATA\\TRAININGvideos\\2ndTrainingVideoSet\\Mouse1Day2Irre_2018.10.23_08_58_51.avi to C:\\Users\\sipila\\work\\projects\\Tracking3rdRound-Pia-2019-06-11\\videos\\Mouse1Day2Irre_2018.10.23_08_58_51.avi\n",
      "Created the symlink of \\\\hifosrdc09\\Workspace\\Neurophysiology-Storage2\\Sipila\\aaaPDDATA\\ALLDATA\\TRAININGvideos\\2ndTrainingVideoSet\\Mouse1DayPost7Reg_2010.11.11_18_25_23.avi to C:\\Users\\sipila\\work\\projects\\Tracking3rdRound-Pia-2019-06-11\\videos\\Mouse1DayPost7Reg_2010.11.11_18_25_23.avi\n",
      "Created the symlink of \\\\hifosrdc09\\Workspace\\Neurophysiology-Storage2\\Sipila\\aaaPDDATA\\ALLDATA\\TRAININGvideos\\2ndTrainingVideoSet\\Mouse2Day1Irre_2018.10.22_10_49_16.avi to C:\\Users\\sipila\\work\\projects\\Tracking3rdRound-Pia-2019-06-11\\videos\\Mouse2Day1Irre_2018.10.22_10_49_16.avi\n",
      "Created the symlink of \\\\hifosrdc09\\Workspace\\Neurophysiology-Storage2\\Sipila\\aaaPDDATA\\ALLDATA\\TRAININGvideos\\2ndTrainingVideoSet\\Mouse2Day4Reg_2018.10.24_21_40_24.avi to C:\\Users\\sipila\\work\\projects\\Tracking3rdRound-Pia-2019-06-11\\videos\\Mouse2Day4Reg_2018.10.24_21_40_24.avi\n",
      "Created the symlink of \\\\hifosrdc09\\Workspace\\Neurophysiology-Storage2\\Sipila\\aaaPDDATA\\ALLDATA\\TRAININGvideos\\2ndTrainingVideoSet\\Mouse3Day4Reg_2018.10.24_22_41_37.avi to C:\\Users\\sipila\\work\\projects\\Tracking3rdRound-Pia-2019-06-11\\videos\\Mouse3Day4Reg_2018.10.24_22_41_37.avi\n",
      "Created the symlink of \\\\hifosrdc09\\Workspace\\Neurophysiology-Storage2\\Sipila\\aaaPDDATA\\ALLDATA\\TRAININGvideos\\2ndTrainingVideoSet\\Mouse3DayPost6Reg_2018.11.07_19_48_13.avi to C:\\Users\\sipila\\work\\projects\\Tracking3rdRound-Pia-2019-06-11\\videos\\Mouse3DayPost6Reg_2018.11.07_19_48_13.avi\n",
      "Created the symlink of \\\\hifosrdc09\\Workspace\\Neurophysiology-Storage2\\Sipila\\aaaPDDATA\\ALLDATA\\TRAININGvideos\\2ndTrainingVideoSet\\Mouse4Day2Reg_2018.10.22_19_25_04.avi to C:\\Users\\sipila\\work\\projects\\Tracking3rdRound-Pia-2019-06-11\\videos\\Mouse4Day2Reg_2018.10.22_19_25_04.avi\n",
      "Created the symlink of \\\\hifosrdc09\\Workspace\\Neurophysiology-Storage2\\Sipila\\aaaPDDATA\\ALLDATA\\TRAININGvideos\\2ndTrainingVideoSet\\Mouse4DayPost8Reg_2010.11.12_10_17_56.avi to C:\\Users\\sipila\\work\\projects\\Tracking3rdRound-Pia-2019-06-11\\videos\\Mouse4DayPost8Reg_2010.11.12_10_17_56.avi\n",
      "Created the symlink of \\\\hifosrdc09\\Workspace\\Neurophysiology-Storage2\\Sipila\\aaaPDDATA\\ALLDATA\\TRAININGvideos\\2ndTrainingVideoSet\\Mouse5Day1Irre_2018.10.21_19_57_02.avi to C:\\Users\\sipila\\work\\projects\\Tracking3rdRound-Pia-2019-06-11\\videos\\Mouse5Day1Irre_2018.10.21_19_57_02.avi\n",
      "Created the symlink of \\\\hifosrdc09\\Workspace\\Neurophysiology-Storage2\\Sipila\\aaaPDDATA\\ALLDATA\\TRAININGvideos\\2ndTrainingVideoSet\\Mouse5DayPost9Irre_2005.01.01_21_44_10.avi to C:\\Users\\sipila\\work\\projects\\Tracking3rdRound-Pia-2019-06-11\\videos\\Mouse5DayPost9Irre_2005.01.01_21_44_10.avi\n",
      "Created the symlink of \\\\hifosrdc09\\Workspace\\Neurophysiology-Storage2\\Sipila\\aaaPDDATA\\ALLDATA\\TRAININGvideos\\2ndTrainingVideoSet\\Mouse6Day1Reg_2018.10.21_21_37_17.avi to C:\\Users\\sipila\\work\\projects\\Tracking3rdRound-Pia-2019-06-11\\videos\\Mouse6Day1Reg_2018.10.21_21_37_17.avi\n",
      "Created the symlink of \\\\hifosrdc09\\Workspace\\Neurophysiology-Storage2\\Sipila\\aaaPDDATA\\ALLDATA\\TRAININGvideos\\2ndTrainingVideoSet\\Mouse6Day4Irre_2018.10.24_19_40_46.avi to C:\\Users\\sipila\\work\\projects\\Tracking3rdRound-Pia-2019-06-11\\videos\\Mouse6Day4Irre_2018.10.24_19_40_46.avi\n",
      "Created the symlink of \\\\hifosrdc09\\Workspace\\Neurophysiology-Storage2\\Sipila\\aaaPDDATA\\ALLDATA\\TRAININGvideos\\2ndTrainingVideoSet\\Mouse7Day3Reg_2018.10.23_13_21_45.avi to C:\\Users\\sipila\\work\\projects\\Tracking3rdRound-Pia-2019-06-11\\videos\\Mouse7Day3Reg_2018.10.23_13_21_45.avi\n",
      "Created the symlink of \\\\hifosrdc09\\Workspace\\Neurophysiology-Storage2\\Sipila\\aaaPDDATA\\ALLDATA\\TRAININGvideos\\2ndTrainingVideoSet\\Mouse7DayPost5Reg_2018.11.06_18_41_21.avi to C:\\Users\\sipila\\work\\projects\\Tracking3rdRound-Pia-2019-06-11\\videos\\Mouse7DayPost5Reg_2018.11.06_18_41_21.avi\n",
      "Created the symlink of \\\\hifosrdc09\\Workspace\\Neurophysiology-Storage2\\Sipila\\aaaPDDATA\\ALLDATA\\TRAININGvideos\\2ndTrainingVideoSet\\Mouse8Day3Reg_2018.10.23_14_56_14.avi to C:\\Users\\sipila\\work\\projects\\Tracking3rdRound-Pia-2019-06-11\\videos\\Mouse8Day3Reg_2018.10.23_14_56_14.avi\n",
      "Created the symlink of \\\\hifosrdc09\\Workspace\\Neurophysiology-Storage2\\Sipila\\aaaPDDATA\\ALLDATA\\TRAININGvideos\\2ndTrainingVideoSet\\Mouse8DayPost9Reg_2005.01.01_23_57_42.avi to C:\\Users\\sipila\\work\\projects\\Tracking3rdRound-Pia-2019-06-11\\videos\\Mouse8DayPost9Reg_2005.01.01_23_57_42.avi\n",
      "C:\\Users\\sipila\\work\\projects\\Tracking3rdRound-Pia-2019-06-11\\videos\\Mouse1Day2Irre_2018.10.23_08_58_51.avi\n",
      "C:\\Users\\sipila\\work\\projects\\Tracking3rdRound-Pia-2019-06-11\\videos\\Mouse1DayPost7Reg_2010.11.11_18_25_23.avi\n",
      "C:\\Users\\sipila\\work\\projects\\Tracking3rdRound-Pia-2019-06-11\\videos\\Mouse2Day1Irre_2018.10.22_10_49_16.avi\n",
      "C:\\Users\\sipila\\work\\projects\\Tracking3rdRound-Pia-2019-06-11\\videos\\Mouse2Day4Reg_2018.10.24_21_40_24.avi\n",
      "C:\\Users\\sipila\\work\\projects\\Tracking3rdRound-Pia-2019-06-11\\videos\\Mouse3Day4Reg_2018.10.24_22_41_37.avi\n",
      "C:\\Users\\sipila\\work\\projects\\Tracking3rdRound-Pia-2019-06-11\\videos\\Mouse3DayPost6Reg_2018.11.07_19_48_13.avi\n",
      "C:\\Users\\sipila\\work\\projects\\Tracking3rdRound-Pia-2019-06-11\\videos\\Mouse4Day2Reg_2018.10.22_19_25_04.avi\n"
     ]
    },
    {
     "name": "stdout",
     "output_type": "stream",
     "text": [
      "C:\\Users\\sipila\\work\\projects\\Tracking3rdRound-Pia-2019-06-11\\videos\\Mouse4DayPost8Reg_2010.11.12_10_17_56.avi\n",
      "C:\\Users\\sipila\\work\\projects\\Tracking3rdRound-Pia-2019-06-11\\videos\\Mouse5Day1Irre_2018.10.21_19_57_02.avi\n",
      "C:\\Users\\sipila\\work\\projects\\Tracking3rdRound-Pia-2019-06-11\\videos\\Mouse5DayPost9Irre_2005.01.01_21_44_10.avi\n",
      "C:\\Users\\sipila\\work\\projects\\Tracking3rdRound-Pia-2019-06-11\\videos\\Mouse6Day1Reg_2018.10.21_21_37_17.avi\n",
      "C:\\Users\\sipila\\work\\projects\\Tracking3rdRound-Pia-2019-06-11\\videos\\Mouse6Day4Irre_2018.10.24_19_40_46.avi\n",
      "C:\\Users\\sipila\\work\\projects\\Tracking3rdRound-Pia-2019-06-11\\videos\\Mouse7Day3Reg_2018.10.23_13_21_45.avi\n",
      "C:\\Users\\sipila\\work\\projects\\Tracking3rdRound-Pia-2019-06-11\\videos\\Mouse7DayPost5Reg_2018.11.06_18_41_21.avi\n",
      "C:\\Users\\sipila\\work\\projects\\Tracking3rdRound-Pia-2019-06-11\\videos\\Mouse8Day3Reg_2018.10.23_14_56_14.avi\n",
      "C:\\Users\\sipila\\work\\projects\\Tracking3rdRound-Pia-2019-06-11\\videos\\Mouse8DayPost9Reg_2005.01.01_23_57_42.avi\n",
      "Generated \"C:\\Users\\sipila\\work\\projects\\Tracking3rdRound-Pia-2019-06-11\\config.yaml\"\n",
      "\n",
      "A new project with name Tracking3rdRound-Pia-2019-06-11 is created at C:\\Users\\sipila\\work\\projects and a configurable file (config.yaml) is stored there. Change the parameters in this file to adapt to your project's needs.\n",
      " Once you have changed the configuration file, use the function 'extract_frames' to select frames for labeling.\n",
      ". [OPTIONAL] Use the function 'add_new_videos' to add new videos to your project (at any stage).\n"
     ]
    }
   ],
   "source": [
    "# USER: Enter task parameters\n",
    "task='Tracking3rdRound'     # Enter the name of your experiment Task\n",
    "experimenter='Pia'  # Enter the name of the experimenter\n",
    "\n",
    "# GUI: Select working directory\n",
    "pwd_workdir = gui_fpath(\"Select new project directory...\", \"./\")\n",
    "\n",
    "# GUI: Select videos for training\n",
    "pwd_videos = []\n",
    "add_videos_done = False\n",
    "while not add_videos_done:\n",
    "    print(\"Adding more videos\")\n",
    "    pwd_videos += gui_fnames(\"Select original video files...\", \"./\", \"Video Files (*.avi)\")\n",
    "    print(\"Currently using videos:\", pwd_videos)\n",
    "    add_videos_done = input(\"Add more videos? (y/n) :\") != \"y\"\n",
    "\n",
    "# DEEPLABCUT: Create new project\n",
    "path_config_file = deeplabcut.create_new_project(task,experimenter,pwd_videos, working_directory=pwd_workdir, copy_videos=False)"
   ]
  },
  {
   "cell_type": "markdown",
   "metadata": {},
   "source": [
    "<font color='red' size='22'>\n",
    "Now edit config.yaml by hand if necessary - change body part names and number of frames to pick\n",
    "</font>"
   ]
  },
  {
   "cell_type": "markdown",
   "metadata": {},
   "source": [
    "## Extract Frames from video"
   ]
  },
  {
   "cell_type": "code",
   "execution_count": null,
   "metadata": {},
   "outputs": [
    {
     "name": "stderr",
     "output_type": "stream",
     "text": [
      "c:\\anaconda3\\envs\\dlc\\lib\\site-packages\\deeplabcut\\generate_training_dataset\\frame_extraction.py:100: YAMLLoadWarning: calling yaml.load() without Loader=... is deprecated, as the default Loader is unsafe. Please read https://msg.pyyaml.org/load for full details.\n",
      "  cfg = yaml.load(ymlfile)\n"
     ]
    },
    {
     "name": "stdout",
     "output_type": "stream",
     "text": [
      "Config file read successfully.\n",
      "Do you want to extract (perhaps additional) frames for video: C:\\Users\\sipila\\work\\projects\\Tracking3rdRound-Pia-2019-06-11\\videos\\Mouse1Day2Irre_2018.10.23_08_58_51.avi ?\n",
      "yes/noy\n",
      "Extracting frames based on kmeans ...\n",
      "Kmeans-quantization based extracting of frames from 0.0  seconds to 27.3  seconds.\n",
      "Extracting and downsampling... 5459  frames from the video.\n"
     ]
    },
    {
     "name": "stderr",
     "output_type": "stream",
     "text": [
      "5459it [00:20, 264.52it/s]\n"
     ]
    },
    {
     "name": "stdout",
     "output_type": "stream",
     "text": [
      "Kmeans clustering ... (this might take a while)\n",
      "Do you want to extract (perhaps additional) frames for video: C:\\Users\\sipila\\work\\projects\\Tracking3rdRound-Pia-2019-06-11\\videos\\Mouse1DayPost7Reg_2010.11.11_18_25_23.avi ?\n",
      "yes/noy\n",
      "Extracting frames based on kmeans ...\n",
      "Kmeans-quantization based extracting of frames from 0.0  seconds to 26.5  seconds.\n",
      "Extracting and downsampling... 5301  frames from the video.\n"
     ]
    },
    {
     "name": "stderr",
     "output_type": "stream",
     "text": [
      "5301it [00:19, 267.35it/s]\n"
     ]
    },
    {
     "name": "stdout",
     "output_type": "stream",
     "text": [
      "Kmeans clustering ... (this might take a while)\n",
      "Do you want to extract (perhaps additional) frames for video: C:\\Users\\sipila\\work\\projects\\Tracking3rdRound-Pia-2019-06-11\\videos\\Mouse2Day1Irre_2018.10.22_10_49_16.avi ?\n",
      "yes/noy\n",
      "Extracting frames based on kmeans ...\n",
      "Kmeans-quantization based extracting of frames from 0.0  seconds to 29.03  seconds.\n",
      "Extracting and downsampling... 5806  frames from the video.\n"
     ]
    },
    {
     "name": "stderr",
     "output_type": "stream",
     "text": [
      "5806it [00:18, 320.12it/s]\n"
     ]
    },
    {
     "name": "stdout",
     "output_type": "stream",
     "text": [
      "Kmeans clustering ... (this might take a while)\n",
      "Do you want to extract (perhaps additional) frames for video: C:\\Users\\sipila\\work\\projects\\Tracking3rdRound-Pia-2019-06-11\\videos\\Mouse2Day4Reg_2018.10.24_21_40_24.avi ?\n"
     ]
    }
   ],
   "source": [
    "deeplabcut.extract_frames(path_config_file, 'automatic', 'kmeans', crop=False)"
   ]
  },
  {
   "cell_type": "markdown",
   "metadata": {
    "colab_type": "text",
    "id": "Gjn6ZDonoEJH"
   },
   "source": [
    "## Label the extracted frames"
   ]
  },
  {
   "cell_type": "code",
   "execution_count": 2,
   "metadata": {},
   "outputs": [],
   "source": [
    "# Temporary\n",
    "path_config_file = \"C:\\\\Users\\\\sipila\\\\work\\\\projects\\\\Tracking2ndRound-Pia-2019-06-05\\\\config.yaml\""
   ]
  },
  {
   "cell_type": "code",
   "execution_count": null,
   "metadata": {
    "colab": {},
    "colab_type": "code",
    "id": "iyROSOiEoEJI"
   },
   "outputs": [
    {
     "name": "stdout",
     "output_type": "stream",
     "text": [
      "You can now check the labels, using 'check_labels' before proceeding. Then, you can use the function 'create_training_dataset' to create the training dataset.\n"
     ]
    }
   ],
   "source": [
    "%gui wx\n",
    "deeplabcut.label_frames(path_config_file)"
   ]
  },
  {
   "cell_type": "markdown",
   "metadata": {
    "colab_type": "text",
    "id": "vim95ZvkPSeN"
   },
   "source": [
    "## Check the labels"
   ]
  },
  {
   "cell_type": "code",
   "execution_count": 3,
   "metadata": {
    "colab": {},
    "colab_type": "code",
    "id": "NwvgPJouPP2O"
   },
   "outputs": [
    {
     "name": "stdout",
     "output_type": "stream",
     "text": [
      "Creating images with labels by Pia.\n",
      "They are stored in the following folder: C:\\Users\\sipila\\work\\projects\\Tracking2ndRound-Pia-2019-06-05\\labeled-data\\Mouse1Day2Irre_2018.10.23_08_58_51_labeled.\n",
      "They are stored in the following folder: C:\\Users\\sipila\\work\\projects\\Tracking2ndRound-Pia-2019-06-05\\labeled-data\\Mouse1DayPost7Reg_2010.11.11_18_25_23_labeled.\n",
      "They are stored in the following folder: C:\\Users\\sipila\\work\\projects\\Tracking2ndRound-Pia-2019-06-05\\labeled-data\\Mouse2Day1Irre_2018.10.22_10_49_16_labeled.\n",
      "They are stored in the following folder: C:\\Users\\sipila\\work\\projects\\Tracking2ndRound-Pia-2019-06-05\\labeled-data\\Mouse2Day4Reg_2018.10.24_21_40_24_labeled.\n",
      "They are stored in the following folder: C:\\Users\\sipila\\work\\projects\\Tracking2ndRound-Pia-2019-06-05\\labeled-data\\Mouse3Day4Reg_2018.10.24_22_41_37_labeled.\n",
      "They are stored in the following folder: C:\\Users\\sipila\\work\\projects\\Tracking2ndRound-Pia-2019-06-05\\labeled-data\\Mouse3DayPost6Reg_2018.11.07_19_48_13_labeled.\n",
      "They are stored in the following folder: C:\\Users\\sipila\\work\\projects\\Tracking2ndRound-Pia-2019-06-05\\labeled-data\\Mouse4Day2Reg_2018.10.22_19_25_04_labeled.\n",
      "They are stored in the following folder: C:\\Users\\sipila\\work\\projects\\Tracking2ndRound-Pia-2019-06-05\\labeled-data\\Mouse4DayPost8Reg_2010.11.12_10_17_56_labeled.\n",
      "They are stored in the following folder: C:\\Users\\sipila\\work\\projects\\Tracking2ndRound-Pia-2019-06-05\\labeled-data\\Mouse5Day1Irre_2018.10.21_19_57_02_labeled.\n",
      "They are stored in the following folder: C:\\Users\\sipila\\work\\projects\\Tracking2ndRound-Pia-2019-06-05\\labeled-data\\Mouse5DayPost9Irre_2005.01.01_21_44_10_labeled.\n",
      "They are stored in the following folder: C:\\Users\\sipila\\work\\projects\\Tracking2ndRound-Pia-2019-06-05\\labeled-data\\Mouse6Day1Reg_2018.10.21_21_37_17_labeled.\n",
      "They are stored in the following folder: C:\\Users\\sipila\\work\\projects\\Tracking2ndRound-Pia-2019-06-05\\labeled-data\\Mouse6Day4Irre_2018.10.24_19_40_46_labeled.\n",
      "They are stored in the following folder: C:\\Users\\sipila\\work\\projects\\Tracking2ndRound-Pia-2019-06-05\\labeled-data\\Mouse7Day3Reg_2018.10.23_13_21_45_labeled.\n",
      "They are stored in the following folder: C:\\Users\\sipila\\work\\projects\\Tracking2ndRound-Pia-2019-06-05\\labeled-data\\Mouse7DayPost5Reg_2018.11.06_18_41_21_labeled.\n",
      "They are stored in the following folder: C:\\Users\\sipila\\work\\projects\\Tracking2ndRound-Pia-2019-06-05\\labeled-data\\Mouse8Day3Reg_2018.10.23_14_56_14_labeled.\n",
      "They are stored in the following folder: C:\\Users\\sipila\\work\\projects\\Tracking2ndRound-Pia-2019-06-05\\labeled-data\\Mouse8DayPost9Reg_2005.01.01_23_57_42_labeled.\n",
      "If all the labels are ok, then use the function 'create_training_dataset' to create the training dataset!\n"
     ]
    }
   ],
   "source": [
    "deeplabcut.check_labels(path_config_file) #this creates a subdirectory with the frames + your labels"
   ]
  },
  {
   "cell_type": "markdown",
   "metadata": {
    "colab_type": "text",
    "id": "8ib0uvhaoEJx"
   },
   "source": [
    "## Refine Labels [only if original labels are wrong]"
   ]
  },
  {
   "cell_type": "code",
   "execution_count": 0,
   "metadata": {
    "colab": {},
    "colab_type": "code",
    "collapsed": true,
    "id": "n_FpEXtyoEJy"
   },
   "outputs": [],
   "source": [
    "%gui wx\n",
    "deeplabcut.refine_labels(path_config_file)\n",
    "\n",
    "#Once all folders are relabeled, check them and advance. See how to check labels, above!\n",
    "deeplabcut.merge_datasets(path_config_file)"
   ]
  }
 ],
 "metadata": {
  "accelerator": "GPU",
  "colab": {
   "name": "Demo-yourowndata.ipynb",
   "provenance": [],
   "version": "0.3.2"
  },
  "kernelspec": {
   "display_name": "Python 3",
   "language": "python",
   "name": "python3"
  },
  "language_info": {
   "codemirror_mode": {
    "name": "ipython",
    "version": 3
   },
   "file_extension": ".py",
   "mimetype": "text/x-python",
   "name": "python",
   "nbconvert_exporter": "python",
   "pygments_lexer": "ipython3",
   "version": "3.6.7"
  },
  "varInspector": {
   "cols": {
    "lenName": 16,
    "lenType": 16,
    "lenVar": 40
   },
   "kernels_config": {
    "python": {
     "delete_cmd_postfix": "",
     "delete_cmd_prefix": "del ",
     "library": "var_list.py",
     "varRefreshCmd": "print(var_dic_list())"
    },
    "r": {
     "delete_cmd_postfix": ") ",
     "delete_cmd_prefix": "rm(",
     "library": "var_list.r",
     "varRefreshCmd": "cat(var_dic_list()) "
    }
   },
   "types_to_exclude": [
    "module",
    "function",
    "builtin_function_or_method",
    "instance",
    "_Feature"
   ],
   "window_display": false
  }
 },
 "nbformat": 4,
 "nbformat_minor": 1
}
