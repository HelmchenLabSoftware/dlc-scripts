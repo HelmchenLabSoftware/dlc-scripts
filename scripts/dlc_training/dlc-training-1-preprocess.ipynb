{
 "cells": [
  {
   "cell_type": "markdown",
   "metadata": {},
   "source": [
    "# DLC Training Preprocess\n",
    "\n",
    "**Plan:**\n",
    "1. Select videos for training\n",
    "2. Automatically extract some frames\n",
    "3. Manually label frames\n",
    "4. Check manual labeling (and correct it, if necessary)\n",
    "5. Create training set\n",
    "\n",
    "**After this notebook finishes:**\n",
    "1. Copy new project directory to server\n",
    "2. Run training and evaluation on the server\n",
    "3. Copy new project directory back from server, replacing current\n",
    "4. Proceed to postprocess notebook"
   ]
  },
  {
   "cell_type": "code",
   "execution_count": 1,
   "metadata": {
    "colab": {},
    "colab_type": "code",
    "id": "jqLZhp7EoEI0"
   },
   "outputs": [
    {
     "name": "stdout",
     "output_type": "stream",
     "text": [
      "Appended script directory /home/sipila/work/dlc-scripts/scripts\n"
     ]
    }
   ],
   "source": [
    "%matplotlib inline\n",
    "\n",
    "import deeplabcut\n",
    "\n",
    "# Append base directory\n",
    "import os,sys,inspect\n",
    "thispath = os.path.dirname(os.path.abspath(inspect.getfile(inspect.currentframe())))\n",
    "parpath = os.path.dirname(thispath)\n",
    "sys.path.append(parpath)\n",
    "print(\"Appended script directory\", parpath)\n",
    "\n",
    "from lib.qt_wrapper import gui_fname, gui_fnames, gui_fpath\n",
    "from lib.os_lib import getfiles_walk"
   ]
  },
  {
   "cell_type": "code",
   "execution_count": null,
   "metadata": {
    "colab": {},
    "colab_type": "code",
    "id": "c9DjG55FoEI7"
   },
   "outputs": [],
   "source": [
    "# USER: Enter task parameters\n",
    "task='JointRunTracking' # Enter the name of your experiment Task\n",
    "experimenter='Pia'      # Enter the name of the experimenter\n",
    "\n",
    "# GUI: Select working directory\n",
    "pwd_workdir = gui_fpath(\"Select new project directory...\", \"./\")\n",
    "if pwd_workdir == '':\n",
    "    raise ValueError(\"Bad working directory, try again\")\n",
    "\n",
    "# GUI: Select directory to look for videos\n",
    "pwd_videos = gui_fpath(\"Select videos directory...\", \"./\")\n",
    "if pwd_videos == '':\n",
    "    raise ValueError(\"Bad video directory, try again\")\n",
    "    \n",
    "# Automatically find paths to all videos given criteria\n",
    "allpaths = getfiles_walk(pwd_videos, keys=[\".avi\"], min_size=int(10**9))\n",
    "vid_paths = [os.path.join(path, name) for path, name in allpaths]\n",
    "\n",
    "# DEEPLABCUT: Create new project\n",
    "path_config_file = deeplabcut.create_new_project(task,experimenter,vid_paths, working_directory=pwd_workdir, copy_videos=False)"
   ]
  },
  {
   "cell_type": "markdown",
   "metadata": {},
   "source": [
    "<font color='red' size='22'>\n",
    "Now edit config.yaml by hand if necessary - change body part names and number of frames to pick\n",
    "</font>"
   ]
  },
  {
   "cell_type": "markdown",
   "metadata": {},
   "source": [
    "## Extract Frames from video"
   ]
  },
  {
   "cell_type": "code",
   "execution_count": 5,
   "metadata": {},
   "outputs": [
    {
     "name": "stdout",
     "output_type": "stream",
     "text": [
      "Config file read successfully.\n",
      "Do you want to extract (perhaps additional) frames for video: \\\\HIFOSRDC10\\Workspace\\Neurophysiology-Storage2\\Gallero\\mou_6\\2017_07_20\\widefield_labview\\session01\\Matt_files\\a 17-07-20 17-11-02.avi ?\n",
      "yes/noy\n"
     ]
    },
    {
     "name": "stderr",
     "output_type": "stream",
     "text": [
      "30it [00:00, 279.25it/s]"
     ]
    },
    {
     "name": "stdout",
     "output_type": "stream",
     "text": [
      "Extracting frames based on kmeans ...\n",
      "Kmeans-quantization based extracting of frames from 0.0  seconds to 2919.53  seconds.\n",
      "Extracting and downsampling... 87586  frames from the video.\n"
     ]
    },
    {
     "name": "stderr",
     "output_type": "stream",
     "text": [
      "87586it [03:35, 406.39it/s]\n"
     ]
    },
    {
     "name": "stdout",
     "output_type": "stream",
     "text": [
      "Kmeans clustering ... (this might take a while)\n",
      "Do you want to extract (perhaps additional) frames for video: \\\\HIFOSRDC10\\Workspace\\Neurophysiology-Storage2\\Gallero\\mou_6\\2017_07_20\\widefield_labview\\session02\\Matt_files\\b 17-07-20 18-00-46.avi ?\n",
      "yes/non\n",
      "Do you want to extract (perhaps additional) frames for video: \\\\HIFOSRDC10\\Workspace\\Neurophysiology-Storage2\\Gallero\\mou_6\\2017_07_20\\widefield_labview\\session03\\Matt_files\\b 17-07-20 18-21-36.avi ?\n",
      "yes/non\n",
      "Do you want to extract (perhaps additional) frames for video: \\\\HIFOSRDC10\\Workspace\\Neurophysiology-Storage2\\Gallero\\mou_6\\2017_07_20\\widefield_labview\\session04\\Matt_files\\d 17-07-20 19-23-15.avi ?\n",
      "yes/non\n",
      "\n",
      "Frames were selected.\n",
      "You can now label the frames using the function 'label_frames' (if you extracted enough frames for all videos).\n"
     ]
    }
   ],
   "source": [
    "deeplabcut.extract_frames(path_config_file, 'automatic', 'kmeans', crop=False, userfeedback=False)"
   ]
  },
  {
   "cell_type": "markdown",
   "metadata": {
    "colab_type": "text",
    "id": "Gjn6ZDonoEJH"
   },
   "source": [
    "## Label the extracted frames"
   ]
  },
  {
   "cell_type": "code",
   "execution_count": 2,
   "metadata": {
    "colab": {},
    "colab_type": "code",
    "id": "iyROSOiEoEJI",
    "scrolled": false
   },
   "outputs": [
    {
     "name": "stdout",
     "output_type": "stream",
     "text": [
      "You can now check the labels, using 'check_labels' before proceeding. Then, you can use the function 'create_training_dataset' to create the training dataset.\n"
     ]
    }
   ],
   "source": [
    "%gui wx\n",
    "\n",
    "# Uncomment if GUI crashed, enter path to config.yaml from above\n",
    "# path_config_file = \"C:\\Users\\gallero\\Documents\\deeplabcut\\myprojects\\YasirWhiskers-Yasir-2020-02-17\\YasirWhiskers-Yasir-2020-02-17\\config.yaml\"\n",
    "path_config_file = \"/home/sipila/work/projects/JointRunTracking-Pia-2020-03-04/config.yaml\"\n",
    "\n",
    "deeplabcut.label_frames(path_config_file)"
   ]
  },
  {
   "cell_type": "markdown",
   "metadata": {
    "colab_type": "text",
    "id": "vim95ZvkPSeN"
   },
   "source": [
    "## Check the labels"
   ]
  },
  {
   "cell_type": "code",
   "execution_count": 2,
   "metadata": {},
   "outputs": [
    {
     "data": {
      "image/png": "[encoded data removed]",
      "text/plain": [
       "<Figure size 432x288 with 1 Axes>"
      ]
     },
     "metadata": {
      "needs_background": "light"
     },
     "output_type": "display_data"
    }
   ],
   "source": [
    "%matplotlib inline\n",
    "import matplotlib.pyplot as plt\n",
    "\n",
    "plt.figure()\n",
    "plt.plot([1,2,3,4,5])\n",
    "plt.show()"
   ]
  },
  {
   "cell_type": "code",
   "execution_count": null,
   "metadata": {
    "colab": {},
    "colab_type": "code",
    "id": "NwvgPJouPP2O",
    "scrolled": false
   },
   "outputs": [
    {
     "name": "stdout",
     "output_type": "stream",
     "text": [
      "Creating images with labels by Pia.\n",
      "They are stored in the following folder: /home/sipila/work/projects/JointRunTracking-Pia-2020-03-04/labeled-data/2005.01.01_20_10_08_labeled.\n",
      "They are stored in the following folder: /home/sipila/work/projects/JointRunTracking-Pia-2020-03-04/labeled-data/2005.01.01_20_10_40_labeled.\n",
      "They are stored in the following folder: /home/sipila/work/projects/JointRunTracking-Pia-2020-03-04/labeled-data/2005.01.01_20_12_15_labeled.\n",
      "They are stored in the following folder: /home/sipila/work/projects/JointRunTracking-Pia-2020-03-04/labeled-data/2005.01.01_20_12_48_labeled.\n",
      "They are stored in the following folder: /home/sipila/work/projects/JointRunTracking-Pia-2020-03-04/labeled-data/2005.01.01_20_15_19_labeled.\n",
      "They are stored in the following folder: /home/sipila/work/projects/JointRunTracking-Pia-2020-03-04/labeled-data/2005.01.01_20_44_53_labeled.\n",
      "They are stored in the following folder: /home/sipila/work/projects/JointRunTracking-Pia-2020-03-04/labeled-data/2005.01.01_21_12_28_labeled.\n",
      "They are stored in the following folder: /home/sipila/work/projects/JointRunTracking-Pia-2020-03-04/labeled-data/2005.01.01_21_16_48_labeled.\n",
      "They are stored in the following folder: /home/sipila/work/projects/JointRunTracking-Pia-2020-03-04/labeled-data/2005.01.01_21_17_29_labeled.\n",
      "They are stored in the following folder: /home/sipila/work/projects/JointRunTracking-Pia-2020-03-04/labeled-data/2005.01.01_21_21_12_labeled.\n",
      "They are stored in the following folder: /home/sipila/work/projects/JointRunTracking-Pia-2020-03-04/labeled-data/2005.01.01_21_23_02_labeled.\n"
     ]
    }
   ],
   "source": [
    "path_config_file = \"/home/sipila/work/projects/JointRunTracking-Pia-2020-03-04/config.yaml\"\n",
    "deeplabcut.check_labels(path_config_file) #this creates a subdirectory with the frames + your labels"
   ]
  },
  {
   "cell_type": "code",
   "execution_count": null,
   "metadata": {},
   "outputs": [],
   "source": []
  }
 ],
 "metadata": {
  "accelerator": "GPU",
  "colab": {
   "name": "Demo-yourowndata.ipynb",
   "provenance": [],
   "version": "0.3.2"
  },
  "kernelspec": {
   "display_name": "DLC Env",
   "language": "python",
   "name": "dlc-windowscpu"
  },
  "language_info": {
   "codemirror_mode": {
    "name": "ipython",
    "version": 3
   },
   "file_extension": ".py",
   "mimetype": "text/x-python",
   "name": "python",
   "nbconvert_exporter": "python",
   "pygments_lexer": "ipython3",
   "version": "3.6.10"
  },
  "varInspector": {
   "cols": {
    "lenName": 16,
    "lenType": 16,
    "lenVar": 40
   },
   "kernels_config": {
    "python": {
     "delete_cmd_postfix": "",
     "delete_cmd_prefix": "del ",
     "library": "var_list.py",
     "varRefreshCmd": "print(var_dic_list())"
    },
    "r": {
     "delete_cmd_postfix": ") ",
     "delete_cmd_prefix": "rm(",
     "library": "var_list.r",
     "varRefreshCmd": "cat(var_dic_list()) "
    }
   },
   "types_to_exclude": [
    "module",
    "function",
    "builtin_function_or_method",
    "instance",
    "_Feature"
   ],
   "window_display": false
  }
 },
 "nbformat": 4,
 "nbformat_minor": 1
}
